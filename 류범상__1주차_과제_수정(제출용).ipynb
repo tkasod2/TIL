{
  "nbformat": 4,
  "nbformat_minor": 0,
  "metadata": {
    "colab": {
      "name": "류범상_ - 1주차_과제_수정(제출용)",
      "provenance": [],
      "collapsed_sections": [],
      "include_colab_link": true
    },
    "kernelspec": {
      "name": "python3",
      "display_name": "Python 3"
    },
    "language_info": {
      "name": "python"
    }
  },
  "cells": [
    {
      "cell_type": "markdown",
      "metadata": {
        "id": "view-in-github",
        "colab_type": "text"
      },
      "source": [
        "<a href=\"https://colab.research.google.com/github/tkasod2/TIL/blob/main/%EB%A5%98%EB%B2%94%EC%83%81__1%E1%84%8C%E1%85%AE%E1%84%8E%E1%85%A1_%E1%84%80%E1%85%AA%E1%84%8C%E1%85%A6_%EC%88%98%EC%A0%95(%EC%A0%9C%EC%B6%9C%EC%9A%A9).ipynb\" target=\"_parent\"><img src=\"https://colab.research.google.com/assets/colab-badge.svg\" alt=\"Open In Colab\"/></a>"
      ]
    },
    {
      "cell_type": "markdown",
      "metadata": {
        "id": "hggasvTwsCxE"
      },
      "source": [
        "### 1. 아래 요구사항에 맞게 함수를 구현하세요. (30점)\n",
        "\n",
        "날짜 별 날씨 데이터를 구했으나 날짜와 날씨가 문자열로 붙어있는 형태여서 읽기나 처리하기가 어려운 상황이라고 가정해봅시다. 이 데이터를 딕셔너리 형태로 가공하려고 합니다.\n",
        "\n",
        "아래 assert문이 통과되도록 process_data 함수를 구현하세요."
      ]
    },
    {
      "cell_type": "code",
      "metadata": {
        "id": "6bYPD25MsTXi"
      },
      "source": [
        "def process_data(data):\n",
        "  # raise NotImplementedError # 이 부분을 작성해 주세요.\n",
        "  lst = []\n",
        "  for string in data:\n",
        "    a = string[-8:]\n",
        "    b = string[:-8]\n",
        "    dict_ = {'date':a, 'weather': b}\n",
        "    lst.append(dict_)\n",
        "  return lst\n",
        "\n",
        "\n",
        "\n",
        "\n",
        "\n",
        "  \n"
      ],
      "execution_count": null,
      "outputs": []
    },
    {
      "cell_type": "code",
      "metadata": {
        "id": "t3ZrLRJF__Yd"
      },
      "source": [
        "# 데이터와 테스트 코드는 수정하지 마세요.\n",
        "raw_data = ['Sunny20210101', 'Rainy20210102', 'Cloudy20210103']\n",
        "processed_data = [{'weather': 'Sunny', 'date': '20210101'}, {'weather': 'Rainy', 'date': '20210102'}, {'weather': 'Cloudy', 'date': '20210103'}]\n",
        "\n",
        "assert process_data(raw_data) == processed_data"
      ],
      "execution_count": null,
      "outputs": []
    },
    {
      "cell_type": "markdown",
      "metadata": {
        "id": "HH7K1pPOjskf"
      },
      "source": [
        "---"
      ]
    },
    {
      "cell_type": "markdown",
      "metadata": {
        "id": "z8ZDOF3Gsqry"
      },
      "source": [
        "###2. 카운터 함수를 구현해 주세요. (30점)\n",
        "\n",
        "주어진 리스트에서 각 아이템이 몇개씩 등장했는지 세는 함수를 구현하려고 합니다. 이 함수는 리스트 변수를 입력으로 받고 딕셔너리를 출력하는데, 딕셔너리의 각 쌍의 키는 아이템이고 값은 해당 아이템이 출현한 횟수입니다.\n",
        "\n",
        "파이썬의 기본 기능 외의 라이브러리를 쓰지 않고 구현해 주세요."
      ]
    },
    {
      "cell_type": "code",
      "metadata": {
        "id": "Lx5gUL5WszuN"
      },
      "source": [
        "def count(data):\n",
        "  # raise NotImplementedError # 이 부분을 구현해 주세요.\n",
        "  words_dict = {}\n",
        "  for word in data:\n",
        "    if word not in words_dict:\n",
        "        words_dict[word] = 1\n",
        "    else: \n",
        "        words_dict[word] += 1\n",
        "  return words_dict\n",
        "\n",
        "\n",
        "\n",
        "\n",
        "\n",
        "\n",
        "\n"
      ],
      "execution_count": null,
      "outputs": []
    },
    {
      "cell_type": "code",
      "metadata": {
        "id": "dtVFSPYEtZU2"
      },
      "source": [
        "# 데이터와 테스트 코드는 수정하지 마세요.\n",
        "\n",
        "assert count([\"A\", \"B\", \"C\"]) == {\"A\": 1, \"B\": 1, \"C\": 1}\n",
        "assert count([\"A\", \"A\", \"B\", \"C\", \"C\", \"C\"]) == {\"A\": 2, \"B\": 1, \"C\": 3}\n",
        "assert count([\"D\", \"A\", \"D\", \"B\", \"C\", \"A\", \"C\"]) == {\"A\": 2, \"B\": 1, \"C\": 2, \"D\": 2}"
      ],
      "execution_count": null,
      "outputs": []
    },
    {
      "cell_type": "markdown",
      "metadata": {
        "id": "iNJCFsItsXdq"
      },
      "source": [
        "###3. 아래 요구사항에 맞게 함수를 구현하세요. (40점)\n",
        "\n",
        "날짜 별, 지역 별 매출 데이터가 있습니다. 그런데 매출의 데이터 형식이 문자열로 들어가 있고, 중간에 빠진 값이 있습니다.\n",
        "매출의 데이터 형식을 숫자형으로 바꾸고 결측치를 제외한 지역 별 평균 매출을 구해보세요.\n",
        "\n",
        "Hint: 판다스의 groupby를 사용해 보세요.\n"
      ]
    },
    {
      "cell_type": "code",
      "metadata": {
        "id": "JwgovUgGDk2Y"
      },
      "source": [
        "import pandas as pd\n",
        "\n",
        "def average_by_region(data):\n",
        "  # raise NotImplementedError # 이 부분을 작성해 주세요.\n",
        "  data['매출'] = pd.to_numeric(data['매출'])\n",
        "  summary_data = data.groupby(by='지역').mean()\n",
        "  return summary_data['매출']\n"
      ],
      "execution_count": null,
      "outputs": []
    },
    {
      "cell_type": "code",
      "metadata": {
        "id": "kzjI50DMsjZl"
      },
      "source": [
        "# 데이터와 테스트 코드는 수정하지 마세요.\n",
        "\n",
        "raw_data = pd.DataFrame(\n",
        "    [{\"날짜\": \"20210101\", \"지역\": \"서울\", \"매출\": \"10\"},\n",
        "     {\"날짜\": \"20210101\", \"지역\": \"부산\", \"매출\": \"20\"},\n",
        "     {\"날짜\": \"20210101\", \"지역\": \"제주\", \"매출\": \"8\"},\n",
        "     {\"날짜\": \"20210102\", \"지역\": \"서울\", \"매출\": \"15\"},\n",
        "     {\"날짜\": \"20210102\", \"지역\": \"부산\", \"매출\": None},\n",
        "     {\"날짜\": \"20210102\", \"지역\": \"제주\", \"매출\": \"10\"}]\n",
        "  )\n",
        "\n",
        "result = pd.Series([20.0, 12.5, 9.0], index=['부산', '서울', '제주'])\n",
        "\n",
        "assert average_by_region(raw_data).equals(result) # 판다스 시리즈(Series)의 equals는 두 시리즈의 내용이 같은지 검사한다."
      ],
      "execution_count": null,
      "outputs": []
    },
    {
      "cell_type": "code",
      "metadata": {
        "id": "fW5sfLOQc9NG"
      },
      "source": [
        ""
      ],
      "execution_count": null,
      "outputs": []
    }
  ]
}