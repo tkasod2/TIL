{
  "nbformat": 4,
  "nbformat_minor": 0,
  "metadata": {
    "colab": {
      "name": "HAICon2021_09021620.ipynb",
      "provenance": [],
      "collapsed_sections": []
    },
    "kernelspec": {
      "name": "python3",
      "display_name": "Python 3"
    },
    "language_info": {
      "name": "python"
    },
    "accelerator": "GPU",
    "widgets": {
      "application/vnd.jupyter.widget-state+json": {
        "9e5255ccb34a4c859d3953c0c1241ac1": {
          "model_module": "@jupyter-widgets/controls",
          "model_name": "HBoxModel",
          "model_module_version": "1.5.0",
          "state": {
            "_view_name": "HBoxView",
            "_dom_classes": [],
            "_model_name": "HBoxModel",
            "_view_module": "@jupyter-widgets/controls",
            "_model_module_version": "1.5.0",
            "_view_count": null,
            "_view_module_version": "1.5.0",
            "box_style": "",
            "layout": "IPY_MODEL_f199365b4cbd405b8e67e7ca8c154805",
            "_model_module": "@jupyter-widgets/controls",
            "children": [
              "IPY_MODEL_6f927fe89b034e079f4d3a94f072c59a",
              "IPY_MODEL_ee64ad182c7147f0b0a80f671450f6f8",
              "IPY_MODEL_2c180471d1994f488ddf3e80c88db9d7"
            ]
          }
        },
        "f199365b4cbd405b8e67e7ca8c154805": {
          "model_module": "@jupyter-widgets/base",
          "model_name": "LayoutModel",
          "model_module_version": "1.2.0",
          "state": {
            "_view_name": "LayoutView",
            "grid_template_rows": null,
            "right": null,
            "justify_content": null,
            "_view_module": "@jupyter-widgets/base",
            "overflow": null,
            "_model_module_version": "1.2.0",
            "_view_count": null,
            "flex_flow": null,
            "width": null,
            "min_width": null,
            "border": null,
            "align_items": null,
            "bottom": null,
            "_model_module": "@jupyter-widgets/base",
            "top": null,
            "grid_column": null,
            "overflow_y": null,
            "overflow_x": null,
            "grid_auto_flow": null,
            "grid_area": null,
            "grid_template_columns": null,
            "flex": null,
            "_model_name": "LayoutModel",
            "justify_items": null,
            "grid_row": null,
            "max_height": null,
            "align_content": null,
            "visibility": null,
            "align_self": null,
            "height": null,
            "min_height": null,
            "padding": null,
            "grid_auto_rows": null,
            "grid_gap": null,
            "max_width": null,
            "order": null,
            "_view_module_version": "1.2.0",
            "grid_template_areas": null,
            "object_position": null,
            "object_fit": null,
            "grid_auto_columns": null,
            "margin": null,
            "display": null,
            "left": null
          }
        },
        "6f927fe89b034e079f4d3a94f072c59a": {
          "model_module": "@jupyter-widgets/controls",
          "model_name": "HTMLModel",
          "model_module_version": "1.5.0",
          "state": {
            "_view_name": "HTMLView",
            "style": "IPY_MODEL_8052c5660103463a9109af007897726b",
            "_dom_classes": [],
            "description": "",
            "_model_name": "HTMLModel",
            "placeholder": "​",
            "_view_module": "@jupyter-widgets/controls",
            "_model_module_version": "1.5.0",
            "value": "100%",
            "_view_count": null,
            "_view_module_version": "1.5.0",
            "description_tooltip": null,
            "_model_module": "@jupyter-widgets/controls",
            "layout": "IPY_MODEL_fa25852b81b74f0d80aac4ff377c0bd1"
          }
        },
        "ee64ad182c7147f0b0a80f671450f6f8": {
          "model_module": "@jupyter-widgets/controls",
          "model_name": "FloatProgressModel",
          "model_module_version": "1.5.0",
          "state": {
            "_view_name": "ProgressView",
            "style": "IPY_MODEL_7cbce7aa06b244ca96bfa03cb4dcdea8",
            "_dom_classes": [],
            "description": "",
            "_model_name": "FloatProgressModel",
            "bar_style": "success",
            "max": 1004333,
            "_view_module": "@jupyter-widgets/controls",
            "_model_module_version": "1.5.0",
            "value": 1004333,
            "_view_count": null,
            "_view_module_version": "1.5.0",
            "orientation": "horizontal",
            "min": 0,
            "description_tooltip": null,
            "_model_module": "@jupyter-widgets/controls",
            "layout": "IPY_MODEL_b6c8a05144c44c5f9b85765927617d96"
          }
        },
        "2c180471d1994f488ddf3e80c88db9d7": {
          "model_module": "@jupyter-widgets/controls",
          "model_name": "HTMLModel",
          "model_module_version": "1.5.0",
          "state": {
            "_view_name": "HTMLView",
            "style": "IPY_MODEL_b67cfb0f5cf94343ac3af5b430bd7a1d",
            "_dom_classes": [],
            "description": "",
            "_model_name": "HTMLModel",
            "placeholder": "​",
            "_view_module": "@jupyter-widgets/controls",
            "_model_module_version": "1.5.0",
            "value": " 1004333/1004333 [03:11&lt;00:00, 5440.22it/s]",
            "_view_count": null,
            "_view_module_version": "1.5.0",
            "description_tooltip": null,
            "_model_module": "@jupyter-widgets/controls",
            "layout": "IPY_MODEL_30c08ec846e94703898aabc759de570a"
          }
        },
        "8052c5660103463a9109af007897726b": {
          "model_module": "@jupyter-widgets/controls",
          "model_name": "DescriptionStyleModel",
          "model_module_version": "1.5.0",
          "state": {
            "_view_name": "StyleView",
            "_model_name": "DescriptionStyleModel",
            "description_width": "",
            "_view_module": "@jupyter-widgets/base",
            "_model_module_version": "1.5.0",
            "_view_count": null,
            "_view_module_version": "1.2.0",
            "_model_module": "@jupyter-widgets/controls"
          }
        },
        "fa25852b81b74f0d80aac4ff377c0bd1": {
          "model_module": "@jupyter-widgets/base",
          "model_name": "LayoutModel",
          "model_module_version": "1.2.0",
          "state": {
            "_view_name": "LayoutView",
            "grid_template_rows": null,
            "right": null,
            "justify_content": null,
            "_view_module": "@jupyter-widgets/base",
            "overflow": null,
            "_model_module_version": "1.2.0",
            "_view_count": null,
            "flex_flow": null,
            "width": null,
            "min_width": null,
            "border": null,
            "align_items": null,
            "bottom": null,
            "_model_module": "@jupyter-widgets/base",
            "top": null,
            "grid_column": null,
            "overflow_y": null,
            "overflow_x": null,
            "grid_auto_flow": null,
            "grid_area": null,
            "grid_template_columns": null,
            "flex": null,
            "_model_name": "LayoutModel",
            "justify_items": null,
            "grid_row": null,
            "max_height": null,
            "align_content": null,
            "visibility": null,
            "align_self": null,
            "height": null,
            "min_height": null,
            "padding": null,
            "grid_auto_rows": null,
            "grid_gap": null,
            "max_width": null,
            "order": null,
            "_view_module_version": "1.2.0",
            "grid_template_areas": null,
            "object_position": null,
            "object_fit": null,
            "grid_auto_columns": null,
            "margin": null,
            "display": null,
            "left": null
          }
        },
        "7cbce7aa06b244ca96bfa03cb4dcdea8": {
          "model_module": "@jupyter-widgets/controls",
          "model_name": "ProgressStyleModel",
          "model_module_version": "1.5.0",
          "state": {
            "_view_name": "StyleView",
            "_model_name": "ProgressStyleModel",
            "description_width": "",
            "_view_module": "@jupyter-widgets/base",
            "_model_module_version": "1.5.0",
            "_view_count": null,
            "_view_module_version": "1.2.0",
            "bar_color": null,
            "_model_module": "@jupyter-widgets/controls"
          }
        },
        "b6c8a05144c44c5f9b85765927617d96": {
          "model_module": "@jupyter-widgets/base",
          "model_name": "LayoutModel",
          "model_module_version": "1.2.0",
          "state": {
            "_view_name": "LayoutView",
            "grid_template_rows": null,
            "right": null,
            "justify_content": null,
            "_view_module": "@jupyter-widgets/base",
            "overflow": null,
            "_model_module_version": "1.2.0",
            "_view_count": null,
            "flex_flow": null,
            "width": null,
            "min_width": null,
            "border": null,
            "align_items": null,
            "bottom": null,
            "_model_module": "@jupyter-widgets/base",
            "top": null,
            "grid_column": null,
            "overflow_y": null,
            "overflow_x": null,
            "grid_auto_flow": null,
            "grid_area": null,
            "grid_template_columns": null,
            "flex": null,
            "_model_name": "LayoutModel",
            "justify_items": null,
            "grid_row": null,
            "max_height": null,
            "align_content": null,
            "visibility": null,
            "align_self": null,
            "height": null,
            "min_height": null,
            "padding": null,
            "grid_auto_rows": null,
            "grid_gap": null,
            "max_width": null,
            "order": null,
            "_view_module_version": "1.2.0",
            "grid_template_areas": null,
            "object_position": null,
            "object_fit": null,
            "grid_auto_columns": null,
            "margin": null,
            "display": null,
            "left": null
          }
        },
        "b67cfb0f5cf94343ac3af5b430bd7a1d": {
          "model_module": "@jupyter-widgets/controls",
          "model_name": "DescriptionStyleModel",
          "model_module_version": "1.5.0",
          "state": {
            "_view_name": "StyleView",
            "_model_name": "DescriptionStyleModel",
            "description_width": "",
            "_view_module": "@jupyter-widgets/base",
            "_model_module_version": "1.5.0",
            "_view_count": null,
            "_view_module_version": "1.2.0",
            "_model_module": "@jupyter-widgets/controls"
          }
        },
        "30c08ec846e94703898aabc759de570a": {
          "model_module": "@jupyter-widgets/base",
          "model_name": "LayoutModel",
          "model_module_version": "1.2.0",
          "state": {
            "_view_name": "LayoutView",
            "grid_template_rows": null,
            "right": null,
            "justify_content": null,
            "_view_module": "@jupyter-widgets/base",
            "overflow": null,
            "_model_module_version": "1.2.0",
            "_view_count": null,
            "flex_flow": null,
            "width": null,
            "min_width": null,
            "border": null,
            "align_items": null,
            "bottom": null,
            "_model_module": "@jupyter-widgets/base",
            "top": null,
            "grid_column": null,
            "overflow_y": null,
            "overflow_x": null,
            "grid_auto_flow": null,
            "grid_area": null,
            "grid_template_columns": null,
            "flex": null,
            "_model_name": "LayoutModel",
            "justify_items": null,
            "grid_row": null,
            "max_height": null,
            "align_content": null,
            "visibility": null,
            "align_self": null,
            "height": null,
            "min_height": null,
            "padding": null,
            "grid_auto_rows": null,
            "grid_gap": null,
            "max_width": null,
            "order": null,
            "_view_module_version": "1.2.0",
            "grid_template_areas": null,
            "object_position": null,
            "object_fit": null,
            "grid_auto_columns": null,
            "margin": null,
            "display": null,
            "left": null
          }
        },
        "c945807391eb4ab0841f3ca78e91e6ff": {
          "model_module": "@jupyter-widgets/controls",
          "model_name": "HBoxModel",
          "model_module_version": "1.5.0",
          "state": {
            "_view_name": "HBoxView",
            "_dom_classes": [],
            "_model_name": "HBoxModel",
            "_view_module": "@jupyter-widgets/controls",
            "_model_module_version": "1.5.0",
            "_view_count": null,
            "_view_module_version": "1.5.0",
            "box_style": "",
            "layout": "IPY_MODEL_23bd08afdd0c4a348702f8d8b44560de",
            "_model_module": "@jupyter-widgets/controls",
            "children": [
              "IPY_MODEL_9ed80e6f72664e6d8f25745bed656a20",
              "IPY_MODEL_c0a4f00ba8de4c4c89c4e9b480436645",
              "IPY_MODEL_4c81375bf23244ae95478e2a6d8f468b"
            ]
          }
        },
        "23bd08afdd0c4a348702f8d8b44560de": {
          "model_module": "@jupyter-widgets/base",
          "model_name": "LayoutModel",
          "model_module_version": "1.2.0",
          "state": {
            "_view_name": "LayoutView",
            "grid_template_rows": null,
            "right": null,
            "justify_content": null,
            "_view_module": "@jupyter-widgets/base",
            "overflow": null,
            "_model_module_version": "1.2.0",
            "_view_count": null,
            "flex_flow": null,
            "width": null,
            "min_width": null,
            "border": null,
            "align_items": null,
            "bottom": null,
            "_model_module": "@jupyter-widgets/base",
            "top": null,
            "grid_column": null,
            "overflow_y": null,
            "overflow_x": null,
            "grid_auto_flow": null,
            "grid_area": null,
            "grid_template_columns": null,
            "flex": null,
            "_model_name": "LayoutModel",
            "justify_items": null,
            "grid_row": null,
            "max_height": null,
            "align_content": null,
            "visibility": null,
            "align_self": null,
            "height": null,
            "min_height": null,
            "padding": null,
            "grid_auto_rows": null,
            "grid_gap": null,
            "max_width": null,
            "order": null,
            "_view_module_version": "1.2.0",
            "grid_template_areas": null,
            "object_position": null,
            "object_fit": null,
            "grid_auto_columns": null,
            "margin": null,
            "display": null,
            "left": null
          }
        },
        "9ed80e6f72664e6d8f25745bed656a20": {
          "model_module": "@jupyter-widgets/controls",
          "model_name": "HTMLModel",
          "model_module_version": "1.5.0",
          "state": {
            "_view_name": "HTMLView",
            "style": "IPY_MODEL_702df37d18f94f718d7789c14d12a0e0",
            "_dom_classes": [],
            "description": "",
            "_model_name": "HTMLModel",
            "placeholder": "​",
            "_view_module": "@jupyter-widgets/controls",
            "_model_module_version": "1.5.0",
            "value": "training: 100%",
            "_view_count": null,
            "_view_module_version": "1.5.0",
            "description_tooltip": null,
            "_model_module": "@jupyter-widgets/controls",
            "layout": "IPY_MODEL_b062f9034ea441aeaac30f331e3541d6"
          }
        },
        "c0a4f00ba8de4c4c89c4e9b480436645": {
          "model_module": "@jupyter-widgets/controls",
          "model_name": "FloatProgressModel",
          "model_module_version": "1.5.0",
          "state": {
            "_view_name": "ProgressView",
            "style": "IPY_MODEL_cc84d2e7feec4e0da857da6747ceec06",
            "_dom_classes": [],
            "description": "",
            "_model_name": "FloatProgressModel",
            "bar_style": "success",
            "max": 20,
            "_view_module": "@jupyter-widgets/controls",
            "_model_module_version": "1.5.0",
            "value": 20,
            "_view_count": null,
            "_view_module_version": "1.5.0",
            "orientation": "horizontal",
            "min": 0,
            "description_tooltip": null,
            "_model_module": "@jupyter-widgets/controls",
            "layout": "IPY_MODEL_3f65e6fa56cc42c48c61880b1212ca46"
          }
        },
        "4c81375bf23244ae95478e2a6d8f468b": {
          "model_module": "@jupyter-widgets/controls",
          "model_name": "HTMLModel",
          "model_module_version": "1.5.0",
          "state": {
            "_view_name": "HTMLView",
            "style": "IPY_MODEL_35c70c69d2284ab9ac40d77b5fafdeb6",
            "_dom_classes": [],
            "description": "",
            "_model_name": "HTMLModel",
            "placeholder": "​",
            "_view_module": "@jupyter-widgets/controls",
            "_model_module_version": "1.5.0",
            "value": " 20/20 [5:15:19&lt;00:00, 945.49s/it, loss: 0.497112]",
            "_view_count": null,
            "_view_module_version": "1.5.0",
            "description_tooltip": null,
            "_model_module": "@jupyter-widgets/controls",
            "layout": "IPY_MODEL_70d211eb5331499698db41bd6cef585a"
          }
        },
        "702df37d18f94f718d7789c14d12a0e0": {
          "model_module": "@jupyter-widgets/controls",
          "model_name": "DescriptionStyleModel",
          "model_module_version": "1.5.0",
          "state": {
            "_view_name": "StyleView",
            "_model_name": "DescriptionStyleModel",
            "description_width": "",
            "_view_module": "@jupyter-widgets/base",
            "_model_module_version": "1.5.0",
            "_view_count": null,
            "_view_module_version": "1.2.0",
            "_model_module": "@jupyter-widgets/controls"
          }
        },
        "b062f9034ea441aeaac30f331e3541d6": {
          "model_module": "@jupyter-widgets/base",
          "model_name": "LayoutModel",
          "model_module_version": "1.2.0",
          "state": {
            "_view_name": "LayoutView",
            "grid_template_rows": null,
            "right": null,
            "justify_content": null,
            "_view_module": "@jupyter-widgets/base",
            "overflow": null,
            "_model_module_version": "1.2.0",
            "_view_count": null,
            "flex_flow": null,
            "width": null,
            "min_width": null,
            "border": null,
            "align_items": null,
            "bottom": null,
            "_model_module": "@jupyter-widgets/base",
            "top": null,
            "grid_column": null,
            "overflow_y": null,
            "overflow_x": null,
            "grid_auto_flow": null,
            "grid_area": null,
            "grid_template_columns": null,
            "flex": null,
            "_model_name": "LayoutModel",
            "justify_items": null,
            "grid_row": null,
            "max_height": null,
            "align_content": null,
            "visibility": null,
            "align_self": null,
            "height": null,
            "min_height": null,
            "padding": null,
            "grid_auto_rows": null,
            "grid_gap": null,
            "max_width": null,
            "order": null,
            "_view_module_version": "1.2.0",
            "grid_template_areas": null,
            "object_position": null,
            "object_fit": null,
            "grid_auto_columns": null,
            "margin": null,
            "display": null,
            "left": null
          }
        },
        "cc84d2e7feec4e0da857da6747ceec06": {
          "model_module": "@jupyter-widgets/controls",
          "model_name": "ProgressStyleModel",
          "model_module_version": "1.5.0",
          "state": {
            "_view_name": "StyleView",
            "_model_name": "ProgressStyleModel",
            "description_width": "",
            "_view_module": "@jupyter-widgets/base",
            "_model_module_version": "1.5.0",
            "_view_count": null,
            "_view_module_version": "1.2.0",
            "bar_color": null,
            "_model_module": "@jupyter-widgets/controls"
          }
        },
        "3f65e6fa56cc42c48c61880b1212ca46": {
          "model_module": "@jupyter-widgets/base",
          "model_name": "LayoutModel",
          "model_module_version": "1.2.0",
          "state": {
            "_view_name": "LayoutView",
            "grid_template_rows": null,
            "right": null,
            "justify_content": null,
            "_view_module": "@jupyter-widgets/base",
            "overflow": null,
            "_model_module_version": "1.2.0",
            "_view_count": null,
            "flex_flow": null,
            "width": null,
            "min_width": null,
            "border": null,
            "align_items": null,
            "bottom": null,
            "_model_module": "@jupyter-widgets/base",
            "top": null,
            "grid_column": null,
            "overflow_y": null,
            "overflow_x": null,
            "grid_auto_flow": null,
            "grid_area": null,
            "grid_template_columns": null,
            "flex": null,
            "_model_name": "LayoutModel",
            "justify_items": null,
            "grid_row": null,
            "max_height": null,
            "align_content": null,
            "visibility": null,
            "align_self": null,
            "height": null,
            "min_height": null,
            "padding": null,
            "grid_auto_rows": null,
            "grid_gap": null,
            "max_width": null,
            "order": null,
            "_view_module_version": "1.2.0",
            "grid_template_areas": null,
            "object_position": null,
            "object_fit": null,
            "grid_auto_columns": null,
            "margin": null,
            "display": null,
            "left": null
          }
        },
        "35c70c69d2284ab9ac40d77b5fafdeb6": {
          "model_module": "@jupyter-widgets/controls",
          "model_name": "DescriptionStyleModel",
          "model_module_version": "1.5.0",
          "state": {
            "_view_name": "StyleView",
            "_model_name": "DescriptionStyleModel",
            "description_width": "",
            "_view_module": "@jupyter-widgets/base",
            "_model_module_version": "1.5.0",
            "_view_count": null,
            "_view_module_version": "1.2.0",
            "_model_module": "@jupyter-widgets/controls"
          }
        },
        "70d211eb5331499698db41bd6cef585a": {
          "model_module": "@jupyter-widgets/base",
          "model_name": "LayoutModel",
          "model_module_version": "1.2.0",
          "state": {
            "_view_name": "LayoutView",
            "grid_template_rows": null,
            "right": null,
            "justify_content": null,
            "_view_module": "@jupyter-widgets/base",
            "overflow": null,
            "_model_module_version": "1.2.0",
            "_view_count": null,
            "flex_flow": null,
            "width": null,
            "min_width": null,
            "border": null,
            "align_items": null,
            "bottom": null,
            "_model_module": "@jupyter-widgets/base",
            "top": null,
            "grid_column": null,
            "overflow_y": null,
            "overflow_x": null,
            "grid_auto_flow": null,
            "grid_area": null,
            "grid_template_columns": null,
            "flex": null,
            "_model_name": "LayoutModel",
            "justify_items": null,
            "grid_row": null,
            "max_height": null,
            "align_content": null,
            "visibility": null,
            "align_self": null,
            "height": null,
            "min_height": null,
            "padding": null,
            "grid_auto_rows": null,
            "grid_gap": null,
            "max_width": null,
            "order": null,
            "_view_module_version": "1.2.0",
            "grid_template_areas": null,
            "object_position": null,
            "object_fit": null,
            "grid_auto_columns": null,
            "margin": null,
            "display": null,
            "left": null
          }
        },
        "4f9a5c71cb374bd084e92d4b0f331e58": {
          "model_module": "@jupyter-widgets/controls",
          "model_name": "HBoxModel",
          "model_module_version": "1.5.0",
          "state": {
            "_view_name": "HBoxView",
            "_dom_classes": [],
            "_model_name": "HBoxModel",
            "_view_module": "@jupyter-widgets/controls",
            "_model_module_version": "1.5.0",
            "_view_count": null,
            "_view_module_version": "1.5.0",
            "box_style": "",
            "layout": "IPY_MODEL_17309c70e77d485aa197e58e70dc0d97",
            "_model_module": "@jupyter-widgets/controls",
            "children": [
              "IPY_MODEL_cdd93c279891495a85e90deaa1bf9f1c",
              "IPY_MODEL_9e413e7777eb40a0b198cec6b34ccb3c",
              "IPY_MODEL_7bec7b8321564501aa29341003cbde19"
            ]
          }
        },
        "17309c70e77d485aa197e58e70dc0d97": {
          "model_module": "@jupyter-widgets/base",
          "model_name": "LayoutModel",
          "model_module_version": "1.2.0",
          "state": {
            "_view_name": "LayoutView",
            "grid_template_rows": null,
            "right": null,
            "justify_content": null,
            "_view_module": "@jupyter-widgets/base",
            "overflow": null,
            "_model_module_version": "1.2.0",
            "_view_count": null,
            "flex_flow": null,
            "width": null,
            "min_width": null,
            "border": null,
            "align_items": null,
            "bottom": null,
            "_model_module": "@jupyter-widgets/base",
            "top": null,
            "grid_column": null,
            "overflow_y": null,
            "overflow_x": null,
            "grid_auto_flow": null,
            "grid_area": null,
            "grid_template_columns": null,
            "flex": null,
            "_model_name": "LayoutModel",
            "justify_items": null,
            "grid_row": null,
            "max_height": null,
            "align_content": null,
            "visibility": null,
            "align_self": null,
            "height": null,
            "min_height": null,
            "padding": null,
            "grid_auto_rows": null,
            "grid_gap": null,
            "max_width": null,
            "order": null,
            "_view_module_version": "1.2.0",
            "grid_template_areas": null,
            "object_position": null,
            "object_fit": null,
            "grid_auto_columns": null,
            "margin": null,
            "display": null,
            "left": null
          }
        },
        "cdd93c279891495a85e90deaa1bf9f1c": {
          "model_module": "@jupyter-widgets/controls",
          "model_name": "HTMLModel",
          "model_module_version": "1.5.0",
          "state": {
            "_view_name": "HTMLView",
            "style": "IPY_MODEL_9d8ebafe85b04420aeee6e5d96be4e6f",
            "_dom_classes": [],
            "description": "",
            "_model_name": "HTMLModel",
            "placeholder": "​",
            "_view_module": "@jupyter-widgets/controls",
            "_model_module_version": "1.5.0",
            "value": "  8%",
            "_view_count": null,
            "_view_module_version": "1.5.0",
            "description_tooltip": null,
            "_model_module": "@jupyter-widgets/controls",
            "layout": "IPY_MODEL_7d7e00235ffe41869c3c08f6503f1baa"
          }
        },
        "9e413e7777eb40a0b198cec6b34ccb3c": {
          "model_module": "@jupyter-widgets/controls",
          "model_name": "FloatProgressModel",
          "model_module_version": "1.5.0",
          "state": {
            "_view_name": "ProgressView",
            "style": "IPY_MODEL_c2aafd59be614715913d5993327e6c2f",
            "_dom_classes": [],
            "description": "",
            "_model_name": "FloatProgressModel",
            "bar_style": "",
            "max": 1000,
            "_view_module": "@jupyter-widgets/controls",
            "_model_module_version": "1.5.0",
            "value": 82,
            "_view_count": null,
            "_view_module_version": "1.5.0",
            "orientation": "horizontal",
            "min": 0,
            "description_tooltip": null,
            "_model_module": "@jupyter-widgets/controls",
            "layout": "IPY_MODEL_5587febd7be748deabf507aed74c7def"
          }
        },
        "7bec7b8321564501aa29341003cbde19": {
          "model_module": "@jupyter-widgets/controls",
          "model_name": "HTMLModel",
          "model_module_version": "1.5.0",
          "state": {
            "_view_name": "HTMLView",
            "style": "IPY_MODEL_52c9af39bea54cb0bafe46d616cca2d6",
            "_dom_classes": [],
            "description": "",
            "_model_name": "HTMLModel",
            "placeholder": "​",
            "_view_module": "@jupyter-widgets/controls",
            "_model_module_version": "1.5.0",
            "value": " 82/1000 [22:12&lt;4:09:58, 16.34s/it]",
            "_view_count": null,
            "_view_module_version": "1.5.0",
            "description_tooltip": null,
            "_model_module": "@jupyter-widgets/controls",
            "layout": "IPY_MODEL_0945b5521c87494aba567d0912230eb5"
          }
        },
        "9d8ebafe85b04420aeee6e5d96be4e6f": {
          "model_module": "@jupyter-widgets/controls",
          "model_name": "DescriptionStyleModel",
          "model_module_version": "1.5.0",
          "state": {
            "_view_name": "StyleView",
            "_model_name": "DescriptionStyleModel",
            "description_width": "",
            "_view_module": "@jupyter-widgets/base",
            "_model_module_version": "1.5.0",
            "_view_count": null,
            "_view_module_version": "1.2.0",
            "_model_module": "@jupyter-widgets/controls"
          }
        },
        "7d7e00235ffe41869c3c08f6503f1baa": {
          "model_module": "@jupyter-widgets/base",
          "model_name": "LayoutModel",
          "model_module_version": "1.2.0",
          "state": {
            "_view_name": "LayoutView",
            "grid_template_rows": null,
            "right": null,
            "justify_content": null,
            "_view_module": "@jupyter-widgets/base",
            "overflow": null,
            "_model_module_version": "1.2.0",
            "_view_count": null,
            "flex_flow": null,
            "width": null,
            "min_width": null,
            "border": null,
            "align_items": null,
            "bottom": null,
            "_model_module": "@jupyter-widgets/base",
            "top": null,
            "grid_column": null,
            "overflow_y": null,
            "overflow_x": null,
            "grid_auto_flow": null,
            "grid_area": null,
            "grid_template_columns": null,
            "flex": null,
            "_model_name": "LayoutModel",
            "justify_items": null,
            "grid_row": null,
            "max_height": null,
            "align_content": null,
            "visibility": null,
            "align_self": null,
            "height": null,
            "min_height": null,
            "padding": null,
            "grid_auto_rows": null,
            "grid_gap": null,
            "max_width": null,
            "order": null,
            "_view_module_version": "1.2.0",
            "grid_template_areas": null,
            "object_position": null,
            "object_fit": null,
            "grid_auto_columns": null,
            "margin": null,
            "display": null,
            "left": null
          }
        },
        "c2aafd59be614715913d5993327e6c2f": {
          "model_module": "@jupyter-widgets/controls",
          "model_name": "ProgressStyleModel",
          "model_module_version": "1.5.0",
          "state": {
            "_view_name": "StyleView",
            "_model_name": "ProgressStyleModel",
            "description_width": "",
            "_view_module": "@jupyter-widgets/base",
            "_model_module_version": "1.5.0",
            "_view_count": null,
            "_view_module_version": "1.2.0",
            "bar_color": null,
            "_model_module": "@jupyter-widgets/controls"
          }
        },
        "5587febd7be748deabf507aed74c7def": {
          "model_module": "@jupyter-widgets/base",
          "model_name": "LayoutModel",
          "model_module_version": "1.2.0",
          "state": {
            "_view_name": "LayoutView",
            "grid_template_rows": null,
            "right": null,
            "justify_content": null,
            "_view_module": "@jupyter-widgets/base",
            "overflow": null,
            "_model_module_version": "1.2.0",
            "_view_count": null,
            "flex_flow": null,
            "width": null,
            "min_width": null,
            "border": null,
            "align_items": null,
            "bottom": null,
            "_model_module": "@jupyter-widgets/base",
            "top": null,
            "grid_column": null,
            "overflow_y": null,
            "overflow_x": null,
            "grid_auto_flow": null,
            "grid_area": null,
            "grid_template_columns": null,
            "flex": null,
            "_model_name": "LayoutModel",
            "justify_items": null,
            "grid_row": null,
            "max_height": null,
            "align_content": null,
            "visibility": null,
            "align_self": null,
            "height": null,
            "min_height": null,
            "padding": null,
            "grid_auto_rows": null,
            "grid_gap": null,
            "max_width": null,
            "order": null,
            "_view_module_version": "1.2.0",
            "grid_template_areas": null,
            "object_position": null,
            "object_fit": null,
            "grid_auto_columns": null,
            "margin": null,
            "display": null,
            "left": null
          }
        },
        "52c9af39bea54cb0bafe46d616cca2d6": {
          "model_module": "@jupyter-widgets/controls",
          "model_name": "DescriptionStyleModel",
          "model_module_version": "1.5.0",
          "state": {
            "_view_name": "StyleView",
            "_model_name": "DescriptionStyleModel",
            "description_width": "",
            "_view_module": "@jupyter-widgets/base",
            "_model_module_version": "1.5.0",
            "_view_count": null,
            "_view_module_version": "1.2.0",
            "_model_module": "@jupyter-widgets/controls"
          }
        },
        "0945b5521c87494aba567d0912230eb5": {
          "model_module": "@jupyter-widgets/base",
          "model_name": "LayoutModel",
          "model_module_version": "1.2.0",
          "state": {
            "_view_name": "LayoutView",
            "grid_template_rows": null,
            "right": null,
            "justify_content": null,
            "_view_module": "@jupyter-widgets/base",
            "overflow": null,
            "_model_module_version": "1.2.0",
            "_view_count": null,
            "flex_flow": null,
            "width": null,
            "min_width": null,
            "border": null,
            "align_items": null,
            "bottom": null,
            "_model_module": "@jupyter-widgets/base",
            "top": null,
            "grid_column": null,
            "overflow_y": null,
            "overflow_x": null,
            "grid_auto_flow": null,
            "grid_area": null,
            "grid_template_columns": null,
            "flex": null,
            "_model_name": "LayoutModel",
            "justify_items": null,
            "grid_row": null,
            "max_height": null,
            "align_content": null,
            "visibility": null,
            "align_self": null,
            "height": null,
            "min_height": null,
            "padding": null,
            "grid_auto_rows": null,
            "grid_gap": null,
            "max_width": null,
            "order": null,
            "_view_module_version": "1.2.0",
            "grid_template_areas": null,
            "object_position": null,
            "object_fit": null,
            "grid_auto_columns": null,
            "margin": null,
            "display": null,
            "left": null
          }
        },
        "4f8474510b3f4798a8af906b7398f0ce": {
          "model_module": "@jupyter-widgets/controls",
          "model_name": "HBoxModel",
          "model_module_version": "1.5.0",
          "state": {
            "_view_name": "HBoxView",
            "_dom_classes": [],
            "_model_name": "HBoxModel",
            "_view_module": "@jupyter-widgets/controls",
            "_model_module_version": "1.5.0",
            "_view_count": null,
            "_view_module_version": "1.5.0",
            "box_style": "",
            "layout": "IPY_MODEL_dc15df1e052f4345ac97eb1b43354b87",
            "_model_module": "@jupyter-widgets/controls",
            "children": [
              "IPY_MODEL_54c9fd80626046f38e2f679bf5857971",
              "IPY_MODEL_f75182f8f96b446dbd5e88282659d372",
              "IPY_MODEL_b8d10246bd6e4039a1f783dda8030243"
            ]
          }
        },
        "dc15df1e052f4345ac97eb1b43354b87": {
          "model_module": "@jupyter-widgets/base",
          "model_name": "LayoutModel",
          "model_module_version": "1.2.0",
          "state": {
            "_view_name": "LayoutView",
            "grid_template_rows": null,
            "right": null,
            "justify_content": null,
            "_view_module": "@jupyter-widgets/base",
            "overflow": null,
            "_model_module_version": "1.2.0",
            "_view_count": null,
            "flex_flow": null,
            "width": null,
            "min_width": null,
            "border": null,
            "align_items": null,
            "bottom": null,
            "_model_module": "@jupyter-widgets/base",
            "top": null,
            "grid_column": null,
            "overflow_y": null,
            "overflow_x": null,
            "grid_auto_flow": null,
            "grid_area": null,
            "grid_template_columns": null,
            "flex": null,
            "_model_name": "LayoutModel",
            "justify_items": null,
            "grid_row": null,
            "max_height": null,
            "align_content": null,
            "visibility": null,
            "align_self": null,
            "height": null,
            "min_height": null,
            "padding": null,
            "grid_auto_rows": null,
            "grid_gap": null,
            "max_width": null,
            "order": null,
            "_view_module_version": "1.2.0",
            "grid_template_areas": null,
            "object_position": null,
            "object_fit": null,
            "grid_auto_columns": null,
            "margin": null,
            "display": null,
            "left": null
          }
        },
        "54c9fd80626046f38e2f679bf5857971": {
          "model_module": "@jupyter-widgets/controls",
          "model_name": "HTMLModel",
          "model_module_version": "1.5.0",
          "state": {
            "_view_name": "HTMLView",
            "style": "IPY_MODEL_d1d611576518472fb4f1fbf4394a29f3",
            "_dom_classes": [],
            "description": "",
            "_model_name": "HTMLModel",
            "placeholder": "​",
            "_view_module": "@jupyter-widgets/controls",
            "_model_module_version": "1.5.0",
            "value": "100%",
            "_view_count": null,
            "_view_module_version": "1.5.0",
            "description_tooltip": null,
            "_model_module": "@jupyter-widgets/controls",
            "layout": "IPY_MODEL_c3a6ba8b822547d4a38eb4d35d34ecea"
          }
        },
        "f75182f8f96b446dbd5e88282659d372": {
          "model_module": "@jupyter-widgets/controls",
          "model_name": "FloatProgressModel",
          "model_module_version": "1.5.0",
          "state": {
            "_view_name": "ProgressView",
            "style": "IPY_MODEL_d884907d04904192926edc80d16f0bf6",
            "_dom_classes": [],
            "description": "",
            "_model_name": "FloatProgressModel",
            "bar_style": "success",
            "max": 274761,
            "_view_module": "@jupyter-widgets/controls",
            "_model_module_version": "1.5.0",
            "value": 274761,
            "_view_count": null,
            "_view_module_version": "1.5.0",
            "orientation": "horizontal",
            "min": 0,
            "description_tooltip": null,
            "_model_module": "@jupyter-widgets/controls",
            "layout": "IPY_MODEL_f43ca62c1009401cb8755ae877e528f8"
          }
        },
        "b8d10246bd6e4039a1f783dda8030243": {
          "model_module": "@jupyter-widgets/controls",
          "model_name": "HTMLModel",
          "model_module_version": "1.5.0",
          "state": {
            "_view_name": "HTMLView",
            "style": "IPY_MODEL_831ec47d2d4243b98731f976422312a4",
            "_dom_classes": [],
            "description": "",
            "_model_name": "HTMLModel",
            "placeholder": "​",
            "_view_module": "@jupyter-widgets/controls",
            "_model_module_version": "1.5.0",
            "value": " 274761/274761 [00:56&lt;00:00, 4818.98it/s]",
            "_view_count": null,
            "_view_module_version": "1.5.0",
            "description_tooltip": null,
            "_model_module": "@jupyter-widgets/controls",
            "layout": "IPY_MODEL_64524d3e18f849fa940453c9a1eb832e"
          }
        },
        "d1d611576518472fb4f1fbf4394a29f3": {
          "model_module": "@jupyter-widgets/controls",
          "model_name": "DescriptionStyleModel",
          "model_module_version": "1.5.0",
          "state": {
            "_view_name": "StyleView",
            "_model_name": "DescriptionStyleModel",
            "description_width": "",
            "_view_module": "@jupyter-widgets/base",
            "_model_module_version": "1.5.0",
            "_view_count": null,
            "_view_module_version": "1.2.0",
            "_model_module": "@jupyter-widgets/controls"
          }
        },
        "c3a6ba8b822547d4a38eb4d35d34ecea": {
          "model_module": "@jupyter-widgets/base",
          "model_name": "LayoutModel",
          "model_module_version": "1.2.0",
          "state": {
            "_view_name": "LayoutView",
            "grid_template_rows": null,
            "right": null,
            "justify_content": null,
            "_view_module": "@jupyter-widgets/base",
            "overflow": null,
            "_model_module_version": "1.2.0",
            "_view_count": null,
            "flex_flow": null,
            "width": null,
            "min_width": null,
            "border": null,
            "align_items": null,
            "bottom": null,
            "_model_module": "@jupyter-widgets/base",
            "top": null,
            "grid_column": null,
            "overflow_y": null,
            "overflow_x": null,
            "grid_auto_flow": null,
            "grid_area": null,
            "grid_template_columns": null,
            "flex": null,
            "_model_name": "LayoutModel",
            "justify_items": null,
            "grid_row": null,
            "max_height": null,
            "align_content": null,
            "visibility": null,
            "align_self": null,
            "height": null,
            "min_height": null,
            "padding": null,
            "grid_auto_rows": null,
            "grid_gap": null,
            "max_width": null,
            "order": null,
            "_view_module_version": "1.2.0",
            "grid_template_areas": null,
            "object_position": null,
            "object_fit": null,
            "grid_auto_columns": null,
            "margin": null,
            "display": null,
            "left": null
          }
        },
        "d884907d04904192926edc80d16f0bf6": {
          "model_module": "@jupyter-widgets/controls",
          "model_name": "ProgressStyleModel",
          "model_module_version": "1.5.0",
          "state": {
            "_view_name": "StyleView",
            "_model_name": "ProgressStyleModel",
            "description_width": "",
            "_view_module": "@jupyter-widgets/base",
            "_model_module_version": "1.5.0",
            "_view_count": null,
            "_view_module_version": "1.2.0",
            "bar_color": null,
            "_model_module": "@jupyter-widgets/controls"
          }
        },
        "f43ca62c1009401cb8755ae877e528f8": {
          "model_module": "@jupyter-widgets/base",
          "model_name": "LayoutModel",
          "model_module_version": "1.2.0",
          "state": {
            "_view_name": "LayoutView",
            "grid_template_rows": null,
            "right": null,
            "justify_content": null,
            "_view_module": "@jupyter-widgets/base",
            "overflow": null,
            "_model_module_version": "1.2.0",
            "_view_count": null,
            "flex_flow": null,
            "width": null,
            "min_width": null,
            "border": null,
            "align_items": null,
            "bottom": null,
            "_model_module": "@jupyter-widgets/base",
            "top": null,
            "grid_column": null,
            "overflow_y": null,
            "overflow_x": null,
            "grid_auto_flow": null,
            "grid_area": null,
            "grid_template_columns": null,
            "flex": null,
            "_model_name": "LayoutModel",
            "justify_items": null,
            "grid_row": null,
            "max_height": null,
            "align_content": null,
            "visibility": null,
            "align_self": null,
            "height": null,
            "min_height": null,
            "padding": null,
            "grid_auto_rows": null,
            "grid_gap": null,
            "max_width": null,
            "order": null,
            "_view_module_version": "1.2.0",
            "grid_template_areas": null,
            "object_position": null,
            "object_fit": null,
            "grid_auto_columns": null,
            "margin": null,
            "display": null,
            "left": null
          }
        },
        "831ec47d2d4243b98731f976422312a4": {
          "model_module": "@jupyter-widgets/controls",
          "model_name": "DescriptionStyleModel",
          "model_module_version": "1.5.0",
          "state": {
            "_view_name": "StyleView",
            "_model_name": "DescriptionStyleModel",
            "description_width": "",
            "_view_module": "@jupyter-widgets/base",
            "_model_module_version": "1.5.0",
            "_view_count": null,
            "_view_module_version": "1.2.0",
            "_model_module": "@jupyter-widgets/controls"
          }
        },
        "64524d3e18f849fa940453c9a1eb832e": {
          "model_module": "@jupyter-widgets/base",
          "model_name": "LayoutModel",
          "model_module_version": "1.2.0",
          "state": {
            "_view_name": "LayoutView",
            "grid_template_rows": null,
            "right": null,
            "justify_content": null,
            "_view_module": "@jupyter-widgets/base",
            "overflow": null,
            "_model_module_version": "1.2.0",
            "_view_count": null,
            "flex_flow": null,
            "width": null,
            "min_width": null,
            "border": null,
            "align_items": null,
            "bottom": null,
            "_model_module": "@jupyter-widgets/base",
            "top": null,
            "grid_column": null,
            "overflow_y": null,
            "overflow_x": null,
            "grid_auto_flow": null,
            "grid_area": null,
            "grid_template_columns": null,
            "flex": null,
            "_model_name": "LayoutModel",
            "justify_items": null,
            "grid_row": null,
            "max_height": null,
            "align_content": null,
            "visibility": null,
            "align_self": null,
            "height": null,
            "min_height": null,
            "padding": null,
            "grid_auto_rows": null,
            "grid_gap": null,
            "max_width": null,
            "order": null,
            "_view_module_version": "1.2.0",
            "grid_template_areas": null,
            "object_position": null,
            "object_fit": null,
            "grid_auto_columns": null,
            "margin": null,
            "display": null,
            "left": null
          }
        }
      }
    }
  },
  "cells": [
    {
      "cell_type": "code",
      "metadata": {
        "id": "UwdSjPkS9Fct"
      },
      "source": [
        "WINDOW_GIVEN = 89\n",
        "WINDOW_SIZE = 90\n",
        "=========\n",
        "\n",
        "모델성능\n",
        "N_HIDDENS = 100 # perceptron수\n",
        "N_LAYERS = 3 # 레이어 층수 \n",
        "BATCH_SIZE = 512 # computing 속도.\n",
        "\n",
        "n_epochs=40\n",
        "\n",
        "early stop\n",
        "learningrate 조절\n",
        "====\n",
        "\n",
        "평가성능\n",
        "THRESHOLD = 0.060\n",
        " \n"
      ],
      "execution_count": null,
      "outputs": []
    },
    {
      "cell_type": "code",
      "metadata": {
        "id": "yg5ngaXW9145",
        "colab": {
          "base_uri": "https://localhost:8080/"
        },
        "outputId": "ee472fa0-3063-4495-fc82-2ef5dc6a9ff6"
      },
      "source": [
        "from google.colab import drive\n",
        "drive.mount('/content/gdrive/')"
      ],
      "execution_count": 1,
      "outputs": [
        {
          "output_type": "stream",
          "name": "stdout",
          "text": [
            "Mounted at /content/gdrive/\n"
          ]
        }
      ]
    },
    {
      "cell_type": "code",
      "metadata": {
        "colab": {
          "base_uri": "https://localhost:8080/"
        },
        "id": "-jmxWNAf6GJ2",
        "outputId": "13e8c3d1-7303-4676-c226-44b4c5091daf"
      },
      "source": [
        "# 최종 Evaluate Package 설치\n",
        "!pip install ./gdrive/MyDrive/멋사_study/HAICon2021/HAICon2021_dataset/eTaPR-21.8.2-py3-none-any.whl"
      ],
      "execution_count": 2,
      "outputs": [
        {
          "output_type": "stream",
          "name": "stdout",
          "text": [
            "Processing ./gdrive/MyDrive/멋사_study/HAICon2021/HAICon2021_dataset/eTaPR-21.8.2-py3-none-any.whl\n",
            "Installing collected packages: eTaPR\n",
            "Successfully installed eTaPR-21.8.2\n"
          ]
        }
      ]
    },
    {
      "cell_type": "code",
      "metadata": {
        "id": "gG6RoGBu83mu"
      },
      "source": [
        "import numpy as np\n",
        "import matplotlib.pyplot as plt\n",
        "import pandas as pd\n",
        "import datetime\n",
        "import time\n",
        "import torch\n",
        "from torch.utils.data import Dataset, DataLoader\n",
        "\n",
        "\n",
        "\n",
        "from keras.models import Model, Sequential, load_model\n",
        "import keras\n",
        "from keras import optimizers\n",
        "from keras.layers import Input,Bidirectional ,LSTM, Dense, Activation\n",
        "from tensorflow.keras.callbacks import EarlyStopping, ModelCheckpoint\n",
        "from sklearn.metrics import mean_squared_error\n",
        "import tensorflow as tf\n",
        "from keras.callbacks import EarlyStopping, ModelCheckpoint\n",
        "\n",
        "from pathlib import Path\n",
        "from datetime import timedelta\n",
        "import dateutil\n",
        "from tqdm.notebook import trange\n",
        "from TaPR_pkg import etapr"
      ],
      "execution_count": 3,
      "outputs": []
    },
    {
      "cell_type": "code",
      "metadata": {
        "id": "MsuAnhlWBmf4"
      },
      "source": [
        "# !pip freeze > ./gdrive/MyDrive/멋사_study/HAICon2021/requirements.txt"
      ],
      "execution_count": null,
      "outputs": []
    },
    {
      "cell_type": "code",
      "metadata": {
        "id": "F4jdPVLvTGr4"
      },
      "source": [
        "# Data Path Load\n",
        "path_train = sorted([x for x in Path(\"./gdrive/MyDrive/멋사_study/HAICon2021/HAICon2021_dataset/train\").glob(\"*.csv\")]) \n",
        "path_test = sorted([x for x in Path(\"./gdrive/MyDrive/멋사_study/HAICon2021/HAICon2021_dataset/test\").glob(\"*.csv\")]) \n",
        "path_validation = sorted([x for x in Path(\"./gdrive/MyDrive/멋사_study/HAICon2021/HAICon2021_dataset/validation\").glob(\"*.csv\")]) "
      ],
      "execution_count": 4,
      "outputs": []
    },
    {
      "cell_type": "code",
      "metadata": {
        "id": "Li86oLGLVwZN"
      },
      "source": [
        "def csv_to_df(target):\n",
        "    return pd.read_csv(target)\n",
        "\n",
        "def df_data_load(targets):\n",
        "    return pd.concat([csv_to_df(x) for x in targets])\n",
        "\n",
        "# Min-Max Regularization\n",
        "def normalize(raw):\n",
        "    ndf = raw.copy()\n",
        "    for c in raw.columns:\n",
        "        #min-max가 0인경우에는 무의미한 col으로 생각하고, 0으로 채워줌\n",
        "        if raw_train[useful_cols].min()[c] == raw_train[useful_cols].max()[c]:\n",
        "            ndf[c] = raw[c] - raw_train[useful_cols].min()[c]\n",
        "        else:\n",
        "            ndf[c] = (raw[c] - raw_train[useful_cols].min()[c]) / (raw_train[useful_cols].max()[c] - raw_train[useful_cols].min()[c])\n",
        "    return ndf"
      ],
      "execution_count": 5,
      "outputs": []
    },
    {
      "cell_type": "code",
      "metadata": {
        "id": "qmnhqoEFUBq_",
        "colab": {
          "base_uri": "https://localhost:8080/"
        },
        "outputId": "b9c05998-e02a-4f54-a93b-5b286547e8bf"
      },
      "source": [
        "raw_train = df_data_load(path_train) # timestamp,C01~C86\n",
        "raw_validation = df_data_load(path_validation) # timestamp,C01~C86, attack\n",
        "raw_test = df_data_load(path_test) # timestamp,C01~C86\n",
        "\n",
        "# time stamp는 attack event와 관련이 없는 관계로 삭제한다.\n",
        "# time stamp는 normalize 시에 에러 발생\n",
        "\n",
        "useful_cols = raw_train.columns.drop('timestamp')\n",
        "useful_cols"
      ],
      "execution_count": 6,
      "outputs": [
        {
          "output_type": "execute_result",
          "data": {
            "text/plain": [
              "Index(['C01', 'C02', 'C03', 'C04', 'C05', 'C06', 'C07', 'C08', 'C09', 'C10',\n",
              "       'C11', 'C12', 'C13', 'C14', 'C15', 'C16', 'C17', 'C18', 'C19', 'C20',\n",
              "       'C21', 'C22', 'C23', 'C24', 'C25', 'C26', 'C27', 'C28', 'C29', 'C30',\n",
              "       'C31', 'C32', 'C33', 'C34', 'C35', 'C36', 'C37', 'C38', 'C39', 'C40',\n",
              "       'C41', 'C42', 'C43', 'C44', 'C45', 'C46', 'C47', 'C48', 'C49', 'C50',\n",
              "       'C51', 'C52', 'C53', 'C54', 'C55', 'C56', 'C57', 'C58', 'C59', 'C60',\n",
              "       'C61', 'C62', 'C63', 'C64', 'C65', 'C66', 'C67', 'C68', 'C69', 'C70',\n",
              "       'C71', 'C72', 'C73', 'C74', 'C75', 'C76', 'C77', 'C78', 'C79', 'C80',\n",
              "       'C81', 'C82', 'C83', 'C84', 'C85', 'C86'],\n",
              "      dtype='object')"
            ]
          },
          "metadata": {},
          "execution_count": 6
        }
      ]
    },
    {
      "cell_type": "code",
      "metadata": {
        "id": "_g6o255uqOPN"
      },
      "source": [
        ""
      ],
      "execution_count": null,
      "outputs": []
    },
    {
      "cell_type": "markdown",
      "metadata": {
        "id": "hPySoON82ALf"
      },
      "source": [
        "z-score vs min-max algorithm <br>\n",
        "outlier검출 (z-score) <br>\n",
        "모든 데이터의 중요도를 동일하게(min-max)"
      ]
    },
    {
      "cell_type": "code",
      "metadata": {
        "id": "697PmM_0a_8M"
      },
      "source": [
        "# Exponential Weighted Function 통과\n",
        "# 센서에서 발생하는 noise를 **smoothing** 시켜주기 위해 적용\n",
        "df_train= normalize(raw_train[useful_cols]).ewm(alpha=0.9).mean()"
      ],
      "execution_count": null,
      "outputs": []
    },
    {
      "cell_type": "code",
      "metadata": {
        "id": "4ggbVpf-xxgi"
      },
      "source": [
        "df_validation = normalize(raw_validation[useful_cols])"
      ],
      "execution_count": null,
      "outputs": []
    },
    {
      "cell_type": "code",
      "metadata": {
        "id": "ZYAs45QJxqZ2"
      },
      "source": [
        "df_test= normalize(raw_test[useful_cols]).ewm(alpha=0.9).mean()"
      ],
      "execution_count": null,
      "outputs": []
    },
    {
      "cell_type": "code",
      "metadata": {
        "id": "kdJQuohnwejV"
      },
      "source": [
        "# df_train.to_pickle(\"/content/gdrive/MyDrive/멋사_study/HAICon2021/df_train.pickle\")\n",
        "# df_validation.to_pickle(\"/content/gdrive/MyDrive/멋사_study/HAICon2021/df_validation.pickle\")\n",
        "# df_test.to_pickle(\"/content/gdrive/MyDrive/멋사_study/HAICon2021/df_test.pickle\")"
      ],
      "execution_count": null,
      "outputs": []
    },
    {
      "cell_type": "markdown",
      "metadata": {
        "id": "AeEGP9UAy61h"
      },
      "source": [
        "# normalize 완료된 df 불러오기"
      ]
    },
    {
      "cell_type": "code",
      "metadata": {
        "id": "y1K-zdlFyB-E"
      },
      "source": [
        "# normalize 완료된 df 불러오기\n",
        "df_train = pd.read_pickle(\"/content/gdrive/MyDrive/멋사_study/HAICon2021/df_train.pickle\")\n",
        "df_validation = pd.read_pickle(\"/content/gdrive/MyDrive/멋사_study/HAICon2021/df_validation.pickle\")\n",
        "df_test = pd.read_pickle(\"/content/gdrive/MyDrive/멋사_study/HAICon2021/df_test.pickle\")\n"
      ],
      "execution_count": 8,
      "outputs": []
    },
    {
      "cell_type": "code",
      "metadata": {
        "id": "4NlesCazhqcY"
      },
      "source": [
        "# min_max reg를 진행하고, boundary인 [0,1] 이외의 값이 존재하는지 체크하는 함수\n",
        "# Reguralizaion 제대로 됐는지 체크\n",
        "def boundary_check(df):\n",
        "    x = np.array(df, dtype=np.float32)\n",
        "    return np.any(x > 1.0), np.any(x < 0), np.any(np.isnan(x))"
      ],
      "execution_count": 7,
      "outputs": []
    },
    {
      "cell_type": "code",
      "metadata": {
        "colab": {
          "base_uri": "https://localhost:8080/"
        },
        "id": "te6LRhEdDXnD",
        "outputId": "bb7f5bd5-48c1-4dc6-f957-e2939ea221ef"
      },
      "source": [
        "boundary_check(df_train)"
      ],
      "execution_count": 9,
      "outputs": [
        {
          "output_type": "execute_result",
          "data": {
            "text/plain": [
              "(False, False, False)"
            ]
          },
          "metadata": {},
          "execution_count": 9
        }
      ]
    },
    {
      "cell_type": "code",
      "metadata": {
        "colab": {
          "base_uri": "https://localhost:8080/"
        },
        "id": "UPHkCa5F74Ia",
        "outputId": "c00cae0c-f0f5-4067-9432-011fefc320b0"
      },
      "source": [
        "boundary_check(df_validation)"
      ],
      "execution_count": 10,
      "outputs": [
        {
          "output_type": "execute_result",
          "data": {
            "text/plain": [
              "(True, True, False)"
            ]
          },
          "metadata": {},
          "execution_count": 10
        }
      ]
    },
    {
      "cell_type": "code",
      "metadata": {
        "colab": {
          "base_uri": "https://localhost:8080/"
        },
        "id": "3iOKbLc178TX",
        "outputId": "32fb78e7-6087-4701-a467-382eba44cec3"
      },
      "source": [
        "boundary_check(df_test)"
      ],
      "execution_count": 11,
      "outputs": [
        {
          "output_type": "execute_result",
          "data": {
            "text/plain": [
              "(True, True, False)"
            ]
          },
          "metadata": {},
          "execution_count": 11
        }
      ]
    },
    {
      "cell_type": "markdown",
      "metadata": {
        "id": "20PvUOeKAfK8"
      },
      "source": [
        "# HaiDataset 저장/불러오기"
      ]
    },
    {
      "cell_type": "code",
      "metadata": {
        "id": "nb77wFR3EAUR"
      },
      "source": [
        "# Model의 출력값과 실제 값의 차이가 클 때 이상상황으로 정의\n",
        "# Stacked RNN(GRU cells)\n",
        "# Unsupervised Learning\n",
        "# shingle size = 90\n",
        "\n",
        "WINDOW_GIVEN = 59\n",
        "WINDOW_SIZE = 60\n",
        "\n",
        "\n",
        "\n",
        "class HaiDataset(Dataset): # pytorch의 Dataset class 활용\n",
        "    def __init__(self, timestamps, df, stride=1, attacks=None):\n",
        "        self.ts = np.array(timestamps)\n",
        "        self.tag_values = np.array(df, dtype=np.float32) # dataset을 array로 바꾼거.\n",
        "        self.valid_idxs = []\n",
        "        for L in trange(len(self.ts) - WINDOW_SIZE + 1): # L 1번째,  100번째 ts 9461번째\n",
        "            R = L + WINDOW_SIZE - 1 # R 60번째, 159번째. 10000번째.\n",
        "            if dateutil.parser.parse(self.ts[R]) - dateutil.parser.parse( # 60번째-1번째 = 59 . 이게 윈도우사이즈 크기와 동일한지 점검하는 조건\n",
        "                self.ts[L]\n",
        "            ) == timedelta(seconds=WINDOW_SIZE - 1):\n",
        "                self.valid_idxs.append(L) # valid idx에 L시점의 ts를 쭉 저장. 1~9461 저장(리스트형태로)\n",
        "        self.valid_idxs = np.array(self.valid_idxs, dtype=np.int32)[::stride] # valid idx array 형태로 바꿔주기\n",
        "        self.n_idxs = len(self.valid_idxs) # n_idxs 는 갯수.\n",
        "        print(f\"# of valid windows: {self.n_idxs}\")\n",
        "        if attacks is not None:\n",
        "            self.attacks = np.array(attacks, dtype=np.float32) # attack이 있으면 self.attacks함수에 Attack 표시나게하고\n",
        "            self.with_attack = True # with_attack함수로 boolean 검증\n",
        "        else:\n",
        "            self.with_attack = False\n",
        "\n",
        "    def __len__(self):\n",
        "        return self.n_idxs # n_idxs WIndow에서 왼쪽 bounday가 될 수 있는 ts 갯수.\n",
        "\n",
        "    def __getitem__(self, idx): ## slicing을 구현하기 위한 메소드\n",
        "        i = self.valid_idxs[idx] # Left boundary\n",
        "        last = i + WINDOW_SIZE - 1 # Right boundary\n",
        "        item = {\"attack\": self.attacks[last]} if self.with_attack else {} # with_attack이 true면 item에 attack 표기 (right boundary기준)\n",
        "        item[\"ts\"] = self.ts[i + WINDOW_SIZE - 1]\n",
        "        item[\"given\"] = torch.from_numpy(self.tag_values[i : i + WINDOW_GIVEN]) # left boundary부터, right bounday까지, 80개의 window boundary안에있는 모든 데이터 값.\n",
        "        item[\"answer\"] = torch.from_numpy(self.tag_values[last]) # given의 마지막 row 는 그 이전 스텝의 answer의 값과 동일하다.\n",
        "        return item"
      ],
      "execution_count": 12,
      "outputs": []
    },
    {
      "cell_type": "code",
      "metadata": {
        "id": "Neztr1sn22Ot"
      },
      "source": [
        "train_data.valid_idxs"
      ],
      "execution_count": null,
      "outputs": []
    },
    {
      "cell_type": "code",
      "metadata": {
        "colab": {
          "base_uri": "https://localhost:8080/",
          "height": 67,
          "referenced_widgets": [
            "9e5255ccb34a4c859d3953c0c1241ac1",
            "f199365b4cbd405b8e67e7ca8c154805",
            "6f927fe89b034e079f4d3a94f072c59a",
            "ee64ad182c7147f0b0a80f671450f6f8",
            "2c180471d1994f488ddf3e80c88db9d7",
            "8052c5660103463a9109af007897726b",
            "fa25852b81b74f0d80aac4ff377c0bd1",
            "7cbce7aa06b244ca96bfa03cb4dcdea8",
            "b6c8a05144c44c5f9b85765927617d96",
            "b67cfb0f5cf94343ac3af5b430bd7a1d",
            "30c08ec846e94703898aabc759de570a"
          ]
        },
        "id": "sOBeCtaXGOwf",
        "outputId": "82c22ae0-f2a7-4089-a689-55fe742434d8"
      },
      "source": [
        "train_data = HaiDataset(raw_train['timestamp'],df_train, stride=1)\n",
        "validation_data = HaiDataset(raw_validation['timestamp'],df_validation, stride=1)\n",
        "test_data = HaiDataset(raw_test['timestamp'],df_test, stride=1)"
      ],
      "execution_count": null,
      "outputs": [
        {
          "output_type": "display_data",
          "data": {
            "application/vnd.jupyter.widget-view+json": {
              "model_id": "9e5255ccb34a4c859d3953c0c1241ac1",
              "version_minor": 0,
              "version_major": 2
            },
            "text/plain": [
              "  0%|          | 0/1004333 [00:00<?, ?it/s]"
            ]
          },
          "metadata": {}
        },
        {
          "output_type": "stream",
          "name": "stdout",
          "text": [
            "# of valid windows: 1003988\n"
          ]
        }
      ]
    },
    {
      "cell_type": "code",
      "metadata": {
        "id": "U0ywwxI4_O9v"
      },
      "source": [
        "import pickle\n",
        "# # # HaiDataset 저장\n",
        "# with open( \"/content/gdrive/MyDrive/멋사_study/HAICon2021/HaiDataset/train_data_{}\".format(WINDOW_SIZE), \"wb\" ) as file:\n",
        "#     pickle.dump( train_data, file)\n",
        "# with open( \"/content/gdrive/MyDrive/멋사_study/HAICon2021/HaiDataset/validation_data_{}\".format(WINDOW_SIZE), \"wb\" ) as file:\n",
        "#     pickle.dump( validation_data, file)\n",
        "# with open( \"/content/gdrive/MyDrive/멋사_study/HAICon2021/HaiDataset/test_data_{}\".format(WINDOW_SIZE), \"wb\" ) as file:\n",
        "#     pickle.dump( test_data, file)\n",
        "\n",
        "# HaiDataset 불러오기\n",
        "with open( \"/content/gdrive/MyDrive/멋사_study/HAICon2021/HaiDataset/train_data_{}\".format(WINDOW_SIZE), \"rb\" ) as file:\n",
        "    train_data = pickle.load(file)\n",
        "\n",
        "with open( \"/content/gdrive/MyDrive/멋사_study/HAICon2021/HaiDataset/validation_data_{}\".format(WINDOW_SIZE), \"rb\" ) as file:\n",
        "    validation_data = pickle.load(file)\n",
        "\n",
        "with open( \"/content/gdrive/MyDrive/멋사_study/HAICon2021/HaiDataset/test_data_{}\".format(WINDOW_SIZE), \"rb\" ) as file:\n",
        "    test_data = pickle.load(file)"
      ],
      "execution_count": 40,
      "outputs": []
    },
    {
      "cell_type": "markdown",
      "metadata": {
        "id": "9kRKGcu4A_qN"
      },
      "source": [
        "## 모델링 시작"
      ]
    },
    {
      "cell_type": "code",
      "metadata": {
        "id": "OVWah2BBXTLC"
      },
      "source": [
        "N_HIDDENS = 256 # perceptron수\n",
        "N_LAYERS = 4\n",
        "BATCH_SIZE = 512\n",
        "\n",
        "class StackedGRU(torch.nn.Module):\n",
        "    def __init__(self, n_tags):\n",
        "        super().__init__() # torch.nn.Module에 담겨있는 함수를 사용하겠다.\n",
        "        self.rnn = torch.nn.GRU(\n",
        "            input_size=n_tags,\n",
        "            hidden_size=N_HIDDENS,# perceptron수\n",
        "            num_layers=N_LAYERS,\n",
        "            bidirectional=True, #양방향으로 할지 말지 forward + backward 두번씩 하니까 feature가 두배로 변함\n",
        "            dropout=0,\n",
        "        )\n",
        "        self.fc = torch.nn.Linear(N_HIDDENS * 2, n_tags)\n",
        "\n",
        "    def forward(self, x):\n",
        "        x = x.transpose(0, 1)  # (batch, seq, params) -> (seq, batch, params)\n",
        "        self.rnn.flatten_parameters()\n",
        "        outs, _ = self.rnn(x)\n",
        "        out = self.fc(outs[-1])\n",
        "        return x[0] + out"
      ],
      "execution_count": 15,
      "outputs": []
    },
    {
      "cell_type": "code",
      "metadata": {
        "colab": {
          "base_uri": "https://localhost:8080/"
        },
        "id": "lpgGjOMdtdkp",
        "outputId": "9932e043-00fb-4de8-886f-55c66df76161"
      },
      "source": [
        "MODEL = StackedGRU(n_tags=df_train.shape[1]) # input사이즈를 train data columns수로 하겠다는뜻\n",
        "MODEL.cuda() # GPU 메모리 할당"
      ],
      "execution_count": 16,
      "outputs": [
        {
          "output_type": "execute_result",
          "data": {
            "text/plain": [
              "StackedGRU(\n",
              "  (rnn): GRU(86, 256, num_layers=4, bidirectional=True)\n",
              "  (fc): Linear(in_features=512, out_features=86, bias=True)\n",
              ")"
            ]
          },
          "metadata": {},
          "execution_count": 16
        }
      ]
    },
    {
      "cell_type": "code",
      "metadata": {
        "id": "hTd31JEXviEg"
      },
      "source": [
        "def train(dataset, model, batch_size, n_epochs):\n",
        "    dataloader = DataLoader(dataset, batch_size=batch_size, shuffle=True) # Dataloader는 Mini Batch만들어 주는 역할. # 전체 데이터가 mini batch Size로 슬라이스됨. \n",
        "    optimizer = torch.optim.AdamW(model.parameters())\n",
        "    loss_fn = torch.nn.MSELoss()\n",
        "    epochs = trange(n_epochs, desc=\"training\")\n",
        "    best = {\"loss\": sys.float_info.max}\n",
        "    loss_history = []\n",
        "    for e in epochs:\n",
        "        epoch_loss = 0\n",
        "        for batch in dataloader:\n",
        "            optimizer.zero_grad()\n",
        "            given = batch[\"given\"].cuda()\n",
        "            guess = model(given)\n",
        "            answer = batch[\"answer\"].cuda()\n",
        "            loss = loss_fn(answer, guess)\n",
        "            loss.backward()\n",
        "            epoch_loss += loss.item()\n",
        "            optimizer.step()\n",
        "        loss_history.append(epoch_loss)\n",
        "        epochs.set_postfix_str(f\"loss: {epoch_loss:.6f}\")\n",
        "        if epoch_loss < best[\"loss\"]:\n",
        "            best[\"state\"] = model.state_dict()\n",
        "            best[\"loss\"] = epoch_loss\n",
        "            best[\"epoch\"] = e + 1\n",
        "    return best, loss_history"
      ],
      "execution_count": 17,
      "outputs": []
    },
    {
      "cell_type": "code",
      "metadata": {
        "id": "oCr-iVPvwKw9"
      },
      "source": [
        "import sys"
      ],
      "execution_count": 18,
      "outputs": []
    },
    {
      "cell_type": "code",
      "metadata": {
        "colab": {
          "base_uri": "https://localhost:8080/",
          "height": 85,
          "referenced_widgets": [
            "c945807391eb4ab0841f3ca78e91e6ff",
            "23bd08afdd0c4a348702f8d8b44560de",
            "9ed80e6f72664e6d8f25745bed656a20",
            "c0a4f00ba8de4c4c89c4e9b480436645",
            "4c81375bf23244ae95478e2a6d8f468b",
            "702df37d18f94f718d7789c14d12a0e0",
            "b062f9034ea441aeaac30f331e3541d6",
            "cc84d2e7feec4e0da857da6747ceec06",
            "3f65e6fa56cc42c48c61880b1212ca46",
            "35c70c69d2284ab9ac40d77b5fafdeb6",
            "70d211eb5331499698db41bd6cef585a"
          ]
        },
        "id": "OO39vFC7v2TH",
        "outputId": "79f65617-f8c4-4cf1-8b1e-273e83fd4819"
      },
      "source": [
        "%%time\n",
        "n_epochs = 20\n",
        "MODEL.train()\n",
        "BEST_MODEL, LOSS_HISTORY = train(train_data, MODEL, BATCH_SIZE,n_epochs=n_epochs)"
      ],
      "execution_count": 22,
      "outputs": [
        {
          "output_type": "display_data",
          "data": {
            "application/vnd.jupyter.widget-view+json": {
              "model_id": "c945807391eb4ab0841f3ca78e91e6ff",
              "version_minor": 0,
              "version_major": 2
            },
            "text/plain": [
              "training:   0%|          | 0/20 [00:00<?, ?it/s]"
            ]
          },
          "metadata": {}
        },
        {
          "output_type": "stream",
          "name": "stdout",
          "text": [
            "CPU times: user 5h 15min 14s, sys: 50.3 s, total: 5h 16min 4s\n",
            "Wall time: 5h 15min 19s\n"
          ]
        }
      ]
    },
    {
      "cell_type": "markdown",
      "metadata": {
        "id": "0oe-YWMgzl9u"
      },
      "source": [
        "### 모델저장 , 불러오기"
      ]
    },
    {
      "cell_type": "code",
      "metadata": {
        "id": "HRiIJjcSY-ba"
      },
      "source": [
        "with open(\"/content/gdrive/MyDrive/멋사_study/HAICon2021/model_W{}_B{}_P{}_D{}_E{}.pt\".format(WINDOW_SIZE,BATCH_SIZE,N_HIDDENS,N_LAYERS,n_epochs), \"wb\") as f:\n",
        "    torch.save(\n",
        "        {\n",
        "            \"state\": BEST_MODEL[\"state\"],\n",
        "            \"best_epoch\": BEST_MODEL[\"epoch\"],\n",
        "            \"loss_history\": LOSS_HISTORY,\n",
        "        },\n",
        "        f,\n",
        "    )"
      ],
      "execution_count": 25,
      "outputs": []
    },
    {
      "cell_type": "code",
      "metadata": {
        "id": "Ch4YGJE2ZTtD",
        "colab": {
          "base_uri": "https://localhost:8080/"
        },
        "outputId": "bca4b59b-c599-4a03-c1b6-2ced96bfa64c"
      },
      "source": [
        "with open(\"/content/gdrive/MyDrive/멋사_study/HAICon2021/model_W{}_B{}_P{}_D{}_E{}.pt\".format(WINDOW_SIZE,BATCH_SIZE,N_HIDDENS,N_LAYERS,n_epochs), \"rb\") as f:\n",
        "    SAVED_MODEL = torch.load(f)\n",
        "\n",
        "MODEL.load_state_dict(SAVED_MODEL[\"state\"])\n",
        "\n",
        "# 변수명 SAVED_MODEL"
      ],
      "execution_count": 28,
      "outputs": [
        {
          "output_type": "execute_result",
          "data": {
            "text/plain": [
              "<All keys matched successfully>"
            ]
          },
          "metadata": {},
          "execution_count": 28
        }
      ]
    },
    {
      "cell_type": "code",
      "metadata": {
        "id": "SNmqi8wQ0EPk"
      },
      "source": [
        "SAVED_MODEL"
      ],
      "execution_count": null,
      "outputs": []
    },
    {
      "cell_type": "code",
      "metadata": {
        "colab": {
          "base_uri": "https://localhost:8080/",
          "height": 295
        },
        "id": "A_hsmdEitgWt",
        "outputId": "0bbcabf1-ac6c-4c4d-d3f7-4934f08caef9"
      },
      "source": [
        "plt.figure(figsize=(16, 4))\n",
        "plt.title(\"Training Loss Graph\")\n",
        "plt.xlabel(\"epochs\")\n",
        "plt.ylabel(\"loss\")\n",
        "plt.yscale(\"log\")\n",
        "plt.plot(SAVED_MODEL[\"loss_history\"])\n",
        "plt.show()"
      ],
      "execution_count": 29,
      "outputs": [
        {
          "output_type": "display_data",
          "data": {
            "image/png": "[encoded data removed]",
            "text/plain": [
              "<Figure size 1152x288 with 1 Axes>"
            ]
          },
          "metadata": {
            "needs_background": "light"
          }
        }
      ]
    },
    {
      "cell_type": "code",
      "metadata": {
        "id": "s8dr_JO1xcN6"
      },
      "source": [
        "def inference(dataset, model, batch_size): # ????????????????????????????????????\n",
        "    dataloader = DataLoader(dataset, batch_size=batch_size)\n",
        "    ts, dist, att = [], [], []\n",
        "    with torch.no_grad():\n",
        "        for batch in dataloader:\n",
        "            given = batch[\"given\"].cuda()\n",
        "            answer = batch[\"answer\"].cuda()\n",
        "            guess = model(given)\n",
        "            ts.append(np.array(batch[\"ts\"]))\n",
        "            dist.append(torch.abs(answer - guess).cpu().numpy()) # 예측값과 정답값의 차이를 기록\n",
        "            try:\n",
        "                att.append(np.array(batch[\"attack\"]))\n",
        "            except:\n",
        "                att.append(np.zeros(batch_size))\n",
        "            \n",
        "    return (\n",
        "        np.concatenate(ts),\n",
        "        np.concatenate(dist),\n",
        "        np.concatenate(att),\n",
        "    )\n",
        "   "
      ],
      "execution_count": 41,
      "outputs": []
    },
    {
      "cell_type": "code",
      "metadata": {
        "id": "5g1iie3kxvyV",
        "colab": {
          "base_uri": "https://localhost:8080/"
        },
        "outputId": "cb1412d3-06a2-405d-ffff-47b0880a4cdf"
      },
      "source": [
        "%%time\n",
        "MODEL.eval() # nn.Module에서 train time과 eval time에서 수행하는 다른 작업을 수행할 수 있도록 switching 하는 함수라고 한다.\n",
        "valid_CHECK_TS, valid_CHECK_DIST, valid_CHECK_ATT = inference(validation_data, MODEL, BATCH_SIZE)\n",
        "# CHECK_DIST = 모든 시간대에서 전체 feature(field) 차이"
      ],
      "execution_count": 42,
      "outputs": [
        {
          "output_type": "stream",
          "name": "stdout",
          "text": [
            "CPU times: user 25.5 s, sys: 56 ms, total: 25.5 s\n",
            "Wall time: 25.5 s\n"
          ]
        }
      ]
    },
    {
      "cell_type": "code",
      "metadata": {
        "id": "rha9Aa8MyUsY"
      },
      "source": [
        "valid_ANOMALY_SCORE = np.mean(valid_CHECK_DIST, axis=1)\n",
        "# 그 차이의 평균을 스코어 지수로 표현"
      ],
      "execution_count": 43,
      "outputs": []
    },
    {
      "cell_type": "code",
      "metadata": {
        "colab": {
          "base_uri": "https://localhost:8080/"
        },
        "id": "qzVj2r_iOM5L",
        "outputId": "31356290-bfe2-4c32-980e-49ac2cddf079"
      },
      "source": [
        "valid_ANOMALY_SCORE.shape[0]"
      ],
      "execution_count": 44,
      "outputs": [
        {
          "output_type": "execute_result",
          "data": {
            "text/plain": [
              "86341"
            ]
          },
          "metadata": {},
          "execution_count": 44
        }
      ]
    },
    {
      "cell_type": "code",
      "metadata": {
        "colab": {
          "base_uri": "https://localhost:8080/"
        },
        "id": "hUVwlv5PODlu",
        "outputId": "371b99c8-7b88-4d4f-b041-c395d9685dfc"
      },
      "source": [
        "valid_ANOMALY_SCORE.max()"
      ],
      "execution_count": 45,
      "outputs": [
        {
          "output_type": "execute_result",
          "data": {
            "text/plain": [
              "0.1405309"
            ]
          },
          "metadata": {},
          "execution_count": 45
        }
      ]
    },
    {
      "cell_type": "code",
      "metadata": {
        "id": "BfHGD3ZTy-ms"
      },
      "source": [
        "def check_graph(xs, att, piece=2, THRESHOLD=None):# plot은 몇개 plot으로 그림 그려줄지 정하는거\n",
        "    l = xs.shape[0]\n",
        "    chunk = l // piece\n",
        "    fig, axs = plt.subplots(piece, figsize=(20, 4 * piece))\n",
        "    for i in range(piece):\n",
        "        L = i * chunk\n",
        "        R = min(L + chunk, l)\n",
        "        xticks = range(L, R)\n",
        "        axs[i].plot(xticks, xs[L:R])\n",
        "        if len(xs[L:R]) > 0:\n",
        "            peak = max(xs[L:R])\n",
        "            axs[i].plot(xticks, att[L:R] * peak * 0.3)\n",
        "        if THRESHOLD!=None:\n",
        "            axs[i].axhline(y=THRESHOLD, color='r')\n",
        "    plt.show()"
      ],
      "execution_count": 46,
      "outputs": []
    },
    {
      "cell_type": "code",
      "metadata": {
        "id": "Dp-M0B-nzMwW",
        "colab": {
          "base_uri": "https://localhost:8080/",
          "height": 918
        },
        "outputId": "6b5879d7-a98c-42a6-e790-48fe58453841"
      },
      "source": [
        "THRESHOLD = 0.105\n",
        "check_graph(valid_ANOMALY_SCORE, valid_CHECK_ATT, piece=4, THRESHOLD=THRESHOLD)\n",
        "# Threshold는 얼마로 지정할지 생각해봐야할듯 해당 수치 넘으면 공격, 아니면 정상\n",
        "# 주황색 그래프와 빨간색 그래프의 차이를 좁혀나가면서 Threshold를 정해주면됨"
      ],
      "execution_count": 52,
      "outputs": [
        {
          "output_type": "display_data",
          "data": {
            "image/png": "[encoded data removed]",
            "text/plain": [
              "<Figure size 1440x1152 with 4 Axes>"
            ]
          },
          "metadata": {
            "needs_background": "light"
          }
        }
      ]
    },
    {
      "cell_type": "code",
      "metadata": {
        "id": "NUC3YIFpzSVp"
      },
      "source": [
        "def put_labels(distance, threshold):\n",
        "    xs = np.zeros_like(distance)\n",
        "    xs[distance > threshold] = 1\n",
        "    return xs\n",
        "\n",
        "    #Threshold보다 distance가 크면 Attack 으로 간주하는 식"
      ],
      "execution_count": 53,
      "outputs": []
    },
    {
      "cell_type": "code",
      "metadata": {
        "colab": {
          "base_uri": "https://localhost:8080/"
        },
        "id": "RqL74k-fvxY1",
        "outputId": "4ec36105-6f29-4566-fbee-f0a7ede35042"
      },
      "source": [
        "LABELS = put_labels(valid_ANOMALY_SCORE, THRESHOLD)\n",
        "LABELS, LABELS.shape"
      ],
      "execution_count": 54,
      "outputs": [
        {
          "output_type": "execute_result",
          "data": {
            "text/plain": [
              "(array([0., 0., 0., ..., 0., 0., 0.], dtype=float32), (86341,))"
            ]
          },
          "metadata": {},
          "execution_count": 54
        }
      ]
    },
    {
      "cell_type": "code",
      "metadata": {
        "colab": {
          "base_uri": "https://localhost:8080/"
        },
        "id": "Yx4Mc5jEwgPb",
        "outputId": "a4550176-43e0-4db2-9e28-040123210939"
      },
      "source": [
        "ATTACK_LABELS = put_labels(np.array(raw_validation['attack']), threshold=THRESHOLD)\n",
        "ATTACK_LABELS, ATTACK_LABELS.shape"
      ],
      "execution_count": 55,
      "outputs": [
        {
          "output_type": "execute_result",
          "data": {
            "text/plain": [
              "(array([0, 0, 0, ..., 0, 0, 0]), (86400,))"
            ]
          },
          "metadata": {},
          "execution_count": 55
        }
      ]
    },
    {
      "cell_type": "code",
      "metadata": {
        "id": "1M535PlH1K1y"
      },
      "source": [
        "# 탐지 모델 - 윈도우 방식\n",
        "\n",
        "# 첫 시작의 몇 초는 판단을 내릴 수 없고 (예전 MA 식 만든거 생각해보면됨)\n",
        "# 데이터셋 불연속 시간 구간 체크 어려움\n",
        "# 위에서 보시는 바와 같이 정답에 비해 얻어낸 label의 수가 적습니다.\n",
        "\n"
      ],
      "execution_count": null,
      "outputs": []
    },
    {
      "cell_type": "code",
      "metadata": {
        "id": "lYOFX2XBz-Xw"
      },
      "source": [
        "#정상은 0 비정상 1\n",
        "def fill_blank(check_ts, labels, total_ts):\n",
        "    def ts_generator():\n",
        "        for t in total_ts:\n",
        "            yield dateutil.parser.parse(t)\n",
        "\n",
        "    def label_generator():\n",
        "        for t, label in zip(check_ts, labels):\n",
        "            yield dateutil.parser.parse(t), label\n",
        "\n",
        "    g_ts = ts_generator()\n",
        "    g_label = label_generator()\n",
        "    final_labels = []\n",
        "\n",
        "    try:\n",
        "        current = next(g_ts)\n",
        "        ts_label, label = next(g_label)\n",
        "        while True:\n",
        "            if current > ts_label:\n",
        "                ts_label, label = next(g_label)\n",
        "                continue\n",
        "            elif current < ts_label:\n",
        "                final_labels.append(0)\n",
        "                current = next(g_ts)\n",
        "                continue\n",
        "            final_labels.append(label)\n",
        "            current = next(g_ts)\n",
        "            ts_label, label = next(g_label)\n",
        "    except StopIteration:\n",
        "        return np.array(final_labels, dtype=np.int8)"
      ],
      "execution_count": 56,
      "outputs": []
    },
    {
      "cell_type": "code",
      "metadata": {
        "id": "Qxay5OTo4zqO"
      },
      "source": [
        "###### valid_test용 #################\n",
        "THRESHOLD = 0.100\n",
        "LABELS = put_labels(valid_ANOMALY_SCORE, THRESHOLD)\n",
        "ATTACK_LABELS = put_labels(np.array(raw_validation['attack']), threshold=THRESHOLD)"
      ],
      "execution_count": null,
      "outputs": []
    },
    {
      "cell_type": "code",
      "metadata": {
        "colab": {
          "base_uri": "https://localhost:8080/",
          "height": 1000,
          "referenced_widgets": [
            "4f9a5c71cb374bd084e92d4b0f331e58",
            "17309c70e77d485aa197e58e70dc0d97",
            "cdd93c279891495a85e90deaa1bf9f1c",
            "9e413e7777eb40a0b198cec6b34ccb3c",
            "7bec7b8321564501aa29341003cbde19",
            "9d8ebafe85b04420aeee6e5d96be4e6f",
            "7d7e00235ffe41869c3c08f6503f1baa",
            "c2aafd59be614715913d5993327e6c2f",
            "5587febd7be748deabf507aed74c7def",
            "52c9af39bea54cb0bafe46d616cca2d6",
            "0945b5521c87494aba567d0912230eb5"
          ]
        },
        "id": "RpvstlZU8Omd",
        "outputId": "2b5d5c81-8985-4916-aaca-98303d551bce"
      },
      "source": [
        "for i in trange(1000):\n",
        "  THRESHOLD = 0.050+i*0.002\n",
        "  LABELS = put_labels(valid_ANOMALY_SCORE, THRESHOLD)\n",
        "  ATTACK_LABELS = put_labels(np.array(raw_validation['attack']), threshold=THRESHOLD)\n",
        "  FINAL_LABELS = fill_blank(valid_CHECK_TS, LABELS, np.array(raw_validation['timestamp']))\n",
        "  TaPR = etapr.evaluate_haicon(anomalies=ATTACK_LABELS, predictions=FINAL_LABELS)\n",
        "  print(f\"F1: {TaPR['f1']:.3f} (TaP: {TaPR['TaP']:.3f}, TaR: {TaPR['TaR']:.3f}) Threshold = {THRESHOLD:.5f}\")"
      ],
      "execution_count": null,
      "outputs": [
        {
          "output_type": "display_data",
          "data": {
            "application/vnd.jupyter.widget-view+json": {
              "model_id": "4f9a5c71cb374bd084e92d4b0f331e58",
              "version_minor": 0,
              "version_major": 2
            },
            "text/plain": [
              "  0%|          | 0/1000 [00:00<?, ?it/s]"
            ]
          },
          "metadata": {}
        },
        {
          "output_type": "stream",
          "name": "stdout",
          "text": [
            "F1: 0.013 (TaP: 0.006, TaR: 0.683) Threshold = 0.05000\n",
            "F1: 0.012 (TaP: 0.006, TaR: 0.658) Threshold = 0.05200\n",
            "F1: 0.011 (TaP: 0.006, TaR: 0.581) Threshold = 0.05400\n",
            "F1: 0.011 (TaP: 0.005, TaR: 0.558) Threshold = 0.05600\n",
            "F1: 0.011 (TaP: 0.005, TaR: 0.541) Threshold = 0.05800\n",
            "F1: 0.011 (TaP: 0.006, TaR: 0.517) Threshold = 0.06000\n",
            "F1: 0.011 (TaP: 0.005, TaR: 0.445) Threshold = 0.06200\n",
            "F1: 0.011 (TaP: 0.006, TaR: 0.438) Threshold = 0.06400\n",
            "F1: 0.012 (TaP: 0.006, TaR: 0.428) Threshold = 0.06600\n",
            "F1: 0.012 (TaP: 0.006, TaR: 0.413) Threshold = 0.06800\n",
            "F1: 0.013 (TaP: 0.006, TaR: 0.403) Threshold = 0.07000\n",
            "F1: 0.013 (TaP: 0.007, TaR: 0.395) Threshold = 0.07200\n",
            "F1: 0.012 (TaP: 0.006, TaR: 0.373) Threshold = 0.07400\n",
            "F1: 0.012 (TaP: 0.006, TaR: 0.366) Threshold = 0.07600\n",
            "F1: 0.012 (TaP: 0.006, TaR: 0.306) Threshold = 0.07800\n",
            "F1: 0.012 (TaP: 0.006, TaR: 0.296) Threshold = 0.08000\n",
            "F1: 0.013 (TaP: 0.006, TaR: 0.284) Threshold = 0.08200\n",
            "F1: 0.013 (TaP: 0.006, TaR: 0.266) Threshold = 0.08400\n",
            "F1: 0.012 (TaP: 0.006, TaR: 0.246) Threshold = 0.08600\n",
            "F1: 0.012 (TaP: 0.006, TaR: 0.236) Threshold = 0.08800\n",
            "F1: 0.013 (TaP: 0.007, TaR: 0.226) Threshold = 0.09000\n",
            "F1: 0.013 (TaP: 0.007, TaR: 0.209) Threshold = 0.09200\n",
            "F1: 0.011 (TaP: 0.006, TaR: 0.181) Threshold = 0.09400\n",
            "F1: 0.012 (TaP: 0.006, TaR: 0.173) Threshold = 0.09600\n",
            "F1: 0.010 (TaP: 0.005, TaR: 0.153) Threshold = 0.09800\n",
            "F1: 0.009 (TaP: 0.005, TaR: 0.131) Threshold = 0.10000\n",
            "F1: 0.009 (TaP: 0.005, TaR: 0.100) Threshold = 0.10200\n",
            "F1: 0.009 (TaP: 0.005, TaR: 0.083) Threshold = 0.10400\n",
            "F1: 0.009 (TaP: 0.005, TaR: 0.065) Threshold = 0.10600\n",
            "F1: 0.000 (TaP: 0.000, TaR: 0.000) Threshold = 0.10800\n",
            "F1: 0.000 (TaP: 0.000, TaR: 0.000) Threshold = 0.11000\n",
            "F1: 0.000 (TaP: 0.000, TaR: 0.000) Threshold = 0.11200\n",
            "F1: 0.000 (TaP: 0.000, TaR: 0.000) Threshold = 0.11400\n",
            "F1: 0.000 (TaP: 0.000, TaR: 0.000) Threshold = 0.11600\n",
            "F1: 0.000 (TaP: 0.000, TaR: 0.000) Threshold = 0.11800\n",
            "F1: 0.000 (TaP: 0.000, TaR: 0.000) Threshold = 0.12000\n",
            "F1: 0.000 (TaP: 0.000, TaR: 0.000) Threshold = 0.12200\n",
            "F1: 0.000 (TaP: 0.000, TaR: 0.000) Threshold = 0.12400\n",
            "F1: 0.000 (TaP: 0.000, TaR: 0.000) Threshold = 0.12600\n",
            "F1: 0.000 (TaP: 0.000, TaR: 0.000) Threshold = 0.12800\n",
            "F1: 0.000 (TaP: 0.000, TaR: 0.000) Threshold = 0.13000\n",
            "F1: 0.000 (TaP: 0.000, TaR: 0.000) Threshold = 0.13200\n",
            "F1: 0.000 (TaP: 0.000, TaR: 0.000) Threshold = 0.13400\n",
            "F1: 0.000 (TaP: 0.000, TaR: 0.000) Threshold = 0.13600\n",
            "F1: 0.000 (TaP: 0.000, TaR: 0.000) Threshold = 0.13800\n"
          ]
        },
        {
          "output_type": "stream",
          "name": "stderr",
          "text": [
            "/usr/local/lib/python3.7/dist-packages/TaPR_pkg/etapr.py:267: RuntimeWarning: invalid value encountered in double_scalars\n",
            "  return hit_cnt / extended_predictions_len\n"
          ]
        },
        {
          "output_type": "stream",
          "name": "stdout",
          "text": [
            "F1: 0.000 (TaP: 0.000, TaR: 0.000) Threshold = 0.14000\n",
            "F1: 0.000 (TaP: 0.000, TaR: 0.000) Threshold = 0.14200\n",
            "F1: 0.000 (TaP: 0.000, TaR: 0.000) Threshold = 0.14400\n",
            "F1: 0.000 (TaP: 0.000, TaR: 0.000) Threshold = 0.14600\n",
            "F1: 0.000 (TaP: 0.000, TaR: 0.000) Threshold = 0.14800\n",
            "F1: 0.000 (TaP: 0.000, TaR: 0.000) Threshold = 0.15000\n",
            "F1: 0.000 (TaP: 0.000, TaR: 0.000) Threshold = 0.15200\n",
            "F1: 0.000 (TaP: 0.000, TaR: 0.000) Threshold = 0.15400\n",
            "F1: 0.000 (TaP: 0.000, TaR: 0.000) Threshold = 0.15600\n",
            "F1: 0.000 (TaP: 0.000, TaR: 0.000) Threshold = 0.15800\n",
            "F1: 0.000 (TaP: 0.000, TaR: 0.000) Threshold = 0.16000\n",
            "F1: 0.000 (TaP: 0.000, TaR: 0.000) Threshold = 0.16200\n",
            "F1: 0.000 (TaP: 0.000, TaR: 0.000) Threshold = 0.16400\n",
            "F1: 0.000 (TaP: 0.000, TaR: 0.000) Threshold = 0.16600\n",
            "F1: 0.000 (TaP: 0.000, TaR: 0.000) Threshold = 0.16800\n",
            "F1: 0.000 (TaP: 0.000, TaR: 0.000) Threshold = 0.17000\n",
            "F1: 0.000 (TaP: 0.000, TaR: 0.000) Threshold = 0.17200\n",
            "F1: 0.000 (TaP: 0.000, TaR: 0.000) Threshold = 0.17400\n",
            "F1: 0.000 (TaP: 0.000, TaR: 0.000) Threshold = 0.17600\n",
            "F1: 0.000 (TaP: 0.000, TaR: 0.000) Threshold = 0.17800\n",
            "F1: 0.000 (TaP: 0.000, TaR: 0.000) Threshold = 0.18000\n",
            "F1: 0.000 (TaP: 0.000, TaR: 0.000) Threshold = 0.18200\n",
            "F1: 0.000 (TaP: 0.000, TaR: 0.000) Threshold = 0.18400\n",
            "F1: 0.000 (TaP: 0.000, TaR: 0.000) Threshold = 0.18600\n",
            "F1: 0.000 (TaP: 0.000, TaR: 0.000) Threshold = 0.18800\n",
            "F1: 0.000 (TaP: 0.000, TaR: 0.000) Threshold = 0.19000\n",
            "F1: 0.000 (TaP: 0.000, TaR: 0.000) Threshold = 0.19200\n",
            "F1: 0.000 (TaP: 0.000, TaR: 0.000) Threshold = 0.19400\n",
            "F1: 0.000 (TaP: 0.000, TaR: 0.000) Threshold = 0.19600\n",
            "F1: 0.000 (TaP: 0.000, TaR: 0.000) Threshold = 0.19800\n",
            "F1: 0.000 (TaP: 0.000, TaR: 0.000) Threshold = 0.20000\n",
            "F1: 0.000 (TaP: 0.000, TaR: 0.000) Threshold = 0.20200\n",
            "F1: 0.000 (TaP: 0.000, TaR: 0.000) Threshold = 0.20400\n",
            "F1: 0.000 (TaP: 0.000, TaR: 0.000) Threshold = 0.20600\n",
            "F1: 0.000 (TaP: 0.000, TaR: 0.000) Threshold = 0.20800\n",
            "F1: 0.000 (TaP: 0.000, TaR: 0.000) Threshold = 0.21000\n",
            "F1: 0.000 (TaP: 0.000, TaR: 0.000) Threshold = 0.21200\n"
          ]
        }
      ]
    },
    {
      "cell_type": "code",
      "metadata": {
        "id": "QSFtykFnFmBZ"
      },
      "source": [
        "THRESHOLD = 0.01839\n",
        "LABELS = put_labels(valid_ANOMALY_SCORE, THRESHOLD)\n",
        "ATTACK_LABELS = put_labels(np.array(raw_validation['attack']), threshold=THRESHOLD)\n"
      ],
      "execution_count": null,
      "outputs": []
    },
    {
      "cell_type": "code",
      "metadata": {
        "id": "wCMHGU-L1UIa",
        "colab": {
          "base_uri": "https://localhost:8080/"
        },
        "outputId": "751933ea-6b9b-4fbf-f6e2-2e3aedd9323b"
      },
      "source": [
        "%%time\n",
        "FINAL_LABELS = fill_blank(valid_CHECK_TS, LABELS, np.array(raw_validation['timestamp'])) # Labeling 진행\n",
        "FINAL_LABELS.shape"
      ],
      "execution_count": null,
      "outputs": [
        {
          "output_type": "stream",
          "name": "stdout",
          "text": [
            "CPU times: user 15.6 s, sys: 78.9 ms, total: 15.7 s\n",
            "Wall time: 15.7 s\n"
          ]
        }
      ]
    },
    {
      "cell_type": "markdown",
      "metadata": {
        "id": "CCdyYQZyz_yj"
      },
      "source": [
        "## 평가"
      ]
    },
    {
      "cell_type": "code",
      "metadata": {
        "id": "Ln0Nz_cJ0AgP",
        "colab": {
          "base_uri": "https://localhost:8080/"
        },
        "outputId": "e9b843cf-6f80-4e5f-f2aa-bc5f40bea67f"
      },
      "source": [
        "TaPR = etapr.evaluate_haicon(anomalies=ATTACK_LABELS, predictions=FINAL_LABELS)\n",
        "print(f\"F1: {TaPR['f1']:.3f} (TaP: {TaPR['TaP']:.3f}, TaR: {TaPR['TaR']:.3f})\")\n",
        "print(f\"# of detected anomalies: {len(TaPR['Detected_Anomalies'])}\")\n",
        "print(f\"Detected anomalies: {TaPR['Detected_Anomalies']}\") # f1 score로 점수 받기"
      ],
      "execution_count": null,
      "outputs": [
        {
          "output_type": "stream",
          "name": "stdout",
          "text": [
            "F1: 0.162 (TaP: 0.112, TaR: 0.292)\n",
            "# of detected anomalies: 4\n",
            "Detected anomalies: [<TaPR_pkg.DataManage.Range.Range object at 0x7f6056bd6410>, <TaPR_pkg.DataManage.Range.Range object at 0x7f60564de710>, <TaPR_pkg.DataManage.Range.Range object at 0x7f6056c3ba10>, <TaPR_pkg.DataManage.Range.Range object at 0x7f6075888490>]\n"
          ]
        }
      ]
    },
    {
      "cell_type": "code",
      "metadata": {
        "id": "XixJ0ZhE0CPp",
        "colab": {
          "base_uri": "https://localhost:8080/",
          "height": 391,
          "referenced_widgets": [
            "4f8474510b3f4798a8af906b7398f0ce",
            "dc15df1e052f4345ac97eb1b43354b87",
            "54c9fd80626046f38e2f679bf5857971",
            "f75182f8f96b446dbd5e88282659d372",
            "b8d10246bd6e4039a1f783dda8030243",
            "d1d611576518472fb4f1fbf4394a29f3",
            "c3a6ba8b822547d4a38eb4d35d34ecea",
            "d884907d04904192926edc80d16f0bf6",
            "f43ca62c1009401cb8755ae877e528f8",
            "831ec47d2d4243b98731f976422312a4",
            "64524d3e18f849fa940453c9a1eb832e"
          ]
        },
        "outputId": "ed33e0b7-6a67-48a1-d70d-ef5b77bb5524"
      },
      "source": [
        "boundary_check(df_test)\n",
        "test_data = HaiDataset(raw_test['timestamp'],df_test, stride=1)\n",
        "\n",
        "test_data[0]"
      ],
      "execution_count": null,
      "outputs": [
        {
          "output_type": "display_data",
          "data": {
            "application/vnd.jupyter.widget-view+json": {
              "model_id": "4f8474510b3f4798a8af906b7398f0ce",
              "version_minor": 0,
              "version_major": 2
            },
            "text/plain": [
              "  0%|          | 0/274761 [00:00<?, ?it/s]"
            ]
          },
          "metadata": {}
        },
        {
          "output_type": "stream",
          "name": "stdout",
          "text": [
            "# of valid windows: 274683\n"
          ]
        },
        {
          "output_type": "execute_result",
          "data": {
            "text/plain": [
              "{'answer': tensor([0.3283, 0.0000, 0.0798, 0.5049, 0.0900, 0.3598, 0.7118, 0.0000, 0.0000,\n",
              "         0.0000, 0.3774, 0.3887, 0.3467, 0.2367, 0.5363, 0.2594, 0.0000, 0.0000,\n",
              "         0.0000, 0.6997, 0.2275, 0.0000, 0.5416, 0.2949, 0.0184, 0.0000, 0.5478,\n",
              "         0.6075, 0.0000, 0.8326, 0.3982, 0.2597, 0.2600, 0.0000, 0.2850, 0.0000,\n",
              "         0.0577, 0.0000, 0.0000, 0.0175, 0.2432, 0.5320, 0.4188, 0.4401, 1.0000,\n",
              "         1.0000, 0.9935, 1.0000, 0.0000, 0.1611, 0.8307, 0.0000, 0.7381, 0.0081,\n",
              "         0.0000, 0.5945, 0.3181, 0.1386, 0.2675, 0.5635, 1.0000, 0.7847, 0.0000,\n",
              "         0.0000, 0.7877, 0.9107, 0.1112, 0.3488, 0.0000, 0.3183, 1.0000, 0.1040,\n",
              "         0.3382, 0.0728, 0.2539, 0.2619, 0.3860, 0.1703, 0.2852, 0.0726, 0.8706,\n",
              "         0.0000, 0.3940, 0.0000, 0.0000, 0.0091]),\n",
              " 'given': tensor([[0.4554, 0.0000, 0.0798,  ..., 0.0000, 0.0000, 0.1688],\n",
              "         [0.4717, 0.0000, 0.0798,  ..., 0.0000, 0.0000, 0.1733],\n",
              "         [0.4593, 0.0000, 0.0798,  ..., 0.0000, 0.0000, 0.1767],\n",
              "         ...,\n",
              "         [0.4533, 0.0000, 0.0798,  ..., 0.0000, 0.0000, 0.0091],\n",
              "         [0.4108, 0.0000, 0.0798,  ..., 0.0000, 0.0000, 0.0091],\n",
              "         [0.3673, 0.0000, 0.0798,  ..., 0.0000, 0.0000, 0.0091]]),\n",
              " 'ts': '2021-07-13 16:00:40'}"
            ]
          },
          "metadata": {},
          "execution_count": 163
        }
      ]
    },
    {
      "cell_type": "code",
      "metadata": {
        "id": "jh0JAFl00LsC",
        "colab": {
          "base_uri": "https://localhost:8080/"
        },
        "outputId": "ab8f8a7e-1a8f-4ae4-c980-dbfffe8511b6"
      },
      "source": [
        "%%time\n",
        "MODEL.eval()\n",
        "CHECK_TS, CHECK_DIST, CHECK_ATT = inference(test_data, MODEL, BATCH_SIZE)"
      ],
      "execution_count": null,
      "outputs": [
        {
          "output_type": "stream",
          "name": "stdout",
          "text": [
            "CPU times: user 16.4 s, sys: 114 ms, total: 16.5 s\n",
            "Wall time: 16.4 s\n"
          ]
        }
      ]
    },
    {
      "cell_type": "code",
      "metadata": {
        "id": "CTHwtBoH0Nlc"
      },
      "source": [
        "ANOMALY_SCORE = np.mean(CHECK_DIST, axis=1)"
      ],
      "execution_count": null,
      "outputs": []
    },
    {
      "cell_type": "code",
      "metadata": {
        "id": "egOan7Wy0QTr",
        "colab": {
          "base_uri": "https://localhost:8080/",
          "height": 700
        },
        "outputId": "eb3059dd-9b93-4703-bb12-d386c3808803"
      },
      "source": [
        "check_graph(ANOMALY_SCORE, CHECK_ATT, piece=3, THRESHOLD=THRESHOLD)"
      ],
      "execution_count": null,
      "outputs": [
        {
          "output_type": "display_data",
          "data": {
            "image/png": "[encoded data removed]",
            "text/plain": [
              "<Figure size 1440x864 with 3 Axes>"
            ]
          },
          "metadata": {
            "needs_background": "light"
          }
        }
      ]
    },
    {
      "cell_type": "code",
      "metadata": {
        "id": "TOYRG8A10TeE",
        "colab": {
          "base_uri": "https://localhost:8080/"
        },
        "outputId": "b4724ed5-db56-431d-9fdd-8c7ad0cfaaaf"
      },
      "source": [
        "LABELS = put_labels(ANOMALY_SCORE, THRESHOLD)\n",
        "LABELS, LABELS.shape"
      ],
      "execution_count": null,
      "outputs": [
        {
          "output_type": "execute_result",
          "data": {
            "text/plain": [
              "(array([0., 0., 0., ..., 0., 0., 0.], dtype=float32), (274683,))"
            ]
          },
          "metadata": {},
          "execution_count": 167
        }
      ]
    },
    {
      "cell_type": "code",
      "metadata": {
        "id": "9Cuo0DxR0agM"
      },
      "source": [
        ""
      ],
      "execution_count": null,
      "outputs": []
    },
    {
      "cell_type": "markdown",
      "metadata": {
        "id": "3rfMZnHk0bSq"
      },
      "source": [
        "## 저장"
      ]
    },
    {
      "cell_type": "code",
      "metadata": {
        "id": "kmtVHqyG0WJr",
        "colab": {
          "base_uri": "https://localhost:8080/",
          "height": 450
        },
        "outputId": "75882265-2c17-4c58-9800-85e2e60eb8e8"
      },
      "source": [
        "submission = pd.read_csv('./gdrive/MyDrive/멋사_study/HAICon2021/HAICon2021_dataset/sample_submission.csv')\n",
        "submission.index = submission['timestamp']\n",
        "submission.loc[CHECK_TS,'attack'] = LABELS\n",
        "submission"
      ],
      "execution_count": null,
      "outputs": [
        {
          "output_type": "execute_result",
          "data": {
            "text/html": [
              "<div>\n",
              "<style scoped>\n",
              "    .dataframe tbody tr th:only-of-type {\n",
              "        vertical-align: middle;\n",
              "    }\n",
              "\n",
              "    .dataframe tbody tr th {\n",
              "        vertical-align: top;\n",
              "    }\n",
              "\n",
              "    .dataframe thead th {\n",
              "        text-align: right;\n",
              "    }\n",
              "</style>\n",
              "<table border=\"1\" class=\"dataframe\">\n",
              "  <thead>\n",
              "    <tr style=\"text-align: right;\">\n",
              "      <th></th>\n",
              "      <th>timestamp</th>\n",
              "      <th>attack</th>\n",
              "    </tr>\n",
              "    <tr>\n",
              "      <th>timestamp</th>\n",
              "      <th></th>\n",
              "      <th></th>\n",
              "    </tr>\n",
              "  </thead>\n",
              "  <tbody>\n",
              "    <tr>\n",
              "      <th>2021-07-13 16:00:01</th>\n",
              "      <td>2021-07-13 16:00:01</td>\n",
              "      <td>0.0</td>\n",
              "    </tr>\n",
              "    <tr>\n",
              "      <th>2021-07-13 16:00:02</th>\n",
              "      <td>2021-07-13 16:00:02</td>\n",
              "      <td>0.0</td>\n",
              "    </tr>\n",
              "    <tr>\n",
              "      <th>2021-07-13 16:00:03</th>\n",
              "      <td>2021-07-13 16:00:03</td>\n",
              "      <td>0.0</td>\n",
              "    </tr>\n",
              "    <tr>\n",
              "      <th>2021-07-13 16:00:04</th>\n",
              "      <td>2021-07-13 16:00:04</td>\n",
              "      <td>0.0</td>\n",
              "    </tr>\n",
              "    <tr>\n",
              "      <th>2021-07-13 16:00:05</th>\n",
              "      <td>2021-07-13 16:00:05</td>\n",
              "      <td>0.0</td>\n",
              "    </tr>\n",
              "    <tr>\n",
              "      <th>...</th>\n",
              "      <td>...</td>\n",
              "      <td>...</td>\n",
              "    </tr>\n",
              "    <tr>\n",
              "      <th>2021-07-16 23:59:56</th>\n",
              "      <td>2021-07-16 23:59:56</td>\n",
              "      <td>0.0</td>\n",
              "    </tr>\n",
              "    <tr>\n",
              "      <th>2021-07-16 23:59:57</th>\n",
              "      <td>2021-07-16 23:59:57</td>\n",
              "      <td>0.0</td>\n",
              "    </tr>\n",
              "    <tr>\n",
              "      <th>2021-07-16 23:59:58</th>\n",
              "      <td>2021-07-16 23:59:58</td>\n",
              "      <td>0.0</td>\n",
              "    </tr>\n",
              "    <tr>\n",
              "      <th>2021-07-16 23:59:59</th>\n",
              "      <td>2021-07-16 23:59:59</td>\n",
              "      <td>0.0</td>\n",
              "    </tr>\n",
              "    <tr>\n",
              "      <th>2021-07-17 00:00:00</th>\n",
              "      <td>2021-07-17 00:00:00</td>\n",
              "      <td>0.0</td>\n",
              "    </tr>\n",
              "  </tbody>\n",
              "</table>\n",
              "<p>274800 rows × 2 columns</p>\n",
              "</div>"
            ],
            "text/plain": [
              "                               timestamp  attack\n",
              "timestamp                                       \n",
              "2021-07-13 16:00:01  2021-07-13 16:00:01     0.0\n",
              "2021-07-13 16:00:02  2021-07-13 16:00:02     0.0\n",
              "2021-07-13 16:00:03  2021-07-13 16:00:03     0.0\n",
              "2021-07-13 16:00:04  2021-07-13 16:00:04     0.0\n",
              "2021-07-13 16:00:05  2021-07-13 16:00:05     0.0\n",
              "...                                  ...     ...\n",
              "2021-07-16 23:59:56  2021-07-16 23:59:56     0.0\n",
              "2021-07-16 23:59:57  2021-07-16 23:59:57     0.0\n",
              "2021-07-16 23:59:58  2021-07-16 23:59:58     0.0\n",
              "2021-07-16 23:59:59  2021-07-16 23:59:59     0.0\n",
              "2021-07-17 00:00:00  2021-07-17 00:00:00     0.0\n",
              "\n",
              "[274800 rows x 2 columns]"
            ]
          },
          "metadata": {},
          "execution_count": 168
        }
      ]
    },
    {
      "cell_type": "code",
      "metadata": {
        "id": "WZlkcmA70Wj7"
      },
      "source": [
        "submission.to_csv('test5_Th_0.1839.csv', index=False)"
      ],
      "execution_count": null,
      "outputs": []
    },
    {
      "cell_type": "code",
      "metadata": {
        "id": "AQVEXqWY1JuV"
      },
      "source": [
        ""
      ],
      "execution_count": null,
      "outputs": []
    }
  ]
}