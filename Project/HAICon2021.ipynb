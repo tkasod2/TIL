{
  "nbformat": 4,
  "nbformat_minor": 0,
  "metadata": {
    "colab": {
      "name": "HAICon2021.ipynb",
      "provenance": [],
      "collapsed_sections": []
    },
    "kernelspec": {
      "name": "python3",
      "display_name": "Python 3"
    },
    "language_info": {
      "name": "python"
    },
    "accelerator": "GPU",
    "widgets": {
      "application/vnd.jupyter.widget-state+json": {
        "5e0cfcb57a564795a99ac1b1b582e72b": {
          "model_module": "@jupyter-widgets/controls",
          "model_name": "HBoxModel",
          "model_module_version": "1.5.0",
          "state": {
            "_view_name": "HBoxView",
            "_dom_classes": [],
            "_model_name": "HBoxModel",
            "_view_module": "@jupyter-widgets/controls",
            "_model_module_version": "1.5.0",
            "_view_count": null,
            "_view_module_version": "1.5.0",
            "box_style": "",
            "layout": "IPY_MODEL_7ae70947dca2423b8f0af5e65ecfbb34",
            "_model_module": "@jupyter-widgets/controls",
            "children": [
              "IPY_MODEL_0d425c731b9c45f78dd9cc9ac966bd2e",
              "IPY_MODEL_4cfa97e2af9446f49287ccbdbb1e6002",
              "IPY_MODEL_a0517ddf88ee44d8bdca542e90359427"
            ]
          }
        },
        "7ae70947dca2423b8f0af5e65ecfbb34": {
          "model_module": "@jupyter-widgets/base",
          "model_name": "LayoutModel",
          "model_module_version": "1.2.0",
          "state": {
            "_view_name": "LayoutView",
            "grid_template_rows": null,
            "right": null,
            "justify_content": null,
            "_view_module": "@jupyter-widgets/base",
            "overflow": null,
            "_model_module_version": "1.2.0",
            "_view_count": null,
            "flex_flow": null,
            "width": null,
            "min_width": null,
            "border": null,
            "align_items": null,
            "bottom": null,
            "_model_module": "@jupyter-widgets/base",
            "top": null,
            "grid_column": null,
            "overflow_y": null,
            "overflow_x": null,
            "grid_auto_flow": null,
            "grid_area": null,
            "grid_template_columns": null,
            "flex": null,
            "_model_name": "LayoutModel",
            "justify_items": null,
            "grid_row": null,
            "max_height": null,
            "align_content": null,
            "visibility": null,
            "align_self": null,
            "height": null,
            "min_height": null,
            "padding": null,
            "grid_auto_rows": null,
            "grid_gap": null,
            "max_width": null,
            "order": null,
            "_view_module_version": "1.2.0",
            "grid_template_areas": null,
            "object_position": null,
            "object_fit": null,
            "grid_auto_columns": null,
            "margin": null,
            "display": null,
            "left": null
          }
        },
        "0d425c731b9c45f78dd9cc9ac966bd2e": {
          "model_module": "@jupyter-widgets/controls",
          "model_name": "HTMLModel",
          "model_module_version": "1.5.0",
          "state": {
            "_view_name": "HTMLView",
            "style": "IPY_MODEL_ef5751bac85747c7b076287cfa9ae761",
            "_dom_classes": [],
            "description": "",
            "_model_name": "HTMLModel",
            "placeholder": "​",
            "_view_module": "@jupyter-widgets/controls",
            "_model_module_version": "1.5.0",
            "value": "100%",
            "_view_count": null,
            "_view_module_version": "1.5.0",
            "description_tooltip": null,
            "_model_module": "@jupyter-widgets/controls",
            "layout": "IPY_MODEL_e4ea73062c2649e8b4e8f8bf817ea389"
          }
        },
        "4cfa97e2af9446f49287ccbdbb1e6002": {
          "model_module": "@jupyter-widgets/controls",
          "model_name": "FloatProgressModel",
          "model_module_version": "1.5.0",
          "state": {
            "_view_name": "ProgressView",
            "style": "IPY_MODEL_b33a55dea8fd4fa4b82fb51a1cb114f9",
            "_dom_classes": [],
            "description": "",
            "_model_name": "FloatProgressModel",
            "bar_style": "success",
            "max": 1004322,
            "_view_module": "@jupyter-widgets/controls",
            "_model_module_version": "1.5.0",
            "value": 1004322,
            "_view_count": null,
            "_view_module_version": "1.5.0",
            "orientation": "horizontal",
            "min": 0,
            "description_tooltip": null,
            "_model_module": "@jupyter-widgets/controls",
            "layout": "IPY_MODEL_67e883ce506a4a73be2d48a56d673a64"
          }
        },
        "a0517ddf88ee44d8bdca542e90359427": {
          "model_module": "@jupyter-widgets/controls",
          "model_name": "HTMLModel",
          "model_module_version": "1.5.0",
          "state": {
            "_view_name": "HTMLView",
            "style": "IPY_MODEL_ea2f4e9100a947ff896c612bc8e3cbfc",
            "_dom_classes": [],
            "description": "",
            "_model_name": "HTMLModel",
            "placeholder": "​",
            "_view_module": "@jupyter-widgets/controls",
            "_model_module_version": "1.5.0",
            "value": " 1004322/1004322 [03:34&lt;00:00, 4579.55it/s]",
            "_view_count": null,
            "_view_module_version": "1.5.0",
            "description_tooltip": null,
            "_model_module": "@jupyter-widgets/controls",
            "layout": "IPY_MODEL_d7c66f382aad413baec465dadb7cb1b1"
          }
        },
        "ef5751bac85747c7b076287cfa9ae761": {
          "model_module": "@jupyter-widgets/controls",
          "model_name": "DescriptionStyleModel",
          "model_module_version": "1.5.0",
          "state": {
            "_view_name": "StyleView",
            "_model_name": "DescriptionStyleModel",
            "description_width": "",
            "_view_module": "@jupyter-widgets/base",
            "_model_module_version": "1.5.0",
            "_view_count": null,
            "_view_module_version": "1.2.0",
            "_model_module": "@jupyter-widgets/controls"
          }
        },
        "e4ea73062c2649e8b4e8f8bf817ea389": {
          "model_module": "@jupyter-widgets/base",
          "model_name": "LayoutModel",
          "model_module_version": "1.2.0",
          "state": {
            "_view_name": "LayoutView",
            "grid_template_rows": null,
            "right": null,
            "justify_content": null,
            "_view_module": "@jupyter-widgets/base",
            "overflow": null,
            "_model_module_version": "1.2.0",
            "_view_count": null,
            "flex_flow": null,
            "width": null,
            "min_width": null,
            "border": null,
            "align_items": null,
            "bottom": null,
            "_model_module": "@jupyter-widgets/base",
            "top": null,
            "grid_column": null,
            "overflow_y": null,
            "overflow_x": null,
            "grid_auto_flow": null,
            "grid_area": null,
            "grid_template_columns": null,
            "flex": null,
            "_model_name": "LayoutModel",
            "justify_items": null,
            "grid_row": null,
            "max_height": null,
            "align_content": null,
            "visibility": null,
            "align_self": null,
            "height": null,
            "min_height": null,
            "padding": null,
            "grid_auto_rows": null,
            "grid_gap": null,
            "max_width": null,
            "order": null,
            "_view_module_version": "1.2.0",
            "grid_template_areas": null,
            "object_position": null,
            "object_fit": null,
            "grid_auto_columns": null,
            "margin": null,
            "display": null,
            "left": null
          }
        },
        "b33a55dea8fd4fa4b82fb51a1cb114f9": {
          "model_module": "@jupyter-widgets/controls",
          "model_name": "ProgressStyleModel",
          "model_module_version": "1.5.0",
          "state": {
            "_view_name": "StyleView",
            "_model_name": "ProgressStyleModel",
            "description_width": "",
            "_view_module": "@jupyter-widgets/base",
            "_model_module_version": "1.5.0",
            "_view_count": null,
            "_view_module_version": "1.2.0",
            "bar_color": null,
            "_model_module": "@jupyter-widgets/controls"
          }
        },
        "67e883ce506a4a73be2d48a56d673a64": {
          "model_module": "@jupyter-widgets/base",
          "model_name": "LayoutModel",
          "model_module_version": "1.2.0",
          "state": {
            "_view_name": "LayoutView",
            "grid_template_rows": null,
            "right": null,
            "justify_content": null,
            "_view_module": "@jupyter-widgets/base",
            "overflow": null,
            "_model_module_version": "1.2.0",
            "_view_count": null,
            "flex_flow": null,
            "width": null,
            "min_width": null,
            "border": null,
            "align_items": null,
            "bottom": null,
            "_model_module": "@jupyter-widgets/base",
            "top": null,
            "grid_column": null,
            "overflow_y": null,
            "overflow_x": null,
            "grid_auto_flow": null,
            "grid_area": null,
            "grid_template_columns": null,
            "flex": null,
            "_model_name": "LayoutModel",
            "justify_items": null,
            "grid_row": null,
            "max_height": null,
            "align_content": null,
            "visibility": null,
            "align_self": null,
            "height": null,
            "min_height": null,
            "padding": null,
            "grid_auto_rows": null,
            "grid_gap": null,
            "max_width": null,
            "order": null,
            "_view_module_version": "1.2.0",
            "grid_template_areas": null,
            "object_position": null,
            "object_fit": null,
            "grid_auto_columns": null,
            "margin": null,
            "display": null,
            "left": null
          }
        },
        "ea2f4e9100a947ff896c612bc8e3cbfc": {
          "model_module": "@jupyter-widgets/controls",
          "model_name": "DescriptionStyleModel",
          "model_module_version": "1.5.0",
          "state": {
            "_view_name": "StyleView",
            "_model_name": "DescriptionStyleModel",
            "description_width": "",
            "_view_module": "@jupyter-widgets/base",
            "_model_module_version": "1.5.0",
            "_view_count": null,
            "_view_module_version": "1.2.0",
            "_model_module": "@jupyter-widgets/controls"
          }
        },
        "d7c66f382aad413baec465dadb7cb1b1": {
          "model_module": "@jupyter-widgets/base",
          "model_name": "LayoutModel",
          "model_module_version": "1.2.0",
          "state": {
            "_view_name": "LayoutView",
            "grid_template_rows": null,
            "right": null,
            "justify_content": null,
            "_view_module": "@jupyter-widgets/base",
            "overflow": null,
            "_model_module_version": "1.2.0",
            "_view_count": null,
            "flex_flow": null,
            "width": null,
            "min_width": null,
            "border": null,
            "align_items": null,
            "bottom": null,
            "_model_module": "@jupyter-widgets/base",
            "top": null,
            "grid_column": null,
            "overflow_y": null,
            "overflow_x": null,
            "grid_auto_flow": null,
            "grid_area": null,
            "grid_template_columns": null,
            "flex": null,
            "_model_name": "LayoutModel",
            "justify_items": null,
            "grid_row": null,
            "max_height": null,
            "align_content": null,
            "visibility": null,
            "align_self": null,
            "height": null,
            "min_height": null,
            "padding": null,
            "grid_auto_rows": null,
            "grid_gap": null,
            "max_width": null,
            "order": null,
            "_view_module_version": "1.2.0",
            "grid_template_areas": null,
            "object_position": null,
            "object_fit": null,
            "grid_auto_columns": null,
            "margin": null,
            "display": null,
            "left": null
          }
        },
        "d28ff907f85b4f61b650261333be8b8c": {
          "model_module": "@jupyter-widgets/controls",
          "model_name": "HBoxModel",
          "model_module_version": "1.5.0",
          "state": {
            "_view_name": "HBoxView",
            "_dom_classes": [],
            "_model_name": "HBoxModel",
            "_view_module": "@jupyter-widgets/controls",
            "_model_module_version": "1.5.0",
            "_view_count": null,
            "_view_module_version": "1.5.0",
            "box_style": "",
            "layout": "IPY_MODEL_8ce571e4144c4c1ab2e6a68d34afee76",
            "_model_module": "@jupyter-widgets/controls",
            "children": [
              "IPY_MODEL_ea895a8520e24ab0b644da745e9c37f1",
              "IPY_MODEL_e7c56feff2a9448fa7e6ab64ac9200d6",
              "IPY_MODEL_44c6f54d4d2a4dc2be9bcd219a4d4808"
            ]
          }
        },
        "8ce571e4144c4c1ab2e6a68d34afee76": {
          "model_module": "@jupyter-widgets/base",
          "model_name": "LayoutModel",
          "model_module_version": "1.2.0",
          "state": {
            "_view_name": "LayoutView",
            "grid_template_rows": null,
            "right": null,
            "justify_content": null,
            "_view_module": "@jupyter-widgets/base",
            "overflow": null,
            "_model_module_version": "1.2.0",
            "_view_count": null,
            "flex_flow": null,
            "width": null,
            "min_width": null,
            "border": null,
            "align_items": null,
            "bottom": null,
            "_model_module": "@jupyter-widgets/base",
            "top": null,
            "grid_column": null,
            "overflow_y": null,
            "overflow_x": null,
            "grid_auto_flow": null,
            "grid_area": null,
            "grid_template_columns": null,
            "flex": null,
            "_model_name": "LayoutModel",
            "justify_items": null,
            "grid_row": null,
            "max_height": null,
            "align_content": null,
            "visibility": null,
            "align_self": null,
            "height": null,
            "min_height": null,
            "padding": null,
            "grid_auto_rows": null,
            "grid_gap": null,
            "max_width": null,
            "order": null,
            "_view_module_version": "1.2.0",
            "grid_template_areas": null,
            "object_position": null,
            "object_fit": null,
            "grid_auto_columns": null,
            "margin": null,
            "display": null,
            "left": null
          }
        },
        "ea895a8520e24ab0b644da745e9c37f1": {
          "model_module": "@jupyter-widgets/controls",
          "model_name": "HTMLModel",
          "model_module_version": "1.5.0",
          "state": {
            "_view_name": "HTMLView",
            "style": "IPY_MODEL_df82bd30fc08450e985eea0bc764e5e5",
            "_dom_classes": [],
            "description": "",
            "_model_name": "HTMLModel",
            "placeholder": "​",
            "_view_module": "@jupyter-widgets/controls",
            "_model_module_version": "1.5.0",
            "value": "training: 100%",
            "_view_count": null,
            "_view_module_version": "1.5.0",
            "description_tooltip": null,
            "_model_module": "@jupyter-widgets/controls",
            "layout": "IPY_MODEL_39fc20589a1243049993097f8d294b4d"
          }
        },
        "e7c56feff2a9448fa7e6ab64ac9200d6": {
          "model_module": "@jupyter-widgets/controls",
          "model_name": "FloatProgressModel",
          "model_module_version": "1.5.0",
          "state": {
            "_view_name": "ProgressView",
            "style": "IPY_MODEL_bc988aad90d64685935b2a39dd9d2706",
            "_dom_classes": [],
            "description": "",
            "_model_name": "FloatProgressModel",
            "bar_style": "success",
            "max": 2,
            "_view_module": "@jupyter-widgets/controls",
            "_model_module_version": "1.5.0",
            "value": 2,
            "_view_count": null,
            "_view_module_version": "1.5.0",
            "orientation": "horizontal",
            "min": 0,
            "description_tooltip": null,
            "_model_module": "@jupyter-widgets/controls",
            "layout": "IPY_MODEL_fbac1cdbbd944054b39b1b195704b6a9"
          }
        },
        "44c6f54d4d2a4dc2be9bcd219a4d4808": {
          "model_module": "@jupyter-widgets/controls",
          "model_name": "HTMLModel",
          "model_module_version": "1.5.0",
          "state": {
            "_view_name": "HTMLView",
            "style": "IPY_MODEL_a4977d19a6eb4d4e9144345a12a012ed",
            "_dom_classes": [],
            "description": "",
            "_model_name": "HTMLModel",
            "placeholder": "​",
            "_view_module": "@jupyter-widgets/controls",
            "_model_module_version": "1.5.0",
            "value": " 2/2 [00:37&lt;00:00, 18.96s/it, loss: 0.421571]",
            "_view_count": null,
            "_view_module_version": "1.5.0",
            "description_tooltip": null,
            "_model_module": "@jupyter-widgets/controls",
            "layout": "IPY_MODEL_61050cf4cd4e40ddb9782e8082dafb6c"
          }
        },
        "df82bd30fc08450e985eea0bc764e5e5": {
          "model_module": "@jupyter-widgets/controls",
          "model_name": "DescriptionStyleModel",
          "model_module_version": "1.5.0",
          "state": {
            "_view_name": "StyleView",
            "_model_name": "DescriptionStyleModel",
            "description_width": "",
            "_view_module": "@jupyter-widgets/base",
            "_model_module_version": "1.5.0",
            "_view_count": null,
            "_view_module_version": "1.2.0",
            "_model_module": "@jupyter-widgets/controls"
          }
        },
        "39fc20589a1243049993097f8d294b4d": {
          "model_module": "@jupyter-widgets/base",
          "model_name": "LayoutModel",
          "model_module_version": "1.2.0",
          "state": {
            "_view_name": "LayoutView",
            "grid_template_rows": null,
            "right": null,
            "justify_content": null,
            "_view_module": "@jupyter-widgets/base",
            "overflow": null,
            "_model_module_version": "1.2.0",
            "_view_count": null,
            "flex_flow": null,
            "width": null,
            "min_width": null,
            "border": null,
            "align_items": null,
            "bottom": null,
            "_model_module": "@jupyter-widgets/base",
            "top": null,
            "grid_column": null,
            "overflow_y": null,
            "overflow_x": null,
            "grid_auto_flow": null,
            "grid_area": null,
            "grid_template_columns": null,
            "flex": null,
            "_model_name": "LayoutModel",
            "justify_items": null,
            "grid_row": null,
            "max_height": null,
            "align_content": null,
            "visibility": null,
            "align_self": null,
            "height": null,
            "min_height": null,
            "padding": null,
            "grid_auto_rows": null,
            "grid_gap": null,
            "max_width": null,
            "order": null,
            "_view_module_version": "1.2.0",
            "grid_template_areas": null,
            "object_position": null,
            "object_fit": null,
            "grid_auto_columns": null,
            "margin": null,
            "display": null,
            "left": null
          }
        },
        "bc988aad90d64685935b2a39dd9d2706": {
          "model_module": "@jupyter-widgets/controls",
          "model_name": "ProgressStyleModel",
          "model_module_version": "1.5.0",
          "state": {
            "_view_name": "StyleView",
            "_model_name": "ProgressStyleModel",
            "description_width": "",
            "_view_module": "@jupyter-widgets/base",
            "_model_module_version": "1.5.0",
            "_view_count": null,
            "_view_module_version": "1.2.0",
            "bar_color": null,
            "_model_module": "@jupyter-widgets/controls"
          }
        },
        "fbac1cdbbd944054b39b1b195704b6a9": {
          "model_module": "@jupyter-widgets/base",
          "model_name": "LayoutModel",
          "model_module_version": "1.2.0",
          "state": {
            "_view_name": "LayoutView",
            "grid_template_rows": null,
            "right": null,
            "justify_content": null,
            "_view_module": "@jupyter-widgets/base",
            "overflow": null,
            "_model_module_version": "1.2.0",
            "_view_count": null,
            "flex_flow": null,
            "width": null,
            "min_width": null,
            "border": null,
            "align_items": null,
            "bottom": null,
            "_model_module": "@jupyter-widgets/base",
            "top": null,
            "grid_column": null,
            "overflow_y": null,
            "overflow_x": null,
            "grid_auto_flow": null,
            "grid_area": null,
            "grid_template_columns": null,
            "flex": null,
            "_model_name": "LayoutModel",
            "justify_items": null,
            "grid_row": null,
            "max_height": null,
            "align_content": null,
            "visibility": null,
            "align_self": null,
            "height": null,
            "min_height": null,
            "padding": null,
            "grid_auto_rows": null,
            "grid_gap": null,
            "max_width": null,
            "order": null,
            "_view_module_version": "1.2.0",
            "grid_template_areas": null,
            "object_position": null,
            "object_fit": null,
            "grid_auto_columns": null,
            "margin": null,
            "display": null,
            "left": null
          }
        },
        "a4977d19a6eb4d4e9144345a12a012ed": {
          "model_module": "@jupyter-widgets/controls",
          "model_name": "DescriptionStyleModel",
          "model_module_version": "1.5.0",
          "state": {
            "_view_name": "StyleView",
            "_model_name": "DescriptionStyleModel",
            "description_width": "",
            "_view_module": "@jupyter-widgets/base",
            "_model_module_version": "1.5.0",
            "_view_count": null,
            "_view_module_version": "1.2.0",
            "_model_module": "@jupyter-widgets/controls"
          }
        },
        "61050cf4cd4e40ddb9782e8082dafb6c": {
          "model_module": "@jupyter-widgets/base",
          "model_name": "LayoutModel",
          "model_module_version": "1.2.0",
          "state": {
            "_view_name": "LayoutView",
            "grid_template_rows": null,
            "right": null,
            "justify_content": null,
            "_view_module": "@jupyter-widgets/base",
            "overflow": null,
            "_model_module_version": "1.2.0",
            "_view_count": null,
            "flex_flow": null,
            "width": null,
            "min_width": null,
            "border": null,
            "align_items": null,
            "bottom": null,
            "_model_module": "@jupyter-widgets/base",
            "top": null,
            "grid_column": null,
            "overflow_y": null,
            "overflow_x": null,
            "grid_auto_flow": null,
            "grid_area": null,
            "grid_template_columns": null,
            "flex": null,
            "_model_name": "LayoutModel",
            "justify_items": null,
            "grid_row": null,
            "max_height": null,
            "align_content": null,
            "visibility": null,
            "align_self": null,
            "height": null,
            "min_height": null,
            "padding": null,
            "grid_auto_rows": null,
            "grid_gap": null,
            "max_width": null,
            "order": null,
            "_view_module_version": "1.2.0",
            "grid_template_areas": null,
            "object_position": null,
            "object_fit": null,
            "grid_auto_columns": null,
            "margin": null,
            "display": null,
            "left": null
          }
        }
      }
    }
  },
  "cells": [
    {
      "cell_type": "code",
      "metadata": {
        "colab": {
          "base_uri": "https://localhost:8080/"
        },
        "id": "yg5ngaXW9145",
        "outputId": "1888ff90-a3a4-4006-f599-64836b816217"
      },
      "source": [
        "from google.colab import drive\n",
        "drive.mount('/content/gdrive/')"
      ],
      "execution_count": 1,
      "outputs": [
        {
          "output_type": "stream",
          "name": "stdout",
          "text": [
            "Mounted at /content/gdrive/\n"
          ]
        }
      ]
    },
    {
      "cell_type": "code",
      "metadata": {
        "colab": {
          "base_uri": "https://localhost:8080/"
        },
        "id": "-jmxWNAf6GJ2",
        "outputId": "15387e00-94d6-4301-a71f-a19989326898"
      },
      "source": [
        "# 최종 Evaluate Package 설치\n",
        "!pip install ./gdrive/MyDrive/멋사_study/HAICon2021/HAICon2021_dataset/eTaPR-21.8.2-py3-none-any.whl"
      ],
      "execution_count": 2,
      "outputs": [
        {
          "output_type": "stream",
          "name": "stdout",
          "text": [
            "Processing ./gdrive/MyDrive/멋사_study/HAICon2021/HAICon2021_dataset/eTaPR-21.8.2-py3-none-any.whl\n",
            "Installing collected packages: eTaPR\n",
            "Successfully installed eTaPR-21.8.2\n"
          ]
        }
      ]
    },
    {
      "cell_type": "code",
      "metadata": {
        "id": "gG6RoGBu83mu"
      },
      "source": [
        "import numpy as np\n",
        "import matplotlib.pyplot as plt\n",
        "import pandas as pd\n",
        "import datetime\n",
        "import time\n",
        "import torch\n",
        "from torch.utils.data import Dataset, DataLoader\n",
        "\n",
        "\n",
        "\n",
        "from keras.models import Model, Sequential, load_model\n",
        "import keras\n",
        "from keras import optimizers\n",
        "from keras.layers import Input,Bidirectional ,LSTM, Dense, Activation\n",
        "from tensorflow.keras.callbacks import EarlyStopping, ModelCheckpoint\n",
        "from sklearn.metrics import mean_squared_error\n",
        "import tensorflow as tf\n",
        "from keras.callbacks import EarlyStopping, ModelCheckpoint\n",
        "\n",
        "from pathlib import Path\n",
        "from datetime import timedelta\n",
        "import dateutil\n",
        "from tqdm.notebook import trange\n",
        "from TaPR_pkg import etapr"
      ],
      "execution_count": 3,
      "outputs": []
    },
    {
      "cell_type": "code",
      "metadata": {
        "id": "MsuAnhlWBmf4"
      },
      "source": [
        "# !pip freeze > ./gdrive/MyDrive/멋사_study/HAICon2021/requirements.txt"
      ],
      "execution_count": null,
      "outputs": []
    },
    {
      "cell_type": "code",
      "metadata": {
        "id": "F4jdPVLvTGr4"
      },
      "source": [
        "# Data Path Load\n",
        "path_train = sorted([x for x in Path(\"./gdrive/MyDrive/멋사_study/HAICon2021/HAICon2021_dataset/train\").glob(\"*.csv\")]) \n",
        "path_test = sorted([x for x in Path(\"./gdrive/MyDrive/멋사_study/HAICon2021/HAICon2021_dataset/test\").glob(\"*.csv\")]) \n",
        "path_validation = sorted([x for x in Path(\"./gdrive/MyDrive/멋사_study/HAICon2021/HAICon2021_dataset/validation\").glob(\"*.csv\")]) "
      ],
      "execution_count": 4,
      "outputs": []
    },
    {
      "cell_type": "code",
      "metadata": {
        "id": "Li86oLGLVwZN"
      },
      "source": [
        "def csv_to_df(target):\n",
        "    return pd.read_csv(target)\n",
        "\n",
        "def df_data_load(targets):\n",
        "    return pd.concat([csv_to_df(x) for x in targets])\n",
        "\n",
        "# Min-Max Regularization\n",
        "def normalize(df):\n",
        "    ndf = df.copy()\n",
        "    for c in df.columns:\n",
        "        #min-max가 0인경우에는 무의미한 col으로 생각하고, 0으로 채워줌\n",
        "        if df[useful_cols].min()[c] == df[useful_cols].max()[c]:\n",
        "            ndf[c] = df[c] - df[useful_cols].min()[c]\n",
        "        else:\n",
        "            ndf[c] = (df[c] - df[useful_cols].min()[c]) / (df[useful_cols].max()[c] - df[useful_cols].min()[c])\n",
        "    return ndf"
      ],
      "execution_count": 5,
      "outputs": []
    },
    {
      "cell_type": "code",
      "metadata": {
        "id": "qmnhqoEFUBq_",
        "colab": {
          "base_uri": "https://localhost:8080/"
        },
        "outputId": "03a829d4-d00b-43c2-bf8d-496d6a46bf33"
      },
      "source": [
        "raw_train = df_data_load(path_train) # timestamp,C01~C86\n",
        "raw_validation = df_data_load(path_validation) # timestamp,C01~C86, attack\n",
        "raw_test = df_data_load(path_test) # timestamp,C01~C86\n",
        "\n",
        "# time stamp는 attack event와 관련이 없는 관계로 삭제한다.\n",
        "useful_cols = raw_train.columns.drop('timestamp')\n",
        "useful_cols"
      ],
      "execution_count": 6,
      "outputs": [
        {
          "output_type": "execute_result",
          "data": {
            "text/plain": [
              "Index(['C01', 'C02', 'C03', 'C04', 'C05', 'C06', 'C07', 'C08', 'C09', 'C10',\n",
              "       'C11', 'C12', 'C13', 'C14', 'C15', 'C16', 'C17', 'C18', 'C19', 'C20',\n",
              "       'C21', 'C22', 'C23', 'C24', 'C25', 'C26', 'C27', 'C28', 'C29', 'C30',\n",
              "       'C31', 'C32', 'C33', 'C34', 'C35', 'C36', 'C37', 'C38', 'C39', 'C40',\n",
              "       'C41', 'C42', 'C43', 'C44', 'C45', 'C46', 'C47', 'C48', 'C49', 'C50',\n",
              "       'C51', 'C52', 'C53', 'C54', 'C55', 'C56', 'C57', 'C58', 'C59', 'C60',\n",
              "       'C61', 'C62', 'C63', 'C64', 'C65', 'C66', 'C67', 'C68', 'C69', 'C70',\n",
              "       'C71', 'C72', 'C73', 'C74', 'C75', 'C76', 'C77', 'C78', 'C79', 'C80',\n",
              "       'C81', 'C82', 'C83', 'C84', 'C85', 'C86'],\n",
              "      dtype='object')"
            ]
          },
          "metadata": {},
          "execution_count": 6
        }
      ]
    },
    {
      "cell_type": "markdown",
      "metadata": {
        "id": "hPySoON82ALf"
      },
      "source": [
        "z-score vs min-max algorithm <br>\n",
        "outlier검출 (z-score) <br>\n",
        "모든 데이터의 중요도를 동일하게(min-max)"
      ]
    },
    {
      "cell_type": "code",
      "metadata": {
        "id": "697PmM_0a_8M"
      },
      "source": [
        "# Exponential Weighted Function 통과\n",
        "# 센서에서 발생하는 noise를 **smoothing** 시켜주기 위해 적용\n",
        "df_train= normalize(raw_train[useful_cols]).ewm(alpha=0.9).mean()"
      ],
      "execution_count": 7,
      "outputs": []
    },
    {
      "cell_type": "code",
      "metadata": {
        "id": "4NlesCazhqcY"
      },
      "source": [
        "# min_max reg를 진행하고, boundary인 [0,1] 이외의 값이 존재하는지 체크하는 함수\n",
        "# Reguralizaion 제대로 됐는지 체크\n",
        "def boundary_check(df):\n",
        "    x = np.array(df, dtype=np.float32)\n",
        "    return np.any(x > 1.0), np.any(x < 0), np.any(np.isnan(x))"
      ],
      "execution_count": 8,
      "outputs": []
    },
    {
      "cell_type": "code",
      "metadata": {
        "colab": {
          "base_uri": "https://localhost:8080/"
        },
        "id": "te6LRhEdDXnD",
        "outputId": "11f89ff3-f571-4cf5-ed48-772f0903148c"
      },
      "source": [
        "boundary_check(df_train)"
      ],
      "execution_count": 9,
      "outputs": [
        {
          "output_type": "execute_result",
          "data": {
            "text/plain": [
              "(False, False, False)"
            ]
          },
          "metadata": {},
          "execution_count": 9
        }
      ]
    },
    {
      "cell_type": "code",
      "metadata": {
        "id": "nb77wFR3EAUR"
      },
      "source": [
        "# Model의 출력값과 실제 값의 차이가 클 때 이상상황으로 정의\n",
        "# Stacked RNN(GRU cells)\n",
        "# Unsupervised Learning\n",
        "\n",
        "WINDOW_GIVEN = 89\n",
        "WINDOW_SIZE = 90\n",
        "\n",
        "\n",
        "\n",
        "class HaiDataset(Dataset): # pytorch의 Dataset class 활용\n",
        "    def __init__(self, timestamps, df, stride=1, attacks=None):\n",
        "        self.ts = np.array(timestamps)\n",
        "        self.tag_values = np.array(df, dtype=np.float32)\n",
        "        self.valid_idxs = []\n",
        "        for L in trange(len(self.ts) - WINDOW_SIZE + stride):\n",
        "            R = L + WINDOW_SIZE - stride\n",
        "            if dateutil.parser.parse(self.ts[R]) - dateutil.parser.parse(\n",
        "                self.ts[L]\n",
        "            ) == timedelta(seconds=WINDOW_SIZE - stride):\n",
        "                self.valid_idxs.append(L)\n",
        "        self.valid_idxs = np.array(self.valid_idxs, dtype=np.int32)[::stride]\n",
        "        self.n_idxs = len(self.valid_idxs)\n",
        "        print(f\"# of valid windows: {self.n_idxs}\")\n",
        "        if attacks is not None:\n",
        "            self.attacks = np.array(attacks, dtype=np.float32)\n",
        "            self.with_attack = True\n",
        "        else:\n",
        "            self.with_attack = False\n",
        "\n",
        "    def __len__(self):\n",
        "        return self.n_idxs\n",
        "\n",
        "    def __getitem__(self, idx):\n",
        "        i = self.valid_idxs[idx]\n",
        "        last = i + WINDOW_SIZE - stride\n",
        "        item = {\"attack\": self.attacks[last]} if self.with_attack else {}\n",
        "        item[\"ts\"] = self.ts[i + WINDOW_SIZE - stride]\n",
        "        item[\"given\"] = torch.from_numpy(self.tag_values[i : i + WINDOW_GIVEN])\n",
        "        item[\"answer\"] = torch.from_numpy(self.tag_values[last])\n",
        "        return item"
      ],
      "execution_count": 10,
      "outputs": []
    },
    {
      "cell_type": "code",
      "metadata": {
        "colab": {
          "base_uri": "https://localhost:8080/",
          "height": 67,
          "referenced_widgets": [
            "5e0cfcb57a564795a99ac1b1b582e72b",
            "7ae70947dca2423b8f0af5e65ecfbb34",
            "0d425c731b9c45f78dd9cc9ac966bd2e",
            "4cfa97e2af9446f49287ccbdbb1e6002",
            "a0517ddf88ee44d8bdca542e90359427",
            "ef5751bac85747c7b076287cfa9ae761",
            "e4ea73062c2649e8b4e8f8bf817ea389",
            "b33a55dea8fd4fa4b82fb51a1cb114f9",
            "67e883ce506a4a73be2d48a56d673a64",
            "ea2f4e9100a947ff896c612bc8e3cbfc",
            "d7c66f382aad413baec465dadb7cb1b1"
          ]
        },
        "id": "sOBeCtaXGOwf",
        "outputId": "6529a6bb-2425-4f9a-ec23-e2e30a30bb14"
      },
      "source": [
        "train_data = HaiDataset(raw_train['timestamp'],df_train, stride=10)"
      ],
      "execution_count": 11,
      "outputs": [
        {
          "output_type": "display_data",
          "data": {
            "application/vnd.jupyter.widget-view+json": {
              "model_id": "5e0cfcb57a564795a99ac1b1b582e72b",
              "version_minor": 0,
              "version_major": 2
            },
            "text/plain": [
              "  0%|          | 0/1004322 [00:00<?, ?it/s]"
            ]
          },
          "metadata": {}
        },
        {
          "output_type": "stream",
          "name": "stdout",
          "text": [
            "# of valid windows: 100393\n"
          ]
        }
      ]
    },
    {
      "cell_type": "code",
      "metadata": {
        "colab": {
          "base_uri": "https://localhost:8080/"
        },
        "id": "gBcyWQrNuPOQ",
        "outputId": "d8827a76-d74c-4ee2-8f6e-b86a2618ee0d"
      },
      "source": [
        "train_data.valid_idxs"
      ],
      "execution_count": null,
      "outputs": [
        {
          "output_type": "execute_result",
          "data": {
            "text/plain": [
              "100387"
            ]
          },
          "metadata": {},
          "execution_count": 24
        }
      ]
    },
    {
      "cell_type": "code",
      "metadata": {
        "id": "OVWah2BBXTLC"
      },
      "source": [
        "N_HIDDENS = 100 # perceptron수\n",
        "N_LAYERS = 3\n",
        "BATCH_SIZE = 512\n",
        "\n",
        "class StackedGRU(torch.nn.Module):\n",
        "    def __init__(self, n_tags):\n",
        "        super().__init__() # torch.nn.Module에 담겨있는 함수를 사용하겠다.\n",
        "        self.rnn = torch.nn.GRU(\n",
        "            input_size=n_tags,\n",
        "            hidden_size=N_HIDDENS,# perceptron수\n",
        "            num_layers=N_LAYERS,\n",
        "            bidirectional=True, #양방향으로 할지 말지 forward + backward 두번씩 하니까 feature가 두배로 변함\n",
        "            dropout=0, # Data안버릴거임\n",
        "        )\n",
        "        self.fc = torch.nn.Linear(N_HIDDENS * 2, n_tags)\n",
        "\n",
        "    def forward(self, x):\n",
        "        x = x.transpose(0, 1)  # (batch, seq, params) -> (seq, batch, params)\n",
        "        self.rnn.flatten_parameters()\n",
        "        outs, _ = self.rnn(x)\n",
        "        out = self.fc(outs[-1])\n",
        "        return x[0] + out"
      ],
      "execution_count": null,
      "outputs": []
    },
    {
      "cell_type": "code",
      "metadata": {
        "colab": {
          "base_uri": "https://localhost:8080/"
        },
        "id": "wWvvRZ5huVCh",
        "outputId": "f355f4c0-6e96-41c4-d86d-7426377ee4d3"
      },
      "source": [
        "train_data"
      ],
      "execution_count": null,
      "outputs": [
        {
          "output_type": "execute_result",
          "data": {
            "text/plain": [
              "<__main__.HaiDataset at 0x7f89ffeed990>"
            ]
          },
          "metadata": {},
          "execution_count": 34
        }
      ]
    },
    {
      "cell_type": "code",
      "metadata": {
        "colab": {
          "base_uri": "https://localhost:8080/"
        },
        "id": "lpgGjOMdtdkp",
        "outputId": "fb5046ea-c4b6-4be5-b09f-f0234bae09c0"
      },
      "source": [
        "MODEL = StackedGRU(n_tags=df_train.shape[1]) # input사이즈를 train data columns수로 하겠다는뜻\n",
        "MODEL.cuda()"
      ],
      "execution_count": null,
      "outputs": [
        {
          "output_type": "execute_result",
          "data": {
            "text/plain": [
              "StackedGRU(\n",
              "  (rnn): GRU(86, 100, num_layers=3, bidirectional=True)\n",
              "  (fc): Linear(in_features=200, out_features=86, bias=True)\n",
              ")"
            ]
          },
          "metadata": {},
          "execution_count": 27
        }
      ]
    },
    {
      "cell_type": "code",
      "metadata": {
        "id": "hTd31JEXviEg"
      },
      "source": [
        "def train(dataset, model, batch_size, n_epochs):\n",
        "    dataloader = DataLoader(dataset, batch_size=batch_size, shuffle=True)\n",
        "    optimizer = torch.optim.AdamW(model.parameters())\n",
        "    loss_fn = torch.nn.MSELoss()\n",
        "    epochs = trange(n_epochs, desc=\"training\")\n",
        "    best = {\"loss\": sys.float_info.max}\n",
        "    loss_history = []\n",
        "    for e in epochs:\n",
        "        epoch_loss = 0\n",
        "        for batch in dataloader:\n",
        "            optimizer.zero_grad()\n",
        "            given = batch[\"given\"].cuda()\n",
        "            guess = model(given)\n",
        "            answer = batch[\"answer\"].cuda()\n",
        "            loss = loss_fn(answer, guess)\n",
        "            loss.backward()\n",
        "            epoch_loss += loss.item()\n",
        "            optimizer.step()\n",
        "        loss_history.append(epoch_loss)\n",
        "        epochs.set_postfix_str(f\"loss: {epoch_loss:.6f}\")\n",
        "        if epoch_loss < best[\"loss\"]:\n",
        "            best[\"state\"] = model.state_dict()\n",
        "            best[\"loss\"] = epoch_loss\n",
        "            best[\"epoch\"] = e + 1\n",
        "    return best, loss_history"
      ],
      "execution_count": null,
      "outputs": []
    },
    {
      "cell_type": "code",
      "metadata": {
        "id": "oCr-iVPvwKw9"
      },
      "source": [
        "import sys"
      ],
      "execution_count": null,
      "outputs": []
    },
    {
      "cell_type": "code",
      "metadata": {
        "colab": {
          "base_uri": "https://localhost:8080/",
          "height": 85,
          "referenced_widgets": [
            "d28ff907f85b4f61b650261333be8b8c",
            "8ce571e4144c4c1ab2e6a68d34afee76",
            "ea895a8520e24ab0b644da745e9c37f1",
            "e7c56feff2a9448fa7e6ab64ac9200d6",
            "44c6f54d4d2a4dc2be9bcd219a4d4808",
            "df82bd30fc08450e985eea0bc764e5e5",
            "39fc20589a1243049993097f8d294b4d",
            "bc988aad90d64685935b2a39dd9d2706",
            "fbac1cdbbd944054b39b1b195704b6a9",
            "a4977d19a6eb4d4e9144345a12a012ed",
            "61050cf4cd4e40ddb9782e8082dafb6c"
          ]
        },
        "id": "OO39vFC7v2TH",
        "outputId": "571bfae8-6bc6-4a3f-ecde-b1a2dfd5619a"
      },
      "source": [
        "%%time\n",
        "MODEL.train()\n",
        "BEST_MODEL, LOSS_HISTORY = train(train_data, MODEL, BATCH_SIZE,n_epochs=2 )"
      ],
      "execution_count": null,
      "outputs": [
        {
          "output_type": "display_data",
          "data": {
            "application/vnd.jupyter.widget-view+json": {
              "model_id": "d28ff907f85b4f61b650261333be8b8c",
              "version_minor": 0,
              "version_major": 2
            },
            "text/plain": [
              "training:   0%|          | 0/2 [00:00<?, ?it/s]"
            ]
          },
          "metadata": {}
        },
        {
          "output_type": "stream",
          "text": [
            "CPU times: user 37.6 s, sys: 143 ms, total: 37.7 s\n",
            "Wall time: 37.9 s\n"
          ],
          "name": "stdout"
        }
      ]
    },
    {
      "cell_type": "code",
      "metadata": {
        "colab": {
          "base_uri": "https://localhost:8080/"
        },
        "id": "LVtb-IPZwg6T",
        "outputId": "e6567611-7245-4ee6-f648-44089cecc0e2"
      },
      "source": [
        "BEST_MODEL[\"loss\"]"
      ],
      "execution_count": null,
      "outputs": [
        {
          "output_type": "execute_result",
          "data": {
            "text/plain": [
              "0.42157144204247743"
            ]
          },
          "metadata": {},
          "execution_count": 46
        }
      ]
    },
    {
      "cell_type": "code",
      "metadata": {
        "colab": {
          "base_uri": "https://localhost:8080/",
          "height": 295
        },
        "id": "A_hsmdEitgWt",
        "outputId": "c5965362-b9ca-407e-eb96-5d75b1d4361a"
      },
      "source": [
        "plt.figure(figsize=(16, 4))\n",
        "plt.title(\"Training Loss Graph\")\n",
        "plt.xlabel(\"epochs\")\n",
        "plt.ylabel(\"loss\")\n",
        "plt.yscale(\"log\")\n",
        "plt.plot(LOSS_HISTORY)\n",
        "plt.show()"
      ],
      "execution_count": null,
      "outputs": [
        {
          "output_type": "display_data",
          "data": {
            "image/png": "[encoded data removed]",
            "text/plain": [
              "<Figure size 1152x288 with 1 Axes>"
            ]
          },
          "metadata": {
            "needs_background": "light"
          }
        }
      ]
    },
    {
      "cell_type": "code",
      "metadata": {
        "id": "dldPsWcVvZMK"
      },
      "source": [
        "VALIDATION_DF_RAW = csv_to_df(VALIDATION_DATASET)\n",
        "VALIDATION_DF = normalize(VALIDATION_DF_RAW[VALID_COLUMNS_IN_TRAIN_DATASET])\n",
        "\n",
        "\n",
        "boundary_check(VALIDATION_DF)#VAL data에는 아무래도 attack 이 있었기 때문에 TRUE가 발생\n",
        "\n",
        "\n",
        "HAI_DATASET_VALIDATION = HaiDataset(\n",
        "    VALIDATION_DF_RAW[TIMESTAMP_FIELD], VALIDATION_DF, attacks=VALIDATION_DF_RAW[ATTACK_FIELD]\n",
        ")\n",
        "\n",
        "\n",
        "HAI_DATASET_VALIDATION[0]"
      ],
      "execution_count": null,
      "outputs": []
    },
    {
      "cell_type": "code",
      "metadata": {
        "id": "s8dr_JO1xcN6"
      },
      "source": [
        "def inference(dataset, model, batch_size):\n",
        "    dataloader = DataLoader(dataset, batch_size=batch_size)\n",
        "    ts, dist, att = [], [], []\n",
        "    with torch.no_grad():\n",
        "        for batch in dataloader:\n",
        "            given = batch[\"given\"].cuda()\n",
        "            answer = batch[\"answer\"].cuda()\n",
        "            guess = model(given)\n",
        "            ts.append(np.array(batch[\"ts\"]))\n",
        "            dist.append(torch.abs(answer - guess).cpu().numpy()) # 예측값과 정답값의 차이를 기록\n",
        "            try:\n",
        "                att.append(np.array(batch[\"attack\"]))\n",
        "            except:\n",
        "                att.append(np.zeros(batch_size))\n",
        "            \n",
        "    return (\n",
        "        np.concatenate(ts),\n",
        "        np.concatenate(dist),\n",
        "        np.concatenate(att),\n",
        "    )\n",
        "   "
      ],
      "execution_count": null,
      "outputs": []
    },
    {
      "cell_type": "code",
      "metadata": {
        "id": "5g1iie3kxvyV"
      },
      "source": [
        "%%time\n",
        "MODEL.eval()\n",
        "CHECK_TS, CHECK_DIST, CHECK_ATT = inference(HAI_DATASET_VALIDATION, MODEL, BATCH_SIZE)\n",
        "# CHECK_DIST = 모든 시간대에서 전체 feature(field) 차이\n",
        "# Model 평가\n"
      ],
      "execution_count": null,
      "outputs": []
    },
    {
      "cell_type": "code",
      "metadata": {
        "id": "rha9Aa8MyUsY"
      },
      "source": [
        "ANOMALY_SCORE = np.mean(CHECK_DIST, axis=1)\n",
        "# 그 차이의 평균을 스코어 지수로 표현"
      ],
      "execution_count": null,
      "outputs": []
    },
    {
      "cell_type": "code",
      "metadata": {
        "id": "BfHGD3ZTy-ms"
      },
      "source": [
        "def check_graph(xs, att, piece=2, THRESHOLD=None):# plot은 몇개 plot으로 그림 그려줄지 정하는거\n",
        "    l = xs.shape[0]\n",
        "    chunk = l // piece\n",
        "    fig, axs = plt.subplots(piece, figsize=(20, 4 * piece))\n",
        "    for i in range(piece):\n",
        "        L = i * chunk\n",
        "        R = min(L + chunk, l)\n",
        "        xticks = range(L, R)\n",
        "        axs[i].plot(xticks, xs[L:R])\n",
        "        if len(xs[L:R]) > 0:\n",
        "            peak = max(xs[L:R])\n",
        "            axs[i].plot(xticks, att[L:R] * peak * 0.3)\n",
        "        if THRESHOLD!=None:\n",
        "            axs[i].axhline(y=THRESHOLD, color='r')\n",
        "    plt.show()"
      ],
      "execution_count": null,
      "outputs": []
    },
    {
      "cell_type": "code",
      "metadata": {
        "id": "Dp-M0B-nzMwW"
      },
      "source": [
        "THRESHOLD = 0.026\n",
        "check_graph(ANOMALY_SCORE, CHECK_ATT, piece=2, THRESHOLD=THRESHOLD)\n",
        "# Threshold는 얼마로 지정할지 생각해봐야할듯 해당 수치 넘으면 공격, 아니면 정상\n",
        "# 주황색 그래프와 빨간색 그래프의 차이를 좁혀나가면서 Threshold를 정해주면됨"
      ],
      "execution_count": null,
      "outputs": []
    },
    {
      "cell_type": "code",
      "metadata": {
        "id": "NUC3YIFpzSVp"
      },
      "source": [
        "def put_labels(distance, threshold):\n",
        "    xs = np.zeros_like(distance)\n",
        "    xs[distance > threshold] = 1\n",
        "    return xs\n",
        "\n",
        "    #Threshold보다 distance가 크면 Attack 으로 간주하는 식"
      ],
      "execution_count": null,
      "outputs": []
    },
    {
      "cell_type": "code",
      "metadata": {
        "id": "1M535PlH1K1y"
      },
      "source": [
        "# 탐지 모델 - 윈도우 방식\n",
        "\n",
        "# 첫 시작의 몇 초는 판단을 내릴 수 없고 (예전 MA 식 만든거 생각해보면됨)\n",
        "# 데이터셋 불연속 시간 구간 체크 어려움\n",
        "# 위에서 보시는 바와 같이 정답에 비해 얻어낸 label의 수가 적습니다.\n",
        "\n"
      ],
      "execution_count": null,
      "outputs": []
    },
    {
      "cell_type": "code",
      "metadata": {
        "id": "lYOFX2XBz-Xw"
      },
      "source": [
        "#정상은 0 비정상 1\n",
        "def fill_blank(check_ts, labels, total_ts):\n",
        "    def ts_generator():\n",
        "        for t in total_ts:\n",
        "            yield dateutil.parser.parse(t)\n",
        "\n",
        "    def label_generator():\n",
        "        for t, label in zip(check_ts, labels):\n",
        "            yield dateutil.parser.parse(t), label\n",
        "\n",
        "    g_ts = ts_generator()\n",
        "    g_label = label_generator()\n",
        "    final_labels = []\n",
        "\n",
        "    try:\n",
        "        current = next(g_ts)\n",
        "        ts_label, label = next(g_label)\n",
        "        while True:\n",
        "            if current > ts_label:\n",
        "                ts_label, label = next(g_label)\n",
        "                continue\n",
        "            elif current < ts_label:\n",
        "                final_labels.append(0)\n",
        "                current = next(g_ts)\n",
        "                continue\n",
        "            final_labels.append(label)\n",
        "            current = next(g_ts)\n",
        "            ts_label, label = next(g_label)\n",
        "    except StopIteration:\n",
        "        return np.array(final_labels, dtype=np.int8)"
      ],
      "execution_count": null,
      "outputs": []
    },
    {
      "cell_type": "code",
      "metadata": {
        "id": "wCMHGU-L1UIa"
      },
      "source": [
        "%%time\n",
        "FINAL_LABELS = fill_blank(CHECK_TS, LABELS, np.array(VALIDATION_DF_RAW[TIMESTAMP_FIELD])) # Labeling 진행\n",
        "FINAL_LABELS.shape"
      ],
      "execution_count": null,
      "outputs": []
    },
    {
      "cell_type": "markdown",
      "metadata": {
        "id": "CCdyYQZyz_yj"
      },
      "source": [
        "## 평가"
      ]
    },
    {
      "cell_type": "code",
      "metadata": {
        "id": "Ln0Nz_cJ0AgP"
      },
      "source": [
        "TaPR = etapr.evaluate_haicon(anomalies=ATTACK_LABELS, predictions=FINAL_LABELS)\n",
        "print(f\"F1: {TaPR['f1']:.3f} (TaP: {TaPR['TaP']:.3f}, TaR: {TaPR['TaR']:.3f})\")\n",
        "print(f\"# of detected anomalies: {len(TaPR['Detected_Anomalies'])}\")\n",
        "print(f\"Detected anomalies: {TaPR['Detected_Anomalies']}\") # f1 score로 점수 받기"
      ],
      "execution_count": null,
      "outputs": []
    },
    {
      "cell_type": "code",
      "metadata": {
        "id": "XixJ0ZhE0CPp"
      },
      "source": [
        "TEST_DF_RAW = dataframe_from_csvs(TEST_DATASET)\n",
        "TEST_DF = normalize(TEST_DF_RAW[VALID_COLUMNS_IN_TRAIN_DATASET]).ewm(alpha=0.9).mean()\n",
        "\n",
        "boundary_check(TEST_DF)\n",
        "\n",
        "HAI_DATASET_TEST = HaiDataset(\n",
        "    TEST_DF_RAW[TIMESTAMP_FIELD], TEST_DF, attacks=None\n",
        ")\n",
        "HAI_DATASET_VALIDATION[0]"
      ],
      "execution_count": null,
      "outputs": []
    },
    {
      "cell_type": "code",
      "metadata": {
        "id": "jh0JAFl00LsC"
      },
      "source": [
        "%%time\n",
        "MODEL.eval()\n",
        "CHECK_TS, CHECK_DIST, CHECK_ATT = inference(HAI_DATASET_TEST, MODEL, BATCH_SIZE)"
      ],
      "execution_count": null,
      "outputs": []
    },
    {
      "cell_type": "code",
      "metadata": {
        "id": "CTHwtBoH0Nlc"
      },
      "source": [
        "ANOMALY_SCORE = np.mean(CHECK_DIST, axis=1)"
      ],
      "execution_count": null,
      "outputs": []
    },
    {
      "cell_type": "code",
      "metadata": {
        "id": "egOan7Wy0QTr"
      },
      "source": [
        "check_graph(ANOMALY_SCORE, CHECK_ATT, piece=3, THRESHOLD=THRESHOLD)"
      ],
      "execution_count": null,
      "outputs": []
    },
    {
      "cell_type": "code",
      "metadata": {
        "id": "TOYRG8A10TeE"
      },
      "source": [
        "LABELS = put_labels(ANOMALY_SCORE, THRESHOLD)\n",
        "LABELS, LABELS.shape"
      ],
      "execution_count": null,
      "outputs": []
    },
    {
      "cell_type": "code",
      "metadata": {
        "id": "9Cuo0DxR0agM"
      },
      "source": [
        ""
      ],
      "execution_count": null,
      "outputs": []
    },
    {
      "cell_type": "markdown",
      "metadata": {
        "id": "3rfMZnHk0bSq"
      },
      "source": [
        "## 저장"
      ]
    },
    {
      "cell_type": "code",
      "metadata": {
        "id": "kmtVHqyG0WJr"
      },
      "source": [
        "submission = pd.read_csv('data/sample_submission.csv')\n",
        "submission.index = submission['timestamp']\n",
        "submission.loc[CHECK_TS,'attack'] = LABELS\n",
        "submission"
      ],
      "execution_count": null,
      "outputs": []
    },
    {
      "cell_type": "code",
      "metadata": {
        "id": "WZlkcmA70Wj7"
      },
      "source": [
        "submission.to_csv('baseline.csv', index=False)"
      ],
      "execution_count": null,
      "outputs": []
    }
  ]
}