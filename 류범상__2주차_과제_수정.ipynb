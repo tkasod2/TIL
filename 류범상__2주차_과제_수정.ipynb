{
  "nbformat": 4,
  "nbformat_minor": 0,
  "metadata": {
    "colab": {
      "name": "류범상_-2주차 과제_수정.ipynb",
      "provenance": [],
      "collapsed_sections": [],
      "include_colab_link": true
    },
    "kernelspec": {
      "name": "python3",
      "display_name": "Python 3"
    },
    "language_info": {
      "name": "python"
    }
  },
  "cells": [
    {
      "cell_type": "markdown",
      "metadata": {
        "id": "view-in-github",
        "colab_type": "text"
      },
      "source": [
        "<a href=\"https://colab.research.google.com/github/tkasod2/TIL/blob/main/%EB%A5%98%EB%B2%94%EC%83%81__2%EC%A3%BC%EC%B0%A8_%EA%B3%BC%EC%A0%9C_%EC%88%98%EC%A0%95.ipynb\" target=\"_parent\"><img src=\"https://colab.research.google.com/assets/colab-badge.svg\" alt=\"Open In Colab\"/></a>"
      ]
    },
    {
      "cell_type": "markdown",
      "metadata": {
        "id": "Irx6WOxQkKKG"
      },
      "source": [
        "---\n",
        "#### 제로베이스(https://zero-base.co.kr/)\n",
        "#### 바로 써먹는 분석 완주반 \n",
        "---\n",
        "#### **Guideline**\n",
        "- 총점 100점으로 주차별로 약 2~3개 문제가 제시됩니다\n",
        "- 각 문제마다 안내사항과 요구사항을 꼼꼼하게 확인해주신 후, 코드를 작성해주세요 \n",
        "- 코드는 제시드리는 결과만 같게 나온다면, 추후 모범답안으로 드리는 코드와 달라도 괜찮습니다 \n",
        "\n",
        "#### **Notice!** \n",
        "- 제출 기한을 반드시 지켜주세요 \n",
        "- 제출 전 코드가 정상적으로 실행되는지 검토해주세요\n",
        "- 제출하신 코드에 대해 멘토님의 일부 주관적인 부분점수가 반영될 수 있습니다\n",
        "- 부분점수 반영 시 상세한 피드백을 드릴 예정이오니, 문의가 있을시 멘토님과 담당 매니저님이 적극 소통할 예정입니다\n",
        "---\n",
        "# **2주차 과제**\n",
        "- 총 100점 총 5문제\n",
        "- 모두 코드를 입력해야 합니다 (답만 쓰는 경우는 인정되지 않음)\n",
        "---"
      ]
    },
    {
      "cell_type": "markdown",
      "metadata": {
        "id": "021f0rTRnVfs"
      },
      "source": [
        "아래 과제가 돌아가기 위해 필요한 모든 패키지를 불러옵니다"
      ]
    },
    {
      "cell_type": "code",
      "metadata": {
        "id": "DTYBSgtznfPB"
      },
      "source": [
        "import seaborn as sns\n",
        "import matplotlib.pyplot as plt\n",
        "import pandas as pd"
      ],
      "execution_count": null,
      "outputs": []
    },
    {
      "cell_type": "markdown",
      "metadata": {
        "id": "grWpUx_GqUQn"
      },
      "source": [
        "수정 금지) 아래는 예제 데이터를 불러오는 코드입니다.\n",
        "- user_data 에 대한 설명은 다음과 같습니다.\n",
        "  - user_id: 유저별 unique ID\n",
        "  - session_id: 유저의 세션 ID\n",
        "  - date: event 발생 날짜"
      ]
    },
    {
      "cell_type": "code",
      "metadata": {
        "id": "XkPQZx-Ink6f"
      },
      "source": [
        "# 수정 금지: 데이터셋 준비 #\n",
        "a = (1051,1051,1051,1051,1051,2073,2073,2073,2073,3063,3063,3063,3053,3024,3024)\n",
        "b = ('aBxD','aBxD','aBxD','aBxD','aBxD','bDbD','bDbD','bDbC','bDbC','aaaa','aaab','aaac', '5DaD','aDDD','aDDE')\n",
        "c = ('2021-10-31','2021-10-31','2021-10-31','2021-11-01','2021-11-01','2021-10-31','2021-10-31','2021-10-30', '2021-10-29','2021-11-07','2021-11-08','2021-11-09','2021-11-09','2021-11-09','2021-11-10')\n",
        "user_data = pd.DataFrame({\"user_id\":a, \"session_id\":b, \"date\": c})"
      ],
      "execution_count": null,
      "outputs": []
    },
    {
      "cell_type": "markdown",
      "metadata": {
        "id": "zLmiBDpGqYDm"
      },
      "source": [
        "### 1. 평균 Daily Active User 를 구해서 avg_active_user라는 변수에 저장하시오. (20점)\n",
        "\n",
        "- 제약사항\n",
        "  - 위의 user_data 의 기간 전체를 사용합니다\n",
        "  - 단, 유저가 방문하지 않은 날짜는 제외(무시)하고, DAU 를 구하시오 \n",
        "  - avg_active_user 은 DataFrame이 아닌 숫자(float)로 저장되어야 합니다."
      ]
    },
    {
      "cell_type": "code",
      "metadata": {
        "id": "xGE74WCZqPeI",
        "colab": {
          "base_uri": "https://localhost:8080/"
        },
        "outputId": "dd4773e9-c368-4a16-88fb-5e2598295438"
      },
      "source": [
        "# df = user_data.groupby('date')['user_id'].nunique() \n",
        "# avg_active_user = pd.DataFrame({'date':df.index, 'user_count':df.values}).mean()\n",
        "# avg_active_user\n",
        "\n",
        "# ### 여기에 코드를 입력해 주세요 ####\n",
        "data = user_data.copy()\n",
        "data.drop_duplicates(inplace=True)\n",
        "data['date'] = pd.to_datetime(data['date'])\n",
        "\n",
        "# # 1안 (0.916667)\n",
        "# total_day = (data['date'].max() - data['date'].min()).days\n",
        "# avg_active_user = len(data)/int(total_day)\n",
        "\n",
        "# 2안 (1.375)\n",
        "avg_active_user = len(data)/len(data['date'].drop_duplicates())\n",
        "\n",
        "avg_active_user"
      ],
      "execution_count": null,
      "outputs": [
        {
          "output_type": "execute_result",
          "data": {
            "text/plain": [
              "1.375"
            ]
          },
          "metadata": {},
          "execution_count": 5
        }
      ]
    },
    {
      "cell_type": "code",
      "metadata": {
        "id": "ogjm3r_utnqT",
        "colab": {
          "base_uri": "https://localhost:8080/"
        },
        "outputId": "98e7814b-cd06-4b02-cb3e-a1c819dfb459"
      },
      "source": [
        "avg_active_user"
      ],
      "execution_count": null,
      "outputs": [
        {
          "output_type": "execute_result",
          "data": {
            "text/plain": [
              "1.375"
            ]
          },
          "metadata": {},
          "execution_count": 6
        }
      ]
    },
    {
      "cell_type": "markdown",
      "metadata": {
        "id": "2ZJ0VKMjnkkh"
      },
      "source": [
        "### 2. 11월 한 달 동안의 DAU/MAU 지표를 구하시오 (총 30점, 4문제)\n",
        "- user_data 를 사용합니다\n",
        "- 단, 유저가 방문하지 않은 날짜는 제외(무시)하고, DAU 를 구하시오 "
      ]
    },
    {
      "cell_type": "markdown",
      "metadata": {
        "id": "E66M-UZnuIUG"
      },
      "source": [
        "2-1) 11월 데이터만 필터링하여 november_data 변수에 dataframe 형태로 저장합니다 (5점)"
      ]
    },
    {
      "cell_type": "code",
      "metadata": {
        "id": "-rpfkwuhtLYF",
        "colab": {
          "base_uri": "https://localhost:8080/",
          "height": 300
        },
        "outputId": "7b4233f5-ea84-44db-fcdb-bc43a42e5594"
      },
      "source": [
        "# november_data = user_data.loc[(user_data['date'] > '2021-10-31')]\n",
        "### 여기에 코드를 입력해 주세요 ####\n",
        "user_data\n",
        "df = user_data.copy()\n",
        "df['date'] = pd.to_datetime(df['date'])\n",
        "november_data = df[df['date'].dt.month == 11]\n",
        "november_data"
      ],
      "execution_count": null,
      "outputs": [
        {
          "output_type": "execute_result",
          "data": {
            "text/html": [
              "<div>\n",
              "<style scoped>\n",
              "    .dataframe tbody tr th:only-of-type {\n",
              "        vertical-align: middle;\n",
              "    }\n",
              "\n",
              "    .dataframe tbody tr th {\n",
              "        vertical-align: top;\n",
              "    }\n",
              "\n",
              "    .dataframe thead th {\n",
              "        text-align: right;\n",
              "    }\n",
              "</style>\n",
              "<table border=\"1\" class=\"dataframe\">\n",
              "  <thead>\n",
              "    <tr style=\"text-align: right;\">\n",
              "      <th></th>\n",
              "      <th>user_id</th>\n",
              "      <th>session_id</th>\n",
              "      <th>date</th>\n",
              "    </tr>\n",
              "  </thead>\n",
              "  <tbody>\n",
              "    <tr>\n",
              "      <th>3</th>\n",
              "      <td>1051</td>\n",
              "      <td>aBxD</td>\n",
              "      <td>2021-11-01</td>\n",
              "    </tr>\n",
              "    <tr>\n",
              "      <th>4</th>\n",
              "      <td>1051</td>\n",
              "      <td>aBxD</td>\n",
              "      <td>2021-11-01</td>\n",
              "    </tr>\n",
              "    <tr>\n",
              "      <th>9</th>\n",
              "      <td>3063</td>\n",
              "      <td>aaaa</td>\n",
              "      <td>2021-11-07</td>\n",
              "    </tr>\n",
              "    <tr>\n",
              "      <th>10</th>\n",
              "      <td>3063</td>\n",
              "      <td>aaab</td>\n",
              "      <td>2021-11-08</td>\n",
              "    </tr>\n",
              "    <tr>\n",
              "      <th>11</th>\n",
              "      <td>3063</td>\n",
              "      <td>aaac</td>\n",
              "      <td>2021-11-09</td>\n",
              "    </tr>\n",
              "    <tr>\n",
              "      <th>12</th>\n",
              "      <td>3053</td>\n",
              "      <td>5DaD</td>\n",
              "      <td>2021-11-09</td>\n",
              "    </tr>\n",
              "    <tr>\n",
              "      <th>13</th>\n",
              "      <td>3024</td>\n",
              "      <td>aDDD</td>\n",
              "      <td>2021-11-09</td>\n",
              "    </tr>\n",
              "    <tr>\n",
              "      <th>14</th>\n",
              "      <td>3024</td>\n",
              "      <td>aDDE</td>\n",
              "      <td>2021-11-10</td>\n",
              "    </tr>\n",
              "  </tbody>\n",
              "</table>\n",
              "</div>"
            ],
            "text/plain": [
              "    user_id session_id       date\n",
              "3      1051       aBxD 2021-11-01\n",
              "4      1051       aBxD 2021-11-01\n",
              "9      3063       aaaa 2021-11-07\n",
              "10     3063       aaab 2021-11-08\n",
              "11     3063       aaac 2021-11-09\n",
              "12     3053       5DaD 2021-11-09\n",
              "13     3024       aDDD 2021-11-09\n",
              "14     3024       aDDE 2021-11-10"
            ]
          },
          "metadata": {},
          "execution_count": 9
        }
      ]
    },
    {
      "cell_type": "code",
      "metadata": {
        "id": "y0rNaXupujtp",
        "colab": {
          "base_uri": "https://localhost:8080/",
          "height": 300
        },
        "outputId": "3608d76b-0ae1-4d07-9728-9783cd85d06a"
      },
      "source": [
        "november_data"
      ],
      "execution_count": null,
      "outputs": [
        {
          "output_type": "execute_result",
          "data": {
            "text/html": [
              "<div>\n",
              "<style scoped>\n",
              "    .dataframe tbody tr th:only-of-type {\n",
              "        vertical-align: middle;\n",
              "    }\n",
              "\n",
              "    .dataframe tbody tr th {\n",
              "        vertical-align: top;\n",
              "    }\n",
              "\n",
              "    .dataframe thead th {\n",
              "        text-align: right;\n",
              "    }\n",
              "</style>\n",
              "<table border=\"1\" class=\"dataframe\">\n",
              "  <thead>\n",
              "    <tr style=\"text-align: right;\">\n",
              "      <th></th>\n",
              "      <th>user_id</th>\n",
              "      <th>session_id</th>\n",
              "      <th>date</th>\n",
              "    </tr>\n",
              "  </thead>\n",
              "  <tbody>\n",
              "    <tr>\n",
              "      <th>3</th>\n",
              "      <td>1051</td>\n",
              "      <td>aBxD</td>\n",
              "      <td>2021-11-01</td>\n",
              "    </tr>\n",
              "    <tr>\n",
              "      <th>4</th>\n",
              "      <td>1051</td>\n",
              "      <td>aBxD</td>\n",
              "      <td>2021-11-01</td>\n",
              "    </tr>\n",
              "    <tr>\n",
              "      <th>9</th>\n",
              "      <td>3063</td>\n",
              "      <td>aaaa</td>\n",
              "      <td>2021-11-07</td>\n",
              "    </tr>\n",
              "    <tr>\n",
              "      <th>10</th>\n",
              "      <td>3063</td>\n",
              "      <td>aaab</td>\n",
              "      <td>2021-11-08</td>\n",
              "    </tr>\n",
              "    <tr>\n",
              "      <th>11</th>\n",
              "      <td>3063</td>\n",
              "      <td>aaac</td>\n",
              "      <td>2021-11-09</td>\n",
              "    </tr>\n",
              "    <tr>\n",
              "      <th>12</th>\n",
              "      <td>3053</td>\n",
              "      <td>5DaD</td>\n",
              "      <td>2021-11-09</td>\n",
              "    </tr>\n",
              "    <tr>\n",
              "      <th>13</th>\n",
              "      <td>3024</td>\n",
              "      <td>aDDD</td>\n",
              "      <td>2021-11-09</td>\n",
              "    </tr>\n",
              "    <tr>\n",
              "      <th>14</th>\n",
              "      <td>3024</td>\n",
              "      <td>aDDE</td>\n",
              "      <td>2021-11-10</td>\n",
              "    </tr>\n",
              "  </tbody>\n",
              "</table>\n",
              "</div>"
            ],
            "text/plain": [
              "    user_id session_id       date\n",
              "3      1051       aBxD 2021-11-01\n",
              "4      1051       aBxD 2021-11-01\n",
              "9      3063       aaaa 2021-11-07\n",
              "10     3063       aaab 2021-11-08\n",
              "11     3063       aaac 2021-11-09\n",
              "12     3053       5DaD 2021-11-09\n",
              "13     3024       aDDD 2021-11-09\n",
              "14     3024       aDDE 2021-11-10"
            ]
          },
          "metadata": {},
          "execution_count": 10
        }
      ]
    },
    {
      "cell_type": "markdown",
      "metadata": {
        "id": "C4i4QhKGuRNX"
      },
      "source": [
        "2-2) november_data를 이용하여, 11월 DAU를 구한 후 dau_11 변수에 저장합니다. (10점)\n",
        "- dau_11은 숫자(float)여야 합니다.\n",
        "\n"
      ]
    },
    {
      "cell_type": "code",
      "metadata": {
        "id": "smVSwYXPuPIw",
        "colab": {
          "base_uri": "https://localhost:8080/"
        },
        "outputId": "dc4ebce5-5b9d-4157-c73b-dec6cac92122"
      },
      "source": [
        "# november_data = user_data.loc[(user_data['date'] > '2021-10-31')]\n",
        "# df_2 = november_data.groupby('date')['user_id'].nunique() \n",
        "# dau_11 = pd.DataFrame({'date':df_2.index, 'user_count':df_2.values})\n",
        "# dau_11 = dau_11.mean()\n",
        "\n",
        "### 여기에 코드를 입력해 주세요 ####\n",
        "nov = november_data.copy()\n",
        "nov.drop_duplicates(inplace=True)\n",
        "dau_11 = len(nov) / len(nov['date'].value_counts().keys())\n",
        "dau_11"
      ],
      "execution_count": null,
      "outputs": [
        {
          "output_type": "execute_result",
          "data": {
            "text/plain": [
              "1.4"
            ]
          },
          "metadata": {},
          "execution_count": 11
        }
      ]
    },
    {
      "cell_type": "code",
      "metadata": {
        "id": "BPsn8De6uzpe",
        "colab": {
          "base_uri": "https://localhost:8080/"
        },
        "outputId": "f3626492-facc-4452-a4ef-49fe1eed415f"
      },
      "source": [
        "dau_11"
      ],
      "execution_count": null,
      "outputs": [
        {
          "output_type": "execute_result",
          "data": {
            "text/plain": [
              "user_count    1.4\n",
              "dtype: float64"
            ]
          },
          "metadata": {},
          "execution_count": 18
        }
      ]
    },
    {
      "cell_type": "markdown",
      "metadata": {
        "id": "6rQcDt7Du3Al"
      },
      "source": [
        "2-3) november_data를 이용하여, 11월 MAU를 구한 후 mau_11 변수에 저장합니다. (10점)\n",
        "- mau_11은 숫자(float)여야 합니다."
      ]
    },
    {
      "cell_type": "code",
      "metadata": {
        "id": "7CXfnZlFnkXO",
        "colab": {
          "base_uri": "https://localhost:8080/"
        },
        "outputId": "d1fdcec1-ec5a-44c1-a568-e78516606977"
      },
      "source": [
        "### 여기에 코드를 입력해 주세요 #### \n",
        "nov_2nd = november_data.copy()\n",
        "nov_2nd.drop_duplicates(inplace=True)\n",
        "mau_11 = float(len(nov_2nd))\n",
        "mau_11"
      ],
      "execution_count": null,
      "outputs": [
        {
          "output_type": "execute_result",
          "data": {
            "text/plain": [
              "7.0"
            ]
          },
          "metadata": {},
          "execution_count": 14
        }
      ]
    },
    {
      "cell_type": "code",
      "metadata": {
        "id": "rSPxfpc3vmPm",
        "colab": {
          "base_uri": "https://localhost:8080/"
        },
        "outputId": "37499b95-d666-4d16-ba39-6affda58586c"
      },
      "source": [
        "mau_11"
      ],
      "execution_count": null,
      "outputs": [
        {
          "output_type": "execute_result",
          "data": {
            "text/plain": [
              "7.0"
            ]
          },
          "metadata": {},
          "execution_count": 15
        }
      ]
    },
    {
      "cell_type": "markdown",
      "metadata": {
        "id": "pgBj_7jJvxmk"
      },
      "source": [
        "2-4) 앞에서 구한 지표를 바탕으로 11월 1달 DAU/MAU 를 구하여 dau_mau_11 변수에 저장합니다. (5점)"
      ]
    },
    {
      "cell_type": "code",
      "metadata": {
        "id": "14l33uDXr9NQ"
      },
      "source": [
        "### 여기에 코드를 입력해 주세요 ####\n",
        "dau_mau_11 = dau_11/mau_11"
      ],
      "execution_count": null,
      "outputs": []
    },
    {
      "cell_type": "code",
      "metadata": {
        "id": "hgqKadDRwAH_",
        "colab": {
          "base_uri": "https://localhost:8080/"
        },
        "outputId": "33ce9966-afda-4333-c7fb-485e4aebd533"
      },
      "source": [
        "dau_mau_11"
      ],
      "execution_count": null,
      "outputs": [
        {
          "output_type": "execute_result",
          "data": {
            "text/plain": [
              "0.19999999999999998"
            ]
          },
          "metadata": {},
          "execution_count": 17
        }
      ]
    },
    {
      "cell_type": "markdown",
      "metadata": {
        "id": "6YC3KsOGr3HF"
      },
      "source": [
        "### 3. 다음 데이터를 가지고 코호트 분석을 위한 히트맵 그래프를 만들어 주세요 (50점)\n",
        "\n",
        "아래 제약 사항을 잘 읽어 주세요.\n",
        "- 기간:  2021-01 ~ 2021-05월\n",
        "- 분석 목적: 해당 기간 동안 기간 별 **재방문율 변화**를 파악합니다.\n",
        "- 그래프 크기: 그래프 크기는 (9, 7) 입니다. \n",
        "- 그래프 내 값은 백분율로 **%를 포함하여 소숫점 2자리**까지 그려주세요.\n",
        "- **첫 방문월도 포함**하여 그래프를 그려주세요.\n",
        "- 그래프 예시는 다음과 같습니다.\n",
        "\n",
        "\n",
        "\n",
        "![image.png](data:image/png;base64,iVBORw0KGgoAAAANSUhEUgAAAi8AAAGzCAIAAABo+mC2AAABQWlDQ1BJQ0MgUHJvZmlsZQAAKJFjYGDiSSwoyGFhYGDIzSspCnJ3UoiIjFJgf8rAzSDKwMcgy6CcmFxc4BgQ4ANUwgCjUcG3awyMIPqyLsgsl15p80T/nBnvX6cop/F1bcRUjwK4UlKLk4H0HyBOSC4oKmFgYIwBspXLSwpA7AYgW6QI6CggewqInQ5hrwCxkyDsPWA1IUHOQPYFIFsgOSMxBch+AGTrJCGJpyOxofaCAFu4kYmJEQGHkgpKUitKQLRzfkFlUWZ6RomCIzB0UhU885L1dBSMDIwMGRhAYQ1R/fkGOAwZxTgQYpUHGRgcdjMwMIsixCL0GBjWyDMwiPkixFSeMzAIqzEw7DxVkFiUCHcA4zeW4jRjiLcYubczMLBO+///czgDA7smA8Pf6////97+///fZUDzbzEwHPgGANJ8XGmXbl4oAAAAOGVYSWZNTQAqAAAACAABh2kABAAAAAEAAAAaAAAAAAACoAIABAAAAAEAAAIvoAMABAAAAAEAAAGzAAAAABHilvoAAEAASURBVHgB7J0HXBTHF8cjvffeREQURcReEhsW1Nj7XzFWLLE3REWw9x5RsWNJNGosYK+xRLFgQxSUKtJ77/7fuWa9UOW8O5bjt+FzmX375s3Md897N2/e7NX69OnTDzhAAARAAARAoEoJSFVp62gcBEAABEAABHgE4I3wPgABEAABEKh6AvBGVX8P0AMQAAEQAAF4I7wHQAAEQAAEqp4AvFHV3wP0AARAAARAAN4I7wEQAAEQAIGqJwBvVPX3AD0AARAAgWpNYN26dfb29vXr1w8KCio2kMLCwmXLlnXt2rVbt24nT54sdpX/FN6InwbKIAACIAAClSbQpUuXY8eOGRsbl6zp7e0dERFx9erVEydO/Pbbb5GRkSV1GAm8UVlkIAcBEAABEPgmAi1atDA0NCxV9eLFi0OGDJGSktLS0qIZ0uXLl0tVI6FMWRcgBwEQAAEQAAEikPb54Eeh9vngl5RVjo6ONjIyYq6Sx4qJiSlLs2Z5I8Wm08oCIZFyzVb2EjmucgbVqqVZOVcl71L/JnqSN6hyRtTb+svnWjk6EnZJR0Von9ICfwCuH1d/x44d/GCnTZs2ffp0fsn3l4U2zu/vCiyAAAiAAAhwkMDo0aMHDBjA3zGaGvGfllOm+VBUVJStrS3p8M+TSlaBNyrJBBIQAAEQkEQCtQRMFPj2uFxJaj169KBUuu7du6ekpFy/fp2SHUrqMBIBO1eWOchBAARAAAQ4SqBWrR8E+6toPCtXruzQoQOtCY0dO/bnn38mdScnp1evXlGhX79+JiYm5I2GDh06depUU1PTsozVqlG/KCFw2LQsfByXY92I4zfo+7uHdaPvZ8hxC8JcN2o+U7DBZj/dJljFStVCpK5SuKAMAiAAAtWWgKCROvEMGN5IPJzRCgiAAAhUNQEK03H4wLoRh28OugYCIAACNYYA5kY15lZjoCAAAjWcACJ1NfwNgOGDAAiAACcIIFLHiduAToAACIAACHCYACJ1HL456BoIgAAICJEAInVChAlTIAACIAACAhJApE5AcKgGAiAAAiBQYwggUldjbjUGCgIgUMMJIFJXw98AGD4IgAAIcIIAInWcuA3oBAiAAAiAAIcJIFLH4ZuDroEACICAEAkgUidEmDAFAiAAAiAgIAFE6gQEh2ogAAIgAAI1hgAidTXmVmOgIAACNZwAInU1/A2A4YMACIAAJwhw2xvhFyU48SZBJ0AABECghhNApK6GvwEwfBAAgRpDQIrTv7YHb1Rj3ogYKAiAQA0ngEhdDX8DYPggAAIgAAIVEsDcqEJEUAABEAABiSDA7f1G8EYS8SbDIEAABECgQgKI1FWICAogAAIgAAI1nADmRjX8DYDhgwAI1BgCiNTVmFuNgYIACIAAhwlwO1KHuRGH3zroGgiAAAgIkQC350Z4FoMQbzVMgQAIgAAICEhAmHOj5ORkZ2fniIgIOTm52rVrL1++XEtL6/nz525ubrm5ucbGxhs2bNDW1g4NDSVJfHy8jIxM48aN3d3dFRQU8vLypkyZ4u/vT+Pw9fUtdTQ3b95cv359YWFho0aN1qxZo6io+C21SjX1jcLJwzo49m1jY2n45+WnE92PMrU6tbLa6jLU1EDrsX/YRPcjEdHJJJeTldm+aNiArnZZOflbvK5vP3qzZBPTR3aeM6abkoLsmevPZ6w+kZdfQDpmhlp7ljm2tDH/EJM0e93JW76BJKQmdrmNUJCXc954+uSVpyRRV1G8tGdG9wlbM7JyS1oWhcREW2nN/+yaW2jlFRRd8Pvo9ufLwqJPjUzUN/3SrJ6h6rvo9LmH/V5HphZrWkNJdtMvzTs21EvKyFtzxv/M40hGYUBLk4UDbLRU5O68iZvj9TQlK5/ky4baDmlj9j42fZLno+iUbJKQWjMLrSUnXhYzK7bTnyw0hzUz0lWWS8nO3/53WEBshq2R6sR2ZroqckFxmdvvhMVn5BXrjJ6K3PQO5lZ6ynRpzz8RL6PSGYU+NvoDbQ3kZaT+CU3efT+8oOgTbYSf3cmimYlaYFzmhpvB2flFpDm4iUFe4afz/rHFzIrtNCkmct/CiQ1aduj7qws1+vqfm7dP7M/OSDO3afaz01xFFbViPYkNf39x7+aEqAgdI7NeTnP0a1uSwqdPn26f2Pf89iUq23Xq2WnYhFq1auVkZZ79bUVU8Nu6dq37THaWkpKmq5f2b7GwbVG/ZftiZsVweurEsYve50LeB3V16OW6bDXT4pNHDzetXRkbE93QpjEJDQyNivUkOurjqqWLA/xf6RsYzlmwuGXrtozC8WNex7z25+TkdO7Sfd5CN/rQKygoWL7Exfefe40a265Yu1lZRYU0vQ7skZeTG+44ppjZqjnldqROmHMjev9NmDDhypUr3t7epqamGzduLCoqmj9/PvkeErZo0YIkdA9kZWUXLlx4+fLl8+fPZ2dn79+/n4RSUlLjx48/dOhQWTcpMzNzyZIlu3fvvnbtmrKy8jfWKsvaN8qj41PX7b3sde4hq6+toXx8o9PynReMOjn7BUQcWTuOueQ6uZelmW79Xm49Jm6bPbprt3bWbBWm0LWt9dyx3XpN2k46dUx0lkzpxcgPrx37IjDSuPOCpR4+v28Yr6PJewdvmDd40EzPvlM9ti4cKvX5YR7LZ/TddPCq2FwR9YFcUUJ6blPni91W3mhjpTOmo4WsdK2Dv7Y97fvBerbPyQcRVCYJMwr2dfX/7PILi2znX5i2//GakU2tDFXpEr2uc2w6/eBjkmfnFa4ZYUdCO3NNWzMNO+eLj98nTuthRRJVBZkp3a3WnQtgrYm50MRY7ZeWJr/9HfY/r2eLfAJj0nNV5WUWdK37+9MoxyPP3ydkzbO3KNmlOZ0tQhKzRh15fuzJxwVd6qop8L7h2RmrDWpi4HYx0On4SwM1+f81533GtTXX/PTDp1FHn2flF3ZvoEsS8mQta2v4vK4yV0R9uHLoN8M69alAR3xk2OUDW/tMWTDD409ZOXm6xMjZ18KC/FOb3Rv92GW251827btRmSR09fnNC0FP/hm/ynPC6j3v/B4+u+nzWehDvopMpcbHBD25T5LIdwHpyYlV4oqodR1dvTHjJ/3cdyCVmSMlOXnRvJlOU6ZfuvVPg4Y2S1zm/nvl6//dF823amB96eb9iVNnuDrPTk5Oomvkco4e2r9t14HTPteiPkbu372DhH/fvE6RsAs37imrqJ776yRJ6NK9v28NHu741VzVlqh/gv2JpdvC9EYaGhqtW7dmum1nZxcVFUVzHXl5efJDJBw+fDh5ICqYmJg0bNiQCuSBbG1tSY3KNE9q166dqirvw6vU486dOzY2Nubm5nSVTF26xPsWVmGtUk19u/DczRfet18mpWSyVfrZ270Jif7r+rPcvIKVuy82tjK2Mtenq459Wq/ZezklPTswNPbgmfuj+rZhqzAFUvA6++BNSAzprNl7ybEPT8HSTM+ugcmKXRdycvPP3nj++l1U/y68T2plRbmA4OhXQR/z8gu11ZVbNKptbqR9+tqzYjZFemqmo+T9NDK3oCg+Lff261grI7V2VrrSUrX23nhPs6X9t4LpXf1jAz3+PijKSfdqZrz+XEBWbuGj4MSrL6IHtzEjhYGtza69jPF9l0hyutqzqbGyvAzZf/Q+kUzdfRtvpqNMai79G+26GpSRw5syVsnxv2ZGfz6LDorP/PTDD0lZ+fTX1lzjQ3IOTW7yCz8d94sy11IyVlfg75uRmnxdHaU//KJofvMgLCU8OZtcDinY19O+HpjwISUnM6/wz2dR9vV0SKinKu8fnV706YdXUekGqvIkcWpndtA3kiRVdQQ8uKWgpGLeqCnTgdf3b1g2bWPWwFZOQbHD4DGBj+/lZmfx9y38zYuiosKWPQbKyMq1dBhAk6Kw189J4dW9a616DVbT1lXV0mnda/CrO1dJmBIfU7thE9I0rd84JS6aKt44uqvbL1P5DYqz3Mm+W4fOXdQ11NlG/751rU5dS/tuDvQxNX7Sr+/fBYaHhrBXqRARHhb0NmD8pGnyCgo0B7KwrHf7xjWSX/I517vfQIu6lmpq6mMmTL7oc5aE0VGRTZu3og+lZi1aRX38QJKtG1ZPnz2fJFTGUSEBYXojtjGaEv3xxx/29vbR0dFGRl9mvhS1I3lKSgqrRpPc06dPkxorKafAb4ps0mk5yqK71LCuwcugj4z9rJy8kMiEhnUNNVQVDXXVyXkwcipYWxgW64N1XQN+BQMdNS11ZbIWGpnIznhIgaxRxfikdPJz9EcBkOT0rI3Og+euP1XMoKhP994I7tfCRFFW2kBDoXMj/VufHdKbj19DcwGRqfU/T33YntTVVyksKgqJy2AkPAUjXpyH1KjMCMMTMvMLiiz0VQKj0lvX01aQlWrfQDcoOs22tgZVZyN7rE2xFWgKSn6FZja7htjs+5+tU1szOelappqKoUlfPo7JMcek5Zpp/scbkQJNoXI+x9yoq6GJ2YwCf0USairJqspLRyRn2xqpyUjVamykSuXWtTXScgrexn7BJbaRsg3lZmXeOe3VZeRkVpLwMVzP7Mv8T1PfSFpGhuJ47FUqJESG65laUBSEEeqaWiR8DPssD2MrUoHskFDXxDzM/1l+Xu6HwFc6xuZPrpy1aNJKU6/4Pw3GVJW8hgYHW9b7Mi9UVFQyNjENCXnP35PQ4PdGxqYUjGGEllb1Qz8r0CuVvwjr1U9KTExNSbGoW+/pY19aPvB78oicHE2V1DU0be2a8Rus4jJF6gT7E0u/ReKNVqxYoaSk5OhY3vyUYqyzZ89u06ZNly5dxDJS4TSirCSflpHN2qKyipI8/ZEk9V95anqOqjJPwn+oKMp/VfisSbWKWUvNyGFMTV91fOP8wR6u/xvn6jVxSPubvm8V5GXOe0y9vGfGT815YXoxHA/fJZAvCdzWx29drxfhKZefR9GEJj2bF5ZhDiqrKMj+e8b7vxJP4evMJi07n6rw5AoyVGY1qayiIBMYlXbBL8p7QSdjLSWPK0ErhzVxPfFyfOe6f83rsGNcCzXF/1hm64quoK4oKyst1a6OJsXoZv8VYKGjNKSpkaKsVFZeIdsoRdjIPbOnVChLgV/OWKCKTz+kxqbnbuxvTZJ7IUnDmxl5PYoc2cJ41c/1J7UzIy/Fb1kM5TunDjXp2IMmNGxbeTnZ8kpfPnlJSOW87K/vdpKUpZCXk6Pwb0VerZxs+iLVpGPP3OxML/fpNDciF+V/7zpNqigSeHTFnL9PHmQbrcJCdnaWyufVHaYPVM7K/BoIISEpMMs//yqoMgpZWdlsRaaQlZXZ9qcORkbGE0YNI0nX7r0O7N3568y5nh7bfp3wy8Y1y/Pz86pwpF+aFixM9++XD1H3X/jeaN26deHh4Vu3bqVAnKGhIROIo2EkJSWRhKJ5VKZMhHnz5qmrq7u6upYzwmXLlvX7fISEhPCbIpt0Wk5F0V3KzMpVVf767VhVWZFmNszkRu1fuZqKQnpmbrE+ZGTnflVQVqSrVItnTeWrNarImKLpl4PTtg6/bHwbEvNLv7br91+lpIbVey5SJsWBFb8UsyyKU3r7/T7jx4vPoixnnG80x4dyE1wH2mTmFvC7H1VF2Yycrz6GupGVW6Cq+DUoQetAVIUnzymgMttP0mHCcRT067by5uS9j/q2MCHnR5/GI9ubD918911MOrOSxFYRQ4FihtTKhYC45Oz89NyC869impuoU6KBEp/7UZKVys7/6pxIvywFfrmSHO9fGVPxyOOPs/4K2HkvfGATw8tv4uvpKFvqKC2+ECgjXauLFS+aJ7aDkhHCXj9r1XMQf4sUoMvjC81RWU6R915lD1IgB8OesgpyCgpsTI8KpEbzJxk5uZ7jZ09Ys6fz8Ak3ju3qOHQcRQLJS4103USpDcEvHrN2qqpA86HMzK9z08yMTKV/p0FMl0ghi18hM4NRUFJSJGVGh5a0qaCkpExDnjJjzuETZxa4LjtyaF//QcPevPZ/G+DvsdcrP7/A59yZqhpmdWlXyN5o8+bNtFbk4eFBGSaEgFZ6KBz35MkTKh8/frxHjx5UoHidi4uLtLT0qlWr2Cl/qbwo3e7c58PCwqJ9+/avXr0KCwtjTPXs2bPUKqIWBgTH2FoZM60oKchZmOjQAg8tBVG+Q2MrE0ZOETZaWyrWkzfBMfwKMQlpSamZZK2OsQ4zHyJ9qkjW+CuunzdomYcPrSo1sjR6+joiIjpJRkZa93OmA7+a0MuaSnKUU3fwVjB9Ridn5p34J9zeRj8oKs3a5GvM3dpYPTD6S/4Y04Hg2AxpKak6el++XDc0UacJEF0iNSozOrRcJCcjHcIXntJRlR/5k/kWn7cNjNXefEyj3LPnYclkXOiDKt8gLfAkZOR9+ncJh/n/h+Rsc20lpiJlx1E+QkRyDr8dUtBXlad4IyOkhSVGgb8iCZOzyMN9dWO1NRUb6KtcpQUzLcXgBF4k8F18prnWfz73+VsRRTn8zcvUhFiPmSO3Tx3qe/Fk4OO7BxZP0TGuHRvxZeEkOS66ID9fy+DLu5rpg45J7fiIUPIozGlcRAiF4KisY2JOZT5hbabMvJLjoRp1m7SMjww1qGNF/+oN61jFf/iiz68p5nKdunVprYhplKZBHyM/WFj8J/ZAATfKRGD8Dam9Dwqs81mBXtmK74Peamlrq3/+ns2YCn4X5P/yWb+BQyh/r751IxqvdSOb4H8bEvMY/9OcYGE6cWXiCdMbvXv3ztPTMy4ujrIMaEozdepUmgxRTjZNcbp37/748eO5c3kpK5SPQNl0QUFBAwcOJDW6yvAaNGgQVUxLS+vQocPixYv/A/GHH2jySynjkyZN6tatW3p6+rhx476lVjEjlT2VlpaSp89OaSn6kGUK52+9aFjXiHIN6HTRxJ7+7z4GhcWS2WM+vi5ODrSAREkNYwe0O3L+YbG2SGF0/7YNLAwoV9tlgsNRb57C+4i4l4GRiyf1Imt9O9va1DOiXAa2on3rBgpyMpfu+pMkLCqR0r6tLQxIMzH165dTVlm4haTMvPD4zNEdLShtgYJmQ9rWJj/xT1B8UdGn8fZ15WSkxnayoBbvv43jb5fy5S49+zi/T0NKZ2hZV8vBzujUwwhS+Ms3oputYStLbZLP79uQdJg5E1N36ZDGm3ze0tQhIiGrSW1NJXlpSpeISBD5GPl7zpRvBCX83EhPXUFGWU66r43+kw8pD8NTaB2Ichkoe3BYU8OwpOyPqf/xRlFpubSwNLypESnQOhB5lAdhyWTt1vvErlY6JhoKZGpIU8Ob7xL4m6PkhX3/RNAnelx6rrW+CsXobAxUaf2JX0fU5aade03e5DVu1W76a9qlNyVhD1+whpLl3vs9/PD2FYXa7p7yqt/yJ3nFL86Y6U9t6ya1pKSeXDlTkJ/35Cpv6d68kR292vzU9dGlU+lJCenJCY8unmrcoTvb/4K8PEr+7uo4hSQaugYRb15QGl5k0GsNsS8g0eoAbTUppLXNoiIq0GmHzl1D3r+/deMqnR7cu6tuPavadXhvbPYwq21uadXg4J6dpEDrQORmOnXpRld79O7rc+40rR6lp6cd2u/Zq3d/tgq56s3rV82av4gXHDIyefncj2J0z58+pvUnVqfKCtz2RrXYrzlVBkiMDSs2nVap1shPUOo2W4WS6FZ5Xuzcuv6WBUNon9Bj/3AnN9pvxMv4ZPcbZefmbz70Zb+RqYGm32nXZoNWfojhfULNcLSfM6arorzs2RsvaGWI3W+0d/molja1SWfW2j+Z/UaMwTtH5g2d7cnsZyJXtNt9JLWyYNNfzA4ktlflFDRb2ZdztfxLtLWI9gPRnKbo06d7b+Ndj7+ghG8bU/WNo2i/kdr7GNpv9NT/Ay83YXrP+q0ttR1/+4fKFNPbPLp5B2s9mlGt/us/+40WDbTRVJa7+yZu9r/7jUj/x/q6k7rV+2UHry4dzA4kmmNN9PRldiAx8m9/bdXS7NuVi2lK0xaFtqYd6mpRgtz90CRa1KFUun/3G8nT9GX736Fxn/cbTf6R18ru+zxfS1naMzrWqaerTFMrz3/C2f1G5M8GNjGQk5Yi/7TrHm+/EdNcFyvtujrKtDOJTik4yduBZKpGm5nW3/iyA4lR+8bX/k3+k9b4jbWKqd09fTg5Nopvv9G+7Ix0SrT7eeI8Zr/RifWLTOvbtOs3girGhL2/tG8z5Slo8/YbzTUw500m6GPk1vF9Lz7vN2rSqSeF5tiwB61OySkotek9lNRoB9KZ7cujmR1IUxYwO5CKdab8097WX7Kiylcr9ep+T48De3ayl8ZN/HX8pKmPfR9sXrcqJiaqkY3t4qWrDI14kY/1q3lfkZ0XudMrs9/otf9L2m80d4Hr1/1GRw8d9TqQm5tDqXrzF7kz0SDS9zn3V+Cb13NdllCZ2YH08P5d2oG0ct0W/iUouvqNh47K1yj3N1YpS02xz9fhl6VTqjzb+9dS5cIVwhsJlye3rH2PN+LWSL65N9/jjb65EQ4pCsUbcWg8FXXle7xRRbY5el2Y3qjvLsEGmX2eN7UV9SE0ryvqjsI+CIAACIDAdxGgSB2HD053jsPc0DUQAAEQAAFhEsDcSJg0YQsEQAAEuEtAXDuHBCMAbyQYN9QCARAAgepGAJG66nbH0F8QAAEQAAFxE8DcSNzE0R4IgAAIVA0BROqqhjtaBQEQAAEQ4CPAbgLjk3GoiJw6Dt0MdAUEQAAEaiwBROpq7K3HwEEABGoWAY7PjeCNatbbEaMFARCouQTE/aMllSONSF3leEEbBEAABEBAFAQwNxIFVdgEARAAAc4RQKSOc7cEHQIBEACBGkiA494Ikboa+J7EkEEABECAcwQQqePcLUGHQAAEQEAUBDg+N4I3EsVNh00QAAEQ4BwBjnsjROo4945Bh0AABECgBhLA3KgG3nQMGQRAoEYS4PZ+I3ijGvmmxKBBAARqHgFE6mrePceIQQAEQAAEKkkAc6NKAoM6CIAACFRPAhyfG8EbVc+3FXoNAiAAApUkwHFvhJy6St5PqIMACIAACIiAAOZGIoAKkyAAAiDAPQIcnxvBG3HvLYMegQAIgIAoCHA7wxuROlHcc9gEARAAARCoHAHMjSrHC9ogAAIgUE0JIFJXTW8cug0CIAACEkWA494IkTqJerdhMCAAAiBQTQkgUldNbxy6DQIgAAKVI8DxuRG8UeVuJ7RBAARAoLoSQE5ddb1z6DcIgAAIgIC4CGBuJC7SVdFO558sqqLZqmxzuJ1hVTYv9rZb1dYSe5tV2WBh0SdpKW5/w69KPBW0jUhdBYBwGQRAAAS+nYCOCr5Dfzut/2iK1BuFhoa6uLikpKRoaGisW7fO3NycbTsxMXHhwoXR0dEFBQWtW7d2dXWVkSnlJiKnjiWGAgiAAAiAgIAE3N3dR4wYceXKFXp1c3Pjt7J79+66det6e3ufP3/+9evXV69e5b/KlktxUOw1FEAABEAABCSGgMBzo7TPBz8Htc8HK6HZT0BAwMGDB0nSu3fvFStWJCUlaWl9CSNTu5mZmUVFRXl5efn5+fr6+mxF/gK8ET8NlEEABEBAYgkI7I28vLx27NjBz2XatGnTp09nJRSFIx8jLS1NEnrV09MjCeuNfv31V1L+6aefsrOzR44c2bx5c7YifwHeiJ8GyiAAAiAAAsUJjB49esCAAfxSmhrxn5Zfvnz5cv369cml0QzJycmJTnv06FGyCrxRSSaQgAAIgIAkEhA0G7FYXK4kGkNDw9jY2MLCQpoY0WtcXBxJWLWjR4+uXr1aSkpKVVXV3t7e19e3VG+ELAaWGAogAAIgIMkEKFIn2FEhFG1tbWtrax8fH9KkVyqzYTqSmJiY3Llzhwq0bvTgwYN69eqVahDeqFQsEIIACIAACFSCwNKlS2kO5ODgQK/Lli2jmhSUe/XqFRUWLVr09OnTPn369O/fnzK/hw4dWqpdROpKxQIhCIAACEgaAZoYiW5IlMN98uRJfvt79+5lTs3MzJh0O/6rJcvwRiWZQAICIAACEkhApN7o+3nBG30/Q1gAARAAgepAQIRTIyEMH+tGQoAIEyAAAiAAAt9JAHOj7wSI6iAAAiBQPQggUlc97hN6CQIgAAKSTYDj3giROsl++2F0IAACIFA9CCBSVz3uE3oJAiAAAt9JgONzI3ij77y/qA4CIAAC1YMAx70RInXV422EXoIACICAZBPA3Eiy7y9GBwIgAAL/EuD2fiN4o3/vE/4PAiAAAhJNAJE6ib69GBwIgAAIgIAwCGBuJAyKsAECIAACnCfA8bkRvBHn30HoIAiAAAgIg4AoH+EthP4hp04IEGECBEAABEDgOwlgbvSdAFEdBEAABKoHAUTqqsd9Qi9BAARAQLIJIFIn2fcXowMBEAABEBACAUTqhAARJkAABECA+wQQqeP+PUIPQQAEQEDyCSBSJ/n3GCMEARAAARD4TgKI1H0nQFQHARAAgepBQEqK0w+qgzeqHm8j9BIEQAAEvpMAInXfCRDVQQAEQAAEJJ+AMOdGycnJzs7OERERcnJytWvXXr58uZaW1vPnz93c3HJzc42NjTds2KCtrR0aGkqS+Ph4GRmZxo0bu7u7Kygo5OXlTZkyxd/fn5D7+vqWCv7mzZvr168vLCxs1KjRmjVrFBUV/fz8SJKWlkb6HTt2pNaFmzQyeVgHx75tbCwN/7z8dKL7UaZXnVpZbXUZamqg9dg/bKL7kYjoZJLLycpsXzRsQFe7rJz8LV7Xtx+9WXII00d2njOmm5KC7Jnrz2esPpGXX0A6ZoZae5Y5trQx/xCTNHvdyVu+gSSkJna5jVCQl3PeePrklackUVdRvLRnRvcJWzOycktaFoVkcTdLS12loqJPZDwpK3/++bd9bfT62egzbUnVqiUjXWvKSf+M3EK2dTUFmVEtjK31VeRlpCJTso8+jQpOyGKuUkV7K21lWennUWn7H37Izi8i+c8Ndfs00k/Nyd9xN/xDSg5JrHSVf26kt+V2KGtTbIXft6149+ppXm6OqoZW534jWnftzTZ99eShqycOTHTbbGXbghUyhV3uM2M+hBTk52vpGToMG2fTqj0jv3fx9N8+J7LS03QNTfuNnV7H2pbkfneveXt5yMjKDZvqYmnTjCQJMR//2L5y6oodUtLSTEWxvZ7+8/fLPmdD3r/r0r3XoqWrqN38/Pzlrs6Bb17HREdt232gafNWZXXmQ0T42P8N6GjfbcmKdYxOSnLS9k1rH9y7U0tKqk279m4refI/jhz43euAppa2++oNdS2tSPLqhd8fRw6t3ri9LMuQi5SAcD8ehd5VYT4ZiIY6YcKEK1eueHt7m5qabty4saioaP78+eR7SNiiRQuS0ABkZWUXLlx4+fLl8+fPZ2dn79+/n4RSUlLjx48/dOhQWSPMzMxcsmTJ7t27r127pqyszNRSUVFZu3btxYsXz549S27v3LlzZVUXTB4dn7pu72Wvcw/Z6toaysc3Oi3fecGok7NfQMSRteOYS66Te1ma6dbv5dZj4rbZo7t2a2fNVmEKXdtazx3brdek7aRTx0RnyZRejPzw2rEvAiONOy9Y6uHz+4bxOpoqJN8wb/CgmZ59p3psXTiUCfUun9F308GrYnNFTN+8HkWOP/6K/sgVkeS8fxxzSq/er+PexGbwuyJSICcUkpjlejFw4p+v7oQkz+9sQRKSt7fQ/MlCc9nld1NPv5aTlvqlpQkJNRRlOllqzz4bcD0ocVhTQ5JQTHtkc6Mjjz9SWfyH/UDHxbv+XHXk8jiXNZeP74sM5n0toIMcxssHt9Q0tZnTYq/9xs5w23uGag2eNJ/8SlpyAimEBwVcOOY5eu6KlYcvtery86ENi4voO1RhwcVjnrM37BswftaZ/dsYO2cPbOs7Zrr4XRG1rqOj+8u4Sb36DuAfUeMmzVyXr9XS1uEXlixvWb+yQUMbfrmr8yyqddLn2vmrfw8fNYYuJSTEXzh35vjZy/0GD9vjsZUkBQUFHls3Tp+zgL8iyuIkQJE6wf7E00lheiMNDY3WrVsz/bazs4uKiqK5jry8PPkhEg4fPpw8EBVMTEwaNmxIBfJAtra2pEZlmie1a9dOVVWVyqUed+7csbGxMTc3p6tk6tKlS1SwsrJiJDQbI5uMqVKrCyY8d/OF9+2XSSmZbPV+9nZvQqL/uv4sN69g5e6Lja2Mrcx50wXHPq3X7L2ckp4dGBp78Mz9UX3bsFWYAil4nX3wJiSGdNbsveTYh6dgaaZn18Bkxa4LObn5Z288f/0uqn8XO5IrK8oFBEe/CvqYl1+ora7colFtcyPt09eeFbNZhafkYO4GJxXrQHxG3qU38SnZBZ8+/XDrXaKMVC1DNXnSaWaifvt9Ik2wcguKvF/HtjHXkJOupa0sF5aUTZMk/+h0PRWeWg9r3aeRqQmZecXMiufUwLQOzVo+t8Vb6U2I/eIUz+zb8rPjZGkZ2VK7YWReV1qaF2Cgf+TkcFIS4qicHB9tYGpuUrc+fT9r3tEhMy01Iy2Z5knqWrpqmjr1bJsnxfLe8y8e3CZJbSvevwXxHzSzad+pi5q6Bts0fU0cOmKUrV0z6XInajeuXlRVVWvW8su/dKr+6OH9uNiYKTPmqqioysjIWtXnfRWLi4muV7+BsopKi1Ztoj5GkuTkH0d+7NDJ0MiYbREFEOAnIExvxNqlKdEff/xhb28fHR1tZGTEyClqR/KUlBRWLScn5/Tp06TGSsop8Jsim3TKr5yYmEjTr06dOvELRVFuWNfgZdCXz6msnLyQyISGdQ01VBUNddXJeTAtUsHagvdln/+wrmvAr2Cgo6alrkzWQiMT2RkPKZA1qhWflE5+jv4+ffqUnJ610Xnw3PWn+K2JpzysqdHuITbuDpYUfONvsYGeMgXlHkWk8guLlWtrKkpL14pNz2Xk9J2MLdD0yEBNPjYt11RTQUlW2sZQNTI1R0tJtq255oWA+GJ2xHl6eu/mhSO6rZ/pSDMh66a8rwsv/rlFH6/WzdqW0439qxe4/K/r9oWT6zayM6nbgDQbNG1Db3WaIdGU6PHNi0bm9VQ1tJXVNDLTU1MS44JePtE3rZOTnXXj9OFeIyeWY5mDlzIzMvZ7ekydNZ+/bwGvXprWNl+9dFHvrj9O/GXY86eP6aqxiRmFAdPT0548eljHwjI2JvrmtUvDHcfyV0RZzATo65Fgh3j6Kcx1I7bHK1asUFJScnR0pKgaKyxWoGn77Nmz27Rp06VLl2KXKnuakZFBa07jxo1jplyVrV4pfWUl+YTkDLZKWka2ipI8/ZEkNSObkaem56gq8yT8h4qi/FeFz5pUi6yRBVYtNSPHSE+dTqevOr5x/mBFedlxrl4Th7S/6ftWQV7mvMdUOVnplZ4X7z19z1YRXeH4s6iPKTkFRZ/ammvM7VxnkU9gXMaXWUv7ulrkimiiU1brirJSU340O/MyhlkfehGV1ruR3sPwlMy8AipQLXJIGXmF517FLupWNy2n4IDvh19aGh/3i2ppqt61vk5WXuGhR5E0lyrLvojkg5zmDBg3MzzodfDrZzRPIodx6fc9tFxUfnPjF60rLCggHxP3MZym+6Qsr6hk27qjx5KpP3z6QUFZZcLi9cxHwCCnuYc3usnIyg6ZPJ8Won7sOTA6PPjaSS9pGZk+o6camlmU3xAXru7b/dvPfQfq6RvwdyY+Lvbxw3+cXZctdF/5981ri+bN+P3MRQ0NzVHjJs6aMl5LS3vuQjdaVZo8bc6dW9fPnjqhoqo623lxMSP8BlEWEQF6H4rIslDMCt8brVu3Ljw8nBZ46F+moaEhGz1LSkoiCUXzqN8U05g3b566urqrq2s5w1i2bBnlKZDCli1byBSb3UA26ZSpSCtPkydP/vHHH8kblWNKWJcys3JVlRVYa6rKijSzYSY3asoK8Xk8R6WmopCe+WVOwGpmZOeSAnOqpqxIBarFs6by1RpVZEzR9MvBibe0QFOotXMGdhq96dq+mfM3no6KS72+f5ZVLzfWrOgKbALC3ZBkmrXYGatdDeQtilCQrbWZxuayEw1kpWvN7WzxPiGL1pmY7v39PklbSc61u6V0rR8uvIlvbqrOeJoHYSn0RzpkPL/wEwXu1vSuv8D7LUX2RjQ3otQG0Y2uLMu0hEMZB0/vXP3nytnkhJhmHR0oPaEsZVZO7sS6WZt7F0/pGBg3avnToxsXHt+6OH/LYW0D46AXjw+scZm9Yb+6Fi9GR39UKyrs/Yfgt71HTVn169CpKz1SE+JO7lo/Y81u1iA3C+8C3z599HD/seLTdDl5eQMj4979BlG3KSfi8IG9r148a9/RvqtDL/oj4YN7f1MsvV5967EjBh4+ce7+nVs7t21cunojN4eJXlUVASF7o82bN9Na0Z49e+jNR0OilR4Kxz158oSWjo4fP96jRw8SUhDDxcWFYtOrVq0q31dTuh3LRU9Pj6ZcYWFhtFBEpnr27EmXKFWPXFGTJk1mzpzJaoq0EBAc49jnS66RkoKchYkOLfDQUhDlOzS2MqFJDLVOETZaWyrWjTfBMaTArP2QQkxCWlJqJlmrY6xDkyTGCZH8xKUn/BXXzxu0zMOHVpUaWRo9fR2RX1AoIyOtq6kSzzc/49cXXZn9UtXCTIOmNQGxXyeI/I3SWtGcTnWSsvIocY6VU1re6Zcx9EeSxoaqSZl5yXzzHvJeQ+0M198MpvBdYmY+TacoFYJN3mONiLNQVFSYGPsxJOBFSmL8gytnqemMtJQjm90p185+wMiyekJxucQY3oLQx7B31s3b6RqZUrlB09YU9wsL9G/SthNTkaKvZ/Zt7T9+JgXuPhUVaekaqGlo0SSJucrl12dPH1O63ZDeXamT2dlZhUVFYY5D9h89Wbee1T93/2Z7zr5VGEluTs6ends2bNsd+SGc5kO0kkQZEEcO7WX1URAbgWK3RmztfmNDwvRG79698/T0JG9BWQbUPGUreHh4UAY2ORU2w5vklI9A2XSUgDBw4EA6bdasGeN1Bg0aFBsbS+naHTp0aN++Pfkq/jFQ+hyljE+aNImcmbW19eLFi+nqqVOnHj16RGtR9+7do1PydhSy46/1nWVpaSkZafq6LCUtJSUvJ1NQWHT+1ovVs/pTrsGlu/6LJvb0f/cxKCyWWjnm4+vi5OAXEK6nrTZ2QLtJS48Wa5oU9iwbdfzS4+i4VJcJDke9H5LC+4i4l4GRiyf1Wurh7fBjQ5t6Rv+b95ytaN+6gYKcDDVEkrCoREr7joxJpm4kpn7NqmCVhVug5Zy6OkpvYzMKP31qY65ZX1/58L+pbh0ofyGkeP4C0zpNfWZ2NM8r/LT7fgQvMfzfQ1lOmv4o0GesLj+yhdFfr2L5r/ZvrH8nJIlyH0jdUF2eVqQa6qvEZRSfXP5rTCT/T09Nfv/Kr2HztrJy8pTn/ezeDcdZbt2GjKEQHNPeNpeJfUdPI9fC3zyF5hJjoy0bNaW3yPN/boa8efHzqMmkYGrZ4MbpIz/1GkTzqncvn8RHfTA0q8NW9L3uY2xRz7hOPcqyy8/LjfkQlpIQq6X/ZXmVVRN1gULlFKIgD0qul/550rdDyiSijRbkLKlpyvYmIX2n5P++2Hfg4C7ded8C6Th+9CB5prkuS6jcoVPXnds2XfI5171n77u3b1DgrnGTpp+1eC+HD3j27N1fR1ePMj0+RIQlJSY8e/rIyNiEVUBBbAT476bYGv32hmoxb75vr1CtNRWbTqtU/8lPUOo2W4WS6FZ5Xuzcuv6WBUNon9Bj/3AnN9pvxPtoZvcbZefmbz70Zb+RqYGm32nXZoNWfojh7Uma4Wg/Z0xXWg06e+MFrQyx+432Lh/V0qY26cxa+yez34gxeOfIvKGzPZn9TOSKdruPpFYWbPqL2YHE9qqcwsA5E8q5Ws4lVXnp+fZ1jdTlabtRdGrOyRfR/tG8yZCmouy2gQ3nn38Tm/41821ca94nywHfSMpuWOJQj9aT2DfV+pshgXGZBqrytPJESXTpOQWX38ZT3h3bNCXdTfmxtvvloM+fgV92INFK0m93w5gdSKzmNxaG21UcWCtpKiM15fCmJVFhwZ8+FWnq6v/Uc3Cbbn341VZNGTpkijOz3+iUJy/ENHjSvNjIsOM71sRFhtWSktYxNOky0LFx6w50iYZ/5cSBJ7cvZWekq2vrdhk4ijLrGGuZaSk73WdOX7VTQUmZJH53rnof3sm/A4lR+/bXVrW1vl2ZX/PAHo9De3exkjFOU8ZNnDq0b3fyMazwxLkrlAJ35OCel8/8Nmz/TyCRqn/8EMHuN3rx7OnmdStjoiLNzOtMm72gSVNeQJKO8LCQVW4Ldx38ncnTY3YgaWhpUZiO2YHEqFXqVV+t9PzGShmpmcpNl90UbODP3O0Fq1ipWvBGlcJVzZQF9kbVbJx83RXMG/EZqGZFgb1RNRsnX3fhjfhgVK7YbLmA3sjPTRzeSJiRusqBgTYIgAAIgIAYCXA8UiclRhRoCgRAAARAAARKJ4C5UelcIAUBEAABCSNQg3LqJOzOYTggAAIgIEkEEKmTpLuJsYAACIAACIiEACJ1IsEKoyAAAiDANQKI1HHtjqA/IAACIFATCSBSVxPvOsYMAiAAAiBQKQKI1FUKF5RBAARAoLoSQKSuut459BsEQAAEJIkAInWSdDcxFhAAARAAAZEQQKROJFhhFARAAAS4RgCROq7dEfQHBEAABGoiAUTqauJdx5hBAARAAAQqRQCRukrhgjIIgAAIVFcCiNRV1zuHfoMACICAJBFApE6S7ibGAgIgAAIgIBICiNSJBCuMggAIgADXCHB8bgRvxLU3DPoDAiAAAiIhwPF1I/z2q0juOoyCAAiAAAhUigDmRpXCBWUQAAEQqK4EEKmrrncO/QYBEAABSSLA8Ugd5kaS9GbDWEAABECgTAIcnxth3ajMO4cLIAACIAACYiNQwdwoJSXlwIEDb968ycrKYvt07NgxtowCCIAACIBAtSBQvSN1c+fOzcvL69mzp6KiYrXAjU6CAAiAAAiUSkCK2+6ogrnRs2fPHj58KCcnV+rYIAQBEAABEAABoRCoYN2ofv36MTExQmkJRkAABEAABKqQAE2NBPsTT59LnxudOnWKab5NmzYTJkwYOHCgjo4O26HBgwezZRRAAARAAASqBQGO59SV7o3OnTvHwtXX179//z57SuOBN2JpoAACIAACICAUAqV7oyNHjgjFOoyAAAiAAAhwhIBULY50pPRuVLBu1L9//2L1KGpXTIJTEAABEAAB7hOgyJZgh3iGVvrciG07PDycLVPh06dPkZGR/BKUuUzgr837Hnmv5XIPhd43fXV5odvkuMFPnzjeQXQPBL6JQJneyNnZmQzk5+czBcbYx48fLS0tv8kwlDhAoKa5Ig4gr4Iu6KvJVkGraLIaEuD2dqMfyvRGZmZmDG22QKfNmjXr0aNHNbwL6DIIgAAI1HQClODNZQRleqNp06ZRv5s0adK+fXsuDwB9AwEQAAEQkAACZXojZmzkikJCQt6+fcv/nDpkeEvAjccQQAAEahoBkebUhYaGuri40KNNNTQ01q1bZ25uzo/34sWLu3btoswDSqM4ePAg/wZWVq0Cb7R7924PD48GDRooKCgwdcgWvBGLDwUQAAEQqC4E6NNbdF11d3cfMWJEv379aLuqm5vb4cOH2bZevXq1Y8cOLy8vXV3d9PT0sh41V4E3ovonT54kb8TaRQEEQAAEQAAE+AkkJiYGBATQpIeEvXv3XrFiRVJSkpaWFqNz6NChcePGkSuiU1VVVf6K/OUKvBFNiSwsLPgroAwCIAACIFAdCQg8NUr7fPAPWe3zwUqio6PpqT3S0tIkoVc9PT2SsN4oODjYxMRk5MiRtOLTrVu3KVOmlDpLq8AbzZw5c+XKlZTRwB/mk5KqYM8s20UUQAAEQAAEOEJA4F+UoCAZhdr4R0FOYfr06fyScsqFhYWBgYE0c6LfJ6IHnxoZGZV8rgJVr8Ab0aoUKVGwjmmJWYOiH98rp2FcAgEQAAEQkCQCo0ePHjBgAP+IaGrEf2poaBgbG0tehyZG9BoXF0cSVoHcD20NouUiOrp06fLy5UtBvNGNGzdYiyiAAAiAAAhUXwICR+qKxeVKEtDW1ra2tvbx8aEsBnqlMhumI2VaSfr777/pUkFBAf1gnoODQ0kLJKlgbmRsbExKRUVFCQkJFKxDjK5UiBCCAAiAAPcJlLpaI6xuL126lGJpO3fuJNdFGd5k1snJacaMGY0bN/7555/9/f179epFHuSnn34qKyu7FgXfyulNRkbG8uXLKVWcfJqMjAwZdXV1LScpohxTXLik2JS3pbfmHDXwyUA18Dl1eqp4MlDN+Tf9XSMdfNBPsPqnxjYTrGKlalWQj0ApDNnZ2d7e3hTpo1cqk6RSDUAZBEAABECACwQoUifYn3g6X0Gk7u7du9evX1dUVKTe1KlTZ82aNZSfJ56eoRUQAAEQAAEhEhA4p06IfSjHVAVzI3l5edrExNZPTk6mpAj2FAUQAAEQAAEQEAqBCuZGtNxEe2jHjBlDKXpRUVG0pXbo0KFCaRhGQAAEQAAExElAhM8FEsYwKvBGtGmWdtVSxh7lj1OBNi6VlQ4hjM7ABgiAAAiAgKgIiDSn7vs7XYE3ot6T+4EH+n7QsAACIAACIFAOgQq8EdV88uQJPQ6P/xclJk+eXI5FXAIBEAABEOAgAZH+osT3j7cCb0SPYr106VKLFi0onYFpjONzve8nAgsgAAIgIJEEOP7pXYE3oj1GdNDDWSXy3mBQIAACIAACHCFQgTcyMDBASjdHbhW6AQIgAALfQ0Dg59R9T6PfXrcCb7Rq1aolS5bQA4H4f1GiZcuW394ANEEABEAABLhAoHpH6l6/fn3nzp3Hjx/z/xL57du3uUAWfQABEAABEJAYAhXMjbZs2bJ79+527dpJzIAxEBAAARComQSqd04dPaGOEupq5p3DqEEABEBAkghwPFJXwXPq6NcpVq9eHR8fTz9xxB6SdHswFhAAARAAAS4QqCBSt2jRIurliRMnmL7il8i5cM/QBxAAARAQgED1fk4dfolcgFuOKiAAAiDAQQIc/0WJCuZGzC+Rl4q1T58+tDG21EsQggAIgAAIgEClCFTgjcqxFRkZWc5VXAIBEAABEOAUgeq9+7UclBxPzyin57gEAiAAAjWQAMc/tCvIqauBNwxDBgEQAAEQED8BYXoj+p1yJycnBwcHWlKaNm0a8xPmz58/79u3LwnpN2QTExNphKGhoaNGjerRo0fv3r0XLlyYk5NDwry8vPHjx7f+fJRF4ebNm1SrW7dus2bNys7OJjX6DcCBAwf269ePWqRk9NTU1LLqCiafPKzDvWPOKb5b9ixzZC10amX1/C/XxH82X94zw8xQk5HLycrsdh8Ze3dD6LXVMxztWWX+wvSRnekq6ZAm6TOXzAy1yA5ZI5udW9dnhNTEG5+lpDzEoTkjUVdR/Of3BSpKX56kzm9WFOX8vLydG5ZP/t/Pjr3bz5v4Pz/f+9RKUMCr5fN/HdO/87iBXTYuc05OjC/WdKm1yql498alCUO6TxnR2//ZY8ZUTNSHRdPHFhYWFrMshtPTJ36fMGqofdumq5YuZprLz893dZ49pE/39i1snj15VGofStYitbIqXrt8oZ9DJzLo96+1j5ERU8aNrJLxljocCCWbAEXqBPsTDxbBvRFlexfrIk0D6cdhr1y5QtkNpqamGzdupC1K8+fPd3NzIyHtoiUJVZGVlSUndPny5fPnz5NT2b9/PwmlpKTIG9EvnRezyZ5mZmbSE/PowRDXrl1TVlZmamlqah47duzcuXPUIj3gdefOnay+UArR8anr9l72OveQtaatoXx8o9PynReMOjn7BUQcWTuOueQ6uZelmW79Xm49Jm6bPbprt3bWbBWm0LWt9dyx3XpN2k46dUx0lkzpxcgPrx37IjDSuPOCpR4+v28Yr6OpQvIN8wYPmunZd6rH1oVDpT7vn14+o++mg1czsnKLmRXRKX0+auvpL9+y9/D5v4ePnbJ5hUtcTFRGelrX3gN2HvPe9buPopKyx4ZlxVovtRbplFqxsLDg2L7fNuw+Nn668/4dGxhTB3ZsGPPrHGlp6WKWxXCqo6v7y/hJvfoO4G/L1q7ZkhVrtbR1+IX85VJrkULJigUFBbt/27L/2MlZzou2rl/NGNm6Yc20OQuqZLz8o0C5hhCgnDrB/sTDpwJvxHzo83fl4MGDzOny5cv55VTW0NCguQ0jtLOzi4qK8vf3px9GYp7mMHz4cPJAdNXExKRhw4ZUIA9ka2tLalSWkZGh5w+pqqoy1Uu+0uPybGxszM3N6RKZol9dogI5NnpaBBXoc5B+D5AMUlmIx7mbL7xvv0xKyWRt9rO3exMS/df1Z7l5BSt3X2xsZWxlzvu5Dcc+rdfsvZySnh0YGnvwzP1RfduwVZgCKXidffAmJIZ01uy95NiHp2BppmfXwGTFrgs5uflnbzx//S6qfxc7kisrygUER78K+piXX6itrtyiUW1zI+3T154Vsym6UwVFxWGjJ+kZGBHSFm07UCEk6E2z1j+269hNSVlFXkGxZ7+hb/1fFOtAqbVIp9SK6ampWtp6mtq6ts1bx0bzMmIe/H1dS0fPyrpxMbPiOe1o361Dpy7q6hpsc/TuGjpiFPmVcrxFyVpUvdSKaakpunr6Ojq6LVq1jfrIG++t61dJ0sjGlm0RBRCoyQQq+Pj28PAoRmfXrl2MhIJjxS6xpzQl+uOPP+zt7aOjo42MjBi5lpYWyVNSUlg1itGdPn2a1FhJOQV+U2STTlllitS1bds2PDx86tSprFBEhYZ1DV4GfWSMZ+XkhUQmNKxrqKGqaKirTs6DkVPB2sKwWAes6xrwKxjoqGmpK5O10MhEdsZDCmSNKsYnpZOfoz+agCanZ210Hjx3/aliBsV2mpKUGB0ZYWpuwd9iwKtnxST8V6lcai2SsxXVNDTT01IT42NfPvE1Na+bnZV5+tj+keOnFbMjMacamlqpqSlxsTFPfB/UqVs3KzPz8AHPSVNnScwAMRDuExAsTEe1xHN8Wb0o2diDBw9ISP7j4cOHbFCOsropSlZSuZiEfjFWSUnJ0dGRomrFLrGnFLiYPXt2mzZtunTpwgoFK1CkjiL1K1euJBdIC1eCGfnGWspK8gnJGaxyWkY2reUwyzmpGdmMPDU9R1W5+AKPiqL8V4XPmlSLrJEF1lpqRo6RnjqdTl91fOP8wYrysuNcvSYOaX/T962CvMx5j6lystIrPS/ee/qerSLqQkFB/rY1rp269zY2q8O2FRb87tSRvc7LN7OSYoVSa5EOf0WadTnNWkjrT7KycpPnuJ445Nmz/7DwkHcnj+yVkZUdPXm2WR3LYmar9SmNd67LkiUL5sjKyTkvXrbf02PQ0BHB74MO7d1F4502a76FZb1qPUB0nvsEOJ5TV6Y3WryYt5abm5vLPByIyjQSXV1dV1fX8qGvW7eOpim0wEP//AwNDZlAHFWhpAaSUDSPyhRYmzdvnrq6evnWli1b5ufnR/r0KHEy5evryzRNNumUKTOvFBsZMGAALSyJ2htlZuWqKiuwTasqK9LMhpncqCkrxOfxHJWaikJ6ZvEFnozsXFJgKqop86KLVItnTeWrNarImKLpl4PTNtKhKdTaOQM7jd50bd/M+RtPR8WlXt8/y6qXG2NH1K/0XWT7GjcZGdnxM5zZtqI/fli9cPrYqfMa2jZlhfyFUmuRQsmKts1a0R9dCgsOCg4KGDVp5q8j+6zctj8hLmbXphVrdnjxm5WAcotWbeiPBvI+6G3gm9e/zpw7tG93j31HaMK0bqW756HfJWCMGAIICEygTG9ECWx9yMMfAAAtHElEQVRk1NnZef369d9uffPmzbRWtGfPHuYXY2mlh8JxT548oaWj48ePU0YcmaJPKxcXF4rF00/5le+r3d3d2ab19PRoyhUWFkZLR2SqZ8+edInidWpqajRdI5uUKGFlZcXqi6gQEBzj2If3AUqHkoKchYkOLfDQUhDlOzS2MqFJDMkpwkZrS59Vvr68CY4hBWbthxRiEtKSUjPJWh1jHZokMU6I5CcuPfla54cf1s8btMzDh1aVGlkaPX0dkV9QKCMjraupEs83P+PXF2KZJsS7Ni5PTU5ctGY7OSTGcnxs9PL5UwaNmtCx28+ltlVqLdIspyJV2bd9HeUypKemFBUV6uobamhq0ySpVPsSIKTxblm/etb8RakpyYWFRQaGRpQlEfwuSAKGhiFwnEAFCzNV3fsyvRHTsUq5onfv3nl6epK3oCwDqk7ZCrTsRBbIqdAcix4ytGEDL3WK8hEom448ByVn02mzZs0YrzNo0KDY2Ni0tLQOHTq0b9+efBXTB+ZVRUWF8iYmTZpEjsfa2pqZulGy+Nq1a+mfNx0NGjRghPy1vrMsLS0lIy1Fr9JSUvJyMgWFRedvvVg9qz/lGly6679oYk//dx+DwmKplWM+vi5ODn4B4XraamMHtJu09Gixpklhz7JRxy89jo5LdZngcNT7ISm8j4h7GRi5eFKvpR7eDj82tKln9L95z9mK9q0bKMjJUEMkCYtKpLTvyJhk6kZi6tesClZZ6IU9W9dERoS6bdglL/9l9pYYH7d07qQe/Yc69BlcVnMla5Fm+RWvXzxjUa9BHcv6lGWXl5v7ISyE5kb6hiZlNSEiOYWOacpeWET/FdLblb4tUWYNbTygtxa1mF+QT0L6jlXs+1OptUi/nIreZ09bNbCuV78B1SWboSHBcTHRRsbiHq+IMMIslwkUe/dyrau1mH9sxbpFMw8maa1jx44lB1B9f/tVsWnlFsnJT1DqNguHkuhWeV6kXUFbFgyhfUKP/cOd3I5ERCeRAu0f2r5o2ICudtm5+ZsPXd9+lDezNDXQ9Dvt2mzQyg8xyXRK+5DmjOlKq0Fnb7yglaG8/AISkp29y0e1tKlNOrPW/nnLN5CEdJDBO0fmDZ3tGRHNq0uuiNmltGDTXyevPP2sUvHLI++1FSuVpkFTGdoGRCs6bDrZxNmLYqIi//TyVFDghRmZ4+iFe1Q4fezAm1fPXNf+VmqtDl17/Xl4T6kVqW5aarL7nEmrth+gVD06vXP94uHdW2llZep8d5umgvzgvb568RU7pqsVvh7w9Di490uGDimPdZoybtJU2hsUE83L+WSOP89fMTQyPnxgz8vnfhu37yZhqbVIXmpFkqekJM+YOHbXgaPKKrzxXr3k47F1g5yc/EL3lc1afJlzk7xSh57ql5lrpWpBuQYSmHGWF7wR4Njev4EAtSpbpXRvxMTWyNajR49KWmzVSsB/NiVNiVlSWW8k5u4JvTmBvZHQeyI2gwJ7I7H1UOgNwRsJHamkGpx1TkBvtLWfOLxR6ZE69vdeq6/jkdT3E8YFAiAAAoIR4PgvkVewrEV7Xd+8eUMjpwf8dOrUifYGPXsmvj2YghFHLRAAARAAgZIEaNlFsKOkKVFIKvBG9KgeSkaghjdt2jRmzJgpU6bQD5OLoh+wCQIgAAIgUJMJlB6pY4mkp6fT03oyMjICAwPJM9GaNm0nYq+iAAIgAAIgUF0IcDxSV4E3ok2mtP/0/fv3tJJErojcEptkVV1uAPoJAiAAAiBABMT2jB/BaFfgjWj3K/1SA22z2L59OzVw69atxo2r5qGWgg0PtUAABEAABKoFgQq8Ee03unfvHjsSepgC8zwFVoICCIAACIBAtSBAPyfB5X6W7o3o6ahM8sKHDx9K9p5+u6ikEBIQAAEQAAEuE6ggaa2qu166N6Jfi2AyuemHVikjkP95DXTK5HxXdc/RPgiAAAiAgOQQKN0bsZuK3r4VcO+u5BDCSEAABEBAIghwO1D3QwVTt+vXr9OzHSXiRmAQIAACIFCjCQj2M+RiW22qwBv99ttv9APh9Gxs+s29Gn0bMXgQAAEQAAFREig9Use2SD+rSpuNvL296Wfx6CH5vXr16t27N/1qEauAAgiAAAiAQLUgUL0jdYTY0tKSfjKcQna05SgoKGjIkCHVgjs6CQIgAAIgwE+AnsUg2B+/EdGVK5gbMQ3TT6xeuHDBx8eHfgKc+Yk80XUIlkEABEAABGoggQq80bFjx8gJUWYdbYOdNm0a/Sor8xPjNZAUhgwCIAAC1ZqA2PIRBKNUgTein3kdNmwY7TpSVlYWrAHUAgEQAAEQ4AIBjq8bVeCN9u7dWxZE2iFL2Q1lXYUcBEAABEAABL6dQAXeqBxD9PSgcq7iEgiAAAiAAKcIVO9flCgHJT0iqJyruAQCIAACIMApArV+4PSHdgW7XzmFEp0BARAAARCQVAKCR+oklQjGBQIgAAISSUBiI3X8D/aWyDuHQYEACICAJBHguDeqIFK3f//+Yjfj4MGDjGT58uXFLuEUBEAABEAABAQjUIE38vDwKGZ3165djIQyvItdwikIgAAIgABnCVDqmWCHeEZU5rrRgwcPqAdFRUX09G42KEdZ3dgGK54bg1ZAAARAQLgEOB6pK9Mb0a9IEIjc3NxFixYxRMip6ujo0MO8hQsI1kAABEAABECgTG908+ZNouPs7Lx+/XpgAgEQAAEQqO4EOL5HtExvxHDnd0UUspOWlm7ZsmV1vyXoPwiAAAjUQAIcf2pqBVkMjo6OT58+pdu2Z8+eOZ+P3bt318C7iCGDAAiAAAiIlEAF3ujdu3d2dnbUg5MnTx4+fPjPP/88fvy4SDsE4yAAAiAAAqIgQFkMgv2JojMlbVYQqaOcOkpeiIiIoLQ6+hFYqp+amlrSCiQgAAIgAAIcJ1C9142aN29Ou1zj4+PpJ44INLklTU1NjhNH90AABEAABKodgQrmRmvWrKGHL2hpaU2YMIHGFhIS8ssvv1S7QdbYDtczUKmBY0/Lzq+Bo8aQQaBCAlLcfoZ3ed6osLBw7dq1K1asYH99vFOnThUOGAogULUE9FRlq7YDaB0EuEmA45G68rIYKJ/7/v37tG7ETbLoFQiAAAiAgMQQKM8b0SBHjx7922+/5ecj9CExdxwDAQEQqKEEBEuoE9vzhMqL1NEdO3r0aEJCArN0xE6Sbt++XUNvJoYNAiAAAtWWAMd3v1bgjTZs2FBtyaPjIAACIAAC1YZABd6oVatW1WYo6CgIgAAIgEDZBESaAxAaGuri4pKSkqKhobFu3Tpzc/NiHaGU7AEDBowYMWLBggXFLjGnpXsj+hGjKVOmkMa2bdtKVps5c2ZJISQgAAIgAAJcJiDSSJ27uzt5mn79+p07d87NzY2e3cOPgjK0SaFr1678wmLl0rMYKHOB0aPtrjEljmImcAoCIAACIFCTCSQmJgYEBPTu3Zsg0CuVk5KS+IHQk05pg1DJCRO/TulzIwUFBUbp1q1bfn5+/BVQBgEQAAEQqI4EBI7UpX0++Ies9vlgJdHR0fr6+rQpiCT0qqenRxJ6bAKj8Pbt23v37tFsaefOnWyVkoXSvZGZmRnte6UH09H06vTp0+xvvzL1Bw8eXNIQJCAAAiAAAlwmUHoo7Bt67OXltWPHDn7FadOmTZ8+nV9SVpk2CC1ZsoQe68P4qrLUSF66N9qyZcu+ffsuXLhAhs6ePctfn/K84Y34gaAMAiAAApJNgDaeUgIC/xhpasR/amhoGBsbS7MXcjn0GhcXRxJGgR5zSis+EydOpFOaYtHcJiMjgx7xw1+dKZfujerUqbNq1SrSoE6QVyxZDRIQAAEQAIHqRYDdM1rZbheLy5Wsrq2tbW1t7ePjQ1kM9EplNkxnZGTk6+vLVKGMhKysrLJy6iqYusEVleQOCQiAAAhURwL0kDfB/r5lsEuXLqWnJTg4ONDrsmXLqIqTk9OrV6++pS6jU6vYmtC316yOmopNp1XHbgvc5+TH/wn1CmynelVUKH3CX70Ggd6CgPAJHH7yQTCjv7QwFaxipWrhH26lcEEZBEAABKorAZHuN/p+KPBG388QFkAABECgGhCgMB2XjwrWjbjcdfQNBEAABEBAYghgbiQxtxIDAQEQAIHyCAi8+7U8o8K7Bm8kPJawBAIgAAIcJiBwhrd4xoRInXg4oxUQAAEQAIHyCGBuVB4dXAMBEAABiSHA8ckHvJHEvNMwEBAAARAojwDHI3XwRuXdPFwDARAAAYkhgAxvibmVGAgIgAAIgICoCGBuJCqysAsCIAACnCKASB2nbgc6AwIgAAI1lADHsxg43r0a+qbBsEEABECgphFApK6m3XGMFwRAoIYSQKSuht54DBsEQAAEOEUAOXWcuh3oDAiAAAiAABcJIFLHxbuCPoEACICA0AngqalCRwqDIAACIAAClSYgxfshcu4eyKkr795MHtbh3jHnFN8te5Y5snqdWlk9/8s18Z/Nl/fMMDPUZORysjK73UfG3t0Qem31DEd7Vpm/MH1kZ7pKOqRJ+swlM0MtskPWyGbn1vUZITXxxmcpKQ9xaM5I1FUU//l9gYqSPL9BMZfDw8NaNm28cMG8Yu0+8n04fsyoH1s379nt68Cjo6LatGjK/jVpVN/r0AGqGPj27YC+P3f8sfXhQwcZO/n5+SOHD4mJji5mFqcgAAI1ioAwvVFycrKTk5ODg0OfPn2mTZuWlJREKJ8/f963b18Sjhs3LjExkSShoaGjRo3q0aNH7969Fy5cmJOTQ8K8vLzx48e3/nyUdQNu3rxJtbp16zZr1qzs7GxW7dOnT2PGjKGqrERYhej41HV7L3ude8ga1NZQPr7RafnOC0adnP0CIo6sHcdccp3cy9JMt34vtx4Tt80e3bVbO2u2ClPo2tZ67thuvSZtJ506JjpLpvRi5IfXjn0RGGncecFSD5/fN4zX0VQh+YZ5gwfN9Ow71WPrwqFSUryvM8tn9N108GpGVi5Tq0peV69c3simccmmFRWV+g8cNHuuM/8lQyOjh0+eMX+nzp6XkpLq2q07KWzfumnufOc//zq/b8/uhPh4khzxOkiXDAwN+aujDAIgIHQCFKkT7E/oPSnVoDC9EaUPTpgw4cqVK97e3qamphs3biwqKpo/f76bmxsJW7RoQRLqhKysLDmhy5cvnz9/npzK/v37SUifVuSNDh06VGovSZiZmblkyZLdu3dfu3ZNWVmZqcUoHz161MjIqKyK3yM/d/OF9+2XSSmZrJF+9nZvQqL/uv4sN69g5e6Lja2Mrcz16apjn9Zr9l5OSc8ODI09eOb+qL5t2CpMgRS8zj54ExJDOmv2XnLsw1OwNNOza2CyYteFnNz8szeev34X1b+LHcmVFeUCgqNfBX3Myy/UVldu0ai2uZH26WvPitkU5+mlixfUVFVbt2lbstHGtrZ9+vY3MTUteYmR+Jw/16x5C2NjEzr9+DGyVeu2+vr6ZrVrR0fTDOrj9WtXHX8ZU1ZdyEEABIRFQFBnJKb4njC9kYaGBjtBsbOzi4qK8vf3l5eXJz9ENIcPH04eiAomJiYNGzakAnkgW1tbUqOyjIxMu3btVFVVqVzqcefOHRsbG3Nzc7pKpi5dusSohYWFXbhwYeLEiaXWErqwYV2Dl0EfGbNZOXkhkQkN6xpqqCoa6qqT82DkVLC2KP5N37quAb+CgY6alroyWQuNTGRnPKRA1shIfFI6+Tn6o2lfcnrWRufBc9efEvpYvt1gRkbGzh3b5zkv/PYqrCYNwfv82b79BjASS8t6/9y/FxsTE/Xxo6mZ6fo1q+bMc6YvKKw+CiAAAjWTgEhy6mhK9Mcff9jb29OXX3bWoqWlRfKUlBRyWgxritGdPn16zpw534Ke3xTZpFOqRQZdXV3d3d3JmX2Lke/XUVaST0jOYO2kZWTTWg6znJOa8SV4mJqeo6pcfIFHRVH+q8JnTapF1sgCay01I8dIT51Op686vnH+YEV52XGuXhOHtL/p+1ZBXua8x1Q5WemVnhfvPX3PVhFPweO3rQMGDtI3MBCguWd+TxMTErt1d2Dqzpm/YNXypQkJCfMXLHzu56ekrExzppnTpqSnpw8fMbK7Q08BmkAVEACBbyFQE3PqVqxYoaSk5OjoSFG1shgVFBTMnj27TZs2Xbp0KUunQjnF61q2bGltbR0ZGVmhslAUMrNyVZUVWFOqyoo0s2EmN2rKCvF5PEelpqKQnpnL6jCFjOxcUmDKasqKVKBaPGsqX61RRcYUTb8cnLaRDk2h1s4Z2Gn0pmv7Zs7feDoqLvX6/llWvdwYO+J5ffvmzcMHD/48dUaw5s6fO0PLQuR1mOpGRsYeu/dSmYK0v4wYtnvvgbWrVzj06NW+Y6dB/Xu3bt1W/d8vK4I1h1ogAAJlEahxOXXr1q0LDw/funUrBeIMDQ2ZQBzRoaQGkjATo8LCwnnz5qmrq9PMpixwJF+2bFm/z0dISAi/KbJJp6Tw5MmTM2fO0CRsxIgRaWlpVKCYUjkGv/9SQHCMrZUxY0dJQc7CRIcWeGgpiPIdGlvx1kXooAgbrS0xZfb1TXAMv0JMQlpSaiZZq2Osw2bKUUWyxlahwvp5g5Z5+NCqUiNLo6evIyKik2RkpHU/Zzrwq4m0/OSxL63uOHTtbN/hR6+DB25cuzps8JewW4Xt0vT32pXLffr1L6npuctj4OCh2jo6794FNbSxoSCtvr5BRERESU1IQAAEagIBIQe4Nm/eTGtFe/bskZOTI3y00kOfR+QzaOno+PHjlBFHQgqvubi4SEtLr1q1qvznJlEIjr0Henp6NOWiVSJaOiJTPXvyQjqenp6MAs2NBg0aREl3rL5QCtLSUjLSUvQqLSUlLydTUFh0/taL1bP6U67Bpbv+iyb29H/3MSgslto65uPr4uTgFxCup602dkC7SUuPFusAKexZNur4pcfRcakuExyOej8khfcRcS8DIxdP6rXUw9vhx4Y29Yz+N+85W9G+dQMFORlqiCRhUYmU9h0Zk0zdSEz9mlXBKouuMGjIsB49f2bsU5Y2rfcsdlvK3xzdUMrSLijIpyWi3NxcqVq1ZD/ffdK5ef2ampp6q9bFczqC379/8viR19E/SIcidZQjrqqiGhEexnzJ4DeOMgiAgLAIcDxSV4s+QYQ11Hfv3lHSNnkLBQVe9ImyFTw8PPz8/Mip0IeUsbHxhg0bdHR0bt++PWnSJCsrK5oqkVqzZs0Yr0PuJDY2lrLAdXV127dvT76qWMeuX79OFuizj0Jza9eupWAgq8B4I19fX1ZSakGx6bRS5WUJyU9Q6jZ7lZLoVnlepF1BWxYMoX1Cj/3DndyO0HyFFGj/0PZFwwZ0tcvOzd986Pr2ozy/aGqg6XfatdmglR9ikumU9iHNGdOVVoPO3nhBK0N5+QUkJDt7l49qaVObdGat/fOWbyAJ6SCDd47MGzrbMyKaV5dcEbNLacGmv05eefpZpeKX5Mc7KlaqjMYuj98iIsLXrNvo9/TJr5OcKIGbaj9+5Dth7C+smRYtW+0/dIQ5new03qZx42kzZrFXmQLtT5o5Z56tbRM6pR1ILvPnJCUljnea/MuYscU0BThVEPJXLAG6gCogwEUCV9/w9lQIcHS31hWgVmWrCNMbVbZt8etX1huJv4fCbVHo3ki43RORNXgjEYGF2epOgOPeCF8jq/sbDP0HARAAgW8iQPuNvkmvipTgjaoIPJoFARAAAfES+PxcF/E2WZnWhLn7tTLtQhcEQAAEQAAEvhLA3OgrC5RAAARAQIIJIFInwTcXQwMBEACBakOA4xneiNRVm3cSOgoCIAACEkwAkToJvrkYGgiAAAh8JYBI3VcWKIEACIAACFQVAeTUVRV5tAsCIAACIFBtCCBSV21uFToKAiAAAt9DAJG676GHuiAAAiAAAsIhgJw64XCEFRAAARAAAQkmgEidBN9cDA0EQAAEvhLg9FPqfvgB3ujrrUIJBEAABCSYAP32GJdHh92vXL476BsIgAAI1BQCmBvVlDuNcYIACNRwApyeGSFSV8PfnRg+CIBADSLAbXeESF0NeitiqCAAAiDAWQKI1HH21qBjIAACICBMAtj9KkyasAUCIAACICAYAW6n1P2ASJ1gtxW1QAAEQAAEhEkAkTph0oQtEAABEOAsAW4nMWD3K2ffOOgYCIAACAiXALfdESJ1wr3bsAYCIAACICAIAUTqBKGGOiAAAiBQ7Qggp67a3TJ0GARAAAQkkABy6iTwpmJIIAACIAACwiWASJ1wecIaCIAACHCUALeTGJBTx9G3DboFAiAAAsImwG13hJw6Yd9v2AMBEAABEKg8AUTqKs8MNUAABECgGhJATl01vGnoMgiAAAhIHAHk1EncLcWAQAAEQAAEhE0A60bCJsole5otp3GpO+gLCIBAVRKgJAbB/sTTaawbiYdzlbWigDtcZezRMAhwjAC3c+rwWcWxtwu6AwIgAAKiIcDxLAZE6kRz22EVBEAABECgMgQwN6oMLeiCAAiAQLUlwPGcOnijavvOQsdBAARAoDIEuL1shF8ir8y9hC4IgAAIgICICGBuJCKwMAsCIAACHCPA7ckRvBHH3i7oDgiAAAiIhgBy6kTDFVZBAARAAAQkiADmRhJ0MzEUEAABECibgEhz6kJDQ11cXFJSUjQ0NNatW2dubs52xMPD4+LFi1JSUrKysrNnz27fvj17ib8Ab8RPA2UQAAEQkFgCIl02cnd3HzFiRL9+/c6dO+fm5nb48GGWo62t7bhx4xQVFd++fevo6Hjv3j0FBQX2KlvA7lcWBQogAAIgAAKlEEhLS4v870ESfr3ExMSAgIDevXuTkF6pnJSUxCrQZIhcEZ3Wr1//06dPNH9iL/EXMDfip4EyCIAACEguAUEnR15eXjt27ODnMm3atOnTp7OS6OhofX19aWlpktCrnp4eSbS0tFgFpnD27FkzMzMDA4NicuYU3qhULBCCAAiAgKQREDinbvTo0QMGDODHoaamxn/6LeVHjx5t27btwIEDZSnDG5VFBnIQAAEQAAEeAfI95bsfQ0PD2NjYwsJCmhjRa1xcHEn42T179mz+/Pk7d+60sLDgl/OXsW7ETwNlEAABEJBYApRTJ9hfhUS0tbWtra19fHxIk16pzB+me/nyJaXSbd++vVGjRuWYqkVrSuVclrBLik1r3K/PZT/7T7RXwm4ohgMCIPDtBIJisr5dmV/TykCJ/7TUcnBwMGV4U3YDzaIow5vmQE5OTjNmzGjcuPGgQYM+fvxIC0tMxfXr11M6Q0kj8EYlmUiUBN5Iom4nBgMC30FApN7oO/r1pSrWjb6fISyAAAiAQHUgIGhOnXjGBm8kHs5oBQRAAASqmIDAOXXi6TeyGMTDGa2AwP/bOxPoGq8tjpN5EEkk0Uw0jQqJoTE8VEsjWCGVGNJUVxulZq2qIWZiiLwiaZCKF1MpNSyeIhGzGEqxqKFCDJXgaSJIJCQyoe8fX93eFTeE3OHkfv+7rOvc8+2zzz6//bHvOWff75AACZDAiwhwbvQiOrxGAiRAAnpDQKPPqas8JUajyjOkBhIgARKoAgTE3jbi2a9V4BaiiSRAAiSg/wQ4N9J/H3OEJEACJFBKQOzJEaMR71ISIAESkAUB5tTJws0cJAmQAAmQQGUIcG5UGXpsSwIkQAJVhgBz6qqMq2goCZAACegxAbG3jZhTp8e3HodGAiRAAlWHAFfqqo6vaCkJkAAJVIaA2JMjRqPK+JZtSYAESKDKEGBOXZVx1fOGDu3d/vCacTnH5y2ZEaK46tPK48zPU7J+jd65ZERdJ1up3sTYKG7aZ5m/RKbt+feIEF+FsHLh68864CpkIAl56VJdp1rQA23Q2aH132d+oIuUbdMhHOzXQhKzrmH+69rxNSxMlRWyTAIkQAJ6Q0CdT029d+8ejlfy8/MLCAgYPnx4dnY2MJ05cyYwMBCV/fv3z8rKQk1aWlqfPn26dOnSrVu3iRMnFhYWorK4uHjAgAGtn77Kg5uUlIRWnTt3HjlyZEFBAcRu3rzp5eXV/dkLBpTX9vXqM+7kzlm688etxxTN7Wws10cNmrko0dln3KkLN1bP7i9dmjLU/+26Dg38w7oMXjCqb6fObT0VTaRCp3c9x3zR2X9IDGTecrWfOsxfql81+4uzl266dBg/PXbb2sgB9rY1UB8Z+lHQN4sDv4qdP/FjA4PS2fXMEYHfrdid97BIasV3EiABEnhVAq938KvWMvHUGY2qV68+cODAXbt2JSQk1KlTJyoq6smTJzgLPSwsDJUtW7ZEDfAZGxsjCO3cuTM+Ph5BZfny5ag0MDBANFq5cmV5fPPz86dOnRoXF7dnzx5LS0upFYStrKy2PnvZ2v49UylPyavWb006m3Dg9+ycfEXD7r7eKakZP+89XVT8aFbc9iYeLh5upQcahgS0/nbpzpwHBZfSMldsPtInsI2iiVSAwI9bjqak3oLMt0t3hASUCrxdt7Z3Q9fw/yQWFpVs2Xfm/JX0Hh29UW9pbnLhasa5y38Wlzy2s7Zs2ehNN2e7TXtOl9HJjyRAAiRQcQL4Yvt6fyreRWUk1RmNbGxsMLeRrPH29k5PT09OTjY1NUUcQuUnn3yCCISCq6srJjQoIAI1bdoUYigbGRm1bdsWoQVlla9Dhw41btzYzc0NV6Fqx44dKsU0XelVz/H3y39KvTwsLE69edernpONlbmTgzWCh1SPgqe7UxlLPOs5Kgs42tesZW0JbWk3sxQzHghAGxreyX6AOIc/OCf+3oOHUeM+GjP3v2UU8iMJkAAJ6BMBjWQxYEq0bt06X1/fjIwMZ2dniVetWrVQn5OTg6Al1WCNbtOmTaNHj64IUGVV0ImPUivMmXr16oWyv78/ZleYn1VE22vLWFqY3r2Xp2h+P68AeznSdk5uXuniIV65DwqtLMtu8NQwN/1H4KkkWkEbNEitShvmFTrXtkbh64j1UWM/Mjc17j/lx8HB7ZKOXzQzNYqP/crE2HDW4u2Hf/tD0YQFEiABEqggAQ3/71hBK8oV00g0Cg8Pt7CwCAkJwapaeT0/evRo1KhRbdq06dixY3kyL62vXbv2wYMH7ezssCM1bNgwa2vr4ODgl7aqjED+wyIrSzOFBitLc8xspMlNTUuzO8WlgapmDbMH+WU3ePIKiiAgNaxpaY4CWpVqq/GPNjSUVGH65TdoAWQwhZo9updP3+/2LPtmbNSm9Nu5e5eP9PAPk/TwnQRIgARehYBmv6y/iiUqZNW5UiepnzNnzvXr1+fPn4+FOCcnJ2khDpeQ1IAaaWL0+PHj0NBQBI8pU6aoMOpZ1YwZM6QEhdTUVGVV0ImPkDIxMUEoQgHvSJ04derUs6aa+vvC1VtNPVwk7RZmJu6u9tjgwVYQ8h2aeLhK9Vhhw95SGQtSrt5SFrh19352bj60veVir8iUQ0NoU244NzRoRuw27Co1etv5t/M3bmRkGxkZOjzNdFAWY5kESIAEqjoBNUej6Oho7BXFxsYiTgANdnqwHHfy5EmU169fj4w4FLBeN2HCBENDw4iIiBcvrE2bNk1KUHB3d2/Xrt25c+euXbsmqeratSsKmBKVlJSggGwIZNw1bNgQZTW+DA0NTE2M8G5o8Hchfv9Zr3rOyDVA/aTBXZOv/Hn5WiZ6XLPt+IRBfthAQlLDFz3bro4/VsYMCPTt8W5Dd0fkak8Y6PdTQqnAHzdu/37p5uQh/tAW2KFp4/rOyGVQNPRt3dDMxGjHL8mouZaehbRvT3dHSGbl/pNVoRBmgQRIgAReTAArda/358Vq1XW1OvbJ1aXrypUrSNp2c3MzMzODTmQrICxhvoKgUlRU5OLiEhkZaW9vf+DAgSFDhnh4eGCqBLHmzZtDAIWgoKDMzEwEGAcHB8QexKoyhu3duxcaEMw8PT1nz56NxcDdu3fHxMRAD9b9fHx8xowZgyBXppXyR/Nmw5U/vrSMOIHUbYUYkugiFm/Hr4LmjQ/G74ROJF8fFLYa8xUI4PdDMZN69+zkXVBUEr1yb8xPSais42h7atOU5kGz/nerNPUcv0Ma3a8TdoO27DuLnaHikkeohJ6lM/v8q/GbkBk5e8P+45dQiRcUHlod+vGoxTcyStsiFEm/Uhr/3c8bd/32VKRCbwWnF1ZIjkIkQAL6TiA9p/j1huhsUzq70PRLndFI07ZWXv+rRqPK96hzDYxGOncBDSABQQgIHo00ksUgCHqaQQIkQAIkoCAgx5w6xeBZIAESIAESEIQAn1MniCNoBgmQAAmQgLgEuFInrm9oGQmQAAmok4DQPzeqxmikTl9TFwmQAAkIS0DsYMSzX4W9cWgYCZAACciJAOdGcvI2x0oCJCBjAsypk7HzOXQSIAESEIYAc+qEcQUNIQESIAESEJUAV+pE9QztIgESIAH1EhA7jYHRSL3epjYSIAESEJSA2MGIOXWC3jY0iwRIgATkRYBzI3n5m6MlARKQLQHm1MnW9Rw4CZAACQhEQPCcOs6NBLpXaAoJkAAJaI6A4HMjNZ/9qjmO1EwCJEACJKDHBBiN9Ni5HBoJkAAJVBkCXKmrMq6ioSRAAiRQGQJcqasMPbYlARIgARKQBQHOjWThZg6SBEiABJhTx3uABEiABEhA9wS4Uqd7H9ACEiABEiABwQlwpU5wB9E8EiABElAPAcGfU8dopB43UwsJkAAJiE5A7HDE3xuJfv/QPhIgARKQAwHOjeTgZY6RBEiABKoxp443AQmQAAmQgO4JMKdO9z6gBSRAAiRAAoIT4Eqd4A6ieSRAAiSgHgJiJzFUYzRSj5uphQRIgAREJyB2OGJOnej3D+0jARIgATkQ4NxIDl7mGEmABEiAOXW8B0iABEiABAQgIHhOXfW//vpLAEo0gQRIgARIQNYEuG8ka/dz8CRAAiQgCAFGI0EcQTNIgARIQNYEGI1k7X4OngRIgAQEIcBoJIgjaAYJkAAJyJoAo5Gs3c/BkwAJkIAgBBiNBHEEzSABEiABWRNgNJK1+zl4EiABEhCEAKORII6gGSRAAiQgawKMRrJ2PwdPAiRAAoIQYDTSuCPS0tJ69+7t5+eH92vXrmm8P113MGfOHF9f3wYNGly+fFnXtmij/3v37g0aNAj+DQgIGD58eHZ2tjZ61WkfX375ZWBgYI8ePT799NOUlBSd2qK9zhcuXCifu1p7WJV6YjRSgqGZ4rRp0/CPdteuXXgPCwvTTCcCae3YseOaNWtcXFwEskmTplSvXn3gwIHwb0JCQp06daKiojTZmxC68YUjPj5+y5Yt/fv3nzRpkhA2adiI8+fPnzlzRj53tYZxqlbPaKSai7pqs7KyLly40K1bNyjEO8p6/925ZcuWTk5O6gIovh4bG5vWrVtLdnp7e6enp4tvcyUttLKykjTk5eUhGFdSm/jNi4uLZ86cOX36dPFNrdIW8kQJzbovIyPjjTfeMDQ0RDd4r127Nmpq1aql2V6pXRcEnjx5sm7dOqxS6qJzbfc5efLkI0eO4JnLy5Yt03bfWu9vwYIFWJl0dXXVes/y6pBzI3n5m6PVHIHw8HALC4uQkBDNdSGO5oiIiAMHDowaNWru3LniWKUJS06fPp2cnIxldk0op05lAoxGyjTUX8aaVWZm5uPHj6Ea77dv35bVKpb6gYqqEVsp169fnz9/voGBjP5NIZHh+PHjyOMQ1S1qsOvEiRNXr17Fbihmvbdu3RowYMDhw4fVoJcqniMgo385z41dGxV2dnaenp7btm1DZ3hHmct02uCu3T6io6Px9Tk2NtbExES7Peugt/z8fKw2Sx0nJSVZW1tj50wHdmiry8GDByP8YKR4OTo6Ll++/P3339dW5/Lqh6ftadzf+GI1YcKE+/fv16xZE9+g3d3dNd6lTjuYNWvW7t277969a2tri/+nEhMTdWqOxju/cuUK8lPc3NzMzMzQGXYXEJY03qvuOoBnkeFdUFCAWSBC0fjx4xs1aqQ7c7TaM6ZHcXFxHh4eWu1VNp0xGsnG1RwoCZAACQhMgCt1AjuHppEACZCAbAgwGsnG1RwoCZAACQhMgNFIYOfQNBIgARKQDQFGI9m4mgMlARIgAYEJMBoJ7ByaRgIkQAKyIcBoJBtXc6AkQAIkIDABRiOBnUPTqgiB77//PjQ09FWNxa/Q5s2bh1YnT57EgRRS89TU1O7duzdr1mzVqlWFhYVDhw5t0aLFiBEjXlU55UmgyhHgU1OrnMtosO4J4HE4Y8eOPXTokFpMwVPPcSCFpAoPIcUTwbdu3YqPOLIBPzVFX0ZG/HeqFtJUIjQBzo2Edg+NkxsBHEhRv359adQo4xEPDEVyuwdkO15GI9m6XnYDx2NdMPPACa04hQhnxGHagVPysCbWr1+/3Nxc4Ni3b9+HH36ImUqfPn3wPCcJEFrh0WRohRWzkSNHFhUVPXz4EIe94gG4aIsXnooLyZKSknHjxuEjNJw7d648uDjgqmfPnhCTVElimP20b98e5c8//xxlHKUDgdGjRy9atGjHjh0ob9y4sTyFrCcB/SGAE0r4IgE5EOjQoUNwcPCdO3fwJOY2bdrg+dM40BN7M4g92PjBhs0777yD52PiaLUlS5Z06tQJgQdY0CooKAhN8KTqLl26rF27FpXHjh1r166dAlpMTEzjxo1xwsKjR49w9it6UVxSLkChj4/PihUr0AXCjJeXFx63WkYbDqTYsGGD1Apqx4wZo6yBZRLQYwKcG+nPFwuO5KUE8H+9vb09zj/EBKhp06aIB6ampp07d8aUZfv27R988MF7771nbGyMUwMQpXCwjaQQ4QpN8ARYRKaUlBSVvWDmhOY4UBE5CBcvXlQpc/bsWUyh+vbtiy4Q2Jo0aaJSjJUkIE8CjEby9LtMR41QJI0cQUhRxrO3sfiGlTdnZ2fpKp5OLR1MJX10cHCQCubm5pCUymXelbVhDoRJUhkBfEQXiGqKo7sV3T0vyRoSkCEBRiMZOp1DVkEAh8Qja0C6gMUQ6Qh5FXJPqxQRpTwBlfWIathkgnLpqqI7lcKsJAG5EWA0kpvHOV7VBLp27Xrw4MGjR49iMe2HH37AuXlIH1AtWq0aDlHMycl58OBBeQIq65E9gQQ5/JAIXeAIqBckO6hszkoS0G8CjEb67V+OrqIEcApiZGRkeHg4Ehz279+PQ9VecJBrvXr1kDuHTAfsP0k5dRXpBgqRLrF58+ZWrVphmwr7VRVpRRkSkAkBnrYnE0dzmCRAAiQgNAHOjYR2D40jARIgAZkQ4BNHZOJoDlOrBJChgKW8Ml0mJiYyj64ME34kAQUBrtQpULBAAiRAAiSgMwJcqdMZenZMAiRAAiSgIMBopEDBAgmQAAmQgM4IMBrpDD07JgESIAESUBBgNFKgYIEESIAESEBnBBiNdIaeHZMACZAACSgI/B+XN0yVWva83AAAAABJRU5ErkJggg==)"
      ]
    },
    {
      "cell_type": "markdown",
      "metadata": {
        "id": "RdrgWVVmzj3z"
      },
      "source": [
        "cohort_data 에 대한 컬럼 설명 안내\n",
        "- first_visit_month : 유저의 첫 방문월\n",
        "- revisit_month: 재방문월\n",
        "- user_cnt: 각 첫 방문월/재방문월 별 유저수"
      ]
    },
    {
      "cell_type": "code",
      "metadata": {
        "id": "74Fs67JVxiA2"
      },
      "source": [
        "## 수정 금지) 데이터셋 준비 ## \n",
        "a = ('2021-01','2021-01','2021-01','2021-01','2021-01','2021-02', '2021-02','2021-02','2021-02','2021-03','2021-03','2021-03','2021-04','2021-04','2021-05')\n",
        "b = ('2021-01','2021-02','2021-03','2021-04','2021-05','2021-02', '2021-03','2021-04','2021-05','2021-03','2021-04','2021-05','2021-04','2021-05','2021-05')\n",
        "c = (100,80,60,40,10,96, 55,33,11,90,20,10,120,5,1)\n",
        "cohort_data = pd.DataFrame({\"first_visit_month\":a, \"revisit_month\":b, \"user_cnt\": c})"
      ],
      "execution_count": null,
      "outputs": []
    },
    {
      "cell_type": "code",
      "metadata": {
        "id": "Kg_W0ZOur6lF",
        "colab": {
          "base_uri": "https://localhost:8080/",
          "height": 447
        },
        "outputId": "3917fe80-ff69-4afc-93ef-50f76fae49dd"
      },
      "source": [
        "### 여기에 코드를 입력해 주세요 ####\n",
        "cohort_data['month_diff'] = pd.to_datetime(cohort_data['revisit_month']).dt.month - pd.to_datetime(cohort_data['first_visit_month']).dt.month\n",
        "\n",
        "\n",
        "df_temp = cohort_data[cohort_data['month_diff']==0]\n",
        "df_temp = df_temp[['first_visit_month', 'user_cnt']]\n",
        "df_temp.reset_index(inplace=True, drop = True)\n",
        "\n",
        "df_cohort = pd.merge(cohort_data, df_temp, how='left', on='first_visit_month', suffixes =('','_std'))\n",
        "df_cohort['rate'] = df_cohort['user_cnt'] / df_cohort['user_cnt_std']\n",
        "\n",
        "cohort_pvt = df_cohort.pivot('first_visit_month','month_diff','rate' )\n",
        "\n",
        "\n",
        "plt.rcParams['figure.figsize'] = [9, 7]\n",
        "ax = sns.heatmap(cohort_pvt,cmap='Blues',annot=True, fmt = '.2%')"
      ],
      "execution_count": null,
      "outputs": [
        {
          "output_type": "display_data",
          "data": {
            "image/png": "[encoded data removed]",
            "text/plain": [
              "<Figure size 648x504 with 2 Axes>"
            ]
          },
          "metadata": {
            "needs_background": "light"
          }
        }
      ]
    },
    {
      "cell_type": "code",
      "metadata": {
        "id": "I4Ndb_DzBtmX"
      },
      "source": [
        ""
      ],
      "execution_count": null,
      "outputs": []
    }
  ]
}