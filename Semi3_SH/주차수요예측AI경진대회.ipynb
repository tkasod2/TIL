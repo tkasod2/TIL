{
 "cells": [
  {
   "cell_type": "code",
   "execution_count": 1,
   "metadata": {
    "ExecuteTime": {
     "end_time": "2021-07-29T06:30:22.953361Z",
     "start_time": "2021-07-29T06:30:21.680128Z"
    }
   },
   "outputs": [],
   "source": [
    "import warnings\n",
    "warnings.filterwarnings(\"ignore\")\n",
    "\n",
    "import pandas as pd\n",
    "import numpy as np\n",
    "\n",
    "import matplotlib.pyplot as plt\n",
    "%matplotlib inline\n",
    "from matplotlib import rc\n",
    "\n",
    "import seaborn as sns\n",
    "\n",
    "\n",
    "\n",
    "# Windows 유저\n",
    "plt.rcParams['font.family'] = 'Malgun Gothic'\n",
    "\n",
    "import missingno as msno"
   ]
  },
  {
   "cell_type": "code",
   "execution_count": 2,
   "metadata": {
    "ExecuteTime": {
     "end_time": "2021-07-29T06:30:22.983367Z",
     "start_time": "2021-07-29T06:30:22.955362Z"
    }
   },
   "outputs": [],
   "source": [
    "df_train = pd.read_csv('data/train.csv', encoding='utf-8')\n",
    "df_test = pd.read_csv('data/test.csv', encoding='utf-8')"
   ]
  },
  {
   "cell_type": "code",
   "execution_count": 3,
   "metadata": {
    "ExecuteTime": {
     "end_time": "2021-07-29T06:30:23.748539Z",
     "start_time": "2021-07-29T06:30:22.985367Z"
    }
   },
   "outputs": [
    {
     "data": {
      "text/html": [
       "<style  type=\"text/css\" >\n",
       "    #T_7470da92_f036_11eb_926d_d45d64027eb5row0_col0 {\n",
       "            background-color:  #3b4cc0;\n",
       "            color:  #f1f1f1;\n",
       "        }    #T_7470da92_f036_11eb_926d_d45d64027eb5row0_col1 {\n",
       "            background-color:  #3b4cc0;\n",
       "            color:  #f1f1f1;\n",
       "        }    #T_7470da92_f036_11eb_926d_d45d64027eb5row0_col2 {\n",
       "            background-color:  #3b4cc0;\n",
       "            color:  #f1f1f1;\n",
       "        }    #T_7470da92_f036_11eb_926d_d45d64027eb5row0_col3 {\n",
       "            background-color:  #3e51c5;\n",
       "            color:  #f1f1f1;\n",
       "        }    #T_7470da92_f036_11eb_926d_d45d64027eb5row0_col4 {\n",
       "            background-color:  #3b4cc0;\n",
       "            color:  #f1f1f1;\n",
       "        }    #T_7470da92_f036_11eb_926d_d45d64027eb5row0_col5 {\n",
       "            background-color:  #3b4cc0;\n",
       "            color:  #f1f1f1;\n",
       "        }    #T_7470da92_f036_11eb_926d_d45d64027eb5row0_col6 {\n",
       "            background-color:  #3b4cc0;\n",
       "            color:  #f1f1f1;\n",
       "        }    #T_7470da92_f036_11eb_926d_d45d64027eb5row0_col7 {\n",
       "            background-color:  #3b4cc0;\n",
       "            color:  #f1f1f1;\n",
       "        }    #T_7470da92_f036_11eb_926d_d45d64027eb5row0_col8 {\n",
       "            background-color:  #3b4cc0;\n",
       "            color:  #f1f1f1;\n",
       "        }    #T_7470da92_f036_11eb_926d_d45d64027eb5row0_col9 {\n",
       "            background-color:  #3b4cc0;\n",
       "            color:  #f1f1f1;\n",
       "        }    #T_7470da92_f036_11eb_926d_d45d64027eb5row0_col10 {\n",
       "            background-color:  #3b4cc0;\n",
       "            color:  #f1f1f1;\n",
       "        }    #T_7470da92_f036_11eb_926d_d45d64027eb5row0_col11 {\n",
       "            background-color:  #3b4cc0;\n",
       "            color:  #f1f1f1;\n",
       "        }    #T_7470da92_f036_11eb_926d_d45d64027eb5row0_col12 {\n",
       "            background-color:  #3b4cc0;\n",
       "            color:  #f1f1f1;\n",
       "        }    #T_7470da92_f036_11eb_926d_d45d64027eb5row0_col13 {\n",
       "            background-color:  #3b4cc0;\n",
       "            color:  #f1f1f1;\n",
       "        }    #T_7470da92_f036_11eb_926d_d45d64027eb5row0_col14 {\n",
       "            background-color:  #3b4cc0;\n",
       "            color:  #f1f1f1;\n",
       "        }    #T_7470da92_f036_11eb_926d_d45d64027eb5row0_col15 {\n",
       "            background-color:  #3b4cc0;\n",
       "            color:  #f1f1f1;\n",
       "        }    #T_7470da92_f036_11eb_926d_d45d64027eb5row1_col0 {\n",
       "            background-color:  #5e7de7;\n",
       "            color:  #000000;\n",
       "        }    #T_7470da92_f036_11eb_926d_d45d64027eb5row1_col1 {\n",
       "            background-color:  #3b4cc0;\n",
       "            color:  #f1f1f1;\n",
       "        }    #T_7470da92_f036_11eb_926d_d45d64027eb5row1_col2 {\n",
       "            background-color:  #3b4cc0;\n",
       "            color:  #f1f1f1;\n",
       "        }    #T_7470da92_f036_11eb_926d_d45d64027eb5row1_col3 {\n",
       "            background-color:  #3b4cc0;\n",
       "            color:  #f1f1f1;\n",
       "        }    #T_7470da92_f036_11eb_926d_d45d64027eb5row1_col4 {\n",
       "            background-color:  #3b4cc0;\n",
       "            color:  #f1f1f1;\n",
       "        }    #T_7470da92_f036_11eb_926d_d45d64027eb5row1_col5 {\n",
       "            background-color:  #3b4cc0;\n",
       "            color:  #f1f1f1;\n",
       "        }    #T_7470da92_f036_11eb_926d_d45d64027eb5row1_col6 {\n",
       "            background-color:  #3b4cc0;\n",
       "            color:  #f1f1f1;\n",
       "        }    #T_7470da92_f036_11eb_926d_d45d64027eb5row1_col7 {\n",
       "            background-color:  #3b4cc0;\n",
       "            color:  #f1f1f1;\n",
       "        }    #T_7470da92_f036_11eb_926d_d45d64027eb5row1_col8 {\n",
       "            background-color:  #3b4cc0;\n",
       "            color:  #f1f1f1;\n",
       "        }    #T_7470da92_f036_11eb_926d_d45d64027eb5row1_col9 {\n",
       "            background-color:  #3b4cc0;\n",
       "            color:  #f1f1f1;\n",
       "        }    #T_7470da92_f036_11eb_926d_d45d64027eb5row1_col10 {\n",
       "            background-color:  #3b4cc0;\n",
       "            color:  #f1f1f1;\n",
       "        }    #T_7470da92_f036_11eb_926d_d45d64027eb5row1_col11 {\n",
       "            background-color:  #3b4cc0;\n",
       "            color:  #f1f1f1;\n",
       "        }    #T_7470da92_f036_11eb_926d_d45d64027eb5row1_col12 {\n",
       "            background-color:  #3b4cc0;\n",
       "            color:  #f1f1f1;\n",
       "        }    #T_7470da92_f036_11eb_926d_d45d64027eb5row1_col13 {\n",
       "            background-color:  #3b4cc0;\n",
       "            color:  #f1f1f1;\n",
       "        }    #T_7470da92_f036_11eb_926d_d45d64027eb5row1_col14 {\n",
       "            background-color:  #3b4cc0;\n",
       "            color:  #f1f1f1;\n",
       "        }    #T_7470da92_f036_11eb_926d_d45d64027eb5row1_col15 {\n",
       "            background-color:  #4f69d9;\n",
       "            color:  #000000;\n",
       "        }    #T_7470da92_f036_11eb_926d_d45d64027eb5row2_col0 {\n",
       "            background-color:  #3f53c6;\n",
       "            color:  #f1f1f1;\n",
       "        }    #T_7470da92_f036_11eb_926d_d45d64027eb5row2_col1 {\n",
       "            background-color:  #3b4cc0;\n",
       "            color:  #f1f1f1;\n",
       "        }    #T_7470da92_f036_11eb_926d_d45d64027eb5row2_col2 {\n",
       "            background-color:  #3b4cc0;\n",
       "            color:  #f1f1f1;\n",
       "        }    #T_7470da92_f036_11eb_926d_d45d64027eb5row2_col3 {\n",
       "            background-color:  #3b4cc0;\n",
       "            color:  #f1f1f1;\n",
       "        }    #T_7470da92_f036_11eb_926d_d45d64027eb5row2_col4 {\n",
       "            background-color:  #3b4cc0;\n",
       "            color:  #f1f1f1;\n",
       "        }    #T_7470da92_f036_11eb_926d_d45d64027eb5row2_col5 {\n",
       "            background-color:  #3b4cc0;\n",
       "            color:  #f1f1f1;\n",
       "        }    #T_7470da92_f036_11eb_926d_d45d64027eb5row2_col6 {\n",
       "            background-color:  #3b4cc0;\n",
       "            color:  #f1f1f1;\n",
       "        }    #T_7470da92_f036_11eb_926d_d45d64027eb5row2_col7 {\n",
       "            background-color:  #3b4cc0;\n",
       "            color:  #f1f1f1;\n",
       "        }    #T_7470da92_f036_11eb_926d_d45d64027eb5row2_col8 {\n",
       "            background-color:  #3b4cc0;\n",
       "            color:  #f1f1f1;\n",
       "        }    #T_7470da92_f036_11eb_926d_d45d64027eb5row2_col9 {\n",
       "            background-color:  #3b4cc0;\n",
       "            color:  #f1f1f1;\n",
       "        }    #T_7470da92_f036_11eb_926d_d45d64027eb5row2_col10 {\n",
       "            background-color:  #3b4cc0;\n",
       "            color:  #f1f1f1;\n",
       "        }    #T_7470da92_f036_11eb_926d_d45d64027eb5row2_col11 {\n",
       "            background-color:  #3b4cc0;\n",
       "            color:  #f1f1f1;\n",
       "        }    #T_7470da92_f036_11eb_926d_d45d64027eb5row2_col12 {\n",
       "            background-color:  #3b4cc0;\n",
       "            color:  #f1f1f1;\n",
       "        }    #T_7470da92_f036_11eb_926d_d45d64027eb5row2_col13 {\n",
       "            background-color:  #3b4cc0;\n",
       "            color:  #f1f1f1;\n",
       "        }    #T_7470da92_f036_11eb_926d_d45d64027eb5row2_col14 {\n",
       "            background-color:  #3b4cc0;\n",
       "            color:  #f1f1f1;\n",
       "        }    #T_7470da92_f036_11eb_926d_d45d64027eb5row2_col15 {\n",
       "            background-color:  #3d50c3;\n",
       "            color:  #f1f1f1;\n",
       "        }    #T_7470da92_f036_11eb_926d_d45d64027eb5row3_col0 {\n",
       "            background-color:  #3b4cc0;\n",
       "            color:  #f1f1f1;\n",
       "        }    #T_7470da92_f036_11eb_926d_d45d64027eb5row3_col1 {\n",
       "            background-color:  #3b4cc0;\n",
       "            color:  #f1f1f1;\n",
       "        }    #T_7470da92_f036_11eb_926d_d45d64027eb5row3_col2 {\n",
       "            background-color:  #3b4cc0;\n",
       "            color:  #f1f1f1;\n",
       "        }    #T_7470da92_f036_11eb_926d_d45d64027eb5row3_col3 {\n",
       "            background-color:  #3b4cc0;\n",
       "            color:  #f1f1f1;\n",
       "        }    #T_7470da92_f036_11eb_926d_d45d64027eb5row3_col4 {\n",
       "            background-color:  #3b4cc0;\n",
       "            color:  #f1f1f1;\n",
       "        }    #T_7470da92_f036_11eb_926d_d45d64027eb5row3_col5 {\n",
       "            background-color:  #3b4cc0;\n",
       "            color:  #f1f1f1;\n",
       "        }    #T_7470da92_f036_11eb_926d_d45d64027eb5row3_col6 {\n",
       "            background-color:  #3b4cc0;\n",
       "            color:  #f1f1f1;\n",
       "        }    #T_7470da92_f036_11eb_926d_d45d64027eb5row3_col7 {\n",
       "            background-color:  #3b4cc0;\n",
       "            color:  #f1f1f1;\n",
       "        }    #T_7470da92_f036_11eb_926d_d45d64027eb5row3_col8 {\n",
       "            background-color:  #3b4cc0;\n",
       "            color:  #f1f1f1;\n",
       "        }    #T_7470da92_f036_11eb_926d_d45d64027eb5row3_col9 {\n",
       "            background-color:  #3b4cc0;\n",
       "            color:  #f1f1f1;\n",
       "        }    #T_7470da92_f036_11eb_926d_d45d64027eb5row3_col10 {\n",
       "            background-color:  #3b4cc0;\n",
       "            color:  #f1f1f1;\n",
       "        }    #T_7470da92_f036_11eb_926d_d45d64027eb5row3_col11 {\n",
       "            background-color:  #3b4cc0;\n",
       "            color:  #f1f1f1;\n",
       "        }    #T_7470da92_f036_11eb_926d_d45d64027eb5row3_col12 {\n",
       "            background-color:  #3b4cc0;\n",
       "            color:  #f1f1f1;\n",
       "        }    #T_7470da92_f036_11eb_926d_d45d64027eb5row3_col13 {\n",
       "            background-color:  #3b4cc0;\n",
       "            color:  #f1f1f1;\n",
       "        }    #T_7470da92_f036_11eb_926d_d45d64027eb5row3_col14 {\n",
       "            background-color:  #3b4cc0;\n",
       "            color:  #f1f1f1;\n",
       "        }    #T_7470da92_f036_11eb_926d_d45d64027eb5row3_col15 {\n",
       "            background-color:  #3b4cc0;\n",
       "            color:  #f1f1f1;\n",
       "        }    #T_7470da92_f036_11eb_926d_d45d64027eb5row4_col0 {\n",
       "            background-color:  #3c4ec2;\n",
       "            color:  #f1f1f1;\n",
       "        }    #T_7470da92_f036_11eb_926d_d45d64027eb5row4_col1 {\n",
       "            background-color:  #3b4cc0;\n",
       "            color:  #f1f1f1;\n",
       "        }    #T_7470da92_f036_11eb_926d_d45d64027eb5row4_col2 {\n",
       "            background-color:  #3b4cc0;\n",
       "            color:  #f1f1f1;\n",
       "        }    #T_7470da92_f036_11eb_926d_d45d64027eb5row4_col3 {\n",
       "            background-color:  #3b4cc0;\n",
       "            color:  #f1f1f1;\n",
       "        }    #T_7470da92_f036_11eb_926d_d45d64027eb5row4_col4 {\n",
       "            background-color:  #3b4cc0;\n",
       "            color:  #f1f1f1;\n",
       "        }    #T_7470da92_f036_11eb_926d_d45d64027eb5row4_col5 {\n",
       "            background-color:  #3b4cc0;\n",
       "            color:  #f1f1f1;\n",
       "        }    #T_7470da92_f036_11eb_926d_d45d64027eb5row4_col6 {\n",
       "            background-color:  #3b4cc0;\n",
       "            color:  #f1f1f1;\n",
       "        }    #T_7470da92_f036_11eb_926d_d45d64027eb5row4_col7 {\n",
       "            background-color:  #3b4cc0;\n",
       "            color:  #f1f1f1;\n",
       "        }    #T_7470da92_f036_11eb_926d_d45d64027eb5row4_col8 {\n",
       "            background-color:  #3b4cc0;\n",
       "            color:  #f1f1f1;\n",
       "        }    #T_7470da92_f036_11eb_926d_d45d64027eb5row4_col9 {\n",
       "            background-color:  #3b4cc0;\n",
       "            color:  #f1f1f1;\n",
       "        }    #T_7470da92_f036_11eb_926d_d45d64027eb5row4_col10 {\n",
       "            background-color:  #3b4cc0;\n",
       "            color:  #f1f1f1;\n",
       "        }    #T_7470da92_f036_11eb_926d_d45d64027eb5row4_col11 {\n",
       "            background-color:  #3b4cc0;\n",
       "            color:  #f1f1f1;\n",
       "        }    #T_7470da92_f036_11eb_926d_d45d64027eb5row4_col12 {\n",
       "            background-color:  #3b4cc0;\n",
       "            color:  #f1f1f1;\n",
       "        }    #T_7470da92_f036_11eb_926d_d45d64027eb5row4_col13 {\n",
       "            background-color:  #3b4cc0;\n",
       "            color:  #f1f1f1;\n",
       "        }    #T_7470da92_f036_11eb_926d_d45d64027eb5row4_col14 {\n",
       "            background-color:  #3b4cc0;\n",
       "            color:  #f1f1f1;\n",
       "        }    #T_7470da92_f036_11eb_926d_d45d64027eb5row4_col15 {\n",
       "            background-color:  #3b4cc0;\n",
       "            color:  #f1f1f1;\n",
       "        }    #T_7470da92_f036_11eb_926d_d45d64027eb5row5_col0 {\n",
       "            background-color:  #e36b54;\n",
       "            color:  #000000;\n",
       "        }    #T_7470da92_f036_11eb_926d_d45d64027eb5row5_col1 {\n",
       "            background-color:  #b40426;\n",
       "            color:  #f1f1f1;\n",
       "        }    #T_7470da92_f036_11eb_926d_d45d64027eb5row5_col2 {\n",
       "            background-color:  #3b4cc0;\n",
       "            color:  #f1f1f1;\n",
       "        }    #T_7470da92_f036_11eb_926d_d45d64027eb5row5_col3 {\n",
       "            background-color:  #3b4cc0;\n",
       "            color:  #f1f1f1;\n",
       "        }    #T_7470da92_f036_11eb_926d_d45d64027eb5row5_col4 {\n",
       "            background-color:  #d0473d;\n",
       "            color:  #f1f1f1;\n",
       "        }    #T_7470da92_f036_11eb_926d_d45d64027eb5row5_col5 {\n",
       "            background-color:  #3b4cc0;\n",
       "            color:  #f1f1f1;\n",
       "        }    #T_7470da92_f036_11eb_926d_d45d64027eb5row5_col6 {\n",
       "            background-color:  #b40426;\n",
       "            color:  #f1f1f1;\n",
       "        }    #T_7470da92_f036_11eb_926d_d45d64027eb5row5_col7 {\n",
       "            background-color:  #b40426;\n",
       "            color:  #f1f1f1;\n",
       "        }    #T_7470da92_f036_11eb_926d_d45d64027eb5row5_col8 {\n",
       "            background-color:  #3b4cc0;\n",
       "            color:  #f1f1f1;\n",
       "        }    #T_7470da92_f036_11eb_926d_d45d64027eb5row5_col9 {\n",
       "            background-color:  #3b4cc0;\n",
       "            color:  #f1f1f1;\n",
       "        }    #T_7470da92_f036_11eb_926d_d45d64027eb5row5_col10 {\n",
       "            background-color:  #3b4cc0;\n",
       "            color:  #f1f1f1;\n",
       "        }    #T_7470da92_f036_11eb_926d_d45d64027eb5row5_col11 {\n",
       "            background-color:  #3b4cc0;\n",
       "            color:  #f1f1f1;\n",
       "        }    #T_7470da92_f036_11eb_926d_d45d64027eb5row5_col12 {\n",
       "            background-color:  #3b4cc0;\n",
       "            color:  #f1f1f1;\n",
       "        }    #T_7470da92_f036_11eb_926d_d45d64027eb5row5_col13 {\n",
       "            background-color:  #3b4cc0;\n",
       "            color:  #f1f1f1;\n",
       "        }    #T_7470da92_f036_11eb_926d_d45d64027eb5row5_col14 {\n",
       "            background-color:  #3b4cc0;\n",
       "            color:  #f1f1f1;\n",
       "        }    #T_7470da92_f036_11eb_926d_d45d64027eb5row5_col15 {\n",
       "            background-color:  #f1ccb8;\n",
       "            color:  #000000;\n",
       "        }    #T_7470da92_f036_11eb_926d_d45d64027eb5row6_col0 {\n",
       "            background-color:  #3b4cc0;\n",
       "            color:  #f1f1f1;\n",
       "        }    #T_7470da92_f036_11eb_926d_d45d64027eb5row6_col1 {\n",
       "            background-color:  #3b4cc0;\n",
       "            color:  #f1f1f1;\n",
       "        }    #T_7470da92_f036_11eb_926d_d45d64027eb5row6_col2 {\n",
       "            background-color:  #b40426;\n",
       "            color:  #f1f1f1;\n",
       "        }    #T_7470da92_f036_11eb_926d_d45d64027eb5row6_col3 {\n",
       "            background-color:  #3b4cc0;\n",
       "            color:  #f1f1f1;\n",
       "        }    #T_7470da92_f036_11eb_926d_d45d64027eb5row6_col4 {\n",
       "            background-color:  #536edd;\n",
       "            color:  #000000;\n",
       "        }    #T_7470da92_f036_11eb_926d_d45d64027eb5row6_col5 {\n",
       "            background-color:  #b40426;\n",
       "            color:  #f1f1f1;\n",
       "        }    #T_7470da92_f036_11eb_926d_d45d64027eb5row6_col6 {\n",
       "            background-color:  #3b4cc0;\n",
       "            color:  #f1f1f1;\n",
       "        }    #T_7470da92_f036_11eb_926d_d45d64027eb5row6_col7 {\n",
       "            background-color:  #3b4cc0;\n",
       "            color:  #f1f1f1;\n",
       "        }    #T_7470da92_f036_11eb_926d_d45d64027eb5row6_col8 {\n",
       "            background-color:  #b40426;\n",
       "            color:  #f1f1f1;\n",
       "        }    #T_7470da92_f036_11eb_926d_d45d64027eb5row6_col9 {\n",
       "            background-color:  #3b4cc0;\n",
       "            color:  #f1f1f1;\n",
       "        }    #T_7470da92_f036_11eb_926d_d45d64027eb5row6_col10 {\n",
       "            background-color:  #3b4cc0;\n",
       "            color:  #f1f1f1;\n",
       "        }    #T_7470da92_f036_11eb_926d_d45d64027eb5row6_col11 {\n",
       "            background-color:  #3b4cc0;\n",
       "            color:  #f1f1f1;\n",
       "        }    #T_7470da92_f036_11eb_926d_d45d64027eb5row6_col12 {\n",
       "            background-color:  #3b4cc0;\n",
       "            color:  #f1f1f1;\n",
       "        }    #T_7470da92_f036_11eb_926d_d45d64027eb5row6_col13 {\n",
       "            background-color:  #3b4cc0;\n",
       "            color:  #f1f1f1;\n",
       "        }    #T_7470da92_f036_11eb_926d_d45d64027eb5row6_col14 {\n",
       "            background-color:  #3b4cc0;\n",
       "            color:  #f1f1f1;\n",
       "        }    #T_7470da92_f036_11eb_926d_d45d64027eb5row6_col15 {\n",
       "            background-color:  #4961d2;\n",
       "            color:  #f1f1f1;\n",
       "        }    #T_7470da92_f036_11eb_926d_d45d64027eb5row7_col0 {\n",
       "            background-color:  #3b4cc0;\n",
       "            color:  #f1f1f1;\n",
       "        }    #T_7470da92_f036_11eb_926d_d45d64027eb5row7_col1 {\n",
       "            background-color:  #3b4cc0;\n",
       "            color:  #f1f1f1;\n",
       "        }    #T_7470da92_f036_11eb_926d_d45d64027eb5row7_col2 {\n",
       "            background-color:  #3b4cc0;\n",
       "            color:  #f1f1f1;\n",
       "        }    #T_7470da92_f036_11eb_926d_d45d64027eb5row7_col3 {\n",
       "            background-color:  #b8122a;\n",
       "            color:  #f1f1f1;\n",
       "        }    #T_7470da92_f036_11eb_926d_d45d64027eb5row7_col4 {\n",
       "            background-color:  #3b4cc0;\n",
       "            color:  #f1f1f1;\n",
       "        }    #T_7470da92_f036_11eb_926d_d45d64027eb5row7_col5 {\n",
       "            background-color:  #3b4cc0;\n",
       "            color:  #f1f1f1;\n",
       "        }    #T_7470da92_f036_11eb_926d_d45d64027eb5row7_col6 {\n",
       "            background-color:  #3b4cc0;\n",
       "            color:  #f1f1f1;\n",
       "        }    #T_7470da92_f036_11eb_926d_d45d64027eb5row7_col7 {\n",
       "            background-color:  #3b4cc0;\n",
       "            color:  #f1f1f1;\n",
       "        }    #T_7470da92_f036_11eb_926d_d45d64027eb5row7_col8 {\n",
       "            background-color:  #3b4cc0;\n",
       "            color:  #f1f1f1;\n",
       "        }    #T_7470da92_f036_11eb_926d_d45d64027eb5row7_col9 {\n",
       "            background-color:  #3b4cc0;\n",
       "            color:  #f1f1f1;\n",
       "        }    #T_7470da92_f036_11eb_926d_d45d64027eb5row7_col10 {\n",
       "            background-color:  #3b4cc0;\n",
       "            color:  #f1f1f1;\n",
       "        }    #T_7470da92_f036_11eb_926d_d45d64027eb5row7_col11 {\n",
       "            background-color:  #3b4cc0;\n",
       "            color:  #f1f1f1;\n",
       "        }    #T_7470da92_f036_11eb_926d_d45d64027eb5row7_col12 {\n",
       "            background-color:  #3b4cc0;\n",
       "            color:  #f1f1f1;\n",
       "        }    #T_7470da92_f036_11eb_926d_d45d64027eb5row7_col13 {\n",
       "            background-color:  #3b4cc0;\n",
       "            color:  #f1f1f1;\n",
       "        }    #T_7470da92_f036_11eb_926d_d45d64027eb5row7_col14 {\n",
       "            background-color:  #3b4cc0;\n",
       "            color:  #f1f1f1;\n",
       "        }    #T_7470da92_f036_11eb_926d_d45d64027eb5row7_col15 {\n",
       "            background-color:  #779af7;\n",
       "            color:  #000000;\n",
       "        }    #T_7470da92_f036_11eb_926d_d45d64027eb5row8_col0 {\n",
       "            background-color:  #3c4ec2;\n",
       "            color:  #f1f1f1;\n",
       "        }    #T_7470da92_f036_11eb_926d_d45d64027eb5row8_col1 {\n",
       "            background-color:  #3b4cc0;\n",
       "            color:  #f1f1f1;\n",
       "        }    #T_7470da92_f036_11eb_926d_d45d64027eb5row8_col2 {\n",
       "            background-color:  #3b4cc0;\n",
       "            color:  #f1f1f1;\n",
       "        }    #T_7470da92_f036_11eb_926d_d45d64027eb5row8_col3 {\n",
       "            background-color:  #3b4cc0;\n",
       "            color:  #f1f1f1;\n",
       "        }    #T_7470da92_f036_11eb_926d_d45d64027eb5row8_col4 {\n",
       "            background-color:  #3b4cc0;\n",
       "            color:  #f1f1f1;\n",
       "        }    #T_7470da92_f036_11eb_926d_d45d64027eb5row8_col5 {\n",
       "            background-color:  #3b4cc0;\n",
       "            color:  #f1f1f1;\n",
       "        }    #T_7470da92_f036_11eb_926d_d45d64027eb5row8_col6 {\n",
       "            background-color:  #3b4cc0;\n",
       "            color:  #f1f1f1;\n",
       "        }    #T_7470da92_f036_11eb_926d_d45d64027eb5row8_col7 {\n",
       "            background-color:  #3b4cc0;\n",
       "            color:  #f1f1f1;\n",
       "        }    #T_7470da92_f036_11eb_926d_d45d64027eb5row8_col8 {\n",
       "            background-color:  #3b4cc0;\n",
       "            color:  #f1f1f1;\n",
       "        }    #T_7470da92_f036_11eb_926d_d45d64027eb5row8_col9 {\n",
       "            background-color:  #3b4cc0;\n",
       "            color:  #f1f1f1;\n",
       "        }    #T_7470da92_f036_11eb_926d_d45d64027eb5row8_col10 {\n",
       "            background-color:  #3b4cc0;\n",
       "            color:  #f1f1f1;\n",
       "        }    #T_7470da92_f036_11eb_926d_d45d64027eb5row8_col11 {\n",
       "            background-color:  #3b4cc0;\n",
       "            color:  #f1f1f1;\n",
       "        }    #T_7470da92_f036_11eb_926d_d45d64027eb5row8_col12 {\n",
       "            background-color:  #3b4cc0;\n",
       "            color:  #f1f1f1;\n",
       "        }    #T_7470da92_f036_11eb_926d_d45d64027eb5row8_col13 {\n",
       "            background-color:  #3b4cc0;\n",
       "            color:  #f1f1f1;\n",
       "        }    #T_7470da92_f036_11eb_926d_d45d64027eb5row8_col14 {\n",
       "            background-color:  #3b4cc0;\n",
       "            color:  #f1f1f1;\n",
       "        }    #T_7470da92_f036_11eb_926d_d45d64027eb5row8_col15 {\n",
       "            background-color:  #3b4cc0;\n",
       "            color:  #f1f1f1;\n",
       "        }    #T_7470da92_f036_11eb_926d_d45d64027eb5row9_col0 {\n",
       "            background-color:  #3b4cc0;\n",
       "            color:  #f1f1f1;\n",
       "        }    #T_7470da92_f036_11eb_926d_d45d64027eb5row9_col1 {\n",
       "            background-color:  #3b4cc0;\n",
       "            color:  #f1f1f1;\n",
       "        }    #T_7470da92_f036_11eb_926d_d45d64027eb5row9_col2 {\n",
       "            background-color:  #3b4cc0;\n",
       "            color:  #f1f1f1;\n",
       "        }    #T_7470da92_f036_11eb_926d_d45d64027eb5row9_col3 {\n",
       "            background-color:  #3b4cc0;\n",
       "            color:  #f1f1f1;\n",
       "        }    #T_7470da92_f036_11eb_926d_d45d64027eb5row9_col4 {\n",
       "            background-color:  #3b4cc0;\n",
       "            color:  #f1f1f1;\n",
       "        }    #T_7470da92_f036_11eb_926d_d45d64027eb5row9_col5 {\n",
       "            background-color:  #3b4cc0;\n",
       "            color:  #f1f1f1;\n",
       "        }    #T_7470da92_f036_11eb_926d_d45d64027eb5row9_col6 {\n",
       "            background-color:  #3b4cc0;\n",
       "            color:  #f1f1f1;\n",
       "        }    #T_7470da92_f036_11eb_926d_d45d64027eb5row9_col7 {\n",
       "            background-color:  #3b4cc0;\n",
       "            color:  #f1f1f1;\n",
       "        }    #T_7470da92_f036_11eb_926d_d45d64027eb5row9_col8 {\n",
       "            background-color:  #3b4cc0;\n",
       "            color:  #f1f1f1;\n",
       "        }    #T_7470da92_f036_11eb_926d_d45d64027eb5row9_col9 {\n",
       "            background-color:  #b40426;\n",
       "            color:  #f1f1f1;\n",
       "        }    #T_7470da92_f036_11eb_926d_d45d64027eb5row9_col10 {\n",
       "            background-color:  #b40426;\n",
       "            color:  #f1f1f1;\n",
       "        }    #T_7470da92_f036_11eb_926d_d45d64027eb5row9_col11 {\n",
       "            background-color:  #b40426;\n",
       "            color:  #f1f1f1;\n",
       "        }    #T_7470da92_f036_11eb_926d_d45d64027eb5row9_col12 {\n",
       "            background-color:  #b40426;\n",
       "            color:  #f1f1f1;\n",
       "        }    #T_7470da92_f036_11eb_926d_d45d64027eb5row9_col13 {\n",
       "            background-color:  #b40426;\n",
       "            color:  #f1f1f1;\n",
       "        }    #T_7470da92_f036_11eb_926d_d45d64027eb5row9_col14 {\n",
       "            background-color:  #b40426;\n",
       "            color:  #f1f1f1;\n",
       "        }    #T_7470da92_f036_11eb_926d_d45d64027eb5row9_col15 {\n",
       "            background-color:  #506bda;\n",
       "            color:  #000000;\n",
       "        }    #T_7470da92_f036_11eb_926d_d45d64027eb5row10_col0 {\n",
       "            background-color:  #b40426;\n",
       "            color:  #f1f1f1;\n",
       "        }    #T_7470da92_f036_11eb_926d_d45d64027eb5row10_col1 {\n",
       "            background-color:  #b40426;\n",
       "            color:  #f1f1f1;\n",
       "        }    #T_7470da92_f036_11eb_926d_d45d64027eb5row10_col2 {\n",
       "            background-color:  #b40426;\n",
       "            color:  #f1f1f1;\n",
       "        }    #T_7470da92_f036_11eb_926d_d45d64027eb5row10_col3 {\n",
       "            background-color:  #b40426;\n",
       "            color:  #f1f1f1;\n",
       "        }    #T_7470da92_f036_11eb_926d_d45d64027eb5row10_col4 {\n",
       "            background-color:  #b40426;\n",
       "            color:  #f1f1f1;\n",
       "        }    #T_7470da92_f036_11eb_926d_d45d64027eb5row10_col5 {\n",
       "            background-color:  #b40426;\n",
       "            color:  #f1f1f1;\n",
       "        }    #T_7470da92_f036_11eb_926d_d45d64027eb5row10_col6 {\n",
       "            background-color:  #b40426;\n",
       "            color:  #f1f1f1;\n",
       "        }    #T_7470da92_f036_11eb_926d_d45d64027eb5row10_col7 {\n",
       "            background-color:  #b40426;\n",
       "            color:  #f1f1f1;\n",
       "        }    #T_7470da92_f036_11eb_926d_d45d64027eb5row10_col8 {\n",
       "            background-color:  #b40426;\n",
       "            color:  #f1f1f1;\n",
       "        }    #T_7470da92_f036_11eb_926d_d45d64027eb5row10_col9 {\n",
       "            background-color:  #b40426;\n",
       "            color:  #f1f1f1;\n",
       "        }    #T_7470da92_f036_11eb_926d_d45d64027eb5row10_col10 {\n",
       "            background-color:  #b40426;\n",
       "            color:  #f1f1f1;\n",
       "        }    #T_7470da92_f036_11eb_926d_d45d64027eb5row10_col11 {\n",
       "            background-color:  #b40426;\n",
       "            color:  #f1f1f1;\n",
       "        }    #T_7470da92_f036_11eb_926d_d45d64027eb5row10_col12 {\n",
       "            background-color:  #b40426;\n",
       "            color:  #f1f1f1;\n",
       "        }    #T_7470da92_f036_11eb_926d_d45d64027eb5row10_col13 {\n",
       "            background-color:  #b40426;\n",
       "            color:  #f1f1f1;\n",
       "        }    #T_7470da92_f036_11eb_926d_d45d64027eb5row10_col14 {\n",
       "            background-color:  #b40426;\n",
       "            color:  #f1f1f1;\n",
       "        }    #T_7470da92_f036_11eb_926d_d45d64027eb5row10_col15 {\n",
       "            background-color:  #b40426;\n",
       "            color:  #f1f1f1;\n",
       "        }</style><table id=\"T_7470da92_f036_11eb_926d_d45d64027eb5\" ><thead>    <tr>        <th class=\"index_name level0\" >자격유형</th>        <th class=\"col_heading level0 col0\" >A</th>        <th class=\"col_heading level0 col1\" >B</th>        <th class=\"col_heading level0 col2\" >C</th>        <th class=\"col_heading level0 col3\" >D</th>        <th class=\"col_heading level0 col4\" >E</th>        <th class=\"col_heading level0 col5\" >F</th>        <th class=\"col_heading level0 col6\" >G</th>        <th class=\"col_heading level0 col7\" >H</th>        <th class=\"col_heading level0 col8\" >I</th>        <th class=\"col_heading level0 col9\" >J</th>        <th class=\"col_heading level0 col10\" >K</th>        <th class=\"col_heading level0 col11\" >L</th>        <th class=\"col_heading level0 col12\" >M</th>        <th class=\"col_heading level0 col13\" >N</th>        <th class=\"col_heading level0 col14\" >O</th>        <th class=\"col_heading level0 col15\" >All</th>    </tr>    <tr>        <th class=\"index_name level0\" >공급유형</th>        <th class=\"blank\" ></th>        <th class=\"blank\" ></th>        <th class=\"blank\" ></th>        <th class=\"blank\" ></th>        <th class=\"blank\" ></th>        <th class=\"blank\" ></th>        <th class=\"blank\" ></th>        <th class=\"blank\" ></th>        <th class=\"blank\" ></th>        <th class=\"blank\" ></th>        <th class=\"blank\" ></th>        <th class=\"blank\" ></th>        <th class=\"blank\" ></th>        <th class=\"blank\" ></th>        <th class=\"blank\" ></th>        <th class=\"blank\" ></th>    </tr></thead><tbody>\n",
       "                <tr>\n",
       "                        <th id=\"T_7470da92_f036_11eb_926d_d45d64027eb5level0_row0\" class=\"row_heading level0 row0\" >공공분양</th>\n",
       "                        <td id=\"T_7470da92_f036_11eb_926d_d45d64027eb5row0_col0\" class=\"data row0 col0\" >0</td>\n",
       "                        <td id=\"T_7470da92_f036_11eb_926d_d45d64027eb5row0_col1\" class=\"data row0 col1\" >0</td>\n",
       "                        <td id=\"T_7470da92_f036_11eb_926d_d45d64027eb5row0_col2\" class=\"data row0 col2\" >0</td>\n",
       "                        <td id=\"T_7470da92_f036_11eb_926d_d45d64027eb5row0_col3\" class=\"data row0 col3\" >7</td>\n",
       "                        <td id=\"T_7470da92_f036_11eb_926d_d45d64027eb5row0_col4\" class=\"data row0 col4\" >0</td>\n",
       "                        <td id=\"T_7470da92_f036_11eb_926d_d45d64027eb5row0_col5\" class=\"data row0 col5\" >0</td>\n",
       "                        <td id=\"T_7470da92_f036_11eb_926d_d45d64027eb5row0_col6\" class=\"data row0 col6\" >0</td>\n",
       "                        <td id=\"T_7470da92_f036_11eb_926d_d45d64027eb5row0_col7\" class=\"data row0 col7\" >0</td>\n",
       "                        <td id=\"T_7470da92_f036_11eb_926d_d45d64027eb5row0_col8\" class=\"data row0 col8\" >0</td>\n",
       "                        <td id=\"T_7470da92_f036_11eb_926d_d45d64027eb5row0_col9\" class=\"data row0 col9\" >0</td>\n",
       "                        <td id=\"T_7470da92_f036_11eb_926d_d45d64027eb5row0_col10\" class=\"data row0 col10\" >0</td>\n",
       "                        <td id=\"T_7470da92_f036_11eb_926d_d45d64027eb5row0_col11\" class=\"data row0 col11\" >0</td>\n",
       "                        <td id=\"T_7470da92_f036_11eb_926d_d45d64027eb5row0_col12\" class=\"data row0 col12\" >0</td>\n",
       "                        <td id=\"T_7470da92_f036_11eb_926d_d45d64027eb5row0_col13\" class=\"data row0 col13\" >0</td>\n",
       "                        <td id=\"T_7470da92_f036_11eb_926d_d45d64027eb5row0_col14\" class=\"data row0 col14\" >0</td>\n",
       "                        <td id=\"T_7470da92_f036_11eb_926d_d45d64027eb5row0_col15\" class=\"data row0 col15\" >7</td>\n",
       "            </tr>\n",
       "            <tr>\n",
       "                        <th id=\"T_7470da92_f036_11eb_926d_d45d64027eb5level0_row1\" class=\"row_heading level0 row1\" >공공임대(10년)</th>\n",
       "                        <td id=\"T_7470da92_f036_11eb_926d_d45d64027eb5row1_col0\" class=\"data row1 col0\" >205</td>\n",
       "                        <td id=\"T_7470da92_f036_11eb_926d_d45d64027eb5row1_col1\" class=\"data row1 col1\" >0</td>\n",
       "                        <td id=\"T_7470da92_f036_11eb_926d_d45d64027eb5row1_col2\" class=\"data row1 col2\" >0</td>\n",
       "                        <td id=\"T_7470da92_f036_11eb_926d_d45d64027eb5row1_col3\" class=\"data row1 col3\" >0</td>\n",
       "                        <td id=\"T_7470da92_f036_11eb_926d_d45d64027eb5row1_col4\" class=\"data row1 col4\" >0</td>\n",
       "                        <td id=\"T_7470da92_f036_11eb_926d_d45d64027eb5row1_col5\" class=\"data row1 col5\" >0</td>\n",
       "                        <td id=\"T_7470da92_f036_11eb_926d_d45d64027eb5row1_col6\" class=\"data row1 col6\" >0</td>\n",
       "                        <td id=\"T_7470da92_f036_11eb_926d_d45d64027eb5row1_col7\" class=\"data row1 col7\" >0</td>\n",
       "                        <td id=\"T_7470da92_f036_11eb_926d_d45d64027eb5row1_col8\" class=\"data row1 col8\" >0</td>\n",
       "                        <td id=\"T_7470da92_f036_11eb_926d_d45d64027eb5row1_col9\" class=\"data row1 col9\" >0</td>\n",
       "                        <td id=\"T_7470da92_f036_11eb_926d_d45d64027eb5row1_col10\" class=\"data row1 col10\" >0</td>\n",
       "                        <td id=\"T_7470da92_f036_11eb_926d_d45d64027eb5row1_col11\" class=\"data row1 col11\" >0</td>\n",
       "                        <td id=\"T_7470da92_f036_11eb_926d_d45d64027eb5row1_col12\" class=\"data row1 col12\" >0</td>\n",
       "                        <td id=\"T_7470da92_f036_11eb_926d_d45d64027eb5row1_col13\" class=\"data row1 col13\" >0</td>\n",
       "                        <td id=\"T_7470da92_f036_11eb_926d_d45d64027eb5row1_col14\" class=\"data row1 col14\" >0</td>\n",
       "                        <td id=\"T_7470da92_f036_11eb_926d_d45d64027eb5row1_col15\" class=\"data row1 col15\" >205</td>\n",
       "            </tr>\n",
       "            <tr>\n",
       "                        <th id=\"T_7470da92_f036_11eb_926d_d45d64027eb5level0_row2\" class=\"row_heading level0 row2\" >공공임대(50년)</th>\n",
       "                        <td id=\"T_7470da92_f036_11eb_926d_d45d64027eb5row2_col0\" class=\"data row2 col0\" >31</td>\n",
       "                        <td id=\"T_7470da92_f036_11eb_926d_d45d64027eb5row2_col1\" class=\"data row2 col1\" >0</td>\n",
       "                        <td id=\"T_7470da92_f036_11eb_926d_d45d64027eb5row2_col2\" class=\"data row2 col2\" >0</td>\n",
       "                        <td id=\"T_7470da92_f036_11eb_926d_d45d64027eb5row2_col3\" class=\"data row2 col3\" >0</td>\n",
       "                        <td id=\"T_7470da92_f036_11eb_926d_d45d64027eb5row2_col4\" class=\"data row2 col4\" >0</td>\n",
       "                        <td id=\"T_7470da92_f036_11eb_926d_d45d64027eb5row2_col5\" class=\"data row2 col5\" >0</td>\n",
       "                        <td id=\"T_7470da92_f036_11eb_926d_d45d64027eb5row2_col6\" class=\"data row2 col6\" >0</td>\n",
       "                        <td id=\"T_7470da92_f036_11eb_926d_d45d64027eb5row2_col7\" class=\"data row2 col7\" >0</td>\n",
       "                        <td id=\"T_7470da92_f036_11eb_926d_d45d64027eb5row2_col8\" class=\"data row2 col8\" >0</td>\n",
       "                        <td id=\"T_7470da92_f036_11eb_926d_d45d64027eb5row2_col9\" class=\"data row2 col9\" >0</td>\n",
       "                        <td id=\"T_7470da92_f036_11eb_926d_d45d64027eb5row2_col10\" class=\"data row2 col10\" >0</td>\n",
       "                        <td id=\"T_7470da92_f036_11eb_926d_d45d64027eb5row2_col11\" class=\"data row2 col11\" >0</td>\n",
       "                        <td id=\"T_7470da92_f036_11eb_926d_d45d64027eb5row2_col12\" class=\"data row2 col12\" >0</td>\n",
       "                        <td id=\"T_7470da92_f036_11eb_926d_d45d64027eb5row2_col13\" class=\"data row2 col13\" >0</td>\n",
       "                        <td id=\"T_7470da92_f036_11eb_926d_d45d64027eb5row2_col14\" class=\"data row2 col14\" >0</td>\n",
       "                        <td id=\"T_7470da92_f036_11eb_926d_d45d64027eb5row2_col15\" class=\"data row2 col15\" >31</td>\n",
       "            </tr>\n",
       "            <tr>\n",
       "                        <th id=\"T_7470da92_f036_11eb_926d_d45d64027eb5level0_row3\" class=\"row_heading level0 row3\" >공공임대(5년)</th>\n",
       "                        <td id=\"T_7470da92_f036_11eb_926d_d45d64027eb5row3_col0\" class=\"data row3 col0\" >3</td>\n",
       "                        <td id=\"T_7470da92_f036_11eb_926d_d45d64027eb5row3_col1\" class=\"data row3 col1\" >0</td>\n",
       "                        <td id=\"T_7470da92_f036_11eb_926d_d45d64027eb5row3_col2\" class=\"data row3 col2\" >0</td>\n",
       "                        <td id=\"T_7470da92_f036_11eb_926d_d45d64027eb5row3_col3\" class=\"data row3 col3\" >0</td>\n",
       "                        <td id=\"T_7470da92_f036_11eb_926d_d45d64027eb5row3_col4\" class=\"data row3 col4\" >0</td>\n",
       "                        <td id=\"T_7470da92_f036_11eb_926d_d45d64027eb5row3_col5\" class=\"data row3 col5\" >0</td>\n",
       "                        <td id=\"T_7470da92_f036_11eb_926d_d45d64027eb5row3_col6\" class=\"data row3 col6\" >0</td>\n",
       "                        <td id=\"T_7470da92_f036_11eb_926d_d45d64027eb5row3_col7\" class=\"data row3 col7\" >0</td>\n",
       "                        <td id=\"T_7470da92_f036_11eb_926d_d45d64027eb5row3_col8\" class=\"data row3 col8\" >0</td>\n",
       "                        <td id=\"T_7470da92_f036_11eb_926d_d45d64027eb5row3_col9\" class=\"data row3 col9\" >0</td>\n",
       "                        <td id=\"T_7470da92_f036_11eb_926d_d45d64027eb5row3_col10\" class=\"data row3 col10\" >0</td>\n",
       "                        <td id=\"T_7470da92_f036_11eb_926d_d45d64027eb5row3_col11\" class=\"data row3 col11\" >0</td>\n",
       "                        <td id=\"T_7470da92_f036_11eb_926d_d45d64027eb5row3_col12\" class=\"data row3 col12\" >0</td>\n",
       "                        <td id=\"T_7470da92_f036_11eb_926d_d45d64027eb5row3_col13\" class=\"data row3 col13\" >0</td>\n",
       "                        <td id=\"T_7470da92_f036_11eb_926d_d45d64027eb5row3_col14\" class=\"data row3 col14\" >0</td>\n",
       "                        <td id=\"T_7470da92_f036_11eb_926d_d45d64027eb5row3_col15\" class=\"data row3 col15\" >3</td>\n",
       "            </tr>\n",
       "            <tr>\n",
       "                        <th id=\"T_7470da92_f036_11eb_926d_d45d64027eb5level0_row4\" class=\"row_heading level0 row4\" >공공임대(분납)</th>\n",
       "                        <td id=\"T_7470da92_f036_11eb_926d_d45d64027eb5row4_col0\" class=\"data row4 col0\" >12</td>\n",
       "                        <td id=\"T_7470da92_f036_11eb_926d_d45d64027eb5row4_col1\" class=\"data row4 col1\" >0</td>\n",
       "                        <td id=\"T_7470da92_f036_11eb_926d_d45d64027eb5row4_col2\" class=\"data row4 col2\" >0</td>\n",
       "                        <td id=\"T_7470da92_f036_11eb_926d_d45d64027eb5row4_col3\" class=\"data row4 col3\" >0</td>\n",
       "                        <td id=\"T_7470da92_f036_11eb_926d_d45d64027eb5row4_col4\" class=\"data row4 col4\" >0</td>\n",
       "                        <td id=\"T_7470da92_f036_11eb_926d_d45d64027eb5row4_col5\" class=\"data row4 col5\" >0</td>\n",
       "                        <td id=\"T_7470da92_f036_11eb_926d_d45d64027eb5row4_col6\" class=\"data row4 col6\" >0</td>\n",
       "                        <td id=\"T_7470da92_f036_11eb_926d_d45d64027eb5row4_col7\" class=\"data row4 col7\" >0</td>\n",
       "                        <td id=\"T_7470da92_f036_11eb_926d_d45d64027eb5row4_col8\" class=\"data row4 col8\" >0</td>\n",
       "                        <td id=\"T_7470da92_f036_11eb_926d_d45d64027eb5row4_col9\" class=\"data row4 col9\" >0</td>\n",
       "                        <td id=\"T_7470da92_f036_11eb_926d_d45d64027eb5row4_col10\" class=\"data row4 col10\" >0</td>\n",
       "                        <td id=\"T_7470da92_f036_11eb_926d_d45d64027eb5row4_col11\" class=\"data row4 col11\" >0</td>\n",
       "                        <td id=\"T_7470da92_f036_11eb_926d_d45d64027eb5row4_col12\" class=\"data row4 col12\" >0</td>\n",
       "                        <td id=\"T_7470da92_f036_11eb_926d_d45d64027eb5row4_col13\" class=\"data row4 col13\" >0</td>\n",
       "                        <td id=\"T_7470da92_f036_11eb_926d_d45d64027eb5row4_col14\" class=\"data row4 col14\" >0</td>\n",
       "                        <td id=\"T_7470da92_f036_11eb_926d_d45d64027eb5row4_col15\" class=\"data row4 col15\" >12</td>\n",
       "            </tr>\n",
       "            <tr>\n",
       "                        <th id=\"T_7470da92_f036_11eb_926d_d45d64027eb5level0_row5\" class=\"row_heading level0 row5\" >국민임대</th>\n",
       "                        <td id=\"T_7470da92_f036_11eb_926d_d45d64027eb5row5_col0\" class=\"data row5 col0\" >1539</td>\n",
       "                        <td id=\"T_7470da92_f036_11eb_926d_d45d64027eb5row5_col1\" class=\"data row5 col1\" >21</td>\n",
       "                        <td id=\"T_7470da92_f036_11eb_926d_d45d64027eb5row5_col2\" class=\"data row5 col2\" >0</td>\n",
       "                        <td id=\"T_7470da92_f036_11eb_926d_d45d64027eb5row5_col3\" class=\"data row5 col3\" >0</td>\n",
       "                        <td id=\"T_7470da92_f036_11eb_926d_d45d64027eb5row5_col4\" class=\"data row5 col4\" >34</td>\n",
       "                        <td id=\"T_7470da92_f036_11eb_926d_d45d64027eb5row5_col5\" class=\"data row5 col5\" >0</td>\n",
       "                        <td id=\"T_7470da92_f036_11eb_926d_d45d64027eb5row5_col6\" class=\"data row5 col6\" >9</td>\n",
       "                        <td id=\"T_7470da92_f036_11eb_926d_d45d64027eb5row5_col7\" class=\"data row5 col7\" >155</td>\n",
       "                        <td id=\"T_7470da92_f036_11eb_926d_d45d64027eb5row5_col8\" class=\"data row5 col8\" >0</td>\n",
       "                        <td id=\"T_7470da92_f036_11eb_926d_d45d64027eb5row5_col9\" class=\"data row5 col9\" >0</td>\n",
       "                        <td id=\"T_7470da92_f036_11eb_926d_d45d64027eb5row5_col10\" class=\"data row5 col10\" >0</td>\n",
       "                        <td id=\"T_7470da92_f036_11eb_926d_d45d64027eb5row5_col11\" class=\"data row5 col11\" >0</td>\n",
       "                        <td id=\"T_7470da92_f036_11eb_926d_d45d64027eb5row5_col12\" class=\"data row5 col12\" >0</td>\n",
       "                        <td id=\"T_7470da92_f036_11eb_926d_d45d64027eb5row5_col13\" class=\"data row5 col13\" >0</td>\n",
       "                        <td id=\"T_7470da92_f036_11eb_926d_d45d64027eb5row5_col14\" class=\"data row5 col14\" >0</td>\n",
       "                        <td id=\"T_7470da92_f036_11eb_926d_d45d64027eb5row5_col15\" class=\"data row5 col15\" >1758</td>\n",
       "            </tr>\n",
       "            <tr>\n",
       "                        <th id=\"T_7470da92_f036_11eb_926d_d45d64027eb5level0_row6\" class=\"row_heading level0 row6\" >영구임대</th>\n",
       "                        <td id=\"T_7470da92_f036_11eb_926d_d45d64027eb5row6_col0\" class=\"data row6 col0\" >2</td>\n",
       "                        <td id=\"T_7470da92_f036_11eb_926d_d45d64027eb5row6_col1\" class=\"data row6 col1\" >0</td>\n",
       "                        <td id=\"T_7470da92_f036_11eb_926d_d45d64027eb5row6_col2\" class=\"data row6 col2\" >95</td>\n",
       "                        <td id=\"T_7470da92_f036_11eb_926d_d45d64027eb5row6_col3\" class=\"data row6 col3\" >0</td>\n",
       "                        <td id=\"T_7470da92_f036_11eb_926d_d45d64027eb5row6_col4\" class=\"data row6 col4\" >3</td>\n",
       "                        <td id=\"T_7470da92_f036_11eb_926d_d45d64027eb5row6_col5\" class=\"data row6 col5\" >3</td>\n",
       "                        <td id=\"T_7470da92_f036_11eb_926d_d45d64027eb5row6_col6\" class=\"data row6 col6\" >0</td>\n",
       "                        <td id=\"T_7470da92_f036_11eb_926d_d45d64027eb5row6_col7\" class=\"data row6 col7\" >0</td>\n",
       "                        <td id=\"T_7470da92_f036_11eb_926d_d45d64027eb5row6_col8\" class=\"data row6 col8\" >49</td>\n",
       "                        <td id=\"T_7470da92_f036_11eb_926d_d45d64027eb5row6_col9\" class=\"data row6 col9\" >0</td>\n",
       "                        <td id=\"T_7470da92_f036_11eb_926d_d45d64027eb5row6_col10\" class=\"data row6 col10\" >0</td>\n",
       "                        <td id=\"T_7470da92_f036_11eb_926d_d45d64027eb5row6_col11\" class=\"data row6 col11\" >0</td>\n",
       "                        <td id=\"T_7470da92_f036_11eb_926d_d45d64027eb5row6_col12\" class=\"data row6 col12\" >0</td>\n",
       "                        <td id=\"T_7470da92_f036_11eb_926d_d45d64027eb5row6_col13\" class=\"data row6 col13\" >0</td>\n",
       "                        <td id=\"T_7470da92_f036_11eb_926d_d45d64027eb5row6_col14\" class=\"data row6 col14\" >0</td>\n",
       "                        <td id=\"T_7470da92_f036_11eb_926d_d45d64027eb5row6_col15\" class=\"data row6 col15\" >152</td>\n",
       "            </tr>\n",
       "            <tr>\n",
       "                        <th id=\"T_7470da92_f036_11eb_926d_d45d64027eb5level0_row7\" class=\"row_heading level0 row7\" >임대상가</th>\n",
       "                        <td id=\"T_7470da92_f036_11eb_926d_d45d64027eb5row7_col0\" class=\"data row7 col0\" >0</td>\n",
       "                        <td id=\"T_7470da92_f036_11eb_926d_d45d64027eb5row7_col1\" class=\"data row7 col1\" >0</td>\n",
       "                        <td id=\"T_7470da92_f036_11eb_926d_d45d64027eb5row7_col2\" class=\"data row7 col2\" >0</td>\n",
       "                        <td id=\"T_7470da92_f036_11eb_926d_d45d64027eb5row7_col3\" class=\"data row7 col3\" >562</td>\n",
       "                        <td id=\"T_7470da92_f036_11eb_926d_d45d64027eb5row7_col4\" class=\"data row7 col4\" >0</td>\n",
       "                        <td id=\"T_7470da92_f036_11eb_926d_d45d64027eb5row7_col5\" class=\"data row7 col5\" >0</td>\n",
       "                        <td id=\"T_7470da92_f036_11eb_926d_d45d64027eb5row7_col6\" class=\"data row7 col6\" >0</td>\n",
       "                        <td id=\"T_7470da92_f036_11eb_926d_d45d64027eb5row7_col7\" class=\"data row7 col7\" >0</td>\n",
       "                        <td id=\"T_7470da92_f036_11eb_926d_d45d64027eb5row7_col8\" class=\"data row7 col8\" >0</td>\n",
       "                        <td id=\"T_7470da92_f036_11eb_926d_d45d64027eb5row7_col9\" class=\"data row7 col9\" >0</td>\n",
       "                        <td id=\"T_7470da92_f036_11eb_926d_d45d64027eb5row7_col10\" class=\"data row7 col10\" >0</td>\n",
       "                        <td id=\"T_7470da92_f036_11eb_926d_d45d64027eb5row7_col11\" class=\"data row7 col11\" >0</td>\n",
       "                        <td id=\"T_7470da92_f036_11eb_926d_d45d64027eb5row7_col12\" class=\"data row7 col12\" >0</td>\n",
       "                        <td id=\"T_7470da92_f036_11eb_926d_d45d64027eb5row7_col13\" class=\"data row7 col13\" >0</td>\n",
       "                        <td id=\"T_7470da92_f036_11eb_926d_d45d64027eb5row7_col14\" class=\"data row7 col14\" >0</td>\n",
       "                        <td id=\"T_7470da92_f036_11eb_926d_d45d64027eb5row7_col15\" class=\"data row7 col15\" >562</td>\n",
       "            </tr>\n",
       "            <tr>\n",
       "                        <th id=\"T_7470da92_f036_11eb_926d_d45d64027eb5level0_row8\" class=\"row_heading level0 row8\" >장기전세</th>\n",
       "                        <td id=\"T_7470da92_f036_11eb_926d_d45d64027eb5row8_col0\" class=\"data row8 col0\" >9</td>\n",
       "                        <td id=\"T_7470da92_f036_11eb_926d_d45d64027eb5row8_col1\" class=\"data row8 col1\" >0</td>\n",
       "                        <td id=\"T_7470da92_f036_11eb_926d_d45d64027eb5row8_col2\" class=\"data row8 col2\" >0</td>\n",
       "                        <td id=\"T_7470da92_f036_11eb_926d_d45d64027eb5row8_col3\" class=\"data row8 col3\" >0</td>\n",
       "                        <td id=\"T_7470da92_f036_11eb_926d_d45d64027eb5row8_col4\" class=\"data row8 col4\" >0</td>\n",
       "                        <td id=\"T_7470da92_f036_11eb_926d_d45d64027eb5row8_col5\" class=\"data row8 col5\" >0</td>\n",
       "                        <td id=\"T_7470da92_f036_11eb_926d_d45d64027eb5row8_col6\" class=\"data row8 col6\" >0</td>\n",
       "                        <td id=\"T_7470da92_f036_11eb_926d_d45d64027eb5row8_col7\" class=\"data row8 col7\" >0</td>\n",
       "                        <td id=\"T_7470da92_f036_11eb_926d_d45d64027eb5row8_col8\" class=\"data row8 col8\" >0</td>\n",
       "                        <td id=\"T_7470da92_f036_11eb_926d_d45d64027eb5row8_col9\" class=\"data row8 col9\" >0</td>\n",
       "                        <td id=\"T_7470da92_f036_11eb_926d_d45d64027eb5row8_col10\" class=\"data row8 col10\" >0</td>\n",
       "                        <td id=\"T_7470da92_f036_11eb_926d_d45d64027eb5row8_col11\" class=\"data row8 col11\" >0</td>\n",
       "                        <td id=\"T_7470da92_f036_11eb_926d_d45d64027eb5row8_col12\" class=\"data row8 col12\" >0</td>\n",
       "                        <td id=\"T_7470da92_f036_11eb_926d_d45d64027eb5row8_col13\" class=\"data row8 col13\" >0</td>\n",
       "                        <td id=\"T_7470da92_f036_11eb_926d_d45d64027eb5row8_col14\" class=\"data row8 col14\" >0</td>\n",
       "                        <td id=\"T_7470da92_f036_11eb_926d_d45d64027eb5row8_col15\" class=\"data row8 col15\" >9</td>\n",
       "            </tr>\n",
       "            <tr>\n",
       "                        <th id=\"T_7470da92_f036_11eb_926d_d45d64027eb5level0_row9\" class=\"row_heading level0 row9\" >행복주택</th>\n",
       "                        <td id=\"T_7470da92_f036_11eb_926d_d45d64027eb5row9_col0\" class=\"data row9 col0\" >0</td>\n",
       "                        <td id=\"T_7470da92_f036_11eb_926d_d45d64027eb5row9_col1\" class=\"data row9 col1\" >0</td>\n",
       "                        <td id=\"T_7470da92_f036_11eb_926d_d45d64027eb5row9_col2\" class=\"data row9 col2\" >0</td>\n",
       "                        <td id=\"T_7470da92_f036_11eb_926d_d45d64027eb5row9_col3\" class=\"data row9 col3\" >0</td>\n",
       "                        <td id=\"T_7470da92_f036_11eb_926d_d45d64027eb5row9_col4\" class=\"data row9 col4\" >0</td>\n",
       "                        <td id=\"T_7470da92_f036_11eb_926d_d45d64027eb5row9_col5\" class=\"data row9 col5\" >0</td>\n",
       "                        <td id=\"T_7470da92_f036_11eb_926d_d45d64027eb5row9_col6\" class=\"data row9 col6\" >0</td>\n",
       "                        <td id=\"T_7470da92_f036_11eb_926d_d45d64027eb5row9_col7\" class=\"data row9 col7\" >0</td>\n",
       "                        <td id=\"T_7470da92_f036_11eb_926d_d45d64027eb5row9_col8\" class=\"data row9 col8\" >0</td>\n",
       "                        <td id=\"T_7470da92_f036_11eb_926d_d45d64027eb5row9_col9\" class=\"data row9 col9\" >114</td>\n",
       "                        <td id=\"T_7470da92_f036_11eb_926d_d45d64027eb5row9_col10\" class=\"data row9 col10\" >33</td>\n",
       "                        <td id=\"T_7470da92_f036_11eb_926d_d45d64027eb5row9_col11\" class=\"data row9 col11\" >33</td>\n",
       "                        <td id=\"T_7470da92_f036_11eb_926d_d45d64027eb5row9_col12\" class=\"data row9 col12\" >2</td>\n",
       "                        <td id=\"T_7470da92_f036_11eb_926d_d45d64027eb5row9_col13\" class=\"data row9 col13\" >30</td>\n",
       "                        <td id=\"T_7470da92_f036_11eb_926d_d45d64027eb5row9_col14\" class=\"data row9 col14\" >1</td>\n",
       "                        <td id=\"T_7470da92_f036_11eb_926d_d45d64027eb5row9_col15\" class=\"data row9 col15\" >213</td>\n",
       "            </tr>\n",
       "            <tr>\n",
       "                        <th id=\"T_7470da92_f036_11eb_926d_d45d64027eb5level0_row10\" class=\"row_heading level0 row10\" >All</th>\n",
       "                        <td id=\"T_7470da92_f036_11eb_926d_d45d64027eb5row10_col0\" class=\"data row10 col0\" >1801</td>\n",
       "                        <td id=\"T_7470da92_f036_11eb_926d_d45d64027eb5row10_col1\" class=\"data row10 col1\" >21</td>\n",
       "                        <td id=\"T_7470da92_f036_11eb_926d_d45d64027eb5row10_col2\" class=\"data row10 col2\" >95</td>\n",
       "                        <td id=\"T_7470da92_f036_11eb_926d_d45d64027eb5row10_col3\" class=\"data row10 col3\" >569</td>\n",
       "                        <td id=\"T_7470da92_f036_11eb_926d_d45d64027eb5row10_col4\" class=\"data row10 col4\" >37</td>\n",
       "                        <td id=\"T_7470da92_f036_11eb_926d_d45d64027eb5row10_col5\" class=\"data row10 col5\" >3</td>\n",
       "                        <td id=\"T_7470da92_f036_11eb_926d_d45d64027eb5row10_col6\" class=\"data row10 col6\" >9</td>\n",
       "                        <td id=\"T_7470da92_f036_11eb_926d_d45d64027eb5row10_col7\" class=\"data row10 col7\" >155</td>\n",
       "                        <td id=\"T_7470da92_f036_11eb_926d_d45d64027eb5row10_col8\" class=\"data row10 col8\" >49</td>\n",
       "                        <td id=\"T_7470da92_f036_11eb_926d_d45d64027eb5row10_col9\" class=\"data row10 col9\" >114</td>\n",
       "                        <td id=\"T_7470da92_f036_11eb_926d_d45d64027eb5row10_col10\" class=\"data row10 col10\" >33</td>\n",
       "                        <td id=\"T_7470da92_f036_11eb_926d_d45d64027eb5row10_col11\" class=\"data row10 col11\" >33</td>\n",
       "                        <td id=\"T_7470da92_f036_11eb_926d_d45d64027eb5row10_col12\" class=\"data row10 col12\" >2</td>\n",
       "                        <td id=\"T_7470da92_f036_11eb_926d_d45d64027eb5row10_col13\" class=\"data row10 col13\" >30</td>\n",
       "                        <td id=\"T_7470da92_f036_11eb_926d_d45d64027eb5row10_col14\" class=\"data row10 col14\" >1</td>\n",
       "                        <td id=\"T_7470da92_f036_11eb_926d_d45d64027eb5row10_col15\" class=\"data row10 col15\" >2952</td>\n",
       "            </tr>\n",
       "    </tbody></table>"
      ],
      "text/plain": [
       "<pandas.io.formats.style.Styler at 0x28c8f320e80>"
      ]
     },
     "execution_count": 3,
     "metadata": {},
     "output_type": "execute_result"
    }
   ],
   "source": [
    "pd.crosstab(df_train['공급유형'], df_train['자격유형'] , margins = True).style.background_gradient(cmap = 'coolwarm')"
   ]
  },
  {
   "cell_type": "markdown",
   "metadata": {},
   "source": [
    "## 전처리\n",
    "- 추가로해볼만한거\n",
    "    - 오버샘플링\n",
    "    - 결측치 처리 \n",
    "        - a. Datawig Simple Imputer - 딥러닝을 통해 결측치 처리)\n",
    "        - b. KNN Imputer를통한 결측치 채우기"
   ]
  },
  {
   "cell_type": "markdown",
   "metadata": {},
   "source": [
    "### age_gender_info Data 병합\n",
    "- 자동차 등록자료 통계 추가"
   ]
  },
  {
   "cell_type": "code",
   "execution_count": 4,
   "metadata": {
    "ExecuteTime": {
     "end_time": "2021-07-29T06:30:23.928578Z",
     "start_time": "2021-07-29T06:30:23.921577Z"
    }
   },
   "outputs": [],
   "source": [
    "def preprocess_merge(df):\n",
    "    # 추가자료 - 2020년 12월 자동차 등록 통계자료\n",
    "    car = pd.read_excel('data/자동차_등록자료_통계.xlsx', index_col='구분')\n",
    "    car = car.iloc[:,:16]\n",
    "\n",
    "    # dacon 제공자료 - 지역별 & 성별 & 연령별 인구 데이터\n",
    "    age = pd.read_csv('data/age_gender_info.csv', encoding='utf-8',index_col = '지역')\n",
    "\n",
    "    # 자동차 등록자료 통계에서 나오는 지역을 미리 sorting처리\n",
    "    temp_lst = list(set(car.columns))\n",
    "    temp_lst.sort()\n",
    "\n",
    "    # age dataframe을 오름차순 정렬(강원도,경기도, 경상남도,...순) 하고, car dataframe과 동일 행,렬 간 곱셈처리\n",
    "    np.score = np.array(age.sort_index()) * np.array(car.transpose().sort_index())\n",
    "\n",
    "    df_score = pd.DataFrame(np.score)\n",
    "    df_score['지역'] = temp_lst\n",
    "\n",
    "    # 지역, 연령별 점수를 지역을 기준으로 전부 더해줌.\n",
    "    df_score['지역점수'] = df_score.transpose().iloc[:22,:].sum().transpose()\n",
    "\n",
    "    df_score = df_score[['지역', '지역점수']]\n",
    "\n",
    "    df = pd.merge(df, df_score, how='left', on='지역')\n",
    "    \n",
    "    return df"
   ]
  },
  {
   "cell_type": "markdown",
   "metadata": {},
   "source": [
    "### 공급유형, 자격유형 column 값 기준 묶어주기 및 결측치 처리"
   ]
  },
  {
   "cell_type": "code",
   "execution_count": 5,
   "metadata": {
    "ExecuteTime": {
     "end_time": "2021-07-29T06:30:24.469479Z",
     "start_time": "2021-07-29T06:30:24.455476Z"
    }
   },
   "outputs": [],
   "source": [
    "def preprocess1(df):\n",
    "    df = df[~df['공급유형'].isna()]\n",
    "    df.loc[df['공급유형'].isin(['공공임대(분납)','공공임대(5년)','공공임대(10년)','공공임대(50년)']),'공급유형'] = '공공임대'\n",
    "    df = df[~df['자격유형'].isna()]\n",
    "    df.loc[df['자격유형'].isin(['J', 'K', 'L', 'M', 'N', 'O']),'자격유형'] = 'JKLMNO'\n",
    "    df['임대보증금'] = df['임대보증금'].replace('-',np.nan).astype(float)\n",
    "    df['임대료'] = df['임대료'].replace('-',np.nan).astype(float)\n",
    "    # df.loc[train['임대보증금']=='-','임대보증금'] = np.nan\n",
    "    # df['임대보증금'] = df['임대보증금'].astype(float)\n",
    "    \n",
    "    return df"
   ]
  },
  {
   "cell_type": "markdown",
   "metadata": {},
   "source": [
    "### Data 오류항목 2, 3 처리"
   ]
  },
  {
   "cell_type": "code",
   "execution_count": 6,
   "metadata": {
    "ExecuteTime": {
     "end_time": "2021-07-29T06:30:24.994660Z",
     "start_time": "2021-07-29T06:30:24.989659Z"
    }
   },
   "outputs": [],
   "source": [
    "def preprocess2(df):\n",
    "#2번 error\n",
    "    df = df[~df['단지코드'].isin(['C2085', 'C1397','C2431', 'C1649','C1036'])]\n",
    "#3번 error\n",
    "    df = df[~df['단지코드'].isin(['C1095', 'C2051', 'C1218', 'C1894', 'C2483', 'C1502', 'C1988'])]\n",
    "    \n",
    "    return df"
   ]
  },
  {
   "cell_type": "markdown",
   "metadata": {},
   "source": [
    "### Data 오류항목 1 처리\n",
    "- 총세대수 기준으로 부족분만큼 전용면적별세대수에 가중치 추가"
   ]
  },
  {
   "cell_type": "code",
   "execution_count": 7,
   "metadata": {
    "ExecuteTime": {
     "end_time": "2021-07-29T06:30:25.489590Z",
     "start_time": "2021-07-29T06:30:25.481588Z"
    }
   },
   "outputs": [],
   "source": [
    "def preprocess3(df) :\n",
    "    df_temp = df[['단지코드','전용면적별세대수']].groupby(['단지코드'],as_index=False).sum()\n",
    "    df_temp.columns = ['단지코드','총세대수(new)']\n",
    "    df = pd.merge(df, df_temp, on='단지코드', how='left')\n",
    "    df['총세대수 차이'] = df['총세대수'] - df['총세대수(new)']\n",
    "    df['전용면적별세대수'] = round(df['전용면적별세대수'] + (df['전용면적별세대수'] / df['총세대수(new)']) * df['총세대수 차이'], 3)\n",
    "    \n",
    "    # 공가수는 총세대수 기준으로 비율화. 공가수/총세대수\n",
    "    df['공가수'] = df['공가수']/df['총세대수(new)']\n",
    "    del df['총세대수(new)']\n",
    "    del df['총세대수 차이']\n",
    "    \n",
    "    return df"
   ]
  },
  {
   "cell_type": "markdown",
   "metadata": {},
   "source": [
    "### 임대보증금, 임대료, 면적 평균계산\n",
    "- 총면적, Null값 처리"
   ]
  },
  {
   "cell_type": "code",
   "execution_count": 8,
   "metadata": {
    "ExecuteTime": {
     "end_time": "2021-07-29T06:30:26.014901Z",
     "start_time": "2021-07-29T06:30:26.008384Z"
    }
   },
   "outputs": [],
   "source": [
    "def preprocess4(df) :\n",
    "    df['임대보증금'] = df['임대보증금'].replace('-',np.nan).astype('float')\n",
    "    df['임대료'] = df['임대료'].replace('-',np.nan).astype('float')\n",
    "\n",
    "    df['총면적'] = df['전용면적']*df['전용면적별세대수']\n",
    "    df['총임대보증금'] = df['임대보증금']*df['전용면적별세대수']\n",
    "    df['총임대료'] = df['임대료']*df['전용면적별세대수']\n",
    "    \n",
    "    df['임대료(YN)']=1\n",
    "    df.loc[df['임대료'].isna(),'임대료(YN)']=0\n",
    "\n",
    "    df['임대보증금(YN)']=1\n",
    "    df.loc[df['임대보증금'].isna(),'임대료(YN)']=0\n",
    "    \n",
    "    del df['전용면적']\n",
    "    \n",
    "    return df"
   ]
  },
  {
   "cell_type": "code",
   "execution_count": 9,
   "metadata": {
    "ExecuteTime": {
     "end_time": "2021-07-29T06:30:26.299587Z",
     "start_time": "2021-07-29T06:30:26.283584Z"
    }
   },
   "outputs": [],
   "source": [
    "def preprocess5(df):\n",
    "\n",
    "    df_temp = df[['단지코드','총세대수','전용면적별세대수','총면적']]\n",
    "    df_temp = df_temp.groupby(by=['단지코드','총세대수'], sort=False, as_index=False).sum()\n",
    "    df_temp['평균면적'] = df_temp['총면적'] / df_temp['총세대수']\n",
    "    del df_temp['총세대수']\n",
    "    del df_temp['전용면적별세대수']\n",
    "    del df_temp['총면적']\n",
    "    df = pd.merge(df, df_temp, on='단지코드', how='left')\n",
    "    \n",
    "    df_temp = df.loc[df['임대료(YN)']==1,['단지코드','총세대수','전용면적별세대수','총임대료']]\n",
    "    df_temp = df_temp.groupby(by = ['단지코드','총세대수'], sort=False, as_index=False).sum()\n",
    "    df_temp['평균임대료'] = df_temp['총임대료'] / df_temp['총세대수']\n",
    "    del df_temp['총세대수']\n",
    "    del df_temp['전용면적별세대수']\n",
    "    del df_temp['총임대료']\n",
    "    df = pd.merge(df, df_temp, on='단지코드', how='left')\n",
    "    \n",
    "    df_temp = df.loc[df['임대보증금(YN)']==1,['단지코드','총세대수','전용면적별세대수','총임대보증금']]\n",
    "    df_temp = df_temp.groupby(by = ['단지코드','총세대수'], sort=False, as_index=False).sum()\n",
    "    df_temp['평균임대보증금'] = df_temp['총임대보증금'] / df_temp['총세대수']\n",
    "    del df_temp['총세대수']\n",
    "    del df_temp['전용면적별세대수']\n",
    "    del df_temp['총임대보증금']\n",
    "    df = pd.merge(df, df_temp, on='단지코드', how='left')\n",
    "    \n",
    "    \n",
    "    \n",
    "    \n",
    "    del df['임대보증금(YN)']\n",
    "    del df['임대료(YN)']\n",
    "    del df['임대료']\n",
    "    del df['임대보증금']\n",
    "    del df['총면적']\n",
    "    del df['총임대료']\n",
    "    del df['총임대보증금']\n",
    "#     del df['전용면적별세대수']\n",
    "    \n",
    "    # row에 해당되지 않는 경우는 전부 임대보증금과 임대료가 없는 상황이므로 null->0으로 정정\n",
    "    df['평균임대보증금'] = df['평균임대보증금'].replace(np.nan,0).astype('float')\n",
    "    df['평균임대료'] = df['평균임대료'].replace(np.nan,0).astype('float')\n",
    "    \n",
    "    # 지하철역 수 없는 경우 null값을 가지므로, fillna 0\n",
    "    df['도보 10분거리 내 지하철역 수(환승노선 수 반영)'].fillna(0, inplace=True)\n",
    "    \n",
    "    df = df.drop_duplicates()\n",
    "    \n",
    "    return df\n",
    "\n",
    "\n"
   ]
  },
  {
   "cell_type": "code",
   "execution_count": 10,
   "metadata": {
    "ExecuteTime": {
     "end_time": "2021-07-29T06:30:26.569608Z",
     "start_time": "2021-07-29T06:30:26.564607Z"
    }
   },
   "outputs": [],
   "source": [
    "def preprocess(df):\n",
    "    df = preprocess_merge(df)\n",
    "    df = preprocess1(df)\n",
    "    df = preprocess2(df)\n",
    "    df = preprocess3(df)\n",
    "    df = preprocess4(df)\n",
    "    df = preprocess5(df)\n",
    "    \n",
    "    return df"
   ]
  },
  {
   "cell_type": "code",
   "execution_count": 11,
   "metadata": {
    "ExecuteTime": {
     "end_time": "2021-07-29T06:30:27.334574Z",
     "start_time": "2021-07-29T06:30:27.072585Z"
    }
   },
   "outputs": [],
   "source": [
    "df_train = pd.read_csv('data/train.csv', encoding='utf-8')\n",
    "df_test = pd.read_csv('data/test.csv', encoding='utf-8')\n",
    "train = preprocess(df_train)\n",
    "test = preprocess(df_test)\n",
    "train = train.reset_index(drop = True)\n",
    "test = test.reset_index(drop = True)"
   ]
  },
  {
   "cell_type": "markdown",
   "metadata": {},
   "source": [
    "### 자격유형, 공급유형,임대건물구분 count수로 변경\n",
    "- One hot Encoding\n",
    "- 전용면적별 세대수 곱하기"
   ]
  },
  {
   "cell_type": "markdown",
   "metadata": {},
   "source": [
    "#### One-hot Encoding"
   ]
  },
  {
   "cell_type": "code",
   "execution_count": 12,
   "metadata": {
    "ExecuteTime": {
     "end_time": "2021-07-29T06:30:29.584602Z",
     "start_time": "2021-07-29T06:30:29.433569Z"
    }
   },
   "outputs": [],
   "source": [
    "from sklearn.preprocessing import OneHotEncoder"
   ]
  },
  {
   "cell_type": "code",
   "execution_count": 13,
   "metadata": {
    "ExecuteTime": {
     "end_time": "2021-07-29T06:30:29.900016Z",
     "start_time": "2021-07-29T06:30:29.885012Z"
    }
   },
   "outputs": [
    {
     "data": {
      "text/html": [
       "<div>\n",
       "<style scoped>\n",
       "    .dataframe tbody tr th:only-of-type {\n",
       "        vertical-align: middle;\n",
       "    }\n",
       "\n",
       "    .dataframe tbody tr th {\n",
       "        vertical-align: top;\n",
       "    }\n",
       "\n",
       "    .dataframe thead th {\n",
       "        text-align: right;\n",
       "    }\n",
       "</style>\n",
       "<table border=\"1\" class=\"dataframe\">\n",
       "  <thead>\n",
       "    <tr style=\"text-align: right;\">\n",
       "      <th></th>\n",
       "      <th>단지코드</th>\n",
       "      <th>총세대수</th>\n",
       "      <th>임대건물구분</th>\n",
       "      <th>지역</th>\n",
       "      <th>공급유형</th>\n",
       "      <th>전용면적별세대수</th>\n",
       "      <th>공가수</th>\n",
       "      <th>자격유형</th>\n",
       "      <th>도보 10분거리 내 지하철역 수(환승노선 수 반영)</th>\n",
       "      <th>도보 10분거리 내 버스정류장 수</th>\n",
       "      <th>단지내주차면수</th>\n",
       "      <th>등록차량수</th>\n",
       "      <th>지역점수</th>\n",
       "      <th>평균면적</th>\n",
       "      <th>평균임대료</th>\n",
       "      <th>평균임대보증금</th>\n",
       "    </tr>\n",
       "  </thead>\n",
       "  <tbody>\n",
       "  </tbody>\n",
       "</table>\n",
       "</div>"
      ],
      "text/plain": [
       "Empty DataFrame\n",
       "Columns: [단지코드, 총세대수, 임대건물구분, 지역, 공급유형, 전용면적별세대수, 공가수, 자격유형, 도보 10분거리 내 지하철역 수(환승노선 수 반영), 도보 10분거리 내 버스정류장 수, 단지내주차면수, 등록차량수, 지역점수, 평균면적, 평균임대료, 평균임대보증금]\n",
       "Index: []"
      ]
     },
     "execution_count": 13,
     "metadata": {},
     "output_type": "execute_result"
    }
   ],
   "source": [
    "train[train['자격유형']=='J']"
   ]
  },
  {
   "cell_type": "code",
   "execution_count": 14,
   "metadata": {
    "ExecuteTime": {
     "end_time": "2021-07-29T06:30:30.545160Z",
     "start_time": "2021-07-29T06:30:30.441137Z"
    }
   },
   "outputs": [
    {
     "data": {
      "text/plain": [
       "OneHotEncoder(categorical_features=None, categories=None,\n",
       "       dtype=<class 'numpy.float64'>, handle_unknown='error',\n",
       "       n_values=None, sparse=False)"
      ]
     },
     "execution_count": 14,
     "metadata": {},
     "output_type": "execute_result"
    }
   ],
   "source": [
    "temp_train = train[['임대건물구분','자격유형','공급유형']]\n",
    "temp_train['구분'] = 'train'\n",
    "temp_test = test[['임대건물구분','자격유형','공급유형']]\n",
    "temp_test['구분'] = 'test'\n",
    "temp_full = pd.concat([temp_train,temp_test])\n",
    "\n",
    "encoder = OneHotEncoder(sparse=False)\n",
    "encoder.fit(temp_full)"
   ]
  },
  {
   "cell_type": "code",
   "execution_count": 15,
   "metadata": {
    "ExecuteTime": {
     "end_time": "2021-07-29T06:30:31.055274Z",
     "start_time": "2021-07-29T06:30:31.027268Z"
    }
   },
   "outputs": [],
   "source": [
    "df_onehot = pd.DataFrame(encoder.fit_transform(temp_full))\n",
    "df_onehot.columns = encoder.get_feature_names(temp_full.columns)\n",
    "df_onehot_test=df_onehot[df_onehot['구분_test']==1]\n",
    "df_onehot_train=df_onehot[df_onehot['구분_train']==1]\n",
    "df_onehot_train.reset_index(drop=True, inplace = True)\n",
    "df_onehot_test.reset_index(drop=True, inplace = True)\n",
    "del df_onehot_test['구분_test']\n",
    "del df_onehot_test['구분_train']\n",
    "del df_onehot_train['구분_test']\n",
    "del df_onehot_train['구분_train']"
   ]
  },
  {
   "cell_type": "code",
   "execution_count": 16,
   "metadata": {
    "ExecuteTime": {
     "end_time": "2021-07-29T06:30:31.625401Z",
     "start_time": "2021-07-29T06:30:31.613399Z"
    }
   },
   "outputs": [],
   "source": [
    "train = pd.concat([train,df_onehot_train],axis=1)\n",
    "test = pd.concat([test,df_onehot_test],axis=1)"
   ]
  },
  {
   "cell_type": "code",
   "execution_count": 17,
   "metadata": {
    "ExecuteTime": {
     "end_time": "2021-07-29T06:30:32.285549Z",
     "start_time": "2021-07-29T06:30:32.268545Z"
    }
   },
   "outputs": [
    {
     "data": {
      "text/plain": [
       "Index(['단지코드', '총세대수', '임대건물구분', '지역', '공급유형', '전용면적별세대수', '공가수', '자격유형',\n",
       "       '도보 10분거리 내 지하철역 수(환승노선 수 반영)', '도보 10분거리 내 버스정류장 수', '단지내주차면수',\n",
       "       '등록차량수', '지역점수', '평균면적', '평균임대료', '평균임대보증금', '임대건물구분_상가', '임대건물구분_아파트',\n",
       "       '자격유형_A', '자격유형_B', '자격유형_C', '자격유형_D', '자격유형_E', '자격유형_F', '자격유형_G',\n",
       "       '자격유형_H', '자격유형_I', '자격유형_JKLMNO', '공급유형_공공분양', '공급유형_공공임대',\n",
       "       '공급유형_국민임대', '공급유형_영구임대', '공급유형_임대상가', '공급유형_장기전세', '공급유형_행복주택'],\n",
       "      dtype='object')"
      ]
     },
     "execution_count": 17,
     "metadata": {},
     "output_type": "execute_result"
    }
   ],
   "source": [
    "train.columns"
   ]
  },
  {
   "cell_type": "markdown",
   "metadata": {},
   "source": [
    "#### 전용면적별 세대수 곱하기"
   ]
  },
  {
   "cell_type": "code",
   "execution_count": 18,
   "metadata": {
    "ExecuteTime": {
     "end_time": "2021-07-29T06:30:33.755878Z",
     "start_time": "2021-07-29T06:30:33.736874Z"
    }
   },
   "outputs": [],
   "source": [
    "train.loc[:,'임대건물구분_상가':] = train.loc[:,'임대건물구분_상가':].mul(train['전용면적별세대수'],axis=0)\n",
    "test.loc[:,'임대건물구분_상가':] = test.loc[:,'임대건물구분_상가':].mul(test['전용면적별세대수'],axis=0)"
   ]
  },
  {
   "cell_type": "code",
   "execution_count": 19,
   "metadata": {
    "ExecuteTime": {
     "end_time": "2021-07-29T06:30:34.506047Z",
     "start_time": "2021-07-29T06:30:34.491043Z"
    }
   },
   "outputs": [],
   "source": [
    "# encoding 된 column 제거\n",
    "del train['임대건물구분']\n",
    "del train['공급유형']\n",
    "del train['자격유형']\n",
    "del train['전용면적별세대수']\n",
    "\n",
    "del test['임대건물구분']\n",
    "del test['공급유형']\n",
    "del test['자격유형']\n",
    "del test['전용면적별세대수']"
   ]
  },
  {
   "cell_type": "markdown",
   "metadata": {},
   "source": [
    "### 단지코드별 Row merge"
   ]
  },
  {
   "cell_type": "code",
   "execution_count": 20,
   "metadata": {
    "ExecuteTime": {
     "end_time": "2021-07-29T06:30:39.547508Z",
     "start_time": "2021-07-29T06:30:39.516501Z"
    }
   },
   "outputs": [],
   "source": [
    "train_final = train.groupby(list(train.loc[:,:'평균임대보증금'].columns),as_index=False).sum()\n",
    "test_final = test.groupby(list(test.loc[:,:'평균임대보증금'].columns),as_index=False).sum()"
   ]
  },
  {
   "cell_type": "code",
   "execution_count": 21,
   "metadata": {
    "ExecuteTime": {
     "end_time": "2021-07-29T06:30:40.147642Z",
     "start_time": "2021-07-29T06:30:40.142641Z"
    }
   },
   "outputs": [
    {
     "data": {
      "text/plain": [
       "{'등록차량수'}"
      ]
     },
     "execution_count": 21,
     "metadata": {},
     "output_type": "execute_result"
    }
   ],
   "source": [
    "set(train_final.columns).difference(set(test_final.columns))"
   ]
  },
  {
   "cell_type": "markdown",
   "metadata": {},
   "source": [
    "## Pipeline and Data save\n",
    "- Pipeline One-hot encoding + Standard Scaler (전처리만 진행)\n",
    "- Train, Test split (y_test가 없으므로, train data를 잘라서 진행)"
   ]
  },
  {
   "cell_type": "code",
   "execution_count": 22,
   "metadata": {
    "ExecuteTime": {
     "end_time": "2021-07-29T06:30:43.584426Z",
     "start_time": "2021-07-29T06:30:43.567423Z"
    }
   },
   "outputs": [],
   "source": [
    "from sklearn.preprocessing import StandardScaler, OneHotEncoder\n",
    "from sklearn.compose import ColumnTransformer\n",
    "from sklearn.pipeline import Pipeline"
   ]
  },
  {
   "cell_type": "code",
   "execution_count": 23,
   "metadata": {
    "ExecuteTime": {
     "end_time": "2021-07-29T06:30:44.829705Z",
     "start_time": "2021-07-29T06:30:44.811701Z"
    },
    "scrolled": true
   },
   "outputs": [
    {
     "data": {
      "text/plain": [
       "['단지코드',\n",
       " '총세대수',\n",
       " '지역',\n",
       " '공가수',\n",
       " '도보 10분거리 내 지하철역 수(환승노선 수 반영)',\n",
       " '도보 10분거리 내 버스정류장 수',\n",
       " '단지내주차면수',\n",
       " '지역점수',\n",
       " '평균면적',\n",
       " '평균임대료',\n",
       " '평균임대보증금',\n",
       " '임대건물구분_상가',\n",
       " '임대건물구분_아파트',\n",
       " '자격유형_A',\n",
       " '자격유형_B',\n",
       " '자격유형_C',\n",
       " '자격유형_D',\n",
       " '자격유형_E',\n",
       " '자격유형_F',\n",
       " '자격유형_G',\n",
       " '자격유형_H',\n",
       " '자격유형_I',\n",
       " '자격유형_JKLMNO',\n",
       " '공급유형_공공분양',\n",
       " '공급유형_공공임대',\n",
       " '공급유형_국민임대',\n",
       " '공급유형_영구임대',\n",
       " '공급유형_임대상가',\n",
       " '공급유형_장기전세',\n",
       " '공급유형_행복주택']"
      ]
     },
     "execution_count": 23,
     "metadata": {},
     "output_type": "execute_result"
    }
   ],
   "source": [
    "list(test_final.columns)"
   ]
  },
  {
   "cell_type": "code",
   "execution_count": 24,
   "metadata": {
    "ExecuteTime": {
     "end_time": "2021-07-29T06:30:51.806956Z",
     "start_time": "2021-07-29T06:30:51.792952Z"
    }
   },
   "outputs": [],
   "source": [
    "categorical_features = ['지역']\n",
    "categorical_transformer = OneHotEncoder(categories='auto',sparse = False)\n",
    "\n",
    "# train feature에는 '등록차량수' 즉, ydata가 속해있으므로 test feature 기준으로 준비\n",
    "numeric_features = list(test_final.columns)\n",
    "numeric_features.remove('지역')\n",
    "numeric_features.remove('단지코드')\n",
    "numeric_transformer = StandardScaler()"
   ]
  },
  {
   "cell_type": "code",
   "execution_count": 25,
   "metadata": {
    "ExecuteTime": {
     "end_time": "2021-07-29T06:31:28.932672Z",
     "start_time": "2021-07-29T06:31:28.925165Z"
    }
   },
   "outputs": [],
   "source": [
    "train_final2 = train_final.copy()\n",
    "del train_final2['등록차량수']"
   ]
  },
  {
   "cell_type": "code",
   "execution_count": 26,
   "metadata": {
    "ExecuteTime": {
     "end_time": "2021-07-29T06:31:30.239611Z",
     "start_time": "2021-07-29T06:31:30.203972Z"
    }
   },
   "outputs": [
    {
     "name": "stderr",
     "output_type": "stream",
     "text": [
      "C:\\Users\\RYU\\Anaconda3\\lib\\site-packages\\sklearn\\preprocessing\\data.py:645: DataConversionWarning: Data with input dtype int64, float64 were all converted to float64 by StandardScaler.\n",
      "  return self.partial_fit(X, y)\n",
      "C:\\Users\\RYU\\Anaconda3\\lib\\site-packages\\sklearn\\base.py:464: DataConversionWarning: Data with input dtype int64, float64 were all converted to float64 by StandardScaler.\n",
      "  return self.fit(X, **fit_params).transform(X)\n"
     ]
    },
    {
     "data": {
      "text/plain": [
       "Pipeline(memory=None,\n",
       "     steps=[('preprocessor', ColumnTransformer(n_jobs=None, remainder='drop', sparse_threshold=0.3,\n",
       "         transformer_weights=None,\n",
       "         transformers=[('num', StandardScaler(copy=True, with_mean=True, with_std=True), ['총세대수', '공가수', '도보 10분거리 내 지하철역 수(환승노선 수 반영)', '도보 10분거리 내 버스정류장 수', '단지내주차면수', ...pe=<class 'numpy.float64'>, handle_unknown='error',\n",
       "       n_values=None, sparse=False), ['지역'])]))])"
      ]
     },
     "execution_count": 26,
     "metadata": {},
     "output_type": "execute_result"
    }
   ],
   "source": [
    "# 전처리용 transformer 만들고, pipeline 생성\n",
    "preprocessor = ColumnTransformer(\n",
    "    transformers=[\n",
    "        ('num', numeric_transformer, numeric_features),\n",
    "        ('cat', categorical_transformer, categorical_features)])\n",
    "preprocessor_pipe = Pipeline(steps=[('preprocessor', preprocessor)])\n",
    "\n",
    "\n",
    "preprocessor_pipe.fit(train_final2)"
   ]
  },
  {
   "cell_type": "code",
   "execution_count": 27,
   "metadata": {
    "ExecuteTime": {
     "end_time": "2021-07-29T06:31:33.031763Z",
     "start_time": "2021-07-29T06:31:33.002253Z"
    }
   },
   "outputs": [
    {
     "name": "stderr",
     "output_type": "stream",
     "text": [
      "C:\\Users\\RYU\\Anaconda3\\lib\\site-packages\\sklearn\\pipeline.py:605: DataConversionWarning: Data with input dtype int64, float64 were all converted to float64 by StandardScaler.\n",
      "  res = transformer.transform(X)\n",
      "C:\\Users\\RYU\\Anaconda3\\lib\\site-packages\\sklearn\\pipeline.py:605: DataConversionWarning: Data with input dtype int64, float64 were all converted to float64 by StandardScaler.\n",
      "  res = transformer.transform(X)\n"
     ]
    }
   ],
   "source": [
    "# feature_name 살리기\n",
    "feature_names_arr = np.array(numeric_features)\n",
    "feature_names_arr = np.append(feature_names_arr, preprocessor.named_transformers_['cat'].get_feature_names(categorical_features) )\n",
    "\n",
    "# train, test data pipeline 통과\n",
    "x_train = pd.DataFrame(preprocessor_pipe.transform(train_final)\n",
    "                       , columns = feature_names_arr)\n",
    "x_test = pd.DataFrame(preprocessor_pipe.transform(test_final)\n",
    "                      , columns = feature_names_arr)"
   ]
  },
  {
   "cell_type": "code",
   "execution_count": 28,
   "metadata": {
    "ExecuteTime": {
     "end_time": "2021-07-29T06:31:35.284276Z",
     "start_time": "2021-07-29T06:31:35.275274Z"
    }
   },
   "outputs": [],
   "source": [
    "x_train['단지코드'] = train_final['단지코드']\n",
    "x_train['등록차량수'] = train_final['등록차량수']\n",
    "x_test['단지코드'] = test_final['단지코드']\n",
    "y_train = x_train[['단지코드','등록차량수']]\n",
    "df_pycaret = x_train.copy()\n",
    "del x_train['등록차량수']"
   ]
  },
  {
   "cell_type": "code",
   "execution_count": 29,
   "metadata": {
    "ExecuteTime": {
     "end_time": "2021-07-29T06:31:35.719373Z",
     "start_time": "2021-07-29T06:31:35.714372Z"
    }
   },
   "outputs": [],
   "source": [
    "x_train = x_train.set_index('단지코드')\n",
    "y_train = y_train.set_index('단지코드')\n",
    "x_test = x_test.set_index('단지코드')"
   ]
  },
  {
   "cell_type": "code",
   "execution_count": 5,
   "metadata": {
    "ExecuteTime": {
     "end_time": "2021-07-29T06:22:35.747647Z",
     "start_time": "2021-07-29T06:22:35.677122Z"
    }
   },
   "outputs": [],
   "source": [
    "### data save\n",
    "# x_train.to_csv('data_new/x_train.csv',encoding='euc-kr')\n",
    "# y_train.to_csv('data_new/y_train.csv',encoding='euc-kr')\n",
    "# x_test.to_csv('data_new/x_test.csv',encoding='euc-kr')\n",
    "# df_pycaret.to_csv('data_new/df_pycaret.csv',encoding = 'euc-kr')\n",
    "\n",
    "# ### data load\n",
    "# x_train = pd.read_csv('data_new/x_train.csv',encoding='euc-kr',index_col='단지코드')\n",
    "# y_train = pd.read_csv('data_new/y_train.csv',encoding='euc-kr',index_col='단지코드')\n",
    "# x_test = pd.read_csv('data_new/x_test.csv',encoding='euc-kr',index_col='단지코드')\n",
    "# df_pycaret = pd.read_csv('data_new/df_pycaret.csv',encoding = 'euc-kr', index_col='단지코드')"
   ]
  },
  {
   "cell_type": "code",
   "execution_count": 30,
   "metadata": {
    "ExecuteTime": {
     "end_time": "2021-07-29T06:31:48.959581Z",
     "start_time": "2021-07-29T06:31:48.922573Z"
    }
   },
   "outputs": [],
   "source": [
    "from sklearn.model_selection import train_test_split"
   ]
  },
  {
   "cell_type": "code",
   "execution_count": 31,
   "metadata": {
    "ExecuteTime": {
     "end_time": "2021-07-29T06:31:51.630962Z",
     "start_time": "2021-07-29T06:31:51.609187Z"
    }
   },
   "outputs": [],
   "source": [
    "# y_test data가 없으므로, x_train, y_train에서 30%씩을 test data로 활용\n",
    "xx_train, xx_test, yy_train, yy_test = train_test_split(x_train, y_train, test_size=0.3, random_state=0)"
   ]
  },
  {
   "cell_type": "markdown",
   "metadata": {},
   "source": [
    "## ML\n",
    "- 일반적인 방법 진행\n",
    "- Pycaret 사용해보기\n",
    "\n",
    "- 추가로 해볼만한거\n",
    "    - ensemble - Voting 진행해보기\n",
    "    - Feature Selection, PCA"
   ]
  },
  {
   "cell_type": "markdown",
   "metadata": {},
   "source": [
    "### 전통적 ML (Default Model)"
   ]
  },
  {
   "cell_type": "code",
   "execution_count": null,
   "metadata": {},
   "outputs": [],
   "source": [
    "# !pip install catboost\n",
    "# !pip install ngboost"
   ]
  },
  {
   "cell_type": "code",
   "execution_count": 33,
   "metadata": {
    "ExecuteTime": {
     "end_time": "2021-07-28T17:42:22.511977Z",
     "start_time": "2021-07-28T17:42:22.410960Z"
    }
   },
   "outputs": [],
   "source": [
    "from sklearn.metrics import mean_squared_error, mean_absolute_error\n",
    "\n",
    "from sklearn.linear_model import LinearRegression\n",
    "\n",
    "from xgboost import XGBRegressor\n",
    "\n",
    "from catboost import CatBoostRegressor\n",
    "\n",
    "from ngboost import NGBRegressor\n",
    "\n",
    "from sklearn.svm import SVR"
   ]
  },
  {
   "cell_type": "code",
   "execution_count": 34,
   "metadata": {
    "ExecuteTime": {
     "end_time": "2021-07-28T17:42:24.257892Z",
     "start_time": "2021-07-28T17:42:24.232896Z"
    }
   },
   "outputs": [
    {
     "name": "stdout",
     "output_type": "stream",
     "text": [
      "LinearRegression_MAE: 125.1766\n",
      "LinearRegression_MSE: 39238.9859\n"
     ]
    }
   ],
   "source": [
    "# Linear Regression\n",
    "line_reg = LinearRegression()\n",
    "line_reg.fit(xx_train, yy_train)\n",
    "print(\"LinearRegression_MAE:\", round(mean_absolute_error(yy_test,line_reg.predict(xx_test) ), 4))\n",
    "print(\"LinearRegression_MSE:\", round(mean_squared_error(yy_test,line_reg.predict(xx_test) ), 4))"
   ]
  },
  {
   "cell_type": "code",
   "execution_count": 35,
   "metadata": {
    "ExecuteTime": {
     "end_time": "2021-07-28T17:42:27.671225Z",
     "start_time": "2021-07-28T17:42:27.623221Z"
    }
   },
   "outputs": [
    {
     "name": "stdout",
     "output_type": "stream",
     "text": [
      "default_XGB_MAE: 122.3131\n",
      "default_XGB_MSE: 43703.7572\n"
     ]
    }
   ],
   "source": [
    "# XG boost\n",
    "XGB_reg = XGBRegressor(random_state=0)\n",
    "XGB_reg.fit(xx_train, yy_train)\n",
    "print(\"default_XGB_MAE:\", round(mean_absolute_error(yy_test,XGB_reg.predict(xx_test) ), 4))\n",
    "print(\"default_XGB_MSE:\", round(mean_squared_error(yy_test,XGB_reg.predict(xx_test) ), 4))"
   ]
  },
  {
   "cell_type": "code",
   "execution_count": 36,
   "metadata": {
    "ExecuteTime": {
     "end_time": "2021-07-28T17:42:34.885872Z",
     "start_time": "2021-07-28T17:42:33.166508Z"
    },
    "scrolled": true
   },
   "outputs": [
    {
     "name": "stdout",
     "output_type": "stream",
     "text": [
      "0:\tlearn: 268.0555740\ttotal: 160ms\tremaining: 2m 39s\n",
      "1:\tlearn: 262.9488720\ttotal: 161ms\tremaining: 1m 20s\n",
      "2:\tlearn: 258.5088512\ttotal: 162ms\tremaining: 53.8s\n",
      "3:\tlearn: 253.5802709\ttotal: 163ms\tremaining: 40.6s\n",
      "4:\tlearn: 248.9306182\ttotal: 164ms\tremaining: 32.7s\n",
      "5:\tlearn: 243.9226441\ttotal: 165ms\tremaining: 27.4s\n",
      "6:\tlearn: 239.6121564\ttotal: 166ms\tremaining: 23.6s\n",
      "7:\tlearn: 235.4146634\ttotal: 168ms\tremaining: 20.8s\n",
      "8:\tlearn: 231.1991077\ttotal: 169ms\tremaining: 18.6s\n",
      "9:\tlearn: 227.3253539\ttotal: 170ms\tremaining: 16.8s\n",
      "10:\tlearn: 223.5927339\ttotal: 171ms\tremaining: 15.4s\n",
      "11:\tlearn: 219.6543904\ttotal: 173ms\tremaining: 14.2s\n",
      "12:\tlearn: 216.5516951\ttotal: 174ms\tremaining: 13.2s\n",
      "13:\tlearn: 213.5914395\ttotal: 175ms\tremaining: 12.3s\n",
      "14:\tlearn: 209.8885565\ttotal: 176ms\tremaining: 11.6s\n",
      "15:\tlearn: 206.0170071\ttotal: 177ms\tremaining: 10.9s\n",
      "16:\tlearn: 202.9982241\ttotal: 178ms\tremaining: 10.3s\n",
      "17:\tlearn: 200.2881077\ttotal: 179ms\tremaining: 9.78s\n",
      "18:\tlearn: 197.3727555\ttotal: 181ms\tremaining: 9.32s\n",
      "19:\tlearn: 194.4607913\ttotal: 182ms\tremaining: 8.9s\n",
      "20:\tlearn: 190.8876859\ttotal: 183ms\tremaining: 8.53s\n",
      "21:\tlearn: 188.3176992\ttotal: 184ms\tremaining: 8.19s\n",
      "22:\tlearn: 185.3507744\ttotal: 185ms\tremaining: 7.88s\n",
      "23:\tlearn: 182.8800876\ttotal: 187ms\tremaining: 7.59s\n",
      "24:\tlearn: 180.7999135\ttotal: 188ms\tremaining: 7.33s\n",
      "25:\tlearn: 178.5381982\ttotal: 189ms\tremaining: 7.1s\n",
      "26:\tlearn: 175.9378156\ttotal: 191ms\tremaining: 6.87s\n",
      "27:\tlearn: 173.6602592\ttotal: 192ms\tremaining: 6.66s\n",
      "28:\tlearn: 171.6888401\ttotal: 193ms\tremaining: 6.46s\n",
      "29:\tlearn: 170.0028071\ttotal: 194ms\tremaining: 6.28s\n",
      "30:\tlearn: 167.6788014\ttotal: 195ms\tremaining: 6.11s\n",
      "31:\tlearn: 165.8352631\ttotal: 197ms\tremaining: 5.94s\n",
      "32:\tlearn: 163.6913963\ttotal: 198ms\tremaining: 5.79s\n",
      "33:\tlearn: 161.7514872\ttotal: 199ms\tremaining: 5.65s\n",
      "34:\tlearn: 160.2115769\ttotal: 200ms\tremaining: 5.51s\n",
      "35:\tlearn: 158.1792296\ttotal: 201ms\tremaining: 5.38s\n",
      "36:\tlearn: 156.1912453\ttotal: 202ms\tremaining: 5.26s\n",
      "37:\tlearn: 154.2957181\ttotal: 203ms\tremaining: 5.15s\n",
      "38:\tlearn: 152.5985123\ttotal: 204ms\tremaining: 5.04s\n",
      "39:\tlearn: 150.2976031\ttotal: 206ms\tremaining: 4.93s\n",
      "40:\tlearn: 148.9249989\ttotal: 207ms\tremaining: 4.83s\n",
      "41:\tlearn: 147.8196581\ttotal: 208ms\tremaining: 4.74s\n",
      "42:\tlearn: 146.3938866\ttotal: 209ms\tremaining: 4.65s\n",
      "43:\tlearn: 145.1354720\ttotal: 210ms\tremaining: 4.56s\n",
      "44:\tlearn: 143.3992697\ttotal: 211ms\tremaining: 4.48s\n",
      "45:\tlearn: 142.2746342\ttotal: 212ms\tremaining: 4.4s\n",
      "46:\tlearn: 140.6773995\ttotal: 213ms\tremaining: 4.33s\n",
      "47:\tlearn: 139.2863932\ttotal: 215ms\tremaining: 4.25s\n",
      "48:\tlearn: 137.7828328\ttotal: 216ms\tremaining: 4.19s\n",
      "49:\tlearn: 136.7902242\ttotal: 217ms\tremaining: 4.12s\n",
      "50:\tlearn: 135.7231259\ttotal: 218ms\tremaining: 4.06s\n",
      "51:\tlearn: 134.4420423\ttotal: 219ms\tremaining: 3.99s\n",
      "52:\tlearn: 133.0947769\ttotal: 220ms\tremaining: 3.93s\n",
      "53:\tlearn: 132.2736612\ttotal: 221ms\tremaining: 3.88s\n",
      "54:\tlearn: 131.1537331\ttotal: 222ms\tremaining: 3.82s\n",
      "55:\tlearn: 129.9924624\ttotal: 224ms\tremaining: 3.77s\n",
      "56:\tlearn: 128.7753864\ttotal: 225ms\tremaining: 3.72s\n",
      "57:\tlearn: 127.7498258\ttotal: 226ms\tremaining: 3.67s\n",
      "58:\tlearn: 127.0830187\ttotal: 227ms\tremaining: 3.62s\n",
      "59:\tlearn: 126.1943250\ttotal: 228ms\tremaining: 3.58s\n",
      "60:\tlearn: 125.7391818\ttotal: 229ms\tremaining: 3.53s\n",
      "61:\tlearn: 124.6127350\ttotal: 231ms\tremaining: 3.49s\n",
      "62:\tlearn: 123.5528223\ttotal: 232ms\tremaining: 3.45s\n",
      "63:\tlearn: 122.4773793\ttotal: 233ms\tremaining: 3.41s\n",
      "64:\tlearn: 121.7156470\ttotal: 234ms\tremaining: 3.37s\n",
      "65:\tlearn: 120.6368301\ttotal: 235ms\tremaining: 3.33s\n",
      "66:\tlearn: 119.8255283\ttotal: 236ms\tremaining: 3.29s\n",
      "67:\tlearn: 119.0227641\ttotal: 237ms\tremaining: 3.25s\n",
      "68:\tlearn: 118.3762651\ttotal: 239ms\tremaining: 3.22s\n",
      "69:\tlearn: 117.4694893\ttotal: 240ms\tremaining: 3.19s\n",
      "70:\tlearn: 117.0405819\ttotal: 241ms\tremaining: 3.15s\n",
      "71:\tlearn: 116.5777583\ttotal: 242ms\tremaining: 3.12s\n",
      "72:\tlearn: 115.7947849\ttotal: 243ms\tremaining: 3.09s\n",
      "73:\tlearn: 115.0236320\ttotal: 245ms\tremaining: 3.06s\n",
      "74:\tlearn: 114.6411951\ttotal: 246ms\tremaining: 3.03s\n",
      "75:\tlearn: 114.2419159\ttotal: 247ms\tremaining: 3s\n",
      "76:\tlearn: 113.5826808\ttotal: 248ms\tremaining: 2.97s\n",
      "77:\tlearn: 113.1473493\ttotal: 249ms\tremaining: 2.94s\n",
      "78:\tlearn: 112.7592052\ttotal: 250ms\tremaining: 2.92s\n",
      "79:\tlearn: 112.3077850\ttotal: 251ms\tremaining: 2.89s\n",
      "80:\tlearn: 112.0833412\ttotal: 253ms\tremaining: 2.87s\n",
      "81:\tlearn: 111.3663844\ttotal: 254ms\tremaining: 2.84s\n",
      "82:\tlearn: 110.7117246\ttotal: 255ms\tremaining: 2.81s\n",
      "83:\tlearn: 110.2194903\ttotal: 256ms\tremaining: 2.79s\n",
      "84:\tlearn: 109.8236992\ttotal: 257ms\tremaining: 2.77s\n",
      "85:\tlearn: 109.2518503\ttotal: 258ms\tremaining: 2.75s\n",
      "86:\tlearn: 108.7508024\ttotal: 260ms\tremaining: 2.72s\n",
      "87:\tlearn: 108.3650489\ttotal: 261ms\tremaining: 2.7s\n",
      "88:\tlearn: 107.9331114\ttotal: 262ms\tremaining: 2.68s\n",
      "89:\tlearn: 107.6415195\ttotal: 263ms\tremaining: 2.66s\n",
      "90:\tlearn: 106.9211343\ttotal: 264ms\tremaining: 2.64s\n",
      "91:\tlearn: 106.2787787\ttotal: 265ms\tremaining: 2.62s\n",
      "92:\tlearn: 106.0234585\ttotal: 266ms\tremaining: 2.6s\n",
      "93:\tlearn: 105.6255619\ttotal: 268ms\tremaining: 2.58s\n",
      "94:\tlearn: 105.2565254\ttotal: 269ms\tremaining: 2.56s\n",
      "95:\tlearn: 104.8609386\ttotal: 270ms\tremaining: 2.54s\n",
      "96:\tlearn: 104.4645994\ttotal: 271ms\tremaining: 2.52s\n",
      "97:\tlearn: 104.2272446\ttotal: 272ms\tremaining: 2.5s\n",
      "98:\tlearn: 103.6944097\ttotal: 273ms\tremaining: 2.49s\n",
      "99:\tlearn: 103.3180857\ttotal: 274ms\tremaining: 2.47s\n",
      "100:\tlearn: 102.7136064\ttotal: 276ms\tremaining: 2.45s\n",
      "101:\tlearn: 102.1837252\ttotal: 277ms\tremaining: 2.44s\n",
      "102:\tlearn: 101.6812234\ttotal: 278ms\tremaining: 2.42s\n",
      "103:\tlearn: 101.1364240\ttotal: 279ms\tremaining: 2.4s\n",
      "104:\tlearn: 100.8425468\ttotal: 280ms\tremaining: 2.39s\n",
      "105:\tlearn: 100.3862542\ttotal: 281ms\tremaining: 2.37s\n",
      "106:\tlearn: 100.0079612\ttotal: 282ms\tremaining: 2.36s\n",
      "107:\tlearn: 99.7463019\ttotal: 284ms\tremaining: 2.34s\n",
      "108:\tlearn: 99.3552493\ttotal: 285ms\tremaining: 2.33s\n",
      "109:\tlearn: 98.9632110\ttotal: 286ms\tremaining: 2.31s\n",
      "110:\tlearn: 98.7328143\ttotal: 287ms\tremaining: 2.3s\n",
      "111:\tlearn: 98.3762575\ttotal: 288ms\tremaining: 2.29s\n",
      "112:\tlearn: 97.9984647\ttotal: 289ms\tremaining: 2.27s\n",
      "113:\tlearn: 97.7116148\ttotal: 291ms\tremaining: 2.26s\n",
      "114:\tlearn: 97.1968518\ttotal: 292ms\tremaining: 2.25s\n",
      "115:\tlearn: 96.6071554\ttotal: 293ms\tremaining: 2.23s\n",
      "116:\tlearn: 96.2492911\ttotal: 294ms\tremaining: 2.22s\n",
      "117:\tlearn: 95.8621739\ttotal: 295ms\tremaining: 2.21s\n",
      "118:\tlearn: 95.6588256\ttotal: 296ms\tremaining: 2.19s\n",
      "119:\tlearn: 95.2660294\ttotal: 297ms\tremaining: 2.18s\n",
      "120:\tlearn: 94.8635077\ttotal: 299ms\tremaining: 2.17s\n",
      "121:\tlearn: 94.5833897\ttotal: 300ms\tremaining: 2.16s\n",
      "122:\tlearn: 94.0007097\ttotal: 301ms\tremaining: 2.15s\n",
      "123:\tlearn: 93.8156616\ttotal: 302ms\tremaining: 2.13s\n",
      "124:\tlearn: 93.4140484\ttotal: 304ms\tremaining: 2.13s\n",
      "125:\tlearn: 93.0665116\ttotal: 305ms\tremaining: 2.11s\n",
      "126:\tlearn: 92.6946097\ttotal: 306ms\tremaining: 2.1s\n",
      "127:\tlearn: 92.3131481\ttotal: 307ms\tremaining: 2.09s\n",
      "128:\tlearn: 92.0008790\ttotal: 308ms\tremaining: 2.08s\n",
      "129:\tlearn: 91.8088489\ttotal: 309ms\tremaining: 2.07s\n",
      "130:\tlearn: 91.7166647\ttotal: 310ms\tremaining: 2.06s\n",
      "131:\tlearn: 91.5901177\ttotal: 312ms\tremaining: 2.05s\n",
      "132:\tlearn: 91.3497073\ttotal: 313ms\tremaining: 2.04s\n",
      "133:\tlearn: 91.2450339\ttotal: 314ms\tremaining: 2.03s\n",
      "134:\tlearn: 90.9796870\ttotal: 315ms\tremaining: 2.02s\n",
      "135:\tlearn: 90.6456648\ttotal: 317ms\tremaining: 2.01s\n",
      "136:\tlearn: 90.0992096\ttotal: 318ms\tremaining: 2s\n",
      "137:\tlearn: 89.8977712\ttotal: 319ms\tremaining: 1.99s\n",
      "138:\tlearn: 89.5483085\ttotal: 321ms\tremaining: 1.99s\n",
      "139:\tlearn: 88.9583787\ttotal: 322ms\tremaining: 1.98s\n",
      "140:\tlearn: 88.6282412\ttotal: 323ms\tremaining: 1.97s\n",
      "141:\tlearn: 88.3354180\ttotal: 325ms\tremaining: 1.96s\n",
      "142:\tlearn: 87.8250238\ttotal: 326ms\tremaining: 1.95s\n",
      "143:\tlearn: 87.4511338\ttotal: 327ms\tremaining: 1.94s\n",
      "144:\tlearn: 87.2117254\ttotal: 328ms\tremaining: 1.94s\n",
      "145:\tlearn: 86.8982578\ttotal: 330ms\tremaining: 1.93s\n",
      "146:\tlearn: 86.6222140\ttotal: 331ms\tremaining: 1.92s\n",
      "147:\tlearn: 86.3350877\ttotal: 332ms\tremaining: 1.91s\n",
      "148:\tlearn: 85.9565207\ttotal: 334ms\tremaining: 1.9s\n",
      "149:\tlearn: 85.7544154\ttotal: 335ms\tremaining: 1.9s\n",
      "150:\tlearn: 85.5130574\ttotal: 336ms\tremaining: 1.89s\n",
      "151:\tlearn: 85.2685882\ttotal: 337ms\tremaining: 1.88s\n",
      "152:\tlearn: 85.0257538\ttotal: 338ms\tremaining: 1.87s\n",
      "153:\tlearn: 84.8592383\ttotal: 340ms\tremaining: 1.86s\n",
      "154:\tlearn: 84.5777977\ttotal: 341ms\tremaining: 1.86s\n",
      "155:\tlearn: 84.2889306\ttotal: 342ms\tremaining: 1.85s\n",
      "156:\tlearn: 84.1027792\ttotal: 344ms\tremaining: 1.84s\n",
      "157:\tlearn: 83.9226011\ttotal: 345ms\tremaining: 1.84s\n",
      "158:\tlearn: 83.4637052\ttotal: 346ms\tremaining: 1.83s\n",
      "159:\tlearn: 83.2601473\ttotal: 348ms\tremaining: 1.83s\n",
      "160:\tlearn: 83.0010344\ttotal: 349ms\tremaining: 1.82s\n",
      "161:\tlearn: 82.8222749\ttotal: 350ms\tremaining: 1.81s\n",
      "162:\tlearn: 82.7043914\ttotal: 352ms\tremaining: 1.8s\n",
      "163:\tlearn: 82.5396991\ttotal: 353ms\tremaining: 1.8s\n",
      "164:\tlearn: 82.3997722\ttotal: 354ms\tremaining: 1.79s\n",
      "165:\tlearn: 82.3150662\ttotal: 356ms\tremaining: 1.79s\n",
      "166:\tlearn: 82.1960995\ttotal: 357ms\tremaining: 1.78s\n",
      "167:\tlearn: 82.0842696\ttotal: 359ms\tremaining: 1.78s\n",
      "168:\tlearn: 81.9765308\ttotal: 360ms\tremaining: 1.77s\n",
      "169:\tlearn: 81.9008401\ttotal: 362ms\tremaining: 1.76s\n",
      "170:\tlearn: 81.8049354\ttotal: 363ms\tremaining: 1.76s\n",
      "171:\tlearn: 81.6479243\ttotal: 364ms\tremaining: 1.75s\n",
      "172:\tlearn: 81.5574966\ttotal: 365ms\tremaining: 1.75s\n",
      "173:\tlearn: 81.4616166\ttotal: 367ms\tremaining: 1.74s\n",
      "174:\tlearn: 81.2561438\ttotal: 368ms\tremaining: 1.73s\n",
      "175:\tlearn: 81.1193031\ttotal: 369ms\tremaining: 1.73s\n",
      "176:\tlearn: 81.0674851\ttotal: 370ms\tremaining: 1.72s\n",
      "177:\tlearn: 80.9669728\ttotal: 371ms\tremaining: 1.71s\n",
      "178:\tlearn: 80.7184875\ttotal: 372ms\tremaining: 1.71s\n",
      "179:\tlearn: 80.5969596\ttotal: 373ms\tremaining: 1.7s\n",
      "180:\tlearn: 80.4903484\ttotal: 375ms\tremaining: 1.7s\n",
      "181:\tlearn: 80.2581161\ttotal: 376ms\tremaining: 1.69s\n",
      "182:\tlearn: 80.2002834\ttotal: 377ms\tremaining: 1.68s\n",
      "183:\tlearn: 79.8467737\ttotal: 378ms\tremaining: 1.68s\n",
      "184:\tlearn: 79.6599954\ttotal: 379ms\tremaining: 1.67s\n",
      "185:\tlearn: 79.4946322\ttotal: 381ms\tremaining: 1.67s\n",
      "186:\tlearn: 79.3165385\ttotal: 382ms\tremaining: 1.66s\n",
      "187:\tlearn: 79.1319727\ttotal: 383ms\tremaining: 1.65s\n",
      "188:\tlearn: 78.9580133\ttotal: 384ms\tremaining: 1.65s\n",
      "189:\tlearn: 78.8979306\ttotal: 385ms\tremaining: 1.64s\n",
      "190:\tlearn: 78.8208408\ttotal: 386ms\tremaining: 1.64s\n",
      "191:\tlearn: 78.7130639\ttotal: 387ms\tremaining: 1.63s\n",
      "192:\tlearn: 78.5175296\ttotal: 389ms\tremaining: 1.63s\n",
      "193:\tlearn: 78.3284564\ttotal: 390ms\tremaining: 1.62s\n",
      "194:\tlearn: 78.1229019\ttotal: 391ms\tremaining: 1.61s\n",
      "195:\tlearn: 77.9218366\ttotal: 392ms\tremaining: 1.61s\n",
      "196:\tlearn: 77.7383662\ttotal: 393ms\tremaining: 1.6s\n",
      "197:\tlearn: 77.4942260\ttotal: 394ms\tremaining: 1.6s\n",
      "198:\tlearn: 77.4294239\ttotal: 395ms\tremaining: 1.59s\n",
      "199:\tlearn: 77.3275860\ttotal: 396ms\tremaining: 1.58s\n",
      "200:\tlearn: 77.1572264\ttotal: 398ms\tremaining: 1.58s\n",
      "201:\tlearn: 76.9513910\ttotal: 399ms\tremaining: 1.57s\n",
      "202:\tlearn: 76.8036488\ttotal: 400ms\tremaining: 1.57s\n",
      "203:\tlearn: 76.7329780\ttotal: 401ms\tremaining: 1.56s\n",
      "204:\tlearn: 76.5937749\ttotal: 402ms\tremaining: 1.56s\n",
      "205:\tlearn: 76.4730081\ttotal: 403ms\tremaining: 1.55s\n",
      "206:\tlearn: 76.1422675\ttotal: 405ms\tremaining: 1.55s\n",
      "207:\tlearn: 76.0040352\ttotal: 406ms\tremaining: 1.54s\n",
      "208:\tlearn: 75.8083531\ttotal: 407ms\tremaining: 1.54s\n",
      "209:\tlearn: 75.6817709\ttotal: 408ms\tremaining: 1.53s\n",
      "210:\tlearn: 75.5244880\ttotal: 409ms\tremaining: 1.53s\n",
      "211:\tlearn: 75.4773945\ttotal: 411ms\tremaining: 1.53s\n",
      "212:\tlearn: 75.4134255\ttotal: 412ms\tremaining: 1.52s\n",
      "213:\tlearn: 75.3327819\ttotal: 413ms\tremaining: 1.52s\n",
      "214:\tlearn: 75.1551805\ttotal: 414ms\tremaining: 1.51s\n",
      "215:\tlearn: 74.9065646\ttotal: 415ms\tremaining: 1.5s\n",
      "216:\tlearn: 74.7507660\ttotal: 416ms\tremaining: 1.5s\n",
      "217:\tlearn: 74.6344583\ttotal: 417ms\tremaining: 1.5s\n",
      "218:\tlearn: 74.4157977\ttotal: 419ms\tremaining: 1.49s\n",
      "219:\tlearn: 74.2617842\ttotal: 420ms\tremaining: 1.49s\n",
      "220:\tlearn: 73.9830625\ttotal: 421ms\tremaining: 1.48s\n",
      "221:\tlearn: 73.6864856\ttotal: 422ms\tremaining: 1.48s\n",
      "222:\tlearn: 73.5694217\ttotal: 424ms\tremaining: 1.48s\n",
      "223:\tlearn: 73.4833663\ttotal: 425ms\tremaining: 1.47s\n",
      "224:\tlearn: 73.2638577\ttotal: 426ms\tremaining: 1.47s\n",
      "225:\tlearn: 72.8536348\ttotal: 427ms\tremaining: 1.46s\n",
      "226:\tlearn: 72.4173630\ttotal: 428ms\tremaining: 1.46s\n",
      "227:\tlearn: 72.3962334\ttotal: 429ms\tremaining: 1.45s\n",
      "228:\tlearn: 72.1196895\ttotal: 430ms\tremaining: 1.45s\n",
      "229:\tlearn: 71.9401649\ttotal: 431ms\tremaining: 1.44s\n",
      "230:\tlearn: 71.7803271\ttotal: 433ms\tremaining: 1.44s\n",
      "231:\tlearn: 71.7070995\ttotal: 434ms\tremaining: 1.44s\n",
      "232:\tlearn: 71.6317009\ttotal: 435ms\tremaining: 1.43s\n",
      "233:\tlearn: 71.4096147\ttotal: 436ms\tremaining: 1.43s\n",
      "234:\tlearn: 71.3224214\ttotal: 438ms\tremaining: 1.42s\n",
      "235:\tlearn: 71.2517744\ttotal: 439ms\tremaining: 1.42s\n",
      "236:\tlearn: 71.0008316\ttotal: 440ms\tremaining: 1.42s\n",
      "237:\tlearn: 70.9139336\ttotal: 441ms\tremaining: 1.41s\n",
      "238:\tlearn: 70.8058234\ttotal: 442ms\tremaining: 1.41s\n",
      "239:\tlearn: 70.6842517\ttotal: 443ms\tremaining: 1.4s\n",
      "240:\tlearn: 70.4233419\ttotal: 445ms\tremaining: 1.4s\n",
      "241:\tlearn: 70.2823990\ttotal: 446ms\tremaining: 1.4s\n",
      "242:\tlearn: 70.0759590\ttotal: 448ms\tremaining: 1.39s\n",
      "243:\tlearn: 70.0155178\ttotal: 449ms\tremaining: 1.39s\n",
      "244:\tlearn: 69.7343953\ttotal: 450ms\tremaining: 1.39s\n",
      "245:\tlearn: 69.6499497\ttotal: 451ms\tremaining: 1.38s\n",
      "246:\tlearn: 69.5475992\ttotal: 453ms\tremaining: 1.38s\n",
      "247:\tlearn: 69.3575969\ttotal: 454ms\tremaining: 1.38s\n",
      "248:\tlearn: 69.2231251\ttotal: 455ms\tremaining: 1.37s\n",
      "249:\tlearn: 68.9970655\ttotal: 456ms\tremaining: 1.37s\n",
      "250:\tlearn: 68.7752042\ttotal: 457ms\tremaining: 1.36s\n",
      "251:\tlearn: 68.7263037\ttotal: 458ms\tremaining: 1.36s\n",
      "252:\tlearn: 68.6065113\ttotal: 460ms\tremaining: 1.36s\n",
      "253:\tlearn: 68.5288441\ttotal: 461ms\tremaining: 1.35s\n",
      "254:\tlearn: 68.4764483\ttotal: 462ms\tremaining: 1.35s\n",
      "255:\tlearn: 68.3727216\ttotal: 463ms\tremaining: 1.35s\n",
      "256:\tlearn: 68.0496910\ttotal: 465ms\tremaining: 1.34s\n",
      "257:\tlearn: 67.9584061\ttotal: 466ms\tremaining: 1.34s\n",
      "258:\tlearn: 67.8991081\ttotal: 467ms\tremaining: 1.34s\n",
      "259:\tlearn: 67.7513592\ttotal: 468ms\tremaining: 1.33s\n",
      "260:\tlearn: 67.7011388\ttotal: 469ms\tremaining: 1.33s\n",
      "261:\tlearn: 67.5619533\ttotal: 470ms\tremaining: 1.32s\n",
      "262:\tlearn: 67.4968774\ttotal: 472ms\tremaining: 1.32s\n",
      "263:\tlearn: 67.3117147\ttotal: 473ms\tremaining: 1.32s\n",
      "264:\tlearn: 67.2941304\ttotal: 474ms\tremaining: 1.31s\n",
      "265:\tlearn: 67.1670681\ttotal: 475ms\tremaining: 1.31s\n",
      "266:\tlearn: 67.0480590\ttotal: 477ms\tremaining: 1.31s\n",
      "267:\tlearn: 67.0083207\ttotal: 478ms\tremaining: 1.3s\n"
     ]
    },
    {
     "name": "stdout",
     "output_type": "stream",
     "text": [
      "268:\tlearn: 66.7996904\ttotal: 480ms\tremaining: 1.3s\n",
      "269:\tlearn: 66.7513180\ttotal: 481ms\tremaining: 1.3s\n",
      "270:\tlearn: 66.6822670\ttotal: 482ms\tremaining: 1.3s\n",
      "271:\tlearn: 66.5245484\ttotal: 484ms\tremaining: 1.29s\n",
      "272:\tlearn: 66.1502402\ttotal: 485ms\tremaining: 1.29s\n",
      "273:\tlearn: 65.9420614\ttotal: 486ms\tremaining: 1.29s\n",
      "274:\tlearn: 65.7193017\ttotal: 487ms\tremaining: 1.28s\n",
      "275:\tlearn: 65.5773372\ttotal: 488ms\tremaining: 1.28s\n",
      "276:\tlearn: 65.3546190\ttotal: 490ms\tremaining: 1.28s\n",
      "277:\tlearn: 65.2185778\ttotal: 491ms\tremaining: 1.27s\n",
      "278:\tlearn: 65.1747747\ttotal: 493ms\tremaining: 1.27s\n",
      "279:\tlearn: 65.1202191\ttotal: 494ms\tremaining: 1.27s\n",
      "280:\tlearn: 65.0290977\ttotal: 495ms\tremaining: 1.27s\n",
      "281:\tlearn: 64.9770372\ttotal: 497ms\tremaining: 1.26s\n",
      "282:\tlearn: 64.9281376\ttotal: 498ms\tremaining: 1.26s\n",
      "283:\tlearn: 64.7641231\ttotal: 499ms\tremaining: 1.26s\n",
      "284:\tlearn: 64.6013696\ttotal: 501ms\tremaining: 1.26s\n",
      "285:\tlearn: 64.4604377\ttotal: 502ms\tremaining: 1.25s\n",
      "286:\tlearn: 64.4233092\ttotal: 504ms\tremaining: 1.25s\n",
      "287:\tlearn: 64.3497830\ttotal: 505ms\tremaining: 1.25s\n",
      "288:\tlearn: 64.2086675\ttotal: 507ms\tremaining: 1.25s\n",
      "289:\tlearn: 64.0642720\ttotal: 508ms\tremaining: 1.24s\n",
      "290:\tlearn: 63.9276565\ttotal: 509ms\tremaining: 1.24s\n",
      "291:\tlearn: 63.7060102\ttotal: 511ms\tremaining: 1.24s\n",
      "292:\tlearn: 63.6354483\ttotal: 512ms\tremaining: 1.23s\n",
      "293:\tlearn: 63.4014872\ttotal: 513ms\tremaining: 1.23s\n",
      "294:\tlearn: 63.3295772\ttotal: 514ms\tremaining: 1.23s\n",
      "295:\tlearn: 63.1764270\ttotal: 515ms\tremaining: 1.22s\n",
      "296:\tlearn: 62.7678061\ttotal: 516ms\tremaining: 1.22s\n",
      "297:\tlearn: 62.5174103\ttotal: 517ms\tremaining: 1.22s\n",
      "298:\tlearn: 62.4251009\ttotal: 519ms\tremaining: 1.22s\n",
      "299:\tlearn: 62.3630789\ttotal: 520ms\tremaining: 1.21s\n",
      "300:\tlearn: 62.1921842\ttotal: 521ms\tremaining: 1.21s\n",
      "301:\tlearn: 62.0444108\ttotal: 523ms\tremaining: 1.21s\n",
      "302:\tlearn: 62.0200439\ttotal: 524ms\tremaining: 1.2s\n",
      "303:\tlearn: 61.9556733\ttotal: 525ms\tremaining: 1.2s\n",
      "304:\tlearn: 61.8181912\ttotal: 526ms\tremaining: 1.2s\n",
      "305:\tlearn: 61.6744374\ttotal: 527ms\tremaining: 1.2s\n",
      "306:\tlearn: 61.5493651\ttotal: 529ms\tremaining: 1.19s\n",
      "307:\tlearn: 61.4035223\ttotal: 530ms\tremaining: 1.19s\n",
      "308:\tlearn: 61.2746402\ttotal: 531ms\tremaining: 1.19s\n",
      "309:\tlearn: 61.0828718\ttotal: 532ms\tremaining: 1.18s\n",
      "310:\tlearn: 60.9380307\ttotal: 534ms\tremaining: 1.18s\n",
      "311:\tlearn: 60.9198445\ttotal: 535ms\tremaining: 1.18s\n",
      "312:\tlearn: 60.7688272\ttotal: 536ms\tremaining: 1.18s\n",
      "313:\tlearn: 60.6590376\ttotal: 537ms\tremaining: 1.17s\n",
      "314:\tlearn: 60.4911949\ttotal: 538ms\tremaining: 1.17s\n",
      "315:\tlearn: 60.3986822\ttotal: 540ms\tremaining: 1.17s\n",
      "316:\tlearn: 60.1845375\ttotal: 541ms\tremaining: 1.16s\n",
      "317:\tlearn: 60.1122064\ttotal: 542ms\tremaining: 1.16s\n",
      "318:\tlearn: 59.9217734\ttotal: 543ms\tremaining: 1.16s\n",
      "319:\tlearn: 59.7089128\ttotal: 544ms\tremaining: 1.16s\n",
      "320:\tlearn: 59.6712553\ttotal: 545ms\tremaining: 1.15s\n",
      "321:\tlearn: 59.4851692\ttotal: 546ms\tremaining: 1.15s\n",
      "322:\tlearn: 59.4145385\ttotal: 548ms\tremaining: 1.15s\n",
      "323:\tlearn: 59.3602133\ttotal: 549ms\tremaining: 1.15s\n",
      "324:\tlearn: 59.2850810\ttotal: 550ms\tremaining: 1.14s\n",
      "325:\tlearn: 59.2409215\ttotal: 551ms\tremaining: 1.14s\n",
      "326:\tlearn: 59.0750813\ttotal: 553ms\tremaining: 1.14s\n",
      "327:\tlearn: 59.0479080\ttotal: 554ms\tremaining: 1.13s\n",
      "328:\tlearn: 59.0285462\ttotal: 555ms\tremaining: 1.13s\n",
      "329:\tlearn: 58.9908796\ttotal: 556ms\tremaining: 1.13s\n",
      "330:\tlearn: 58.8780037\ttotal: 557ms\tremaining: 1.13s\n",
      "331:\tlearn: 58.8567597\ttotal: 558ms\tremaining: 1.12s\n",
      "332:\tlearn: 58.7448280\ttotal: 559ms\tremaining: 1.12s\n",
      "333:\tlearn: 58.4903670\ttotal: 560ms\tremaining: 1.12s\n",
      "334:\tlearn: 58.4649392\ttotal: 562ms\tremaining: 1.11s\n",
      "335:\tlearn: 58.4118326\ttotal: 563ms\tremaining: 1.11s\n",
      "336:\tlearn: 58.3379295\ttotal: 564ms\tremaining: 1.11s\n",
      "337:\tlearn: 58.1268314\ttotal: 566ms\tremaining: 1.11s\n",
      "338:\tlearn: 58.0239143\ttotal: 567ms\tremaining: 1.1s\n",
      "339:\tlearn: 57.9641106\ttotal: 568ms\tremaining: 1.1s\n",
      "340:\tlearn: 57.8773308\ttotal: 569ms\tremaining: 1.1s\n",
      "341:\tlearn: 57.7855153\ttotal: 571ms\tremaining: 1.1s\n",
      "342:\tlearn: 57.6646673\ttotal: 572ms\tremaining: 1.09s\n",
      "343:\tlearn: 57.5177055\ttotal: 573ms\tremaining: 1.09s\n",
      "344:\tlearn: 57.3665126\ttotal: 574ms\tremaining: 1.09s\n",
      "345:\tlearn: 57.3049917\ttotal: 575ms\tremaining: 1.09s\n",
      "346:\tlearn: 57.2228510\ttotal: 577ms\tremaining: 1.08s\n",
      "347:\tlearn: 57.1650724\ttotal: 578ms\tremaining: 1.08s\n",
      "348:\tlearn: 57.1050322\ttotal: 579ms\tremaining: 1.08s\n",
      "349:\tlearn: 57.0552840\ttotal: 580ms\tremaining: 1.08s\n",
      "350:\tlearn: 56.9292184\ttotal: 582ms\tremaining: 1.07s\n",
      "351:\tlearn: 56.7865490\ttotal: 583ms\tremaining: 1.07s\n",
      "352:\tlearn: 56.6615234\ttotal: 584ms\tremaining: 1.07s\n",
      "353:\tlearn: 56.5197588\ttotal: 585ms\tremaining: 1.07s\n",
      "354:\tlearn: 56.4790630\ttotal: 586ms\tremaining: 1.06s\n",
      "355:\tlearn: 56.0722141\ttotal: 587ms\tremaining: 1.06s\n",
      "356:\tlearn: 56.0058772\ttotal: 589ms\tremaining: 1.06s\n",
      "357:\tlearn: 55.9887578\ttotal: 590ms\tremaining: 1.06s\n",
      "358:\tlearn: 55.9197982\ttotal: 591ms\tremaining: 1.05s\n",
      "359:\tlearn: 55.8772542\ttotal: 592ms\tremaining: 1.05s\n",
      "360:\tlearn: 55.8563184\ttotal: 594ms\tremaining: 1.05s\n",
      "361:\tlearn: 55.8083609\ttotal: 595ms\tremaining: 1.05s\n",
      "362:\tlearn: 55.7374052\ttotal: 596ms\tremaining: 1.05s\n",
      "363:\tlearn: 55.7098421\ttotal: 597ms\tremaining: 1.04s\n",
      "364:\tlearn: 55.5698689\ttotal: 599ms\tremaining: 1.04s\n",
      "365:\tlearn: 55.5369892\ttotal: 600ms\tremaining: 1.04s\n",
      "366:\tlearn: 55.5094677\ttotal: 601ms\tremaining: 1.04s\n",
      "367:\tlearn: 55.3892736\ttotal: 602ms\tremaining: 1.03s\n",
      "368:\tlearn: 55.3639993\ttotal: 603ms\tremaining: 1.03s\n",
      "369:\tlearn: 55.3190229\ttotal: 604ms\tremaining: 1.03s\n",
      "370:\tlearn: 55.2830032\ttotal: 606ms\tremaining: 1.03s\n",
      "371:\tlearn: 55.2257390\ttotal: 607ms\tremaining: 1.02s\n",
      "372:\tlearn: 55.0453906\ttotal: 608ms\tremaining: 1.02s\n",
      "373:\tlearn: 54.9673926\ttotal: 609ms\tremaining: 1.02s\n",
      "374:\tlearn: 54.8975476\ttotal: 610ms\tremaining: 1.02s\n",
      "375:\tlearn: 54.7282184\ttotal: 611ms\tremaining: 1.01s\n",
      "376:\tlearn: 54.6859923\ttotal: 612ms\tremaining: 1.01s\n",
      "377:\tlearn: 54.5592270\ttotal: 613ms\tremaining: 1.01s\n",
      "378:\tlearn: 54.4936344\ttotal: 615ms\tremaining: 1.01s\n",
      "379:\tlearn: 54.4266260\ttotal: 616ms\tremaining: 1s\n",
      "380:\tlearn: 54.2521657\ttotal: 617ms\tremaining: 1s\n",
      "381:\tlearn: 54.1809677\ttotal: 618ms\tremaining: 1000ms\n",
      "382:\tlearn: 54.1711896\ttotal: 619ms\tremaining: 998ms\n",
      "383:\tlearn: 54.0451012\ttotal: 621ms\tremaining: 996ms\n",
      "384:\tlearn: 53.9355106\ttotal: 622ms\tremaining: 993ms\n",
      "385:\tlearn: 53.8517316\ttotal: 623ms\tremaining: 991ms\n",
      "386:\tlearn: 53.8476000\ttotal: 624ms\tremaining: 988ms\n",
      "387:\tlearn: 53.6461389\ttotal: 625ms\tremaining: 986ms\n",
      "388:\tlearn: 53.5656455\ttotal: 626ms\tremaining: 984ms\n",
      "389:\tlearn: 53.5374251\ttotal: 628ms\tremaining: 982ms\n",
      "390:\tlearn: 53.5052617\ttotal: 629ms\tremaining: 979ms\n",
      "391:\tlearn: 53.4605217\ttotal: 630ms\tremaining: 977ms\n",
      "392:\tlearn: 53.4530369\ttotal: 631ms\tremaining: 975ms\n",
      "393:\tlearn: 53.3784704\ttotal: 632ms\tremaining: 972ms\n",
      "394:\tlearn: 53.3289748\ttotal: 633ms\tremaining: 970ms\n",
      "395:\tlearn: 53.2940103\ttotal: 635ms\tremaining: 968ms\n",
      "396:\tlearn: 53.2174245\ttotal: 636ms\tremaining: 966ms\n",
      "397:\tlearn: 53.1222452\ttotal: 637ms\tremaining: 964ms\n",
      "398:\tlearn: 53.0825669\ttotal: 639ms\tremaining: 962ms\n",
      "399:\tlearn: 52.9899247\ttotal: 640ms\tremaining: 960ms\n",
      "400:\tlearn: 52.8853743\ttotal: 641ms\tremaining: 958ms\n",
      "401:\tlearn: 52.8689696\ttotal: 643ms\tremaining: 956ms\n",
      "402:\tlearn: 52.7773651\ttotal: 644ms\tremaining: 954ms\n",
      "403:\tlearn: 52.6857274\ttotal: 645ms\tremaining: 952ms\n",
      "404:\tlearn: 52.5601557\ttotal: 646ms\tremaining: 949ms\n",
      "405:\tlearn: 52.5526724\ttotal: 647ms\tremaining: 947ms\n",
      "406:\tlearn: 52.3214916\ttotal: 649ms\tremaining: 946ms\n",
      "407:\tlearn: 52.2941243\ttotal: 650ms\tremaining: 943ms\n",
      "408:\tlearn: 52.1577358\ttotal: 651ms\tremaining: 941ms\n",
      "409:\tlearn: 52.1514486\ttotal: 653ms\tremaining: 939ms\n",
      "410:\tlearn: 52.0080074\ttotal: 654ms\tremaining: 937ms\n",
      "411:\tlearn: 51.8768688\ttotal: 655ms\tremaining: 935ms\n",
      "412:\tlearn: 51.7398334\ttotal: 656ms\tremaining: 933ms\n",
      "413:\tlearn: 51.5719994\ttotal: 658ms\tremaining: 931ms\n",
      "414:\tlearn: 51.4050105\ttotal: 659ms\tremaining: 929ms\n",
      "415:\tlearn: 51.1874924\ttotal: 661ms\tremaining: 927ms\n",
      "416:\tlearn: 51.0249533\ttotal: 662ms\tremaining: 926ms\n",
      "417:\tlearn: 51.0170984\ttotal: 663ms\tremaining: 924ms\n",
      "418:\tlearn: 50.9985625\ttotal: 665ms\tremaining: 922ms\n",
      "419:\tlearn: 50.9644514\ttotal: 667ms\tremaining: 920ms\n",
      "420:\tlearn: 50.8633483\ttotal: 668ms\tremaining: 918ms\n",
      "421:\tlearn: 50.7972904\ttotal: 669ms\tremaining: 916ms\n",
      "422:\tlearn: 50.7449603\ttotal: 670ms\tremaining: 914ms\n",
      "423:\tlearn: 50.6944525\ttotal: 672ms\tremaining: 912ms\n",
      "424:\tlearn: 50.6433804\ttotal: 673ms\tremaining: 910ms\n",
      "425:\tlearn: 50.5335948\ttotal: 674ms\tremaining: 908ms\n",
      "426:\tlearn: 50.3789049\ttotal: 675ms\tremaining: 906ms\n",
      "427:\tlearn: 50.2776602\ttotal: 676ms\tremaining: 904ms\n",
      "428:\tlearn: 50.2226287\ttotal: 678ms\tremaining: 902ms\n",
      "429:\tlearn: 50.0926271\ttotal: 679ms\tremaining: 900ms\n",
      "430:\tlearn: 49.9828812\ttotal: 681ms\tremaining: 899ms\n",
      "431:\tlearn: 49.9562086\ttotal: 682ms\tremaining: 897ms\n",
      "432:\tlearn: 49.9418387\ttotal: 683ms\tremaining: 895ms\n",
      "433:\tlearn: 49.8847298\ttotal: 684ms\tremaining: 893ms\n",
      "434:\tlearn: 49.8695428\ttotal: 686ms\tremaining: 890ms\n",
      "435:\tlearn: 49.8270234\ttotal: 687ms\tremaining: 888ms\n",
      "436:\tlearn: 49.7323778\ttotal: 688ms\tremaining: 886ms\n",
      "437:\tlearn: 49.6268062\ttotal: 689ms\tremaining: 884ms\n",
      "438:\tlearn: 49.5879359\ttotal: 690ms\tremaining: 882ms\n",
      "439:\tlearn: 49.3593142\ttotal: 692ms\tremaining: 881ms\n",
      "440:\tlearn: 49.2427212\ttotal: 693ms\tremaining: 879ms\n",
      "441:\tlearn: 49.1392392\ttotal: 695ms\tremaining: 877ms\n",
      "442:\tlearn: 49.1235414\ttotal: 696ms\tremaining: 875ms\n",
      "443:\tlearn: 49.0672193\ttotal: 698ms\tremaining: 874ms\n",
      "444:\tlearn: 48.8774647\ttotal: 699ms\tremaining: 871ms\n",
      "445:\tlearn: 48.8255532\ttotal: 700ms\tremaining: 870ms\n",
      "446:\tlearn: 48.6998044\ttotal: 701ms\tremaining: 867ms\n",
      "447:\tlearn: 48.6757289\ttotal: 703ms\tremaining: 866ms\n",
      "448:\tlearn: 48.5276718\ttotal: 704ms\tremaining: 864ms\n",
      "449:\tlearn: 48.4000335\ttotal: 705ms\tremaining: 862ms\n",
      "450:\tlearn: 48.1976397\ttotal: 706ms\tremaining: 860ms\n",
      "451:\tlearn: 48.1179029\ttotal: 708ms\tremaining: 858ms\n",
      "452:\tlearn: 48.0919111\ttotal: 709ms\tremaining: 856ms\n",
      "453:\tlearn: 48.0608466\ttotal: 710ms\tremaining: 854ms\n",
      "454:\tlearn: 48.0059044\ttotal: 711ms\tremaining: 852ms\n",
      "455:\tlearn: 47.9669928\ttotal: 713ms\tremaining: 850ms\n",
      "456:\tlearn: 47.9255540\ttotal: 714ms\tremaining: 848ms\n",
      "457:\tlearn: 47.7644568\ttotal: 715ms\tremaining: 846ms\n",
      "458:\tlearn: 47.7562093\ttotal: 718ms\tremaining: 846ms\n",
      "459:\tlearn: 47.6854829\ttotal: 719ms\tremaining: 844ms\n",
      "460:\tlearn: 47.6384116\ttotal: 721ms\tremaining: 843ms\n",
      "461:\tlearn: 47.6068122\ttotal: 723ms\tremaining: 841ms\n",
      "462:\tlearn: 47.4499873\ttotal: 724ms\tremaining: 840ms\n",
      "463:\tlearn: 47.4193897\ttotal: 725ms\tremaining: 838ms\n",
      "464:\tlearn: 47.3666322\ttotal: 727ms\tremaining: 836ms\n",
      "465:\tlearn: 47.3464928\ttotal: 728ms\tremaining: 834ms\n",
      "466:\tlearn: 47.2945818\ttotal: 729ms\tremaining: 832ms\n",
      "467:\tlearn: 47.2091538\ttotal: 730ms\tremaining: 830ms\n",
      "468:\tlearn: 47.1752773\ttotal: 731ms\tremaining: 828ms\n",
      "469:\tlearn: 47.0737274\ttotal: 733ms\tremaining: 826ms\n",
      "470:\tlearn: 46.9980994\ttotal: 734ms\tremaining: 824ms\n",
      "471:\tlearn: 46.8137433\ttotal: 736ms\tremaining: 823ms\n",
      "472:\tlearn: 46.6240134\ttotal: 737ms\tremaining: 821ms\n",
      "473:\tlearn: 46.5708746\ttotal: 738ms\tremaining: 819ms\n",
      "474:\tlearn: 46.4848595\ttotal: 740ms\tremaining: 817ms\n",
      "475:\tlearn: 46.4431267\ttotal: 741ms\tremaining: 815ms\n",
      "476:\tlearn: 46.3860449\ttotal: 742ms\tremaining: 814ms\n",
      "477:\tlearn: 46.3535262\ttotal: 743ms\tremaining: 812ms\n",
      "478:\tlearn: 46.2546143\ttotal: 745ms\tremaining: 810ms\n",
      "479:\tlearn: 46.1529315\ttotal: 746ms\tremaining: 808ms\n",
      "480:\tlearn: 46.1238037\ttotal: 747ms\tremaining: 806ms\n",
      "481:\tlearn: 45.9740471\ttotal: 748ms\tremaining: 804ms\n",
      "482:\tlearn: 45.9198349\ttotal: 750ms\tremaining: 803ms\n",
      "483:\tlearn: 45.6942463\ttotal: 751ms\tremaining: 801ms\n",
      "484:\tlearn: 45.6498544\ttotal: 753ms\tremaining: 799ms\n",
      "485:\tlearn: 45.6215240\ttotal: 754ms\tremaining: 797ms\n",
      "486:\tlearn: 45.5072276\ttotal: 755ms\tremaining: 795ms\n",
      "487:\tlearn: 45.4619952\ttotal: 756ms\tremaining: 793ms\n",
      "488:\tlearn: 45.4355339\ttotal: 758ms\tremaining: 792ms\n",
      "489:\tlearn: 45.3740094\ttotal: 759ms\tremaining: 790ms\n",
      "490:\tlearn: 45.3196846\ttotal: 760ms\tremaining: 788ms\n",
      "491:\tlearn: 45.2878621\ttotal: 762ms\tremaining: 786ms\n",
      "492:\tlearn: 45.2295825\ttotal: 763ms\tremaining: 784ms\n",
      "493:\tlearn: 45.1951556\ttotal: 764ms\tremaining: 783ms\n",
      "494:\tlearn: 45.1736274\ttotal: 766ms\tremaining: 782ms\n",
      "495:\tlearn: 45.0939232\ttotal: 767ms\tremaining: 780ms\n",
      "496:\tlearn: 45.0861600\ttotal: 769ms\tremaining: 778ms\n",
      "497:\tlearn: 44.9725137\ttotal: 770ms\tremaining: 776ms\n",
      "498:\tlearn: 44.9251381\ttotal: 771ms\tremaining: 775ms\n",
      "499:\tlearn: 44.7432171\ttotal: 773ms\tremaining: 773ms\n",
      "500:\tlearn: 44.6980073\ttotal: 774ms\tremaining: 771ms\n",
      "501:\tlearn: 44.6039156\ttotal: 775ms\tremaining: 769ms\n",
      "502:\tlearn: 44.5268344\ttotal: 777ms\tremaining: 767ms\n",
      "503:\tlearn: 44.4347926\ttotal: 778ms\tremaining: 766ms\n",
      "504:\tlearn: 44.3982958\ttotal: 780ms\tremaining: 764ms\n",
      "505:\tlearn: 44.3394118\ttotal: 781ms\tremaining: 763ms\n",
      "506:\tlearn: 44.2011114\ttotal: 783ms\tremaining: 761ms\n",
      "507:\tlearn: 44.1366793\ttotal: 784ms\tremaining: 759ms\n",
      "508:\tlearn: 43.9573377\ttotal: 785ms\tremaining: 757ms\n",
      "509:\tlearn: 43.8552686\ttotal: 786ms\tremaining: 756ms\n",
      "510:\tlearn: 43.8364308\ttotal: 788ms\tremaining: 754ms\n",
      "511:\tlearn: 43.8229008\ttotal: 789ms\tremaining: 752ms\n",
      "512:\tlearn: 43.7752110\ttotal: 790ms\tremaining: 750ms\n",
      "513:\tlearn: 43.7465413\ttotal: 792ms\tremaining: 749ms\n",
      "514:\tlearn: 43.6866438\ttotal: 793ms\tremaining: 747ms\n",
      "515:\tlearn: 43.6144800\ttotal: 795ms\tremaining: 745ms\n",
      "516:\tlearn: 43.5617842\ttotal: 796ms\tremaining: 744ms\n",
      "517:\tlearn: 43.4568006\ttotal: 798ms\tremaining: 742ms\n",
      "518:\tlearn: 43.3807613\ttotal: 799ms\tremaining: 741ms\n",
      "519:\tlearn: 43.3208520\ttotal: 800ms\tremaining: 739ms\n",
      "520:\tlearn: 43.1786158\ttotal: 802ms\tremaining: 737ms\n",
      "521:\tlearn: 43.1269571\ttotal: 803ms\tremaining: 735ms\n"
     ]
    },
    {
     "name": "stdout",
     "output_type": "stream",
     "text": [
      "522:\tlearn: 43.0640784\ttotal: 804ms\tremaining: 734ms\n",
      "523:\tlearn: 43.0283748\ttotal: 806ms\tremaining: 732ms\n",
      "524:\tlearn: 42.9761474\ttotal: 807ms\tremaining: 730ms\n",
      "525:\tlearn: 42.9349799\ttotal: 809ms\tremaining: 729ms\n",
      "526:\tlearn: 42.8674937\ttotal: 810ms\tremaining: 727ms\n",
      "527:\tlearn: 42.7630351\ttotal: 811ms\tremaining: 725ms\n",
      "528:\tlearn: 42.6782997\ttotal: 813ms\tremaining: 724ms\n",
      "529:\tlearn: 42.6723582\ttotal: 814ms\tremaining: 722ms\n",
      "530:\tlearn: 42.6318742\ttotal: 816ms\tremaining: 720ms\n",
      "531:\tlearn: 42.5875155\ttotal: 817ms\tremaining: 719ms\n",
      "532:\tlearn: 42.5798314\ttotal: 818ms\tremaining: 717ms\n",
      "533:\tlearn: 42.5125850\ttotal: 820ms\tremaining: 715ms\n",
      "534:\tlearn: 42.4884449\ttotal: 821ms\tremaining: 714ms\n",
      "535:\tlearn: 42.4619968\ttotal: 823ms\tremaining: 712ms\n",
      "536:\tlearn: 42.4173541\ttotal: 824ms\tremaining: 711ms\n",
      "537:\tlearn: 42.3584245\ttotal: 826ms\tremaining: 709ms\n",
      "538:\tlearn: 42.3251257\ttotal: 827ms\tremaining: 707ms\n",
      "539:\tlearn: 42.2981188\ttotal: 828ms\tremaining: 706ms\n",
      "540:\tlearn: 42.2038935\ttotal: 829ms\tremaining: 704ms\n",
      "541:\tlearn: 42.2003110\ttotal: 831ms\tremaining: 702ms\n",
      "542:\tlearn: 42.1704738\ttotal: 832ms\tremaining: 700ms\n",
      "543:\tlearn: 42.1617975\ttotal: 833ms\tremaining: 698ms\n",
      "544:\tlearn: 42.1362500\ttotal: 834ms\tremaining: 697ms\n",
      "545:\tlearn: 42.1236943\ttotal: 836ms\tremaining: 695ms\n",
      "546:\tlearn: 42.0601970\ttotal: 837ms\tremaining: 693ms\n",
      "547:\tlearn: 42.0369058\ttotal: 838ms\tremaining: 691ms\n",
      "548:\tlearn: 42.0047166\ttotal: 840ms\tremaining: 690ms\n",
      "549:\tlearn: 41.9561933\ttotal: 841ms\tremaining: 688ms\n",
      "550:\tlearn: 41.8470383\ttotal: 842ms\tremaining: 686ms\n",
      "551:\tlearn: 41.7514233\ttotal: 843ms\tremaining: 684ms\n",
      "552:\tlearn: 41.6932589\ttotal: 845ms\tremaining: 683ms\n",
      "553:\tlearn: 41.6384230\ttotal: 846ms\tremaining: 681ms\n",
      "554:\tlearn: 41.5913149\ttotal: 847ms\tremaining: 679ms\n",
      "555:\tlearn: 41.5343762\ttotal: 849ms\tremaining: 678ms\n",
      "556:\tlearn: 41.4097804\ttotal: 850ms\tremaining: 676ms\n",
      "557:\tlearn: 41.3973799\ttotal: 851ms\tremaining: 674ms\n",
      "558:\tlearn: 41.3131544\ttotal: 853ms\tremaining: 673ms\n",
      "559:\tlearn: 41.2715793\ttotal: 854ms\tremaining: 671ms\n",
      "560:\tlearn: 41.2582718\ttotal: 855ms\tremaining: 669ms\n",
      "561:\tlearn: 41.2386144\ttotal: 857ms\tremaining: 668ms\n",
      "562:\tlearn: 41.2071839\ttotal: 858ms\tremaining: 666ms\n",
      "563:\tlearn: 41.1565236\ttotal: 859ms\tremaining: 664ms\n",
      "564:\tlearn: 41.0540311\ttotal: 860ms\tremaining: 662ms\n",
      "565:\tlearn: 41.0427508\ttotal: 861ms\tremaining: 660ms\n",
      "566:\tlearn: 40.9813983\ttotal: 863ms\tremaining: 659ms\n",
      "567:\tlearn: 40.9162531\ttotal: 864ms\tremaining: 657ms\n",
      "568:\tlearn: 40.8699104\ttotal: 865ms\tremaining: 655ms\n",
      "569:\tlearn: 40.8134431\ttotal: 875ms\tremaining: 660ms\n",
      "570:\tlearn: 40.7541709\ttotal: 877ms\tremaining: 659ms\n",
      "571:\tlearn: 40.6782559\ttotal: 878ms\tremaining: 657ms\n",
      "572:\tlearn: 40.6487110\ttotal: 879ms\tremaining: 655ms\n",
      "573:\tlearn: 40.6368155\ttotal: 880ms\tremaining: 653ms\n",
      "574:\tlearn: 40.5884153\ttotal: 882ms\tremaining: 652ms\n",
      "575:\tlearn: 40.5718817\ttotal: 883ms\tremaining: 650ms\n",
      "576:\tlearn: 40.3769379\ttotal: 884ms\tremaining: 648ms\n",
      "577:\tlearn: 40.3446101\ttotal: 885ms\tremaining: 646ms\n",
      "578:\tlearn: 40.2571063\ttotal: 886ms\tremaining: 644ms\n",
      "579:\tlearn: 40.2422077\ttotal: 887ms\tremaining: 643ms\n",
      "580:\tlearn: 40.2305720\ttotal: 889ms\tremaining: 641ms\n",
      "581:\tlearn: 40.1843777\ttotal: 890ms\tremaining: 639ms\n",
      "582:\tlearn: 40.0492158\ttotal: 891ms\tremaining: 637ms\n",
      "583:\tlearn: 40.0039904\ttotal: 892ms\tremaining: 635ms\n",
      "584:\tlearn: 39.9150718\ttotal: 893ms\tremaining: 634ms\n",
      "585:\tlearn: 39.9032859\ttotal: 894ms\tremaining: 632ms\n",
      "586:\tlearn: 39.8773552\ttotal: 896ms\tremaining: 630ms\n",
      "587:\tlearn: 39.7600603\ttotal: 897ms\tremaining: 628ms\n",
      "588:\tlearn: 39.7416655\ttotal: 898ms\tremaining: 627ms\n",
      "589:\tlearn: 39.6711044\ttotal: 899ms\tremaining: 625ms\n",
      "590:\tlearn: 39.5909537\ttotal: 900ms\tremaining: 623ms\n",
      "591:\tlearn: 39.5009122\ttotal: 902ms\tremaining: 621ms\n",
      "592:\tlearn: 39.4039822\ttotal: 903ms\tremaining: 620ms\n",
      "593:\tlearn: 39.3769036\ttotal: 905ms\tremaining: 618ms\n",
      "594:\tlearn: 39.2592102\ttotal: 906ms\tremaining: 617ms\n",
      "595:\tlearn: 39.2446291\ttotal: 908ms\tremaining: 615ms\n",
      "596:\tlearn: 39.2163045\ttotal: 909ms\tremaining: 614ms\n",
      "597:\tlearn: 39.1937923\ttotal: 911ms\tremaining: 613ms\n",
      "598:\tlearn: 39.1649348\ttotal: 913ms\tremaining: 611ms\n",
      "599:\tlearn: 39.1573195\ttotal: 914ms\tremaining: 610ms\n",
      "600:\tlearn: 39.0902841\ttotal: 916ms\tremaining: 608ms\n",
      "601:\tlearn: 39.0514971\ttotal: 917ms\tremaining: 606ms\n",
      "602:\tlearn: 39.0008410\ttotal: 919ms\tremaining: 605ms\n",
      "603:\tlearn: 38.9735164\ttotal: 920ms\tremaining: 603ms\n",
      "604:\tlearn: 38.9397844\ttotal: 921ms\tremaining: 601ms\n",
      "605:\tlearn: 38.9332018\ttotal: 922ms\tremaining: 600ms\n",
      "606:\tlearn: 38.8680434\ttotal: 924ms\tremaining: 598ms\n",
      "607:\tlearn: 38.7556453\ttotal: 926ms\tremaining: 597ms\n",
      "608:\tlearn: 38.6822507\ttotal: 927ms\tremaining: 595ms\n",
      "609:\tlearn: 38.5968721\ttotal: 929ms\tremaining: 594ms\n",
      "610:\tlearn: 38.5237458\ttotal: 930ms\tremaining: 592ms\n",
      "611:\tlearn: 38.4641402\ttotal: 931ms\tremaining: 590ms\n",
      "612:\tlearn: 38.4212609\ttotal: 932ms\tremaining: 589ms\n",
      "613:\tlearn: 38.3617418\ttotal: 934ms\tremaining: 587ms\n",
      "614:\tlearn: 38.2933192\ttotal: 935ms\tremaining: 586ms\n",
      "615:\tlearn: 38.2031307\ttotal: 937ms\tremaining: 584ms\n",
      "616:\tlearn: 38.1411857\ttotal: 938ms\tremaining: 582ms\n",
      "617:\tlearn: 38.1271753\ttotal: 940ms\tremaining: 581ms\n",
      "618:\tlearn: 38.0751577\ttotal: 941ms\tremaining: 579ms\n",
      "619:\tlearn: 38.0192963\ttotal: 943ms\tremaining: 578ms\n",
      "620:\tlearn: 37.9977726\ttotal: 944ms\tremaining: 576ms\n",
      "621:\tlearn: 37.9477350\ttotal: 946ms\tremaining: 575ms\n",
      "622:\tlearn: 37.8525434\ttotal: 947ms\tremaining: 573ms\n",
      "623:\tlearn: 37.8222790\ttotal: 948ms\tremaining: 571ms\n",
      "624:\tlearn: 37.7530612\ttotal: 950ms\tremaining: 570ms\n",
      "625:\tlearn: 37.6670124\ttotal: 951ms\tremaining: 568ms\n",
      "626:\tlearn: 37.6487315\ttotal: 953ms\tremaining: 567ms\n",
      "627:\tlearn: 37.5941885\ttotal: 955ms\tremaining: 566ms\n",
      "628:\tlearn: 37.5707908\ttotal: 956ms\tremaining: 564ms\n",
      "629:\tlearn: 37.5482400\ttotal: 958ms\tremaining: 563ms\n",
      "630:\tlearn: 37.4688895\ttotal: 960ms\tremaining: 561ms\n",
      "631:\tlearn: 37.4599768\ttotal: 961ms\tremaining: 560ms\n",
      "632:\tlearn: 37.3950367\ttotal: 962ms\tremaining: 558ms\n",
      "633:\tlearn: 37.3728025\ttotal: 964ms\tremaining: 556ms\n",
      "634:\tlearn: 37.3363614\ttotal: 965ms\tremaining: 555ms\n",
      "635:\tlearn: 37.1932213\ttotal: 967ms\tremaining: 553ms\n",
      "636:\tlearn: 37.0338452\ttotal: 968ms\tremaining: 552ms\n",
      "637:\tlearn: 36.9737478\ttotal: 970ms\tremaining: 550ms\n",
      "638:\tlearn: 36.9634957\ttotal: 971ms\tremaining: 549ms\n",
      "639:\tlearn: 36.9410461\ttotal: 973ms\tremaining: 547ms\n",
      "640:\tlearn: 36.9167512\ttotal: 974ms\tremaining: 545ms\n",
      "641:\tlearn: 36.8891115\ttotal: 975ms\tremaining: 544ms\n",
      "642:\tlearn: 36.8743738\ttotal: 976ms\tremaining: 542ms\n",
      "643:\tlearn: 36.8503524\ttotal: 978ms\tremaining: 540ms\n",
      "644:\tlearn: 36.8281480\ttotal: 979ms\tremaining: 539ms\n",
      "645:\tlearn: 36.8149535\ttotal: 980ms\tremaining: 537ms\n",
      "646:\tlearn: 36.7680801\ttotal: 981ms\tremaining: 536ms\n",
      "647:\tlearn: 36.7508809\ttotal: 983ms\tremaining: 534ms\n",
      "648:\tlearn: 36.7353065\ttotal: 984ms\tremaining: 532ms\n",
      "649:\tlearn: 36.6606555\ttotal: 985ms\tremaining: 531ms\n",
      "650:\tlearn: 36.6539307\ttotal: 987ms\tremaining: 529ms\n",
      "651:\tlearn: 36.6300942\ttotal: 988ms\tremaining: 527ms\n",
      "652:\tlearn: 36.6236782\ttotal: 989ms\tremaining: 526ms\n",
      "653:\tlearn: 36.5024327\ttotal: 990ms\tremaining: 524ms\n",
      "654:\tlearn: 36.4915528\ttotal: 992ms\tremaining: 523ms\n",
      "655:\tlearn: 36.4589244\ttotal: 994ms\tremaining: 521ms\n",
      "656:\tlearn: 36.4339135\ttotal: 995ms\tremaining: 519ms\n",
      "657:\tlearn: 36.3811165\ttotal: 996ms\tremaining: 518ms\n",
      "658:\tlearn: 36.3640005\ttotal: 998ms\tremaining: 516ms\n",
      "659:\tlearn: 36.2637661\ttotal: 999ms\tremaining: 515ms\n",
      "660:\tlearn: 36.2312382\ttotal: 1s\tremaining: 513ms\n",
      "661:\tlearn: 36.2263470\ttotal: 1s\tremaining: 512ms\n",
      "662:\tlearn: 36.1626898\ttotal: 1s\tremaining: 510ms\n",
      "663:\tlearn: 36.1185029\ttotal: 1s\tremaining: 508ms\n",
      "664:\tlearn: 36.0735070\ttotal: 1s\tremaining: 507ms\n",
      "665:\tlearn: 35.9990539\ttotal: 1.01s\tremaining: 505ms\n",
      "666:\tlearn: 35.9191435\ttotal: 1.01s\tremaining: 504ms\n",
      "667:\tlearn: 35.8981211\ttotal: 1.01s\tremaining: 502ms\n",
      "668:\tlearn: 35.8726532\ttotal: 1.01s\tremaining: 501ms\n",
      "669:\tlearn: 35.8519146\ttotal: 1.01s\tremaining: 499ms\n",
      "670:\tlearn: 35.8301981\ttotal: 1.01s\tremaining: 497ms\n",
      "671:\tlearn: 35.8165155\ttotal: 1.01s\tremaining: 496ms\n",
      "672:\tlearn: 35.7069994\ttotal: 1.02s\tremaining: 494ms\n",
      "673:\tlearn: 35.5563340\ttotal: 1.02s\tremaining: 492ms\n",
      "674:\tlearn: 35.3457304\ttotal: 1.02s\tremaining: 491ms\n",
      "675:\tlearn: 35.2836096\ttotal: 1.02s\tremaining: 489ms\n",
      "676:\tlearn: 35.2616616\ttotal: 1.02s\tremaining: 488ms\n",
      "677:\tlearn: 35.2084572\ttotal: 1.02s\tremaining: 486ms\n",
      "678:\tlearn: 35.1618053\ttotal: 1.02s\tremaining: 484ms\n",
      "679:\tlearn: 35.1340243\ttotal: 1.03s\tremaining: 483ms\n",
      "680:\tlearn: 35.0867024\ttotal: 1.03s\tremaining: 481ms\n",
      "681:\tlearn: 35.0140424\ttotal: 1.03s\tremaining: 480ms\n",
      "682:\tlearn: 35.0046744\ttotal: 1.03s\tremaining: 478ms\n",
      "683:\tlearn: 34.9749508\ttotal: 1.03s\tremaining: 477ms\n",
      "684:\tlearn: 34.9409868\ttotal: 1.03s\tremaining: 475ms\n",
      "685:\tlearn: 34.8982135\ttotal: 1.03s\tremaining: 473ms\n",
      "686:\tlearn: 34.8684546\ttotal: 1.03s\tremaining: 472ms\n",
      "687:\tlearn: 34.8359968\ttotal: 1.04s\tremaining: 470ms\n",
      "688:\tlearn: 34.7477626\ttotal: 1.04s\tremaining: 468ms\n",
      "689:\tlearn: 34.6613652\ttotal: 1.04s\tremaining: 467ms\n",
      "690:\tlearn: 34.6512057\ttotal: 1.04s\tremaining: 465ms\n",
      "691:\tlearn: 34.5516059\ttotal: 1.04s\tremaining: 464ms\n",
      "692:\tlearn: 34.5380710\ttotal: 1.04s\tremaining: 462ms\n",
      "693:\tlearn: 34.3700588\ttotal: 1.04s\tremaining: 460ms\n",
      "694:\tlearn: 34.3638136\ttotal: 1.04s\tremaining: 459ms\n",
      "695:\tlearn: 34.3100713\ttotal: 1.05s\tremaining: 457ms\n",
      "696:\tlearn: 34.2191191\ttotal: 1.05s\tremaining: 456ms\n",
      "697:\tlearn: 34.1915825\ttotal: 1.05s\tremaining: 454ms\n",
      "698:\tlearn: 34.1797778\ttotal: 1.05s\tremaining: 453ms\n",
      "699:\tlearn: 34.1689888\ttotal: 1.05s\tremaining: 451ms\n",
      "700:\tlearn: 34.1146420\ttotal: 1.05s\tremaining: 449ms\n",
      "701:\tlearn: 34.0888071\ttotal: 1.05s\tremaining: 448ms\n",
      "702:\tlearn: 34.0838363\ttotal: 1.06s\tremaining: 446ms\n",
      "703:\tlearn: 34.0357543\ttotal: 1.06s\tremaining: 445ms\n",
      "704:\tlearn: 34.0011443\ttotal: 1.06s\tremaining: 443ms\n",
      "705:\tlearn: 33.9967445\ttotal: 1.06s\tremaining: 442ms\n",
      "706:\tlearn: 33.9082362\ttotal: 1.06s\tremaining: 440ms\n",
      "707:\tlearn: 33.8499202\ttotal: 1.06s\tremaining: 438ms\n",
      "708:\tlearn: 33.7902132\ttotal: 1.06s\tremaining: 437ms\n",
      "709:\tlearn: 33.7808315\ttotal: 1.06s\tremaining: 435ms\n",
      "710:\tlearn: 33.7530160\ttotal: 1.07s\tremaining: 433ms\n",
      "711:\tlearn: 33.7133131\ttotal: 1.07s\tremaining: 432ms\n",
      "712:\tlearn: 33.6311382\ttotal: 1.07s\tremaining: 430ms\n",
      "713:\tlearn: 33.6196517\ttotal: 1.07s\tremaining: 429ms\n",
      "714:\tlearn: 33.5320208\ttotal: 1.07s\tremaining: 427ms\n",
      "715:\tlearn: 33.4834979\ttotal: 1.07s\tremaining: 426ms\n",
      "716:\tlearn: 33.4653500\ttotal: 1.07s\tremaining: 424ms\n",
      "717:\tlearn: 33.4292874\ttotal: 1.08s\tremaining: 423ms\n",
      "718:\tlearn: 33.3816715\ttotal: 1.08s\tremaining: 421ms\n",
      "719:\tlearn: 33.3622247\ttotal: 1.08s\tremaining: 419ms\n",
      "720:\tlearn: 33.3480637\ttotal: 1.08s\tremaining: 418ms\n",
      "721:\tlearn: 33.3401744\ttotal: 1.08s\tremaining: 416ms\n",
      "722:\tlearn: 33.3352054\ttotal: 1.08s\tremaining: 415ms\n",
      "723:\tlearn: 33.2955752\ttotal: 1.08s\tremaining: 413ms\n",
      "724:\tlearn: 33.2288673\ttotal: 1.08s\tremaining: 412ms\n",
      "725:\tlearn: 33.1625469\ttotal: 1.09s\tremaining: 410ms\n",
      "726:\tlearn: 33.1419513\ttotal: 1.09s\tremaining: 409ms\n",
      "727:\tlearn: 33.0678230\ttotal: 1.09s\tremaining: 407ms\n",
      "728:\tlearn: 33.0546910\ttotal: 1.09s\tremaining: 406ms\n",
      "729:\tlearn: 33.0450811\ttotal: 1.09s\tremaining: 404ms\n",
      "730:\tlearn: 33.0014534\ttotal: 1.09s\tremaining: 403ms\n",
      "731:\tlearn: 32.9988922\ttotal: 1.09s\tremaining: 401ms\n",
      "732:\tlearn: 32.9957496\ttotal: 1.1s\tremaining: 400ms\n",
      "733:\tlearn: 32.9773872\ttotal: 1.1s\tremaining: 398ms\n",
      "734:\tlearn: 32.9628614\ttotal: 1.1s\tremaining: 397ms\n",
      "735:\tlearn: 32.9530508\ttotal: 1.1s\tremaining: 395ms\n",
      "736:\tlearn: 32.9434360\ttotal: 1.1s\tremaining: 394ms\n",
      "737:\tlearn: 32.9391648\ttotal: 1.1s\tremaining: 392ms\n",
      "738:\tlearn: 32.9046109\ttotal: 1.1s\tremaining: 390ms\n",
      "739:\tlearn: 32.8396496\ttotal: 1.11s\tremaining: 389ms\n",
      "740:\tlearn: 32.8231735\ttotal: 1.11s\tremaining: 387ms\n",
      "741:\tlearn: 32.7578927\ttotal: 1.11s\tremaining: 386ms\n",
      "742:\tlearn: 32.6590975\ttotal: 1.11s\tremaining: 384ms\n",
      "743:\tlearn: 32.6524690\ttotal: 1.11s\tremaining: 383ms\n",
      "744:\tlearn: 32.6119930\ttotal: 1.11s\tremaining: 381ms\n",
      "745:\tlearn: 32.6052312\ttotal: 1.11s\tremaining: 380ms\n",
      "746:\tlearn: 32.5735473\ttotal: 1.12s\tremaining: 378ms\n",
      "747:\tlearn: 32.5280323\ttotal: 1.12s\tremaining: 377ms\n",
      "748:\tlearn: 32.4876021\ttotal: 1.12s\tremaining: 375ms\n",
      "749:\tlearn: 32.4747151\ttotal: 1.12s\tremaining: 374ms\n",
      "750:\tlearn: 32.4549020\ttotal: 1.12s\tremaining: 372ms\n",
      "751:\tlearn: 32.4231686\ttotal: 1.12s\tremaining: 370ms\n",
      "752:\tlearn: 32.3861318\ttotal: 1.12s\tremaining: 369ms\n",
      "753:\tlearn: 32.3764742\ttotal: 1.13s\tremaining: 367ms\n",
      "754:\tlearn: 32.3519104\ttotal: 1.14s\tremaining: 368ms\n"
     ]
    },
    {
     "name": "stdout",
     "output_type": "stream",
     "text": [
      "755:\tlearn: 32.2363530\ttotal: 1.14s\tremaining: 367ms\n",
      "756:\tlearn: 32.2280945\ttotal: 1.14s\tremaining: 365ms\n",
      "757:\tlearn: 32.1572423\ttotal: 1.14s\tremaining: 364ms\n",
      "758:\tlearn: 32.1049591\ttotal: 1.14s\tremaining: 362ms\n",
      "759:\tlearn: 32.0623314\ttotal: 1.14s\tremaining: 361ms\n",
      "760:\tlearn: 32.0459880\ttotal: 1.14s\tremaining: 359ms\n",
      "761:\tlearn: 32.0227347\ttotal: 1.15s\tremaining: 358ms\n",
      "762:\tlearn: 31.9746317\ttotal: 1.15s\tremaining: 356ms\n",
      "763:\tlearn: 31.9629631\ttotal: 1.15s\tremaining: 355ms\n",
      "764:\tlearn: 31.9300870\ttotal: 1.15s\tremaining: 353ms\n",
      "765:\tlearn: 31.8913618\ttotal: 1.15s\tremaining: 352ms\n",
      "766:\tlearn: 31.8313056\ttotal: 1.15s\tremaining: 350ms\n",
      "767:\tlearn: 31.7886491\ttotal: 1.15s\tremaining: 349ms\n",
      "768:\tlearn: 31.7341394\ttotal: 1.16s\tremaining: 347ms\n",
      "769:\tlearn: 31.7221335\ttotal: 1.16s\tremaining: 346ms\n",
      "770:\tlearn: 31.6801131\ttotal: 1.16s\tremaining: 344ms\n",
      "771:\tlearn: 31.6715175\ttotal: 1.16s\tremaining: 342ms\n",
      "772:\tlearn: 31.6077789\ttotal: 1.16s\tremaining: 341ms\n",
      "773:\tlearn: 31.6012289\ttotal: 1.16s\tremaining: 339ms\n",
      "774:\tlearn: 31.5635659\ttotal: 1.16s\tremaining: 338ms\n",
      "775:\tlearn: 31.4492488\ttotal: 1.16s\tremaining: 336ms\n",
      "776:\tlearn: 31.4381641\ttotal: 1.17s\tremaining: 335ms\n",
      "777:\tlearn: 31.3694877\ttotal: 1.17s\tremaining: 333ms\n",
      "778:\tlearn: 31.3351103\ttotal: 1.17s\tremaining: 331ms\n",
      "779:\tlearn: 31.2604275\ttotal: 1.17s\tremaining: 330ms\n",
      "780:\tlearn: 31.2374634\ttotal: 1.17s\tremaining: 328ms\n",
      "781:\tlearn: 31.2357227\ttotal: 1.17s\tremaining: 327ms\n",
      "782:\tlearn: 31.2247282\ttotal: 1.17s\tremaining: 325ms\n",
      "783:\tlearn: 31.1201845\ttotal: 1.18s\tremaining: 324ms\n",
      "784:\tlearn: 31.0483055\ttotal: 1.18s\tremaining: 322ms\n",
      "785:\tlearn: 30.9952336\ttotal: 1.18s\tremaining: 321ms\n",
      "786:\tlearn: 30.9883491\ttotal: 1.18s\tremaining: 319ms\n",
      "787:\tlearn: 30.9444823\ttotal: 1.18s\tremaining: 318ms\n",
      "788:\tlearn: 30.9371874\ttotal: 1.18s\tremaining: 316ms\n",
      "789:\tlearn: 30.8367146\ttotal: 1.18s\tremaining: 314ms\n",
      "790:\tlearn: 30.8200696\ttotal: 1.18s\tremaining: 313ms\n",
      "791:\tlearn: 30.8036161\ttotal: 1.19s\tremaining: 311ms\n",
      "792:\tlearn: 30.7940291\ttotal: 1.19s\tremaining: 310ms\n",
      "793:\tlearn: 30.7135166\ttotal: 1.19s\tremaining: 309ms\n",
      "794:\tlearn: 30.6915092\ttotal: 1.19s\tremaining: 307ms\n",
      "795:\tlearn: 30.6734996\ttotal: 1.19s\tremaining: 305ms\n",
      "796:\tlearn: 30.6061195\ttotal: 1.19s\tremaining: 304ms\n",
      "797:\tlearn: 30.5938824\ttotal: 1.19s\tremaining: 302ms\n",
      "798:\tlearn: 30.5474823\ttotal: 1.2s\tremaining: 301ms\n",
      "799:\tlearn: 30.5365331\ttotal: 1.2s\tremaining: 299ms\n",
      "800:\tlearn: 30.4747549\ttotal: 1.2s\tremaining: 297ms\n",
      "801:\tlearn: 30.4593089\ttotal: 1.2s\tremaining: 296ms\n",
      "802:\tlearn: 30.4451384\ttotal: 1.2s\tremaining: 295ms\n",
      "803:\tlearn: 30.3869519\ttotal: 1.2s\tremaining: 293ms\n",
      "804:\tlearn: 30.3176550\ttotal: 1.2s\tremaining: 291ms\n",
      "805:\tlearn: 30.3142895\ttotal: 1.2s\tremaining: 290ms\n",
      "806:\tlearn: 30.3085303\ttotal: 1.21s\tremaining: 288ms\n",
      "807:\tlearn: 30.3038832\ttotal: 1.21s\tremaining: 287ms\n",
      "808:\tlearn: 30.2669410\ttotal: 1.21s\tremaining: 285ms\n",
      "809:\tlearn: 30.1512070\ttotal: 1.21s\tremaining: 284ms\n",
      "810:\tlearn: 30.0966862\ttotal: 1.21s\tremaining: 282ms\n",
      "811:\tlearn: 30.0915899\ttotal: 1.21s\tremaining: 281ms\n",
      "812:\tlearn: 30.0816890\ttotal: 1.21s\tremaining: 279ms\n",
      "813:\tlearn: 30.0671648\ttotal: 1.21s\tremaining: 278ms\n",
      "814:\tlearn: 30.0654662\ttotal: 1.22s\tremaining: 276ms\n",
      "815:\tlearn: 30.0606113\ttotal: 1.22s\tremaining: 274ms\n",
      "816:\tlearn: 30.0527879\ttotal: 1.22s\tremaining: 273ms\n",
      "817:\tlearn: 30.0445455\ttotal: 1.22s\tremaining: 271ms\n",
      "818:\tlearn: 30.0396644\ttotal: 1.22s\tremaining: 270ms\n",
      "819:\tlearn: 30.0038723\ttotal: 1.22s\tremaining: 268ms\n",
      "820:\tlearn: 29.9339575\ttotal: 1.22s\tremaining: 267ms\n",
      "821:\tlearn: 29.9217952\ttotal: 1.22s\tremaining: 265ms\n",
      "822:\tlearn: 29.9056587\ttotal: 1.23s\tremaining: 264ms\n",
      "823:\tlearn: 29.8748256\ttotal: 1.23s\tremaining: 262ms\n",
      "824:\tlearn: 29.8376714\ttotal: 1.23s\tremaining: 261ms\n",
      "825:\tlearn: 29.7997080\ttotal: 1.23s\tremaining: 259ms\n",
      "826:\tlearn: 29.7955576\ttotal: 1.23s\tremaining: 258ms\n",
      "827:\tlearn: 29.7796225\ttotal: 1.23s\tremaining: 256ms\n",
      "828:\tlearn: 29.7448054\ttotal: 1.23s\tremaining: 254ms\n",
      "829:\tlearn: 29.7383486\ttotal: 1.23s\tremaining: 253ms\n",
      "830:\tlearn: 29.7327120\ttotal: 1.24s\tremaining: 251ms\n",
      "831:\tlearn: 29.6990070\ttotal: 1.24s\tremaining: 250ms\n",
      "832:\tlearn: 29.6908236\ttotal: 1.24s\tremaining: 248ms\n",
      "833:\tlearn: 29.6889916\ttotal: 1.24s\tremaining: 247ms\n",
      "834:\tlearn: 29.6342692\ttotal: 1.24s\tremaining: 245ms\n",
      "835:\tlearn: 29.6290141\ttotal: 1.24s\tremaining: 244ms\n",
      "836:\tlearn: 29.5984934\ttotal: 1.24s\tremaining: 242ms\n",
      "837:\tlearn: 29.5768506\ttotal: 1.24s\tremaining: 241ms\n",
      "838:\tlearn: 29.5722692\ttotal: 1.25s\tremaining: 239ms\n",
      "839:\tlearn: 29.5569385\ttotal: 1.25s\tremaining: 238ms\n",
      "840:\tlearn: 29.5500300\ttotal: 1.25s\tremaining: 236ms\n",
      "841:\tlearn: 29.5477980\ttotal: 1.25s\tremaining: 235ms\n",
      "842:\tlearn: 29.3970512\ttotal: 1.25s\tremaining: 233ms\n",
      "843:\tlearn: 29.3826276\ttotal: 1.25s\tremaining: 232ms\n",
      "844:\tlearn: 29.3677557\ttotal: 1.25s\tremaining: 230ms\n",
      "845:\tlearn: 29.3553683\ttotal: 1.25s\tremaining: 228ms\n",
      "846:\tlearn: 29.2983610\ttotal: 1.26s\tremaining: 227ms\n",
      "847:\tlearn: 29.2963571\ttotal: 1.26s\tremaining: 225ms\n",
      "848:\tlearn: 29.2926155\ttotal: 1.26s\tremaining: 224ms\n",
      "849:\tlearn: 29.2694906\ttotal: 1.26s\tremaining: 222ms\n",
      "850:\tlearn: 29.2499910\ttotal: 1.26s\tremaining: 221ms\n",
      "851:\tlearn: 29.2381442\ttotal: 1.26s\tremaining: 219ms\n",
      "852:\tlearn: 29.2338663\ttotal: 1.26s\tremaining: 218ms\n",
      "853:\tlearn: 29.1621172\ttotal: 1.26s\tremaining: 216ms\n",
      "854:\tlearn: 29.1544171\ttotal: 1.27s\tremaining: 215ms\n",
      "855:\tlearn: 29.1392843\ttotal: 1.27s\tremaining: 213ms\n",
      "856:\tlearn: 29.0982876\ttotal: 1.27s\tremaining: 212ms\n",
      "857:\tlearn: 29.0613261\ttotal: 1.27s\tremaining: 210ms\n",
      "858:\tlearn: 28.9013860\ttotal: 1.27s\tremaining: 209ms\n",
      "859:\tlearn: 28.8862950\ttotal: 1.27s\tremaining: 207ms\n",
      "860:\tlearn: 28.8789047\ttotal: 1.27s\tremaining: 206ms\n",
      "861:\tlearn: 28.8189487\ttotal: 1.28s\tremaining: 204ms\n",
      "862:\tlearn: 28.7910690\ttotal: 1.28s\tremaining: 203ms\n",
      "863:\tlearn: 28.7813036\ttotal: 1.28s\tremaining: 201ms\n",
      "864:\tlearn: 28.7317785\ttotal: 1.28s\tremaining: 200ms\n",
      "865:\tlearn: 28.7147322\ttotal: 1.28s\tremaining: 198ms\n",
      "866:\tlearn: 28.7072780\ttotal: 1.28s\tremaining: 197ms\n",
      "867:\tlearn: 28.6568467\ttotal: 1.28s\tremaining: 195ms\n",
      "868:\tlearn: 28.6382694\ttotal: 1.29s\tremaining: 194ms\n",
      "869:\tlearn: 28.6352632\ttotal: 1.29s\tremaining: 192ms\n",
      "870:\tlearn: 28.5973556\ttotal: 1.29s\tremaining: 191ms\n",
      "871:\tlearn: 28.5730607\ttotal: 1.29s\tremaining: 189ms\n",
      "872:\tlearn: 28.5388455\ttotal: 1.29s\tremaining: 188ms\n",
      "873:\tlearn: 28.4717671\ttotal: 1.29s\tremaining: 186ms\n",
      "874:\tlearn: 28.4305759\ttotal: 1.29s\tremaining: 185ms\n",
      "875:\tlearn: 28.3380860\ttotal: 1.29s\tremaining: 183ms\n",
      "876:\tlearn: 28.3155349\ttotal: 1.3s\tremaining: 182ms\n",
      "877:\tlearn: 28.2706872\ttotal: 1.3s\tremaining: 180ms\n",
      "878:\tlearn: 28.2623479\ttotal: 1.3s\tremaining: 179ms\n",
      "879:\tlearn: 28.2520377\ttotal: 1.3s\tremaining: 177ms\n",
      "880:\tlearn: 28.2255677\ttotal: 1.3s\tremaining: 176ms\n",
      "881:\tlearn: 28.1824749\ttotal: 1.3s\tremaining: 174ms\n",
      "882:\tlearn: 28.1761883\ttotal: 1.3s\tremaining: 173ms\n",
      "883:\tlearn: 28.1270294\ttotal: 1.31s\tremaining: 171ms\n",
      "884:\tlearn: 28.0940483\ttotal: 1.31s\tremaining: 170ms\n",
      "885:\tlearn: 28.0773503\ttotal: 1.31s\tremaining: 168ms\n",
      "886:\tlearn: 28.0544899\ttotal: 1.31s\tremaining: 167ms\n",
      "887:\tlearn: 28.0266285\ttotal: 1.31s\tremaining: 166ms\n",
      "888:\tlearn: 28.0195996\ttotal: 1.31s\tremaining: 164ms\n",
      "889:\tlearn: 28.0049685\ttotal: 1.31s\tremaining: 163ms\n",
      "890:\tlearn: 27.9805108\ttotal: 1.32s\tremaining: 161ms\n",
      "891:\tlearn: 27.9154066\ttotal: 1.32s\tremaining: 160ms\n",
      "892:\tlearn: 27.8716860\ttotal: 1.32s\tremaining: 158ms\n",
      "893:\tlearn: 27.8310037\ttotal: 1.32s\tremaining: 157ms\n",
      "894:\tlearn: 27.7908235\ttotal: 1.32s\tremaining: 155ms\n",
      "895:\tlearn: 27.6819360\ttotal: 1.32s\tremaining: 154ms\n",
      "896:\tlearn: 27.6507888\ttotal: 1.32s\tremaining: 152ms\n",
      "897:\tlearn: 27.6446244\ttotal: 1.32s\tremaining: 151ms\n",
      "898:\tlearn: 27.5975867\ttotal: 1.33s\tremaining: 149ms\n",
      "899:\tlearn: 27.5475230\ttotal: 1.33s\tremaining: 148ms\n",
      "900:\tlearn: 27.5317621\ttotal: 1.33s\tremaining: 146ms\n",
      "901:\tlearn: 27.5159792\ttotal: 1.33s\tremaining: 145ms\n",
      "902:\tlearn: 27.4976490\ttotal: 1.33s\tremaining: 143ms\n",
      "903:\tlearn: 27.4866523\ttotal: 1.33s\tremaining: 142ms\n",
      "904:\tlearn: 27.4236386\ttotal: 1.33s\tremaining: 140ms\n",
      "905:\tlearn: 27.3877531\ttotal: 1.34s\tremaining: 139ms\n",
      "906:\tlearn: 27.3307149\ttotal: 1.34s\tremaining: 137ms\n",
      "907:\tlearn: 27.2873513\ttotal: 1.34s\tremaining: 136ms\n",
      "908:\tlearn: 27.2812891\ttotal: 1.34s\tremaining: 134ms\n",
      "909:\tlearn: 27.1551072\ttotal: 1.34s\tremaining: 133ms\n",
      "910:\tlearn: 27.1492452\ttotal: 1.34s\tremaining: 131ms\n",
      "911:\tlearn: 27.1267503\ttotal: 1.34s\tremaining: 130ms\n",
      "912:\tlearn: 27.0808551\ttotal: 1.34s\tremaining: 128ms\n",
      "913:\tlearn: 27.0583035\ttotal: 1.35s\tremaining: 127ms\n",
      "914:\tlearn: 27.0294199\ttotal: 1.35s\tremaining: 125ms\n",
      "915:\tlearn: 27.0008155\ttotal: 1.35s\tremaining: 124ms\n",
      "916:\tlearn: 26.9941235\ttotal: 1.35s\tremaining: 122ms\n",
      "917:\tlearn: 26.9937879\ttotal: 1.35s\tremaining: 121ms\n",
      "918:\tlearn: 26.9438071\ttotal: 1.35s\tremaining: 119ms\n",
      "919:\tlearn: 26.9234771\ttotal: 1.35s\tremaining: 118ms\n",
      "920:\tlearn: 26.9120350\ttotal: 1.35s\tremaining: 116ms\n",
      "921:\tlearn: 26.8806274\ttotal: 1.36s\tremaining: 115ms\n",
      "922:\tlearn: 26.8762411\ttotal: 1.36s\tremaining: 113ms\n",
      "923:\tlearn: 26.8419949\ttotal: 1.36s\tremaining: 112ms\n",
      "924:\tlearn: 26.7745318\ttotal: 1.36s\tremaining: 110ms\n",
      "925:\tlearn: 26.7505935\ttotal: 1.36s\tremaining: 109ms\n",
      "926:\tlearn: 26.7224736\ttotal: 1.36s\tremaining: 107ms\n",
      "927:\tlearn: 26.6670389\ttotal: 1.36s\tremaining: 106ms\n",
      "928:\tlearn: 26.6493628\ttotal: 1.36s\tremaining: 104ms\n",
      "929:\tlearn: 26.6079930\ttotal: 1.37s\tremaining: 103ms\n",
      "930:\tlearn: 26.6023687\ttotal: 1.37s\tremaining: 101ms\n",
      "931:\tlearn: 26.5671816\ttotal: 1.37s\tremaining: 99.9ms\n",
      "932:\tlearn: 26.5001013\ttotal: 1.37s\tremaining: 98.4ms\n",
      "933:\tlearn: 26.4692968\ttotal: 1.37s\tremaining: 96.9ms\n",
      "934:\tlearn: 26.4608528\ttotal: 1.37s\tremaining: 95.4ms\n",
      "935:\tlearn: 26.4054931\ttotal: 1.37s\tremaining: 93.9ms\n",
      "936:\tlearn: 26.3573573\ttotal: 1.38s\tremaining: 92.5ms\n",
      "937:\tlearn: 26.2842495\ttotal: 1.38s\tremaining: 91ms\n",
      "938:\tlearn: 26.2678746\ttotal: 1.38s\tremaining: 89.5ms\n",
      "939:\tlearn: 26.2385394\ttotal: 1.38s\tremaining: 88ms\n",
      "940:\tlearn: 26.1991248\ttotal: 1.38s\tremaining: 86.5ms\n",
      "941:\tlearn: 26.1914554\ttotal: 1.38s\tremaining: 85ms\n",
      "942:\tlearn: 26.1367768\ttotal: 1.38s\tremaining: 83.6ms\n",
      "943:\tlearn: 26.0895396\ttotal: 1.38s\tremaining: 82.1ms\n",
      "944:\tlearn: 26.0777276\ttotal: 1.39s\tremaining: 80.6ms\n",
      "945:\tlearn: 26.0225465\ttotal: 1.39s\tremaining: 79.1ms\n",
      "946:\tlearn: 25.9795409\ttotal: 1.39s\tremaining: 77.7ms\n",
      "947:\tlearn: 25.9682295\ttotal: 1.39s\tremaining: 76.2ms\n",
      "948:\tlearn: 25.9207555\ttotal: 1.39s\tremaining: 74.7ms\n",
      "949:\tlearn: 25.9177663\ttotal: 1.39s\tremaining: 73.2ms\n",
      "950:\tlearn: 25.9148867\ttotal: 1.39s\tremaining: 71.8ms\n",
      "951:\tlearn: 25.8992304\ttotal: 1.39s\tremaining: 70.3ms\n",
      "952:\tlearn: 25.8838343\ttotal: 1.4s\tremaining: 68.8ms\n",
      "953:\tlearn: 25.8066393\ttotal: 1.4s\tremaining: 67.3ms\n",
      "954:\tlearn: 25.7725447\ttotal: 1.4s\tremaining: 65.9ms\n",
      "955:\tlearn: 25.7520786\ttotal: 1.4s\tremaining: 64.4ms\n",
      "956:\tlearn: 25.7262538\ttotal: 1.4s\tremaining: 62.9ms\n",
      "957:\tlearn: 25.7214491\ttotal: 1.4s\tremaining: 61.5ms\n",
      "958:\tlearn: 25.7137045\ttotal: 1.4s\tremaining: 60ms\n",
      "959:\tlearn: 25.7097097\ttotal: 1.4s\tremaining: 58.5ms\n",
      "960:\tlearn: 25.7070403\ttotal: 1.41s\tremaining: 57ms\n",
      "961:\tlearn: 25.6974869\ttotal: 1.41s\tremaining: 55.6ms\n",
      "962:\tlearn: 25.6961429\ttotal: 1.41s\tremaining: 54.1ms\n",
      "963:\tlearn: 25.6586046\ttotal: 1.41s\tremaining: 52.6ms\n",
      "964:\tlearn: 25.6448842\ttotal: 1.41s\tremaining: 51.2ms\n",
      "965:\tlearn: 25.6204553\ttotal: 1.41s\tremaining: 49.7ms\n",
      "966:\tlearn: 25.6117889\ttotal: 1.41s\tremaining: 48.2ms\n",
      "967:\tlearn: 25.6100544\ttotal: 1.41s\tremaining: 46.8ms\n",
      "968:\tlearn: 25.5776524\ttotal: 1.42s\tremaining: 45.3ms\n",
      "969:\tlearn: 25.5583717\ttotal: 1.42s\tremaining: 43.8ms\n",
      "970:\tlearn: 25.5276957\ttotal: 1.42s\tremaining: 42.4ms\n",
      "971:\tlearn: 25.5077261\ttotal: 1.42s\tremaining: 40.9ms\n",
      "972:\tlearn: 25.4633014\ttotal: 1.42s\tremaining: 39.4ms\n",
      "973:\tlearn: 25.4454554\ttotal: 1.42s\tremaining: 38ms\n",
      "974:\tlearn: 25.4191124\ttotal: 1.42s\tremaining: 36.5ms\n",
      "975:\tlearn: 25.3409406\ttotal: 1.43s\tremaining: 35ms\n",
      "976:\tlearn: 25.3018228\ttotal: 1.43s\tremaining: 33.6ms\n",
      "977:\tlearn: 25.3003962\ttotal: 1.43s\tremaining: 32.1ms\n",
      "978:\tlearn: 25.2727449\ttotal: 1.43s\tremaining: 30.6ms\n",
      "979:\tlearn: 25.1884995\ttotal: 1.43s\tremaining: 29.2ms\n",
      "980:\tlearn: 25.1849302\ttotal: 1.43s\tremaining: 27.7ms\n",
      "981:\tlearn: 25.1416896\ttotal: 1.43s\tremaining: 26.3ms\n",
      "982:\tlearn: 25.1037649\ttotal: 1.43s\tremaining: 24.8ms\n",
      "983:\tlearn: 25.0999349\ttotal: 1.44s\tremaining: 23.3ms\n",
      "984:\tlearn: 25.0781724\ttotal: 1.44s\tremaining: 21.9ms\n",
      "985:\tlearn: 25.0703344\ttotal: 1.44s\tremaining: 20.4ms\n",
      "986:\tlearn: 25.0527554\ttotal: 1.44s\tremaining: 19ms\n",
      "987:\tlearn: 24.9932317\ttotal: 1.44s\tremaining: 17.5ms\n",
      "988:\tlearn: 24.9891992\ttotal: 1.44s\tremaining: 16ms\n",
      "989:\tlearn: 24.9513145\ttotal: 1.44s\tremaining: 14.6ms\n",
      "990:\tlearn: 24.9252853\ttotal: 1.44s\tremaining: 13.1ms\n",
      "991:\tlearn: 24.8754271\ttotal: 1.45s\tremaining: 11.7ms\n",
      "992:\tlearn: 24.8649639\ttotal: 1.45s\tremaining: 10.2ms\n",
      "993:\tlearn: 24.8381639\ttotal: 1.45s\tremaining: 8.74ms\n",
      "994:\tlearn: 24.8114521\ttotal: 1.45s\tremaining: 7.28ms\n",
      "995:\tlearn: 24.7972651\ttotal: 1.45s\tremaining: 5.83ms\n",
      "996:\tlearn: 24.7817383\ttotal: 1.45s\tremaining: 4.37ms\n",
      "997:\tlearn: 24.7172596\ttotal: 1.45s\tremaining: 2.91ms\n"
     ]
    },
    {
     "name": "stdout",
     "output_type": "stream",
     "text": [
      "998:\tlearn: 24.7085665\ttotal: 1.45s\tremaining: 1.46ms\n",
      "999:\tlearn: 24.6981039\ttotal: 1.46s\tremaining: 0us\n",
      "default_CAT_MAE: 126.0288\n",
      "default_CAT_MSE: 47605.4795\n"
     ]
    }
   ],
   "source": [
    "# Cat boost \n",
    "# reference : https://dailyheumsi.tistory.com/136\n",
    "CAT_reg = CatBoostRegressor(\n",
    "         loss_function='MAE',\n",
    "         random_state=0\n",
    "    )\n",
    "CAT_reg.fit(xx_train,yy_train)\n",
    "print(\"default_CAT_MAE:\", round(mean_absolute_error(yy_test,CAT_reg.predict(xx_test) ), 4))\n",
    "print(\"default_CAT_MSE:\", round(mean_squared_error(yy_test,CAT_reg.predict(xx_test) ), 4))"
   ]
  },
  {
   "cell_type": "code",
   "execution_count": 37,
   "metadata": {
    "ExecuteTime": {
     "end_time": "2021-07-28T17:42:43.952526Z",
     "start_time": "2021-07-28T17:42:41.155897Z"
    }
   },
   "outputs": [
    {
     "name": "stderr",
     "output_type": "stream",
     "text": [
      "C:\\Users\\RYU\\Anaconda3\\lib\\site-packages\\sklearn\\utils\\validation.py:761: DataConversionWarning: A column-vector y was passed when a 1d array was expected. Please change the shape of y to (n_samples, ), for example using ravel().\n",
      "  y = column_or_1d(y, warn=True)\n"
     ]
    },
    {
     "name": "stdout",
     "output_type": "stream",
     "text": [
      "[iter 0] loss=7.3035 val_loss=0.0000 scale=1.0000 norm=276.5511\n",
      "[iter 100] loss=6.5447 val_loss=0.0000 scale=2.0000 norm=240.6701\n",
      "[iter 200] loss=6.0444 val_loss=0.0000 scale=1.0000 norm=82.8598\n",
      "[iter 300] loss=5.7975 val_loss=0.0000 scale=1.0000 norm=71.5497\n",
      "[iter 400] loss=5.6600 val_loss=0.0000 scale=1.0000 norm=65.1337\n",
      "default_NGB_MAE: 126.0587\n",
      "default_NGB_MSE: 47788.1494\n"
     ]
    }
   ],
   "source": [
    "# NG boost\n",
    "# https://github.com/stanfordmlgroup/ngboost <br>\n",
    "# NG boost는 일반 ML과 다르게, 예측의 불확실성까지 예측함.\n",
    "# - ex) 이 집의 가격은 5억일 확률이 75%다.\n",
    "\n",
    "NGB_reg = NGBRegressor()\n",
    "NGB_reg.fit(xx_train, yy_train)\n",
    "print(\"default_NGB_MAE:\", round(mean_absolute_error(yy_test,NGB_reg.predict(xx_test) ), 4))\n",
    "print(\"default_NGB_MSE:\", round(mean_squared_error(yy_test,NGB_reg.predict(xx_test) ), 4))"
   ]
  },
  {
   "cell_type": "code",
   "execution_count": 38,
   "metadata": {
    "ExecuteTime": {
     "end_time": "2021-07-28T17:42:46.002779Z",
     "start_time": "2021-07-28T17:42:45.979782Z"
    }
   },
   "outputs": [
    {
     "name": "stdout",
     "output_type": "stream",
     "text": [
      "MAE: 305.5255\n",
      "MSE: 196405.356\n"
     ]
    },
    {
     "name": "stderr",
     "output_type": "stream",
     "text": [
      "C:\\Users\\RYU\\Anaconda3\\lib\\site-packages\\sklearn\\utils\\validation.py:761: DataConversionWarning: A column-vector y was passed when a 1d array was expected. Please change the shape of y to (n_samples, ), for example using ravel().\n",
      "  y = column_or_1d(y, warn=True)\n"
     ]
    }
   ],
   "source": [
    "# SVM\n",
    "SVM_reg = SVR()\n",
    "SVM_reg.fit(xx_train, yy_train)\n",
    "print(\"MAE:\", round(mean_absolute_error(yy_test,SVM_reg.predict(xx_test) ), 4))\n",
    "print(\"MSE:\", round(mean_squared_error(yy_test,SVM_reg.predict(xx_test) ), 4))"
   ]
  },
  {
   "cell_type": "markdown",
   "metadata": {},
   "source": [
    "### 전통적 ML (AutoML with Hyperopt (CATboost, XGboost, NGboost))\n",
    "https://teddylee777.github.io/thoughts/hyper-opt <br>\n",
    "http://hyperopt.github.io/hyperopt/ <br>\n"
   ]
  },
  {
   "cell_type": "markdown",
   "metadata": {},
   "source": [
    "#### setting"
   ]
  },
  {
   "cell_type": "code",
   "execution_count": 39,
   "metadata": {
    "ExecuteTime": {
     "end_time": "2021-07-28T17:42:50.639919Z",
     "start_time": "2021-07-28T17:42:50.418195Z"
    }
   },
   "outputs": [],
   "source": [
    "from sklearn.externals import joblib\n",
    "\n",
    "# !pip install hyperopt\n",
    "# 0.2.5 ver\n",
    "from hyperopt import fmin, tpe, hp, anneal, Trials\n",
    "\n",
    "from sklearn.model_selection import KFold, cross_val_score"
   ]
  },
  {
   "cell_type": "code",
   "execution_count": 45,
   "metadata": {
    "ExecuteTime": {
     "end_time": "2021-07-28T17:46:24.717724Z",
     "start_time": "2021-07-28T17:46:24.706722Z"
    }
   },
   "outputs": [],
   "source": [
    "random_state = 0\n",
    "kf = KFold(n_splits=10, random_state=0)"
   ]
  },
  {
   "cell_type": "code",
   "execution_count": 46,
   "metadata": {
    "ExecuteTime": {
     "end_time": "2021-07-28T17:46:25.212741Z",
     "start_time": "2021-07-28T17:46:25.199739Z"
    }
   },
   "outputs": [],
   "source": [
    "def gb_mae_cv_CAT(params, random_state=0, cv=kf, x = xx_train, y= yy_train) :\n",
    "    params = {'n_estimators': int(params['n_estimators']), \n",
    "             'learning_rate': params['learning_rate']}\n",
    "    \n",
    "    CAT_HPO = CatBoostRegressor(random_state=random_state,**params)\n",
    "    CAT_score = -cross_val_score(CAT_HPO, x, y, cv=cv, scoring=\"neg_mean_absolute_error\", n_jobs=-1).mean()\n",
    "    return CAT_score\n",
    "\n",
    "def gb_mae_cv_XGB(params, random_state=0, cv=kf, x = xx_train, y= yy_train) :\n",
    "    params = {'n_estimators': int(params['n_estimators']), \n",
    "             'learning_rate': params['learning_rate']}\n",
    "\n",
    "    XGB_HPO = XGBRegressor(random_state=random_state,**params)\n",
    "    XGB_score = -cross_val_score(XGB_HPO, x, y, cv=cv, scoring=\"neg_mean_absolute_error\", n_jobs=-1).mean()\n",
    "    return XGB_score\n",
    "\n",
    "def gb_mae_cv_NGB(params, random_state=0, cv=kf, x = xx_train, y= yy_train) :\n",
    "    params = {'n_estimators': int(params['n_estimators']), \n",
    "             'learning_rate': params['learning_rate']}\n",
    "\n",
    "    NGB_HPO = NGBRegressor(random_state=random_state,**params)\n",
    "    NGB_score = -cross_val_score(NGB_HPO, x, y, cv=cv, scoring=\"neg_mean_absolute_error\", n_jobs=-1).mean()\n",
    "    return NGB_score\n"
   ]
  },
  {
   "cell_type": "code",
   "execution_count": 47,
   "metadata": {
    "ExecuteTime": {
     "end_time": "2021-07-28T17:46:26.208593Z",
     "start_time": "2021-07-28T17:46:26.199601Z"
    }
   },
   "outputs": [],
   "source": [
    "space={'n_estimators': hp.quniform('n_estimators', 100, 2000, 10),\n",
    "       'learning_rate': hp.loguniform('learning_rate', -5, 0) #q uniform이 아니라 loguniform을 쓰는건, 등비척도로 움직이기 위해서\n",
    "      }\n",
    "space_XGB={'n_estimators': hp.quniform('n_estimators', 100, 2000, 1),\n",
    "           'max_depth' : hp.quniform('max_depth', 1,20,1),\n",
    "       'learning_rate': hp.loguniform('learning_rate', -5, 0) #q uniform이 아니라 loguniform을 쓰는건, 등비척도로 움직이기 위해서\n",
    "      }\n",
    "\n",
    "trials_CAT = Trials()\n",
    "trials_XGB = Trials()\n",
    "trials_NGB = Trials()"
   ]
  },
  {
   "cell_type": "markdown",
   "metadata": {},
   "source": [
    "#### CAT HPO"
   ]
  },
  {
   "cell_type": "code",
   "execution_count": 32,
   "metadata": {
    "ExecuteTime": {
     "end_time": "2021-07-29T06:32:06.729421Z",
     "start_time": "2021-07-29T06:32:06.715417Z"
    }
   },
   "outputs": [],
   "source": [
    "\n",
    "best_CAT=fmin(fn=gb_mae_cv_CAT, # function to optimize\n",
    "          space=space, \n",
    "          algo=tpe.suggest, # optimization algorithm, hyperotp will select its parameters automatically\n",
    "                              #Tree of Parzen Estimators (TPE) \n",
    "                              #http://hyperopt.github.io/hyperopt/\n",
    "          max_evals=50, # maximum number of iterations\n",
    "          trials=trials_CAT, # logging\n",
    "          rstate=np.random.RandomState(0) # fixing random state for the reproducibility\n",
    "         )"
   ]
  },
  {
   "cell_type": "code",
   "execution_count": null,
   "metadata": {},
   "outputs": [],
   "source": [
    "CAT_best_reg = CatBoostRegressor(learning_rate = best_CAT['learning_rate']\n",
    "                             ,n_estimators = int(best_CAT['n_estimators']))\n",
    "\n",
    "CAT_fitted_model = CAT_best_reg.fit(xx_train, yy_train)\n",
    "\n",
    "# 모델 저장\n",
    "joblib.dump(CAT_fitted_model, 'CAT_fitted_model.pkl', compress =True)\n",
    "\n",
    "\n",
    "print(\"=============================================================\")\n",
    "print(\"CAT_HPO_MAE:\", round(mean_absolute_error(yy_test,CAT_best_reg.predict(xx_test) ), 4))\n",
    "print(\"CAT_HPO_MSE:\", round(mean_squared_error(yy_test,CAT_best_reg.predict(xx_test) ), 4))\n"
   ]
  },
  {
   "cell_type": "code",
   "execution_count": null,
   "metadata": {},
   "outputs": [],
   "source": [
    "# Loss Function 도식화\n",
    "tpe_results_CAT=np.array([[x['result']['loss'],\n",
    "                      x['misc']['vals']['learning_rate'][0],\n",
    "                      x['misc']['vals']['n_estimators'][0]] for x in trials_CAT.trials])\n",
    "\n",
    "tpe_results_CAT_df=pd.DataFrame(tpe_results_CAT,\n",
    "                           columns=['score', 'learning_rate', 'n_estimators'])\n",
    "tpe_results_CAT_df.plot(subplots=True,figsize=(10, 10))"
   ]
  },
  {
   "cell_type": "markdown",
   "metadata": {},
   "source": [
    "#### XGB HPO"
   ]
  },
  {
   "cell_type": "code",
   "execution_count": 49,
   "metadata": {
    "ExecuteTime": {
     "end_time": "2021-07-28T17:47:40.354168Z",
     "start_time": "2021-07-28T17:47:11.201317Z"
    }
   },
   "outputs": [
    {
     "name": "stdout",
     "output_type": "stream",
     "text": [
      "100%|████████████████████████████████████████████████| 50/50 [00:29<00:00,  1.87trial/s, best loss: 129.82166750959576]\n"
     ]
    }
   ],
   "source": [
    "# XGB HPO\n",
    "best_XGB=fmin(fn=gb_mae_cv_XGB,\n",
    "          space=space_XGB, \n",
    "          algo=tpe.suggest,\n",
    "          max_evals=50,\n",
    "          trials=trials_XGB,\n",
    "          rstate=np.random.RandomState(0)\n",
    "         )"
   ]
  },
  {
   "cell_type": "code",
   "execution_count": 50,
   "metadata": {
    "ExecuteTime": {
     "end_time": "2021-07-28T17:47:48.581725Z",
     "start_time": "2021-07-28T17:47:46.110179Z"
    }
   },
   "outputs": [
    {
     "name": "stdout",
     "output_type": "stream",
     "text": [
      "=============================================================\n",
      "XGB_HPO_MAE: 131.9215\n",
      "XGB_HPO_MSE: 46948.2216\n"
     ]
    }
   ],
   "source": [
    "XGB_best_reg = XGBRegressor(learning_rate = best_XGB['learning_rate']\n",
    "                            ,max_depth = int(best_XGB['max_depth'])\n",
    "                             ,n_estimators = int(best_XGB['n_estimators']))\n",
    "\n",
    "XGB_fitted_model = XGB_best_reg.fit(xx_train, yy_train)\n",
    "\n",
    "joblib.dump(XGB_fitted_model, 'XGB_fitted_model.pkl', compress =True)\n",
    "\n",
    "print(\"=============================================================\")\n",
    "print(\"XGB_HPO_MAE:\", round(mean_absolute_error(yy_test,XGB_best_reg.predict(xx_test) ), 4))\n",
    "print(\"XGB_HPO_MSE:\", round(mean_squared_error(yy_test,XGB_best_reg.predict(xx_test) ), 4))"
   ]
  },
  {
   "cell_type": "code",
   "execution_count": 51,
   "metadata": {
    "ExecuteTime": {
     "end_time": "2021-07-28T17:47:51.512813Z",
     "start_time": "2021-07-28T17:47:51.055401Z"
    }
   },
   "outputs": [
    {
     "data": {
      "text/plain": [
       "array([<matplotlib.axes._subplots.AxesSubplot object at 0x000001A038E87EF0>,\n",
       "       <matplotlib.axes._subplots.AxesSubplot object at 0x000001A03C3B79E8>,\n",
       "       <matplotlib.axes._subplots.AxesSubplot object at 0x000001A03B687C18>],\n",
       "      dtype=object)"
      ]
     },
     "execution_count": 51,
     "metadata": {},
     "output_type": "execute_result"
    },
    {
     "data": {
      "image/png": "[encoded data removed]",
      "text/plain": [
       "<Figure size 720x720 with 3 Axes>"
      ]
     },
     "metadata": {
      "needs_background": "light"
     },
     "output_type": "display_data"
    }
   ],
   "source": [
    "tpe_results_XGB=np.array([[x['result']['loss'],\n",
    "                      x['misc']['vals']['learning_rate'][0],\n",
    "                      x['misc']['vals']['n_estimators'][0]] for x in trials_XGB.trials])\n",
    "\n",
    "tpe_results_XGB_df=pd.DataFrame(tpe_results_XGB,\n",
    "                           columns=['score', 'learning_rate', 'n_estimators'])\n",
    "tpe_results_XGB_df.plot(subplots=True,figsize=(10, 10))"
   ]
  },
  {
   "cell_type": "markdown",
   "metadata": {},
   "source": [
    "#### NGB HPO"
   ]
  },
  {
   "cell_type": "code",
   "execution_count": null,
   "metadata": {},
   "outputs": [],
   "source": [
    "best_NGB=fmin(fn=gb_mae_cv_NGB,\n",
    "          space=space, \n",
    "          algo=tpe.suggest,\n",
    "          max_evals=50,\n",
    "          trials=trials_NGB,\n",
    "          rstate=np.random.RandomState(0)\n",
    "         )"
   ]
  },
  {
   "cell_type": "code",
   "execution_count": null,
   "metadata": {},
   "outputs": [],
   "source": [
    "NGB_best_reg = NGBRegressor(learning_rate = best_NGB['learning_rate']\n",
    "                             ,n_estimators = int(best_NGB['n_estimators']))\n",
    "\n",
    "NGB_fitted_model=NGB_best_reg.fit(xx_train, yy_train)\n",
    "\n",
    "joblib.dump(NGB_fitted_model, 'NGB_fitted_model.pkl', compress =True)\n",
    "\n",
    "print(\"=============================================================\")\n",
    "print(\"NGB_HPO_MAE:\", round(mean_absolute_error(yy_test,NGB_best_reg.predict(xx_test) ), 4))\n",
    "print(\"NGB_HPO_MSE:\", round(mean_squared_error(yy_test,NGB_best_reg.predict(xx_test) ), 4))"
   ]
  },
  {
   "cell_type": "code",
   "execution_count": null,
   "metadata": {},
   "outputs": [],
   "source": [
    "tpe_results_NGB=np.array([[\n",
    "                      x['misc']['vals']['learning_rate'][0],\n",
    "                      x['misc']['vals']['n_estimators'][0]] for x in trials_NGB.trials])\n",
    "\n",
    "tpe_results_NGB_df=pd.DataFrame(tpe_results_NGB,\n",
    "                           columns=[ 'learning_rate', 'n_estimators'])\n",
    "tpe_results_NGB_df.plot(subplots=True,figsize=(10, 10))"
   ]
  },
  {
   "cell_type": "code",
   "execution_count": null,
   "metadata": {},
   "outputs": [],
   "source": []
  },
  {
   "cell_type": "code",
   "execution_count": null,
   "metadata": {},
   "outputs": [],
   "source": []
  },
  {
   "cell_type": "code",
   "execution_count": null,
   "metadata": {},
   "outputs": [],
   "source": []
  },
  {
   "cell_type": "code",
   "execution_count": null,
   "metadata": {},
   "outputs": [],
   "source": []
  },
  {
   "cell_type": "code",
   "execution_count": null,
   "metadata": {},
   "outputs": [],
   "source": []
  },
  {
   "cell_type": "markdown",
   "metadata": {},
   "source": [
    "### Feature Importance 도식화"
   ]
  },
  {
   "cell_type": "code",
   "execution_count": 52,
   "metadata": {
    "ExecuteTime": {
     "end_time": "2021-07-28T17:48:32.114121Z",
     "start_time": "2021-07-28T17:48:31.878069Z"
    }
   },
   "outputs": [
    {
     "data": {
      "image/png": "[encoded data removed]",
      "text/plain": [
       "<Figure size 576x432 with 1 Axes>"
      ]
     },
     "metadata": {
      "needs_background": "light"
     },
     "output_type": "display_data"
    }
   ],
   "source": [
    "import seaborn as sns\n",
    "# NGB regressor는 각 row별 값과 그에대한 확률이 리스트 형식으로 묶여있어 [0]에 있는 값을 추출해야함\n",
    "# feature_importance_values = NGB_reg.feature_importances_[0] \n",
    "feature_importance_values = XGB_reg.feature_importances_\n",
    "\n",
    "# Top 중요도로 정렬하고, 쉽게 시각화하기 위해 Series 변환\n",
    "feature_importances = pd.Series(feature_importance_values, index=xx_train.columns)\n",
    "# 중요도값 순으로 Series를 정렬\n",
    "feature_top20 = feature_importances.sort_values(ascending=False)[1:21]\n",
    "\n",
    "plt.figure(figsize=[8, 6])\n",
    "plt.title('Feature Importances Top 20')\n",
    "sns.barplot(x=feature_top20, y=feature_top20.index)\n",
    "plt.show()"
   ]
  },
  {
   "cell_type": "markdown",
   "metadata": {},
   "source": [
    "### Pycaret ( colab ) \n",
    "https://pbj0812.tistory.com/446"
   ]
  },
  {
   "cell_type": "code",
   "execution_count": null,
   "metadata": {},
   "outputs": [],
   "source": [
    "# !pip install pycaret"
   ]
  },
  {
   "cell_type": "code",
   "execution_count": 42,
   "metadata": {
    "ExecuteTime": {
     "end_time": "2021-07-28T17:43:13.358145Z",
     "start_time": "2021-07-28T17:43:13.348144Z"
    }
   },
   "outputs": [],
   "source": [
    "import pycaret\n",
    "from pycaret.classification import *\n",
    "from pycaret.utils import enable_colab\n",
    "enable_colab()"
   ]
  },
  {
   "cell_type": "code",
   "execution_count": null,
   "metadata": {},
   "outputs": [],
   "source": [
    "setup_reg = setup(data=df_pycaret, # df_train으로도 해보면 좋을듯\n",
    "                  target='등록차량수' # 영어로 바꿔야될수도있음.\n",
    "                  ) # setup으로 초기화 "
   ]
  },
  {
   "cell_type": "code",
   "execution_count": null,
   "metadata": {},
   "outputs": [],
   "source": [
    "compare_models(exclude=['lr'], sort='Accuracy', n_select = 5, fold=5) "
   ]
  },
  {
   "cell_type": "code",
   "execution_count": null,
   "metadata": {},
   "outputs": [],
   "source": []
  },
  {
   "cell_type": "markdown",
   "metadata": {},
   "source": [
    "### 제출파일"
   ]
  },
  {
   "cell_type": "code",
   "execution_count": 53,
   "metadata": {
    "ExecuteTime": {
     "end_time": "2021-07-28T17:48:59.042885Z",
     "start_time": "2021-07-28T17:48:59.033883Z"
    }
   },
   "outputs": [],
   "source": [
    "out = pd.DataFrame(XGB_reg.predict(x_test)\n",
    "                   ,columns=['num']).set_index(x_test.index)\n",
    "out.index.name='code'\n",
    "out.to_csv('XGB.csv',encoding='euc-kr')"
   ]
  },
  {
   "cell_type": "markdown",
   "metadata": {},
   "source": [
    "## Deep Learning\n",
    "- 추가 필요 (전이학습 실습해보기)"
   ]
  },
  {
   "cell_type": "markdown",
   "metadata": {},
   "source": [
    "### 기본 Modeling"
   ]
  },
  {
   "cell_type": "code",
   "execution_count": 54,
   "metadata": {
    "ExecuteTime": {
     "end_time": "2021-07-28T17:54:12.754364Z",
     "start_time": "2021-07-28T17:54:11.010232Z"
    }
   },
   "outputs": [],
   "source": [
    "import tensorflow as tf\n",
    "from tensorflow.keras import datasets, utils\n",
    "from tensorflow.keras import models, layers, activations, initializers, losses, optimizers, metrics\n",
    "import os\n",
    "tf.logging.set_verbosity(tf.logging.ERROR)\n",
    "tf.compat.v1.logging.set_verbosity(tf.compat.v1.logging.ERROR)\n",
    "os.environ['TF_CPP_MIN_LOG_LEVEL'] = '2'"
   ]
  },
  {
   "cell_type": "code",
   "execution_count": null,
   "metadata": {},
   "outputs": [],
   "source": [
    "# loss curve func\n",
    "def plot_loss_curve(total_epoch=10, start=1):\n",
    "    plt.figure(figsize=(15, 5))\n",
    "    plt.plot(range(start, total_epoch +1), history.history['loss'][start-1:total_epoch], label='Train')\n",
    "    plt.plot(range(start, total_epoch +1), history.history['val_loss'][start-1:total_epoch], label='Validation')\n",
    "    plt.xlabel('Epochs')\n",
    "    plt.ylabel('mae')\n",
    "    plt.legend()\n",
    "    plt.show()"
   ]
  },
  {
   "cell_type": "code",
   "execution_count": null,
   "metadata": {},
   "outputs": [],
   "source": [
    "model = models.Sequential() \n",
    "\n",
    "model.add(layers.Dense(input_dim=50, units=96, activation=None, kernel_initializer=initializers.he_uniform())) # he-uniform initialization\n",
    "model.add(layers.Activation('relu')) # elu, relu / layers.ELU, layers.LeakyReLU\n",
    "\n",
    "model.add(layers.Dense(units=32, activation=None, kernel_initializer=initializers.he_uniform())) \n",
    "model.add(layers.Activation('relu'))\n",
    "\n",
    "model.add(layers.Dense(units=32, activation=None, kernel_initializer=initializers.he_uniform())) \n",
    "model.add(layers.Activation('relu'))\n",
    "\n",
    "model.add(layers.Dense(units=32, activation=None, kernel_initializer=initializers.he_uniform())) \n",
    "model.add(layers.Activation('relu'))\n",
    "\n",
    "# dropout\n",
    "model.add(layers.Dropout(rate=0.4)) \n",
    "\n",
    "model.add(layers.Dense(units=1, activation='linear'))"
   ]
  },
  {
   "cell_type": "code",
   "execution_count": null,
   "metadata": {},
   "outputs": [],
   "source": [
    "model.compile(optimizer=optimizers.Adam(),\n",
    "              loss=losses.mean_absolute_error, # MAE / mean_absolute_error\n",
    "              metrics=[metrics.mae])"
   ]
  },
  {
   "cell_type": "code",
   "execution_count": null,
   "metadata": {},
   "outputs": [],
   "source": [
    "history = model.fit(xx_train, yy_train, batch_size=100, epochs=1000, validation_split=0.3, verbose=0)"
   ]
  },
  {
   "cell_type": "code",
   "execution_count": null,
   "metadata": {},
   "outputs": [],
   "source": [
    "loss = history.history['mean_absolute_error']\n",
    "val_loss = history.history['val_mean_absolute_error']\n",
    "\n",
    "x_len = np.arange(len(loss))\n",
    "\n",
    "plt.plot(x_len, loss, marker='.', c='blue', label=\"Train-set loss.\")\n",
    "plt.plot(x_len, val_loss, marker='.', c='red', label=\"Validation-set loss.\")\n",
    "\n",
    "plt.legend(loc='upper right')\n",
    "plt.grid()\n",
    "plt.xlabel('epoch')\n",
    "plt.ylabel('Loss(MAE)')\n",
    "plt.show()"
   ]
  },
  {
   "cell_type": "code",
   "execution_count": null,
   "metadata": {},
   "outputs": [],
   "source": [
    "plot_loss_curve(total_epoch=1000, start=1)"
   ]
  },
  {
   "cell_type": "code",
   "execution_count": null,
   "metadata": {},
   "outputs": [],
   "source": [
    "yy_pred = model.predict(xx_train)\n",
    "model.evaluate(xx_test,yy_test)"
   ]
  },
  {
   "cell_type": "markdown",
   "metadata": {},
   "source": [
    "### HPO with KerasTuner(in colab)"
   ]
  },
  {
   "cell_type": "code",
   "execution_count": null,
   "metadata": {},
   "outputs": [],
   "source": [
    "# !pip install -q -U keras-tuner"
   ]
  },
  {
   "cell_type": "code",
   "execution_count": null,
   "metadata": {},
   "outputs": [],
   "source": [
    "import tensorflow as tf\n",
    "tf.compat.v1.logging.set_verbosity(tf.compat.v1.logging.ERROR)\n",
    "\n",
    "from tensorflow import keras \n",
    "from tensorflow.keras import layers\n",
    "from keras import initializers\n",
    "\n",
    "import kerastuner as kt\n",
    "import numpy as np\n",
    "import IPython"
   ]
  },
  {
   "cell_type": "code",
   "execution_count": null,
   "metadata": {},
   "outputs": [],
   "source": [
    "def build_hyper_model(hp):\n",
    "    \n",
    "    model = keras.Sequential()\n",
    "    model.add(layers.Dense(input_dim=xx_train.shape[1], units=64, activation=None, kernel_initializer=initializers.he_uniform()))\n",
    "        \n",
    "\n",
    "    for i in range(hp.Int('num_layers', min_value=1, max_value=3)): \n",
    "        # Tune the number of perceptrons in a dense layer (Choose an optimal value between 32~512) \n",
    "        hp_units = hp.Int('units_' + str(i), min_value=32, max_value=512, step=32)\n",
    "        hp_activations = hp.Choice('activation_' + str(i), values=['relu', 'elu'])\n",
    "        model.add(layers.Dense(units = hp_units, activation = hp_activations))\n",
    "\n",
    "    model.add(layers.Dense(1, activation=None))\n",
    "\n",
    "    # Tune the learning rate for the optimizer (Choose an optimal value from 0.01, 0.001, or 0.0001)\n",
    "    hp_learning_rate = hp.Choice('learning_rate', values = [1e-2, 1e-3, 1e-4]) \n",
    "    \n",
    "    model.compile(optimizer = keras.optimizers.Adam(learning_rate = hp_learning_rate),\n",
    "                loss = keras.losses.MeanSquaredError(),\n",
    "                metrics = [keras.metrics.MeanAbsoluteError()])\n",
    "    \n",
    "    return model"
   ]
  },
  {
   "cell_type": "code",
   "execution_count": null,
   "metadata": {},
   "outputs": [],
   "source": [
    "tuner = kt.BayesianOptimization(build_hyper_model,\n",
    "                                objective = 'val_mean_absolute_error',\n",
    "                                max_trials = 10,\n",
    "                                directory = 'test_prac_dir',\n",
    "                                project_name = 'Parking_lot')"
   ]
  },
  {
   "cell_type": "code",
   "execution_count": null,
   "metadata": {},
   "outputs": [],
   "source": [
    "# best 3 model\n",
    "tuner.search(xx_train, yy_train, epochs=10, validation_data = (xx_test, yy_test))\n",
    "tuner.results_summary(num_trials=3)"
   ]
  },
  {
   "cell_type": "code",
   "execution_count": null,
   "metadata": {},
   "outputs": [],
   "source": [
    "top3_models = tuner.get_best_hyperparameters(num_trials=3)"
   ]
  },
  {
   "cell_type": "code",
   "execution_count": null,
   "metadata": {},
   "outputs": [],
   "source": [
    "for idx, model in enumerate(top3_models):\n",
    "    print('Model performance rank :', idx+1)\n",
    "    print(model.values)\n",
    "    print()"
   ]
  },
  {
   "cell_type": "code",
   "execution_count": null,
   "metadata": {},
   "outputs": [],
   "source": [
    "best_hps = top3_models[0]"
   ]
  },
  {
   "cell_type": "code",
   "execution_count": null,
   "metadata": {},
   "outputs": [],
   "source": [
    "print(\"\"\"\n",
    "The hyperparameter search is complete. \n",
    "* Optimal # of layers : {}\n",
    "* Optimal value of the learning-rate : {}\"\"\".format(best_hps.get('num_layers'), best_hps.get('learning_rate')))\n",
    "\n",
    "for layer_num in range(best_hps.get('num_layers')):\n",
    "    print('Layer {} - # of Perceptrons :'.format(layer_num), best_hps.get('units_' + str(layer_num)))\n",
    "    print('Layer {} - Applied activation function :'.format(layer_num), best_hps.get('activation_' + str(layer_num)))"
   ]
  },
  {
   "cell_type": "code",
   "execution_count": null,
   "metadata": {},
   "outputs": [],
   "source": [
    "models = tuner.get_best_models(num_models=3)\n",
    "top_model = models[0]\n",
    "top_model.summary()\n",
    "print()\n",
    "\n",
    "results = top_model.evaluate(xx_test, yy_test)\n",
    "print('Cross-entropy :', results[0])\n",
    "print('Accuracy :', results[1])"
   ]
  },
  {
   "cell_type": "code",
   "execution_count": null,
   "metadata": {},
   "outputs": [],
   "source": [
    "for trial in tuner.oracle.get_best_trials(num_trials=3):\n",
    "    print('Trial-score is :', trial.score)\n",
    "    print('Trial-directory(trial_id) is :', trial.trial_id)\n",
    "    print()"
   ]
  },
  {
   "cell_type": "code",
   "execution_count": null,
   "metadata": {},
   "outputs": [],
   "source": [
    "# model saving\n",
    "models[0].save('top_model_1')\n",
    "models[0].save(\"top_model_1.h5\")"
   ]
  },
  {
   "cell_type": "code",
   "execution_count": null,
   "metadata": {},
   "outputs": [],
   "source": [
    "keras.models.load_model(\"top_model_1\").evaluate(xx_test,yy_test)"
   ]
  },
  {
   "cell_type": "code",
   "execution_count": null,
   "metadata": {},
   "outputs": [],
   "source": [
    "out = pd.DataFrame(top_model.predict(x_test),columns=['num']).set_index(x_test.index)\n",
    "out.index.name='code'\n",
    "out.to_csv('NN.csv',encoding='euc-kr')"
   ]
  }
 ],
 "metadata": {
  "kernelspec": {
   "display_name": "Python 3",
   "language": "python",
   "name": "python3"
  },
  "language_info": {
   "codemirror_mode": {
    "name": "ipython",
    "version": 3
   },
   "file_extension": ".py",
   "mimetype": "text/x-python",
   "name": "python",
   "nbconvert_exporter": "python",
   "pygments_lexer": "ipython3",
   "version": "3.7.3"
  },
  "toc": {
   "base_numbering": 1,
   "nav_menu": {},
   "number_sections": true,
   "sideBar": true,
   "skip_h1_title": false,
   "title_cell": "Table of Contents",
   "title_sidebar": "Contents",
   "toc_cell": false,
   "toc_position": {
    "height": "calc(100% - 180px)",
    "left": "10px",
    "top": "150px",
    "width": "384px"
   },
   "toc_section_display": true,
   "toc_window_display": true
  }
 },
 "nbformat": 4,
 "nbformat_minor": 2
}
