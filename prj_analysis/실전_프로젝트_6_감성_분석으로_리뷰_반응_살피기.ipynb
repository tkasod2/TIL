{
  "nbformat": 4,
  "nbformat_minor": 0,
  "metadata": {
    "colab": {
      "name": "실전 프로젝트 6. 감성 분석으로 리뷰 반응 살피기.ipynb",
      "provenance": [],
      "collapsed_sections": [],
      "include_colab_link": true
    },
    "kernelspec": {
      "name": "python3",
      "display_name": "Python 3"
    },
    "language_info": {
      "name": "python"
    },
    "accelerator": "GPU",
    "widgets": {
      "application/vnd.jupyter.widget-state+json": {
        "fbe136ebdd5c46dc8510616bd927d352": {
          "model_module": "@jupyter-widgets/controls",
          "model_name": "HBoxModel",
          "model_module_version": "1.5.0",
          "state": {
            "_view_name": "HBoxView",
            "_dom_classes": [],
            "_model_name": "HBoxModel",
            "_view_module": "@jupyter-widgets/controls",
            "_model_module_version": "1.5.0",
            "_view_count": null,
            "_view_module_version": "1.5.0",
            "box_style": "",
            "layout": "IPY_MODEL_18d4e3031a2f49ba8be33e675208ac1e",
            "_model_module": "@jupyter-widgets/controls",
            "children": [
              "IPY_MODEL_6d401f10c9a24633b36c04712ba42d0e",
              "IPY_MODEL_74d98417ad5142d69d87ff9b5f6e7bb9",
              "IPY_MODEL_1fccdf4671d34d5d8d2117f237ee1c74"
            ]
          }
        },
        "18d4e3031a2f49ba8be33e675208ac1e": {
          "model_module": "@jupyter-widgets/base",
          "model_name": "LayoutModel",
          "model_module_version": "1.2.0",
          "state": {
            "_view_name": "LayoutView",
            "grid_template_rows": null,
            "right": null,
            "justify_content": null,
            "_view_module": "@jupyter-widgets/base",
            "overflow": null,
            "_model_module_version": "1.2.0",
            "_view_count": null,
            "flex_flow": null,
            "width": null,
            "min_width": null,
            "border": null,
            "align_items": null,
            "bottom": null,
            "_model_module": "@jupyter-widgets/base",
            "top": null,
            "grid_column": null,
            "overflow_y": null,
            "overflow_x": null,
            "grid_auto_flow": null,
            "grid_area": null,
            "grid_template_columns": null,
            "flex": null,
            "_model_name": "LayoutModel",
            "justify_items": null,
            "grid_row": null,
            "max_height": null,
            "align_content": null,
            "visibility": null,
            "align_self": null,
            "height": null,
            "min_height": null,
            "padding": null,
            "grid_auto_rows": null,
            "grid_gap": null,
            "max_width": null,
            "order": null,
            "_view_module_version": "1.2.0",
            "grid_template_areas": null,
            "object_position": null,
            "object_fit": null,
            "grid_auto_columns": null,
            "margin": null,
            "display": null,
            "left": null
          }
        },
        "6d401f10c9a24633b36c04712ba42d0e": {
          "model_module": "@jupyter-widgets/controls",
          "model_name": "HTMLModel",
          "model_module_version": "1.5.0",
          "state": {
            "_view_name": "HTMLView",
            "style": "IPY_MODEL_6cbdab431e2e4ee1aec11c065b7f9365",
            "_dom_classes": [],
            "description": "",
            "_model_name": "HTMLModel",
            "placeholder": "​",
            "_view_module": "@jupyter-widgets/controls",
            "_model_module_version": "1.5.0",
            "value": "Downloading: 100%",
            "_view_count": null,
            "_view_module_version": "1.5.0",
            "description_tooltip": null,
            "_model_module": "@jupyter-widgets/controls",
            "layout": "IPY_MODEL_0e48997463e64d06bbc92daac7cce3cb"
          }
        },
        "74d98417ad5142d69d87ff9b5f6e7bb9": {
          "model_module": "@jupyter-widgets/controls",
          "model_name": "FloatProgressModel",
          "model_module_version": "1.5.0",
          "state": {
            "_view_name": "ProgressView",
            "style": "IPY_MODEL_5bf9db9694994742af2f883d677807ee",
            "_dom_classes": [],
            "description": "",
            "_model_name": "FloatProgressModel",
            "bar_style": "success",
            "max": 29,
            "_view_module": "@jupyter-widgets/controls",
            "_model_module_version": "1.5.0",
            "value": 29,
            "_view_count": null,
            "_view_module_version": "1.5.0",
            "orientation": "horizontal",
            "min": 0,
            "description_tooltip": null,
            "_model_module": "@jupyter-widgets/controls",
            "layout": "IPY_MODEL_ddbb35a46db84cee84fec9e3ec97698d"
          }
        },
        "1fccdf4671d34d5d8d2117f237ee1c74": {
          "model_module": "@jupyter-widgets/controls",
          "model_name": "HTMLModel",
          "model_module_version": "1.5.0",
          "state": {
            "_view_name": "HTMLView",
            "style": "IPY_MODEL_1538f19c779e486aa6037859fb103443",
            "_dom_classes": [],
            "description": "",
            "_model_name": "HTMLModel",
            "placeholder": "​",
            "_view_module": "@jupyter-widgets/controls",
            "_model_module_version": "1.5.0",
            "value": " 29.0/29.0 [00:00&lt;00:00, 837B/s]",
            "_view_count": null,
            "_view_module_version": "1.5.0",
            "description_tooltip": null,
            "_model_module": "@jupyter-widgets/controls",
            "layout": "IPY_MODEL_e573da32a2d248d1af573d7afc53d340"
          }
        },
        "6cbdab431e2e4ee1aec11c065b7f9365": {
          "model_module": "@jupyter-widgets/controls",
          "model_name": "DescriptionStyleModel",
          "model_module_version": "1.5.0",
          "state": {
            "_view_name": "StyleView",
            "_model_name": "DescriptionStyleModel",
            "description_width": "",
            "_view_module": "@jupyter-widgets/base",
            "_model_module_version": "1.5.0",
            "_view_count": null,
            "_view_module_version": "1.2.0",
            "_model_module": "@jupyter-widgets/controls"
          }
        },
        "0e48997463e64d06bbc92daac7cce3cb": {
          "model_module": "@jupyter-widgets/base",
          "model_name": "LayoutModel",
          "model_module_version": "1.2.0",
          "state": {
            "_view_name": "LayoutView",
            "grid_template_rows": null,
            "right": null,
            "justify_content": null,
            "_view_module": "@jupyter-widgets/base",
            "overflow": null,
            "_model_module_version": "1.2.0",
            "_view_count": null,
            "flex_flow": null,
            "width": null,
            "min_width": null,
            "border": null,
            "align_items": null,
            "bottom": null,
            "_model_module": "@jupyter-widgets/base",
            "top": null,
            "grid_column": null,
            "overflow_y": null,
            "overflow_x": null,
            "grid_auto_flow": null,
            "grid_area": null,
            "grid_template_columns": null,
            "flex": null,
            "_model_name": "LayoutModel",
            "justify_items": null,
            "grid_row": null,
            "max_height": null,
            "align_content": null,
            "visibility": null,
            "align_self": null,
            "height": null,
            "min_height": null,
            "padding": null,
            "grid_auto_rows": null,
            "grid_gap": null,
            "max_width": null,
            "order": null,
            "_view_module_version": "1.2.0",
            "grid_template_areas": null,
            "object_position": null,
            "object_fit": null,
            "grid_auto_columns": null,
            "margin": null,
            "display": null,
            "left": null
          }
        },
        "5bf9db9694994742af2f883d677807ee": {
          "model_module": "@jupyter-widgets/controls",
          "model_name": "ProgressStyleModel",
          "model_module_version": "1.5.0",
          "state": {
            "_view_name": "StyleView",
            "_model_name": "ProgressStyleModel",
            "description_width": "",
            "_view_module": "@jupyter-widgets/base",
            "_model_module_version": "1.5.0",
            "_view_count": null,
            "_view_module_version": "1.2.0",
            "bar_color": null,
            "_model_module": "@jupyter-widgets/controls"
          }
        },
        "ddbb35a46db84cee84fec9e3ec97698d": {
          "model_module": "@jupyter-widgets/base",
          "model_name": "LayoutModel",
          "model_module_version": "1.2.0",
          "state": {
            "_view_name": "LayoutView",
            "grid_template_rows": null,
            "right": null,
            "justify_content": null,
            "_view_module": "@jupyter-widgets/base",
            "overflow": null,
            "_model_module_version": "1.2.0",
            "_view_count": null,
            "flex_flow": null,
            "width": null,
            "min_width": null,
            "border": null,
            "align_items": null,
            "bottom": null,
            "_model_module": "@jupyter-widgets/base",
            "top": null,
            "grid_column": null,
            "overflow_y": null,
            "overflow_x": null,
            "grid_auto_flow": null,
            "grid_area": null,
            "grid_template_columns": null,
            "flex": null,
            "_model_name": "LayoutModel",
            "justify_items": null,
            "grid_row": null,
            "max_height": null,
            "align_content": null,
            "visibility": null,
            "align_self": null,
            "height": null,
            "min_height": null,
            "padding": null,
            "grid_auto_rows": null,
            "grid_gap": null,
            "max_width": null,
            "order": null,
            "_view_module_version": "1.2.0",
            "grid_template_areas": null,
            "object_position": null,
            "object_fit": null,
            "grid_auto_columns": null,
            "margin": null,
            "display": null,
            "left": null
          }
        },
        "1538f19c779e486aa6037859fb103443": {
          "model_module": "@jupyter-widgets/controls",
          "model_name": "DescriptionStyleModel",
          "model_module_version": "1.5.0",
          "state": {
            "_view_name": "StyleView",
            "_model_name": "DescriptionStyleModel",
            "description_width": "",
            "_view_module": "@jupyter-widgets/base",
            "_model_module_version": "1.5.0",
            "_view_count": null,
            "_view_module_version": "1.2.0",
            "_model_module": "@jupyter-widgets/controls"
          }
        },
        "e573da32a2d248d1af573d7afc53d340": {
          "model_module": "@jupyter-widgets/base",
          "model_name": "LayoutModel",
          "model_module_version": "1.2.0",
          "state": {
            "_view_name": "LayoutView",
            "grid_template_rows": null,
            "right": null,
            "justify_content": null,
            "_view_module": "@jupyter-widgets/base",
            "overflow": null,
            "_model_module_version": "1.2.0",
            "_view_count": null,
            "flex_flow": null,
            "width": null,
            "min_width": null,
            "border": null,
            "align_items": null,
            "bottom": null,
            "_model_module": "@jupyter-widgets/base",
            "top": null,
            "grid_column": null,
            "overflow_y": null,
            "overflow_x": null,
            "grid_auto_flow": null,
            "grid_area": null,
            "grid_template_columns": null,
            "flex": null,
            "_model_name": "LayoutModel",
            "justify_items": null,
            "grid_row": null,
            "max_height": null,
            "align_content": null,
            "visibility": null,
            "align_self": null,
            "height": null,
            "min_height": null,
            "padding": null,
            "grid_auto_rows": null,
            "grid_gap": null,
            "max_width": null,
            "order": null,
            "_view_module_version": "1.2.0",
            "grid_template_areas": null,
            "object_position": null,
            "object_fit": null,
            "grid_auto_columns": null,
            "margin": null,
            "display": null,
            "left": null
          }
        },
        "be46c0e5467244609d37c70b70ffd4c5": {
          "model_module": "@jupyter-widgets/controls",
          "model_name": "HBoxModel",
          "model_module_version": "1.5.0",
          "state": {
            "_view_name": "HBoxView",
            "_dom_classes": [],
            "_model_name": "HBoxModel",
            "_view_module": "@jupyter-widgets/controls",
            "_model_module_version": "1.5.0",
            "_view_count": null,
            "_view_module_version": "1.5.0",
            "box_style": "",
            "layout": "IPY_MODEL_f7c0a93d115444d9906aba0cdc986bef",
            "_model_module": "@jupyter-widgets/controls",
            "children": [
              "IPY_MODEL_a41ad9edb1e24f1d9291f6a1a05934be",
              "IPY_MODEL_cc7cc32d63984ec7bf4afee9909ed1c5",
              "IPY_MODEL_9fd040838b614c96bf3adc7f3f6f0ec3"
            ]
          }
        },
        "f7c0a93d115444d9906aba0cdc986bef": {
          "model_module": "@jupyter-widgets/base",
          "model_name": "LayoutModel",
          "model_module_version": "1.2.0",
          "state": {
            "_view_name": "LayoutView",
            "grid_template_rows": null,
            "right": null,
            "justify_content": null,
            "_view_module": "@jupyter-widgets/base",
            "overflow": null,
            "_model_module_version": "1.2.0",
            "_view_count": null,
            "flex_flow": null,
            "width": null,
            "min_width": null,
            "border": null,
            "align_items": null,
            "bottom": null,
            "_model_module": "@jupyter-widgets/base",
            "top": null,
            "grid_column": null,
            "overflow_y": null,
            "overflow_x": null,
            "grid_auto_flow": null,
            "grid_area": null,
            "grid_template_columns": null,
            "flex": null,
            "_model_name": "LayoutModel",
            "justify_items": null,
            "grid_row": null,
            "max_height": null,
            "align_content": null,
            "visibility": null,
            "align_self": null,
            "height": null,
            "min_height": null,
            "padding": null,
            "grid_auto_rows": null,
            "grid_gap": null,
            "max_width": null,
            "order": null,
            "_view_module_version": "1.2.0",
            "grid_template_areas": null,
            "object_position": null,
            "object_fit": null,
            "grid_auto_columns": null,
            "margin": null,
            "display": null,
            "left": null
          }
        },
        "a41ad9edb1e24f1d9291f6a1a05934be": {
          "model_module": "@jupyter-widgets/controls",
          "model_name": "HTMLModel",
          "model_module_version": "1.5.0",
          "state": {
            "_view_name": "HTMLView",
            "style": "IPY_MODEL_2c12e809db1a4a3b8ed228a18f9d475a",
            "_dom_classes": [],
            "description": "",
            "_model_name": "HTMLModel",
            "placeholder": "​",
            "_view_module": "@jupyter-widgets/controls",
            "_model_module_version": "1.5.0",
            "value": "Downloading: 100%",
            "_view_count": null,
            "_view_module_version": "1.5.0",
            "description_tooltip": null,
            "_model_module": "@jupyter-widgets/controls",
            "layout": "IPY_MODEL_3a798c7ac5f743afa6f1482bdb728d3e"
          }
        },
        "cc7cc32d63984ec7bf4afee9909ed1c5": {
          "model_module": "@jupyter-widgets/controls",
          "model_name": "FloatProgressModel",
          "model_module_version": "1.5.0",
          "state": {
            "_view_name": "ProgressView",
            "style": "IPY_MODEL_2f6d5da59eb64a919340d24db481d7b4",
            "_dom_classes": [],
            "description": "",
            "_model_name": "FloatProgressModel",
            "bar_style": "success",
            "max": 625,
            "_view_module": "@jupyter-widgets/controls",
            "_model_module_version": "1.5.0",
            "value": 625,
            "_view_count": null,
            "_view_module_version": "1.5.0",
            "orientation": "horizontal",
            "min": 0,
            "description_tooltip": null,
            "_model_module": "@jupyter-widgets/controls",
            "layout": "IPY_MODEL_e3a1193059ed477f9f4b93e97d872e86"
          }
        },
        "9fd040838b614c96bf3adc7f3f6f0ec3": {
          "model_module": "@jupyter-widgets/controls",
          "model_name": "HTMLModel",
          "model_module_version": "1.5.0",
          "state": {
            "_view_name": "HTMLView",
            "style": "IPY_MODEL_d10b6f79e35f4dad8aab60b4f5c0737e",
            "_dom_classes": [],
            "description": "",
            "_model_name": "HTMLModel",
            "placeholder": "​",
            "_view_module": "@jupyter-widgets/controls",
            "_model_module_version": "1.5.0",
            "value": " 625/625 [00:00&lt;00:00, 17.6kB/s]",
            "_view_count": null,
            "_view_module_version": "1.5.0",
            "description_tooltip": null,
            "_model_module": "@jupyter-widgets/controls",
            "layout": "IPY_MODEL_872da5012a6e40818b35dacb63f7f490"
          }
        },
        "2c12e809db1a4a3b8ed228a18f9d475a": {
          "model_module": "@jupyter-widgets/controls",
          "model_name": "DescriptionStyleModel",
          "model_module_version": "1.5.0",
          "state": {
            "_view_name": "StyleView",
            "_model_name": "DescriptionStyleModel",
            "description_width": "",
            "_view_module": "@jupyter-widgets/base",
            "_model_module_version": "1.5.0",
            "_view_count": null,
            "_view_module_version": "1.2.0",
            "_model_module": "@jupyter-widgets/controls"
          }
        },
        "3a798c7ac5f743afa6f1482bdb728d3e": {
          "model_module": "@jupyter-widgets/base",
          "model_name": "LayoutModel",
          "model_module_version": "1.2.0",
          "state": {
            "_view_name": "LayoutView",
            "grid_template_rows": null,
            "right": null,
            "justify_content": null,
            "_view_module": "@jupyter-widgets/base",
            "overflow": null,
            "_model_module_version": "1.2.0",
            "_view_count": null,
            "flex_flow": null,
            "width": null,
            "min_width": null,
            "border": null,
            "align_items": null,
            "bottom": null,
            "_model_module": "@jupyter-widgets/base",
            "top": null,
            "grid_column": null,
            "overflow_y": null,
            "overflow_x": null,
            "grid_auto_flow": null,
            "grid_area": null,
            "grid_template_columns": null,
            "flex": null,
            "_model_name": "LayoutModel",
            "justify_items": null,
            "grid_row": null,
            "max_height": null,
            "align_content": null,
            "visibility": null,
            "align_self": null,
            "height": null,
            "min_height": null,
            "padding": null,
            "grid_auto_rows": null,
            "grid_gap": null,
            "max_width": null,
            "order": null,
            "_view_module_version": "1.2.0",
            "grid_template_areas": null,
            "object_position": null,
            "object_fit": null,
            "grid_auto_columns": null,
            "margin": null,
            "display": null,
            "left": null
          }
        },
        "2f6d5da59eb64a919340d24db481d7b4": {
          "model_module": "@jupyter-widgets/controls",
          "model_name": "ProgressStyleModel",
          "model_module_version": "1.5.0",
          "state": {
            "_view_name": "StyleView",
            "_model_name": "ProgressStyleModel",
            "description_width": "",
            "_view_module": "@jupyter-widgets/base",
            "_model_module_version": "1.5.0",
            "_view_count": null,
            "_view_module_version": "1.2.0",
            "bar_color": null,
            "_model_module": "@jupyter-widgets/controls"
          }
        },
        "e3a1193059ed477f9f4b93e97d872e86": {
          "model_module": "@jupyter-widgets/base",
          "model_name": "LayoutModel",
          "model_module_version": "1.2.0",
          "state": {
            "_view_name": "LayoutView",
            "grid_template_rows": null,
            "right": null,
            "justify_content": null,
            "_view_module": "@jupyter-widgets/base",
            "overflow": null,
            "_model_module_version": "1.2.0",
            "_view_count": null,
            "flex_flow": null,
            "width": null,
            "min_width": null,
            "border": null,
            "align_items": null,
            "bottom": null,
            "_model_module": "@jupyter-widgets/base",
            "top": null,
            "grid_column": null,
            "overflow_y": null,
            "overflow_x": null,
            "grid_auto_flow": null,
            "grid_area": null,
            "grid_template_columns": null,
            "flex": null,
            "_model_name": "LayoutModel",
            "justify_items": null,
            "grid_row": null,
            "max_height": null,
            "align_content": null,
            "visibility": null,
            "align_self": null,
            "height": null,
            "min_height": null,
            "padding": null,
            "grid_auto_rows": null,
            "grid_gap": null,
            "max_width": null,
            "order": null,
            "_view_module_version": "1.2.0",
            "grid_template_areas": null,
            "object_position": null,
            "object_fit": null,
            "grid_auto_columns": null,
            "margin": null,
            "display": null,
            "left": null
          }
        },
        "d10b6f79e35f4dad8aab60b4f5c0737e": {
          "model_module": "@jupyter-widgets/controls",
          "model_name": "DescriptionStyleModel",
          "model_module_version": "1.5.0",
          "state": {
            "_view_name": "StyleView",
            "_model_name": "DescriptionStyleModel",
            "description_width": "",
            "_view_module": "@jupyter-widgets/base",
            "_model_module_version": "1.5.0",
            "_view_count": null,
            "_view_module_version": "1.2.0",
            "_model_module": "@jupyter-widgets/controls"
          }
        },
        "872da5012a6e40818b35dacb63f7f490": {
          "model_module": "@jupyter-widgets/base",
          "model_name": "LayoutModel",
          "model_module_version": "1.2.0",
          "state": {
            "_view_name": "LayoutView",
            "grid_template_rows": null,
            "right": null,
            "justify_content": null,
            "_view_module": "@jupyter-widgets/base",
            "overflow": null,
            "_model_module_version": "1.2.0",
            "_view_count": null,
            "flex_flow": null,
            "width": null,
            "min_width": null,
            "border": null,
            "align_items": null,
            "bottom": null,
            "_model_module": "@jupyter-widgets/base",
            "top": null,
            "grid_column": null,
            "overflow_y": null,
            "overflow_x": null,
            "grid_auto_flow": null,
            "grid_area": null,
            "grid_template_columns": null,
            "flex": null,
            "_model_name": "LayoutModel",
            "justify_items": null,
            "grid_row": null,
            "max_height": null,
            "align_content": null,
            "visibility": null,
            "align_self": null,
            "height": null,
            "min_height": null,
            "padding": null,
            "grid_auto_rows": null,
            "grid_gap": null,
            "max_width": null,
            "order": null,
            "_view_module_version": "1.2.0",
            "grid_template_areas": null,
            "object_position": null,
            "object_fit": null,
            "grid_auto_columns": null,
            "margin": null,
            "display": null,
            "left": null
          }
        },
        "49851bc182cd47cdbd624ec3df51b83a": {
          "model_module": "@jupyter-widgets/controls",
          "model_name": "HBoxModel",
          "model_module_version": "1.5.0",
          "state": {
            "_view_name": "HBoxView",
            "_dom_classes": [],
            "_model_name": "HBoxModel",
            "_view_module": "@jupyter-widgets/controls",
            "_model_module_version": "1.5.0",
            "_view_count": null,
            "_view_module_version": "1.5.0",
            "box_style": "",
            "layout": "IPY_MODEL_17d14aa69f1d479ca5d32ed479493a06",
            "_model_module": "@jupyter-widgets/controls",
            "children": [
              "IPY_MODEL_3fd0b89c54344ba6804b09afe540f19c",
              "IPY_MODEL_ec213603d1fd488487eb1ed1774a765f",
              "IPY_MODEL_684d64ed85ff4c009877bd740735f036"
            ]
          }
        },
        "17d14aa69f1d479ca5d32ed479493a06": {
          "model_module": "@jupyter-widgets/base",
          "model_name": "LayoutModel",
          "model_module_version": "1.2.0",
          "state": {
            "_view_name": "LayoutView",
            "grid_template_rows": null,
            "right": null,
            "justify_content": null,
            "_view_module": "@jupyter-widgets/base",
            "overflow": null,
            "_model_module_version": "1.2.0",
            "_view_count": null,
            "flex_flow": null,
            "width": null,
            "min_width": null,
            "border": null,
            "align_items": null,
            "bottom": null,
            "_model_module": "@jupyter-widgets/base",
            "top": null,
            "grid_column": null,
            "overflow_y": null,
            "overflow_x": null,
            "grid_auto_flow": null,
            "grid_area": null,
            "grid_template_columns": null,
            "flex": null,
            "_model_name": "LayoutModel",
            "justify_items": null,
            "grid_row": null,
            "max_height": null,
            "align_content": null,
            "visibility": null,
            "align_self": null,
            "height": null,
            "min_height": null,
            "padding": null,
            "grid_auto_rows": null,
            "grid_gap": null,
            "max_width": null,
            "order": null,
            "_view_module_version": "1.2.0",
            "grid_template_areas": null,
            "object_position": null,
            "object_fit": null,
            "grid_auto_columns": null,
            "margin": null,
            "display": null,
            "left": null
          }
        },
        "3fd0b89c54344ba6804b09afe540f19c": {
          "model_module": "@jupyter-widgets/controls",
          "model_name": "HTMLModel",
          "model_module_version": "1.5.0",
          "state": {
            "_view_name": "HTMLView",
            "style": "IPY_MODEL_24a1414e6d2b4dd8b05006869c7e82e7",
            "_dom_classes": [],
            "description": "",
            "_model_name": "HTMLModel",
            "placeholder": "​",
            "_view_module": "@jupyter-widgets/controls",
            "_model_module_version": "1.5.0",
            "value": "Downloading: 100%",
            "_view_count": null,
            "_view_module_version": "1.5.0",
            "description_tooltip": null,
            "_model_module": "@jupyter-widgets/controls",
            "layout": "IPY_MODEL_a112810962c44aa0aef4f536c952b545"
          }
        },
        "ec213603d1fd488487eb1ed1774a765f": {
          "model_module": "@jupyter-widgets/controls",
          "model_name": "FloatProgressModel",
          "model_module_version": "1.5.0",
          "state": {
            "_view_name": "ProgressView",
            "style": "IPY_MODEL_5a1293bca05b4cc3846634d69440fcda",
            "_dom_classes": [],
            "description": "",
            "_model_name": "FloatProgressModel",
            "bar_style": "success",
            "max": 995526,
            "_view_module": "@jupyter-widgets/controls",
            "_model_module_version": "1.5.0",
            "value": 995526,
            "_view_count": null,
            "_view_module_version": "1.5.0",
            "orientation": "horizontal",
            "min": 0,
            "description_tooltip": null,
            "_model_module": "@jupyter-widgets/controls",
            "layout": "IPY_MODEL_32376bc0c2c84a7aa92957f4046b2b12"
          }
        },
        "684d64ed85ff4c009877bd740735f036": {
          "model_module": "@jupyter-widgets/controls",
          "model_name": "HTMLModel",
          "model_module_version": "1.5.0",
          "state": {
            "_view_name": "HTMLView",
            "style": "IPY_MODEL_3d3c56dbef2c4a2dbb135296c9526a48",
            "_dom_classes": [],
            "description": "",
            "_model_name": "HTMLModel",
            "placeholder": "​",
            "_view_module": "@jupyter-widgets/controls",
            "_model_module_version": "1.5.0",
            "value": " 972k/972k [00:00&lt;00:00, 2.59MB/s]",
            "_view_count": null,
            "_view_module_version": "1.5.0",
            "description_tooltip": null,
            "_model_module": "@jupyter-widgets/controls",
            "layout": "IPY_MODEL_1c005abbf8ef40dc8137f6d6d5d9081c"
          }
        },
        "24a1414e6d2b4dd8b05006869c7e82e7": {
          "model_module": "@jupyter-widgets/controls",
          "model_name": "DescriptionStyleModel",
          "model_module_version": "1.5.0",
          "state": {
            "_view_name": "StyleView",
            "_model_name": "DescriptionStyleModel",
            "description_width": "",
            "_view_module": "@jupyter-widgets/base",
            "_model_module_version": "1.5.0",
            "_view_count": null,
            "_view_module_version": "1.2.0",
            "_model_module": "@jupyter-widgets/controls"
          }
        },
        "a112810962c44aa0aef4f536c952b545": {
          "model_module": "@jupyter-widgets/base",
          "model_name": "LayoutModel",
          "model_module_version": "1.2.0",
          "state": {
            "_view_name": "LayoutView",
            "grid_template_rows": null,
            "right": null,
            "justify_content": null,
            "_view_module": "@jupyter-widgets/base",
            "overflow": null,
            "_model_module_version": "1.2.0",
            "_view_count": null,
            "flex_flow": null,
            "width": null,
            "min_width": null,
            "border": null,
            "align_items": null,
            "bottom": null,
            "_model_module": "@jupyter-widgets/base",
            "top": null,
            "grid_column": null,
            "overflow_y": null,
            "overflow_x": null,
            "grid_auto_flow": null,
            "grid_area": null,
            "grid_template_columns": null,
            "flex": null,
            "_model_name": "LayoutModel",
            "justify_items": null,
            "grid_row": null,
            "max_height": null,
            "align_content": null,
            "visibility": null,
            "align_self": null,
            "height": null,
            "min_height": null,
            "padding": null,
            "grid_auto_rows": null,
            "grid_gap": null,
            "max_width": null,
            "order": null,
            "_view_module_version": "1.2.0",
            "grid_template_areas": null,
            "object_position": null,
            "object_fit": null,
            "grid_auto_columns": null,
            "margin": null,
            "display": null,
            "left": null
          }
        },
        "5a1293bca05b4cc3846634d69440fcda": {
          "model_module": "@jupyter-widgets/controls",
          "model_name": "ProgressStyleModel",
          "model_module_version": "1.5.0",
          "state": {
            "_view_name": "StyleView",
            "_model_name": "ProgressStyleModel",
            "description_width": "",
            "_view_module": "@jupyter-widgets/base",
            "_model_module_version": "1.5.0",
            "_view_count": null,
            "_view_module_version": "1.2.0",
            "bar_color": null,
            "_model_module": "@jupyter-widgets/controls"
          }
        },
        "32376bc0c2c84a7aa92957f4046b2b12": {
          "model_module": "@jupyter-widgets/base",
          "model_name": "LayoutModel",
          "model_module_version": "1.2.0",
          "state": {
            "_view_name": "LayoutView",
            "grid_template_rows": null,
            "right": null,
            "justify_content": null,
            "_view_module": "@jupyter-widgets/base",
            "overflow": null,
            "_model_module_version": "1.2.0",
            "_view_count": null,
            "flex_flow": null,
            "width": null,
            "min_width": null,
            "border": null,
            "align_items": null,
            "bottom": null,
            "_model_module": "@jupyter-widgets/base",
            "top": null,
            "grid_column": null,
            "overflow_y": null,
            "overflow_x": null,
            "grid_auto_flow": null,
            "grid_area": null,
            "grid_template_columns": null,
            "flex": null,
            "_model_name": "LayoutModel",
            "justify_items": null,
            "grid_row": null,
            "max_height": null,
            "align_content": null,
            "visibility": null,
            "align_self": null,
            "height": null,
            "min_height": null,
            "padding": null,
            "grid_auto_rows": null,
            "grid_gap": null,
            "max_width": null,
            "order": null,
            "_view_module_version": "1.2.0",
            "grid_template_areas": null,
            "object_position": null,
            "object_fit": null,
            "grid_auto_columns": null,
            "margin": null,
            "display": null,
            "left": null
          }
        },
        "3d3c56dbef2c4a2dbb135296c9526a48": {
          "model_module": "@jupyter-widgets/controls",
          "model_name": "DescriptionStyleModel",
          "model_module_version": "1.5.0",
          "state": {
            "_view_name": "StyleView",
            "_model_name": "DescriptionStyleModel",
            "description_width": "",
            "_view_module": "@jupyter-widgets/base",
            "_model_module_version": "1.5.0",
            "_view_count": null,
            "_view_module_version": "1.2.0",
            "_model_module": "@jupyter-widgets/controls"
          }
        },
        "1c005abbf8ef40dc8137f6d6d5d9081c": {
          "model_module": "@jupyter-widgets/base",
          "model_name": "LayoutModel",
          "model_module_version": "1.2.0",
          "state": {
            "_view_name": "LayoutView",
            "grid_template_rows": null,
            "right": null,
            "justify_content": null,
            "_view_module": "@jupyter-widgets/base",
            "overflow": null,
            "_model_module_version": "1.2.0",
            "_view_count": null,
            "flex_flow": null,
            "width": null,
            "min_width": null,
            "border": null,
            "align_items": null,
            "bottom": null,
            "_model_module": "@jupyter-widgets/base",
            "top": null,
            "grid_column": null,
            "overflow_y": null,
            "overflow_x": null,
            "grid_auto_flow": null,
            "grid_area": null,
            "grid_template_columns": null,
            "flex": null,
            "_model_name": "LayoutModel",
            "justify_items": null,
            "grid_row": null,
            "max_height": null,
            "align_content": null,
            "visibility": null,
            "align_self": null,
            "height": null,
            "min_height": null,
            "padding": null,
            "grid_auto_rows": null,
            "grid_gap": null,
            "max_width": null,
            "order": null,
            "_view_module_version": "1.2.0",
            "grid_template_areas": null,
            "object_position": null,
            "object_fit": null,
            "grid_auto_columns": null,
            "margin": null,
            "display": null,
            "left": null
          }
        },
        "bef937997043499e96651799f127b5e9": {
          "model_module": "@jupyter-widgets/controls",
          "model_name": "HBoxModel",
          "model_module_version": "1.5.0",
          "state": {
            "_view_name": "HBoxView",
            "_dom_classes": [],
            "_model_name": "HBoxModel",
            "_view_module": "@jupyter-widgets/controls",
            "_model_module_version": "1.5.0",
            "_view_count": null,
            "_view_module_version": "1.5.0",
            "box_style": "",
            "layout": "IPY_MODEL_bc88752cd8534d60855cbf75c4662d81",
            "_model_module": "@jupyter-widgets/controls",
            "children": [
              "IPY_MODEL_8d3ff987e7a743a693b21c97aefd5673",
              "IPY_MODEL_eb5675fd3e674741accdc4aaf5f0f015",
              "IPY_MODEL_ae71dfdcb6244d76964e7858b6728197"
            ]
          }
        },
        "bc88752cd8534d60855cbf75c4662d81": {
          "model_module": "@jupyter-widgets/base",
          "model_name": "LayoutModel",
          "model_module_version": "1.2.0",
          "state": {
            "_view_name": "LayoutView",
            "grid_template_rows": null,
            "right": null,
            "justify_content": null,
            "_view_module": "@jupyter-widgets/base",
            "overflow": null,
            "_model_module_version": "1.2.0",
            "_view_count": null,
            "flex_flow": null,
            "width": null,
            "min_width": null,
            "border": null,
            "align_items": null,
            "bottom": null,
            "_model_module": "@jupyter-widgets/base",
            "top": null,
            "grid_column": null,
            "overflow_y": null,
            "overflow_x": null,
            "grid_auto_flow": null,
            "grid_area": null,
            "grid_template_columns": null,
            "flex": null,
            "_model_name": "LayoutModel",
            "justify_items": null,
            "grid_row": null,
            "max_height": null,
            "align_content": null,
            "visibility": null,
            "align_self": null,
            "height": null,
            "min_height": null,
            "padding": null,
            "grid_auto_rows": null,
            "grid_gap": null,
            "max_width": null,
            "order": null,
            "_view_module_version": "1.2.0",
            "grid_template_areas": null,
            "object_position": null,
            "object_fit": null,
            "grid_auto_columns": null,
            "margin": null,
            "display": null,
            "left": null
          }
        },
        "8d3ff987e7a743a693b21c97aefd5673": {
          "model_module": "@jupyter-widgets/controls",
          "model_name": "HTMLModel",
          "model_module_version": "1.5.0",
          "state": {
            "_view_name": "HTMLView",
            "style": "IPY_MODEL_a782b93d55ed4cdbbc0f8721cc34ff6b",
            "_dom_classes": [],
            "description": "",
            "_model_name": "HTMLModel",
            "placeholder": "​",
            "_view_module": "@jupyter-widgets/controls",
            "_model_module_version": "1.5.0",
            "value": "Downloading: 100%",
            "_view_count": null,
            "_view_module_version": "1.5.0",
            "description_tooltip": null,
            "_model_module": "@jupyter-widgets/controls",
            "layout": "IPY_MODEL_c10a66115a40442f873245d432891cfb"
          }
        },
        "eb5675fd3e674741accdc4aaf5f0f015": {
          "model_module": "@jupyter-widgets/controls",
          "model_name": "FloatProgressModel",
          "model_module_version": "1.5.0",
          "state": {
            "_view_name": "ProgressView",
            "style": "IPY_MODEL_06cea33f77ed48ff9a554323f3f308b0",
            "_dom_classes": [],
            "description": "",
            "_model_name": "FloatProgressModel",
            "bar_style": "success",
            "max": 1961828,
            "_view_module": "@jupyter-widgets/controls",
            "_model_module_version": "1.5.0",
            "value": 1961828,
            "_view_count": null,
            "_view_module_version": "1.5.0",
            "orientation": "horizontal",
            "min": 0,
            "description_tooltip": null,
            "_model_module": "@jupyter-widgets/controls",
            "layout": "IPY_MODEL_3c8532667ba240ee8a05e40c19666669"
          }
        },
        "ae71dfdcb6244d76964e7858b6728197": {
          "model_module": "@jupyter-widgets/controls",
          "model_name": "HTMLModel",
          "model_module_version": "1.5.0",
          "state": {
            "_view_name": "HTMLView",
            "style": "IPY_MODEL_49839039b5aa4348b88c72fc63f37b55",
            "_dom_classes": [],
            "description": "",
            "_model_name": "HTMLModel",
            "placeholder": "​",
            "_view_module": "@jupyter-widgets/controls",
            "_model_module_version": "1.5.0",
            "value": " 1.87M/1.87M [00:00&lt;00:00, 3.02MB/s]",
            "_view_count": null,
            "_view_module_version": "1.5.0",
            "description_tooltip": null,
            "_model_module": "@jupyter-widgets/controls",
            "layout": "IPY_MODEL_c10b198856544d6ea390c4852c2911bf"
          }
        },
        "a782b93d55ed4cdbbc0f8721cc34ff6b": {
          "model_module": "@jupyter-widgets/controls",
          "model_name": "DescriptionStyleModel",
          "model_module_version": "1.5.0",
          "state": {
            "_view_name": "StyleView",
            "_model_name": "DescriptionStyleModel",
            "description_width": "",
            "_view_module": "@jupyter-widgets/base",
            "_model_module_version": "1.5.0",
            "_view_count": null,
            "_view_module_version": "1.2.0",
            "_model_module": "@jupyter-widgets/controls"
          }
        },
        "c10a66115a40442f873245d432891cfb": {
          "model_module": "@jupyter-widgets/base",
          "model_name": "LayoutModel",
          "model_module_version": "1.2.0",
          "state": {
            "_view_name": "LayoutView",
            "grid_template_rows": null,
            "right": null,
            "justify_content": null,
            "_view_module": "@jupyter-widgets/base",
            "overflow": null,
            "_model_module_version": "1.2.0",
            "_view_count": null,
            "flex_flow": null,
            "width": null,
            "min_width": null,
            "border": null,
            "align_items": null,
            "bottom": null,
            "_model_module": "@jupyter-widgets/base",
            "top": null,
            "grid_column": null,
            "overflow_y": null,
            "overflow_x": null,
            "grid_auto_flow": null,
            "grid_area": null,
            "grid_template_columns": null,
            "flex": null,
            "_model_name": "LayoutModel",
            "justify_items": null,
            "grid_row": null,
            "max_height": null,
            "align_content": null,
            "visibility": null,
            "align_self": null,
            "height": null,
            "min_height": null,
            "padding": null,
            "grid_auto_rows": null,
            "grid_gap": null,
            "max_width": null,
            "order": null,
            "_view_module_version": "1.2.0",
            "grid_template_areas": null,
            "object_position": null,
            "object_fit": null,
            "grid_auto_columns": null,
            "margin": null,
            "display": null,
            "left": null
          }
        },
        "06cea33f77ed48ff9a554323f3f308b0": {
          "model_module": "@jupyter-widgets/controls",
          "model_name": "ProgressStyleModel",
          "model_module_version": "1.5.0",
          "state": {
            "_view_name": "StyleView",
            "_model_name": "ProgressStyleModel",
            "description_width": "",
            "_view_module": "@jupyter-widgets/base",
            "_model_module_version": "1.5.0",
            "_view_count": null,
            "_view_module_version": "1.2.0",
            "bar_color": null,
            "_model_module": "@jupyter-widgets/controls"
          }
        },
        "3c8532667ba240ee8a05e40c19666669": {
          "model_module": "@jupyter-widgets/base",
          "model_name": "LayoutModel",
          "model_module_version": "1.2.0",
          "state": {
            "_view_name": "LayoutView",
            "grid_template_rows": null,
            "right": null,
            "justify_content": null,
            "_view_module": "@jupyter-widgets/base",
            "overflow": null,
            "_model_module_version": "1.2.0",
            "_view_count": null,
            "flex_flow": null,
            "width": null,
            "min_width": null,
            "border": null,
            "align_items": null,
            "bottom": null,
            "_model_module": "@jupyter-widgets/base",
            "top": null,
            "grid_column": null,
            "overflow_y": null,
            "overflow_x": null,
            "grid_auto_flow": null,
            "grid_area": null,
            "grid_template_columns": null,
            "flex": null,
            "_model_name": "LayoutModel",
            "justify_items": null,
            "grid_row": null,
            "max_height": null,
            "align_content": null,
            "visibility": null,
            "align_self": null,
            "height": null,
            "min_height": null,
            "padding": null,
            "grid_auto_rows": null,
            "grid_gap": null,
            "max_width": null,
            "order": null,
            "_view_module_version": "1.2.0",
            "grid_template_areas": null,
            "object_position": null,
            "object_fit": null,
            "grid_auto_columns": null,
            "margin": null,
            "display": null,
            "left": null
          }
        },
        "49839039b5aa4348b88c72fc63f37b55": {
          "model_module": "@jupyter-widgets/controls",
          "model_name": "DescriptionStyleModel",
          "model_module_version": "1.5.0",
          "state": {
            "_view_name": "StyleView",
            "_model_name": "DescriptionStyleModel",
            "description_width": "",
            "_view_module": "@jupyter-widgets/base",
            "_model_module_version": "1.5.0",
            "_view_count": null,
            "_view_module_version": "1.2.0",
            "_model_module": "@jupyter-widgets/controls"
          }
        },
        "c10b198856544d6ea390c4852c2911bf": {
          "model_module": "@jupyter-widgets/base",
          "model_name": "LayoutModel",
          "model_module_version": "1.2.0",
          "state": {
            "_view_name": "LayoutView",
            "grid_template_rows": null,
            "right": null,
            "justify_content": null,
            "_view_module": "@jupyter-widgets/base",
            "overflow": null,
            "_model_module_version": "1.2.0",
            "_view_count": null,
            "flex_flow": null,
            "width": null,
            "min_width": null,
            "border": null,
            "align_items": null,
            "bottom": null,
            "_model_module": "@jupyter-widgets/base",
            "top": null,
            "grid_column": null,
            "overflow_y": null,
            "overflow_x": null,
            "grid_auto_flow": null,
            "grid_area": null,
            "grid_template_columns": null,
            "flex": null,
            "_model_name": "LayoutModel",
            "justify_items": null,
            "grid_row": null,
            "max_height": null,
            "align_content": null,
            "visibility": null,
            "align_self": null,
            "height": null,
            "min_height": null,
            "padding": null,
            "grid_auto_rows": null,
            "grid_gap": null,
            "max_width": null,
            "order": null,
            "_view_module_version": "1.2.0",
            "grid_template_areas": null,
            "object_position": null,
            "object_fit": null,
            "grid_auto_columns": null,
            "margin": null,
            "display": null,
            "left": null
          }
        },
        "05a4f10deb8b41fc98a44615327b63d4": {
          "model_module": "@jupyter-widgets/controls",
          "model_name": "HBoxModel",
          "model_module_version": "1.5.0",
          "state": {
            "_view_name": "HBoxView",
            "_dom_classes": [],
            "_model_name": "HBoxModel",
            "_view_module": "@jupyter-widgets/controls",
            "_model_module_version": "1.5.0",
            "_view_count": null,
            "_view_module_version": "1.5.0",
            "box_style": "",
            "layout": "IPY_MODEL_a80852e8b3ae4df5aa55d8c875090445",
            "_model_module": "@jupyter-widgets/controls",
            "children": [
              "IPY_MODEL_5755513335e740489e167fcad01d6b35",
              "IPY_MODEL_bcb5b29b830c4181b7315560bcf945f8",
              "IPY_MODEL_244308259edc4c5c8e93a2eba6b0488e"
            ]
          }
        },
        "a80852e8b3ae4df5aa55d8c875090445": {
          "model_module": "@jupyter-widgets/base",
          "model_name": "LayoutModel",
          "model_module_version": "1.2.0",
          "state": {
            "_view_name": "LayoutView",
            "grid_template_rows": null,
            "right": null,
            "justify_content": null,
            "_view_module": "@jupyter-widgets/base",
            "overflow": null,
            "_model_module_version": "1.2.0",
            "_view_count": null,
            "flex_flow": null,
            "width": null,
            "min_width": null,
            "border": null,
            "align_items": null,
            "bottom": null,
            "_model_module": "@jupyter-widgets/base",
            "top": null,
            "grid_column": null,
            "overflow_y": null,
            "overflow_x": null,
            "grid_auto_flow": null,
            "grid_area": null,
            "grid_template_columns": null,
            "flex": null,
            "_model_name": "LayoutModel",
            "justify_items": null,
            "grid_row": null,
            "max_height": null,
            "align_content": null,
            "visibility": null,
            "align_self": null,
            "height": null,
            "min_height": null,
            "padding": null,
            "grid_auto_rows": null,
            "grid_gap": null,
            "max_width": null,
            "order": null,
            "_view_module_version": "1.2.0",
            "grid_template_areas": null,
            "object_position": null,
            "object_fit": null,
            "grid_auto_columns": null,
            "margin": null,
            "display": null,
            "left": null
          }
        },
        "5755513335e740489e167fcad01d6b35": {
          "model_module": "@jupyter-widgets/controls",
          "model_name": "HTMLModel",
          "model_module_version": "1.5.0",
          "state": {
            "_view_name": "HTMLView",
            "style": "IPY_MODEL_130adb650b4444479e1f3d432c9a2edc",
            "_dom_classes": [],
            "description": "",
            "_model_name": "HTMLModel",
            "placeholder": "​",
            "_view_module": "@jupyter-widgets/controls",
            "_model_module_version": "1.5.0",
            "value": "100%",
            "_view_count": null,
            "_view_module_version": "1.5.0",
            "description_tooltip": null,
            "_model_module": "@jupyter-widgets/controls",
            "layout": "IPY_MODEL_b73f4cd0fe6d4a1e977972e70cc9676d"
          }
        },
        "bcb5b29b830c4181b7315560bcf945f8": {
          "model_module": "@jupyter-widgets/controls",
          "model_name": "FloatProgressModel",
          "model_module_version": "1.5.0",
          "state": {
            "_view_name": "ProgressView",
            "style": "IPY_MODEL_4788660426b54c94b7f5220d78c69624",
            "_dom_classes": [],
            "description": "",
            "_model_name": "FloatProgressModel",
            "bar_style": "success",
            "max": 17,
            "_view_module": "@jupyter-widgets/controls",
            "_model_module_version": "1.5.0",
            "value": 17,
            "_view_count": null,
            "_view_module_version": "1.5.0",
            "orientation": "horizontal",
            "min": 0,
            "description_tooltip": null,
            "_model_module": "@jupyter-widgets/controls",
            "layout": "IPY_MODEL_f80211138f8b4d068d56f37c215ba785"
          }
        },
        "244308259edc4c5c8e93a2eba6b0488e": {
          "model_module": "@jupyter-widgets/controls",
          "model_name": "HTMLModel",
          "model_module_version": "1.5.0",
          "state": {
            "_view_name": "HTMLView",
            "style": "IPY_MODEL_b60f396ef9b54fe7863660638bc5c03f",
            "_dom_classes": [],
            "description": "",
            "_model_name": "HTMLModel",
            "placeholder": "​",
            "_view_module": "@jupyter-widgets/controls",
            "_model_module_version": "1.5.0",
            "value": " 17/17 [00:03&lt;00:00,  4.37ba/s]",
            "_view_count": null,
            "_view_module_version": "1.5.0",
            "description_tooltip": null,
            "_model_module": "@jupyter-widgets/controls",
            "layout": "IPY_MODEL_8aba0a402db94baa9df1dbd8c1eac68b"
          }
        },
        "130adb650b4444479e1f3d432c9a2edc": {
          "model_module": "@jupyter-widgets/controls",
          "model_name": "DescriptionStyleModel",
          "model_module_version": "1.5.0",
          "state": {
            "_view_name": "StyleView",
            "_model_name": "DescriptionStyleModel",
            "description_width": "",
            "_view_module": "@jupyter-widgets/base",
            "_model_module_version": "1.5.0",
            "_view_count": null,
            "_view_module_version": "1.2.0",
            "_model_module": "@jupyter-widgets/controls"
          }
        },
        "b73f4cd0fe6d4a1e977972e70cc9676d": {
          "model_module": "@jupyter-widgets/base",
          "model_name": "LayoutModel",
          "model_module_version": "1.2.0",
          "state": {
            "_view_name": "LayoutView",
            "grid_template_rows": null,
            "right": null,
            "justify_content": null,
            "_view_module": "@jupyter-widgets/base",
            "overflow": null,
            "_model_module_version": "1.2.0",
            "_view_count": null,
            "flex_flow": null,
            "width": null,
            "min_width": null,
            "border": null,
            "align_items": null,
            "bottom": null,
            "_model_module": "@jupyter-widgets/base",
            "top": null,
            "grid_column": null,
            "overflow_y": null,
            "overflow_x": null,
            "grid_auto_flow": null,
            "grid_area": null,
            "grid_template_columns": null,
            "flex": null,
            "_model_name": "LayoutModel",
            "justify_items": null,
            "grid_row": null,
            "max_height": null,
            "align_content": null,
            "visibility": null,
            "align_self": null,
            "height": null,
            "min_height": null,
            "padding": null,
            "grid_auto_rows": null,
            "grid_gap": null,
            "max_width": null,
            "order": null,
            "_view_module_version": "1.2.0",
            "grid_template_areas": null,
            "object_position": null,
            "object_fit": null,
            "grid_auto_columns": null,
            "margin": null,
            "display": null,
            "left": null
          }
        },
        "4788660426b54c94b7f5220d78c69624": {
          "model_module": "@jupyter-widgets/controls",
          "model_name": "ProgressStyleModel",
          "model_module_version": "1.5.0",
          "state": {
            "_view_name": "StyleView",
            "_model_name": "ProgressStyleModel",
            "description_width": "",
            "_view_module": "@jupyter-widgets/base",
            "_model_module_version": "1.5.0",
            "_view_count": null,
            "_view_module_version": "1.2.0",
            "bar_color": null,
            "_model_module": "@jupyter-widgets/controls"
          }
        },
        "f80211138f8b4d068d56f37c215ba785": {
          "model_module": "@jupyter-widgets/base",
          "model_name": "LayoutModel",
          "model_module_version": "1.2.0",
          "state": {
            "_view_name": "LayoutView",
            "grid_template_rows": null,
            "right": null,
            "justify_content": null,
            "_view_module": "@jupyter-widgets/base",
            "overflow": null,
            "_model_module_version": "1.2.0",
            "_view_count": null,
            "flex_flow": null,
            "width": null,
            "min_width": null,
            "border": null,
            "align_items": null,
            "bottom": null,
            "_model_module": "@jupyter-widgets/base",
            "top": null,
            "grid_column": null,
            "overflow_y": null,
            "overflow_x": null,
            "grid_auto_flow": null,
            "grid_area": null,
            "grid_template_columns": null,
            "flex": null,
            "_model_name": "LayoutModel",
            "justify_items": null,
            "grid_row": null,
            "max_height": null,
            "align_content": null,
            "visibility": null,
            "align_self": null,
            "height": null,
            "min_height": null,
            "padding": null,
            "grid_auto_rows": null,
            "grid_gap": null,
            "max_width": null,
            "order": null,
            "_view_module_version": "1.2.0",
            "grid_template_areas": null,
            "object_position": null,
            "object_fit": null,
            "grid_auto_columns": null,
            "margin": null,
            "display": null,
            "left": null
          }
        },
        "b60f396ef9b54fe7863660638bc5c03f": {
          "model_module": "@jupyter-widgets/controls",
          "model_name": "DescriptionStyleModel",
          "model_module_version": "1.5.0",
          "state": {
            "_view_name": "StyleView",
            "_model_name": "DescriptionStyleModel",
            "description_width": "",
            "_view_module": "@jupyter-widgets/base",
            "_model_module_version": "1.5.0",
            "_view_count": null,
            "_view_module_version": "1.2.0",
            "_model_module": "@jupyter-widgets/controls"
          }
        },
        "8aba0a402db94baa9df1dbd8c1eac68b": {
          "model_module": "@jupyter-widgets/base",
          "model_name": "LayoutModel",
          "model_module_version": "1.2.0",
          "state": {
            "_view_name": "LayoutView",
            "grid_template_rows": null,
            "right": null,
            "justify_content": null,
            "_view_module": "@jupyter-widgets/base",
            "overflow": null,
            "_model_module_version": "1.2.0",
            "_view_count": null,
            "flex_flow": null,
            "width": null,
            "min_width": null,
            "border": null,
            "align_items": null,
            "bottom": null,
            "_model_module": "@jupyter-widgets/base",
            "top": null,
            "grid_column": null,
            "overflow_y": null,
            "overflow_x": null,
            "grid_auto_flow": null,
            "grid_area": null,
            "grid_template_columns": null,
            "flex": null,
            "_model_name": "LayoutModel",
            "justify_items": null,
            "grid_row": null,
            "max_height": null,
            "align_content": null,
            "visibility": null,
            "align_self": null,
            "height": null,
            "min_height": null,
            "padding": null,
            "grid_auto_rows": null,
            "grid_gap": null,
            "max_width": null,
            "order": null,
            "_view_module_version": "1.2.0",
            "grid_template_areas": null,
            "object_position": null,
            "object_fit": null,
            "grid_auto_columns": null,
            "margin": null,
            "display": null,
            "left": null
          }
        },
        "58a29c5d46ee47c483a5b02d74ec547a": {
          "model_module": "@jupyter-widgets/controls",
          "model_name": "HBoxModel",
          "model_module_version": "1.5.0",
          "state": {
            "_view_name": "HBoxView",
            "_dom_classes": [],
            "_model_name": "HBoxModel",
            "_view_module": "@jupyter-widgets/controls",
            "_model_module_version": "1.5.0",
            "_view_count": null,
            "_view_module_version": "1.5.0",
            "box_style": "",
            "layout": "IPY_MODEL_fdef78db6f9144cb8fa2b153777de405",
            "_model_module": "@jupyter-widgets/controls",
            "children": [
              "IPY_MODEL_03b32cf030874decabd580c814654b99",
              "IPY_MODEL_05633b1635bb4650b133cbe40e5ff04b",
              "IPY_MODEL_84b9d178077e470d8046ed7957957b57"
            ]
          }
        },
        "fdef78db6f9144cb8fa2b153777de405": {
          "model_module": "@jupyter-widgets/base",
          "model_name": "LayoutModel",
          "model_module_version": "1.2.0",
          "state": {
            "_view_name": "LayoutView",
            "grid_template_rows": null,
            "right": null,
            "justify_content": null,
            "_view_module": "@jupyter-widgets/base",
            "overflow": null,
            "_model_module_version": "1.2.0",
            "_view_count": null,
            "flex_flow": null,
            "width": null,
            "min_width": null,
            "border": null,
            "align_items": null,
            "bottom": null,
            "_model_module": "@jupyter-widgets/base",
            "top": null,
            "grid_column": null,
            "overflow_y": null,
            "overflow_x": null,
            "grid_auto_flow": null,
            "grid_area": null,
            "grid_template_columns": null,
            "flex": null,
            "_model_name": "LayoutModel",
            "justify_items": null,
            "grid_row": null,
            "max_height": null,
            "align_content": null,
            "visibility": null,
            "align_self": null,
            "height": null,
            "min_height": null,
            "padding": null,
            "grid_auto_rows": null,
            "grid_gap": null,
            "max_width": null,
            "order": null,
            "_view_module_version": "1.2.0",
            "grid_template_areas": null,
            "object_position": null,
            "object_fit": null,
            "grid_auto_columns": null,
            "margin": null,
            "display": null,
            "left": null
          }
        },
        "03b32cf030874decabd580c814654b99": {
          "model_module": "@jupyter-widgets/controls",
          "model_name": "HTMLModel",
          "model_module_version": "1.5.0",
          "state": {
            "_view_name": "HTMLView",
            "style": "IPY_MODEL_65dd40f1cfd24f3d93d64bbe3c909542",
            "_dom_classes": [],
            "description": "",
            "_model_name": "HTMLModel",
            "placeholder": "​",
            "_view_module": "@jupyter-widgets/controls",
            "_model_module_version": "1.5.0",
            "value": "100%",
            "_view_count": null,
            "_view_module_version": "1.5.0",
            "description_tooltip": null,
            "_model_module": "@jupyter-widgets/controls",
            "layout": "IPY_MODEL_51ee3a72a1844461b1932b9d8eaa48d0"
          }
        },
        "05633b1635bb4650b133cbe40e5ff04b": {
          "model_module": "@jupyter-widgets/controls",
          "model_name": "FloatProgressModel",
          "model_module_version": "1.5.0",
          "state": {
            "_view_name": "ProgressView",
            "style": "IPY_MODEL_4fea31316e7c41488da61f4523d3eb72",
            "_dom_classes": [],
            "description": "",
            "_model_name": "FloatProgressModel",
            "bar_style": "success",
            "max": 6,
            "_view_module": "@jupyter-widgets/controls",
            "_model_module_version": "1.5.0",
            "value": 6,
            "_view_count": null,
            "_view_module_version": "1.5.0",
            "orientation": "horizontal",
            "min": 0,
            "description_tooltip": null,
            "_model_module": "@jupyter-widgets/controls",
            "layout": "IPY_MODEL_c2768a15c9494c0d907235942347d7cf"
          }
        },
        "84b9d178077e470d8046ed7957957b57": {
          "model_module": "@jupyter-widgets/controls",
          "model_name": "HTMLModel",
          "model_module_version": "1.5.0",
          "state": {
            "_view_name": "HTMLView",
            "style": "IPY_MODEL_834ca47c646f4ae7aed18ffc486ea628",
            "_dom_classes": [],
            "description": "",
            "_model_name": "HTMLModel",
            "placeholder": "​",
            "_view_module": "@jupyter-widgets/controls",
            "_model_module_version": "1.5.0",
            "value": " 6/6 [00:01&lt;00:00,  5.23ba/s]",
            "_view_count": null,
            "_view_module_version": "1.5.0",
            "description_tooltip": null,
            "_model_module": "@jupyter-widgets/controls",
            "layout": "IPY_MODEL_d502d4ea7ab04b0ab4084a6ed84e4497"
          }
        },
        "65dd40f1cfd24f3d93d64bbe3c909542": {
          "model_module": "@jupyter-widgets/controls",
          "model_name": "DescriptionStyleModel",
          "model_module_version": "1.5.0",
          "state": {
            "_view_name": "StyleView",
            "_model_name": "DescriptionStyleModel",
            "description_width": "",
            "_view_module": "@jupyter-widgets/base",
            "_model_module_version": "1.5.0",
            "_view_count": null,
            "_view_module_version": "1.2.0",
            "_model_module": "@jupyter-widgets/controls"
          }
        },
        "51ee3a72a1844461b1932b9d8eaa48d0": {
          "model_module": "@jupyter-widgets/base",
          "model_name": "LayoutModel",
          "model_module_version": "1.2.0",
          "state": {
            "_view_name": "LayoutView",
            "grid_template_rows": null,
            "right": null,
            "justify_content": null,
            "_view_module": "@jupyter-widgets/base",
            "overflow": null,
            "_model_module_version": "1.2.0",
            "_view_count": null,
            "flex_flow": null,
            "width": null,
            "min_width": null,
            "border": null,
            "align_items": null,
            "bottom": null,
            "_model_module": "@jupyter-widgets/base",
            "top": null,
            "grid_column": null,
            "overflow_y": null,
            "overflow_x": null,
            "grid_auto_flow": null,
            "grid_area": null,
            "grid_template_columns": null,
            "flex": null,
            "_model_name": "LayoutModel",
            "justify_items": null,
            "grid_row": null,
            "max_height": null,
            "align_content": null,
            "visibility": null,
            "align_self": null,
            "height": null,
            "min_height": null,
            "padding": null,
            "grid_auto_rows": null,
            "grid_gap": null,
            "max_width": null,
            "order": null,
            "_view_module_version": "1.2.0",
            "grid_template_areas": null,
            "object_position": null,
            "object_fit": null,
            "grid_auto_columns": null,
            "margin": null,
            "display": null,
            "left": null
          }
        },
        "4fea31316e7c41488da61f4523d3eb72": {
          "model_module": "@jupyter-widgets/controls",
          "model_name": "ProgressStyleModel",
          "model_module_version": "1.5.0",
          "state": {
            "_view_name": "StyleView",
            "_model_name": "ProgressStyleModel",
            "description_width": "",
            "_view_module": "@jupyter-widgets/base",
            "_model_module_version": "1.5.0",
            "_view_count": null,
            "_view_module_version": "1.2.0",
            "bar_color": null,
            "_model_module": "@jupyter-widgets/controls"
          }
        },
        "c2768a15c9494c0d907235942347d7cf": {
          "model_module": "@jupyter-widgets/base",
          "model_name": "LayoutModel",
          "model_module_version": "1.2.0",
          "state": {
            "_view_name": "LayoutView",
            "grid_template_rows": null,
            "right": null,
            "justify_content": null,
            "_view_module": "@jupyter-widgets/base",
            "overflow": null,
            "_model_module_version": "1.2.0",
            "_view_count": null,
            "flex_flow": null,
            "width": null,
            "min_width": null,
            "border": null,
            "align_items": null,
            "bottom": null,
            "_model_module": "@jupyter-widgets/base",
            "top": null,
            "grid_column": null,
            "overflow_y": null,
            "overflow_x": null,
            "grid_auto_flow": null,
            "grid_area": null,
            "grid_template_columns": null,
            "flex": null,
            "_model_name": "LayoutModel",
            "justify_items": null,
            "grid_row": null,
            "max_height": null,
            "align_content": null,
            "visibility": null,
            "align_self": null,
            "height": null,
            "min_height": null,
            "padding": null,
            "grid_auto_rows": null,
            "grid_gap": null,
            "max_width": null,
            "order": null,
            "_view_module_version": "1.2.0",
            "grid_template_areas": null,
            "object_position": null,
            "object_fit": null,
            "grid_auto_columns": null,
            "margin": null,
            "display": null,
            "left": null
          }
        },
        "834ca47c646f4ae7aed18ffc486ea628": {
          "model_module": "@jupyter-widgets/controls",
          "model_name": "DescriptionStyleModel",
          "model_module_version": "1.5.0",
          "state": {
            "_view_name": "StyleView",
            "_model_name": "DescriptionStyleModel",
            "description_width": "",
            "_view_module": "@jupyter-widgets/base",
            "_model_module_version": "1.5.0",
            "_view_count": null,
            "_view_module_version": "1.2.0",
            "_model_module": "@jupyter-widgets/controls"
          }
        },
        "d502d4ea7ab04b0ab4084a6ed84e4497": {
          "model_module": "@jupyter-widgets/base",
          "model_name": "LayoutModel",
          "model_module_version": "1.2.0",
          "state": {
            "_view_name": "LayoutView",
            "grid_template_rows": null,
            "right": null,
            "justify_content": null,
            "_view_module": "@jupyter-widgets/base",
            "overflow": null,
            "_model_module_version": "1.2.0",
            "_view_count": null,
            "flex_flow": null,
            "width": null,
            "min_width": null,
            "border": null,
            "align_items": null,
            "bottom": null,
            "_model_module": "@jupyter-widgets/base",
            "top": null,
            "grid_column": null,
            "overflow_y": null,
            "overflow_x": null,
            "grid_auto_flow": null,
            "grid_area": null,
            "grid_template_columns": null,
            "flex": null,
            "_model_name": "LayoutModel",
            "justify_items": null,
            "grid_row": null,
            "max_height": null,
            "align_content": null,
            "visibility": null,
            "align_self": null,
            "height": null,
            "min_height": null,
            "padding": null,
            "grid_auto_rows": null,
            "grid_gap": null,
            "max_width": null,
            "order": null,
            "_view_module_version": "1.2.0",
            "grid_template_areas": null,
            "object_position": null,
            "object_fit": null,
            "grid_auto_columns": null,
            "margin": null,
            "display": null,
            "left": null
          }
        },
        "87d8ed90c77e4ee0a4461f8c9030ae1a": {
          "model_module": "@jupyter-widgets/controls",
          "model_name": "HBoxModel",
          "model_module_version": "1.5.0",
          "state": {
            "_view_name": "HBoxView",
            "_dom_classes": [],
            "_model_name": "HBoxModel",
            "_view_module": "@jupyter-widgets/controls",
            "_model_module_version": "1.5.0",
            "_view_count": null,
            "_view_module_version": "1.5.0",
            "box_style": "",
            "layout": "IPY_MODEL_800e39da09f747eab66b1bd2a0cb9901",
            "_model_module": "@jupyter-widgets/controls",
            "children": [
              "IPY_MODEL_ce8cf3ccc50c4505bf20b980a40c66a0",
              "IPY_MODEL_13ec3297144d4377ae0e52818d0eded6",
              "IPY_MODEL_b90b28701c32464bad7e236982622df4"
            ]
          }
        },
        "800e39da09f747eab66b1bd2a0cb9901": {
          "model_module": "@jupyter-widgets/base",
          "model_name": "LayoutModel",
          "model_module_version": "1.2.0",
          "state": {
            "_view_name": "LayoutView",
            "grid_template_rows": null,
            "right": null,
            "justify_content": null,
            "_view_module": "@jupyter-widgets/base",
            "overflow": null,
            "_model_module_version": "1.2.0",
            "_view_count": null,
            "flex_flow": null,
            "width": null,
            "min_width": null,
            "border": null,
            "align_items": null,
            "bottom": null,
            "_model_module": "@jupyter-widgets/base",
            "top": null,
            "grid_column": null,
            "overflow_y": null,
            "overflow_x": null,
            "grid_auto_flow": null,
            "grid_area": null,
            "grid_template_columns": null,
            "flex": null,
            "_model_name": "LayoutModel",
            "justify_items": null,
            "grid_row": null,
            "max_height": null,
            "align_content": null,
            "visibility": null,
            "align_self": null,
            "height": null,
            "min_height": null,
            "padding": null,
            "grid_auto_rows": null,
            "grid_gap": null,
            "max_width": null,
            "order": null,
            "_view_module_version": "1.2.0",
            "grid_template_areas": null,
            "object_position": null,
            "object_fit": null,
            "grid_auto_columns": null,
            "margin": null,
            "display": null,
            "left": null
          }
        },
        "ce8cf3ccc50c4505bf20b980a40c66a0": {
          "model_module": "@jupyter-widgets/controls",
          "model_name": "HTMLModel",
          "model_module_version": "1.5.0",
          "state": {
            "_view_name": "HTMLView",
            "style": "IPY_MODEL_d5b485f80303459c980a21421f770cc3",
            "_dom_classes": [],
            "description": "",
            "_model_name": "HTMLModel",
            "placeholder": "​",
            "_view_module": "@jupyter-widgets/controls",
            "_model_module_version": "1.5.0",
            "value": "Downloading: 100%",
            "_view_count": null,
            "_view_module_version": "1.5.0",
            "description_tooltip": null,
            "_model_module": "@jupyter-widgets/controls",
            "layout": "IPY_MODEL_4cfcbc7d2b594c53989ddb8c6f36f440"
          }
        },
        "13ec3297144d4377ae0e52818d0eded6": {
          "model_module": "@jupyter-widgets/controls",
          "model_name": "FloatProgressModel",
          "model_module_version": "1.5.0",
          "state": {
            "_view_name": "ProgressView",
            "style": "IPY_MODEL_19bf2c620a334ad6ac1d94760aab09df",
            "_dom_classes": [],
            "description": "",
            "_model_name": "FloatProgressModel",
            "bar_style": "success",
            "max": 714314041,
            "_view_module": "@jupyter-widgets/controls",
            "_model_module_version": "1.5.0",
            "value": 714314041,
            "_view_count": null,
            "_view_module_version": "1.5.0",
            "orientation": "horizontal",
            "min": 0,
            "description_tooltip": null,
            "_model_module": "@jupyter-widgets/controls",
            "layout": "IPY_MODEL_47390d77d45c4613baf9a8dc892aae00"
          }
        },
        "b90b28701c32464bad7e236982622df4": {
          "model_module": "@jupyter-widgets/controls",
          "model_name": "HTMLModel",
          "model_module_version": "1.5.0",
          "state": {
            "_view_name": "HTMLView",
            "style": "IPY_MODEL_5839f56212cc4a8ca7474eaa74011313",
            "_dom_classes": [],
            "description": "",
            "_model_name": "HTMLModel",
            "placeholder": "​",
            "_view_module": "@jupyter-widgets/controls",
            "_model_module_version": "1.5.0",
            "value": " 681M/681M [00:54&lt;00:00, 16.6MB/s]",
            "_view_count": null,
            "_view_module_version": "1.5.0",
            "description_tooltip": null,
            "_model_module": "@jupyter-widgets/controls",
            "layout": "IPY_MODEL_613a4ea15a254a6facf244ab90812a99"
          }
        },
        "d5b485f80303459c980a21421f770cc3": {
          "model_module": "@jupyter-widgets/controls",
          "model_name": "DescriptionStyleModel",
          "model_module_version": "1.5.0",
          "state": {
            "_view_name": "StyleView",
            "_model_name": "DescriptionStyleModel",
            "description_width": "",
            "_view_module": "@jupyter-widgets/base",
            "_model_module_version": "1.5.0",
            "_view_count": null,
            "_view_module_version": "1.2.0",
            "_model_module": "@jupyter-widgets/controls"
          }
        },
        "4cfcbc7d2b594c53989ddb8c6f36f440": {
          "model_module": "@jupyter-widgets/base",
          "model_name": "LayoutModel",
          "model_module_version": "1.2.0",
          "state": {
            "_view_name": "LayoutView",
            "grid_template_rows": null,
            "right": null,
            "justify_content": null,
            "_view_module": "@jupyter-widgets/base",
            "overflow": null,
            "_model_module_version": "1.2.0",
            "_view_count": null,
            "flex_flow": null,
            "width": null,
            "min_width": null,
            "border": null,
            "align_items": null,
            "bottom": null,
            "_model_module": "@jupyter-widgets/base",
            "top": null,
            "grid_column": null,
            "overflow_y": null,
            "overflow_x": null,
            "grid_auto_flow": null,
            "grid_area": null,
            "grid_template_columns": null,
            "flex": null,
            "_model_name": "LayoutModel",
            "justify_items": null,
            "grid_row": null,
            "max_height": null,
            "align_content": null,
            "visibility": null,
            "align_self": null,
            "height": null,
            "min_height": null,
            "padding": null,
            "grid_auto_rows": null,
            "grid_gap": null,
            "max_width": null,
            "order": null,
            "_view_module_version": "1.2.0",
            "grid_template_areas": null,
            "object_position": null,
            "object_fit": null,
            "grid_auto_columns": null,
            "margin": null,
            "display": null,
            "left": null
          }
        },
        "19bf2c620a334ad6ac1d94760aab09df": {
          "model_module": "@jupyter-widgets/controls",
          "model_name": "ProgressStyleModel",
          "model_module_version": "1.5.0",
          "state": {
            "_view_name": "StyleView",
            "_model_name": "ProgressStyleModel",
            "description_width": "",
            "_view_module": "@jupyter-widgets/base",
            "_model_module_version": "1.5.0",
            "_view_count": null,
            "_view_module_version": "1.2.0",
            "bar_color": null,
            "_model_module": "@jupyter-widgets/controls"
          }
        },
        "47390d77d45c4613baf9a8dc892aae00": {
          "model_module": "@jupyter-widgets/base",
          "model_name": "LayoutModel",
          "model_module_version": "1.2.0",
          "state": {
            "_view_name": "LayoutView",
            "grid_template_rows": null,
            "right": null,
            "justify_content": null,
            "_view_module": "@jupyter-widgets/base",
            "overflow": null,
            "_model_module_version": "1.2.0",
            "_view_count": null,
            "flex_flow": null,
            "width": null,
            "min_width": null,
            "border": null,
            "align_items": null,
            "bottom": null,
            "_model_module": "@jupyter-widgets/base",
            "top": null,
            "grid_column": null,
            "overflow_y": null,
            "overflow_x": null,
            "grid_auto_flow": null,
            "grid_area": null,
            "grid_template_columns": null,
            "flex": null,
            "_model_name": "LayoutModel",
            "justify_items": null,
            "grid_row": null,
            "max_height": null,
            "align_content": null,
            "visibility": null,
            "align_self": null,
            "height": null,
            "min_height": null,
            "padding": null,
            "grid_auto_rows": null,
            "grid_gap": null,
            "max_width": null,
            "order": null,
            "_view_module_version": "1.2.0",
            "grid_template_areas": null,
            "object_position": null,
            "object_fit": null,
            "grid_auto_columns": null,
            "margin": null,
            "display": null,
            "left": null
          }
        },
        "5839f56212cc4a8ca7474eaa74011313": {
          "model_module": "@jupyter-widgets/controls",
          "model_name": "DescriptionStyleModel",
          "model_module_version": "1.5.0",
          "state": {
            "_view_name": "StyleView",
            "_model_name": "DescriptionStyleModel",
            "description_width": "",
            "_view_module": "@jupyter-widgets/base",
            "_model_module_version": "1.5.0",
            "_view_count": null,
            "_view_module_version": "1.2.0",
            "_model_module": "@jupyter-widgets/controls"
          }
        },
        "613a4ea15a254a6facf244ab90812a99": {
          "model_module": "@jupyter-widgets/base",
          "model_name": "LayoutModel",
          "model_module_version": "1.2.0",
          "state": {
            "_view_name": "LayoutView",
            "grid_template_rows": null,
            "right": null,
            "justify_content": null,
            "_view_module": "@jupyter-widgets/base",
            "overflow": null,
            "_model_module_version": "1.2.0",
            "_view_count": null,
            "flex_flow": null,
            "width": null,
            "min_width": null,
            "border": null,
            "align_items": null,
            "bottom": null,
            "_model_module": "@jupyter-widgets/base",
            "top": null,
            "grid_column": null,
            "overflow_y": null,
            "overflow_x": null,
            "grid_auto_flow": null,
            "grid_area": null,
            "grid_template_columns": null,
            "flex": null,
            "_model_name": "LayoutModel",
            "justify_items": null,
            "grid_row": null,
            "max_height": null,
            "align_content": null,
            "visibility": null,
            "align_self": null,
            "height": null,
            "min_height": null,
            "padding": null,
            "grid_auto_rows": null,
            "grid_gap": null,
            "max_width": null,
            "order": null,
            "_view_module_version": "1.2.0",
            "grid_template_areas": null,
            "object_position": null,
            "object_fit": null,
            "grid_auto_columns": null,
            "margin": null,
            "display": null,
            "left": null
          }
        },
        "b9e237265e544b71840b6f7130260d3f": {
          "model_module": "@jupyter-widgets/controls",
          "model_name": "HBoxModel",
          "model_module_version": "1.5.0",
          "state": {
            "_view_name": "HBoxView",
            "_dom_classes": [],
            "_model_name": "HBoxModel",
            "_view_module": "@jupyter-widgets/controls",
            "_model_module_version": "1.5.0",
            "_view_count": null,
            "_view_module_version": "1.5.0",
            "box_style": "",
            "layout": "IPY_MODEL_21ed9af2dd224c47aee45a0186aefd55",
            "_model_module": "@jupyter-widgets/controls",
            "children": [
              "IPY_MODEL_4c94a7d6c08248d9837971bda777d072",
              "IPY_MODEL_a454bf56bd314ba793a3a4f01ee6b1aa",
              "IPY_MODEL_01e32d8b1463461b9cca12399909fe2d"
            ]
          }
        },
        "21ed9af2dd224c47aee45a0186aefd55": {
          "model_module": "@jupyter-widgets/base",
          "model_name": "LayoutModel",
          "model_module_version": "1.2.0",
          "state": {
            "_view_name": "LayoutView",
            "grid_template_rows": null,
            "right": null,
            "justify_content": null,
            "_view_module": "@jupyter-widgets/base",
            "overflow": null,
            "_model_module_version": "1.2.0",
            "_view_count": null,
            "flex_flow": null,
            "width": null,
            "min_width": null,
            "border": null,
            "align_items": null,
            "bottom": null,
            "_model_module": "@jupyter-widgets/base",
            "top": null,
            "grid_column": null,
            "overflow_y": null,
            "overflow_x": null,
            "grid_auto_flow": null,
            "grid_area": null,
            "grid_template_columns": null,
            "flex": null,
            "_model_name": "LayoutModel",
            "justify_items": null,
            "grid_row": null,
            "max_height": null,
            "align_content": null,
            "visibility": null,
            "align_self": null,
            "height": null,
            "min_height": null,
            "padding": null,
            "grid_auto_rows": null,
            "grid_gap": null,
            "max_width": null,
            "order": null,
            "_view_module_version": "1.2.0",
            "grid_template_areas": null,
            "object_position": null,
            "object_fit": null,
            "grid_auto_columns": null,
            "margin": null,
            "display": null,
            "left": null
          }
        },
        "4c94a7d6c08248d9837971bda777d072": {
          "model_module": "@jupyter-widgets/controls",
          "model_name": "HTMLModel",
          "model_module_version": "1.5.0",
          "state": {
            "_view_name": "HTMLView",
            "style": "IPY_MODEL_4f2fdcf1d15742ad9827f95daf966920",
            "_dom_classes": [],
            "description": "",
            "_model_name": "HTMLModel",
            "placeholder": "​",
            "_view_module": "@jupyter-widgets/controls",
            "_model_module_version": "1.5.0",
            "value": "Downloading: ",
            "_view_count": null,
            "_view_module_version": "1.5.0",
            "description_tooltip": null,
            "_model_module": "@jupyter-widgets/controls",
            "layout": "IPY_MODEL_6ea4f9dc31d944ebb2d72ee4038de3d8"
          }
        },
        "a454bf56bd314ba793a3a4f01ee6b1aa": {
          "model_module": "@jupyter-widgets/controls",
          "model_name": "FloatProgressModel",
          "model_module_version": "1.5.0",
          "state": {
            "_view_name": "ProgressView",
            "style": "IPY_MODEL_5c3fd35c18464633b06044fa3e91349e",
            "_dom_classes": [],
            "description": "",
            "_model_name": "FloatProgressModel",
            "bar_style": "success",
            "max": 1420,
            "_view_module": "@jupyter-widgets/controls",
            "_model_module_version": "1.5.0",
            "value": 1420,
            "_view_count": null,
            "_view_module_version": "1.5.0",
            "orientation": "horizontal",
            "min": 0,
            "description_tooltip": null,
            "_model_module": "@jupyter-widgets/controls",
            "layout": "IPY_MODEL_553c09cf2bd5452d97171ddf331a82ba"
          }
        },
        "01e32d8b1463461b9cca12399909fe2d": {
          "model_module": "@jupyter-widgets/controls",
          "model_name": "HTMLModel",
          "model_module_version": "1.5.0",
          "state": {
            "_view_name": "HTMLView",
            "style": "IPY_MODEL_89397a5d754d44508fed536622a73ec4",
            "_dom_classes": [],
            "description": "",
            "_model_name": "HTMLModel",
            "placeholder": "​",
            "_view_module": "@jupyter-widgets/controls",
            "_model_module_version": "1.5.0",
            "value": " 3.20k/? [00:00&lt;00:00, 103kB/s]",
            "_view_count": null,
            "_view_module_version": "1.5.0",
            "description_tooltip": null,
            "_model_module": "@jupyter-widgets/controls",
            "layout": "IPY_MODEL_ab2d514363bc46e790cf51db7c5bb4f1"
          }
        },
        "4f2fdcf1d15742ad9827f95daf966920": {
          "model_module": "@jupyter-widgets/controls",
          "model_name": "DescriptionStyleModel",
          "model_module_version": "1.5.0",
          "state": {
            "_view_name": "StyleView",
            "_model_name": "DescriptionStyleModel",
            "description_width": "",
            "_view_module": "@jupyter-widgets/base",
            "_model_module_version": "1.5.0",
            "_view_count": null,
            "_view_module_version": "1.2.0",
            "_model_module": "@jupyter-widgets/controls"
          }
        },
        "6ea4f9dc31d944ebb2d72ee4038de3d8": {
          "model_module": "@jupyter-widgets/base",
          "model_name": "LayoutModel",
          "model_module_version": "1.2.0",
          "state": {
            "_view_name": "LayoutView",
            "grid_template_rows": null,
            "right": null,
            "justify_content": null,
            "_view_module": "@jupyter-widgets/base",
            "overflow": null,
            "_model_module_version": "1.2.0",
            "_view_count": null,
            "flex_flow": null,
            "width": null,
            "min_width": null,
            "border": null,
            "align_items": null,
            "bottom": null,
            "_model_module": "@jupyter-widgets/base",
            "top": null,
            "grid_column": null,
            "overflow_y": null,
            "overflow_x": null,
            "grid_auto_flow": null,
            "grid_area": null,
            "grid_template_columns": null,
            "flex": null,
            "_model_name": "LayoutModel",
            "justify_items": null,
            "grid_row": null,
            "max_height": null,
            "align_content": null,
            "visibility": null,
            "align_self": null,
            "height": null,
            "min_height": null,
            "padding": null,
            "grid_auto_rows": null,
            "grid_gap": null,
            "max_width": null,
            "order": null,
            "_view_module_version": "1.2.0",
            "grid_template_areas": null,
            "object_position": null,
            "object_fit": null,
            "grid_auto_columns": null,
            "margin": null,
            "display": null,
            "left": null
          }
        },
        "5c3fd35c18464633b06044fa3e91349e": {
          "model_module": "@jupyter-widgets/controls",
          "model_name": "ProgressStyleModel",
          "model_module_version": "1.5.0",
          "state": {
            "_view_name": "StyleView",
            "_model_name": "ProgressStyleModel",
            "description_width": "",
            "_view_module": "@jupyter-widgets/base",
            "_model_module_version": "1.5.0",
            "_view_count": null,
            "_view_module_version": "1.2.0",
            "bar_color": null,
            "_model_module": "@jupyter-widgets/controls"
          }
        },
        "553c09cf2bd5452d97171ddf331a82ba": {
          "model_module": "@jupyter-widgets/base",
          "model_name": "LayoutModel",
          "model_module_version": "1.2.0",
          "state": {
            "_view_name": "LayoutView",
            "grid_template_rows": null,
            "right": null,
            "justify_content": null,
            "_view_module": "@jupyter-widgets/base",
            "overflow": null,
            "_model_module_version": "1.2.0",
            "_view_count": null,
            "flex_flow": null,
            "width": null,
            "min_width": null,
            "border": null,
            "align_items": null,
            "bottom": null,
            "_model_module": "@jupyter-widgets/base",
            "top": null,
            "grid_column": null,
            "overflow_y": null,
            "overflow_x": null,
            "grid_auto_flow": null,
            "grid_area": null,
            "grid_template_columns": null,
            "flex": null,
            "_model_name": "LayoutModel",
            "justify_items": null,
            "grid_row": null,
            "max_height": null,
            "align_content": null,
            "visibility": null,
            "align_self": null,
            "height": null,
            "min_height": null,
            "padding": null,
            "grid_auto_rows": null,
            "grid_gap": null,
            "max_width": null,
            "order": null,
            "_view_module_version": "1.2.0",
            "grid_template_areas": null,
            "object_position": null,
            "object_fit": null,
            "grid_auto_columns": null,
            "margin": null,
            "display": null,
            "left": null
          }
        },
        "89397a5d754d44508fed536622a73ec4": {
          "model_module": "@jupyter-widgets/controls",
          "model_name": "DescriptionStyleModel",
          "model_module_version": "1.5.0",
          "state": {
            "_view_name": "StyleView",
            "_model_name": "DescriptionStyleModel",
            "description_width": "",
            "_view_module": "@jupyter-widgets/base",
            "_model_module_version": "1.5.0",
            "_view_count": null,
            "_view_module_version": "1.2.0",
            "_model_module": "@jupyter-widgets/controls"
          }
        },
        "ab2d514363bc46e790cf51db7c5bb4f1": {
          "model_module": "@jupyter-widgets/base",
          "model_name": "LayoutModel",
          "model_module_version": "1.2.0",
          "state": {
            "_view_name": "LayoutView",
            "grid_template_rows": null,
            "right": null,
            "justify_content": null,
            "_view_module": "@jupyter-widgets/base",
            "overflow": null,
            "_model_module_version": "1.2.0",
            "_view_count": null,
            "flex_flow": null,
            "width": null,
            "min_width": null,
            "border": null,
            "align_items": null,
            "bottom": null,
            "_model_module": "@jupyter-widgets/base",
            "top": null,
            "grid_column": null,
            "overflow_y": null,
            "overflow_x": null,
            "grid_auto_flow": null,
            "grid_area": null,
            "grid_template_columns": null,
            "flex": null,
            "_model_name": "LayoutModel",
            "justify_items": null,
            "grid_row": null,
            "max_height": null,
            "align_content": null,
            "visibility": null,
            "align_self": null,
            "height": null,
            "min_height": null,
            "padding": null,
            "grid_auto_rows": null,
            "grid_gap": null,
            "max_width": null,
            "order": null,
            "_view_module_version": "1.2.0",
            "grid_template_areas": null,
            "object_position": null,
            "object_fit": null,
            "grid_auto_columns": null,
            "margin": null,
            "display": null,
            "left": null
          }
        }
      }
    }
  },
  "cells": [
    {
      "cell_type": "markdown",
      "metadata": {
        "id": "view-in-github",
        "colab_type": "text"
      },
      "source": [
        "<a href=\"https://colab.research.google.com/github/tkasod2/TIL/blob/main/prj_analysis/%EC%8B%A4%EC%A0%84_%ED%94%84%EB%A1%9C%EC%A0%9D%ED%8A%B8_6_%EA%B0%90%EC%84%B1_%EB%B6%84%EC%84%9D%EC%9C%BC%EB%A1%9C_%EB%A6%AC%EB%B7%B0_%EB%B0%98%EC%9D%91_%EC%82%B4%ED%94%BC%EA%B8%B0.ipynb\" target=\"_parent\"><img src=\"https://colab.research.google.com/assets/colab-badge.svg\" alt=\"Open In Colab\"/></a>"
      ]
    },
    {
      "cell_type": "code",
      "source": [
        "!pip install pyLDAvis"
      ],
      "metadata": {
        "colab": {
          "base_uri": "https://localhost:8080/",
          "height": 1000
        },
        "id": "2n4Bjl7Fk7KB",
        "outputId": "caf86786-db18-43d9-9c6d-61ab8831524f"
      },
      "execution_count": null,
      "outputs": [
        {
          "output_type": "stream",
          "name": "stdout",
          "text": [
            "Collecting pyLDAvis\n",
            "  Downloading pyLDAvis-3.3.1.tar.gz (1.7 MB)\n",
            "\u001b[K     |████████████████████████████████| 1.7 MB 7.1 MB/s \n",
            "\u001b[?25h  Installing build dependencies ... \u001b[?25l\u001b[?25hdone\n",
            "  Getting requirements to build wheel ... \u001b[?25l\u001b[?25hdone\n",
            "  Installing backend dependencies ... \u001b[?25l\u001b[?25hdone\n",
            "    Preparing wheel metadata ... \u001b[?25l\u001b[?25hdone\n",
            "Requirement already satisfied: scikit-learn in /usr/local/lib/python3.7/dist-packages (from pyLDAvis) (1.0.1)\n",
            "Collecting funcy\n",
            "  Downloading funcy-1.17-py2.py3-none-any.whl (33 kB)\n",
            "Requirement already satisfied: numexpr in /usr/local/lib/python3.7/dist-packages (from pyLDAvis) (2.7.3)\n",
            "Collecting pandas>=1.2.0\n",
            "  Downloading pandas-1.3.5-cp37-cp37m-manylinux_2_17_x86_64.manylinux2014_x86_64.whl (11.3 MB)\n",
            "\u001b[K     |████████████████████████████████| 11.3 MB 47.1 MB/s \n",
            "\u001b[?25hCollecting numpy>=1.20.0\n",
            "  Downloading numpy-1.21.5-cp37-cp37m-manylinux_2_12_x86_64.manylinux2010_x86_64.whl (15.7 MB)\n",
            "\u001b[K     |████████████████████████████████| 15.7 MB 11.8 MB/s \n",
            "\u001b[?25hRequirement already satisfied: joblib in /usr/local/lib/python3.7/dist-packages (from pyLDAvis) (1.1.0)\n",
            "Requirement already satisfied: jinja2 in /usr/local/lib/python3.7/dist-packages (from pyLDAvis) (2.11.3)\n",
            "Requirement already satisfied: sklearn in /usr/local/lib/python3.7/dist-packages (from pyLDAvis) (0.0)\n",
            "Requirement already satisfied: future in /usr/local/lib/python3.7/dist-packages (from pyLDAvis) (0.16.0)\n",
            "Requirement already satisfied: scipy in /usr/local/lib/python3.7/dist-packages (from pyLDAvis) (1.4.1)\n",
            "Requirement already satisfied: gensim in /usr/local/lib/python3.7/dist-packages (from pyLDAvis) (3.6.0)\n",
            "Requirement already satisfied: setuptools in /usr/local/lib/python3.7/dist-packages (from pyLDAvis) (57.4.0)\n",
            "Requirement already satisfied: pytz>=2017.3 in /usr/local/lib/python3.7/dist-packages (from pandas>=1.2.0->pyLDAvis) (2018.9)\n",
            "Requirement already satisfied: python-dateutil>=2.7.3 in /usr/local/lib/python3.7/dist-packages (from pandas>=1.2.0->pyLDAvis) (2.8.2)\n",
            "Requirement already satisfied: six>=1.5 in /usr/local/lib/python3.7/dist-packages (from python-dateutil>=2.7.3->pandas>=1.2.0->pyLDAvis) (1.15.0)\n",
            "Requirement already satisfied: smart-open>=1.2.1 in /usr/local/lib/python3.7/dist-packages (from gensim->pyLDAvis) (5.2.1)\n",
            "Requirement already satisfied: MarkupSafe>=0.23 in /usr/local/lib/python3.7/dist-packages (from jinja2->pyLDAvis) (2.0.1)\n",
            "Requirement already satisfied: threadpoolctl>=2.0.0 in /usr/local/lib/python3.7/dist-packages (from scikit-learn->pyLDAvis) (3.0.0)\n",
            "Building wheels for collected packages: pyLDAvis\n",
            "  Building wheel for pyLDAvis (PEP 517) ... \u001b[?25l\u001b[?25hdone\n",
            "  Created wheel for pyLDAvis: filename=pyLDAvis-3.3.1-py2.py3-none-any.whl size=136897 sha256=4f825e16842dc66aafb5b7bc1bc83622d58f7a0c74a96a28777f0e8b2b35b7ed\n",
            "  Stored in directory: /root/.cache/pip/wheels/c9/21/f6/17bcf2667e8a68532ba2fbf6d5c72fdf4c7f7d9abfa4852d2f\n",
            "Successfully built pyLDAvis\n",
            "Installing collected packages: numpy, pandas, funcy, pyLDAvis\n",
            "  Attempting uninstall: numpy\n",
            "    Found existing installation: numpy 1.19.5\n",
            "    Uninstalling numpy-1.19.5:\n",
            "      Successfully uninstalled numpy-1.19.5\n",
            "  Attempting uninstall: pandas\n",
            "    Found existing installation: pandas 1.1.5\n",
            "    Uninstalling pandas-1.1.5:\n",
            "      Successfully uninstalled pandas-1.1.5\n",
            "\u001b[31mERROR: pip's dependency resolver does not currently take into account all the packages that are installed. This behaviour is the source of the following dependency conflicts.\n",
            "yellowbrick 1.3.post1 requires numpy<1.20,>=1.16.0, but you have numpy 1.21.5 which is incompatible.\n",
            "google-colab 1.0.0 requires pandas~=1.1.0; python_version >= \"3.0\", but you have pandas 1.3.5 which is incompatible.\n",
            "datascience 0.10.6 requires folium==0.2.1, but you have folium 0.8.3 which is incompatible.\n",
            "albumentations 0.1.12 requires imgaug<0.2.7,>=0.2.5, but you have imgaug 0.2.9 which is incompatible.\u001b[0m\n",
            "Successfully installed funcy-1.17 numpy-1.21.5 pandas-1.3.5 pyLDAvis-3.3.1\n"
          ]
        },
        {
          "output_type": "display_data",
          "data": {
            "application/vnd.colab-display-data+json": {
              "pip_warning": {
                "packages": [
                  "numpy",
                  "pandas"
                ]
              }
            }
          },
          "metadata": {}
        }
      ]
    },
    {
      "cell_type": "code",
      "source": [
        "from google.colab import drive\n",
        "drive.mount('/content/drive')\n"
      ],
      "metadata": {
        "colab": {
          "base_uri": "https://localhost:8080/"
        },
        "id": "mo-N9_RflSUa",
        "outputId": "1041f33c-8cc8-4c8e-f26d-60b4571ad73e"
      },
      "execution_count": null,
      "outputs": [
        {
          "output_type": "stream",
          "name": "stdout",
          "text": [
            "Mounted at /content/drive\n"
          ]
        }
      ]
    },
    {
      "cell_type": "code",
      "source": [
        "DRIVE_PATH = \"/content/drive/MyDrive/\"\n",
        "DATA_DIR_PATH = \"공부/zero_base_data_analysis/[바로-써먹는-데이터-분석]-강의자료-new4/2부/Part 3. 출시한 제품에 대한 반응은 어떤가요_ - 리뷰 텍스트 분석/실전 프로젝트 6. 감성 분석으로 리뷰 반응 살피기/\""
      ],
      "metadata": {
        "id": "XCLxczlgjP-9"
      },
      "execution_count": null,
      "outputs": []
    },
    {
      "cell_type": "code",
      "source": [
        "import warnings\n",
        "warnings.filterwarnings(\"ignore\", category=DeprecationWarning)"
      ],
      "metadata": {
        "id": "IqArACRvlBp9"
      },
      "execution_count": null,
      "outputs": []
    },
    {
      "cell_type": "markdown",
      "metadata": {
        "id": "Nhgd9OOILFwU"
      },
      "source": [
        "# 데이터 살펴보기"
      ]
    },
    {
      "cell_type": "code",
      "metadata": {
        "id": "rsJOZ03bLFE5"
      },
      "source": [
        "from pathlib import Path\n",
        "import pandas as pd\n",
        "import matplotlib.pyplot as plt\n",
        "import seaborn as sns"
      ],
      "execution_count": null,
      "outputs": []
    },
    {
      "cell_type": "code",
      "metadata": {
        "id": "ongFaC3gKvQA"
      },
      "source": [
        "DATA_FILENAME = \"Womens Clothing E-Commerce Reviews.csv\" # 디렉토리 내 데이터 파일의 이름\n",
        "data_path = Path(DRIVE_PATH, DATA_DIR_PATH, DATA_FILENAME)"
      ],
      "execution_count": null,
      "outputs": []
    },
    {
      "cell_type": "code",
      "metadata": {
        "id": "PN5_LlXEK7qE"
      },
      "source": [
        "# 데이터 불러오기\n",
        "df = pd.read_csv(data_path, index_col=0)"
      ],
      "execution_count": null,
      "outputs": []
    },
    {
      "cell_type": "code",
      "metadata": {
        "colab": {
          "base_uri": "https://localhost:8080/",
          "height": 1000
        },
        "id": "rXCSbBrFLPNy",
        "outputId": "7ba8d1ab-7a75-4e48-e4d7-24b48fda1309"
      },
      "source": [
        "# 데이터 살펴보기\n",
        "df.head(10)"
      ],
      "execution_count": null,
      "outputs": [
        {
          "output_type": "execute_result",
          "data": {
            "text/html": [
              "\n",
              "  <div id=\"df-75050288-00a9-41df-ac92-a246cabadeb4\">\n",
              "    <div class=\"colab-df-container\">\n",
              "      <div>\n",
              "<style scoped>\n",
              "    .dataframe tbody tr th:only-of-type {\n",
              "        vertical-align: middle;\n",
              "    }\n",
              "\n",
              "    .dataframe tbody tr th {\n",
              "        vertical-align: top;\n",
              "    }\n",
              "\n",
              "    .dataframe thead th {\n",
              "        text-align: right;\n",
              "    }\n",
              "</style>\n",
              "<table border=\"1\" class=\"dataframe\">\n",
              "  <thead>\n",
              "    <tr style=\"text-align: right;\">\n",
              "      <th></th>\n",
              "      <th>Clothing ID</th>\n",
              "      <th>Age</th>\n",
              "      <th>Title</th>\n",
              "      <th>Review Text</th>\n",
              "      <th>Rating</th>\n",
              "      <th>Recommended IND</th>\n",
              "      <th>Positive Feedback Count</th>\n",
              "      <th>Division Name</th>\n",
              "      <th>Department Name</th>\n",
              "      <th>Class Name</th>\n",
              "    </tr>\n",
              "  </thead>\n",
              "  <tbody>\n",
              "    <tr>\n",
              "      <th>0</th>\n",
              "      <td>767</td>\n",
              "      <td>33</td>\n",
              "      <td>NaN</td>\n",
              "      <td>Absolutely wonderful - silky and sexy and comf...</td>\n",
              "      <td>4</td>\n",
              "      <td>1</td>\n",
              "      <td>0</td>\n",
              "      <td>Initmates</td>\n",
              "      <td>Intimate</td>\n",
              "      <td>Intimates</td>\n",
              "    </tr>\n",
              "    <tr>\n",
              "      <th>1</th>\n",
              "      <td>1080</td>\n",
              "      <td>34</td>\n",
              "      <td>NaN</td>\n",
              "      <td>Love this dress!  it's sooo pretty.  i happene...</td>\n",
              "      <td>5</td>\n",
              "      <td>1</td>\n",
              "      <td>4</td>\n",
              "      <td>General</td>\n",
              "      <td>Dresses</td>\n",
              "      <td>Dresses</td>\n",
              "    </tr>\n",
              "    <tr>\n",
              "      <th>2</th>\n",
              "      <td>1077</td>\n",
              "      <td>60</td>\n",
              "      <td>Some major design flaws</td>\n",
              "      <td>I had such high hopes for this dress and reall...</td>\n",
              "      <td>3</td>\n",
              "      <td>0</td>\n",
              "      <td>0</td>\n",
              "      <td>General</td>\n",
              "      <td>Dresses</td>\n",
              "      <td>Dresses</td>\n",
              "    </tr>\n",
              "    <tr>\n",
              "      <th>3</th>\n",
              "      <td>1049</td>\n",
              "      <td>50</td>\n",
              "      <td>My favorite buy!</td>\n",
              "      <td>I love, love, love this jumpsuit. it's fun, fl...</td>\n",
              "      <td>5</td>\n",
              "      <td>1</td>\n",
              "      <td>0</td>\n",
              "      <td>General Petite</td>\n",
              "      <td>Bottoms</td>\n",
              "      <td>Pants</td>\n",
              "    </tr>\n",
              "    <tr>\n",
              "      <th>4</th>\n",
              "      <td>847</td>\n",
              "      <td>47</td>\n",
              "      <td>Flattering shirt</td>\n",
              "      <td>This shirt is very flattering to all due to th...</td>\n",
              "      <td>5</td>\n",
              "      <td>1</td>\n",
              "      <td>6</td>\n",
              "      <td>General</td>\n",
              "      <td>Tops</td>\n",
              "      <td>Blouses</td>\n",
              "    </tr>\n",
              "    <tr>\n",
              "      <th>5</th>\n",
              "      <td>1080</td>\n",
              "      <td>49</td>\n",
              "      <td>Not for the very petite</td>\n",
              "      <td>I love tracy reese dresses, but this one is no...</td>\n",
              "      <td>2</td>\n",
              "      <td>0</td>\n",
              "      <td>4</td>\n",
              "      <td>General</td>\n",
              "      <td>Dresses</td>\n",
              "      <td>Dresses</td>\n",
              "    </tr>\n",
              "    <tr>\n",
              "      <th>6</th>\n",
              "      <td>858</td>\n",
              "      <td>39</td>\n",
              "      <td>Cagrcoal shimmer fun</td>\n",
              "      <td>I aded this in my basket at hte last mintue to...</td>\n",
              "      <td>5</td>\n",
              "      <td>1</td>\n",
              "      <td>1</td>\n",
              "      <td>General Petite</td>\n",
              "      <td>Tops</td>\n",
              "      <td>Knits</td>\n",
              "    </tr>\n",
              "    <tr>\n",
              "      <th>7</th>\n",
              "      <td>858</td>\n",
              "      <td>39</td>\n",
              "      <td>Shimmer, surprisingly goes with lots</td>\n",
              "      <td>I ordered this in carbon for store pick up, an...</td>\n",
              "      <td>4</td>\n",
              "      <td>1</td>\n",
              "      <td>4</td>\n",
              "      <td>General Petite</td>\n",
              "      <td>Tops</td>\n",
              "      <td>Knits</td>\n",
              "    </tr>\n",
              "    <tr>\n",
              "      <th>8</th>\n",
              "      <td>1077</td>\n",
              "      <td>24</td>\n",
              "      <td>Flattering</td>\n",
              "      <td>I love this dress. i usually get an xs but it ...</td>\n",
              "      <td>5</td>\n",
              "      <td>1</td>\n",
              "      <td>0</td>\n",
              "      <td>General</td>\n",
              "      <td>Dresses</td>\n",
              "      <td>Dresses</td>\n",
              "    </tr>\n",
              "    <tr>\n",
              "      <th>9</th>\n",
              "      <td>1077</td>\n",
              "      <td>34</td>\n",
              "      <td>Such a fun dress!</td>\n",
              "      <td>I'm 5\"5' and 125 lbs. i ordered the s petite t...</td>\n",
              "      <td>5</td>\n",
              "      <td>1</td>\n",
              "      <td>0</td>\n",
              "      <td>General</td>\n",
              "      <td>Dresses</td>\n",
              "      <td>Dresses</td>\n",
              "    </tr>\n",
              "  </tbody>\n",
              "</table>\n",
              "</div>\n",
              "      <button class=\"colab-df-convert\" onclick=\"convertToInteractive('df-75050288-00a9-41df-ac92-a246cabadeb4')\"\n",
              "              title=\"Convert this dataframe to an interactive table.\"\n",
              "              style=\"display:none;\">\n",
              "        \n",
              "  <svg xmlns=\"http://www.w3.org/2000/svg\" height=\"24px\"viewBox=\"0 0 24 24\"\n",
              "       width=\"24px\">\n",
              "    <path d=\"M0 0h24v24H0V0z\" fill=\"none\"/>\n",
              "    <path d=\"M18.56 5.44l.94 2.06.94-2.06 2.06-.94-2.06-.94-.94-2.06-.94 2.06-2.06.94zm-11 1L8.5 8.5l.94-2.06 2.06-.94-2.06-.94L8.5 2.5l-.94 2.06-2.06.94zm10 10l.94 2.06.94-2.06 2.06-.94-2.06-.94-.94-2.06-.94 2.06-2.06.94z\"/><path d=\"M17.41 7.96l-1.37-1.37c-.4-.4-.92-.59-1.43-.59-.52 0-1.04.2-1.43.59L10.3 9.45l-7.72 7.72c-.78.78-.78 2.05 0 2.83L4 21.41c.39.39.9.59 1.41.59.51 0 1.02-.2 1.41-.59l7.78-7.78 2.81-2.81c.8-.78.8-2.07 0-2.86zM5.41 20L4 18.59l7.72-7.72 1.47 1.35L5.41 20z\"/>\n",
              "  </svg>\n",
              "      </button>\n",
              "      \n",
              "  <style>\n",
              "    .colab-df-container {\n",
              "      display:flex;\n",
              "      flex-wrap:wrap;\n",
              "      gap: 12px;\n",
              "    }\n",
              "\n",
              "    .colab-df-convert {\n",
              "      background-color: #E8F0FE;\n",
              "      border: none;\n",
              "      border-radius: 50%;\n",
              "      cursor: pointer;\n",
              "      display: none;\n",
              "      fill: #1967D2;\n",
              "      height: 32px;\n",
              "      padding: 0 0 0 0;\n",
              "      width: 32px;\n",
              "    }\n",
              "\n",
              "    .colab-df-convert:hover {\n",
              "      background-color: #E2EBFA;\n",
              "      box-shadow: 0px 1px 2px rgba(60, 64, 67, 0.3), 0px 1px 3px 1px rgba(60, 64, 67, 0.15);\n",
              "      fill: #174EA6;\n",
              "    }\n",
              "\n",
              "    [theme=dark] .colab-df-convert {\n",
              "      background-color: #3B4455;\n",
              "      fill: #D2E3FC;\n",
              "    }\n",
              "\n",
              "    [theme=dark] .colab-df-convert:hover {\n",
              "      background-color: #434B5C;\n",
              "      box-shadow: 0px 1px 3px 1px rgba(0, 0, 0, 0.15);\n",
              "      filter: drop-shadow(0px 1px 2px rgba(0, 0, 0, 0.3));\n",
              "      fill: #FFFFFF;\n",
              "    }\n",
              "  </style>\n",
              "\n",
              "      <script>\n",
              "        const buttonEl =\n",
              "          document.querySelector('#df-75050288-00a9-41df-ac92-a246cabadeb4 button.colab-df-convert');\n",
              "        buttonEl.style.display =\n",
              "          google.colab.kernel.accessAllowed ? 'block' : 'none';\n",
              "\n",
              "        async function convertToInteractive(key) {\n",
              "          const element = document.querySelector('#df-75050288-00a9-41df-ac92-a246cabadeb4');\n",
              "          const dataTable =\n",
              "            await google.colab.kernel.invokeFunction('convertToInteractive',\n",
              "                                                     [key], {});\n",
              "          if (!dataTable) return;\n",
              "\n",
              "          const docLinkHtml = 'Like what you see? Visit the ' +\n",
              "            '<a target=\"_blank\" href=https://colab.research.google.com/notebooks/data_table.ipynb>data table notebook</a>'\n",
              "            + ' to learn more about interactive tables.';\n",
              "          element.innerHTML = '';\n",
              "          dataTable['output_type'] = 'display_data';\n",
              "          await google.colab.output.renderOutput(dataTable, element);\n",
              "          const docLink = document.createElement('div');\n",
              "          docLink.innerHTML = docLinkHtml;\n",
              "          element.appendChild(docLink);\n",
              "        }\n",
              "      </script>\n",
              "    </div>\n",
              "  </div>\n",
              "  "
            ],
            "text/plain": [
              "   Clothing ID  Age  ... Department Name Class Name\n",
              "0          767   33  ...        Intimate  Intimates\n",
              "1         1080   34  ...         Dresses    Dresses\n",
              "2         1077   60  ...         Dresses    Dresses\n",
              "3         1049   50  ...         Bottoms      Pants\n",
              "4          847   47  ...            Tops    Blouses\n",
              "5         1080   49  ...         Dresses    Dresses\n",
              "6          858   39  ...            Tops      Knits\n",
              "7          858   39  ...            Tops      Knits\n",
              "8         1077   24  ...         Dresses    Dresses\n",
              "9         1077   34  ...         Dresses    Dresses\n",
              "\n",
              "[10 rows x 10 columns]"
            ]
          },
          "metadata": {},
          "execution_count": 9
        }
      ]
    },
    {
      "cell_type": "code",
      "metadata": {
        "colab": {
          "base_uri": "https://localhost:8080/"
        },
        "id": "8yr4k8oULQJX",
        "outputId": "e2284f79-5026-4f6d-937a-eca554dab6df"
      },
      "source": [
        "# 데이터 개수\n",
        "len(df)"
      ],
      "execution_count": null,
      "outputs": [
        {
          "output_type": "execute_result",
          "data": {
            "text/plain": [
              "23486"
            ]
          },
          "metadata": {},
          "execution_count": 10
        }
      ]
    },
    {
      "cell_type": "code",
      "metadata": {
        "id": "ZKw0J1qVL7nm"
      },
      "source": [
        "# 그래프 테마 설정\n",
        "sns.set_theme(style=\"whitegrid\", palette=\"pastel\")"
      ],
      "execution_count": null,
      "outputs": []
    },
    {
      "cell_type": "code",
      "metadata": {
        "colab": {
          "base_uri": "https://localhost:8080/",
          "height": 285
        },
        "id": "C1H-NfQtL8mV",
        "outputId": "5ea94191-cb2d-435b-9d37-473ebd16e072"
      },
      "source": [
        "# 점수 분포\n",
        "sns.countplot(data=df, x=\"Rating\")\n",
        "plt.show()\n",
        "\n",
        "## 대부분 5점의 별점을 준다\n",
        "## 관대한 평가가 주를 이룬다."
      ],
      "execution_count": null,
      "outputs": [
        {
          "output_type": "display_data",
          "data": {
            "image/png": "[encoded data removed]",
            "text/plain": [
              "<Figure size 432x288 with 1 Axes>"
            ]
          },
          "metadata": {}
        }
      ]
    },
    {
      "cell_type": "code",
      "metadata": {
        "colab": {
          "base_uri": "https://localhost:8080/"
        },
        "id": "p8DlTX8PL-YA",
        "outputId": "4365d874-cf44-4c64-d941-df0a1f8da588"
      },
      "source": [
        "# 리뷰 글자수\n",
        "df['Review Text'].dropna().map(len)"
      ],
      "execution_count": null,
      "outputs": [
        {
          "output_type": "execute_result",
          "data": {
            "text/plain": [
              "0         53\n",
              "1        303\n",
              "2        500\n",
              "3        124\n",
              "4        192\n",
              "        ... \n",
              "23481    131\n",
              "23482    223\n",
              "23483    208\n",
              "23484    427\n",
              "23485    110\n",
              "Name: Review Text, Length: 22641, dtype: int64"
            ]
          },
          "metadata": {},
          "execution_count": 14
        }
      ]
    },
    {
      "cell_type": "code",
      "metadata": {
        "colab": {
          "base_uri": "https://localhost:8080/",
          "height": 285
        },
        "id": "Y5JXLH-UMCiw",
        "outputId": "d63de6df-564c-4bc7-abf9-abd18b830e7e"
      },
      "source": [
        "# 리뷰 길이 분포 (글자수)\n",
        "sns.histplot(df['Review Text'].dropna().map(len))\n",
        "plt.show()\n",
        "## 500글자 가까운 리뷰가 굉장히 많다.\n",
        "## 글자제한이 있지 않을까?"
      ],
      "execution_count": null,
      "outputs": [
        {
          "output_type": "display_data",
          "data": {
            "image/png": "[encoded data removed]",
            "text/plain": [
              "<Figure size 432x288 with 1 Axes>"
            ]
          },
          "metadata": {}
        }
      ]
    },
    {
      "cell_type": "code",
      "metadata": {
        "colab": {
          "base_uri": "https://localhost:8080/"
        },
        "id": "otJNdyswME1p",
        "outputId": "2d1c3557-65f0-40ab-ed0a-d4d8f6180969"
      },
      "source": [
        "# 가장 긴 리뷰의 글자수\n",
        "df['Review Text'].dropna().map(len).max()\n"
      ],
      "execution_count": null,
      "outputs": [
        {
          "output_type": "execute_result",
          "data": {
            "text/plain": [
              "508"
            ]
          },
          "metadata": {},
          "execution_count": 16
        }
      ]
    },
    {
      "cell_type": "code",
      "metadata": {
        "colab": {
          "base_uri": "https://localhost:8080/"
        },
        "id": "hyN4MxofMIVm",
        "outputId": "a6104453-61d1-46af-ce2a-b38460419231"
      },
      "source": [
        "# 리뷰 단어수\n",
        "df['Review Text'].dropna().map(lambda x: len(x.split()))"
      ],
      "execution_count": null,
      "outputs": [
        {
          "output_type": "execute_result",
          "data": {
            "text/plain": [
              "0         8\n",
              "1        62\n",
              "2        98\n",
              "3        22\n",
              "4        36\n",
              "         ..\n",
              "23481    28\n",
              "23482    38\n",
              "23483    42\n",
              "23484    86\n",
              "23485    19\n",
              "Name: Review Text, Length: 22641, dtype: int64"
            ]
          },
          "metadata": {},
          "execution_count": 17
        }
      ]
    },
    {
      "cell_type": "code",
      "metadata": {
        "colab": {
          "base_uri": "https://localhost:8080/",
          "height": 285
        },
        "id": "SwluqUbZMQX9",
        "outputId": "300458f9-7ae2-4f78-e9ee-b3504908e285"
      },
      "source": [
        "# 리뷰 길이 분포 (단어수)\n",
        "sns.histplot(df['Review Text'].dropna().map(lambda x: len(x.split())))\n",
        "plt.show()\n",
        "\n",
        "\n",
        "## 보통 100단어 내외로 리뷰가 작성이 되었다."
      ],
      "execution_count": null,
      "outputs": [
        {
          "output_type": "display_data",
          "data": {
            "image/png": "[encoded data removed]",
            "text/plain": [
              "<Figure size 432x288 with 1 Axes>"
            ]
          },
          "metadata": {}
        }
      ]
    },
    {
      "cell_type": "code",
      "metadata": {
        "colab": {
          "base_uri": "https://localhost:8080/"
        },
        "id": "jC9Jph4FMS0m",
        "outputId": "32418eda-d4ff-4f2c-c957-477f7e8ee487"
      },
      "source": [
        "# 가장 긴 리뷰의 단어수\n",
        "df['Review Text'].dropna().map(lambda x: len(x.split())).max()"
      ],
      "execution_count": null,
      "outputs": [
        {
          "output_type": "execute_result",
          "data": {
            "text/plain": [
              "115"
            ]
          },
          "metadata": {},
          "execution_count": 19
        }
      ]
    },
    {
      "cell_type": "code",
      "metadata": {
        "colab": {
          "base_uri": "https://localhost:8080/",
          "height": 466
        },
        "id": "EgyaTU7GMVgp",
        "outputId": "2d77a45a-5a1e-4c37-d370-73a730e77f7c"
      },
      "source": [
        "# 리뷰 길이와 리뷰 투표수\n",
        "df[\"Review Words\"] = df['Review Text'].dropna().map(lambda x: len(x.split()))\n",
        "g = sns.regplot(x=\"Review Words\", y=\"Positive Feedback Count\", data=df)\n",
        "g.figure.set_size_inches(15, 8)\n",
        "plt.show()\n",
        "\n",
        "# 리뷰의 길이와 긍정적 피드백과의 선형적 관계는 없는것으로 보인다."
      ],
      "execution_count": null,
      "outputs": [
        {
          "output_type": "display_data",
          "data": {
            "image/png": "[encoded data removed]",
            "text/plain": [
              "<Figure size 1080x576 with 1 Axes>"
            ]
          },
          "metadata": {}
        }
      ]
    },
    {
      "cell_type": "code",
      "source": [
        "df_clean = df.dropna(subset=['Review Text']).copy()"
      ],
      "metadata": {
        "id": "UeE7cF3RivZs"
      },
      "execution_count": null,
      "outputs": []
    },
    {
      "cell_type": "code",
      "source": [
        "# 점수 분포에서 5점이 압도적으로 많기 때문에, 5점을 positive, 4점 이하를 negative로 둔다.\n",
        "df_clean['Label'] = df_clean['Rating'] == 5"
      ],
      "metadata": {
        "id": "EqIKeGZfhxIA"
      },
      "execution_count": null,
      "outputs": []
    },
    {
      "cell_type": "markdown",
      "source": [
        "# 텍스트 전처리"
      ],
      "metadata": {
        "id": "4iRE7kha6N9S"
      }
    },
    {
      "cell_type": "code",
      "metadata": {
        "id": "THMLguDsM3LD"
      },
      "source": [
        "import spacy\n",
        "from collections import Counter\n",
        "import math\n",
        "from tqdm import tqdm"
      ],
      "execution_count": null,
      "outputs": []
    },
    {
      "cell_type": "code",
      "source": [
        "# 필요한 리소스를 로드해야 한다. 영어 리소스 로드.\n",
        "nlp = spacy.load(\"en_core_web_sm\")"
      ],
      "metadata": {
        "id": "0YK-EMm4lvGe"
      },
      "execution_count": null,
      "outputs": []
    },
    {
      "cell_type": "code",
      "source": [
        "%%time\n",
        "tokens_normalized = []\n",
        "for doc in tqdm(nlp.pipe(df_clean['Review Text'].str.lower())):\n",
        "  lemmas = [token.lemma_ for token in doc if not token.is_punct and not token.is_space] # 문장부호, 공백 제거\n",
        "  tokens_normalized.append(lemmas)#lemmatization된 데이터로 토큰화\n"
      ],
      "metadata": {
        "colab": {
          "base_uri": "https://localhost:8080/"
        },
        "id": "rvoIwZQTmUX9",
        "outputId": "4784be03-14cb-4aa3-cb3a-62e6666dfdbb"
      },
      "execution_count": null,
      "outputs": [
        {
          "output_type": "stream",
          "name": "stderr",
          "text": [
            "22641it [02:21, 159.57it/s]"
          ]
        },
        {
          "output_type": "stream",
          "name": "stdout",
          "text": [
            "CPU times: user 2min 14s, sys: 3.24 s, total: 2min 17s\n",
            "Wall time: 2min 21s\n"
          ]
        },
        {
          "output_type": "stream",
          "name": "stderr",
          "text": [
            "\n"
          ]
        }
      ]
    },
    {
      "cell_type": "markdown",
      "source": [
        "**Phrase modeling (bigram & trigram)**"
      ],
      "metadata": {
        "id": "vVAJ5YIFmlGR"
      }
    },
    {
      "cell_type": "code",
      "source": [
        "from gensim.models.phrases import Phrases, Phraser"
      ],
      "metadata": {
        "id": "s9tma-2wmWO_"
      },
      "execution_count": null,
      "outputs": []
    },
    {
      "cell_type": "code",
      "source": [
        "%%time\n",
        "# gensim을 이용해서 phrase modeling을 한다\n",
        "bigram_model = Phrases(tokens_normalized)\n",
        "bigram_phraser = Phraser(bigram_model)"
      ],
      "metadata": {
        "colab": {
          "base_uri": "https://localhost:8080/"
        },
        "id": "0zLH7rYzmn6X",
        "outputId": "82c33f78-f9b7-41f4-ea0d-aac3ada1d0b2"
      },
      "execution_count": null,
      "outputs": [
        {
          "output_type": "stream",
          "name": "stdout",
          "text": [
            "CPU times: user 3.72 s, sys: 25.8 ms, total: 3.74 s\n",
            "Wall time: 3.74 s\n"
          ]
        }
      ]
    },
    {
      "cell_type": "code",
      "source": [
        "tokens_bigram = []\n",
        "for s in tokens_normalized:\n",
        "    bigram_phrases = bigram_phraser[s]\n",
        "    tokens_bigram.append(bigram_phrases)"
      ],
      "metadata": {
        "id": "_XNzp-g1mpXp"
      },
      "execution_count": null,
      "outputs": []
    },
    {
      "cell_type": "code",
      "source": [
        "# 추가 반복을 통해 trigram 확보\n",
        "trigram_model = Phrases(tokens_bigram)\n",
        "trigram_phraser = Phraser(trigram_model)"
      ],
      "metadata": {
        "id": "fKs5n7nDmqdD"
      },
      "execution_count": null,
      "outputs": []
    },
    {
      "cell_type": "code",
      "source": [
        "tokens_trigram = []\n",
        "for s in tokens_bigram:\n",
        "    trigram_phrases = trigram_phraser[s]\n",
        "    trigram_phrases = [token for token in trigram_phrases if token not in nlp.Defaults.stop_words and token != '-PRON-']\n",
        "    tokens_trigram.append(trigram_phrases)"
      ],
      "metadata": {
        "id": "x8qM8a34msNw"
      },
      "execution_count": null,
      "outputs": []
    },
    {
      "cell_type": "code",
      "source": [
        "preprocessed_sentences = []\n",
        "for s in tokens_trigram:\n",
        "  preprocessed_sentences.append(' '.join(s))"
      ],
      "metadata": {
        "id": "mm5-UweB6b62"
      },
      "execution_count": null,
      "outputs": []
    },
    {
      "cell_type": "code",
      "source": [
        "df_clean['Reviews Preprocessed'] = preprocessed_sentences"
      ],
      "metadata": {
        "id": "SBOOZ2126e9a"
      },
      "execution_count": null,
      "outputs": []
    },
    {
      "cell_type": "code",
      "source": [
        "df_clean.head()"
      ],
      "metadata": {
        "colab": {
          "base_uri": "https://localhost:8080/",
          "height": 687
        },
        "id": "kpgCb9FBleL4",
        "outputId": "4872a5b1-8f1f-4d3c-97e7-6ea14d97c3b2"
      },
      "execution_count": null,
      "outputs": [
        {
          "output_type": "execute_result",
          "data": {
            "text/html": [
              "\n",
              "  <div id=\"df-6df502e1-da4a-4403-bd9d-58e8fe6f0076\">\n",
              "    <div class=\"colab-df-container\">\n",
              "      <div>\n",
              "<style scoped>\n",
              "    .dataframe tbody tr th:only-of-type {\n",
              "        vertical-align: middle;\n",
              "    }\n",
              "\n",
              "    .dataframe tbody tr th {\n",
              "        vertical-align: top;\n",
              "    }\n",
              "\n",
              "    .dataframe thead th {\n",
              "        text-align: right;\n",
              "    }\n",
              "</style>\n",
              "<table border=\"1\" class=\"dataframe\">\n",
              "  <thead>\n",
              "    <tr style=\"text-align: right;\">\n",
              "      <th></th>\n",
              "      <th>Clothing ID</th>\n",
              "      <th>Age</th>\n",
              "      <th>Title</th>\n",
              "      <th>Review Text</th>\n",
              "      <th>Rating</th>\n",
              "      <th>Recommended IND</th>\n",
              "      <th>Positive Feedback Count</th>\n",
              "      <th>Division Name</th>\n",
              "      <th>Department Name</th>\n",
              "      <th>Class Name</th>\n",
              "      <th>Review Words</th>\n",
              "      <th>Label</th>\n",
              "      <th>Reviews Preprocessed</th>\n",
              "    </tr>\n",
              "  </thead>\n",
              "  <tbody>\n",
              "    <tr>\n",
              "      <th>0</th>\n",
              "      <td>767</td>\n",
              "      <td>33</td>\n",
              "      <td>NaN</td>\n",
              "      <td>Absolutely wonderful - silky and sexy and comf...</td>\n",
              "      <td>4</td>\n",
              "      <td>1</td>\n",
              "      <td>0</td>\n",
              "      <td>Initmates</td>\n",
              "      <td>Intimate</td>\n",
              "      <td>Intimates</td>\n",
              "      <td>8.0</td>\n",
              "      <td>False</td>\n",
              "      <td>absolutely wonderful silky sexy comfortable</td>\n",
              "    </tr>\n",
              "    <tr>\n",
              "      <th>1</th>\n",
              "      <td>1080</td>\n",
              "      <td>34</td>\n",
              "      <td>NaN</td>\n",
              "      <td>Love this dress!  it's sooo pretty.  i happene...</td>\n",
              "      <td>5</td>\n",
              "      <td>1</td>\n",
              "      <td>4</td>\n",
              "      <td>General</td>\n",
              "      <td>Dresses</td>\n",
              "      <td>Dresses</td>\n",
              "      <td>62.0</td>\n",
              "      <td>True</td>\n",
              "      <td>love dress sooo pretty happen find store glad ...</td>\n",
              "    </tr>\n",
              "    <tr>\n",
              "      <th>2</th>\n",
              "      <td>1077</td>\n",
              "      <td>60</td>\n",
              "      <td>Some major design flaws</td>\n",
              "      <td>I had such high hopes for this dress and reall...</td>\n",
              "      <td>3</td>\n",
              "      <td>0</td>\n",
              "      <td>0</td>\n",
              "      <td>General</td>\n",
              "      <td>Dresses</td>\n",
              "      <td>Dresses</td>\n",
              "      <td>98.0</td>\n",
              "      <td>False</td>\n",
              "      <td>such_high_hope dress want work initially order...</td>\n",
              "    </tr>\n",
              "    <tr>\n",
              "      <th>3</th>\n",
              "      <td>1049</td>\n",
              "      <td>50</td>\n",
              "      <td>My favorite buy!</td>\n",
              "      <td>I love, love, love this jumpsuit. it's fun, fl...</td>\n",
              "      <td>5</td>\n",
              "      <td>1</td>\n",
              "      <td>0</td>\n",
              "      <td>General Petite</td>\n",
              "      <td>Bottoms</td>\n",
              "      <td>Pants</td>\n",
              "      <td>22.0</td>\n",
              "      <td>True</td>\n",
              "      <td>love love love jumpsuit fun flirty fabulous ev...</td>\n",
              "    </tr>\n",
              "    <tr>\n",
              "      <th>4</th>\n",
              "      <td>847</td>\n",
              "      <td>47</td>\n",
              "      <td>Flattering shirt</td>\n",
              "      <td>This shirt is very flattering to all due to th...</td>\n",
              "      <td>5</td>\n",
              "      <td>1</td>\n",
              "      <td>6</td>\n",
              "      <td>General</td>\n",
              "      <td>Tops</td>\n",
              "      <td>Blouses</td>\n",
              "      <td>36.0</td>\n",
              "      <td>True</td>\n",
              "      <td>shirt flattering adjustable tie perfect length...</td>\n",
              "    </tr>\n",
              "  </tbody>\n",
              "</table>\n",
              "</div>\n",
              "      <button class=\"colab-df-convert\" onclick=\"convertToInteractive('df-6df502e1-da4a-4403-bd9d-58e8fe6f0076')\"\n",
              "              title=\"Convert this dataframe to an interactive table.\"\n",
              "              style=\"display:none;\">\n",
              "        \n",
              "  <svg xmlns=\"http://www.w3.org/2000/svg\" height=\"24px\"viewBox=\"0 0 24 24\"\n",
              "       width=\"24px\">\n",
              "    <path d=\"M0 0h24v24H0V0z\" fill=\"none\"/>\n",
              "    <path d=\"M18.56 5.44l.94 2.06.94-2.06 2.06-.94-2.06-.94-.94-2.06-.94 2.06-2.06.94zm-11 1L8.5 8.5l.94-2.06 2.06-.94-2.06-.94L8.5 2.5l-.94 2.06-2.06.94zm10 10l.94 2.06.94-2.06 2.06-.94-2.06-.94-.94-2.06-.94 2.06-2.06.94z\"/><path d=\"M17.41 7.96l-1.37-1.37c-.4-.4-.92-.59-1.43-.59-.52 0-1.04.2-1.43.59L10.3 9.45l-7.72 7.72c-.78.78-.78 2.05 0 2.83L4 21.41c.39.39.9.59 1.41.59.51 0 1.02-.2 1.41-.59l7.78-7.78 2.81-2.81c.8-.78.8-2.07 0-2.86zM5.41 20L4 18.59l7.72-7.72 1.47 1.35L5.41 20z\"/>\n",
              "  </svg>\n",
              "      </button>\n",
              "      \n",
              "  <style>\n",
              "    .colab-df-container {\n",
              "      display:flex;\n",
              "      flex-wrap:wrap;\n",
              "      gap: 12px;\n",
              "    }\n",
              "\n",
              "    .colab-df-convert {\n",
              "      background-color: #E8F0FE;\n",
              "      border: none;\n",
              "      border-radius: 50%;\n",
              "      cursor: pointer;\n",
              "      display: none;\n",
              "      fill: #1967D2;\n",
              "      height: 32px;\n",
              "      padding: 0 0 0 0;\n",
              "      width: 32px;\n",
              "    }\n",
              "\n",
              "    .colab-df-convert:hover {\n",
              "      background-color: #E2EBFA;\n",
              "      box-shadow: 0px 1px 2px rgba(60, 64, 67, 0.3), 0px 1px 3px 1px rgba(60, 64, 67, 0.15);\n",
              "      fill: #174EA6;\n",
              "    }\n",
              "\n",
              "    [theme=dark] .colab-df-convert {\n",
              "      background-color: #3B4455;\n",
              "      fill: #D2E3FC;\n",
              "    }\n",
              "\n",
              "    [theme=dark] .colab-df-convert:hover {\n",
              "      background-color: #434B5C;\n",
              "      box-shadow: 0px 1px 3px 1px rgba(0, 0, 0, 0.15);\n",
              "      filter: drop-shadow(0px 1px 2px rgba(0, 0, 0, 0.3));\n",
              "      fill: #FFFFFF;\n",
              "    }\n",
              "  </style>\n",
              "\n",
              "      <script>\n",
              "        const buttonEl =\n",
              "          document.querySelector('#df-6df502e1-da4a-4403-bd9d-58e8fe6f0076 button.colab-df-convert');\n",
              "        buttonEl.style.display =\n",
              "          google.colab.kernel.accessAllowed ? 'block' : 'none';\n",
              "\n",
              "        async function convertToInteractive(key) {\n",
              "          const element = document.querySelector('#df-6df502e1-da4a-4403-bd9d-58e8fe6f0076');\n",
              "          const dataTable =\n",
              "            await google.colab.kernel.invokeFunction('convertToInteractive',\n",
              "                                                     [key], {});\n",
              "          if (!dataTable) return;\n",
              "\n",
              "          const docLinkHtml = 'Like what you see? Visit the ' +\n",
              "            '<a target=\"_blank\" href=https://colab.research.google.com/notebooks/data_table.ipynb>data table notebook</a>'\n",
              "            + ' to learn more about interactive tables.';\n",
              "          element.innerHTML = '';\n",
              "          dataTable['output_type'] = 'display_data';\n",
              "          await google.colab.output.renderOutput(dataTable, element);\n",
              "          const docLink = document.createElement('div');\n",
              "          docLink.innerHTML = docLinkHtml;\n",
              "          element.appendChild(docLink);\n",
              "        }\n",
              "      </script>\n",
              "    </div>\n",
              "  </div>\n",
              "  "
            ],
            "text/plain": [
              "   Clothing ID  Age  ...  Label                               Reviews Preprocessed\n",
              "0          767   33  ...  False        absolutely wonderful silky sexy comfortable\n",
              "1         1080   34  ...   True  love dress sooo pretty happen find store glad ...\n",
              "2         1077   60  ...  False  such_high_hope dress want work initially order...\n",
              "3         1049   50  ...   True  love love love jumpsuit fun flirty fabulous ev...\n",
              "4          847   47  ...   True  shirt flattering adjustable tie perfect length...\n",
              "\n",
              "[5 rows x 13 columns]"
            ]
          },
          "metadata": {},
          "execution_count": 34
        }
      ]
    },
    {
      "cell_type": "markdown",
      "source": [
        "학습용 데이터와 테스트용 데이터 나누기"
      ],
      "metadata": {
        "id": "6u1EG9sW6iNO"
      }
    },
    {
      "cell_type": "code",
      "source": [
        "from sklearn.model_selection import train_test_split\n",
        "# scikit-learn의 train_test_split에서 학습용 데이터와 테스트용 데이터의 디폴트 비율은 75:25이다.\n",
        "df_train, df_test = train_test_split(df_clean, random_state=0)"
      ],
      "metadata": {
        "id": "tGzV360a6hag"
      },
      "execution_count": null,
      "outputs": []
    },
    {
      "cell_type": "code",
      "source": [
        "def preprocess_text(text):\n",
        "    text = text.lower()\n",
        "    doc = nlp(text)\n",
        "    lemmas = [token.lemma_ for token in doc if not token.is_punct and not token.is_space]\n",
        "    bigrams = bigram_phraser[lemmas]\n",
        "    trigrams = trigram_phraser[bigrams]\n",
        "    tokens_normalized = [lemma for lemma in trigrams if lemma not in nlp.Defaults.stop_words and lemma != '-PRON-']\n",
        "    return tokens_normalized"
      ],
      "metadata": {
        "id": "QRQbxxDp_v1s"
      },
      "execution_count": null,
      "outputs": []
    },
    {
      "cell_type": "markdown",
      "source": [
        "# 사전으로 하는 감성 분석\n",
        "\n",
        "감성어 사전을 만들고 이를 이용해 감성 분석 정확도를 구해보자"
      ],
      "metadata": {
        "id": "24rIVpcoQHXU"
      }
    },
    {
      "cell_type": "code",
      "source": [
        "# Sampled and modified from https://github.com/cjhutto/vaderSentiment/blob/master/vaderSentiment/vader_lexicon.txt\n",
        "# 긍정 단어는 1, 부정 단어는 -1로 표기한다.\n",
        "sentiment_vocab = {\n",
        " 'adorable': 1,\n",
        " 'adore': 1,\n",
        " 'allow': 1,\n",
        " 'amazing': 1,\n",
        " 'appreciate': 1,\n",
        " 'attractive': 1,\n",
        " 'avoid': -1,\n",
        " 'awesome': 1,\n",
        " 'awful': -1,\n",
        " 'awkward': -1,\n",
        " 'bad': -1,\n",
        " 'beautiful': 1,\n",
        " 'beautifully': 1,\n",
        " 'beauty': 1,\n",
        " 'best': 1,\n",
        " 'better': 1,\n",
        " 'bother': -1,\n",
        " 'bright': 1,\n",
        " 'bummer': -1,\n",
        " 'care': 1,\n",
        " 'careful': 1,\n",
        " 'casual': 1,\n",
        " 'certainly': 1,\n",
        " 'chance': 1,\n",
        " 'chic': 1,\n",
        " 'classy': 1,\n",
        " 'comfort': 1,\n",
        " 'comfortable': 1,\n",
        " 'comfortably': 1,\n",
        " 'compliment': 1,\n",
        " 'cool': 1,\n",
        " 'crazy': -1,\n",
        " 'create': 1,\n",
        " 'cut': -1,\n",
        " 'cute': 1,\n",
        " 'definitely': 1,\n",
        " 'difficult': -1,\n",
        " 'disappoint': -1,\n",
        " 'disappointed': -1,\n",
        " 'disappointing': -1,\n",
        " 'disappointment': -1,\n",
        " 'dream': 1,\n",
        " 'easily': 1,\n",
        " 'easy': 1,\n",
        " 'elegant': 1,\n",
        " 'enjoy': 1,\n",
        " 'excellent': 1,\n",
        " 'excited': 1,\n",
        " 'expose': -1,\n",
        " 'fabulous': 1,\n",
        " 'fantastic': 1,\n",
        " 'favorite': 1,\n",
        " 'feeling': 1,\n",
        " 'fine': 1,\n",
        " 'fit': 1,\n",
        " 'flattering': 1,\n",
        " 'flirty': 1,\n",
        " 'forgiving': 1,\n",
        " 'friend': 1,\n",
        " 'fun': 1,\n",
        " 'generous': 1,\n",
        " 'glad': 1,\n",
        " 'good': 1,\n",
        " 'gorgeous': 1,\n",
        " 'great': 1,\n",
        " 'hand': 1,\n",
        " 'happy': 1,\n",
        " 'hate': -1,\n",
        " 'help': 1,\n",
        " 'hesitant': -1,\n",
        " 'hesitate': -1,\n",
        " 'hide': -1,\n",
        " 'holiday': 1,\n",
        " 'honestly': 1,\n",
        " 'hope': 1,\n",
        " 'hopefully': 1,\n",
        " 'hug': 1,\n",
        " 'huge': 1,\n",
        " 'interesting': 1,\n",
        " 'itchy': -1,\n",
        " 'justice': 1,\n",
        " 'lack': -1,\n",
        " 'like': 1,\n",
        " 'loose': -1,\n",
        " 'lose': -1,\n",
        " 'love': 1,\n",
        " 'lovely': 1,\n",
        " 'low': -1,\n",
        " 'miss': -1,\n",
        " 'nice': 1,\n",
        " 'nicely': 1,\n",
        " 'odd': -1,\n",
        " 'ok': 1,\n",
        " 'okay': 1,\n",
        " 'party': 1,\n",
        " 'perfect': 1,\n",
        " 'perfection': 1,\n",
        " 'perfectly': 1,\n",
        " 'pleased': 1,\n",
        " 'pretty': 1,\n",
        " 'problem': -1,\n",
        " 'recommend': 1,\n",
        " 'regret': -1,\n",
        " 'relaxed': 1,\n",
        " 'rich': 1,\n",
        " 'ridiculous': -1,\n",
        " 'romantic': 1,\n",
        " 'ruin': -1,\n",
        " 'sad': -1,\n",
        " 'sadly': -1,\n",
        " 'seriously': -1,\n",
        " 'sexy': 1,\n",
        " 'solid': 1,\n",
        " 'special': 1,\n",
        " 'stop': -1,\n",
        " 'straight': 1,\n",
        " 'strange': -1,\n",
        " 'stunning': 1,\n",
        " 'substantial': 1,\n",
        " 'super': 1,\n",
        " 'support': 1,\n",
        " 'sure': 1,\n",
        " 'surprise': 1,\n",
        " 'surprised': 1,\n",
        " 'surprisingly': 1,\n",
        " 'sweet': 1,\n",
        " 'terrible': -1,\n",
        " 'thank': 1,\n",
        " 'thrill': 1,\n",
        " 'trouble': -1,\n",
        " 'true': 1,\n",
        " 'truly': 1,\n",
        " 'uncomfortable': -1,\n",
        " 'unfortunately': -1,\n",
        " 'vibrant': 1,\n",
        " 'warm': 1,\n",
        " 'waste': -1,\n",
        " 'weird': -1,\n",
        " 'winner': 1,\n",
        " 'wish': 1,\n",
        " 'wonderful': 1,\n",
        " 'wonderfully': 1,\n",
        " 'worried': -1,\n",
        " 'worry': -1,\n",
        " 'worth': 1,\n",
        " 'wow': 1,\n",
        " 'wrong': -1,\n",
        " 'yes': 1}"
      ],
      "metadata": {
        "id": "aTQX4jcC8div"
      },
      "execution_count": null,
      "outputs": []
    },
    {
      "cell_type": "code",
      "source": [
        "print(sentiment_vocab.get('wonderful',0))\n",
        "print(sentiment_vocab.get('worry',0))\n",
        "print(sentiment_vocab.get('yeah'))\n",
        "print(sentiment_vocab.get('yeah',0))"
      ],
      "metadata": {
        "colab": {
          "base_uri": "https://localhost:8080/"
        },
        "id": "2qLh9lC0meAS",
        "outputId": "40547915-e0cd-4441-d33a-3e0abcb24094"
      },
      "execution_count": null,
      "outputs": [
        {
          "output_type": "stream",
          "name": "stdout",
          "text": [
            "1\n",
            "-1\n",
            "None\n",
            "0\n"
          ]
        }
      ]
    },
    {
      "cell_type": "code",
      "source": [
        "# 텍스트를 받아 점수를 반환하는 예측 함수를 만든다.\n",
        "def predict_with_dictionary(normalized_text):\n",
        "    tokens = normalized_text.split()\n",
        "    review_score = 0\n",
        "    for token in tokens:\n",
        "      token_score = sentiment_vocab.get(token, 0) # 감성어 사전에 있으면 token 값, 아니면 0\n",
        "      review_score = review_score + token_score\n",
        "    review_score = review_score/len(tokens)\n",
        "    pred = review_score > 0\n",
        "    return pred"
      ],
      "metadata": {
        "id": "fPNTa8G7_iRD"
      },
      "execution_count": null,
      "outputs": []
    },
    {
      "cell_type": "code",
      "source": [
        "index = 0\n",
        "print(df_test['Reviews Preprocessed'].iloc[index])\n",
        "print()\n",
        "predict_with_dictionary(df_test['Reviews Preprocessed'].iloc[index])"
      ],
      "metadata": {
        "colab": {
          "base_uri": "https://localhost:8080/"
        },
        "id": "kVwUJUyl9Vvl",
        "outputId": "a448740d-7a9b-4a29-f7b2-5b485fabbd97"
      },
      "execution_count": null,
      "outputs": [
        {
          "output_type": "stream",
          "name": "stdout",
          "text": [
            "beautiful versatile dress extremely forgiving post_baby_body stylish classy\n",
            "\n"
          ]
        },
        {
          "output_type": "execute_result",
          "data": {
            "text/plain": [
              "True"
            ]
          },
          "metadata": {},
          "execution_count": 43
        }
      ]
    },
    {
      "cell_type": "code",
      "source": [
        "# 정답과 예측\n",
        "predictions_with_dict = df_test['Reviews Preprocessed'].map(predict_with_dictionary)"
      ],
      "metadata": {
        "id": "WbHxxsooDoGF"
      },
      "execution_count": null,
      "outputs": []
    },
    {
      "cell_type": "code",
      "source": [
        "# 정확도 (accuracy) 구하기\n",
        "corrects_with_dict = df_test['Label'] == predictions_with_dict\n",
        "corrects_with_dict.sum() / len(corrects_with_dict)"
      ],
      "metadata": {
        "colab": {
          "base_uri": "https://localhost:8080/"
        },
        "id": "ewtXaHh4Dskc",
        "outputId": "47bf10f6-0f7f-4075-835d-c0c1d02d166a"
      },
      "execution_count": null,
      "outputs": [
        {
          "output_type": "execute_result",
          "data": {
            "text/plain": [
              "0.5797562268150503"
            ]
          },
          "metadata": {},
          "execution_count": 45
        }
      ]
    },
    {
      "cell_type": "markdown",
      "source": [
        "# 토픽으로 하는 감성 분석\n",
        "\n",
        "토픽 모델링을 통해 문서의 토픽을 추출하고, 이를 이용해 긍부정을 예측해보자"
      ],
      "metadata": {
        "id": "ZA9fxhBAGaJE"
      }
    },
    {
      "cell_type": "code",
      "source": [
        "from gensim.corpora import Dictionary, MmCorpus\n",
        "from gensim.models import LdaMulticore"
      ],
      "metadata": {
        "id": "24uSC6ahm0Ra"
      },
      "execution_count": null,
      "outputs": []
    },
    {
      "cell_type": "code",
      "source": [
        "dictionary = Dictionary(tokens_trigram) # 전처리된 token으로 dictionary를 만듦\n",
        "dictionary.filter_extremes(no_below=10, no_above=0.4) # 필터링\n",
        "dictionary.compactify()"
      ],
      "metadata": {
        "id": "22biAfjEm1cN"
      },
      "execution_count": null,
      "outputs": []
    },
    {
      "cell_type": "code",
      "source": [
        "def make_bow_corpus(tokens):\n",
        "    \"\"\"\n",
        "    generator function to read in reviews from the file\n",
        "    and output a bag-of-words represention of the text\n",
        "    \"\"\"\n",
        "    for review in tokens:\n",
        "        yield dictionary.doc2bow(review) # document를 BOW형태로 바꿔줌\n",
        "\n",
        "corpus_filepath = 'corpus.mm'\n",
        "MmCorpus.serialize(corpus_filepath, make_bow_corpus(tokens_trigram))\n",
        "review_corpus = MmCorpus(corpus_filepath)"
      ],
      "metadata": {
        "id": "-xQWZz7Wm305"
      },
      "execution_count": null,
      "outputs": []
    },
    {
      "cell_type": "code",
      "source": [
        "%%time\n",
        "warnings.filterwarnings(\"ignore\", category=DeprecationWarning)\n",
        "lda = LdaMulticore(review_corpus,\n",
        "                    num_topics=10, # topic 10개로 정의\n",
        "                    id2word=dictionary,\n",
        "                    workers=2,\n",
        "                    random_state=13)"
      ],
      "metadata": {
        "colab": {
          "base_uri": "https://localhost:8080/"
        },
        "id": "9shedhlGm6UN",
        "outputId": "fba8eced-e1fc-463e-e85c-b3712b8cf980"
      },
      "execution_count": null,
      "outputs": [
        {
          "output_type": "stream",
          "name": "stdout",
          "text": [
            "CPU times: user 12.6 s, sys: 1.08 s, total: 13.7 s\n",
            "Wall time: 18.9 s\n"
          ]
        }
      ]
    },
    {
      "cell_type": "code",
      "source": [
        "import pyLDAvis\n",
        "import pyLDAvis.gensim_models\n",
        "pyLDAvis.enable_notebook()"
      ],
      "metadata": {
        "colab": {
          "base_uri": "https://localhost:8080/"
        },
        "id": "iLalAQzrm9kD",
        "outputId": "fa42da36-ff08-47fa-c6df-d1e2fae41a9f"
      },
      "execution_count": null,
      "outputs": [
        {
          "output_type": "stream",
          "name": "stderr",
          "text": [
            "/usr/local/lib/python3.7/dist-packages/past/types/oldstr.py:5: DeprecationWarning: Using or importing the ABCs from 'collections' instead of from 'collections.abc' is deprecated since Python 3.3,and in 3.9 it will stop working\n",
            "  from collections import Iterable\n"
          ]
        }
      ]
    },
    {
      "cell_type": "code",
      "source": [
        "ldavis = pyLDAvis.gensim_models.prepare(topic_model=lda, \n",
        "                                     corpus=review_corpus, \n",
        "                                     dictionary=dictionary)"
      ],
      "metadata": {
        "colab": {
          "base_uri": "https://localhost:8080/"
        },
        "id": "ejA4q1u4m-w9",
        "outputId": "41ed691d-9c16-4f30-ded2-ef919948bfc3"
      },
      "execution_count": null,
      "outputs": [
        {
          "output_type": "stream",
          "name": "stderr",
          "text": [
            "/usr/local/lib/python3.7/dist-packages/smart_open/smart_open_lib.py:494: DeprecationWarning: This function is deprecated.  See https://github.com/RaRe-Technologies/smart_open/blob/develop/MIGRATING_FROM_OLDER_VERSIONS.rst for more information\n",
            "  warnings.warn(message, category=DeprecationWarning)\n",
            "/usr/local/lib/python3.7/dist-packages/smart_open/smart_open_lib.py:494: DeprecationWarning: This function is deprecated.  See https://github.com/RaRe-Technologies/smart_open/blob/develop/MIGRATING_FROM_OLDER_VERSIONS.rst for more information\n",
            "  warnings.warn(message, category=DeprecationWarning)\n",
            "/usr/local/lib/python3.7/dist-packages/pyLDAvis/_prepare.py:247: FutureWarning: In a future version of pandas all arguments of DataFrame.drop except for the argument 'labels' will be keyword-only\n",
            "  by='saliency', ascending=False).head(R).drop('saliency', 1)\n"
          ]
        }
      ]
    },
    {
      "cell_type": "code",
      "source": [
        "pyLDAvis.display(ldavis)\n",
        "\n",
        "# 단어의 빈도와, 특징적으로 나왔는지를 기준으로 정리 가능\n",
        "# lambda를 조절해서 정의할 수 있음\n"
      ],
      "metadata": {
        "colab": {
          "base_uri": "https://localhost:8080/",
          "height": 880
        },
        "id": "3pgyPwAeBqnb",
        "outputId": "a9d76f47-21a3-4e5f-9aea-f7c316e32cbe"
      },
      "execution_count": null,
      "outputs": [
        {
          "output_type": "execute_result",
          "data": {
            "text/html": [
              "\n",
              "<link rel=\"stylesheet\" type=\"text/css\" href=\"https://cdn.jsdelivr.net/gh/bmabey/pyLDAvis@3.3.1/pyLDAvis/js/ldavis.v1.0.0.css\">\n",
              "\n",
              "\n",
              "<div id=\"ldavis_el1831406882801307683138770985\"></div>\n",
              "<script type=\"text/javascript\">\n",
              "\n",
              "var ldavis_el1831406882801307683138770985_data = {\"mdsDat\": {\"x\": [0.006398203093074301, 0.04550209771694723, 0.05452034427004505, -0.009953149811770876, -0.04343692659070177, 0.0180033511593554, 0.020241712077406094, -0.03903525022773942, -0.003466229162327149, -0.04877415252428887], \"y\": [-0.032077382793560656, -0.001499052202358185, 0.02786426029926244, -0.00998688725076983, -0.01633674123219723, -0.01072505566906886, -0.009643527423666967, 0.06970940893707593, 0.004648957404527836, -0.021953980069244414], \"topics\": [1, 2, 3, 4, 5, 6, 7, 8, 9, 10], \"cluster\": [1, 1, 1, 1, 1, 1, 1, 1, 1, 1], \"Freq\": [14.480663051964148, 11.02816271956915, 10.99971577598712, 10.10444989261624, 10.008274189053925, 9.985376063431566, 9.35423056011373, 8.772700306353402, 8.17120563463352, 7.095221806277205]}, \"tinfo\": {\"Term\": [\"dress\", \"sweater\", \"color\", \"great\", \"skirt\", \"nice\", \"love\", \"fit\", \"look\", \"size\", \"legging\", \"shirt\", \"black\", \"small\", \"wear\", \"perfect\", \"waist\", \"material\", \"soft\", \"order\", \"flattering\", \"purchase\", \"jean\", \"fabric\", \"pant\", \"jacket\", \"run\", \"medium\", \"comfortable\", \"long\", \"immediately_catch\", \"aka\", \"already_sell_out\", \"cheaply_make\", \"process\", \"skip\", \"5'1.5\", \"barely_cover\", \"overpower\", \"bizarre\", \"regualr\", \"mistake\", \"color_palette\", \"raspberry\", \"70\", \"flouncy\", \"lose_weight\", \"natural_fiber\", \"semi_sheer\", \"115_lb_30_dd\", \"care_instruction\", \"jsut\", \"undecided\", \"truth\", \"last_night\", \"soo\", \"border\", \"30dd\", \"stay_away_from\", \"antho\", \"wonder\", \"xxs\", \"tall\", \"try\", \"size\", \"huge\", \"shirt\", \"short\", \"like\", \"store\", \"xs\", \"look\", \"person\", \"xl\", \"think\", \"small\", \"wide\", \"sale\", \"color\", \"large\", \"boxy\", \"petite\", \"usually\", \"model\", \"pretty\", \"regular\", \"cute\", \"order\", \"wear\", \"little\", \"fabric\", \"run\", \"big\", \"fit\", \"love\", \"length\", \"beautiful\", \"work\", \"dress\", \"great\", \"buy\", \"around_town\", \"company\", \"eye_catching\", \"few_month_ago\", \"117\", \"reviewer_mention\", \"bubble\", \"modest_enough\", \"poster\", \"borderline\", \"ps\", \"ddd\", \"hat\", \"red_motif\", \"pxs\", \"linen_blend\", \"august\", \"paris\", \"afternoon\", \"4/6\", \"every_single\", \"pxxs\", \"vary_between\", \"concerned\", \"nervous\", \"3/4_length_sleeve\", \"chesty\", \"big_cheste\", \"prior_review\", \"hd\", \"receive_many_compliment\", \"ride_up\", \"jumpsuit\", \"catch\", \"shopping\", \"shawl\", \"eye\", \"love\", \"dress\", \"order\", \"romper\", \"run\", \"size\", \"big\", \"xs\", \"wear\", \"large\", \"so_many_compliment\", \"small\", \"normally\", \"comfortable\", \"tie\", \"able\", \"absolutely\", \"style\", \"fit_perfectly\", \"fit\", \"buy\", \"online\", \"perfect\", \"need\", \"work\", \"purchase\", \"like\", \"soft\", \"short\", \"beautiful\", \"little\", \"design\", \"flattering\", \"retailer\", \"usually\", \"color\", \"great\", \"length\", \"try\", \"think\", \"fabric\", \"look\", \"goddess\", \"mother_'s_day\", \"engagement\", \"cold_winter\", \"earring\", \"dry_cleaner\", \"ago\", \"118_lbs\", \"special_occasion\", \"turtle_neck\", \"rehearsal_dinner\", \"will_most_likely\", \"sheath\", \"smile\", \"nude_slip\", \"waiste\", \"receive_ton_of\", \"outer\", \"occasion\", \"hourglass_figure\", \"an_excellent\", \"multiple_season\", \"triangle\", \"formal\", \"tall_woman\", \"it?s\", \"pearl\", \"settle\", \"stun\", \"belly_area\", \"baby_shower\", \"absolutely_gorgeous\", \"dress\", \"wedding\", \"slip\", \"party\", \"jewelry\", \"dinner\", \"art\", \"black\", \"comfortable\", \"flattering\", \"feminine\", \"perfect\", \"little\", \"wear\", \"tight\", \"stunning\", \"bit\", \"beautiful\", \"lovely\", \"6\", \"lace\", \"look\", \"work\", \"small\", \"fit\", \"buy\", \"love\", \"feel\", \"order\", \"easy\", \"run\", \"find\", \"quality\", \"color\", \"like\", \"material\", \"size\", \"cute\", \"fabric\", \"great\", \"think\", \"large\", \"medium\", \"carbon\", \"tint\", \"prefect\", \"heck\", \"periwinkle\", \"tangerine\", \"concerned_about\", \"hit_right\", \"saturated\", \"pencil\", \"opportunity\", \"darker\", \"picky_about\", \"next_time\", \"regularly\", \"slate\", \"animal\", \"bleed\", \"negative_review\", \"from_last_year\", \"angel\", \"background\", \"absolute\", \"pastel\", \"ankle_boot\", \"such_high_hope\", \"orangey\", \"kelly_green\", \"protrude\", \"hang_beautifully\", \"capris\", \"elastic_waistband\", \"orange\", \"color\", \"cord\", \"navy\", \"red\", \"blue\", \"tee\", \"sleeve\", \"these_pant\", \"beading\", \"beautiful\", \"pink\", \"love\", \"print\", \"cut\", \"nice\", \"short\", \"light\", \"good\", \"buy\", \"like\", \"soft\", \"find\", \"fit\", \"work\", \"fabric\", \"skirt\", \"little\", \"green\", \"wear\", \"long\", \"feel\", \"dress\", \"look\", \"try\", \"great\", \"think\", \"flattering\", \"size\", \"comfortable\", \"shirt\", \"sigh\", \"skimpy\", \"g\", \"sh\", \"modal\", \"quickly_become\", \"excessive\", \"birthday_gift\", \"initial\", \"alright\", \"puff\", \"pulling\", \"web\", \"content\", \"50_'s\", \"mid_weight\", \"lifestyle\", \"lint\", \"ensure\", \"squeeze\", \"bothersome\", \"lik\", \"notch\", \"percent\", \"camel\", \"cocoon\", \"fuzz\", \"exposure\", \"sharp\", \"acrylic\", \"sweater\", \"north\", \"shed\", \"yarn\", \"each_time\", \"fall_apart\", \"boring\", \"weave\", \"thick\", \"knit\", \"look\", \"warm\", \"button\", \"poncho\", \"cozy\", \"soft\", \"super_soft\", \"picture\", \"fabric\", \"bad\", \"wear\", \"design\", \"oversized\", \"great\", \"feel\", \"love\", \"buy\", \"cool\", \"sleeve\", \"expect\", \"return\", \"bit\", \"like\", \"cute\", \"color\", \"quality\", \"beautiful\", \"summer\", \"way\", \"small\", \"fit\", \"fall\", \"think\", \"material\", \"size\", \"dress\", \"order\", \"nice\", \"try\", \"large\", \"drawback\", \"an_hourglass\", \"brilliant\", \"citizen\", \"upside\", \"sausage\", \"get_several_compliment\", \"suggestion\", \"side_boob\", \"xspetite\", \"poke\", \"an_xsmall\", \"34aa\", \"count\", \"xsmall\", \"embellishment\", \"unstructured\", \"clip\", \"raw_edge\", \"bias\", \"washed_out\", \"disagree\", \"tencel\", \"35\", \"5'6_130\", \"116\", \"paige_jean\", \"flat_stomach\", \"excellent_quality\", \"nervous_about\", \"26\", \"tuck_into\", \"27\", \"floor\", \"00\", \"drawstring\", \"example\", \"waist\", \"glove\", \"fit\", \"armhole\", \"small\", \"bathing_suit\", \"jean\", \"want\", \"suit\", \"like\", \"an_xs\", \"material\", \"run\", \"petite\", \"look\", \"size\", \"great\", \"way\", \"bra\", \"buy\", \"order\", \"sadly\", \"long\", \"work\", \"nice\", \"usually\", \"sleeve\", \"dress\", \"fabric\", \"try\", \"wear\", \"large\", \"bit\", \"love\", \"shirt\", \"pretty\", \"perfect\", \"color\", \"tummy_area\", \"restrictive\", \"bomber\", \"cal\", \"caution\", \"market\", \"graze\", \"leg_opening\", \"heeled\", \"three_different\", \"mid_hip\", \"5'4_140\", \"150lbs\", \"5\\\"3\", \"apple\", \"118\", \"flared\", \"long_necklace\", \"ag_stevie\", \"135_pound\", \"rarely\", \"deep_v\", \"abt\", \"attire\", \"uncomfortably\", \"shy\", \"unattractive\", \"aline\", \"dusty\", \"everywhere_except\", \"essential\", \"paige\", \"step\", \"side_slit\", \"medium\", \"basic\", \"fit\", \"jacket\", \"hit\", \"order\", \"small\", \"waist\", \"look\", \"length\", \"perfect\", \"large\", \"chest\", \"tight\", \"try\", \"love\", \"size\", \"comfy\", \"hip\", \"wide\", \"like\", \"ivory\", \"long\", \"bit\", \"room\", \"little\", \"black\", \"want\", \"bust\", \"great\", \"dress\", \"way\", \"wear\", \"feel\", \"flattering\", \"color\", \"find\", \"material\", \"big\", \"beautiful\", \"coh\", \"overprice\", \"legged\", \"cross_over\", \"loungewear\", \"rinse\", \"jegging\", \"beach_cover_up\", \"moth\", \"somewhat_sheer\", \"degree\", \"few_week_ago\", \"sunday\", \"pooch\", \"2_3_inch\", \"high_rise\", \"useful\", \"pain\", \"trench\", \"san\", \"covered\", \"faded\", \"washing_machine\", \"freeze\", \"stevie\", \"figure_flaw\", \"pleasantly_surprise_by\", \"durability\", \"postpartum\", \"overlap\", \"big_fan_of\", \"legging\", \"rip\", \"these_jean\", \"inseam\", \"bootie\", \"leather\", \"skinny_jean\", \"great\", \"jean\", \"black\", \"pair\", \"pant\", \"wear\", \"ankle\", \"fit\", \"comfortable\", \"belly\", \"look\", \"happy\", \"fabric\", \"soft\", \"flattering\", \"versatile\", \"love\", \"perfect\", \"feel\", \"expect\", \"size\", \"hide\", \"like\", \"buy\", \"quality\", \"jacket\", \"length\", \"petite\", \"little\", \"shirt\", \"skirt\", \"dress\", \"color\", \"order\", \"true\", \"long\", \"cranberry\", \"no_longer_available\", \"unzipped\", \"nicer\", \"canvas\", \"somewhere_between\", \"magical\", \"127\", \"color_blocking\", \"elevense\", \"purse\", \"rust\", \"product_description\", \"inconsistent\", \"bikini_bottom\", \"5\\\"7\", \"week_pregnant\", \"apparently\", \"spin\", \"substance\", \"snow\", \"cocktail_party\", \"satin\", \"hemming\", \"california\", \"adequate\", \"believe_how\", \"athletic_frame\", \"bunching\", \"amazingly_soft\", \"cold_day\", \"manage\", \"label\", \"thick_enough\", \"skirt\", \"5'11\", \"blouse\", \"material\", \"wait\", \"length\", \"nice\", \"perfect\", \"love\", \"jacket\", \"wear\", \"size\", \"color\", \"need\", \"flattering\", \"these_pant\", \"fit\", \"quality\", \"fabric\", \"great\", \"white\", \"thin\", \"large\", \"like\", \"think\", \"petite\", \"brand\", \"tight\", \"bit\", \"run\", \"line\", \"purchase\", \"buy\", \"look\", \"dress\", \"cute\", \"beautiful\", \"little\", \"try\", \"order\", \"claim\", \"cottony\", \"lounge_pant\", \"purpose\", \"serve\", \"present\", \"playful\", \"other_reviewer_comment\", \"teacher\", \"simplicity\", \"defeat\", \"5'4_125_lbs\", \"albeit\", \"layer_underneath\", \"stripe_version\", \"lengthen\", \"wo\", \"warm_climate\", \"striped\", \"quick\", \"bed\", \"sewing\", \"robe\", \"transition_into\", \"morning\", \"an_average\", \"thi\", \"wrong_place\", \"an_interesting\", \"rave\", \"neat\", \"cold_water\", \"gray\", \"nice\", \"purchase\", \"outer_layer\", \"t_shirt\", \"shirt\", \"great\", \"coat\", \"sheer\", \"church\", \"long\", \"think\", \"shape\", \"black\", \"white\", \"cut\", \"pant\", \"tee\", \"wear\", \"return\", \"sale\", \"look\", \"fabric\", \"color\", \"flattering\", \"price\", \"size\", \"day\", \"material\", \"good\", \"arm\", \"like\", \"short\", \"bit\", \"small\", \"little\", \"run\", \"fit\", \"soft\", \"love\", \"dress\", \"buy\"], \"Freq\": [12137.0, 2893.0, 6833.0, 6139.0, 2159.0, 3048.0, 10138.0, 9565.0, 9169.0, 9064.0, 918.0, 2695.0, 1853.0, 5043.0, 10114.0, 3644.0, 1995.0, 2834.0, 3072.0, 4842.0, 3527.0, 2316.0, 1761.0, 4901.0, 1401.0, 1111.0, 3036.0, 2296.0, 2813.0, 2691.0, 13.721052942456717, 9.53183245129189, 18.970730550435576, 12.603598036392262, 8.446692431751439, 14.702528850098656, 21.271767760791516, 9.553852372472399, 9.111249916967964, 9.342986747266869, 11.387247263757322, 35.83731597498233, 9.72663966973919, 26.28165786376362, 16.208618026901124, 11.583175285564401, 12.960839077392063, 9.333288148078886, 8.811127441442704, 17.41149768788997, 8.282991800803783, 23.03427398670322, 12.092686695661687, 7.006874511078499, 10.586571753264742, 9.532800808217678, 17.1366442823655, 9.924198438963423, 9.896211635528452, 7.331372849329322, 26.687723632732236, 105.0816619041594, 225.5603449333681, 1058.815668086638, 2386.3585164185033, 197.42539791868347, 787.5105542286018, 802.2912108025555, 1696.9037759065654, 511.0218837194152, 413.73982798197943, 1792.062093930645, 373.23954275087004, 108.56001715864943, 792.5555950438402, 1068.2227896928257, 226.8290943366392, 303.30453932605377, 1160.6246013573025, 664.5548013004327, 206.07478774540778, 499.39541686729603, 434.72710707847824, 342.39846970231815, 487.45423186716323, 285.9236017803472, 517.3648577679363, 807.9667185376003, 1316.733460011823, 640.032276516837, 708.9098942984143, 517.8548163125243, 392.92054056147526, 979.6515317822862, 961.6574589733252, 423.323804628662, 439.1791613253437, 400.59288186854207, 661.6397850036032, 523.5691442099155, 382.8233819810487, 10.92283177295025, 21.483291111772115, 16.788690377716403, 7.267528248576198, 12.58310421701789, 12.106151773117238, 19.09097830828382, 9.782110638705115, 8.719816647675637, 8.022275139500092, 21.945532385381185, 8.665532568292587, 13.510409137372616, 16.226998878486995, 24.838984847283324, 7.59154191732917, 8.11188139856062, 17.99174900252516, 12.076991066196797, 18.61370454554114, 14.05708776999312, 6.318951693837209, 6.474264794474065, 7.748505762856745, 20.402466098975356, 10.524957286001268, 8.98639028098901, 5.320847069140288, 5.648191252659156, 14.211582447828782, 49.532462133045385, 34.417770973032226, 133.7156015256756, 71.43751488517275, 25.658061732633485, 15.225654902003532, 106.75038694509975, 2274.702506848524, 2189.780615375419, 1030.3808652730233, 83.47861553608084, 647.5574957744338, 1464.245561130505, 439.06529282481546, 327.2125588935745, 1421.4614454937619, 588.8885016126274, 67.14287680173659, 728.0702844366629, 200.0365430942968, 462.73942410288856, 134.9320934038546, 115.57810949133273, 159.86346600307522, 311.9846948223314, 202.36302886824498, 962.2156680158947, 531.8316417537636, 274.9117542457185, 468.46355002932336, 242.66969610765096, 371.7865889070782, 328.2736927028309, 675.6849982791149, 380.09691126275936, 354.2075015990768, 355.83758397128224, 403.8332590258271, 254.40673919743, 375.66444456580274, 244.71972667188692, 266.8578852062347, 462.41395182646596, 415.44516273472755, 293.20693288858223, 321.01171027029915, 316.4536594152373, 331.24224056677497, 310.9357008150252, 14.42974365951244, 13.661228197119692, 9.911380957873924, 11.551830664049563, 18.68114715664118, 13.51104886371435, 11.3156018027834, 11.443814115092941, 21.847546009762507, 9.147517901292943, 13.63588502176259, 10.031983059660167, 26.974379782876603, 9.897023331805219, 5.805191237798578, 14.361189787091696, 16.833252343017453, 27.661282016727725, 68.72487218758901, 22.744247688586444, 13.81712986734908, 8.367623004947982, 13.318581974941933, 34.53252902886813, 15.947031421335115, 10.498347394598186, 11.35013725128866, 13.607363042224197, 8.841440975139207, 6.247632176260876, 8.07396934788039, 36.831758582493705, 5440.091684784059, 135.19637832774944, 210.0218210001604, 55.776965039163215, 42.28524261985431, 56.31401821556934, 27.360588996475705, 423.4489192618568, 582.1855804752961, 655.5347271177922, 127.3783402292881, 593.6070679354697, 561.4577808785843, 1122.9057497069098, 305.59922805263346, 87.5066368961789, 406.09411632516446, 433.6957268540642, 213.29476606259266, 186.0356378411348, 143.86362849941816, 868.6904021487888, 375.67566449560246, 541.170740667174, 802.2411623168291, 475.7102214740711, 809.7384559745126, 366.45575581227536, 463.1987613670495, 141.75385502260056, 346.9180326517554, 265.45426825337057, 240.76112165401366, 519.5932592714447, 551.8141534185174, 318.0337836061629, 549.1433446530917, 292.66282266258963, 389.5404568537621, 372.4371138008331, 289.26336478192525, 281.01396181436803, 246.10200850027132, 15.553115674582774, 12.104346491870984, 11.576286667499794, 9.613907935064754, 12.622377057039953, 11.167350140899696, 22.20168599557694, 13.591761742460598, 8.20679642653522, 21.537864101688285, 13.633164274398773, 22.059186313476207, 7.815366156156863, 15.721442122462992, 9.345158547754123, 10.794656935890767, 5.830406233494596, 10.61581804445029, 13.143592893356805, 8.858427092140571, 8.142014513775258, 30.266919892929113, 6.7331987503394615, 13.528345480994755, 16.48707882638243, 9.271399144534094, 4.788186937241519, 4.504213871598985, 5.933786336108513, 16.38018496216947, 21.68439106922905, 14.580731500527106, 134.45155967176476, 1896.2563628868988, 31.070989605073134, 159.44913614547062, 227.08877349717474, 314.07207410174425, 209.2952435736955, 416.3202967560707, 162.2171877133461, 37.280281669151435, 553.9750705706685, 127.64300214052399, 1350.4391343015043, 226.03396031900664, 366.97113957078966, 514.2683853818043, 461.4538449631252, 215.13509512498598, 363.0909219651314, 599.899788591192, 856.6022706660851, 448.0013212210678, 332.7905612198877, 956.3211183447008, 410.7410681053994, 600.5995294363973, 341.74731595432775, 476.2847550909075, 144.83712576171004, 814.5180008074997, 339.71351283517504, 356.39289903605714, 778.0970531550835, 652.3723453545884, 350.6170046130643, 443.0122337189839, 335.8996495515287, 316.7515134039705, 357.6931369066957, 267.64636656686844, 258.13554844924124, 9.599760709054488, 11.171096601230799, 26.773111346266504, 10.748851518857043, 11.10560906153838, 16.53333958140497, 11.173874622153406, 8.756421375089818, 11.443433916756776, 10.024250319550811, 13.394542483285749, 9.83886045854729, 11.708835083889445, 9.104613353259783, 9.781551905134226, 9.610601223391907, 9.81731818252003, 19.061773428739745, 20.19520596516362, 17.926392419307657, 7.248825629637779, 6.794159915268186, 17.406607193658466, 8.331020597474648, 12.164124814176752, 6.187844977024808, 8.519395495382991, 8.012293152113644, 11.425399782535628, 13.631253016066266, 1591.6350335204156, 11.34418867410096, 32.86744520074498, 38.83988151535977, 16.88074356325554, 23.267523479259882, 26.676097275863434, 54.18856286363815, 224.02756136154193, 171.51980800303988, 1575.6796959172207, 215.5816179562208, 280.86347131746646, 55.97458100730481, 115.86486560821493, 599.0023323994066, 107.02737558730186, 341.1182702534524, 724.2535608546666, 94.68294282058818, 1200.9210644046425, 326.6012589188797, 74.14154380577104, 737.9834900049358, 427.77813431505433, 976.7484523609107, 535.6368148556201, 116.20025821114051, 307.1296353969521, 170.59413344159736, 260.7851945085934, 341.0070069539367, 644.4411622107638, 322.47663390563315, 557.6724567140401, 244.38948122974378, 332.70592428065686, 200.61254901185725, 255.64348142491258, 411.99104505594147, 565.7222115970139, 228.52313527114654, 317.5646180390916, 282.86941611750626, 412.0598070097181, 380.53271238456523, 297.68586011750637, 251.55960071853096, 248.0232275715887, 246.7195284707544, 13.676362105108447, 16.540883840504325, 9.32714291608637, 23.958251828941354, 6.319092017087079, 10.566416981928477, 10.643728225127116, 10.093016001819764, 9.427375917954773, 15.362596029255565, 8.279462416631423, 8.768026862258102, 12.00412198014534, 15.0660278705766, 23.93259616028976, 16.279429361288724, 10.941458647188558, 14.45174872378972, 16.535914979470462, 12.02236433318414, 5.759587678453646, 6.373899768374614, 6.130138713345518, 19.39894279925753, 8.195075432407508, 6.909008790846046, 6.9932558592869745, 7.303448409871065, 14.060551597513257, 9.462954502771131, 104.36331578214056, 14.425360162941532, 92.60087277692037, 31.728656209362015, 34.653597873562966, 24.281451365277075, 14.876336122424837, 549.2528528313312, 53.35920688776127, 1536.66283280917, 78.24760403608842, 828.3710822427181, 30.172114592205688, 336.80591241812135, 372.55243170822826, 92.91248965536934, 965.6695132370343, 139.10875467177337, 437.3851355213753, 458.04072045094387, 376.2630752637037, 977.5073182883282, 968.2689086292801, 731.1662784057687, 323.35338743457436, 151.35789139678107, 536.8950170891417, 587.4804624266608, 90.17282313846675, 383.1592384531404, 386.70322676488183, 385.44913124988017, 281.4536059420243, 264.26558717547135, 841.7842353691101, 476.6660725875493, 387.09505018085355, 709.9109241143155, 361.3070522909501, 315.1594217045938, 661.5791504125314, 305.2560019528517, 280.37237230527813, 326.46295870870455, 367.21899011984397, 14.2477067928534, 18.810173623110288, 14.166138318817874, 10.580910602400511, 16.9748309445616, 10.282589051260667, 8.719618416451073, 8.19887786604474, 11.694872509682842, 11.955172047546897, 7.9150172462299375, 10.802494623664153, 10.939681370831131, 14.954736206320005, 7.781437409854324, 15.082651507540097, 12.948917927519103, 17.428710839441017, 9.419822370196737, 12.617427499369182, 34.249308031613076, 5.749521213941202, 9.678100345869517, 9.20780938831622, 10.973559701742298, 8.184509864165197, 10.332340979769132, 4.7959232816864175, 11.424117022193442, 7.775915736383674, 12.85860160254678, 17.156492753439988, 21.079040486954053, 36.159940205096156, 568.9404073782388, 68.20154697909058, 1536.6666639895625, 251.31746034038713, 179.10736428049597, 712.5414000828166, 712.8567499145893, 355.49985722602315, 1071.5450580258998, 419.30515902571585, 509.67825140617896, 471.87062497415053, 184.82427280709345, 281.83438063710446, 450.32488587686476, 926.2338084504289, 856.5955112156234, 150.2267567561871, 178.81872264876122, 150.76281818204097, 712.1767837748628, 71.99497132859305, 324.95124660138384, 317.80538834446685, 83.93656596805049, 387.17298626555225, 248.37094779894105, 254.42839419806148, 154.52572283723345, 462.1749380774719, 679.3415207001163, 237.08388714528954, 575.4307551966688, 279.76794045868496, 294.47484909093095, 373.78781729766564, 228.43142897780163, 244.26281164072458, 220.6664109526611, 233.05018331189822, 21.06970774055112, 20.409554214520092, 14.013079076568237, 10.919817034694958, 9.777740221939863, 13.283379361390187, 12.32287188955134, 20.673879162909145, 29.247348390074155, 11.290260895583838, 18.79473501849178, 10.333076915997319, 16.423161189337815, 17.393814743199417, 10.189795376529647, 43.67581326777311, 13.919320173219724, 18.06336380133947, 20.543011614952267, 7.809576565180389, 9.601716755472852, 15.52139172773226, 9.833605460102994, 8.717059701822476, 19.598544058167604, 7.759296224858888, 10.299120711104614, 8.61380965905357, 12.350158346293828, 10.380591798577743, 22.43609621591295, 441.64648377758215, 62.699248779736344, 150.46966395623014, 35.199151971682426, 112.66085643839047, 44.292778304660594, 114.6131083069008, 1121.4193273193296, 398.41514174607164, 384.24330250144214, 302.31501175989064, 305.22609439514656, 1270.3412506894992, 101.84868152927851, 1048.6902133825067, 428.15592012050746, 48.1481333797392, 932.5404471329858, 170.01885382925576, 583.6044694469456, 414.65886297093823, 438.68441057626313, 123.78659211007655, 833.4519161634164, 434.86348974263404, 376.1573225975365, 166.19868224476068, 667.2075609401963, 82.35504535766673, 579.6562178854904, 401.29188379601976, 237.9629818280039, 187.209469865914, 278.61542915280256, 258.5747630665945, 319.2421106323824, 274.02542489561046, 228.80303654042982, 416.4280066760922, 323.49861577504595, 288.54947367064227, 208.5967239581825, 218.44543732465132, 15.593110769562564, 10.339159397007062, 10.495772279975974, 9.657375036777, 11.941306451579742, 14.80738569736318, 9.365157680768155, 11.604089940522183, 11.295227119545533, 8.36213650431333, 6.244241739740814, 14.644593692122129, 7.853251860609679, 7.059026254711994, 7.7613440805708995, 7.8210961929425, 7.283166039781981, 11.996498129395981, 5.5107029899074655, 7.583347193966273, 7.453238504970737, 8.184386782599589, 9.762400729921753, 11.0510112450541, 12.124040059463375, 6.903033707155501, 13.05355209534287, 5.526611806573023, 7.143418525838206, 7.440156939642835, 10.900535078616246, 17.632113287627373, 29.409932279812296, 30.503864701390444, 742.7802402571917, 24.576814270175042, 265.3826298807999, 477.8352957808165, 150.80504113384401, 383.3387494458644, 428.0134836129944, 476.41736411188015, 981.2492693315313, 199.08480608654193, 947.7218462126777, 845.2816722959229, 677.1164961818339, 219.14664717898322, 409.9300084636466, 116.16694623001789, 789.1262743382679, 234.60961230597587, 463.1261351073209, 521.8927574416265, 209.86677834786704, 163.46064927371282, 316.43495488108135, 507.0989985262623, 308.4147158758449, 239.34967273419468, 86.27484371179182, 195.14468755811885, 243.8682928056616, 256.96657811147696, 142.72561825316646, 219.054314129941, 292.62836214416564, 370.31728880378074, 408.4381017967793, 215.4939378013264, 219.8031559001387, 228.7117927578855, 216.37272045494424, 217.79516894110225, 13.589772816517666, 8.94374989884615, 15.32801744473846, 36.188585765247225, 10.32365782377595, 10.739385967778643, 13.478205000404705, 7.2054142682859075, 20.45458216105275, 9.60412178868948, 12.623890818420307, 5.755046861494672, 8.211654488865701, 19.09904708234248, 8.05783107779407, 6.829203758682195, 8.07893257401923, 8.5837462220655, 16.42758240550987, 18.317752546300976, 14.234622758196668, 9.141428021130332, 26.069845220954775, 7.974054744918399, 27.529493288294447, 13.20040799765052, 9.166858177767729, 11.05487161571643, 18.667203633881254, 6.106113372106421, 12.815720593825983, 26.358912837148328, 127.22510842717622, 632.7482170240833, 419.9964714419499, 12.670837505073754, 95.07635742950963, 444.0214257122494, 810.5318349905343, 120.92055893064028, 137.4371994868894, 16.741879236758916, 360.9327927815598, 420.53508746186276, 177.37983269594446, 258.26557357369404, 221.5067555769144, 256.052245183097, 205.54099373732507, 128.74232467965567, 734.8951174685411, 223.0994080345704, 160.8955700356358, 617.7397535052785, 411.0009206969796, 495.1047736224497, 329.0619345232125, 129.2494212765644, 557.3260840705583, 142.1522442598691, 267.4279205603455, 216.71299220223702, 153.84074044198235, 436.56422480351387, 235.37158164935065, 229.82384337736914, 304.7276943366095, 262.6251853018437, 240.4780816648794, 388.1601540946865, 240.50910452020472, 363.19619876010734, 341.67017504334814, 220.29326199945524], \"Total\": [12137.0, 2893.0, 6833.0, 6139.0, 2159.0, 3048.0, 10138.0, 9565.0, 9169.0, 9064.0, 918.0, 2695.0, 1853.0, 5043.0, 10114.0, 3644.0, 1995.0, 2834.0, 3072.0, 4842.0, 3527.0, 2316.0, 1761.0, 4901.0, 1401.0, 1111.0, 3036.0, 2296.0, 2813.0, 2691.0, 14.990146484782969, 10.621597399867134, 21.820531222393136, 15.606421796324524, 10.51265091420892, 18.453734052640424, 26.748746649451228, 12.171168666612761, 11.692527800831165, 12.093232614794397, 14.847981601105243, 48.451056332950905, 13.165693821363075, 36.20080201482408, 22.526222278788293, 16.12443384822839, 18.391156164065112, 13.359258831744953, 12.718899918987814, 25.40177230660543, 12.184139348858226, 34.02969723510267, 18.168683237621572, 10.555033068042563, 16.09266607509707, 14.552345880510101, 26.541957592737692, 15.38712221465296, 15.407698566296704, 11.605518628089614, 46.08764291870175, 214.0719078098936, 545.4912793619517, 3500.064840573383, 9064.180103270097, 501.0793296592498, 2695.0923172422504, 2776.7306935753127, 7626.61209870821, 1772.516029255508, 1402.370438809272, 9169.390103922542, 1270.9004410630164, 270.48964129492913, 3350.156602408234, 5043.853638034712, 731.8028514903101, 1078.0339059610042, 6833.287325052992, 3282.9883627487325, 689.8167567002807, 2313.1927074068376, 1932.222729308883, 1398.2474155630155, 2273.7097402965755, 1121.8806225146461, 2565.6189166111412, 4842.640405545441, 10114.839614106339, 3719.875874297944, 4901.300810825082, 3036.4580349363564, 2028.8598096570076, 9565.457830670919, 10138.996351576792, 2619.035462591599, 2960.213900023491, 2762.1052505401613, 12137.803890288176, 6139.632280704127, 4198.197699950383, 11.836449295011045, 26.681348932584292, 20.864521991531756, 9.209295931223537, 16.03979115608411, 15.85230264939419, 25.74635841273081, 13.636158298908681, 12.412879181648472, 11.651779110209091, 32.417963586618534, 12.83871161554528, 20.56896740188665, 24.844524899301295, 38.223667602524145, 11.725695172890232, 12.667402458240764, 28.295953832236496, 19.67812785150979, 31.380473310519754, 23.967004563107086, 10.78216566920035, 11.089987589611482, 13.303840508927275, 35.05406844596637, 18.134781136179534, 15.650221636345574, 9.398458839657044, 10.006474998227967, 25.188356198346014, 93.51655292603233, 67.44309796023445, 296.4261236934996, 153.61846909807537, 50.734282479784696, 28.43616394302429, 260.6609483058568, 10138.996351576792, 12137.803890288176, 4842.640405545441, 225.93257887377482, 3036.4580349363564, 9064.180103270097, 2028.8598096570076, 1402.370438809272, 10114.839614106339, 3282.9883627487325, 185.23337176916957, 5043.853638034712, 860.6848209489573, 2813.571674515898, 520.84764235836, 417.6296323027905, 669.5223393257279, 1781.7703151041737, 952.55152212782, 9565.457830670919, 4198.197699950383, 1548.7741610941662, 3644.5878219506335, 1400.2151750026794, 2762.1052505401613, 2316.989164797123, 7626.61209870821, 3072.8412209995786, 2776.7306935753127, 2960.213900023491, 3719.875874297944, 1670.8493207854413, 3527.3021481652836, 1593.7525301936212, 1932.222729308883, 6833.287325052992, 6139.632280704127, 2619.035462591599, 3500.064840573383, 3350.156602408234, 4901.300810825082, 9169.390103922542, 16.61791077515379, 16.146605504121773, 12.248503646513527, 15.24538919640051, 25.168408862641332, 18.40911919754139, 15.475975610425094, 15.657954819423484, 29.989623834265227, 13.101830520427939, 19.53336984196573, 14.62725411322991, 39.34030704546982, 14.65153423956772, 8.681875509668105, 21.90538347322954, 26.212350799697624, 43.19595378634198, 107.41915865364567, 35.59207247967558, 21.93626522101875, 13.37422925162349, 21.302958692513926, 55.3499032462216, 25.727764889351512, 17.221356704711205, 18.653512059976467, 22.483562855220548, 14.75582081736359, 10.440289560824688, 13.549518503824192, 64.32680035576706, 12137.803890288176, 253.48205049505805, 472.93096878336144, 108.5579341887284, 80.46566167939228, 125.50242467810293, 53.42173152017813, 1853.4350688205532, 2813.571674515898, 3527.3021481652836, 440.69045861943175, 3644.5878219506335, 3719.875874297944, 10114.839614106339, 1665.81795282364, 282.3933975881256, 2661.5651738111833, 2960.213900023491, 1076.0081297067093, 908.8245339443306, 619.3825622304789, 9169.390103922542, 2762.1052505401613, 5043.853638034712, 9565.457830670919, 4198.197699950383, 10138.996351576792, 2916.448857670822, 4842.640405545441, 647.8783658350969, 3036.4580349363564, 1997.7336296049994, 1683.0894136326333, 6833.287325052992, 7626.61209870821, 2834.936720898276, 9064.180103270097, 2565.6189166111412, 4901.300810825082, 6139.632280704127, 3350.156602408234, 3282.9883627487325, 2296.1317775610178, 17.83722200895378, 14.126178144365252, 13.749870547417743, 12.06842633203774, 16.28645677269838, 14.57895943171517, 29.08090226463507, 18.16600897132756, 11.44293122265412, 31.268918411250993, 20.4119330608206, 33.08994499929121, 11.93088406056127, 24.110375174901506, 14.606605828311057, 17.58485152601541, 9.54456631993876, 17.566386937379235, 21.87923590155205, 14.756854597366969, 13.579650211675752, 50.97074449584099, 11.388508965320177, 23.75209566004227, 28.98565872514279, 16.321402408825065, 8.533606970223532, 8.086054995118749, 10.717230633984693, 29.945529934361424, 40.86480057214627, 27.59424885348167, 329.37242626229687, 6833.287325052992, 66.41572924862972, 473.14739201727843, 721.7228482280976, 1094.9645597778933, 710.7366001266565, 1863.4591348826227, 567.3272848915573, 86.80294661342738, 2960.213900023491, 449.76453487597144, 10138.996351576792, 955.2820354084156, 1853.3648962715731, 3048.2957368219136, 2776.7306935753127, 984.2771947666984, 2067.6554290505223, 4198.197699950383, 7626.61209870821, 3072.8412209995786, 1997.7336296049994, 9565.457830670919, 2762.1052505401613, 4901.300810825082, 2159.0996890754022, 3719.875874297944, 615.7530389784051, 10114.839614106339, 2691.982498660853, 2916.448857670822, 12137.803890288176, 9169.390103922542, 3500.064840573383, 6139.632280704127, 3350.156602408234, 3527.3021481652836, 9064.180103270097, 2813.571674515898, 2695.0923172422504, 11.517012632751197, 13.415126749994482, 32.23249913205211, 13.065998466131513, 13.605336037759809, 20.322977094225028, 14.040468188774513, 11.363820439051272, 14.88136257208907, 13.133201644971992, 18.41284764785324, 13.632938351767773, 16.30952965137619, 12.693213433385234, 14.041401002045957, 13.870096708049402, 14.289864407996221, 28.145301984995356, 29.95588861203404, 26.707870914924133, 10.905356563276124, 10.332814413089208, 26.62189843485247, 12.884147490710037, 19.248008832113328, 9.844591298662829, 13.591510130132054, 12.798725900850345, 18.32756250931141, 22.040200168700704, 2893.774628314485, 18.386000840459676, 56.664141989391965, 68.246189144825, 28.17480095725993, 41.62749719268771, 51.009552987445325, 119.89710499257328, 687.9773582598827, 529.8073599079042, 9169.390103922542, 731.9773299221808, 1068.8055279602734, 132.32483185238704, 343.63328801767057, 3072.8412209995786, 342.585910028694, 1683.367764081258, 4901.300810825082, 295.5195950229176, 10114.839614106339, 1670.8493207854413, 211.00061730167525, 6139.632280704127, 2916.448857670822, 10138.996351576792, 4198.197699950383, 436.0492296236189, 1863.4591348826227, 817.1774842726821, 1717.9307108871274, 2661.5651738111833, 7626.61209870821, 2565.6189166111412, 6833.287325052992, 1683.0894136326333, 2960.213900023491, 1255.4593016960946, 1990.8520368980144, 5043.853638034712, 9565.457830670919, 1627.0015845458142, 3350.156602408234, 2834.936720898276, 9064.180103270097, 12137.803890288176, 4842.640405545441, 3048.2957368219136, 3500.064840573383, 3282.9883627487325, 17.047124088138258, 20.947833475381845, 12.117178061327252, 31.36513516995532, 8.63886467661543, 14.517942517122425, 15.06747179771565, 14.296720136400609, 13.43025015139421, 22.558868761747934, 12.64659853654185, 13.40340364260439, 18.66130848790922, 23.444424868789543, 39.08339650854651, 26.803840429297306, 18.25282425172433, 24.11045558053136, 27.613084976326103, 20.338472956136115, 9.744214094910738, 10.840255812151225, 10.522146689991876, 33.475523989098235, 14.16095106822952, 11.992411331259156, 12.45748440811919, 13.198187973763865, 25.636101802217564, 17.287728124570698, 198.3357988711803, 26.52762470827593, 196.82821947120013, 62.45564122348644, 71.40067736603002, 48.53348473848106, 28.371483638791013, 1995.90942373599, 131.8600376606946, 9565.457830670919, 232.0066224425714, 5043.853638034712, 69.98992677787295, 1761.826140560053, 2023.52133371791, 314.1891999514522, 7626.61209870821, 561.4241024209048, 2834.936720898276, 3036.4580349363564, 2313.1927074068376, 9169.390103922542, 9064.180103270097, 6139.632280704127, 1990.8520368980144, 662.9584011350494, 4198.197699950383, 4842.640405545441, 319.94053357735237, 2691.982498660853, 2762.1052505401613, 3048.2957368219136, 1932.222729308883, 1863.4591348826227, 12137.803890288176, 4901.300810825082, 3500.064840573383, 10114.839614106339, 3282.9883627487325, 2661.5651738111833, 10138.996351576792, 2695.0923172422504, 2273.7097402965755, 3644.5878219506335, 6833.287325052992, 18.028376376546085, 23.82882068879097, 18.13345674670651, 13.821670224501077, 22.187817405944266, 13.699471815145692, 11.683274009510253, 11.159658252090722, 16.33843391946752, 16.745277716758107, 11.222403289940182, 15.384294296391962, 15.6148088141438, 21.422529507106454, 11.159427408080758, 23.508795557097923, 20.248778550887362, 27.753486244712054, 15.147401665970401, 20.307569701629074, 55.23497981323878, 9.340015937603956, 16.030282858887958, 15.410906349448652, 18.704746705026924, 13.975033407423886, 17.74811818531741, 8.296442398004306, 19.853242100106236, 13.780301875310467, 23.27723901552771, 31.613405432513463, 39.824700469153235, 73.65030558601003, 2296.1317775610178, 180.62122561137127, 9565.457830670919, 1111.7756125432563, 767.1648803200007, 4842.640405545441, 5043.853638034712, 1995.90942373599, 9169.390103922542, 2619.035462591599, 3644.5878219506335, 3282.9883627487325, 890.4086112104085, 1665.81795282364, 3500.064840573383, 10138.996351576792, 9064.180103270097, 702.8012914916069, 943.3980132038523, 731.8028514903101, 7626.61209870821, 256.4623653873974, 2691.982498660853, 2661.5651738111833, 326.297517351343, 3719.875874297944, 1853.4350688205532, 2023.52133371791, 925.6787759678201, 6139.632280704127, 12137.803890288176, 1990.8520368980144, 10114.839614106339, 2916.448857670822, 3527.3021481652836, 6833.287325052992, 1997.7336296049994, 2834.936720898276, 2028.8598096570076, 2960.213900023491, 23.6501018772352, 23.618254599016392, 16.259343808918096, 13.499946824747402, 12.443933963870665, 16.923226344555008, 16.03951592189193, 27.25110872309894, 38.690112227225654, 14.965031336710588, 25.19691874902061, 13.943880822828266, 22.883254679164633, 24.316938996750654, 14.393050782346485, 63.44337353646033, 20.642712742213636, 26.866793111763783, 30.600670549069857, 11.857092042805151, 14.778158981501612, 24.02077063139455, 15.49759577066101, 13.777781033354938, 30.994075504955436, 12.317704028417065, 16.617542983071743, 13.946690042310843, 20.006956678823475, 16.928573889761218, 38.37205820636646, 918.4380780427316, 118.80034415002312, 344.22175711162333, 67.3221492613624, 279.3816157681613, 96.45087227225609, 339.7957932660181, 6139.632280704127, 1761.826140560053, 1853.4350688205532, 1357.5404410063202, 1401.9378618168714, 10114.839614106339, 324.327046952673, 9565.457830670919, 2813.571674515898, 117.27601418754072, 9169.390103922542, 764.4375402235117, 4901.300810825082, 3072.8412209995786, 3527.3021481652836, 504.77135474289435, 10138.996351576792, 3644.5878219506335, 2916.448857670822, 817.1774842726821, 9064.180103270097, 274.05042102404076, 7626.61209870821, 4198.197699950383, 1683.0894136326333, 1111.7756125432563, 2619.035462591599, 2313.1927074068376, 3719.875874297944, 2695.0923172422504, 2159.0996890754022, 12137.803890288176, 6833.287325052992, 4842.640405545441, 1687.5720274542152, 2691.982498660853, 16.507947498912962, 11.391428172891613, 12.972692616703217, 12.004705212162575, 15.057693108086772, 18.756044497158886, 12.19087416808923, 16.06682267023237, 15.697691270971236, 12.664099710807719, 9.474698941475925, 22.30573387033631, 12.041776629998507, 11.036492498163126, 12.212086539037433, 12.341611273169166, 11.54561632806753, 19.050491081566207, 8.863607788701724, 12.235505464146515, 12.151633197350263, 13.405904029778892, 16.441781993387103, 18.65015226953234, 20.699789961455167, 11.78603910274349, 24.649841051996646, 10.445866097219373, 13.595909308400433, 14.229484308536085, 20.994781902447347, 34.3139544108679, 58.97304440978324, 61.886808097367314, 2159.0996890754022, 51.40543105345068, 988.5253799980405, 2834.936720898276, 652.7359846867244, 2619.035462591599, 3048.2957368219136, 3644.5878219506335, 10138.996351576792, 1111.7756125432563, 10114.839614106339, 9064.180103270097, 6833.287325052992, 1400.2151750026794, 3527.3021481652836, 567.3272848915573, 9565.457830670919, 1683.0894136326333, 4901.300810825082, 6139.632280704127, 1481.5223917814158, 1124.8920358584764, 3282.9883627487325, 7626.61209870821, 3350.156602408234, 2313.1927074068376, 411.31257981099014, 1665.81795282364, 2661.5651738111833, 3036.4580349363564, 1032.4830610616577, 2316.989164797123, 4198.197699950383, 9169.390103922542, 12137.803890288176, 2565.6189166111412, 2960.213900023491, 3719.875874297944, 3500.064840573383, 4842.640405545441, 19.30399024034321, 12.96104026779555, 22.449705875385973, 54.81513888710187, 15.784060515406125, 16.57812027993602, 20.818497806983665, 11.29952749864455, 32.11665530545896, 15.165854682548508, 19.96822388236288, 9.114906725518273, 13.011103618373124, 31.106000908101926, 13.269027284115499, 11.395177703191424, 13.577567933990073, 14.636794353173766, 28.26719527935886, 32.18594604773311, 25.1791761804973, 16.250834896195233, 46.58329461298949, 14.475030646558892, 50.000102139339546, 24.040722629278786, 17.31911335578942, 21.333130464918924, 36.235183738263714, 11.985585921210085, 25.320902392127444, 57.275541742508906, 377.98333799914235, 3048.2957368219136, 2316.989164797123, 25.25407028958349, 350.2636846364145, 2695.0923172422504, 6139.632280704127, 506.59677328187615, 614.4970738528611, 36.27110823986442, 2691.982498660853, 3350.156602408234, 1047.9833628606302, 1853.4350688205532, 1481.5223917814158, 1853.3648962715731, 1401.9378618168714, 710.7366001266565, 10114.839614106339, 1717.9307108871274, 1078.0339059610042, 9169.390103922542, 4901.300810825082, 6833.287325052992, 3527.3021481652836, 788.5673844346799, 9064.180103270097, 944.091010905765, 2834.936720898276, 2067.6554290505223, 1123.2619421452182, 7626.61209870821, 2776.7306935753127, 2661.5651738111833, 5043.853638034712, 3719.875874297944, 3036.4580349363564, 9565.457830670919, 3072.8412209995786, 10138.996351576792, 12137.803890288176, 4198.197699950383], \"Category\": [\"Default\", \"Default\", \"Default\", \"Default\", \"Default\", \"Default\", \"Default\", \"Default\", \"Default\", \"Default\", \"Default\", \"Default\", \"Default\", \"Default\", \"Default\", \"Default\", \"Default\", \"Default\", \"Default\", \"Default\", \"Default\", \"Default\", \"Default\", \"Default\", \"Default\", \"Default\", \"Default\", \"Default\", \"Default\", \"Default\", \"Topic1\", \"Topic1\", \"Topic1\", \"Topic1\", \"Topic1\", \"Topic1\", \"Topic1\", \"Topic1\", \"Topic1\", \"Topic1\", \"Topic1\", \"Topic1\", \"Topic1\", \"Topic1\", \"Topic1\", \"Topic1\", \"Topic1\", \"Topic1\", \"Topic1\", \"Topic1\", \"Topic1\", \"Topic1\", \"Topic1\", \"Topic1\", \"Topic1\", \"Topic1\", \"Topic1\", \"Topic1\", \"Topic1\", \"Topic1\", \"Topic1\", \"Topic1\", \"Topic1\", \"Topic1\", \"Topic1\", \"Topic1\", \"Topic1\", \"Topic1\", \"Topic1\", \"Topic1\", \"Topic1\", \"Topic1\", \"Topic1\", \"Topic1\", \"Topic1\", \"Topic1\", \"Topic1\", \"Topic1\", \"Topic1\", \"Topic1\", \"Topic1\", \"Topic1\", \"Topic1\", \"Topic1\", \"Topic1\", \"Topic1\", \"Topic1\", \"Topic1\", \"Topic1\", \"Topic1\", \"Topic1\", \"Topic1\", \"Topic1\", \"Topic1\", \"Topic1\", \"Topic1\", \"Topic1\", \"Topic1\", \"Topic1\", \"Topic1\", \"Topic1\", \"Topic2\", \"Topic2\", \"Topic2\", \"Topic2\", \"Topic2\", \"Topic2\", \"Topic2\", \"Topic2\", \"Topic2\", \"Topic2\", \"Topic2\", \"Topic2\", \"Topic2\", \"Topic2\", \"Topic2\", \"Topic2\", \"Topic2\", \"Topic2\", \"Topic2\", \"Topic2\", \"Topic2\", \"Topic2\", \"Topic2\", \"Topic2\", \"Topic2\", \"Topic2\", \"Topic2\", \"Topic2\", \"Topic2\", \"Topic2\", \"Topic2\", \"Topic2\", \"Topic2\", \"Topic2\", \"Topic2\", \"Topic2\", \"Topic2\", \"Topic2\", \"Topic2\", \"Topic2\", \"Topic2\", \"Topic2\", \"Topic2\", \"Topic2\", \"Topic2\", \"Topic2\", \"Topic2\", \"Topic2\", \"Topic2\", \"Topic2\", \"Topic2\", \"Topic2\", \"Topic2\", \"Topic2\", \"Topic2\", \"Topic2\", \"Topic2\", \"Topic2\", \"Topic2\", \"Topic2\", \"Topic2\", \"Topic2\", \"Topic2\", \"Topic2\", \"Topic2\", \"Topic2\", \"Topic2\", \"Topic2\", \"Topic2\", \"Topic2\", \"Topic2\", \"Topic2\", \"Topic2\", \"Topic2\", \"Topic2\", \"Topic2\", \"Topic2\", \"Topic2\", \"Topic2\", \"Topic3\", \"Topic3\", \"Topic3\", \"Topic3\", \"Topic3\", \"Topic3\", \"Topic3\", \"Topic3\", \"Topic3\", \"Topic3\", \"Topic3\", \"Topic3\", \"Topic3\", \"Topic3\", \"Topic3\", \"Topic3\", \"Topic3\", \"Topic3\", \"Topic3\", \"Topic3\", \"Topic3\", \"Topic3\", \"Topic3\", \"Topic3\", \"Topic3\", \"Topic3\", \"Topic3\", \"Topic3\", \"Topic3\", \"Topic3\", \"Topic3\", \"Topic3\", \"Topic3\", \"Topic3\", \"Topic3\", \"Topic3\", \"Topic3\", \"Topic3\", \"Topic3\", \"Topic3\", \"Topic3\", \"Topic3\", \"Topic3\", \"Topic3\", \"Topic3\", \"Topic3\", \"Topic3\", \"Topic3\", \"Topic3\", \"Topic3\", \"Topic3\", \"Topic3\", \"Topic3\", \"Topic3\", \"Topic3\", \"Topic3\", \"Topic3\", \"Topic3\", \"Topic3\", \"Topic3\", \"Topic3\", \"Topic3\", \"Topic3\", \"Topic3\", \"Topic3\", \"Topic3\", \"Topic3\", \"Topic3\", \"Topic3\", \"Topic3\", \"Topic3\", \"Topic3\", \"Topic3\", \"Topic3\", \"Topic3\", \"Topic4\", \"Topic4\", \"Topic4\", \"Topic4\", \"Topic4\", \"Topic4\", \"Topic4\", \"Topic4\", \"Topic4\", \"Topic4\", \"Topic4\", \"Topic4\", \"Topic4\", \"Topic4\", \"Topic4\", \"Topic4\", \"Topic4\", \"Topic4\", \"Topic4\", \"Topic4\", \"Topic4\", \"Topic4\", \"Topic4\", \"Topic4\", \"Topic4\", \"Topic4\", \"Topic4\", \"Topic4\", \"Topic4\", \"Topic4\", \"Topic4\", \"Topic4\", \"Topic4\", \"Topic4\", \"Topic4\", \"Topic4\", \"Topic4\", \"Topic4\", \"Topic4\", \"Topic4\", \"Topic4\", \"Topic4\", \"Topic4\", \"Topic4\", \"Topic4\", \"Topic4\", \"Topic4\", \"Topic4\", \"Topic4\", \"Topic4\", \"Topic4\", \"Topic4\", \"Topic4\", \"Topic4\", \"Topic4\", \"Topic4\", \"Topic4\", \"Topic4\", \"Topic4\", \"Topic4\", \"Topic4\", \"Topic4\", \"Topic4\", \"Topic4\", \"Topic4\", \"Topic4\", \"Topic4\", \"Topic4\", \"Topic4\", \"Topic4\", \"Topic4\", \"Topic4\", \"Topic4\", \"Topic5\", \"Topic5\", \"Topic5\", \"Topic5\", \"Topic5\", \"Topic5\", \"Topic5\", \"Topic5\", \"Topic5\", \"Topic5\", \"Topic5\", \"Topic5\", \"Topic5\", \"Topic5\", \"Topic5\", \"Topic5\", \"Topic5\", \"Topic5\", \"Topic5\", \"Topic5\", \"Topic5\", \"Topic5\", \"Topic5\", \"Topic5\", \"Topic5\", \"Topic5\", \"Topic5\", \"Topic5\", \"Topic5\", \"Topic5\", \"Topic5\", \"Topic5\", \"Topic5\", \"Topic5\", \"Topic5\", \"Topic5\", \"Topic5\", \"Topic5\", \"Topic5\", \"Topic5\", \"Topic5\", \"Topic5\", \"Topic5\", \"Topic5\", \"Topic5\", \"Topic5\", \"Topic5\", \"Topic5\", \"Topic5\", \"Topic5\", \"Topic5\", \"Topic5\", \"Topic5\", \"Topic5\", \"Topic5\", \"Topic5\", \"Topic5\", \"Topic5\", \"Topic5\", \"Topic5\", \"Topic5\", \"Topic5\", \"Topic5\", \"Topic5\", \"Topic5\", \"Topic5\", \"Topic5\", \"Topic5\", \"Topic5\", \"Topic5\", \"Topic5\", \"Topic5\", \"Topic5\", \"Topic5\", \"Topic5\", \"Topic5\", \"Topic5\", \"Topic5\", \"Topic5\", \"Topic5\", \"Topic6\", \"Topic6\", \"Topic6\", \"Topic6\", \"Topic6\", \"Topic6\", \"Topic6\", \"Topic6\", \"Topic6\", \"Topic6\", \"Topic6\", \"Topic6\", \"Topic6\", \"Topic6\", \"Topic6\", \"Topic6\", \"Topic6\", \"Topic6\", \"Topic6\", \"Topic6\", \"Topic6\", \"Topic6\", \"Topic6\", \"Topic6\", \"Topic6\", \"Topic6\", \"Topic6\", \"Topic6\", \"Topic6\", \"Topic6\", \"Topic6\", \"Topic6\", \"Topic6\", \"Topic6\", \"Topic6\", \"Topic6\", \"Topic6\", \"Topic6\", \"Topic6\", \"Topic6\", \"Topic6\", \"Topic6\", \"Topic6\", \"Topic6\", \"Topic6\", \"Topic6\", \"Topic6\", \"Topic6\", \"Topic6\", \"Topic6\", \"Topic6\", \"Topic6\", \"Topic6\", \"Topic6\", \"Topic6\", \"Topic6\", \"Topic6\", \"Topic6\", \"Topic6\", \"Topic6\", \"Topic6\", \"Topic6\", \"Topic6\", \"Topic6\", \"Topic6\", \"Topic6\", \"Topic6\", \"Topic6\", \"Topic6\", \"Topic6\", \"Topic6\", \"Topic6\", \"Topic6\", \"Topic6\", \"Topic6\", \"Topic7\", \"Topic7\", \"Topic7\", \"Topic7\", \"Topic7\", \"Topic7\", \"Topic7\", \"Topic7\", \"Topic7\", \"Topic7\", \"Topic7\", \"Topic7\", \"Topic7\", \"Topic7\", \"Topic7\", \"Topic7\", \"Topic7\", \"Topic7\", \"Topic7\", \"Topic7\", \"Topic7\", \"Topic7\", \"Topic7\", \"Topic7\", \"Topic7\", \"Topic7\", \"Topic7\", \"Topic7\", \"Topic7\", \"Topic7\", \"Topic7\", \"Topic7\", \"Topic7\", \"Topic7\", \"Topic7\", \"Topic7\", \"Topic7\", \"Topic7\", \"Topic7\", \"Topic7\", \"Topic7\", \"Topic7\", \"Topic7\", \"Topic7\", \"Topic7\", \"Topic7\", \"Topic7\", \"Topic7\", \"Topic7\", \"Topic7\", \"Topic7\", \"Topic7\", \"Topic7\", \"Topic7\", \"Topic7\", \"Topic7\", \"Topic7\", \"Topic7\", \"Topic7\", \"Topic7\", \"Topic7\", \"Topic7\", \"Topic7\", \"Topic7\", \"Topic7\", \"Topic7\", \"Topic7\", \"Topic7\", \"Topic7\", \"Topic7\", \"Topic7\", \"Topic7\", \"Topic7\", \"Topic7\", \"Topic8\", \"Topic8\", \"Topic8\", \"Topic8\", \"Topic8\", \"Topic8\", \"Topic8\", \"Topic8\", \"Topic8\", \"Topic8\", \"Topic8\", \"Topic8\", \"Topic8\", \"Topic8\", \"Topic8\", \"Topic8\", \"Topic8\", \"Topic8\", \"Topic8\", \"Topic8\", \"Topic8\", \"Topic8\", \"Topic8\", \"Topic8\", \"Topic8\", \"Topic8\", \"Topic8\", \"Topic8\", \"Topic8\", \"Topic8\", \"Topic8\", \"Topic8\", \"Topic8\", \"Topic8\", \"Topic8\", \"Topic8\", \"Topic8\", \"Topic8\", \"Topic8\", \"Topic8\", \"Topic8\", \"Topic8\", \"Topic8\", \"Topic8\", \"Topic8\", \"Topic8\", \"Topic8\", \"Topic8\", \"Topic8\", \"Topic8\", \"Topic8\", \"Topic8\", \"Topic8\", \"Topic8\", \"Topic8\", \"Topic8\", \"Topic8\", \"Topic8\", \"Topic8\", \"Topic8\", \"Topic8\", \"Topic8\", \"Topic8\", \"Topic8\", \"Topic8\", \"Topic8\", \"Topic8\", \"Topic8\", \"Topic8\", \"Topic8\", \"Topic8\", \"Topic8\", \"Topic8\", \"Topic8\", \"Topic9\", \"Topic9\", \"Topic9\", \"Topic9\", \"Topic9\", \"Topic9\", \"Topic9\", \"Topic9\", \"Topic9\", \"Topic9\", \"Topic9\", \"Topic9\", \"Topic9\", \"Topic9\", \"Topic9\", \"Topic9\", \"Topic9\", \"Topic9\", \"Topic9\", \"Topic9\", \"Topic9\", \"Topic9\", \"Topic9\", \"Topic9\", \"Topic9\", \"Topic9\", \"Topic9\", \"Topic9\", \"Topic9\", \"Topic9\", \"Topic9\", \"Topic9\", \"Topic9\", \"Topic9\", \"Topic9\", \"Topic9\", \"Topic9\", \"Topic9\", \"Topic9\", \"Topic9\", \"Topic9\", \"Topic9\", \"Topic9\", \"Topic9\", \"Topic9\", \"Topic9\", \"Topic9\", \"Topic9\", \"Topic9\", \"Topic9\", \"Topic9\", \"Topic9\", \"Topic9\", \"Topic9\", \"Topic9\", \"Topic9\", \"Topic9\", \"Topic9\", \"Topic9\", \"Topic9\", \"Topic9\", \"Topic9\", \"Topic9\", \"Topic9\", \"Topic9\", \"Topic9\", \"Topic9\", \"Topic9\", \"Topic9\", \"Topic9\", \"Topic9\", \"Topic9\", \"Topic9\", \"Topic9\", \"Topic10\", \"Topic10\", \"Topic10\", \"Topic10\", \"Topic10\", \"Topic10\", \"Topic10\", \"Topic10\", \"Topic10\", \"Topic10\", \"Topic10\", \"Topic10\", \"Topic10\", \"Topic10\", \"Topic10\", \"Topic10\", \"Topic10\", \"Topic10\", \"Topic10\", \"Topic10\", \"Topic10\", \"Topic10\", \"Topic10\", \"Topic10\", \"Topic10\", \"Topic10\", \"Topic10\", \"Topic10\", \"Topic10\", \"Topic10\", \"Topic10\", \"Topic10\", \"Topic10\", \"Topic10\", \"Topic10\", \"Topic10\", \"Topic10\", \"Topic10\", \"Topic10\", \"Topic10\", \"Topic10\", \"Topic10\", \"Topic10\", \"Topic10\", \"Topic10\", \"Topic10\", \"Topic10\", \"Topic10\", \"Topic10\", \"Topic10\", \"Topic10\", \"Topic10\", \"Topic10\", \"Topic10\", \"Topic10\", \"Topic10\", \"Topic10\", \"Topic10\", \"Topic10\", \"Topic10\", \"Topic10\", \"Topic10\", \"Topic10\", \"Topic10\", \"Topic10\", \"Topic10\", \"Topic10\", \"Topic10\", \"Topic10\", \"Topic10\", \"Topic10\", \"Topic10\", \"Topic10\", \"Topic10\"], \"logprob\": [30.0, 29.0, 28.0, 27.0, 26.0, 25.0, 24.0, 23.0, 22.0, 21.0, 20.0, 19.0, 18.0, 17.0, 16.0, 15.0, 14.0, 13.0, 12.0, 11.0, 10.0, 9.0, 8.0, 7.0, 6.0, 5.0, 4.0, 3.0, 2.0, 1.0, -8.5898, -8.9541, -8.2659, -8.6748, -9.075, -8.5208, -8.1514, -8.9518, -8.9993, -8.9741, -8.7763, -7.6298, -8.9339, -7.9399, -8.4232, -8.7592, -8.6468, -8.9752, -9.0328, -8.3516, -9.0946, -8.0718, -8.7162, -9.2619, -8.8492, -8.954, -8.3676, -8.9138, -8.9166, -9.2166, -7.9246, -6.554, -5.7902, -4.2439, -3.4313, -5.9234, -4.5399, -4.5213, -3.7722, -4.9724, -5.1835, -3.7177, -5.2866, -6.5215, -4.5335, -4.235, -5.7846, -5.494, -4.1521, -4.7097, -5.8805, -4.9954, -5.1341, -5.3728, -5.0196, -5.553, -4.96, -4.5143, -4.0259, -4.7473, -4.645, -4.9591, -5.2352, -4.3216, -4.3401, -5.1606, -5.1239, -5.2158, -4.7141, -4.9481, -5.2612, -8.5456, -7.8691, -8.1157, -8.953, -8.4041, -8.4427, -7.9872, -8.6559, -8.7708, -8.8542, -7.8478, -8.7771, -8.333, -8.1497, -7.724, -8.9094, -8.8431, -8.0465, -8.4451, -8.0125, -8.2933, -9.0929, -9.0686, -8.8889, -7.9208, -8.5827, -8.7407, -9.2648, -9.2051, -8.2824, -7.0338, -7.3978, -6.0407, -6.6676, -7.6916, -8.2134, -6.2659, -3.2068, -3.2449, -3.9987, -6.5118, -4.4632, -3.6473, -4.8518, -5.1458, -3.677, -4.5582, -6.7296, -4.346, -5.6379, -4.7992, -6.0316, -6.1865, -5.8621, -5.1935, -5.6263, -4.0672, -4.6601, -5.32, -4.787, -5.4447, -5.0181, -5.1426, -4.4207, -4.996, -5.0665, -5.0619, -4.9354, -5.3975, -5.0077, -5.4363, -5.3497, -4.8, -4.9071, -5.2555, -5.1649, -5.1792, -5.1336, -5.1968, -8.2645, -8.3193, -8.6401, -8.487, -8.0063, -8.3303, -8.5076, -8.4964, -7.8497, -8.7203, -8.3211, -8.6281, -7.6389, -8.6416, -9.1751, -8.2693, -8.1105, -7.6138, -6.7037, -7.8095, -8.3079, -8.8095, -8.3447, -7.3919, -8.1646, -8.5826, -8.5046, -8.3232, -8.7544, -9.1016, -8.8452, -7.3275, -2.3323, -6.0271, -5.5866, -6.9125, -7.1894, -6.9029, -7.6247, -4.8854, -4.567, -4.4484, -6.0867, -4.5476, -4.6033, -3.9102, -5.2116, -6.4621, -4.9272, -4.8615, -5.5712, -5.7079, -5.965, -4.1668, -5.0051, -4.6401, -4.2464, -4.769, -4.2371, -5.03, -4.7957, -5.9797, -5.0847, -5.3524, -5.45, -4.6808, -4.6206, -5.1717, -4.6255, -5.2548, -4.9689, -5.0138, -5.2665, -5.2954, -5.4281, -8.1047, -8.3554, -8.4, -8.5857, -8.3135, -8.4359, -7.7488, -8.2395, -8.744, -7.7791, -8.2364, -7.7552, -8.7928, -8.0939, -8.6141, -8.4699, -9.0858, -8.4866, -8.273, -8.6676, -8.7519, -7.4389, -8.9419, -8.2441, -8.0464, -8.622, -9.2828, -9.3439, -9.0683, -8.0529, -7.7723, -8.1692, -5.9477, -3.3013, -7.4127, -5.7772, -5.4236, -5.0993, -5.5052, -4.8175, -5.76, -7.2305, -4.5318, -5.9997, -3.6408, -5.4283, -4.9437, -4.6062, -4.7146, -5.4777, -4.9543, -4.4522, -4.096, -4.7441, -5.0414, -3.9858, -4.831, -4.451, -5.0149, -4.6829, -5.8733, -4.1463, -5.0208, -4.9729, -4.1921, -4.3683, -4.9892, -4.7553, -5.0321, -5.0908, -4.9693, -5.2593, -5.2955, -8.5776, -8.426, -7.552, -8.4646, -8.4319, -8.034, -8.4258, -8.6696, -8.402, -8.5344, -8.2445, -8.553, -8.379, -8.6306, -8.5589, -8.5765, -8.5552, -7.8917, -7.8339, -7.9531, -8.8585, -8.9233, -7.9825, -8.7194, -8.3409, -9.0168, -8.697, -8.7584, -8.4035, -8.227, -3.4669, -8.4107, -7.3469, -7.1799, -8.0132, -7.6923, -7.5556, -6.8469, -5.4276, -5.6947, -3.4769, -5.466, -5.2015, -6.8145, -6.0869, -4.4441, -6.1663, -5.0071, -4.2542, -6.2888, -3.7485, -5.0506, -6.5334, -4.2355, -4.7808, -3.9551, -4.5559, -6.0841, -5.1121, -5.7001, -5.2757, -5.0075, -4.371, -5.0633, -4.5156, -5.3406, -5.0321, -5.538, -5.2956, -4.8184, -4.5013, -5.4077, -5.0787, -5.1944, -4.8182, -4.8978, -5.1433, -5.3117, -5.3258, -5.3311, -8.2214, -8.0312, -8.6042, -7.6608, -8.9935, -8.4794, -8.4721, -8.5252, -8.5935, -8.1051, -8.7233, -8.666, -8.3518, -8.1246, -7.6618, -8.0472, -8.4445, -8.1663, -8.0315, -8.3503, -9.0862, -8.9849, -9.0239, -7.8719, -8.7335, -8.9043, -8.8921, -8.8487, -8.1937, -8.5897, -6.1892, -8.1681, -6.3088, -7.3799, -7.2917, -7.6474, -8.1373, -4.5285, -6.86, -3.4997, -6.4772, -4.1176, -7.4302, -5.0176, -4.9167, -6.3054, -3.9643, -5.9018, -4.7563, -4.7101, -4.9068, -3.9521, -3.9616, -4.2424, -5.0583, -5.8174, -4.5513, -4.4612, -6.3354, -4.8886, -4.8794, -4.8827, -5.1971, -5.2601, -4.1016, -4.6703, -4.8784, -4.2719, -4.9474, -5.084, -4.3425, -5.1159, -5.201, -5.0488, -4.9311, -8.1152, -7.8374, -8.1209, -8.4127, -7.9401, -8.4413, -8.6062, -8.6678, -8.3126, -8.2906, -8.703, -8.392, -8.3794, -8.0668, -8.72, -8.0582, -8.2108, -7.9137, -8.529, -8.2367, -7.2381, -9.0227, -8.5019, -8.5517, -8.3763, -8.6695, -8.4365, -9.204, -8.3361, -8.7208, -8.2178, -7.9294, -7.7235, -7.1838, -4.428, -6.5493, -3.4344, -5.2451, -5.5838, -4.203, -4.2025, -4.8983, -3.7949, -4.7332, -4.538, -4.6151, -5.5524, -5.1305, -4.6618, -3.9407, -4.0188, -5.7596, -5.5854, -5.7561, -4.2035, -6.4952, -4.9881, -5.0103, -6.3417, -4.8129, -5.2569, -5.2328, -5.7314, -4.6358, -4.2507, -5.3034, -4.4167, -5.1378, -5.0866, -4.8481, -5.3406, -5.2735, -5.3751, -5.3205, -7.6598, -7.6916, -8.0676, -8.317, -8.4275, -8.1211, -8.1961, -7.6787, -7.3318, -8.2837, -7.774, -8.3723, -7.9089, -7.8515, -8.3862, -6.9308, -8.0743, -7.8137, -7.6851, -8.6523, -8.4457, -7.9654, -8.4218, -8.5423, -7.7321, -8.6587, -8.3755, -8.5542, -8.1939, -8.3677, -7.5969, -4.6171, -6.5693, -5.6938, -7.1466, -5.9832, -6.9168, -5.966, -3.6853, -4.7201, -4.7563, -4.9961, -4.9866, -3.5606, -6.0841, -3.7523, -4.6481, -6.8333, -3.8697, -5.5717, -4.3384, -4.6801, -4.6238, -5.889, -3.982, -4.6326, -4.7776, -5.5944, -4.2045, -6.2966, -4.3452, -4.7129, -5.2355, -5.4754, -5.0778, -5.1524, -4.9417, -5.0944, -5.2747, -4.6759, -4.9284, -5.0427, -5.3672, -5.3211, -7.8897, -8.3006, -8.2856, -8.3689, -8.1566, -7.9415, -8.3996, -8.1852, -8.2122, -8.5129, -8.8049, -7.9525, -8.5756, -8.6823, -8.5874, -8.5798, -8.651, -8.152, -8.9299, -8.6106, -8.6279, -8.5343, -8.358, -8.2341, -8.1414, -8.7046, -8.0675, -8.927, -8.6704, -8.6297, -8.2478, -7.7669, -7.2552, -7.2187, -4.0262, -7.4348, -5.0554, -4.4673, -5.6206, -4.6877, -4.5774, -4.4703, -3.7477, -5.3428, -3.7825, -3.8969, -4.1187, -5.2468, -4.6206, -5.8815, -3.9657, -5.1787, -4.4986, -4.3791, -5.2901, -5.54, -4.8795, -4.4079, -4.9051, -5.1587, -6.179, -5.3628, -5.1399, -5.0876, -5.6757, -5.2473, -4.9577, -4.7222, -4.6242, -5.2636, -5.2438, -5.2041, -5.2596, -5.253, -7.8861, -8.3044, -7.7657, -6.9066, -8.1609, -8.1215, -7.8943, -8.5205, -7.4772, -8.2332, -7.9598, -8.7453, -8.3898, -7.5457, -8.4087, -8.5742, -8.4061, -8.3455, -7.6964, -7.5875, -7.8397, -8.2826, -7.2346, -8.4192, -7.1801, -7.9151, -8.2798, -8.0925, -7.5686, -8.6861, -7.9447, -7.2236, -5.6494, -4.0453, -4.4551, -7.9561, -5.9407, -4.3995, -3.7977, -5.7002, -5.5722, -7.6775, -4.6067, -4.4539, -5.3171, -4.9414, -5.0949, -4.95, -5.1697, -5.6376, -3.8957, -5.0878, -5.4146, -4.0693, -4.4768, -4.2906, -4.6991, -5.6336, -4.1722, -5.5385, -4.9065, -5.1168, -5.4595, -4.4164, -5.0342, -5.0581, -4.776, -4.9247, -5.0128, -4.534, -5.0126, -4.6004, -4.6615, -5.1004], \"loglift\": [30.0, 29.0, 28.0, 27.0, 26.0, 25.0, 24.0, 23.0, 22.0, 21.0, 20.0, 19.0, 18.0, 17.0, 16.0, 15.0, 14.0, 13.0, 12.0, 11.0, 10.0, 9.0, 8.0, 7.0, 6.0, 5.0, 4.0, 3.0, 2.0, 1.0, 1.8439, 1.8241, 1.7924, 1.7187, 1.7136, 1.7051, 1.7032, 1.6902, 1.6829, 1.6743, 1.667, 1.6308, 1.6296, 1.6121, 1.6032, 1.6016, 1.5824, 1.5737, 1.5653, 1.5547, 1.5464, 1.5421, 1.5253, 1.5226, 1.5136, 1.5093, 1.4948, 1.4938, 1.4896, 1.473, 1.386, 1.2208, 1.0493, 0.7367, 0.5978, 1.001, 0.702, 0.6908, 0.4295, 0.6886, 0.7117, 0.2999, 0.7071, 1.0194, 0.4909, 0.3802, 0.761, 0.6642, 0.1595, 0.335, 0.7242, 0.3994, 0.4406, 0.5254, 0.3924, 0.5653, 0.3311, 0.1417, -0.1065, 0.1724, -0.0012, 0.1636, 0.2907, -0.3464, -0.4231, 0.1099, 0.0242, 0.0016, -0.977, -0.5295, -0.4625, 2.1244, 1.988, 1.9874, 1.9679, 1.962, 1.9351, 1.9056, 1.8725, 1.8516, 1.8315, 1.8146, 1.8116, 1.7844, 1.7788, 1.7737, 1.77, 1.759, 1.7519, 1.7165, 1.6824, 1.6712, 1.6704, 1.6665, 1.6642, 1.6635, 1.6606, 1.6499, 1.6358, 1.6328, 1.6324, 1.5692, 1.532, 1.4086, 1.4391, 1.523, 1.58, 1.312, 0.7102, 0.4922, 0.6572, 1.2091, 0.6595, 0.3817, 0.6741, 0.7494, 0.2424, 0.4864, 1.1899, 0.2692, 0.7455, 0.3997, 0.854, 0.9201, 0.7725, 0.4623, 0.6556, -0.092, 0.1386, 0.4759, 0.1532, 0.452, 0.1993, 0.2505, -0.219, 0.1148, 0.1456, 0.0862, -0.0157, 0.3226, -0.0349, 0.331, 0.225, -0.4884, -0.4885, 0.015, -0.1843, -0.1549, -0.4897, -1.1793, 2.0661, 2.0402, 1.9956, 1.9299, 1.9092, 1.898, 1.8942, 1.8938, 1.8905, 1.848, 1.8479, 1.8302, 1.8299, 1.815, 1.8048, 1.7851, 1.7644, 1.7616, 1.7607, 1.7595, 1.7451, 1.7383, 1.7376, 1.7355, 1.729, 1.7124, 1.7105, 1.7051, 1.6951, 1.6938, 1.6896, 1.6497, 1.4048, 1.5787, 1.3956, 1.5414, 1.5639, 1.4059, 1.5382, 0.7309, 0.6319, 0.5245, 0.9661, 0.3925, 0.3164, 0.0092, 0.5115, 1.0357, 0.3272, 0.2866, 0.589, 0.6211, 0.7474, -0.1493, 0.2123, -0.0249, -0.2712, 0.0297, -0.3201, 0.1331, -0.1398, 0.6877, 0.0379, 0.189, 0.2627, -0.3692, -0.4189, 0.0197, -0.5964, 0.0364, -0.325, -0.5952, -0.2421, -0.2508, -0.0259, 2.1552, 2.1377, 2.1201, 2.0648, 2.0373, 2.0256, 2.0223, 2.0021, 1.9598, 1.9194, 1.8886, 1.8867, 1.8692, 1.8646, 1.8456, 1.8042, 1.7993, 1.7886, 1.7826, 1.7819, 1.7807, 1.771, 1.7666, 1.7293, 1.728, 1.7267, 1.7143, 1.7071, 1.701, 1.6889, 1.6585, 1.6543, 1.3962, 1.0103, 1.5325, 1.2045, 1.1359, 1.0433, 1.0696, 0.7935, 1.0402, 1.447, 0.6163, 1.0327, 0.2762, 0.8509, 0.6727, 0.5126, 0.4975, 0.7716, 0.5527, 0.3465, 0.1058, 0.3666, 0.4999, -0.0106, 0.3864, 0.1929, 0.4488, 0.2368, 0.845, -0.227, 0.2223, 0.1901, -0.455, -0.3508, -0.0086, -0.3367, -0.0078, -0.118, -0.9402, -0.0603, -0.0535, 2.1197, 2.1187, 2.1162, 2.1065, 2.0987, 2.0954, 2.0734, 2.0411, 2.0391, 2.0316, 1.9836, 1.9756, 1.9704, 1.9695, 1.9402, 1.9349, 1.9264, 1.9121, 1.9075, 1.9031, 1.8933, 1.8825, 1.8769, 1.8657, 1.8428, 1.8374, 1.8347, 1.8334, 1.8292, 1.8213, 1.704, 1.8189, 1.7571, 1.7381, 1.7895, 1.7201, 1.6535, 1.5076, 1.1798, 1.1739, 0.5406, 1.0793, 0.9653, 1.4414, 1.2146, 0.6667, 1.1383, 0.7054, 0.3896, 1.1636, 0.1708, 0.6694, 1.2559, 0.1832, 0.3822, -0.0382, 0.2428, 0.9793, 0.4988, 0.7352, 0.4166, 0.247, -0.1693, 0.2278, -0.204, 0.3721, 0.116, 0.4679, 0.2492, -0.2032, -0.5261, 0.3389, -0.0543, -0.003, -0.7892, -1.1608, -0.4874, -0.1929, -0.3453, -0.2865, 2.0837, 2.0678, 2.0424, 2.0347, 1.9914, 1.9863, 1.9565, 1.9559, 1.9502, 1.9199, 1.8804, 1.8797, 1.8628, 1.8619, 1.8136, 1.8054, 1.7923, 1.7922, 1.7913, 1.7783, 1.7782, 1.773, 1.7638, 1.7585, 1.7571, 1.7526, 1.7267, 1.7123, 1.7034, 1.7014, 1.662, 1.6948, 1.55, 1.6268, 1.5811, 1.6115, 1.6584, 1.0138, 1.3994, 0.4755, 1.2172, 0.4976, 1.4626, 0.6494, 0.6118, 1.0857, 0.2375, 0.9088, 0.4351, 0.4126, 0.488, 0.0654, 0.0675, 0.1762, 0.4865, 0.827, 0.2474, 0.1947, 1.0376, 0.3545, 0.338, 0.2361, 0.3776, 0.3508, -0.3645, -0.0264, 0.1022, -0.3526, 0.0973, 0.1705, -0.4255, 0.126, 0.211, -0.1086, -0.6196, 2.134, 2.1328, 2.1224, 2.1022, 2.1015, 2.0824, 2.0768, 2.061, 2.035, 2.0324, 2.0202, 2.0158, 2.0135, 2.0099, 2.0088, 1.9255, 1.9223, 1.9041, 1.8943, 1.8934, 1.8914, 1.8842, 1.8647, 1.8543, 1.8361, 1.8343, 1.8283, 1.8213, 1.8167, 1.7971, 1.7759, 1.7581, 1.7331, 1.658, 0.9741, 1.3954, 0.5408, 0.8823, 0.9146, 0.453, 0.4127, 0.644, 0.2226, 0.5374, 0.4021, 0.4295, 0.7971, 0.5926, 0.3188, -0.0237, 0.0102, 0.8264, 0.7062, 0.7895, -0.0017, 1.099, 0.255, 0.2441, 1.0116, 0.1068, 0.3595, 0.2958, 0.5792, -0.2172, -0.5136, 0.2414, -0.4973, 0.0252, -0.1138, -0.5365, 0.2008, -0.0822, 0.1508, -0.1724, 2.318, 2.2875, 2.2848, 2.2214, 2.1924, 2.1914, 2.1699, 2.1573, 2.1537, 2.1517, 2.1404, 2.1338, 2.1018, 2.0985, 2.0882, 2.0602, 2.0394, 2.0365, 2.035, 2.016, 2.0023, 1.9968, 1.9786, 1.9758, 1.9752, 1.9714, 1.9551, 1.9516, 1.9511, 1.9445, 1.8969, 1.7014, 1.7944, 1.606, 1.7851, 1.5253, 1.6553, 1.3467, 0.7334, 0.9469, 0.86, 0.9316, 0.909, 0.3588, 1.2753, 0.2229, 0.5508, 1.5433, 0.1478, 0.9303, 0.3055, 0.4306, 0.349, 1.028, -0.065, 0.3076, 0.3854, 0.8409, -0.1755, 1.2313, -0.1434, 0.0858, 0.4773, 0.652, 0.1928, 0.2423, -0.022, 0.1476, 0.1889, -0.9388, -0.6168, -0.3868, 0.3429, -0.078, 2.4475, 2.4076, 2.2927, 2.287, 2.2727, 2.2682, 2.2409, 2.1792, 2.1754, 2.0895, 2.0876, 2.0838, 2.0771, 2.0577, 2.0513, 2.0484, 2.0438, 2.0421, 2.0293, 2.0262, 2.0157, 2.0111, 1.9833, 1.9812, 1.9696, 1.9696, 1.8688, 1.8679, 1.861, 1.8561, 1.8491, 1.8387, 1.8088, 1.7971, 1.4375, 1.7666, 1.1895, 0.724, 1.0394, 0.5829, 0.5414, 0.4698, 0.1692, 0.7846, 0.1369, 0.1321, 0.1928, 0.6499, 0.3523, 0.9186, 0.0096, 0.5341, 0.1453, 0.0395, 0.5502, 0.5757, 0.1652, -0.2061, 0.1192, 0.2361, 0.9427, 0.3602, 0.1145, 0.0351, 0.5258, 0.1458, -0.159, -0.7047, -0.8872, 0.0275, -0.0957, -0.2844, -0.279, -0.5971, 2.2948, 2.2748, 2.2642, 2.2305, 2.2212, 2.2116, 2.211, 2.1958, 2.1946, 2.1889, 2.1872, 2.1859, 2.1855, 2.158, 2.147, 2.1338, 2.1266, 2.1121, 2.103, 2.0821, 2.0754, 2.0704, 2.0653, 2.0495, 2.049, 2.0462, 2.0095, 1.9884, 1.9825, 1.9713, 1.9648, 1.8697, 1.5569, 1.0735, 0.938, 1.9561, 1.3417, 0.8424, 0.6209, 1.2132, 1.1481, 1.8726, 0.6364, 0.5705, 0.8694, 0.6749, 0.7454, 0.6664, 0.7258, 0.9373, 0.0237, 0.6045, 0.7436, -0.0518, 0.1671, 0.021, 0.2737, 0.8373, -0.1432, 0.7524, 0.2848, 0.3902, 0.6577, -0.2147, 0.1779, 0.1964, -0.1608, -0.005, 0.1099, -0.5587, 0.0981, -0.6835, -0.9245, -0.3017]}, \"token.table\": {\"Topic\": [1, 2, 3, 5, 6, 7, 8, 9, 10, 1, 4, 10, 2, 6, 10, 1, 2, 1, 3, 4, 5, 6, 7, 8, 9, 3, 4, 5, 6, 1, 7, 8, 9, 1, 2, 5, 6, 7, 10, 4, 5, 6, 7, 1, 2, 3, 4, 5, 6, 7, 8, 9, 10, 1, 2, 3, 4, 5, 6, 7, 9, 10, 2, 8, 1, 2, 4, 7, 8, 1, 6, 1, 6, 1, 2, 3, 4, 6, 7, 10, 1, 2, 3, 5, 6, 10, 2, 7, 10, 3, 5, 7, 9, 1, 2, 6, 7, 1, 2, 3, 4, 7, 9, 10, 2, 3, 9, 10, 2, 4, 7, 3, 6, 7, 8, 5, 6, 10, 1, 2, 3, 4, 5, 6, 7, 8, 9, 10, 1, 10, 1, 2, 3, 4, 5, 6, 7, 8, 9, 10, 1, 2, 3, 4, 6, 1, 2, 3, 4, 5, 6, 7, 8, 9, 10, 1, 2, 3, 4, 6, 7, 9, 2, 5, 7, 9, 10, 1, 2, 4, 5, 7, 2, 3, 8, 9, 10, 1, 2, 9, 10, 5, 6, 7, 9, 2, 3, 5, 8, 1, 5, 7, 8, 10, 3, 6, 7, 1, 4, 9, 2, 5, 6, 7, 8, 9, 1, 2, 4, 6, 7, 10, 1, 3, 4, 1, 3, 6, 1, 2, 3, 5, 6, 7, 8, 10, 1, 2, 3, 4, 5, 6, 7, 8, 9, 10, 5, 6, 8, 1, 2, 4, 1, 4, 7, 1, 2, 3, 4, 5, 6, 7, 8, 9, 10, 1, 3, 4, 7, 1, 4, 6, 9, 1, 2, 5, 7, 8, 9, 1, 2, 7, 8, 1, 2, 3, 4, 5, 6, 7, 8, 9, 10, 1, 2, 3, 4, 5, 6, 7, 8, 9, 10, 2, 1, 2, 3, 4, 5, 6, 7, 8, 9, 10, 2, 6, 9, 3, 4, 6, 7, 1, 2, 4, 5, 6, 3, 6, 9, 1, 2, 3, 4, 5, 6, 7, 9, 10, 1, 2, 3, 4, 5, 6, 7, 8, 9, 10, 1, 5, 1, 2, 3, 4, 5, 6, 7, 8, 9, 10, 1, 2, 3, 4, 5, 6, 7, 8, 9, 10, 1, 2, 6, 8, 10, 1, 2, 4, 5, 6, 7, 9, 10, 1, 2, 3, 4, 5, 6, 7, 8, 9, 10, 1, 2, 6, 9, 10, 1, 2, 3, 8, 9, 1, 2, 3, 4, 5, 6, 7, 8, 9, 10, 1, 3, 5, 10, 1, 3, 5, 6, 8, 10, 1, 2, 3, 4, 5, 6, 7, 8, 9, 10, 1, 2, 5, 7, 2, 3, 4, 5, 7, 8, 10, 7, 9, 1, 2, 5, 1, 2, 3, 4, 5, 6, 7, 8, 9, 10, 1, 4, 1, 2, 3, 4, 5, 6, 7, 8, 9, 10, 1, 4, 8, 9, 10, 1, 2, 3, 4, 5, 6, 7, 8, 9, 10, 1, 2, 3, 4, 5, 6, 7, 8, 9, 10, 2, 4, 7, 1, 2, 3, 4, 5, 6, 7, 8, 9, 10, 1, 2, 3, 7, 10, 2, 4, 1, 2, 3, 4, 5, 7, 8, 9, 10, 1, 2, 5, 7, 1, 2, 3, 4, 5, 6, 7, 8, 9, 10, 1, 2, 3, 4, 5, 6, 7, 8, 9, 10, 1, 2, 3, 4, 5, 6, 7, 8, 9, 10, 2, 6, 8, 2, 4, 8, 9, 10, 1, 3, 8, 9, 1, 2, 3, 4, 5, 6, 7, 8, 9, 10, 1, 2, 3, 4, 5, 6, 7, 8, 9, 10, 1, 2, 3, 4, 5, 6, 7, 8, 9, 10, 1, 4, 7, 3, 4, 5, 6, 9, 2, 4, 5, 1, 3, 4, 9, 2, 4, 5, 6, 8, 10, 1, 4, 9, 1, 9, 1, 2, 3, 4, 5, 6, 7, 8, 9, 10, 1, 2, 4, 7, 8, 10, 1, 2, 8, 9, 1, 2, 3, 4, 5, 6, 7, 8, 9, 10, 2, 3, 5, 7, 9, 1, 2, 3, 4, 7, 8, 9, 10, 3, 5, 6, 7, 9, 8, 10, 1, 2, 5, 6, 7, 1, 2, 3, 4, 5, 6, 7, 8, 9, 10, 1, 3, 9, 2, 4, 5, 3, 8, 2, 5, 6, 7, 9, 10, 1, 2, 3, 4, 5, 6, 9, 10, 1, 3, 7, 1, 2, 3, 4, 5, 6, 7, 8, 9, 10, 4, 5, 8, 9, 1, 8, 1, 2, 3, 4, 5, 6, 7, 8, 9, 10, 1, 2, 3, 4, 5, 6, 7, 8, 9, 10, 2, 3, 4, 9, 1, 2, 3, 5, 6, 1, 2, 4, 6, 9, 1, 2, 3, 4, 5, 1, 2, 3, 4, 5, 6, 7, 8, 9, 10, 1, 2, 3, 4, 5, 6, 8, 9, 10, 4, 5, 10, 1, 2, 3, 6, 7, 10, 1, 3, 4, 6, 8, 9, 1, 2, 3, 4, 5, 6, 7, 8, 9, 10, 9, 8, 10, 1, 2, 3, 4, 5, 6, 7, 8, 9, 10, 1, 2, 3, 4, 5, 6, 7, 8, 9, 10, 1, 4, 5, 6, 7, 8, 9, 1, 2, 3, 4, 5, 6, 7, 8, 9, 10, 1, 2, 7, 8, 6, 7, 1, 3, 4, 7, 10, 5, 8, 1, 2, 3, 4, 5, 6, 7, 8, 9, 10, 1, 2, 3, 4, 5, 6, 7, 8, 9, 10, 4, 6, 7, 5, 6, 8, 10, 1, 2, 3, 4, 5, 6, 7, 8, 9, 1, 2, 3, 4, 5, 6, 7, 8, 9, 10, 1, 3, 4, 5, 10, 3, 7, 8, 10, 3, 4, 7, 2, 5, 6, 8, 1, 2, 3, 4, 7, 9, 1, 2, 3, 4, 5, 6, 7, 8, 9, 10, 1, 4, 8, 2, 7, 9, 1, 2, 4, 6, 7, 9, 3, 7, 2, 3, 5, 7, 8, 9, 10, 5, 7, 1, 2, 4, 7, 2, 3, 4, 7, 1, 5, 6, 7, 8, 9, 2, 3, 4, 6, 7, 5, 6, 1, 2, 3, 4, 5, 6, 7, 8, 9, 10, 5, 7, 1, 2, 3, 4, 5, 6, 7, 8, 9, 10, 2, 7, 1, 2, 3, 4, 5, 6, 7, 8, 9, 10, 3, 5, 6, 8, 1, 2, 3, 4, 5, 6, 7, 8, 9, 10, 1, 4, 5, 7, 8, 10, 1, 2, 3, 4, 5, 6, 7, 8, 9, 10, 1, 2, 3, 4, 5, 6, 7, 8, 9, 10, 2, 8, 1, 3, 8, 1, 4, 8, 9, 10, 1, 2, 3, 4, 5, 6, 7, 8, 9, 10, 1, 2, 3, 4, 5, 6, 7, 8, 9, 10, 1, 2, 3, 4, 5, 6, 7, 8, 9, 10, 1, 4, 5, 7, 1, 3, 5, 6, 7, 8, 9, 1, 2, 3, 4, 5, 6, 7, 8, 9, 10, 1, 2, 3, 4, 6, 7, 8, 9, 10, 1, 5, 3, 5, 6, 7, 9, 10, 1, 4, 8, 10, 1, 2, 3, 4, 5, 1, 2, 3, 5, 7, 3, 5, 4, 6, 7, 1, 2, 3, 4, 6, 7, 8, 9, 10, 1, 3, 8, 1, 2, 3, 4, 5, 6, 7, 8, 9, 10, 1, 2, 3, 4, 5, 6, 7, 8, 9, 10, 1, 7, 1, 2, 3, 4, 5, 6, 7, 8, 9, 10, 1, 2, 3, 4, 5, 6, 7, 8, 9, 10, 1, 2, 3, 4, 6, 8, 1, 2, 3, 4, 5, 6, 7, 8, 9, 10, 2, 3, 4, 6, 1, 2, 4, 7, 8, 9, 10, 4, 6, 7, 3, 6, 7, 1, 2, 4, 6, 9, 1, 2, 3, 4, 5, 6, 7, 8, 9, 10, 1, 2, 4, 6, 8, 9, 1, 2, 3, 4, 5, 6, 7, 8, 9, 10, 1, 2, 3, 4, 5, 6, 7, 8, 9, 10, 2, 3, 4, 6, 3, 4, 5, 8, 9, 10, 1, 2, 3, 4, 5, 6, 7, 8, 9, 10, 1, 6, 7, 9, 1, 5, 1, 2, 4, 5, 6, 7, 8, 9, 3, 6, 9, 1, 2, 3, 4, 5, 6, 7, 8, 9, 1, 2, 3, 4, 5, 6, 7, 8, 9, 10, 1, 2, 3, 4, 5, 6, 7, 8, 9, 10, 1, 2, 6, 8, 1, 2, 3, 4, 5, 6, 7, 8, 9, 10, 1, 2, 3, 6, 9, 10, 1, 2, 3, 4, 5, 6, 7, 8, 9, 1, 4, 7, 9, 1, 2, 3, 4, 5, 6, 7, 8, 9, 10, 1, 2, 4, 5, 6, 7, 9, 10, 1, 2, 3, 4, 5, 6, 7, 8, 9, 10, 1, 2, 3, 4, 5, 6, 7, 8, 9, 10, 1, 2, 5, 6, 8, 9, 3, 4, 5, 6, 9, 10, 1, 2, 3, 4, 5, 6, 7, 8, 10, 6, 7, 3, 8, 9, 1, 2, 3, 4, 5, 6, 7, 8, 9, 10, 1, 2, 3, 4, 5, 6, 7, 8, 9, 10, 5, 7, 10, 2, 5, 1, 2, 3, 4, 5, 6, 7, 8, 9, 10, 5, 6, 7, 1, 2, 3, 4, 5, 6, 7, 8, 9, 10, 1, 2, 3, 4, 5, 6, 7, 8, 9, 10, 2, 9, 2, 5, 6, 7, 9, 1, 2, 3, 4, 5, 6, 7, 8, 9, 10, 1, 2, 3, 4, 5, 6, 7, 8, 9, 10, 1, 2, 3, 5, 6, 7, 9, 1, 2, 3, 4, 5, 6, 7, 8, 9, 10, 1, 2, 10, 1, 2, 6, 8, 10, 5, 6, 8, 1, 2, 3, 4, 5, 6, 7, 8, 9, 10, 1, 2, 3, 4, 5, 6, 7, 8, 9, 10, 1, 9, 1, 2, 3, 5, 7, 9, 5, 7, 1, 2, 3, 4, 5, 6, 7, 8, 9, 10, 1, 2, 3, 4, 5, 6, 7, 8, 9, 10, 5, 7, 1, 5, 6, 1, 2, 3, 7, 10, 5, 6, 1, 2, 3, 4, 5, 6, 7, 8, 9, 10, 2, 3, 7, 1, 3, 4, 5, 6, 8, 10, 2, 4, 5, 6, 8, 2, 3, 3, 4, 9, 1, 2, 4, 7, 1, 2, 3, 4, 5, 6, 7, 8, 9, 10, 1, 5, 6, 7, 8, 9, 10, 1, 2, 3, 4, 5, 6, 7, 8, 9, 10, 1, 2, 4, 5, 7, 9, 2, 3, 6, 7, 8, 9, 5, 6, 9, 1, 3, 4, 7, 1, 2, 3, 4, 5, 6, 7, 8, 9, 10, 1, 9, 9, 1, 2, 3, 4, 5, 6, 7, 8, 9, 10, 1, 2, 4, 5, 9, 2, 3, 5, 6, 7, 8, 9, 10, 2, 3, 1, 2, 3, 4, 5, 6, 7, 8, 9, 10, 1, 2, 3, 4, 5, 6, 7, 8, 9, 10, 2, 3, 4, 6, 1, 2, 3, 4, 5, 6, 7, 8, 9, 10, 1, 4, 1, 2, 3, 4, 5, 6, 7, 8, 9, 10, 2, 7, 9, 10, 1, 3, 4, 5, 6, 7, 8, 10, 1, 3, 4, 8, 10, 6, 8, 1, 2, 1, 6, 8, 1, 2, 3, 4, 5, 6, 7, 8, 9, 10, 1, 6, 7, 8, 9, 10, 4, 6, 7, 2, 8, 9, 1, 2, 3, 4, 5, 6, 7, 8, 9, 10, 1, 2, 3, 4, 5, 6, 7, 8, 9, 10, 2, 4, 5, 7, 8, 10, 1, 2, 3, 4, 5, 6, 7, 8, 9, 10, 1, 3, 4, 6, 7, 9, 10, 3, 6, 8, 1, 2, 4, 6, 7, 10, 1, 5, 7, 1, 2, 3, 4, 5, 6, 7, 8, 9, 10, 1, 4, 5, 1, 2, 3, 4, 5, 6, 7, 8, 9, 10, 1, 2, 3, 4, 5, 6, 7, 8, 9, 10, 4, 6, 7, 10, 1, 2, 3, 4, 5, 6, 7, 8, 9, 10, 1, 2, 3, 4, 5, 6, 7, 8, 9, 10, 4, 5, 10, 3, 4, 5, 7, 8, 1, 4, 6, 1, 2, 3, 4, 5, 6, 7, 8, 9, 10, 2, 3, 5, 6, 7, 8, 2, 3, 4, 3, 7, 8, 10, 1, 4, 7, 10, 1, 2, 3, 4, 5, 6, 7, 8, 9, 10, 1, 2, 3, 4, 5, 6, 7, 8, 9, 10, 1, 2, 3, 4, 5, 6, 7, 8, 9, 10, 2, 5, 7, 1, 5, 3, 7, 9, 4, 6, 1, 2, 3, 5, 6, 1, 2, 3, 5, 6, 5, 8, 9, 1, 2, 3, 4, 5, 6, 7, 8, 9, 10, 1, 2, 3, 7, 9, 10, 4, 5, 9, 2, 3, 6, 7, 9, 1, 2, 3, 5, 6, 1, 2, 3, 4, 5, 6, 7, 8, 9, 10, 1, 3, 4, 7, 8, 9, 10, 5, 9, 10, 1, 2, 4, 5, 6, 7, 8, 1, 5, 6, 7, 3, 5, 6, 7, 10, 2, 3, 4, 6, 8, 10, 1, 2, 3, 4, 5, 6, 7, 9, 10, 2, 3, 5, 6, 7, 9, 1, 2, 3, 4, 5, 6, 7, 8, 9, 10, 2, 6, 1, 2, 9, 1, 2, 3, 4, 5, 6, 7, 8, 9, 10, 2, 4, 10, 1, 2, 3, 6, 8, 9, 1, 2, 6, 7, 9, 1, 2, 3, 4, 5, 6, 7, 8, 9, 10, 1, 2, 3, 4, 5, 6, 7, 8, 9, 10, 1, 2, 3, 5, 1, 2, 3, 4, 6, 7, 8, 1, 6, 8, 1, 2, 3, 4, 5, 6, 7, 8, 9, 10, 1, 3, 5, 6, 7, 9, 10, 1, 2, 3, 5, 6, 7, 8, 9, 10, 1, 2, 3, 4, 5, 6, 7, 8, 9, 10, 1, 2, 3, 4, 5, 6, 7, 8, 9, 10, 1, 3, 4, 6, 7, 9, 10, 1, 2, 3, 4, 5, 6, 7, 8, 9, 10, 1, 2, 3, 4, 5, 6, 7, 8, 9, 10, 2, 3, 6, 8, 1, 8, 9, 4, 5, 6, 7, 4, 5, 6, 1, 5, 8, 1, 9, 10, 1, 3, 2, 4, 6, 7, 9, 10, 1, 5, 1, 2, 3, 4, 5, 6, 7, 8, 9, 10, 2, 5, 7, 9, 10, 1, 2, 4, 5, 6, 1, 2, 3, 4, 6, 9, 10, 1, 3, 4, 5, 7, 9, 1, 2, 3, 4, 5, 6, 7, 8, 9, 10, 1, 2, 3, 4, 5, 6, 7, 8, 9, 10, 1, 2, 3, 4, 6, 7, 9, 1, 2, 3, 4, 5, 6, 7, 8, 9, 10, 1, 3, 4, 5, 7, 8, 1, 6, 2, 4, 5, 6, 7, 8, 9, 10, 4, 5, 7, 1, 4, 5, 10, 1, 2, 3, 4, 5, 6, 7, 8, 9, 10, 1, 2, 5, 1, 2, 3, 4, 5, 6, 7, 8, 9, 10, 1, 3, 1, 2, 3, 4, 5, 6, 7, 8, 9, 10, 2, 3, 4, 8, 9, 10, 1, 2, 3, 4, 5, 6, 7, 8, 9, 10, 1, 2, 3, 4, 5, 6, 7, 8, 9, 10, 1, 2, 3, 4, 5, 6, 7, 8, 9, 10, 3, 4, 5, 6, 9, 2, 4, 7, 9, 1, 2, 3, 4, 5, 6, 7, 8, 9, 10, 1, 2, 3, 4, 5, 6, 7, 8, 9, 10, 2, 5, 6, 8, 4, 6, 9, 1, 2, 3, 8, 1, 2, 3, 4, 6, 7, 2, 5, 7, 9, 1, 5, 6, 7, 8, 1, 4, 8, 9, 1, 3, 4, 6, 7, 9, 10, 5, 6, 7, 8, 9, 1, 2, 3, 4, 5, 6, 7, 8, 9, 10, 1, 2, 10, 2, 3, 8, 10, 2, 3, 5, 6, 1, 2, 3, 4, 5, 6, 7, 8, 9, 10, 1, 2, 3, 4, 5, 6, 7, 8, 9, 10, 1, 2, 6, 9, 1, 2, 3, 4, 4, 6, 1, 2, 3, 4, 5, 6, 7, 8, 9, 10, 1, 2, 3, 4, 5, 6, 7, 8, 9, 10, 1, 3, 8, 1, 2, 3, 4, 5, 6, 7, 8, 9, 10, 1, 2, 3, 4, 5, 6, 7, 8, 9, 10, 1, 2, 3, 4, 5, 6, 7, 8, 9, 10, 1, 2, 3, 4, 5, 6, 7, 8, 9, 10, 1, 2, 3, 8, 1, 4, 9, 1, 3, 5, 6, 9, 10, 1, 2, 3, 4, 5, 6, 7, 8, 9, 10, 4, 6, 10, 1, 2, 3, 4, 5, 6, 7, 8, 9, 10, 1, 2, 3, 4, 5, 6, 7, 8, 9, 10, 2, 5, 7, 9, 10, 1, 2, 3, 4, 5, 6, 7, 8, 9, 10, 1, 2, 3, 4, 5, 6, 7, 8, 9, 10, 1, 2, 3, 4, 5, 6, 7, 8, 9, 10, 1, 2, 3, 4, 5, 6, 7, 8, 9, 10, 1, 2, 5, 6, 7, 10, 1, 2, 3, 4, 5, 6, 7, 8, 9, 10, 1, 2, 3, 4, 5, 6, 7, 8, 9, 10, 4, 9, 1, 2, 9, 10, 2, 4, 8, 9, 1, 3, 4, 6, 1, 2, 3, 4, 5, 6, 7, 8, 9, 10, 1, 3, 6, 1, 2, 3, 4, 5, 6, 7, 8, 9, 10, 3, 5, 6, 7, 9, 10, 1, 2, 6, 7, 8, 2, 3, 8, 1, 2, 3, 5, 6, 7, 10, 3, 5, 7, 1, 2, 10, 1, 4, 6, 10, 1, 4, 9, 3, 5, 6, 1, 3, 7, 8, 1, 2, 3, 4, 5, 6, 7, 8, 9, 10, 1, 2, 4, 1, 2, 3, 4, 5, 6, 7, 8, 9, 10, 1, 2, 3, 4, 5, 6, 7, 8, 9, 10, 1, 3, 1, 2, 3, 4, 5, 6, 7, 8, 9, 10, 1, 2, 3, 4, 5, 6, 7, 8, 9, 10, 1, 2, 3, 4, 5, 6, 7, 8, 9, 10, 4, 7, 9, 10, 4, 6, 7, 8, 1, 4, 6, 8, 1, 2, 3, 4, 5, 6, 7, 8, 9, 10, 1, 2, 3, 4, 5, 6, 7, 8, 9, 10, 1, 2, 3, 4, 5, 6, 7, 8, 9, 10, 2, 3, 4, 5, 7, 1, 2, 3, 4, 5, 6, 7, 8, 9, 10, 1, 2, 6, 9, 1, 2, 3, 4, 5, 6, 7, 8, 9, 10, 1, 2, 3, 4, 5, 6, 7, 8, 9, 10, 3, 4, 10, 1, 9, 10, 1, 4, 5, 6, 9, 10, 1, 2, 3, 4, 5, 6, 7, 8, 9, 10, 1, 2, 4, 6, 7, 9, 10, 1, 2, 3, 4, 5, 6, 7, 8, 9, 10, 1, 2, 3, 4, 5, 6, 7, 8, 9, 10, 3, 5, 6, 10, 1, 5, 6, 1, 2, 3, 4, 5, 6, 7, 8, 9, 10, 1, 2, 3, 4, 5, 6, 8, 9, 10], \"Freq\": [0.16806563246568282, 0.042016408116420705, 0.09803828560498165, 0.014005469372140235, 0.4901914280249082, 0.08403281623284141, 0.042016408116420705, 0.042016408116420705, 0.042016408116420705, 0.6692446414685542, 0.23620399110654855, 0.07873466370218285, 0.08338606576922708, 0.5837024603845895, 0.25015819730768124, 0.12468990278850188, 0.8104843681252623, 0.042537270681146135, 0.08507454136229227, 0.042537270681146135, 0.042537270681146135, 0.042537270681146135, 0.638059060217192, 0.042537270681146135, 0.042537270681146135, 0.70251831269526, 0.12773060230822908, 0.06386530115411454, 0.06386530115411454, 0.062240059564031856, 0.12448011912806371, 0.062240059564031856, 0.7468807147683822, 0.04924272154140532, 0.09848544308281064, 0.04924272154140532, 0.09848544308281064, 0.6401553800382691, 0.04924272154140532, 0.06404177034138299, 0.12808354068276598, 0.06404177034138299, 0.7044594737552128, 0.0705873578026781, 0.025209770643813603, 0.015125862386288162, 0.0705873578026781, 0.06554540367391537, 0.524363229391323, 0.04537758715886449, 0.11596494496154257, 0.030251724772576323, 0.03529367890133905, 0.0965308737286021, 0.05080572301505373, 0.05588629531655911, 0.1320948798391397, 0.04572515071354836, 0.4724932240399997, 0.05588629531655911, 0.07112801222107523, 0.01524171690451612, 0.20843392032491065, 0.6947797344163688, 0.11028531223957971, 0.6065692173176884, 0.05514265611978986, 0.05514265611978986, 0.22057062447915943, 0.6498941036860764, 0.25995764147443057, 0.32152086247796813, 0.6430417249559363, 0.14936285991007398, 0.059745143964029586, 0.029872571982014793, 0.08961771594604438, 0.567578867658281, 0.059745143964029586, 0.029872571982014793, 0.15933475414865197, 0.6054720657648776, 0.06373390165946079, 0.06373390165946079, 0.06373390165946079, 0.031866950829730394, 0.18671931335994135, 0.7001974250997801, 0.04667982833998534, 0.08102669723312497, 0.08102669723312497, 0.16205339446624994, 0.6482135778649998, 0.7850835134524269, 0.03738492921202032, 0.07476985842404064, 0.03738492921202032, 0.11671918466671898, 0.2139851718889848, 0.03890639488890633, 0.07781278977781265, 0.05835959233335949, 0.4863299361113291, 0.019453197444453164, 0.10971039310806992, 0.10971039310806992, 0.10971039310806992, 0.6582623586484195, 0.19500406987817323, 0.06500135662605774, 0.7150149228866352, 0.07061672589516443, 0.5649338071613155, 0.14123345179032887, 0.14123345179032887, 0.7121796463574334, 0.21365389390723, 0.07121796463574334, 0.16504836125956537, 0.18925545424430162, 0.20465996796186106, 0.023106770576339152, 0.024207092984736254, 0.11993514251528416, 0.08582514785497398, 0.009902901675573922, 0.1298380441908581, 0.047313863561075406, 0.7102833223423495, 0.22196353823198423, 0.18676835637814204, 0.277758068459801, 0.0742284493297744, 0.033522525503769086, 0.1364845681224884, 0.03831145771859324, 0.02873359328894493, 0.06943951711495025, 0.08620077986683479, 0.06943951711495025, 0.1756156144838906, 0.0878078072419453, 0.0878078072419453, 0.614654650693617, 0.0878078072419453, 0.07766731137361138, 0.238976342688035, 0.1269561820530186, 0.1344241927620197, 0.1030585477842151, 0.08662892422441269, 0.07318650494821072, 0.056756881388408315, 0.08662892422441269, 0.014936021418002187, 0.108819340636961, 0.12436496072795543, 0.5751879433667939, 0.031091240181988857, 0.015545620090994429, 0.062182480363977714, 0.07772810045497214, 0.0623819310490552, 0.0623819310490552, 0.623819310490552, 0.0623819310490552, 0.2495277241962208, 0.09074327749709826, 0.04537163874854913, 0.09074327749709826, 0.6352029424796879, 0.1361149162456474, 0.0848461464689376, 0.0848461464689376, 0.0848461464689376, 0.5939230252825631, 0.0848461464689376, 0.2540892120292012, 0.6098141088700828, 0.05081784240584024, 0.05081784240584024, 0.19805376962701732, 0.13203584641801153, 0.5941613088810519, 0.06601792320900576, 0.06461628172419509, 0.710779098966146, 0.06461628172419509, 0.12923256344839018, 0.9414779739368666, 0.1537148622178197, 0.1537148622178197, 0.07685743110890984, 0.6148594488712787, 0.12053359163206487, 0.12053359163206487, 0.6026679581603244, 0.8707395712026209, 0.04582839848434847, 0.04582839848434847, 0.15228579093397948, 0.7614289546698974, 0.14055323134937686, 0.07027661567468843, 0.21082984702406526, 0.491936309722819, 0.04159608741469847, 0.08319217482939693, 0.08319217482939693, 0.12478826224409541, 0.08319217482939693, 0.5407491363910801, 0.18234644592860344, 0.6382125607501121, 0.1367598344464526, 0.047737633640023557, 0.09547526728004711, 0.8115397718804005, 0.05519497332886532, 0.08279245999329797, 0.05519497332886532, 0.19318240665102862, 0.05519497332886532, 0.02759748666443266, 0.02759748666443266, 0.5243522466242205, 0.19771149746040345, 0.14605714226804578, 0.05165435519235766, 0.03740487789791416, 0.13002648031179687, 0.24758466799095566, 0.05343553985416309, 0.01603066195624893, 0.03028013925069242, 0.09084041775207725, 0.0746079150240149, 0.671471235216134, 0.22382374507204467, 0.14727919856730953, 0.14727919856730953, 0.5891167942692381, 0.10477165399448095, 0.6286299239668857, 0.10477165399448095, 0.07399937879218, 0.06783276389283167, 0.03391638194641584, 0.05858284154380917, 0.0277497670470675, 0.1017491458392475, 0.13874883523533751, 0.314497359866765, 0.15416537248370835, 0.024666459597393334, 0.06899963940668205, 0.2759985576267282, 0.5519971152534564, 0.06899963940668205, 0.6031613256005148, 0.08616590365721641, 0.08616590365721641, 0.08616590365721641, 0.05249208514984836, 0.10498417029969671, 0.05249208514984836, 0.05249208514984836, 0.10498417029969671, 0.6299050217981802, 0.08961033245091775, 0.08961033245091775, 0.716882659607342, 0.08961033245091775, 0.15668651575951487, 0.03472030746943795, 0.09080695799699157, 0.15846704434769115, 0.15935730864177933, 0.09614854376152049, 0.11395382964328353, 0.024037135940380122, 0.028488457410820883, 0.1371007012895755, 0.2758541947044719, 0.13792709735223596, 0.02155110896128687, 0.017240887169029495, 0.012930665376772123, 0.33619729979607516, 0.08620443584514748, 0.03448177433805899, 0.012930665376772123, 0.06896354867611798, 0.9293327522330873, 0.01871897393708188, 0.09359486968540941, 0.5054122963012108, 0.03743794787416376, 0.18718973937081881, 0.03743794787416376, 0.03743794787416376, 0.01871897393708188, 0.01871897393708188, 0.056156921811245646, 0.2871949508139475, 0.09573165027131585, 0.574389901627895, 0.12977822034922384, 0.12977822034922384, 0.06488911017461192, 0.5840019915715073, 0.0789427827288657, 0.6315422618309257, 0.0789427827288657, 0.0789427827288657, 0.0789427827288657, 0.5904268847444353, 0.29521344237221764, 0.07380336059305441, 0.039238194768043695, 0.019619097384021848, 0.058857292152065546, 0.5885729215206554, 0.019619097384021848, 0.13733368168815294, 0.07847638953608739, 0.039238194768043695, 0.039238194768043695, 0.20979996265625597, 0.09813224059728101, 0.03383870365423483, 0.0812128887701636, 0.3214676847152309, 0.07782901840474012, 0.0609096665776227, 0.03383870365423483, 0.03383870365423483, 0.05075805548135225, 0.8216137886110654, 0.16432275772221308, 0.04982803083932452, 0.02768223935518029, 0.02768223935518029, 0.08304671806554087, 0.0664373744524327, 0.02768223935518029, 0.3764784552304519, 0.07197382232346876, 0.12733830103382934, 0.13841119677590144, 0.10001439238843472, 0.08572662204722976, 0.11430216272963968, 0.0714388517060248, 0.02857554068240992, 0.4286331102361488, 0.0714388517060248, 0.05715108136481984, 0.04286331102361488, 0.01428777034120496, 0.07339150932617776, 0.07339150932617776, 0.03669575466308888, 0.7706108479248664, 0.03669575466308888, 0.11520346244159779, 0.12672380868575758, 0.4262528110339118, 0.057601731220798896, 0.034561038732479336, 0.08064242370911846, 0.08064242370911846, 0.057601731220798896, 0.14830009412377812, 0.12026157974502279, 0.1466110269925278, 0.18714863814253546, 0.11249187094127132, 0.06587361811876248, 0.07871052831626492, 0.033105715772506275, 0.07431895377501409, 0.03344352919875634, 0.19857679076382106, 0.03971535815276422, 0.07943071630552843, 0.11914607445829264, 0.556015014138699, 0.1622728516408019, 0.04056821291020048, 0.12170463873060143, 0.12170463873060143, 0.5273867678326062, 0.09379582070728856, 0.05116135674943013, 0.08526892791571689, 0.04263446395785844, 0.04263446395785844, 0.10232271349886025, 0.0767420351241452, 0.409290853995441, 0.05968824954100182, 0.04263446395785844, 0.0957827840093938, 0.5746967040563629, 0.0957827840093938, 0.28734835202818143, 0.1966715991228437, 0.04916789978071093, 0.09833579956142185, 0.5900147973685311, 0.04916789978071093, 0.04916789978071093, 0.19370485734371135, 0.21637769051880223, 0.04633144170562052, 0.06161095971492091, 0.10892817677598017, 0.11829304265264814, 0.10892817677598017, 0.045345666350181786, 0.03893812653983002, 0.06210384739264028, 0.10640042341628116, 0.5320021170814058, 0.2128008468325623, 0.10640042341628116, 0.05212125941339712, 0.10424251882679424, 0.05212125941339712, 0.02606062970669856, 0.13030314853349279, 0.5733338535473683, 0.02606062970669856, 0.32754435429306117, 0.6550887085861223, 0.08799857454307741, 0.08799857454307741, 0.7919871708876967, 0.10595269384149435, 0.0909239429419916, 0.15254182162995286, 0.06575078518532451, 0.1281201014182609, 0.11835141333358412, 0.11947856965104682, 0.04057762742865741, 0.09167538048696675, 0.08641531767214078, 0.7442178850500026, 0.16538175223333393, 0.06582372485141094, 0.02535832022964192, 0.2282248820667773, 0.05071664045928384, 0.04154448207834953, 0.037767710980317754, 0.1338056046159829, 0.2071828716634574, 0.06960049594944272, 0.13920099189888543, 0.05692690270143805, 0.6261959297158185, 0.1138538054028761, 0.1138538054028761, 0.05692690270143805, 0.12948580035472, 0.12038133001727876, 0.03742948916503625, 0.05159199857883375, 0.141625094137975, 0.068789331438445, 0.10621882060348126, 0.04349913605666375, 0.26807607104688125, 0.03237145008868, 0.0721484538422181, 0.0794546263832022, 0.07123518227459509, 0.28676727223362636, 0.05114320778688878, 0.15251635179304332, 0.10045987243853154, 0.02283178919057535, 0.07306172540984111, 0.09041388519467838, 0.11029336700313634, 0.05514668350156817, 0.7720535690219544, 0.039372669421198096, 0.014317334334981127, 0.20044268068973578, 0.039372669421198096, 0.039372669421198096, 0.04295200300494338, 0.10380067392861317, 0.4044646949632168, 0.050110670172433945, 0.06800733809116034, 0.6404953342496288, 0.07535239226466221, 0.11302858839699331, 0.037676196132331106, 0.11302858839699331, 0.6865904274644664, 0.1716476068661166, 0.0196041710117735, 0.13722919708241452, 0.078416684047094, 0.0588125130353205, 0.5293126173178845, 0.0196041710117735, 0.039208342023547, 0.0588125130353205, 0.0588125130353205, 0.18339611257966715, 0.09169805628983357, 0.641886394028835, 0.09169805628983357, 0.2986300318151088, 0.07248301743085164, 0.060885734641915386, 0.06378505533914945, 0.09857690370595824, 0.08697962091702198, 0.09567758300872417, 0.023194565577872528, 0.12467078998106483, 0.07538233812808572, 0.10257053818697731, 0.1086040992567995, 0.11312927005916615, 0.08296146471005518, 0.04977687882603311, 0.22776693038578785, 0.03921814695384426, 0.09050341604733292, 0.10257053818697731, 0.08145307444259962, 0.13371825395001063, 0.08995591629364352, 0.11426832610273636, 0.10211212119818995, 0.0316061327518207, 0.07536847040818781, 0.10454336217909922, 0.11669956708364565, 0.20908672435819844, 0.024312409809092845, 0.08252746596103624, 0.7427471936493263, 0.08252746596103624, 0.737968441805155, 0.038840444305534474, 0.07768088861106895, 0.07768088861106895, 0.038840444305534474, 0.07355153504754075, 0.07355153504754075, 0.22065460514262225, 0.5148607453327853, 0.11991200714734628, 0.13611633243752821, 0.15232065772771014, 0.07886104974555205, 0.07994133809823085, 0.10154710515180676, 0.16744469466521328, 0.03564951563840024, 0.07994133809823085, 0.049693264223224586, 0.035553708327575595, 0.12630922695322908, 0.11227486840287029, 0.10759674888608403, 0.26291031684338795, 0.06175117762157866, 0.12537360304987183, 0.05239493858800614, 0.06549367323500767, 0.04958806687793438, 0.09122962456116027, 0.12672104508234272, 0.11338198770525401, 0.142918471897379, 0.1276738348949919, 0.1279120323481542, 0.05264163714886793, 0.09551717871808163, 0.06979185377655342, 0.052403439695705635, 0.07235015622260639, 0.14470031244521278, 0.7958517184486703, 0.09661933786401583, 0.048309668932007915, 0.14492900679602375, 0.09661933786401583, 0.579716027184095, 0.05195342586977634, 0.2597671293488817, 0.6234411104373161, 0.06641123529493023, 0.06641123529493023, 0.06641123529493023, 0.7969348235391628, 0.12235468985521085, 0.5383606353629278, 0.12235468985521085, 0.02447093797104217, 0.12235468985521085, 0.04894187594208434, 0.05606254154924059, 0.8970006647878495, 0.05606254154924059, 0.6565913086630677, 0.2462217407486504, 0.11066377695214896, 0.46218400962368095, 0.07160597332197874, 0.11066377695214896, 0.07160597332197874, 0.026038535753446813, 0.032548169691808515, 0.039057803630170224, 0.039057803630170224, 0.026038535753446813, 0.04506977778409576, 0.04506977778409576, 0.04506977778409576, 0.7661862223296279, 0.04506977778409576, 0.04506977778409576, 0.8329904298153492, 0.06407618690887303, 0.06407618690887303, 0.06407618690887303, 0.1718312222879494, 0.11792338784467114, 0.06626171316986283, 0.053907834443278235, 0.1010771895811467, 0.14824654471901516, 0.2077697785834682, 0.024707757453169193, 0.055030914327513204, 0.05166167467480831, 0.5750717280002404, 0.19169057600008016, 0.06389685866669338, 0.06389685866669338, 0.06389685866669338, 0.027570152899296634, 0.027570152899296634, 0.1654209173957798, 0.027570152899296634, 0.027570152899296634, 0.11028061159718654, 0.11028061159718654, 0.46869259928804274, 0.031882534367583426, 0.06376506873516685, 0.7651808248220021, 0.06376506873516685, 0.031882534367583426, 0.2590138068734904, 0.7252386592457731, 0.08295156403493902, 0.04147578201746951, 0.12442734605240853, 0.5806609482445731, 0.12442734605240853, 0.10659365169298816, 0.09474991261598949, 0.011843739076998686, 0.011843739076998686, 0.14804673846248356, 0.15791652102664913, 0.08882804307749013, 0.021713521641164257, 0.12041134728281996, 0.23884873805280682, 0.07459399961231061, 0.22378199883693184, 0.5967519968984849, 0.1015786201440204, 0.1015786201440204, 0.6094717208641224, 0.04228311595404021, 0.8879454350348444, 0.04763088298066248, 0.14289264894198744, 0.09526176596132496, 0.04763088298066248, 0.5239397127872873, 0.09526176596132496, 0.2269729731836238, 0.03491891895132674, 0.03491891895132674, 0.052378378426990106, 0.01745945947566337, 0.03491891895132674, 0.12221621632964359, 0.4539459463672476, 0.13118720514345458, 0.7871232308607276, 0.06559360257172729, 0.16990358297146482, 0.06761021131164234, 0.07609807333777925, 0.2774652827854413, 0.0816590863893862, 0.05370767868262497, 0.054732075823710466, 0.047268610938659035, 0.09907383778783953, 0.07243951211961679, 0.0637036353141457, 0.0637036353141457, 0.0637036353141457, 0.7007399884556028, 0.7595497917302073, 0.15190995834604146, 0.0696623447610318, 0.164559518491621, 0.2068545135251046, 0.09525259385692102, 0.06930692463469999, 0.05899974097107794, 0.06148768185540051, 0.15211981407000819, 0.06504188311871846, 0.056867220213087176, 0.1052929197710271, 0.05691509176812276, 0.09248702412319948, 0.16363088883335294, 0.14513348400871304, 0.05264645988551355, 0.21343159413046034, 0.11240730624204245, 0.045532073414498206, 0.01280589564782762, 0.787066652929005, 0.07495872885038143, 0.03747936442519072, 0.03747936442519072, 0.07516626490891634, 0.6013301192713307, 0.07516626490891634, 0.15033252981783268, 0.07516626490891634, 0.10316048562386812, 0.03438682854128937, 0.7565102279083662, 0.03438682854128937, 0.06877365708257874, 0.07878225677430398, 0.07878225677430398, 0.07878225677430398, 0.07878225677430398, 0.7090403109687358, 0.050453018846036174, 0.07109289019214189, 0.0917327615382476, 0.0917327615382476, 0.26602500846091803, 0.10319935673052855, 0.052746337884492366, 0.08714612346133521, 0.04815969980757999, 0.13530582326891522, 0.10539671971070654, 0.04517002273315994, 0.06022669697754659, 0.4667569015759861, 0.04517002273315994, 0.15056674244386647, 0.04517002273315994, 0.07528337122193324, 0.015056674244386647, 0.15430860167678234, 0.07715430083839117, 0.6943887075455206, 0.08530812810266486, 0.1279621921539973, 0.04265406405133243, 0.6398109607699864, 0.08530812810266486, 0.04265406405133243, 0.06766742740091904, 0.06766742740091904, 0.06766742740091904, 0.13533485480183807, 0.6766742740091904, 0.06766742740091904, 0.08148221076463397, 0.052381421205836116, 0.017460473735278707, 0.14550394779398923, 0.337569158882055, 0.055291500161715905, 0.11058300032343181, 0.043651184338196765, 0.04074110538231698, 0.1134930792793116, 0.9692301239178032, 0.8148180243077232, 0.14814873169231332, 0.18452923150104103, 0.04748120576634974, 0.07661740021388252, 0.19801821041193585, 0.10251623972280056, 0.08255255093467624, 0.08039431430893308, 0.040466936732684436, 0.049639442392092906, 0.13812714404756288, 0.20151083103288456, 0.0982219137723151, 0.11420246323527113, 0.08185159481026258, 0.1255057787090693, 0.08185159481026258, 0.08847767629490288, 0.08029251681387663, 0.08380044230574503, 0.043264414399710224, 0.15110330343876668, 0.6648545351305734, 0.030220660687753333, 0.030220660687753333, 0.030220660687753333, 0.030220660687753333, 0.030220660687753333, 0.062493974964760175, 0.11121809103897998, 0.12922482958814815, 0.10592199146569521, 0.09109291266049788, 0.04660567624490589, 0.05190177581819065, 0.17371206600374015, 0.0773230537699575, 0.1504092278812872, 0.07788943547802622, 0.7010049193022361, 0.15577887095605245, 0.07788943547802622, 0.3211985953815841, 0.6423971907631681, 0.20031826684059953, 0.05007956671014988, 0.05007956671014988, 0.05007956671014988, 0.6510343672319485, 0.19843696166994018, 0.7540604543457726, 0.08618371400019946, 0.1520184955281296, 0.080797231875187, 0.11191912859748125, 0.19570885054211962, 0.07062276563905234, 0.05506181727790521, 0.11610861469471317, 0.06344078947236904, 0.06882727159738151, 0.06374378838113239, 0.07967973547641549, 0.4462065186679267, 0.05577581483349084, 0.07967973547641549, 0.04780784128584929, 0.04780784128584929, 0.07967973547641549, 0.06374378838113239, 0.039839867738207746, 0.1844974910793276, 0.5534924732379828, 0.0922487455396638, 0.058660921034523396, 0.8212528944833275, 0.058660921034523396, 0.058660921034523396, 0.06181299398065622, 0.24725197592262488, 0.020604331326885404, 0.020604331326885404, 0.08241732530754162, 0.49450395184524976, 0.020604331326885404, 0.020604331326885404, 0.04120866265377081, 0.05454034403453216, 0.18042802633780278, 0.4481865129121676, 0.06409726232457102, 0.031389533349179384, 0.06937004482942007, 0.05594092688738268, 0.0342730862815187, 0.03361398846841257, 0.02817643151028701, 0.10864180836349345, 0.7604926585444541, 0.054320904181746725, 0.054320904181746725, 0.054320904181746725, 0.21510480199235335, 0.07170160066411778, 0.64531440597706, 0.07170160066411778, 0.05036960688625507, 0.30221764131753037, 0.5540656757488057, 0.07098541718303251, 0.6033760460557764, 0.07098541718303251, 0.21295625154909756, 0.039732348813053, 0.039732348813053, 0.7549146274480071, 0.079464697626106, 0.039732348813053, 0.079464697626106, 0.04630498806875708, 0.111131971365017, 0.2191769435254502, 0.12193646858106032, 0.1666979570475255, 0.04013098965958947, 0.07717498011459514, 0.1543499602291903, 0.020065494829794736, 0.04321798886417328, 0.3261549190118446, 0.5435915316864077, 0.10871830633728154, 0.07896337069634615, 0.23689011208903846, 0.6317069655707692, 0.11192425980572995, 0.11192425980572995, 0.037308086601909984, 0.5969293856305598, 0.037308086601909984, 0.07461617320381997, 0.8164262581451285, 0.08164262581451284, 0.033382418159956524, 0.033382418159956524, 0.6676483631991305, 0.06676483631991305, 0.033382418159956524, 0.06676483631991305, 0.033382418159956524, 0.3866437937075058, 0.5584854797997305, 0.12517208782185335, 0.5841364098353156, 0.16689611709580446, 0.08344805854790223, 0.07256735077710119, 0.21770205233130357, 0.07256735077710119, 0.5805388062168095, 0.14098663471130518, 0.07049331735565259, 0.5286998801673944, 0.14098663471130518, 0.035246658677826295, 0.035246658677826295, 0.07801498119448866, 0.23404494358346598, 0.03900749059724433, 0.5461048683614206, 0.03900749059724433, 0.7834496579533298, 0.14244539235515086, 0.1309385073124401, 0.03181683355255554, 0.07219973767695295, 0.059962494002893135, 0.20925686682642297, 0.062409942737705094, 0.10279284686210251, 0.20313824498939306, 0.06608111583992304, 0.062409942737705094, 0.6250622180656655, 0.31253110903283277, 0.18798366352332888, 0.41049493871420795, 0.049873216853128066, 0.09591003240986166, 0.057546019445917, 0.0345276116675502, 0.030691210371155735, 0.030691210371155735, 0.04220041426033913, 0.06138242074231147, 0.81478022870113, 0.14378474624137588, 0.1446554756308963, 0.0675330922903056, 0.07957071297045072, 0.12262050896215611, 0.14771588766822133, 0.09732110278693587, 0.04325382346086039, 0.11915204198652107, 0.09446471821876586, 0.08385528982270575, 0.08326127544742672, 0.08326127544742672, 0.16652255089485343, 0.6660902035794137, 0.09280876025830818, 0.15058375008798347, 0.05593110717553672, 0.09219413270692865, 0.14074970926591107, 0.07498456126830197, 0.07621381637106102, 0.12046700007038677, 0.0983404082207239, 0.09895503577210342, 0.024022582846409034, 0.26424841131049936, 0.5525194054674077, 0.04804516569281807, 0.04804516569281807, 0.04804516569281807, 0.11658013446926545, 0.07989168038629073, 0.12549508592867986, 0.1220662584442897, 0.14675381633189885, 0.07371979091438845, 0.09600716956292449, 0.12892391341307002, 0.07303402541751042, 0.03737421957985274, 0.11799665498296114, 0.15203415161266146, 0.28818413813146276, 0.07715165902732074, 0.06126749393346059, 0.04311416239762041, 0.05672916104950055, 0.1452266522867214, 0.047652495281580456, 0.009076665767920088, 0.7601015378675087, 0.10858593398107266, 0.07171604610696665, 0.1434320922139333, 0.7171604610696665, 0.081183960719708, 0.081183960719708, 0.649471685757664, 0.081183960719708, 0.081183960719708, 0.16819059108817996, 0.0875992661917604, 0.1326503173760943, 0.1666888893820355, 0.04955615630276731, 0.09310550578095676, 0.11412932966697925, 0.06907827848264533, 0.08709869895637891, 0.03153573582903374, 0.10245197013547055, 0.1005701992554313, 0.0838433469884157, 0.09994294229541822, 0.05917123989456769, 0.16068232459001863, 0.16068232459001863, 0.10966542517562104, 0.08248429024172069, 0.04056261674751283, 0.10288157409174732, 0.21206202006666283, 0.15642198509867705, 0.09238345428646698, 0.06928759071485023, 0.04199247922112136, 0.07138721467590631, 0.0808355225006586, 0.12282800172177996, 0.05039097506534562, 0.1975427796766886, 0.0987713898383443, 0.04938569491917215, 0.642014033949238, 0.07576797678498434, 0.15153595356996868, 0.07576797678498434, 0.5303758374948904, 0.07576797678498434, 0.07576797678498434, 0.07576797678498434, 0.0890198760441677, 0.10659704902104158, 0.1859778302069236, 0.08987038441401644, 0.054716038460268686, 0.056984060779865314, 0.08334982024517613, 0.12445772478786503, 0.11623614387932725, 0.09327241789341138, 0.16011363912215348, 0.0640454556488614, 0.048034091736646044, 0.01601136391221535, 0.5123636451908912, 0.01601136391221535, 0.11207954738550743, 0.0640454556488614, 0.01601136391221535, 0.7442121759405806, 0.2480707253135269, 0.6323407620841548, 0.03613375783338028, 0.09033439458345069, 0.12646815241683096, 0.05420063675007041, 0.05420063675007041, 0.07258062801107651, 0.07258062801107651, 0.6532256520996885, 0.14516125602215302, 0.06776511846761896, 0.06776511846761896, 0.06776511846761896, 0.6098860662085706, 0.20329535540285684, 0.07357534154965045, 0.07357534154965045, 0.07357534154965045, 0.6621780739468541, 0.1471506830993009, 0.1551229391030366, 0.8376638711563976, 0.19910440452623407, 0.7300494832628582, 0.06636813484207803, 0.06067039068034996, 0.15925977553591866, 0.07583798835043745, 0.06067039068034996, 0.4019413382573185, 0.1365083790307874, 0.022751396505131236, 0.0682541895153937, 0.007583798835043745, 0.06017603617749269, 0.8424645064848977, 0.06017603617749269, 0.12671356954302182, 0.08415328664307556, 0.085604205378301, 0.17556116696227833, 0.10736798640668262, 0.07254593676127204, 0.09672791568169606, 0.07641505338853988, 0.07012773886922964, 0.10494978851464022, 0.1481546787126555, 0.03174743115271189, 0.018519334839081938, 0.0873054356699577, 0.10847038977176562, 0.07672295861905373, 0.12963534387357356, 0.013228096313629955, 0.05291238525451982, 0.3359936463662008, 0.17118489204070608, 0.7703320141831774, 0.08534713090991579, 0.06759362467102109, 0.06058994789787915, 0.07215415838376468, 0.12020263857159896, 0.11906250514341306, 0.07524880626026927, 0.18258422471377023, 0.08502137850186268, 0.1320926014655376, 0.09581763509910857, 0.05684096997404746, 0.0860734688178433, 0.2354840184639109, 0.13154624479708127, 0.03410458198442848, 0.038976665125061115, 0.04384874826569375, 0.13966638336480233, 0.1380423556512581, 0.06678793143363516, 0.1669698285840879, 0.03339396571681758, 0.5343034514690813, 0.03339396571681758, 0.10018189715045274, 0.1072684106748921, 0.14258849711662486, 0.09026244312887262, 0.05494235668713985, 0.014389664846631865, 0.09157059447856641, 0.06148311343560888, 0.22238572944794702, 0.09941950257672925, 0.11642547012274873, 0.6806369870913344, 0.14585078294814308, 0.14585078294814308, 0.048616927649381025, 0.03970088369901902, 0.5558123717862663, 0.07940176739803805, 0.11910265109705706, 0.03970088369901902, 0.1588035347960761, 0.03970088369901902, 0.8286084469400338, 0.08286084469400337, 0.08286084469400337, 0.18361612959889928, 0.06120537653296643, 0.7344645183955971, 0.05361886517321584, 0.05361886517321584, 0.05361886517321584, 0.2680943258660792, 0.5898075169053743, 0.02189378136176502, 0.06933030764558923, 0.18974610513529683, 0.04378756272353004, 0.036489635602941696, 0.14960750597206096, 0.06568134408529507, 0.2992150119441219, 0.05473445340441255, 0.06933030764558923, 0.09457252452932464, 0.04728626226466232, 0.06304834968621642, 0.07881043710777053, 0.6935318465483807, 0.015762087421554105, 0.10387980325205949, 0.06041988556497338, 0.1515797129086174, 0.06041988556497338, 0.04239991969471816, 0.1589996988551931, 0.18973964063386375, 0.0784398514352286, 0.07525985745812473, 0.07949984942759655, 0.10428006032631512, 0.10819056258855195, 0.11210106485078876, 0.12252907088342027, 0.0299805173438156, 0.10167305881815725, 0.2333266349801301, 0.09906605730999937, 0.04822952790092074, 0.04171202413052605, 0.05504786448021448, 0.11009572896042896, 0.7706701027230027, 0.05504786448021448, 0.6462113161051206, 0.028096144178483506, 0.08428843253545051, 0.028096144178483506, 0.11238457671393402, 0.08428843253545051, 0.3931513202389857, 0.08182337121725082, 0.03392676367544546, 0.019956919809085566, 0.07184491131270804, 0.18759504620540432, 0.09778890706451927, 0.007982767923634226, 0.07783198725543371, 0.027939687732719796, 0.9339468439625923, 0.1812169944692911, 0.09060849723464555, 0.6342594806425189, 0.13439629538703166, 0.7391796246286741, 0.11883161912941732, 0.089123714347063, 0.0445618571735315, 0.02970790478235433, 0.014853952391177165, 0.1336855715205945, 0.5198883336912008, 0.014853952391177165, 0.5806743435762134, 0.17420230307286402, 0.17420230307286402, 0.1130770199213996, 0.027294453084475763, 0.05068969858545499, 0.24175087017678534, 0.0818833592534273, 0.03509286825146884, 0.2807429460117507, 0.038992075834965376, 0.12867385025538575, 0.0836499730258129, 0.02248655188865938, 0.03148117264412313, 0.03417955887076226, 0.08095158679917377, 0.07375589019480276, 0.22576498096214018, 0.16819940812717216, 0.17899295303372867, 0.10073975246119403, 0.08230096980733133, 0.03632594529427038, 0.05278613925573664, 0.09989634955924354, 0.11976210089204765, 0.19127880569014244, 0.06186762557930423, 0.2259019722987439, 0.06640836874108803, 0.06300281136975018, 0.06234602121845369, 0.06234602121845369, 0.06234602121845369, 0.7481522546214443, 0.12427661428851529, 0.062138307144257644, 0.5219617800117642, 0.012427661428851529, 0.037282984286554584, 0.024855322857703057, 0.012427661428851529, 0.11184895285966376, 0.024855322857703057, 0.062138307144257644, 0.6758802419280652, 0.029386097475133266, 0.029386097475133266, 0.029386097475133266, 0.11754438990053306, 0.11754438990053306, 0.22939948460922774, 0.4520519255534782, 0.03710874015737507, 0.016867609162443214, 0.02024113099493186, 0.06409691481728422, 0.06072339298479557, 0.10120565497465929, 0.016867609162443214, 0.12366970056519067, 0.6183485028259533, 0.12366970056519067, 0.12366970056519067, 0.16232315084288235, 0.039637048461634065, 0.08682401091596033, 0.07738661842509507, 0.3246463016857647, 0.04907444095249931, 0.06983670443240288, 0.10003636040317168, 0.041524526959807115, 0.04718696245432626, 0.08478449857966859, 0.06782759886373488, 0.05087069914780115, 0.2034827965912046, 0.01695689971593372, 0.06782759886373488, 0.49175009176207785, 0.01695689971593372, 0.09848517494637062, 0.030675710229197403, 0.23248959331602242, 0.19535583882804664, 0.09041261962289761, 0.1501495290165978, 0.050049843005532606, 0.050049843005532606, 0.09525615281698141, 0.008072555323473, 0.20255935340666834, 0.17940971301733483, 0.08559274933424632, 0.0307646536752985, 0.07523633126533395, 0.10996079184933424, 0.14377145083901874, 0.028937050486666907, 0.09625376793459729, 0.047517682904421446, 0.6835411825901351, 0.1242802150163882, 0.0621401075081941, 0.0621401075081941, 0.0621401075081941, 0.0621401075081941, 0.06429627536849573, 0.03214813768424787, 0.06429627536849573, 0.06429627536849573, 0.12859255073699147, 0.6108146160007095, 0.05183986294998226, 0.031103917769989355, 0.10367972589996452, 0.08294378071997162, 0.04147189035998581, 0.010367972589996452, 0.2177274243899255, 0.4561907939598439, 0.010367972589996452, 0.17921695761833092, 0.7168678304733237, 0.06150309703467304, 0.8610433584854226, 0.06150309703467304, 0.08492679241503633, 0.06423949682675825, 0.027220125774050103, 0.10017006284850438, 0.11976855340582046, 0.03375295595982213, 0.018509685526354073, 0.48125182368520586, 0.055529056579062215, 0.015243270433468058, 0.16150984056604994, 0.11187324653865871, 0.07712763071948485, 0.0904913291114748, 0.036654715589458146, 0.0748367109951437, 0.15998256074982253, 0.10652776718186273, 0.14623704240377572, 0.03474561581917387, 0.08775641995648142, 0.26326925986944427, 0.61429493969537, 0.20993901092030526, 0.6997967030676842, 0.1015973960706291, 0.045718828231783096, 0.1148050575598109, 0.2184344015518526, 0.14122038053817446, 0.09550155230639136, 0.06197441160308376, 0.04267090634966422, 0.07518207309226554, 0.1026133700313354, 0.6774533752520197, 0.19355810721486275, 0.09677905360743137, 0.2225103332956237, 0.08863699782430266, 0.0723781402352294, 0.11236968511157897, 0.08444116360776763, 0.12666174541165143, 0.09335731131790458, 0.07604949517469756, 0.066477748368227, 0.0572993610195566, 0.05520671684568787, 0.1326898282080568, 0.08910557806672428, 0.1656201505370636, 0.06295502798192476, 0.13462690599211605, 0.09975950587905001, 0.05908087241380632, 0.13850106156023448, 0.06295502798192476, 0.6822623206593306, 0.255848370247249, 0.14211963339858477, 0.6750682586432776, 0.03552990834964619, 0.07105981669929239, 0.03552990834964619, 0.17204875152475024, 0.10860577439999859, 0.15081148375841388, 0.12796125894653299, 0.06451828182178133, 0.05376523485148445, 0.1040357294376224, 0.0857555495881177, 0.06156119390494969, 0.07070128382970205, 0.12147181497750027, 0.09695456791782132, 0.055721016044724896, 0.12630096970137644, 0.052377755082041406, 0.14227432763419756, 0.12072886809690395, 0.08098120998500019, 0.06909405989545887, 0.13410191194763793, 0.10809452814496766, 0.07206301876331178, 0.03603150938165589, 0.03603150938165589, 0.07206301876331178, 0.6125356594881501, 0.03603150938165589, 0.1954328455535343, 0.03391719585220378, 0.09477184307255654, 0.07110614693130823, 0.17187620791984937, 0.10665922039696236, 0.11691072010791784, 0.10175158755661133, 0.04035164779844179, 0.06739815767415414, 0.7068614873381908, 0.16312188169342864, 0.05437396056447621, 0.17817605371772954, 0.044544013429432386, 0.044544013429432386, 0.044544013429432386, 0.6681602014414858, 0.0803604393034686, 0.0803604393034686, 0.803604393034686, 0.09488118612947248, 0.22438118341429303, 0.07988956420464938, 0.13314927367441565, 0.09636062250363266, 0.06529245864626901, 0.09133053883148806, 0.08215803331169498, 0.09675513887007536, 0.0358023602546762, 0.1561326493376888, 0.10037098885994279, 0.1979538946959983, 0.11617012599530416, 0.0669139925732952, 0.024163386207023265, 0.09851226684401793, 0.06319654854144546, 0.09014801777235604, 0.08643057374050629, 0.1640571440918642, 0.7382571484133889, 0.17485597632255648, 0.08742798816127824, 0.02914266272042608, 0.02914266272042608, 0.14571331360213038, 0.5245679289676695, 0.14599102994531984, 0.7299551497265993, 0.06702089630409695, 0.06984282878005893, 0.11217181591948859, 0.08959635611179277, 0.09982586133715494, 0.154148061499423, 0.0860689405168403, 0.05784961575722053, 0.16861046543872812, 0.09418199638523099, 0.12455731103717099, 0.0966843463295523, 0.10713670809490931, 0.030486055148957934, 0.1019105272122308, 0.0997329518444481, 0.24780807685367234, 0.056181444488793905, 0.07926374338729063, 0.056181444488793905, 0.08910747316454087, 0.712859785316327, 0.1441951013102393, 0.7209755065511965, 0.07209755065511965, 0.743017856052746, 0.06191815467106216, 0.08255753956141622, 0.020639384890354055, 0.06191815467106216, 0.8085063073393378, 0.07350057339448525, 0.24459190569094738, 0.057214480863379505, 0.09869497948932965, 0.03790459357198892, 0.08939762634903048, 0.13588439205052633, 0.10870751364042106, 0.07008773905763989, 0.06150556692813297, 0.09583425544616067, 0.7333443760916382, 0.14666887521832764, 0.07333443760916382, 0.01999995914434764, 0.01999995914434764, 0.05999987743304292, 0.0999997957217382, 0.05999987743304292, 0.1999995914434764, 0.5599988560417339, 0.12923198492253468, 0.025846396984506935, 0.05169279396901387, 0.025846396984506935, 0.7495455125507011, 0.12386504392452373, 0.8670553074716661, 0.5981653110237276, 0.07477066387796595, 0.1495413277559319, 0.6736900686895698, 0.07485445207661888, 0.14970890415323776, 0.07485445207661888, 0.10990232827512036, 0.08242674620634027, 0.02747558206878009, 0.33604750376431036, 0.06129168307650944, 0.06763220201545869, 0.09088077145827261, 0.03170259469474626, 0.07185921464142485, 0.1183563535270527, 0.11847918978324935, 0.07898612652216623, 0.11847918978324935, 0.07898612652216623, 0.039493063261083115, 0.039493063261083115, 0.5134098223940805, 0.12783749469052674, 0.17354475536199998, 0.09855628082286419, 0.07427429859114403, 0.0585624277353251, 0.09641375297888888, 0.09641375297888888, 0.049278140411432095, 0.15640453261019752, 0.06856089100720987, 0.09141087051664934, 0.04570543525832467, 0.5941706583582207, 0.04570543525832467, 0.09141087051664934, 0.09141087051664934, 0.5705471828706198, 0.05705471828706198, 0.02852735914353099, 0.08558207743059297, 0.19969151400471694, 0.05705471828706198, 0.1735335018218016, 0.5206005054654048, 0.1735335018218016, 0.1244277610048536, 0.0829518406699024, 0.6636147253592192, 0.0829518406699024, 0.06757874490707096, 0.047895615322487185, 0.06495432762912645, 0.16861881010793434, 0.08266914425525185, 0.12630008150107921, 0.04494314588479962, 0.04887977180171637, 0.14040632437003092, 0.20765701711735882, 0.08330067105578313, 0.8330067105578314, 0.8778530530348407, 0.13593826352252894, 0.23237310003851103, 0.0673881990111682, 0.08249245051367142, 0.038341561506354316, 0.1394238600231066, 0.16614676652753538, 0.055769544009242646, 0.04647462000770221, 0.03485596500577665, 0.10877841338932502, 0.05438920669466251, 0.10877841338932502, 0.5982812736412876, 0.05438920669466251, 0.03756306119366884, 0.03756306119366884, 0.6385720402923702, 0.03756306119366884, 0.03756306119366884, 0.11268918358100652, 0.03756306119366884, 0.03756306119366884, 0.11518248549940663, 0.6910949129964398, 0.009309326311373612, 0.03723730524549445, 0.6423435154847792, 0.027927978934120835, 0.018618652622747225, 0.04654663155686806, 0.04654663155686806, 0.06516528417961528, 0.10240258942510973, 0.009309326311373612, 0.18918187516313134, 0.177559780443212, 0.11492960334142449, 0.0981421331904299, 0.0981421331904299, 0.052945098168521394, 0.0981421331904299, 0.04261434730637088, 0.08006331918166651, 0.04842539466633054, 0.09798190078522606, 0.09798190078522606, 0.6858733054965824, 0.09798190078522606, 0.13662345846814783, 0.10019053620997508, 0.10322661306482281, 0.40683429854959574, 0.03339684540332503, 0.05464938338725913, 0.08804622879058416, 0.03339684540332503, 0.0030360768548477295, 0.036432922258172754, 0.2343674845793386, 0.5859187114483465, 0.16685112507522484, 0.2126938846874772, 0.0956089986507786, 0.0491467422870093, 0.06153667731734778, 0.12121486438014478, 0.14723372794385559, 0.059678187062797004, 0.04501676394356314, 0.04109328451728929, 0.08849927575466818, 0.17699855150933635, 0.08849927575466818, 0.6194949302826772, 0.11575158230632558, 0.6482088609154233, 0.023150316461265117, 0.023150316461265117, 0.046300632922530234, 0.046300632922530234, 0.023150316461265117, 0.046300632922530234, 0.03959757728291699, 0.07919515456583398, 0.19798788641458495, 0.11879273184875097, 0.5147685046779209, 0.354430328217366, 0.5907172136956099, 0.7697223520272694, 0.17104941156161543, 0.04234013126616249, 0.04234013126616249, 0.8468026253232498, 0.10426509780559458, 0.028435935765162155, 0.06161119415785134, 0.09004712992301349, 0.3507098744369999, 0.13744035619828376, 0.08530780729548647, 0.042653903647743234, 0.014217967882581077, 0.08056848466795945, 0.03163215054875199, 0.12652860219500797, 0.5377465593287839, 0.18979290329251197, 0.06326430109750399, 0.03163215054875199, 0.08027302842524515, 0.561911198976716, 0.3210921137009806, 0.26054467948149007, 0.669972032952403, 0.037220668497355724, 0.10091780389131125, 0.04272432573500768, 0.09281491452777531, 0.1598479083533908, 0.05598359923897558, 0.12301659306459108, 0.04346095204078367, 0.22246114434435033, 0.11344045108950315, 0.045670830958111655, 0.13338679630041045, 0.04707769281190957, 0.02068565290220269, 0.10271496613507543, 0.09843517587944728, 0.049930886315661664, 0.06847664409005029, 0.21755600466109726, 0.11484103852602183, 0.14693946544323291, 0.6361333534370306, 0.035340741857612816, 0.035340741857612816, 0.10602222557283844, 0.035340741857612816, 0.07068148371522563, 0.055270027426728444, 0.055270027426728444, 0.5158535893161321, 0.04605835618894037, 0.03684668495115229, 0.055270027426728444, 0.06448169866451652, 0.06448169866451652, 0.08290504114009267, 0.027635013713364222, 0.12630464456434667, 0.08420309637623112, 0.5894216746336178, 0.04210154818811556, 0.12630464456434667, 0.04210154818811556, 0.04210154818811556, 0.5897012833096417, 0.10721841514720758, 0.21443683029441515, 0.03198063926765647, 0.06396127853531294, 0.7035740638884425, 0.06396127853531294, 0.06396127853531294, 0.06396127853531294, 0.07761475881279986, 0.6209180705023989, 0.23284427643839958, 0.06639982676298312, 0.1284095823350252, 0.16298139296368583, 0.05240647484185857, 0.06365603226864497, 0.08944770051542353, 0.1399335192112454, 0.11935506050370931, 0.13060461793049571, 0.04664450640374847, 0.06140070943339492, 0.798209222634134, 0.12280141886678984, 0.2934926985216973, 0.05586590239957241, 0.1172397106695252, 0.12274761653990557, 0.1172397106695252, 0.05743958979110966, 0.06058696457418416, 0.016523717611141134, 0.10465021153722719, 0.053505371312266535, 0.21571916529141874, 0.10029428125773376, 0.08084064911722505, 0.09553894895672052, 0.011672179284305221, 0.1625459041073616, 0.09510664602026477, 0.11196646054203897, 0.103320401812924, 0.022912055632154694, 0.6705286849986917, 0.16763217124967292, 0.08381608562483646, 0.08381608562483646, 0.1592046644342557, 0.10158208066514077, 0.12059159283639517, 0.09920589164373396, 0.20257011407492984, 0.10574041145260267, 0.04692973317278433, 0.04455354415137753, 0.08376066300458976, 0.03683092983180542, 0.13340313730282402, 0.08671203924683561, 0.015563699351996136, 0.2845933595793579, 0.09560558173369055, 0.1400732941679652, 0.04891448367770214, 0.02445724183885107, 0.040020941190847203, 0.13340313730282402, 0.2401710270528129, 0.04803420541056258, 0.6244446703373135, 0.18053210411768417, 0.06017736803922806, 0.06017736803922806, 0.06017736803922806, 0.6017736803922805, 0.07907264527378957, 0.15814529054757914, 0.6325811621903166, 0.12091456891363035, 0.037785802785509484, 0.007557160557101897, 0.030228642228407588, 0.4232009911977062, 0.02267148167130569, 0.030228642228407588, 0.15870037169913984, 0.015114321114203794, 0.15870037169913984, 0.041123597017438125, 0.041123597017438125, 0.041123597017438125, 0.08224719403487625, 0.08224719403487625, 0.6991011492964481, 0.725053379501658, 0.16112297322259067, 0.08056148661129534, 0.14994784305078115, 0.14994784305078115, 0.5997913722031246, 0.049982614350260385, 0.07272795744159223, 0.8727354892991067, 0.30160234788809825, 0.6635251653538161, 0.21418740983907525, 0.1218273357811578, 0.09323969381085001, 0.10863303948716958, 0.08136482714626063, 0.12314676541055662, 0.06992977035813751, 0.07564729875219907, 0.033425550611436795, 0.07872596788746299, 0.1432978363428119, 0.040579918256371514, 0.10905853031399844, 0.0900366936313243, 0.14076159145178868, 0.08369608140376625, 0.03550742847432507, 0.12300787721462615, 0.06847861205762693, 0.16358779547099767, 0.13085140865918016, 0.10991518327371133, 0.10991518327371133, 0.23657934685579773, 0.05862143107931271, 0.071183166310594, 0.12038329596644574, 0.04187245077093765, 0.08479171281114874, 0.036638394424570446, 0.5996117514971587, 0.09993529191619313, 0.19987058383238626, 0.7609878864318783, 0.09512348580398479, 0.2491326730414839, 0.0830442243471613, 0.6643537947772904, 0.5598461211587442, 0.37323074743916285, 0.061694189848049516, 0.6786360883285447, 0.030847094924024758, 0.09254128477207427, 0.12338837969609903, 0.054309904645118284, 0.054309904645118284, 0.054309904645118284, 0.7060287603865377, 0.054309904645118284, 0.7335175838085783, 0.07335175838085783, 0.14670351676171567, 0.15278448659944271, 0.14156302713168703, 0.09279283790644119, 0.08934008114713175, 0.06214962166756992, 0.06646556761670672, 0.0496333784150732, 0.06905513518618879, 0.09451921628609591, 0.1812697298637456, 0.25540389542448527, 0.018243135387463232, 0.018243135387463232, 0.018243135387463232, 0.036486270774926464, 0.6567528739486763, 0.10554425065924307, 0.10554425065924307, 0.6332655039554584, 0.6540450346096327, 0.10464720553754123, 0.18313260969069714, 0.026161801384385307, 0.026161801384385307, 0.09274574614045641, 0.5564744768427385, 0.09274574614045641, 0.09274574614045641, 0.09274574614045641, 0.08615109739597533, 0.06832673241749768, 0.14318906532710382, 0.049314076440454845, 0.14497150182495158, 0.07545647840888874, 0.08971597039167085, 0.14140662882925606, 0.1396241923314083, 0.0617911319253892, 0.031069461140491503, 0.031069461140491503, 0.031069461140491503, 0.06213892228098301, 0.18641676684294903, 0.09320838342147451, 0.559250300528847, 0.836491618387481, 0.09841077863382129, 0.049205389316910646, 0.03620893873343352, 0.09052234683358379, 0.03620893873343352, 0.14483575493373407, 0.01810446936671676, 0.6155519584683697, 0.03620893873343352, 0.718216132044619, 0.110494789545326, 0.110494789545326, 0.0276236973863315, 0.16686710296413082, 0.16686710296413082, 0.08343355148206541, 0.08343355148206541, 0.5006013088923925, 0.07242942980527843, 0.14485885961055686, 0.036214714902639215, 0.6156501533448667, 0.07242942980527843, 0.036214714902639215, 0.01069329406090233, 0.5346647030451165, 0.14970611685263263, 0.08554635248721865, 0.08554635248721865, 0.07485305842631632, 0.01069329406090233, 0.02138658812180466, 0.04277317624360932, 0.1525998194731219, 0.648549232760768, 0.038149954868280475, 0.038149954868280475, 0.07629990973656095, 0.038149954868280475, 0.08867669931349195, 0.07759211189930545, 0.04849506993706591, 0.31452516787754176, 0.060965230778025715, 0.0942189930205852, 0.13717176925055785, 0.01662688112127974, 0.07620653847253214, 0.08590555245994533, 0.6440050701251272, 0.3220025350625636, 0.7408414352548222, 0.06734922138680201, 0.13469844277360402, 0.25492908448578383, 0.13192134441921682, 0.06061250959801854, 0.07576563699752317, 0.03030625479900927, 0.11765957745497717, 0.11765957745497717, 0.14974855312451638, 0.04100258002218901, 0.020501290011094506, 0.06846217470055661, 0.6161595723050095, 0.20538652410166983, 0.10238888712910026, 0.05119444356455013, 0.7167222099037018, 0.05119444356455013, 0.05119444356455013, 0.05119444356455013, 0.04196598787074671, 0.04196598787074671, 0.04196598787074671, 0.7973537695441875, 0.04196598787074671, 0.11105864721576109, 0.15372524614611, 0.08345084790788827, 0.10478414737306273, 0.10792139729441191, 0.08533319786069779, 0.12235274693261815, 0.06462734837979318, 0.06274499842698367, 0.1041566973887929, 0.09371740023022275, 0.1164191307207736, 0.08673225238697634, 0.03550783486983595, 0.15192696559060956, 0.14028505251853218, 0.06810519147165256, 0.1164191307207736, 0.06112004362840614, 0.12980733075366258, 0.06308231820430302, 0.7569878184516362, 0.12616463640860603, 0.06308231820430302, 0.16310045553491298, 0.5041286807442765, 0.014827314139537544, 0.044481942418612634, 0.1334458272558379, 0.014827314139537544, 0.10379119897676281, 0.05909038735523068, 0.11818077471046136, 0.7681750356179988, 0.042087420165095764, 0.016834968066038306, 0.20201961679245967, 0.02525245209905746, 0.042087420165095764, 0.08417484033019153, 0.042087420165095764, 0.5303014940802067, 0.016834968066038306, 0.008417484033019153, 0.21466923031269575, 0.04293384606253915, 0.021466923031269576, 0.021466923031269576, 0.04293384606253915, 0.0858676921250783, 0.5581399988130089, 0.11950467761041447, 0.36736623117275563, 0.008852198341512183, 0.23458325605007285, 0.04426099170756092, 0.14163517346419494, 0.07081758673209747, 0.008852198341512183, 0.008852198341512183, 0.03677625284252139, 0.1930753274232373, 0.070487817948166, 0.0674231302112892, 0.14404032363320876, 0.06129375473753565, 0.2574337698976497, 0.04597031605315174, 0.09194063210630347, 0.02758218963189104, 0.17059349875416843, 0.21340653898204853, 0.11427788430057229, 0.042154378070528103, 0.05862093200432814, 0.15083363403360836, 0.06685420897122817, 0.01943053364188405, 0.0846380872197322, 0.07903945888224019, 0.04483152205675099, 0.08966304411350198, 0.08966304411350198, 0.04483152205675099, 0.04483152205675099, 0.6724728308512649, 0.04483152205675099, 0.1406511375624755, 0.09064184420692865, 0.04063255085138181, 0.06563719752915523, 0.04688371252082517, 0.281302275124951, 0.06251161669443356, 0.0718883591985986, 0.009376742504165033, 0.18753485008330067, 0.28106722648012933, 0.13357650367372484, 0.058439720357254615, 0.06029494957494524, 0.08812338784030457, 0.07049871027224366, 0.10110999236413894, 0.022262750612287472, 0.03524935513612183, 0.14934595202409512, 0.08433771083077635, 0.08433771083077635, 0.08433771083077635, 0.6747016866462108, 0.2432826321142564, 0.0608206580285641, 0.608206580285641, 0.6991215663484909, 0.08739019579356136, 0.08739019579356136, 0.08739019579356136, 0.06888028374686031, 0.20664085124058093, 0.7576831212154634, 0.7076083668654444, 0.15724630374787651, 0.07862315187393826, 0.12671010720263573, 0.1900651608039536, 0.6335505360131787, 0.3558154929231978, 0.6226771126155962, 0.06153529996382694, 0.06153529996382694, 0.06153529996382694, 0.06153529996382694, 0.12307059992765387, 0.5538176996744424, 0.07653452605188257, 0.8418797865707083, 0.10305507112746289, 0.075382876102496, 0.16030788842049784, 0.035305903997371546, 0.06965759437319251, 0.08778765318265358, 0.086833439561103, 0.07824551696714775, 0.1345441206386321, 0.16889581101445308, 0.16368788803616602, 0.6001889227992754, 0.10912525869077735, 0.05456262934538868, 0.05456262934538868, 0.07033297472919593, 0.5274973104689695, 0.14066594945839186, 0.2109989241875878, 0.035166487364597966, 0.025419222042273145, 0.10167688816909258, 0.686318995141375, 0.025419222042273145, 0.025419222042273145, 0.05083844408454629, 0.07625766612681943, 0.10588707054142378, 0.017647845090237296, 0.14118276072189836, 0.5823788879778308, 0.12353491563166108, 0.03529569018047459, 0.1497159285448917, 0.1008955170628618, 0.03417428803742093, 0.11065959935926778, 0.11554164050747077, 0.07323061722304486, 0.05532979967963389, 0.06346653492663887, 0.07323061722304486, 0.22294654576793657, 0.2923833053727525, 0.026344181067849526, 0.08311403604504639, 0.09572955937331236, 0.037475525181025385, 0.1131686651506212, 0.03673343557348033, 0.10166627623367282, 0.04860686929420124, 0.16474389287500266, 0.01971053794637688, 0.5124739866057989, 0.13797376562463817, 0.0985526897318844, 0.01971053794637688, 0.15768430357101504, 0.03942107589275376, 0.28882887413447594, 0.12748805666284846, 0.060862942305145176, 0.16602258226433092, 0.05834199203215099, 0.04285615464090104, 0.06266362107156959, 0.033492625055494094, 0.07454810092997072, 0.08463190202194744, 0.07155617957011645, 0.07155617957011645, 0.07155617957011645, 0.07155617957011645, 0.5724494365609316, 0.07155617957011645, 0.22337633075945101, 0.670128992278353, 0.0814660570958949, 0.013577676182649148, 0.013577676182649148, 0.12219908564384234, 0.48879634257536936, 0.14935443800914064, 0.04073302854794745, 0.0814660570958949, 0.08682807181753685, 0.8682807181753684, 0.08682807181753685, 0.06593759606246982, 0.13187519212493964, 0.13187519212493964, 0.6593759606246982, 0.2632339574915551, 0.16151488422784435, 0.060568081585441635, 0.03949612606118052, 0.045453642282699366, 0.106793994489449, 0.09454798892299358, 0.07358635777320505, 0.09322409642932274, 0.061450676581222205, 0.07454271723525917, 0.07454271723525917, 0.8199698895878509, 0.14714720132175438, 0.08240243274018245, 0.011771776105740352, 0.10006009689879299, 0.16186192145392983, 0.07651654468731228, 0.05003004844939649, 0.3384385630400351, 0.014714720132175438, 0.020600608185045614, 0.8128436205491836, 0.16256872410983672, 0.05094716124344663, 0.08058914596690649, 0.03983141697214918, 0.1583993558659886, 0.05187347326605475, 0.10976797467906228, 0.043999821073885725, 0.1060627265886298, 0.3441249163989168, 0.014820992361729929, 0.05686712785266219, 0.17060138355798654, 0.625538406379284, 0.05686712785266219, 0.05686712785266219, 0.05686712785266219, 0.11430355300676698, 0.06976273188206435, 0.05312700351018747, 0.22324074202260594, 0.16474737452149044, 0.14167200936049992, 0.055810185505651484, 0.06332309509295073, 0.02951500195010415, 0.08425191465757002, 0.07400657243918547, 0.0803499929339728, 0.4440394346351128, 0.057090784453085935, 0.014801314487837093, 0.10995262190964698, 0.05497631095482349, 0.027488155477411746, 0.11206709540790942, 0.025373681979149305, 0.21174286104307652, 0.14433408505558024, 0.1072592582624573, 0.03013568808852774, 0.08168357560837783, 0.16416019564013798, 0.1413601684678966, 0.02081741611378561, 0.037867871216505256, 0.06046963728290106, 0.6825223786457902, 0.13650447572915805, 0.06825223786457903, 0.06825223786457903, 0.06825223786457903, 0.08229346489968575, 0.08229346489968575, 0.1645869297993715, 0.5760542542978002, 0.016195785734216837, 0.3617058813975093, 0.14576207160795152, 0.03779016671317262, 0.09717471440530101, 0.06478314293686735, 0.032391571468433675, 0.005398595244738945, 0.10257330965003995, 0.1295662858737347, 0.09372433500039913, 0.12366405312552663, 0.05499796046898421, 0.14579341000062088, 0.19493359953208014, 0.0553233921877356, 0.05109277984396758, 0.13505416328182512, 0.06736436578153687, 0.07842904421908399, 0.06682244610787474, 0.06682244610787474, 0.06682244610787474, 0.7350469071866221, 0.053316145637822374, 0.10663229127564475, 0.7997421845673356, 0.6871744309893678, 0.06871744309893678, 0.13743488619787356, 0.06871744309893678, 0.06668973279067479, 0.033344866395337396, 0.7335870606974227, 0.06668973279067479, 0.033344866395337396, 0.06668973279067479, 0.11282087653682978, 0.11282087653682978, 0.11282087653682978, 0.6769252592209787, 0.037442145919658776, 0.6739586265538581, 0.037442145919658776, 0.1872107295982939, 0.07488429183931755, 0.6490261966751039, 0.12980523933502078, 0.12980523933502078, 0.06490261966751039, 0.025110044475401983, 0.025110044475401983, 0.07533013342620595, 0.1255502223770099, 0.5273109339834416, 0.1757703113278139, 0.025110044475401983, 0.03226423062175598, 0.1290569224870239, 0.03226423062175598, 0.6452846124351195, 0.16132115310877987, 0.2882907638441104, 0.10267890219105302, 0.0868821480078141, 0.13652908972656502, 0.07559875216264343, 0.10380724177557009, 0.0851896386310385, 0.03667103649680465, 0.05077528130326798, 0.033850187535511986, 0.07536347454776215, 0.22609042364328646, 0.6029077963820972, 0.03537669691376192, 0.1768834845688096, 0.14150678765504768, 0.5660271506201907, 0.13553973206604294, 0.6099287942971933, 0.06776986603302147, 0.13553973206604294, 0.1310228932971194, 0.10269361907071523, 0.3116220164904462, 0.11685825618391732, 0.07790550412261155, 0.0708231855660105, 0.0424939113396063, 0.00708231855660105, 0.07436434484431102, 0.0708231855660105, 0.16051451613912346, 0.1751067448790438, 0.08867585157336191, 0.12740138169084275, 0.08474717460492183, 0.0875533724395219, 0.07183866456576155, 0.08474717460492183, 0.04995032145588108, 0.07015494586500151, 0.24518807243320245, 0.08172935747773415, 0.08172935747773415, 0.6538348598218732, 0.18380773446146298, 0.12253848964097533, 0.061269244820487664, 0.551423203384389, 0.20983833854044304, 0.6994611284681435, 0.09230107210712848, 0.05410752502831669, 0.11776343682633633, 0.06047311620811866, 0.022279569129306873, 0.29599998986079135, 0.0891182765172275, 0.012731182359603929, 0.025462364719207858, 0.2291612824728707, 0.12585035595064364, 0.09956515502424339, 0.15293207811723783, 0.08044864525958866, 0.16010076927898337, 0.050180838132218665, 0.047791274411636823, 0.1186816647888981, 0.0541634443331884, 0.11071645238695864, 0.2185003868594154, 0.043700077371883084, 0.6992012379501293, 0.09632620324997025, 0.05546054126513439, 0.08173132396967173, 0.04378463784089557, 0.3123304165983884, 0.09340722739391055, 0.15178674451510463, 0.04378463784089557, 0.05254156540907468, 0.07005542054543291, 0.08397336738747287, 0.07187843792837184, 0.01796960948209296, 0.06462148025291121, 0.5501465056825383, 0.02418985891820206, 0.06462148025291121, 0.046306301357701085, 0.03144681659366268, 0.04526959311834957, 0.0885047504487342, 0.05138985509926502, 0.02569492754963251, 0.03425990339951001, 0.20555942039706007, 0.057099838999183354, 0.042824879249387514, 0.042824879249387514, 0.17986449284742756, 0.27122423524612094, 0.4143054317281605, 0.09532691349497498, 0.07516160487103797, 0.0733283949961346, 0.038497407372970666, 0.05866271599690768, 0.13382432086794566, 0.04766345674748749, 0.05499629624710095, 0.00733283949961346, 0.15547405758731742, 0.11660554319048806, 0.6218962303492697, 0.07773702879365871, 0.06859200100554454, 0.75451201106099, 0.06859200100554454, 0.06227298518410957, 0.031136492592054785, 0.031136492592054785, 0.06227298518410957, 0.15568246296027394, 0.6227298518410957, 0.0801984870201455, 0.05065167601272347, 0.04502371201130975, 0.2940611190738668, 0.09145441502297293, 0.12100122603039495, 0.015476901003887726, 0.08723344202191265, 0.033767784008482314, 0.18150183904559242, 0.09503764103109763, 0.5702258461865858, 0.2851129230932929, 0.08134291171757697, 0.058102079798269264, 0.023240831919307706, 0.06972249575792312, 0.02614593590922117, 0.14525519949567317, 0.05229187181844234, 0.4357655984870195, 0.037766351868875024, 0.06681739176800966, 0.08460724748885476, 0.04406627473377852, 0.01586385890416027, 0.2855494602748848, 0.09518315342496161, 0.07579399254209906, 0.04935422770183195, 0.10047110639301503, 0.20446751476473235, 0.04230362374442738, 0.05773967635968621, 0.23095870543874483, 0.11547935271937242, 0.05773967635968621, 0.5196570872371759, 0.07994449139883439, 0.06104852070456444, 0.05378083966830677, 0.0552343758755583, 0.32559211042434366, 0.11192228795836814, 0.029070724145030685, 0.10610814312936201, 0.13808593968889576, 0.03779194138853989, 0.016158532500604766, 0.016158532500604766, 0.016158532500604766, 0.06463413000241906, 0.03231706500120953, 0.03231706500120953, 0.016158532500604766, 0.16158532500604766, 0.5009145075187478, 0.16158532500604766, 0.15823740796969632, 0.048004606912155065, 0.11734459467415682, 0.02489127765815448, 0.130679207705311, 0.09600921382431013, 0.05156050372046284, 0.14312484653438826, 0.14490279493854213, 0.08534152339938678, 0.23670535264827863, 0.09432394884849439, 0.08626462410511038, 0.10029381902877883, 0.09492093586652282, 0.07104145514538501, 0.05671376671270232, 0.0420875847710054, 0.0919360007763806, 0.12566576729498777, 0.05971832876795073, 0.05971832876795073, 0.05971832876795073, 0.05971832876795073, 0.7166199452154088, 0.05971832876795073, 0.057598417579778606, 0.25919287910900374, 0.234233564824433, 0.04223883955850431, 0.07487794285371219, 0.1324763604334908, 0.06911810109573432, 0.08639762636966791, 0.013439630768615008, 0.03071915604254859, 0.09304738236088024, 0.1344684751537882, 0.1836935419511571, 0.0834424912784668, 0.06903515465484662, 0.08764463112702267, 0.16928620532753696, 0.02161100493543025, 0.11705961006691384, 0.04082078710025714, 0.8494866677570991, 0.07079055564642493, 0.0690844824040305, 0.0690844824040305, 0.2072534472120915, 0.552675859232244, 0.0653580449092738, 0.0326790224546369, 0.686259471547375, 0.2287531571824583, 0.18776734526578415, 0.6102438721137985, 0.04694183631644604, 0.09388367263289207, 0.14991952692037852, 0.1285871041174788, 0.06399726840869914, 0.07821888361063228, 0.06814523950926298, 0.11969859461627061, 0.11021751781498185, 0.12384656571683444, 0.06458983570877969, 0.09303306611264597, 0.6631907218930346, 0.09474153169900495, 0.1894830633980099, 0.3025658232738665, 0.09171258665808418, 0.06285597839494866, 0.10028385643921355, 0.07085583019066939, 0.11056938017656878, 0.12856904671694044, 0.040570676964012314, 0.06171314242413141, 0.03028515322665708, 0.11308965778093498, 0.11308965778093498, 0.5277517363110299, 0.037696552593644995, 0.07539310518728999, 0.11308965778093498, 0.055468111998202146, 0.055468111998202146, 0.055468111998202146, 0.77655356797483, 0.055468111998202146, 0.15265042521208516, 0.6869269134543833, 0.07632521260604258, 0.056344001632087165, 0.056344001632087165, 0.056344001632087165, 0.056344001632087165, 0.11268800326417433, 0.5634400163208716, 0.11268800326417433, 0.16038709570944076, 0.21384946094592103, 0.5880860176012828, 0.6604771431730293, 0.16511928579325733, 0.11007952386217154, 0.05478604221511259, 0.05478604221511259, 0.6026464643662385, 0.21914416886045035, 0.07708499920150984, 0.07708499920150984, 0.7708499920150983, 0.1157559514396496, 0.1157559514396496, 0.6945357086378976, 0.14532973633184865, 0.04844324544394955, 0.0968864908878991, 0.6782054362152937, 0.22512932562158128, 0.13818282745048782, 0.09419203968535125, 0.021736624542773364, 0.11230589347099572, 0.14542836896474562, 0.07659572457929661, 0.06572741230790993, 0.07556064722011693, 0.04502586512431626, 0.18034285285165647, 0.5410285585549695, 0.18034285285165647, 0.05547065961035333, 0.21593935348316115, 0.09905474930420237, 0.0336786147634288, 0.05943284958252142, 0.0336786147634288, 0.039621899721680946, 0.24565577827442187, 0.10301693927637046, 0.1168846041789588, 0.09118650267171349, 0.11323159122971017, 0.04960144925549251, 0.050603498735401445, 0.05811886983471849, 0.2750625822350039, 0.17786378268383676, 0.0876793294920322, 0.06713731515389895, 0.029560459657313715, 0.3195561496814089, 0.6391122993628178, 0.15166928486027056, 0.117964999335766, 0.12409305124931228, 0.11490097337899285, 0.096516817638354, 0.04442837637321057, 0.03370428552450457, 0.04596038935159714, 0.23133395973637227, 0.03830032445966428, 0.16950649063323198, 0.12848888502810588, 0.11563999652529529, 0.0775875190362024, 0.06819794666876389, 0.18433213121339803, 0.12552375691207265, 0.05139555401124235, 0.03409897333438194, 0.04497110975983706, 0.05737882620553996, 0.06967428896386996, 0.05328033861942996, 0.02868941310276998, 0.2950911061999198, 0.02868941310276998, 0.07650510160738662, 0.1475455530999599, 0.10792683976756326, 0.1352500903416299, 0.06832097082672786, 0.06832097082672786, 0.20496291248018358, 0.6148887374405507, 0.20525000585163364, 0.6157500175549009, 0.10262500292581682, 0.10262500292581682, 0.1290522755656244, 0.0645261377828122, 0.0645261377828122, 0.6452613778281221, 0.15973060483966556, 0.10297098739663975, 0.07735381492235376, 0.0678101624319335, 0.12858815987092573, 0.16224209233714457, 0.11904450738050545, 0.05173664244806778, 0.056257319943530004, 0.07383773242588314, 0.13020473386086004, 0.14048665665625065, 0.111024993261766, 0.08057468344464763, 0.11873643535830895, 0.07019389600699363, 0.05684716930143851, 0.1255580956744816, 0.09372368086567602, 0.07266551206357792, 0.08340484952175806, 0.008340484952175806, 0.05838339466523063, 0.1334477592348129, 0.4503861874174935, 0.008340484952175806, 0.050042909713054834, 0.10008581942610967, 0.04170242476087903, 0.05838339466523063, 0.0613138466513423, 0.0613138466513423, 0.0613138466513423, 0.7357661598161076, 0.0613138466513423, 0.027615367582551863, 0.18541746805427678, 0.5325820890920716, 0.043395577629724354, 0.01183515753537937, 0.04734063014151748, 0.07890105023586245, 0.04734063014151748, 0.01183515753537937, 0.01183515753537937, 0.17322591909952667, 0.08661295954976334, 0.08661295954976334, 0.6062907168483433, 0.09517237186706198, 0.08167274465187589, 0.07357296832276423, 0.12352158901895278, 0.10124720411389573, 0.07424794968352354, 0.05062360205694787, 0.10934698044300739, 0.14174608575945402, 0.14984586208856568, 0.310192833408228, 0.05739250662178669, 0.03142922981669271, 0.07925631866818161, 0.0642249478862851, 0.09428768945007812, 0.20633972618785212, 0.06969090089788384, 0.028696253310893344, 0.06149197138048573, 0.6836553137444507, 0.2050965941233352, 0.06836553137444507, 0.294603571084804, 0.073650892771201, 0.589207142169608, 0.5858403313796671, 0.021697790051098783, 0.17358232040879026, 0.1301867403065927, 0.043395580102197566, 0.043395580102197566, 0.1451791165168597, 0.13467987866401945, 0.13612804940234224, 0.14879954336266665, 0.06009908564039578, 0.14011051893272994, 0.06733993933200973, 0.06009908564039578, 0.05611661611000811, 0.05213414657962044, 0.18750178304012927, 0.04687544576003232, 0.09375089152006463, 0.09375089152006463, 0.04687544576003232, 0.04687544576003232, 0.5156299033603555, 0.4029729178469779, 0.20333495854664024, 0.0295759939704204, 0.011090997738907649, 0.08872798191126119, 0.025878994724117848, 0.07024298567974845, 0.07024298567974845, 0.06284898718714334, 0.04066699170932805, 0.2952144373148083, 0.23317662077763843, 0.059898581484164, 0.04064546600711129, 0.012835410318035144, 0.13405872998836704, 0.06845552169618743, 0.05490703302715033, 0.046350092815126906, 0.05562011137815229, 0.1535178755174965, 0.025586312586249417, 0.614071502069986, 0.1535178755174965, 0.17731385568334088, 0.08865692784167044, 0.6649269588125283, 0.4904893924393161, 0.11211186112898655, 0.03269929282928774, 0.08875522339378102, 0.004671327547041106, 0.13079717131715096, 0.018685310188164425, 0.051384603017452166, 0.051384603017452166, 0.02335663773520553, 0.14652832817930736, 0.014652832817930735, 0.02930566563586147, 0.02930566563586147, 0.5714604798992987, 0.014652832817930735, 0.10256982972551515, 0.07326416408965368, 0.02930566563586147], \"Term\": [\"00\", \"00\", \"00\", \"00\", \"00\", \"00\", \"00\", \"00\", \"00\", \"115_lb_30_dd\", \"115_lb_30_dd\", \"115_lb_30_dd\", \"116\", \"116\", \"116\", \"117\", \"117\", \"118\", \"118\", \"118\", \"118\", \"118\", \"118\", \"118\", \"118\", \"118_lbs\", \"118_lbs\", \"118_lbs\", \"118_lbs\", \"127\", \"127\", \"127\", \"127\", \"135_pound\", \"135_pound\", \"135_pound\", \"135_pound\", \"135_pound\", \"135_pound\", \"150lbs\", \"150lbs\", \"150lbs\", \"150lbs\", \"26\", \"26\", \"26\", \"26\", \"26\", \"26\", \"26\", \"26\", \"26\", \"26\", \"27\", \"27\", \"27\", \"27\", \"27\", \"27\", \"27\", \"27\", \"27\", \"2_3_inch\", \"2_3_inch\", \"3/4_length_sleeve\", \"3/4_length_sleeve\", \"3/4_length_sleeve\", \"3/4_length_sleeve\", \"3/4_length_sleeve\", \"30dd\", \"30dd\", \"34aa\", \"34aa\", \"35\", \"35\", \"35\", \"35\", \"35\", \"35\", \"35\", \"4/6\", \"4/6\", \"4/6\", \"4/6\", \"4/6\", \"4/6\", \"5\\\"3\", \"5\\\"3\", \"5\\\"3\", \"5\\\"7\", \"5\\\"7\", \"5\\\"7\", \"5\\\"7\", \"5'1.5\", \"5'1.5\", \"5'1.5\", \"5'1.5\", \"5'11\", \"5'11\", \"5'11\", \"5'11\", \"5'11\", \"5'11\", \"5'11\", \"5'4_125_lbs\", \"5'4_125_lbs\", \"5'4_125_lbs\", \"5'4_125_lbs\", \"5'4_140\", \"5'4_140\", \"5'4_140\", \"5'6_130\", \"5'6_130\", \"5'6_130\", \"5'6_130\", \"50_'s\", \"50_'s\", \"50_'s\", \"6\", \"6\", \"6\", \"6\", \"6\", \"6\", \"6\", \"6\", \"6\", \"6\", \"70\", \"70\", \"able\", \"able\", \"able\", \"able\", \"able\", \"able\", \"able\", \"able\", \"able\", \"able\", \"absolute\", \"absolute\", \"absolute\", \"absolute\", \"absolute\", \"absolutely\", \"absolutely\", \"absolutely\", \"absolutely\", \"absolutely\", \"absolutely\", \"absolutely\", \"absolutely\", \"absolutely\", \"absolutely\", \"absolutely_gorgeous\", \"absolutely_gorgeous\", \"absolutely_gorgeous\", \"absolutely_gorgeous\", \"absolutely_gorgeous\", \"absolutely_gorgeous\", \"absolutely_gorgeous\", \"abt\", \"abt\", \"abt\", \"abt\", \"abt\", \"acrylic\", \"acrylic\", \"acrylic\", \"acrylic\", \"acrylic\", \"adequate\", \"adequate\", \"adequate\", \"adequate\", \"adequate\", \"afternoon\", \"afternoon\", \"afternoon\", \"afternoon\", \"ag_stevie\", \"ag_stevie\", \"ag_stevie\", \"ag_stevie\", \"ago\", \"ago\", \"ago\", \"ago\", \"aka\", \"albeit\", \"albeit\", \"albeit\", \"albeit\", \"aline\", \"aline\", \"aline\", \"already_sell_out\", \"already_sell_out\", \"already_sell_out\", \"alright\", \"alright\", \"amazingly_soft\", \"amazingly_soft\", \"amazingly_soft\", \"amazingly_soft\", \"an_average\", \"an_average\", \"an_average\", \"an_average\", \"an_average\", \"an_average\", \"an_excellent\", \"an_excellent\", \"an_excellent\", \"an_hourglass\", \"an_hourglass\", \"an_hourglass\", \"an_interesting\", \"an_interesting\", \"an_interesting\", \"an_interesting\", \"an_interesting\", \"an_interesting\", \"an_interesting\", \"an_interesting\", \"an_xs\", \"an_xs\", \"an_xs\", \"an_xs\", \"an_xs\", \"an_xs\", \"an_xs\", \"an_xs\", \"an_xs\", \"an_xs\", \"an_xsmall\", \"an_xsmall\", \"an_xsmall\", \"angel\", \"angel\", \"angel\", \"animal\", \"animal\", \"animal\", \"ankle\", \"ankle\", \"ankle\", \"ankle\", \"ankle\", \"ankle\", \"ankle\", \"ankle\", \"ankle\", \"ankle\", \"ankle_boot\", \"ankle_boot\", \"ankle_boot\", \"ankle_boot\", \"antho\", \"antho\", \"antho\", \"antho\", \"apparently\", \"apparently\", \"apparently\", \"apparently\", \"apparently\", \"apparently\", \"apple\", \"apple\", \"apple\", \"apple\", \"arm\", \"arm\", \"arm\", \"arm\", \"arm\", \"arm\", \"arm\", \"arm\", \"arm\", \"arm\", \"armhole\", \"armhole\", \"armhole\", \"armhole\", \"armhole\", \"armhole\", \"armhole\", \"armhole\", \"armhole\", \"armhole\", \"around_town\", \"art\", \"art\", \"art\", \"art\", \"art\", \"art\", \"art\", \"art\", \"art\", \"art\", \"athletic_frame\", \"athletic_frame\", \"athletic_frame\", \"attire\", \"attire\", \"attire\", \"attire\", \"august\", \"august\", \"august\", \"august\", \"august\", \"baby_shower\", \"baby_shower\", \"baby_shower\", \"background\", \"background\", \"background\", \"background\", \"background\", \"background\", \"background\", \"background\", \"background\", \"bad\", \"bad\", \"bad\", \"bad\", \"bad\", \"bad\", \"bad\", \"bad\", \"bad\", \"bad\", \"barely_cover\", \"barely_cover\", \"basic\", \"basic\", \"basic\", \"basic\", \"basic\", \"basic\", \"basic\", \"basic\", \"basic\", \"basic\", \"bathing_suit\", \"bathing_suit\", \"bathing_suit\", \"bathing_suit\", \"bathing_suit\", \"bathing_suit\", \"bathing_suit\", \"bathing_suit\", \"bathing_suit\", \"bathing_suit\", \"beach_cover_up\", \"beach_cover_up\", \"beach_cover_up\", \"beach_cover_up\", \"beach_cover_up\", \"beading\", \"beading\", \"beading\", \"beading\", \"beading\", \"beading\", \"beading\", \"beading\", \"beautiful\", \"beautiful\", \"beautiful\", \"beautiful\", \"beautiful\", \"beautiful\", \"beautiful\", \"beautiful\", \"beautiful\", \"beautiful\", \"bed\", \"bed\", \"bed\", \"bed\", \"bed\", \"believe_how\", \"believe_how\", \"believe_how\", \"believe_how\", \"believe_how\", \"belly\", \"belly\", \"belly\", \"belly\", \"belly\", \"belly\", \"belly\", \"belly\", \"belly\", \"belly\", \"belly_area\", \"belly_area\", \"belly_area\", \"belly_area\", \"bias\", \"bias\", \"bias\", \"bias\", \"bias\", \"bias\", \"big\", \"big\", \"big\", \"big\", \"big\", \"big\", \"big\", \"big\", \"big\", \"big\", \"big_cheste\", \"big_cheste\", \"big_cheste\", \"big_cheste\", \"big_fan_of\", \"big_fan_of\", \"big_fan_of\", \"big_fan_of\", \"big_fan_of\", \"big_fan_of\", \"big_fan_of\", \"bikini_bottom\", \"bikini_bottom\", \"birthday_gift\", \"birthday_gift\", \"birthday_gift\", \"bit\", \"bit\", \"bit\", \"bit\", \"bit\", \"bit\", \"bit\", \"bit\", \"bit\", \"bit\", \"bizarre\", \"bizarre\", \"black\", \"black\", \"black\", \"black\", \"black\", \"black\", \"black\", \"black\", \"black\", \"black\", \"bleed\", \"bleed\", \"bleed\", \"bleed\", \"bleed\", \"blouse\", \"blouse\", \"blouse\", \"blouse\", \"blouse\", \"blouse\", \"blouse\", \"blouse\", \"blouse\", \"blouse\", \"blue\", \"blue\", \"blue\", \"blue\", \"blue\", \"blue\", \"blue\", \"blue\", \"blue\", \"blue\", \"bomber\", \"bomber\", \"bomber\", \"bootie\", \"bootie\", \"bootie\", \"bootie\", \"bootie\", \"bootie\", \"bootie\", \"bootie\", \"bootie\", \"bootie\", \"border\", \"border\", \"border\", \"border\", \"border\", \"borderline\", \"borderline\", \"boring\", \"boring\", \"boring\", \"boring\", \"boring\", \"boring\", \"boring\", \"boring\", \"boring\", \"bothersome\", \"bothersome\", \"bothersome\", \"bothersome\", \"boxy\", \"boxy\", \"boxy\", \"boxy\", \"boxy\", \"boxy\", \"boxy\", \"boxy\", \"boxy\", \"boxy\", \"bra\", \"bra\", \"bra\", \"bra\", \"bra\", \"bra\", \"bra\", \"bra\", \"bra\", \"bra\", \"brand\", \"brand\", \"brand\", \"brand\", \"brand\", \"brand\", \"brand\", \"brand\", \"brand\", \"brand\", \"brilliant\", \"brilliant\", \"brilliant\", \"bubble\", \"bubble\", \"bubble\", \"bubble\", \"bubble\", \"bunching\", \"bunching\", \"bunching\", \"bunching\", \"bust\", \"bust\", \"bust\", \"bust\", \"bust\", \"bust\", \"bust\", \"bust\", \"bust\", \"bust\", \"button\", \"button\", \"button\", \"button\", \"button\", \"button\", \"button\", \"button\", \"button\", \"button\", \"buy\", \"buy\", \"buy\", \"buy\", \"buy\", \"buy\", \"buy\", \"buy\", \"buy\", \"buy\", \"cal\", \"cal\", \"cal\", \"california\", \"california\", \"california\", \"california\", \"california\", \"camel\", \"camel\", \"camel\", \"canvas\", \"canvas\", \"canvas\", \"canvas\", \"capris\", \"capris\", \"capris\", \"capris\", \"capris\", \"capris\", \"carbon\", \"carbon\", \"carbon\", \"care_instruction\", \"care_instruction\", \"catch\", \"catch\", \"catch\", \"catch\", \"catch\", \"catch\", \"catch\", \"catch\", \"catch\", \"catch\", \"caution\", \"caution\", \"caution\", \"caution\", \"caution\", \"caution\", \"cheaply_make\", \"cheaply_make\", \"cheaply_make\", \"cheaply_make\", \"chest\", \"chest\", \"chest\", \"chest\", \"chest\", \"chest\", \"chest\", \"chest\", \"chest\", \"chest\", \"chesty\", \"chesty\", \"chesty\", \"chesty\", \"chesty\", \"church\", \"church\", \"church\", \"church\", \"church\", \"church\", \"church\", \"church\", \"citizen\", \"citizen\", \"citizen\", \"citizen\", \"citizen\", \"claim\", \"claim\", \"clip\", \"clip\", \"clip\", \"clip\", \"clip\", \"coat\", \"coat\", \"coat\", \"coat\", \"coat\", \"coat\", \"coat\", \"coat\", \"coat\", \"coat\", \"cocktail_party\", \"cocktail_party\", \"cocktail_party\", \"cocoon\", \"cocoon\", \"cocoon\", \"coh\", \"coh\", \"cold_day\", \"cold_day\", \"cold_day\", \"cold_day\", \"cold_day\", \"cold_day\", \"cold_water\", \"cold_water\", \"cold_water\", \"cold_water\", \"cold_water\", \"cold_water\", \"cold_water\", \"cold_water\", \"cold_winter\", \"cold_winter\", \"cold_winter\", \"color\", \"color\", \"color\", \"color\", \"color\", \"color\", \"color\", \"color\", \"color\", \"color\", \"color_blocking\", \"color_blocking\", \"color_blocking\", \"color_blocking\", \"color_palette\", \"color_palette\", \"comfortable\", \"comfortable\", \"comfortable\", \"comfortable\", \"comfortable\", \"comfortable\", \"comfortable\", \"comfortable\", \"comfortable\", \"comfortable\", \"comfy\", \"comfy\", \"comfy\", \"comfy\", \"comfy\", \"comfy\", \"comfy\", \"comfy\", \"comfy\", \"comfy\", \"company\", \"company\", \"company\", \"company\", \"concerned\", \"concerned\", \"concerned\", \"concerned\", \"concerned\", \"concerned_about\", \"concerned_about\", \"concerned_about\", \"concerned_about\", \"concerned_about\", \"content\", \"content\", \"content\", \"content\", \"content\", \"cool\", \"cool\", \"cool\", \"cool\", \"cool\", \"cool\", \"cool\", \"cool\", \"cool\", \"cool\", \"cord\", \"cord\", \"cord\", \"cord\", \"cord\", \"cord\", \"cord\", \"cord\", \"cord\", \"cottony\", \"cottony\", \"cottony\", \"count\", \"count\", \"count\", \"count\", \"count\", \"count\", \"covered\", \"covered\", \"covered\", \"covered\", \"covered\", \"covered\", \"cozy\", \"cozy\", \"cozy\", \"cozy\", \"cozy\", \"cozy\", \"cozy\", \"cozy\", \"cozy\", \"cozy\", \"cranberry\", \"cross_over\", \"cross_over\", \"cut\", \"cut\", \"cut\", \"cut\", \"cut\", \"cut\", \"cut\", \"cut\", \"cut\", \"cut\", \"cute\", \"cute\", \"cute\", \"cute\", \"cute\", \"cute\", \"cute\", \"cute\", \"cute\", \"cute\", \"darker\", \"darker\", \"darker\", \"darker\", \"darker\", \"darker\", \"darker\", \"day\", \"day\", \"day\", \"day\", \"day\", \"day\", \"day\", \"day\", \"day\", \"day\", \"ddd\", \"ddd\", \"ddd\", \"ddd\", \"deep_v\", \"deep_v\", \"defeat\", \"defeat\", \"defeat\", \"defeat\", \"defeat\", \"degree\", \"degree\", \"design\", \"design\", \"design\", \"design\", \"design\", \"design\", \"design\", \"design\", \"design\", \"design\", \"dinner\", \"dinner\", \"dinner\", \"dinner\", \"dinner\", \"dinner\", \"dinner\", \"dinner\", \"dinner\", \"dinner\", \"disagree\", \"disagree\", \"disagree\", \"drawback\", \"drawback\", \"drawback\", \"drawback\", \"drawstring\", \"drawstring\", \"drawstring\", \"drawstring\", \"drawstring\", \"drawstring\", \"drawstring\", \"drawstring\", \"drawstring\", \"dress\", \"dress\", \"dress\", \"dress\", \"dress\", \"dress\", \"dress\", \"dress\", \"dress\", \"dress\", \"dry_cleaner\", \"dry_cleaner\", \"dry_cleaner\", \"dry_cleaner\", \"dry_cleaner\", \"durability\", \"durability\", \"durability\", \"durability\", \"dusty\", \"dusty\", \"dusty\", \"each_time\", \"each_time\", \"each_time\", \"each_time\", \"earring\", \"earring\", \"earring\", \"earring\", \"earring\", \"earring\", \"easy\", \"easy\", \"easy\", \"easy\", \"easy\", \"easy\", \"easy\", \"easy\", \"easy\", \"easy\", \"elastic_waistband\", \"elastic_waistband\", \"elastic_waistband\", \"elevense\", \"elevense\", \"elevense\", \"embellishment\", \"embellishment\", \"embellishment\", \"embellishment\", \"embellishment\", \"embellishment\", \"engagement\", \"engagement\", \"ensure\", \"ensure\", \"ensure\", \"ensure\", \"ensure\", \"ensure\", \"ensure\", \"essential\", \"essential\", \"every_single\", \"every_single\", \"every_single\", \"every_single\", \"everywhere_except\", \"everywhere_except\", \"everywhere_except\", \"everywhere_except\", \"example\", \"example\", \"example\", \"example\", \"example\", \"example\", \"excellent_quality\", \"excellent_quality\", \"excellent_quality\", \"excellent_quality\", \"excellent_quality\", \"excessive\", \"excessive\", \"expect\", \"expect\", \"expect\", \"expect\", \"expect\", \"expect\", \"expect\", \"expect\", \"expect\", \"expect\", \"exposure\", \"exposure\", \"eye\", \"eye\", \"eye\", \"eye\", \"eye\", \"eye\", \"eye\", \"eye\", \"eye\", \"eye\", \"eye_catching\", \"eye_catching\", \"fabric\", \"fabric\", \"fabric\", \"fabric\", \"fabric\", \"fabric\", \"fabric\", \"fabric\", \"fabric\", \"fabric\", \"faded\", \"faded\", \"faded\", \"faded\", \"fall\", \"fall\", \"fall\", \"fall\", \"fall\", \"fall\", \"fall\", \"fall\", \"fall\", \"fall\", \"fall_apart\", \"fall_apart\", \"fall_apart\", \"fall_apart\", \"fall_apart\", \"fall_apart\", \"feel\", \"feel\", \"feel\", \"feel\", \"feel\", \"feel\", \"feel\", \"feel\", \"feel\", \"feel\", \"feminine\", \"feminine\", \"feminine\", \"feminine\", \"feminine\", \"feminine\", \"feminine\", \"feminine\", \"feminine\", \"feminine\", \"few_month_ago\", \"few_month_ago\", \"few_week_ago\", \"few_week_ago\", \"few_week_ago\", \"figure_flaw\", \"figure_flaw\", \"figure_flaw\", \"figure_flaw\", \"figure_flaw\", \"find\", \"find\", \"find\", \"find\", \"find\", \"find\", \"find\", \"find\", \"find\", \"find\", \"fit\", \"fit\", \"fit\", \"fit\", \"fit\", \"fit\", \"fit\", \"fit\", \"fit\", \"fit\", \"fit_perfectly\", \"fit_perfectly\", \"fit_perfectly\", \"fit_perfectly\", \"fit_perfectly\", \"fit_perfectly\", \"fit_perfectly\", \"fit_perfectly\", \"fit_perfectly\", \"fit_perfectly\", \"flared\", \"flared\", \"flared\", \"flared\", \"flat_stomach\", \"flat_stomach\", \"flat_stomach\", \"flat_stomach\", \"flat_stomach\", \"flat_stomach\", \"flat_stomach\", \"flattering\", \"flattering\", \"flattering\", \"flattering\", \"flattering\", \"flattering\", \"flattering\", \"flattering\", \"flattering\", \"flattering\", \"floor\", \"floor\", \"floor\", \"floor\", \"floor\", \"floor\", \"floor\", \"floor\", \"floor\", \"flouncy\", \"flouncy\", \"formal\", \"formal\", \"formal\", \"formal\", \"formal\", \"formal\", \"freeze\", \"freeze\", \"freeze\", \"freeze\", \"from_last_year\", \"from_last_year\", \"from_last_year\", \"from_last_year\", \"from_last_year\", \"fuzz\", \"fuzz\", \"fuzz\", \"fuzz\", \"fuzz\", \"g\", \"g\", \"get_several_compliment\", \"get_several_compliment\", \"get_several_compliment\", \"glove\", \"glove\", \"glove\", \"glove\", \"glove\", \"glove\", \"glove\", \"glove\", \"glove\", \"goddess\", \"goddess\", \"goddess\", \"good\", \"good\", \"good\", \"good\", \"good\", \"good\", \"good\", \"good\", \"good\", \"good\", \"gray\", \"gray\", \"gray\", \"gray\", \"gray\", \"gray\", \"gray\", \"gray\", \"gray\", \"gray\", \"graze\", \"graze\", \"great\", \"great\", \"great\", \"great\", \"great\", \"great\", \"great\", \"great\", \"great\", \"great\", \"green\", \"green\", \"green\", \"green\", \"green\", \"green\", \"green\", \"green\", \"green\", \"green\", \"hang_beautifully\", \"hang_beautifully\", \"hang_beautifully\", \"hang_beautifully\", \"hang_beautifully\", \"hang_beautifully\", \"happy\", \"happy\", \"happy\", \"happy\", \"happy\", \"happy\", \"happy\", \"happy\", \"happy\", \"happy\", \"hat\", \"hat\", \"hat\", \"hat\", \"hd\", \"hd\", \"hd\", \"hd\", \"hd\", \"hd\", \"hd\", \"heck\", \"heck\", \"heck\", \"heeled\", \"heeled\", \"heeled\", \"hemming\", \"hemming\", \"hemming\", \"hemming\", \"hemming\", \"hide\", \"hide\", \"hide\", \"hide\", \"hide\", \"hide\", \"hide\", \"hide\", \"hide\", \"hide\", \"high_rise\", \"high_rise\", \"high_rise\", \"high_rise\", \"high_rise\", \"high_rise\", \"hip\", \"hip\", \"hip\", \"hip\", \"hip\", \"hip\", \"hip\", \"hip\", \"hip\", \"hip\", \"hit\", \"hit\", \"hit\", \"hit\", \"hit\", \"hit\", \"hit\", \"hit\", \"hit\", \"hit\", \"hit_right\", \"hit_right\", \"hit_right\", \"hit_right\", \"hourglass_figure\", \"hourglass_figure\", \"hourglass_figure\", \"hourglass_figure\", \"hourglass_figure\", \"hourglass_figure\", \"huge\", \"huge\", \"huge\", \"huge\", \"huge\", \"huge\", \"huge\", \"huge\", \"huge\", \"huge\", \"immediately_catch\", \"inconsistent\", \"inconsistent\", \"inconsistent\", \"initial\", \"initial\", \"inseam\", \"inseam\", \"inseam\", \"inseam\", \"inseam\", \"inseam\", \"inseam\", \"inseam\", \"it?s\", \"it?s\", \"it?s\", \"ivory\", \"ivory\", \"ivory\", \"ivory\", \"ivory\", \"ivory\", \"ivory\", \"ivory\", \"ivory\", \"jacket\", \"jacket\", \"jacket\", \"jacket\", \"jacket\", \"jacket\", \"jacket\", \"jacket\", \"jacket\", \"jacket\", \"jean\", \"jean\", \"jean\", \"jean\", \"jean\", \"jean\", \"jean\", \"jean\", \"jean\", \"jean\", \"jegging\", \"jegging\", \"jegging\", \"jegging\", \"jewelry\", \"jewelry\", \"jewelry\", \"jewelry\", \"jewelry\", \"jewelry\", \"jewelry\", \"jewelry\", \"jewelry\", \"jewelry\", \"jsut\", \"jsut\", \"jsut\", \"jsut\", \"jsut\", \"jsut\", \"jumpsuit\", \"jumpsuit\", \"jumpsuit\", \"jumpsuit\", \"jumpsuit\", \"jumpsuit\", \"jumpsuit\", \"jumpsuit\", \"jumpsuit\", \"kelly_green\", \"kelly_green\", \"kelly_green\", \"kelly_green\", \"knit\", \"knit\", \"knit\", \"knit\", \"knit\", \"knit\", \"knit\", \"knit\", \"knit\", \"knit\", \"label\", \"label\", \"label\", \"label\", \"label\", \"label\", \"label\", \"label\", \"lace\", \"lace\", \"lace\", \"lace\", \"lace\", \"lace\", \"lace\", \"lace\", \"lace\", \"lace\", \"large\", \"large\", \"large\", \"large\", \"large\", \"large\", \"large\", \"large\", \"large\", \"large\", \"last_night\", \"last_night\", \"last_night\", \"last_night\", \"last_night\", \"last_night\", \"layer_underneath\", \"layer_underneath\", \"layer_underneath\", \"layer_underneath\", \"layer_underneath\", \"layer_underneath\", \"leather\", \"leather\", \"leather\", \"leather\", \"leather\", \"leather\", \"leather\", \"leather\", \"leather\", \"leg_opening\", \"leg_opening\", \"legged\", \"legged\", \"legged\", \"legging\", \"legging\", \"legging\", \"legging\", \"legging\", \"legging\", \"legging\", \"legging\", \"legging\", \"legging\", \"length\", \"length\", \"length\", \"length\", \"length\", \"length\", \"length\", \"length\", \"length\", \"length\", \"lengthen\", \"lengthen\", \"lengthen\", \"lifestyle\", \"lifestyle\", \"light\", \"light\", \"light\", \"light\", \"light\", \"light\", \"light\", \"light\", \"light\", \"light\", \"lik\", \"lik\", \"lik\", \"like\", \"like\", \"like\", \"like\", \"like\", \"like\", \"like\", \"like\", \"like\", \"like\", \"line\", \"line\", \"line\", \"line\", \"line\", \"line\", \"line\", \"line\", \"line\", \"line\", \"linen_blend\", \"linen_blend\", \"lint\", \"lint\", \"lint\", \"lint\", \"lint\", \"little\", \"little\", \"little\", \"little\", \"little\", \"little\", \"little\", \"little\", \"little\", \"little\", \"long\", \"long\", \"long\", \"long\", \"long\", \"long\", \"long\", \"long\", \"long\", \"long\", \"long_necklace\", \"long_necklace\", \"long_necklace\", \"long_necklace\", \"long_necklace\", \"long_necklace\", \"long_necklace\", \"look\", \"look\", \"look\", \"look\", \"look\", \"look\", \"look\", \"look\", \"look\", \"look\", \"lose_weight\", \"lose_weight\", \"lose_weight\", \"lounge_pant\", \"lounge_pant\", \"lounge_pant\", \"lounge_pant\", \"lounge_pant\", \"loungewear\", \"loungewear\", \"loungewear\", \"love\", \"love\", \"love\", \"love\", \"love\", \"love\", \"love\", \"love\", \"love\", \"love\", \"lovely\", \"lovely\", \"lovely\", \"lovely\", \"lovely\", \"lovely\", \"lovely\", \"lovely\", \"lovely\", \"lovely\", \"magical\", \"magical\", \"manage\", \"manage\", \"manage\", \"manage\", \"manage\", \"manage\", \"market\", \"market\", \"material\", \"material\", \"material\", \"material\", \"material\", \"material\", \"material\", \"material\", \"material\", \"material\", \"medium\", \"medium\", \"medium\", \"medium\", \"medium\", \"medium\", \"medium\", \"medium\", \"medium\", \"medium\", \"mid_hip\", \"mid_hip\", \"mid_weight\", \"mid_weight\", \"mid_weight\", \"mistake\", \"mistake\", \"mistake\", \"mistake\", \"mistake\", \"modal\", \"modal\", \"model\", \"model\", \"model\", \"model\", \"model\", \"model\", \"model\", \"model\", \"model\", \"model\", \"modest_enough\", \"modest_enough\", \"modest_enough\", \"morning\", \"morning\", \"morning\", \"morning\", \"morning\", \"morning\", \"morning\", \"moth\", \"moth\", \"moth\", \"moth\", \"moth\", \"mother_'s_day\", \"mother_'s_day\", \"multiple_season\", \"multiple_season\", \"multiple_season\", \"natural_fiber\", \"natural_fiber\", \"natural_fiber\", \"natural_fiber\", \"navy\", \"navy\", \"navy\", \"navy\", \"navy\", \"navy\", \"navy\", \"navy\", \"navy\", \"navy\", \"neat\", \"neat\", \"neat\", \"neat\", \"neat\", \"neat\", \"neat\", \"need\", \"need\", \"need\", \"need\", \"need\", \"need\", \"need\", \"need\", \"need\", \"need\", \"negative_review\", \"negative_review\", \"negative_review\", \"negative_review\", \"negative_review\", \"negative_review\", \"nervous\", \"nervous\", \"nervous\", \"nervous\", \"nervous\", \"nervous\", \"nervous_about\", \"nervous_about\", \"nervous_about\", \"next_time\", \"next_time\", \"next_time\", \"next_time\", \"nice\", \"nice\", \"nice\", \"nice\", \"nice\", \"nice\", \"nice\", \"nice\", \"nice\", \"nice\", \"nicer\", \"nicer\", \"no_longer_available\", \"normally\", \"normally\", \"normally\", \"normally\", \"normally\", \"normally\", \"normally\", \"normally\", \"normally\", \"normally\", \"north\", \"north\", \"north\", \"north\", \"north\", \"notch\", \"notch\", \"notch\", \"notch\", \"notch\", \"notch\", \"notch\", \"notch\", \"nude_slip\", \"nude_slip\", \"occasion\", \"occasion\", \"occasion\", \"occasion\", \"occasion\", \"occasion\", \"occasion\", \"occasion\", \"occasion\", \"occasion\", \"online\", \"online\", \"online\", \"online\", \"online\", \"online\", \"online\", \"online\", \"online\", \"online\", \"opportunity\", \"opportunity\", \"opportunity\", \"opportunity\", \"orange\", \"orange\", \"orange\", \"orange\", \"orange\", \"orange\", \"orange\", \"orange\", \"orange\", \"orange\", \"orangey\", \"orangey\", \"order\", \"order\", \"order\", \"order\", \"order\", \"order\", \"order\", \"order\", \"order\", \"order\", \"other_reviewer_comment\", \"other_reviewer_comment\", \"other_reviewer_comment\", \"other_reviewer_comment\", \"outer\", \"outer\", \"outer\", \"outer\", \"outer\", \"outer\", \"outer\", \"outer\", \"outer_layer\", \"outer_layer\", \"outer_layer\", \"outer_layer\", \"outer_layer\", \"overlap\", \"overlap\", \"overpower\", \"overpower\", \"overprice\", \"overprice\", \"overprice\", \"oversized\", \"oversized\", \"oversized\", \"oversized\", \"oversized\", \"oversized\", \"oversized\", \"oversized\", \"oversized\", \"oversized\", \"paige\", \"paige\", \"paige\", \"paige\", \"paige\", \"paige\", \"paige_jean\", \"paige_jean\", \"paige_jean\", \"pain\", \"pain\", \"pain\", \"pair\", \"pair\", \"pair\", \"pair\", \"pair\", \"pair\", \"pair\", \"pair\", \"pair\", \"pair\", \"pant\", \"pant\", \"pant\", \"pant\", \"pant\", \"pant\", \"pant\", \"pant\", \"pant\", \"pant\", \"paris\", \"paris\", \"paris\", \"paris\", \"paris\", \"paris\", \"party\", \"party\", \"party\", \"party\", \"party\", \"party\", \"party\", \"party\", \"party\", \"party\", \"pastel\", \"pastel\", \"pastel\", \"pastel\", \"pastel\", \"pastel\", \"pastel\", \"pearl\", \"pearl\", \"pearl\", \"pencil\", \"pencil\", \"pencil\", \"pencil\", \"pencil\", \"pencil\", \"percent\", \"percent\", \"percent\", \"perfect\", \"perfect\", \"perfect\", \"perfect\", \"perfect\", \"perfect\", \"perfect\", \"perfect\", \"perfect\", \"perfect\", \"periwinkle\", \"periwinkle\", \"periwinkle\", \"person\", \"person\", \"person\", \"person\", \"person\", \"person\", \"person\", \"person\", \"person\", \"person\", \"petite\", \"petite\", \"petite\", \"petite\", \"petite\", \"petite\", \"petite\", \"petite\", \"petite\", \"petite\", \"picky_about\", \"picky_about\", \"picky_about\", \"picky_about\", \"picture\", \"picture\", \"picture\", \"picture\", \"picture\", \"picture\", \"picture\", \"picture\", \"picture\", \"picture\", \"pink\", \"pink\", \"pink\", \"pink\", \"pink\", \"pink\", \"pink\", \"pink\", \"pink\", \"pink\", \"playful\", \"playful\", \"playful\", \"pleasantly_surprise_by\", \"pleasantly_surprise_by\", \"pleasantly_surprise_by\", \"pleasantly_surprise_by\", \"pleasantly_surprise_by\", \"poke\", \"poke\", \"poke\", \"poncho\", \"poncho\", \"poncho\", \"poncho\", \"poncho\", \"poncho\", \"poncho\", \"poncho\", \"poncho\", \"poncho\", \"pooch\", \"pooch\", \"pooch\", \"pooch\", \"pooch\", \"pooch\", \"poster\", \"poster\", \"poster\", \"postpartum\", \"postpartum\", \"postpartum\", \"postpartum\", \"prefect\", \"prefect\", \"present\", \"present\", \"pretty\", \"pretty\", \"pretty\", \"pretty\", \"pretty\", \"pretty\", \"pretty\", \"pretty\", \"pretty\", \"pretty\", \"price\", \"price\", \"price\", \"price\", \"price\", \"price\", \"price\", \"price\", \"price\", \"price\", \"print\", \"print\", \"print\", \"print\", \"print\", \"print\", \"print\", \"print\", \"print\", \"print\", \"prior_review\", \"prior_review\", \"prior_review\", \"process\", \"process\", \"product_description\", \"product_description\", \"product_description\", \"protrude\", \"protrude\", \"ps\", \"ps\", \"ps\", \"ps\", \"ps\", \"puff\", \"puff\", \"puff\", \"puff\", \"puff\", \"pulling\", \"pulling\", \"pulling\", \"purchase\", \"purchase\", \"purchase\", \"purchase\", \"purchase\", \"purchase\", \"purchase\", \"purchase\", \"purchase\", \"purchase\", \"purpose\", \"purpose\", \"purpose\", \"purpose\", \"purpose\", \"purpose\", \"purse\", \"purse\", \"purse\", \"pxs\", \"pxs\", \"pxs\", \"pxs\", \"pxs\", \"pxxs\", \"pxxs\", \"pxxs\", \"pxxs\", \"pxxs\", \"quality\", \"quality\", \"quality\", \"quality\", \"quality\", \"quality\", \"quality\", \"quality\", \"quality\", \"quality\", \"quick\", \"quick\", \"quick\", \"quick\", \"quick\", \"quick\", \"quick\", \"quickly_become\", \"quickly_become\", \"quickly_become\", \"rarely\", \"rarely\", \"rarely\", \"rarely\", \"rarely\", \"rarely\", \"rarely\", \"raspberry\", \"raspberry\", \"raspberry\", \"raspberry\", \"rave\", \"rave\", \"rave\", \"rave\", \"rave\", \"raw_edge\", \"raw_edge\", \"raw_edge\", \"raw_edge\", \"raw_edge\", \"raw_edge\", \"receive_many_compliment\", \"receive_many_compliment\", \"receive_many_compliment\", \"receive_many_compliment\", \"receive_many_compliment\", \"receive_many_compliment\", \"receive_many_compliment\", \"receive_many_compliment\", \"receive_many_compliment\", \"receive_ton_of\", \"receive_ton_of\", \"receive_ton_of\", \"receive_ton_of\", \"receive_ton_of\", \"receive_ton_of\", \"red\", \"red\", \"red\", \"red\", \"red\", \"red\", \"red\", \"red\", \"red\", \"red\", \"red_motif\", \"red_motif\", \"regualr\", \"regualr\", \"regualr\", \"regular\", \"regular\", \"regular\", \"regular\", \"regular\", \"regular\", \"regular\", \"regular\", \"regular\", \"regular\", \"regularly\", \"regularly\", \"regularly\", \"rehearsal_dinner\", \"rehearsal_dinner\", \"rehearsal_dinner\", \"rehearsal_dinner\", \"rehearsal_dinner\", \"rehearsal_dinner\", \"restrictive\", \"restrictive\", \"restrictive\", \"restrictive\", \"restrictive\", \"retailer\", \"retailer\", \"retailer\", \"retailer\", \"retailer\", \"retailer\", \"retailer\", \"retailer\", \"retailer\", \"retailer\", \"return\", \"return\", \"return\", \"return\", \"return\", \"return\", \"return\", \"return\", \"return\", \"return\", \"reviewer_mention\", \"reviewer_mention\", \"reviewer_mention\", \"reviewer_mention\", \"ride_up\", \"ride_up\", \"ride_up\", \"ride_up\", \"ride_up\", \"ride_up\", \"ride_up\", \"rinse\", \"rinse\", \"rinse\", \"rip\", \"rip\", \"rip\", \"rip\", \"rip\", \"rip\", \"rip\", \"rip\", \"rip\", \"rip\", \"robe\", \"robe\", \"robe\", \"robe\", \"robe\", \"robe\", \"robe\", \"romper\", \"romper\", \"romper\", \"romper\", \"romper\", \"romper\", \"romper\", \"romper\", \"romper\", \"room\", \"room\", \"room\", \"room\", \"room\", \"room\", \"room\", \"room\", \"room\", \"room\", \"run\", \"run\", \"run\", \"run\", \"run\", \"run\", \"run\", \"run\", \"run\", \"run\", \"rust\", \"rust\", \"rust\", \"rust\", \"rust\", \"rust\", \"rust\", \"sadly\", \"sadly\", \"sadly\", \"sadly\", \"sadly\", \"sadly\", \"sadly\", \"sadly\", \"sadly\", \"sadly\", \"sale\", \"sale\", \"sale\", \"sale\", \"sale\", \"sale\", \"sale\", \"sale\", \"sale\", \"sale\", \"san\", \"san\", \"san\", \"san\", \"satin\", \"satin\", \"satin\", \"saturated\", \"saturated\", \"saturated\", \"saturated\", \"sausage\", \"sausage\", \"sausage\", \"semi_sheer\", \"semi_sheer\", \"semi_sheer\", \"serve\", \"serve\", \"serve\", \"settle\", \"settle\", \"sewing\", \"sewing\", \"sewing\", \"sewing\", \"sewing\", \"sewing\", \"sh\", \"sh\", \"shape\", \"shape\", \"shape\", \"shape\", \"shape\", \"shape\", \"shape\", \"shape\", \"shape\", \"shape\", \"sharp\", \"sharp\", \"sharp\", \"sharp\", \"sharp\", \"shawl\", \"shawl\", \"shawl\", \"shawl\", \"shawl\", \"sheath\", \"sheath\", \"sheath\", \"sheath\", \"sheath\", \"sheath\", \"sheath\", \"shed\", \"shed\", \"shed\", \"shed\", \"shed\", \"shed\", \"sheer\", \"sheer\", \"sheer\", \"sheer\", \"sheer\", \"sheer\", \"sheer\", \"sheer\", \"sheer\", \"sheer\", \"shirt\", \"shirt\", \"shirt\", \"shirt\", \"shirt\", \"shirt\", \"shirt\", \"shirt\", \"shirt\", \"shirt\", \"shopping\", \"shopping\", \"shopping\", \"shopping\", \"shopping\", \"shopping\", \"shopping\", \"short\", \"short\", \"short\", \"short\", \"short\", \"short\", \"short\", \"short\", \"short\", \"short\", \"shy\", \"shy\", \"shy\", \"shy\", \"shy\", \"shy\", \"side_boob\", \"side_boob\", \"side_slit\", \"side_slit\", \"side_slit\", \"side_slit\", \"side_slit\", \"side_slit\", \"side_slit\", \"side_slit\", \"sigh\", \"sigh\", \"sigh\", \"simplicity\", \"simplicity\", \"simplicity\", \"simplicity\", \"size\", \"size\", \"size\", \"size\", \"size\", \"size\", \"size\", \"size\", \"size\", \"size\", \"skimpy\", \"skimpy\", \"skimpy\", \"skinny_jean\", \"skinny_jean\", \"skinny_jean\", \"skinny_jean\", \"skinny_jean\", \"skinny_jean\", \"skinny_jean\", \"skinny_jean\", \"skinny_jean\", \"skinny_jean\", \"skip\", \"skip\", \"skirt\", \"skirt\", \"skirt\", \"skirt\", \"skirt\", \"skirt\", \"skirt\", \"skirt\", \"skirt\", \"skirt\", \"slate\", \"slate\", \"slate\", \"slate\", \"slate\", \"slate\", \"sleeve\", \"sleeve\", \"sleeve\", \"sleeve\", \"sleeve\", \"sleeve\", \"sleeve\", \"sleeve\", \"sleeve\", \"sleeve\", \"slip\", \"slip\", \"slip\", \"slip\", \"slip\", \"slip\", \"slip\", \"slip\", \"slip\", \"slip\", \"small\", \"small\", \"small\", \"small\", \"small\", \"small\", \"small\", \"small\", \"small\", \"small\", \"smile\", \"smile\", \"smile\", \"smile\", \"smile\", \"snow\", \"snow\", \"snow\", \"snow\", \"so_many_compliment\", \"so_many_compliment\", \"so_many_compliment\", \"so_many_compliment\", \"so_many_compliment\", \"so_many_compliment\", \"so_many_compliment\", \"so_many_compliment\", \"so_many_compliment\", \"so_many_compliment\", \"soft\", \"soft\", \"soft\", \"soft\", \"soft\", \"soft\", \"soft\", \"soft\", \"soft\", \"soft\", \"somewhat_sheer\", \"somewhat_sheer\", \"somewhat_sheer\", \"somewhat_sheer\", \"somewhere_between\", \"somewhere_between\", \"somewhere_between\", \"soo\", \"soo\", \"soo\", \"soo\", \"special_occasion\", \"special_occasion\", \"special_occasion\", \"special_occasion\", \"special_occasion\", \"special_occasion\", \"spin\", \"spin\", \"spin\", \"spin\", \"squeeze\", \"squeeze\", \"squeeze\", \"squeeze\", \"squeeze\", \"stay_away_from\", \"stay_away_from\", \"stay_away_from\", \"stay_away_from\", \"step\", \"step\", \"step\", \"step\", \"step\", \"step\", \"step\", \"stevie\", \"stevie\", \"stevie\", \"stevie\", \"stevie\", \"store\", \"store\", \"store\", \"store\", \"store\", \"store\", \"store\", \"store\", \"store\", \"store\", \"stripe_version\", \"stripe_version\", \"stripe_version\", \"striped\", \"striped\", \"striped\", \"striped\", \"stun\", \"stun\", \"stun\", \"stun\", \"stunning\", \"stunning\", \"stunning\", \"stunning\", \"stunning\", \"stunning\", \"stunning\", \"stunning\", \"stunning\", \"stunning\", \"style\", \"style\", \"style\", \"style\", \"style\", \"style\", \"style\", \"style\", \"style\", \"style\", \"substance\", \"substance\", \"substance\", \"substance\", \"such_high_hope\", \"such_high_hope\", \"such_high_hope\", \"such_high_hope\", \"suggestion\", \"suggestion\", \"suit\", \"suit\", \"suit\", \"suit\", \"suit\", \"suit\", \"suit\", \"suit\", \"suit\", \"suit\", \"summer\", \"summer\", \"summer\", \"summer\", \"summer\", \"summer\", \"summer\", \"summer\", \"summer\", \"summer\", \"sunday\", \"sunday\", \"sunday\", \"super_soft\", \"super_soft\", \"super_soft\", \"super_soft\", \"super_soft\", \"super_soft\", \"super_soft\", \"super_soft\", \"super_soft\", \"super_soft\", \"sweater\", \"sweater\", \"sweater\", \"sweater\", \"sweater\", \"sweater\", \"sweater\", \"sweater\", \"sweater\", \"sweater\", \"t_shirt\", \"t_shirt\", \"t_shirt\", \"t_shirt\", \"t_shirt\", \"t_shirt\", \"t_shirt\", \"t_shirt\", \"t_shirt\", \"t_shirt\", \"tall\", \"tall\", \"tall\", \"tall\", \"tall\", \"tall\", \"tall\", \"tall\", \"tall\", \"tall\", \"tall_woman\", \"tall_woman\", \"tall_woman\", \"tall_woman\", \"tangerine\", \"tangerine\", \"tangerine\", \"teacher\", \"teacher\", \"teacher\", \"teacher\", \"teacher\", \"teacher\", \"tee\", \"tee\", \"tee\", \"tee\", \"tee\", \"tee\", \"tee\", \"tee\", \"tee\", \"tee\", \"tencel\", \"tencel\", \"tencel\", \"these_jean\", \"these_jean\", \"these_jean\", \"these_jean\", \"these_jean\", \"these_jean\", \"these_jean\", \"these_jean\", \"these_jean\", \"these_jean\", \"these_pant\", \"these_pant\", \"these_pant\", \"these_pant\", \"these_pant\", \"these_pant\", \"these_pant\", \"these_pant\", \"these_pant\", \"these_pant\", \"thi\", \"thi\", \"thi\", \"thi\", \"thi\", \"thick\", \"thick\", \"thick\", \"thick\", \"thick\", \"thick\", \"thick\", \"thick\", \"thick\", \"thick\", \"thick_enough\", \"thick_enough\", \"thick_enough\", \"thick_enough\", \"thick_enough\", \"thick_enough\", \"thick_enough\", \"thick_enough\", \"thick_enough\", \"thick_enough\", \"thin\", \"thin\", \"thin\", \"thin\", \"thin\", \"thin\", \"thin\", \"thin\", \"thin\", \"thin\", \"think\", \"think\", \"think\", \"think\", \"think\", \"think\", \"think\", \"think\", \"think\", \"think\", \"three_different\", \"three_different\", \"three_different\", \"three_different\", \"three_different\", \"three_different\", \"tie\", \"tie\", \"tie\", \"tie\", \"tie\", \"tie\", \"tie\", \"tie\", \"tie\", \"tie\", \"tight\", \"tight\", \"tight\", \"tight\", \"tight\", \"tight\", \"tight\", \"tight\", \"tight\", \"tight\", \"tint\", \"tint\", \"transition_into\", \"transition_into\", \"transition_into\", \"transition_into\", \"trench\", \"trench\", \"trench\", \"trench\", \"triangle\", \"triangle\", \"triangle\", \"triangle\", \"true\", \"true\", \"true\", \"true\", \"true\", \"true\", \"true\", \"true\", \"true\", \"true\", \"truth\", \"truth\", \"truth\", \"try\", \"try\", \"try\", \"try\", \"try\", \"try\", \"try\", \"try\", \"try\", \"try\", \"tuck_into\", \"tuck_into\", \"tuck_into\", \"tuck_into\", \"tuck_into\", \"tuck_into\", \"tummy_area\", \"tummy_area\", \"tummy_area\", \"tummy_area\", \"tummy_area\", \"turtle_neck\", \"turtle_neck\", \"turtle_neck\", \"unattractive\", \"unattractive\", \"unattractive\", \"unattractive\", \"unattractive\", \"unattractive\", \"unattractive\", \"uncomfortably\", \"uncomfortably\", \"uncomfortably\", \"undecided\", \"undecided\", \"undecided\", \"unstructured\", \"unstructured\", \"unstructured\", \"unstructured\", \"unzipped\", \"unzipped\", \"unzipped\", \"upside\", \"upside\", \"upside\", \"useful\", \"useful\", \"useful\", \"useful\", \"usually\", \"usually\", \"usually\", \"usually\", \"usually\", \"usually\", \"usually\", \"usually\", \"usually\", \"usually\", \"vary_between\", \"vary_between\", \"vary_between\", \"versatile\", \"versatile\", \"versatile\", \"versatile\", \"versatile\", \"versatile\", \"versatile\", \"versatile\", \"versatile\", \"versatile\", \"waist\", \"waist\", \"waist\", \"waist\", \"waist\", \"waist\", \"waist\", \"waist\", \"waist\", \"waist\", \"waiste\", \"waiste\", \"wait\", \"wait\", \"wait\", \"wait\", \"wait\", \"wait\", \"wait\", \"wait\", \"wait\", \"wait\", \"want\", \"want\", \"want\", \"want\", \"want\", \"want\", \"want\", \"want\", \"want\", \"want\", \"warm\", \"warm\", \"warm\", \"warm\", \"warm\", \"warm\", \"warm\", \"warm\", \"warm\", \"warm\", \"warm_climate\", \"warm_climate\", \"warm_climate\", \"warm_climate\", \"washed_out\", \"washed_out\", \"washed_out\", \"washed_out\", \"washing_machine\", \"washing_machine\", \"washing_machine\", \"washing_machine\", \"way\", \"way\", \"way\", \"way\", \"way\", \"way\", \"way\", \"way\", \"way\", \"way\", \"wear\", \"wear\", \"wear\", \"wear\", \"wear\", \"wear\", \"wear\", \"wear\", \"wear\", \"wear\", \"weave\", \"weave\", \"weave\", \"weave\", \"weave\", \"weave\", \"weave\", \"weave\", \"weave\", \"weave\", \"web\", \"web\", \"web\", \"web\", \"web\", \"wedding\", \"wedding\", \"wedding\", \"wedding\", \"wedding\", \"wedding\", \"wedding\", \"wedding\", \"wedding\", \"wedding\", \"week_pregnant\", \"week_pregnant\", \"week_pregnant\", \"week_pregnant\", \"white\", \"white\", \"white\", \"white\", \"white\", \"white\", \"white\", \"white\", \"white\", \"white\", \"wide\", \"wide\", \"wide\", \"wide\", \"wide\", \"wide\", \"wide\", \"wide\", \"wide\", \"wide\", \"will_most_likely\", \"will_most_likely\", \"will_most_likely\", \"wo\", \"wo\", \"wo\", \"wonder\", \"wonder\", \"wonder\", \"wonder\", \"wonder\", \"wonder\", \"work\", \"work\", \"work\", \"work\", \"work\", \"work\", \"work\", \"work\", \"work\", \"work\", \"wrong_place\", \"wrong_place\", \"wrong_place\", \"wrong_place\", \"wrong_place\", \"wrong_place\", \"wrong_place\", \"xl\", \"xl\", \"xl\", \"xl\", \"xl\", \"xl\", \"xl\", \"xl\", \"xl\", \"xl\", \"xs\", \"xs\", \"xs\", \"xs\", \"xs\", \"xs\", \"xs\", \"xs\", \"xs\", \"xs\", \"xsmall\", \"xsmall\", \"xsmall\", \"xsmall\", \"xspetite\", \"xspetite\", \"xspetite\", \"xxs\", \"xxs\", \"xxs\", \"xxs\", \"xxs\", \"xxs\", \"xxs\", \"xxs\", \"xxs\", \"xxs\", \"yarn\", \"yarn\", \"yarn\", \"yarn\", \"yarn\", \"yarn\", \"yarn\", \"yarn\", \"yarn\"]}, \"R\": 30, \"lambda.step\": 0.01, \"plot.opts\": {\"xlab\": \"PC1\", \"ylab\": \"PC2\"}, \"topic.order\": [9, 10, 8, 5, 7, 3, 1, 2, 4, 6]};\n",
              "\n",
              "function LDAvis_load_lib(url, callback){\n",
              "  var s = document.createElement('script');\n",
              "  s.src = url;\n",
              "  s.async = true;\n",
              "  s.onreadystatechange = s.onload = callback;\n",
              "  s.onerror = function(){console.warn(\"failed to load library \" + url);};\n",
              "  document.getElementsByTagName(\"head\")[0].appendChild(s);\n",
              "}\n",
              "\n",
              "if(typeof(LDAvis) !== \"undefined\"){\n",
              "   // already loaded: just create the visualization\n",
              "   !function(LDAvis){\n",
              "       new LDAvis(\"#\" + \"ldavis_el1831406882801307683138770985\", ldavis_el1831406882801307683138770985_data);\n",
              "   }(LDAvis);\n",
              "}else if(typeof define === \"function\" && define.amd){\n",
              "   // require.js is available: use it to load d3/LDAvis\n",
              "   require.config({paths: {d3: \"https://d3js.org/d3.v5\"}});\n",
              "   require([\"d3\"], function(d3){\n",
              "      window.d3 = d3;\n",
              "      LDAvis_load_lib(\"https://cdn.jsdelivr.net/gh/bmabey/pyLDAvis@3.3.1/pyLDAvis/js/ldavis.v3.0.0.js\", function(){\n",
              "        new LDAvis(\"#\" + \"ldavis_el1831406882801307683138770985\", ldavis_el1831406882801307683138770985_data);\n",
              "      });\n",
              "    });\n",
              "}else{\n",
              "    // require.js not available: dynamically load d3 & LDAvis\n",
              "    LDAvis_load_lib(\"https://d3js.org/d3.v5.js\", function(){\n",
              "         LDAvis_load_lib(\"https://cdn.jsdelivr.net/gh/bmabey/pyLDAvis@3.3.1/pyLDAvis/js/ldavis.v3.0.0.js\", function(){\n",
              "                 new LDAvis(\"#\" + \"ldavis_el1831406882801307683138770985\", ldavis_el1831406882801307683138770985_data);\n",
              "            })\n",
              "         });\n",
              "}\n",
              "</script>"
            ],
            "text/plain": [
              "<IPython.core.display.HTML object>"
            ]
          },
          "metadata": {},
          "execution_count": 53
        }
      ]
    },
    {
      "cell_type": "code",
      "source": [
        "# 참고: 안타깝게도 gensim과 pyLDAvis는 동일한 토픽 인덱스를 공유하지 않는다. \n",
        "# 아래에 현재 토픽 모델에서 두 인덱스가 어떻게 매핑되는지 적어놓았다.\n",
        "# gensim index -> pyLDAvis index\n",
        "#  0 -> 7\n",
        "#  1 -> 8\n",
        "#  2 -> 6\n",
        "#  3 -> 9\n",
        "#  4 -> 4\n",
        "#  5 -> 10\n",
        "#  6 -> 5\n",
        "#  7 -> 3\n",
        "#  8 -> 1\n",
        "#  9 -> 2"
      ],
      "metadata": {
        "id": "XbFM94q7xR1r"
      },
      "execution_count": null,
      "outputs": []
    },
    {
      "cell_type": "code",
      "source": [
        "lda.show_topic(0)"
      ],
      "metadata": {
        "colab": {
          "base_uri": "https://localhost:8080/"
        },
        "id": "eawT4MK-HSn5",
        "outputId": "294097f2-848b-432b-e677-1b2aad7136d8"
      },
      "execution_count": 54,
      "outputs": [
        {
          "output_type": "execute_result",
          "data": {
            "text/plain": [
              "[('fit', 0.03224418),\n",
              " ('look', 0.02248444),\n",
              " ('love', 0.019435346),\n",
              " ('size', 0.017974112),\n",
              " ('small', 0.014958014),\n",
              " ('order', 0.014951397),\n",
              " ('like', 0.014943746),\n",
              " ('dress', 0.014254757),\n",
              " ('wear', 0.012074377),\n",
              " ('medium', 0.011938189)]"
            ]
          },
          "metadata": {},
          "execution_count": 54
        }
      ]
    },
    {
      "cell_type": "code",
      "source": [
        "# 토픽 마다 이름을 정해주고 긍부정 사전을 만듦\n",
        "topic_sentiments = {0: ('fit', 1),\n",
        "               1: ('leggings & jeans', 0),\n",
        "               2: ('waist fit', -1),\n",
        "               3: ('skirt & blouse', 0),\n",
        "               4: ('nice color', 1),\n",
        "               5: ('great', 1),\n",
        "               6: ('fabric', -1),\n",
        "               7: ('special occasion', 1),\n",
        "               8: ('size problem', -1),\n",
        "               9: ('love', 1),\n",
        "              }"
      ],
      "metadata": {
        "id": "BgNDxVokDJqj"
      },
      "execution_count": 56,
      "outputs": []
    },
    {
      "cell_type": "code",
      "source": [
        "# LDA로 긍부정을 예측하는 함수를 만든다.\n",
        "def get_lda(normalized_text):\n",
        "    tokens = normalized_text.split()\n",
        "    bow = dictionary.doc2bow(tokens)\n",
        "    lda_result = lda[bow]\n",
        "    return lda_result\n",
        "\n",
        "def get_sentiment(normalized_text):\n",
        "    review_lda = get_lda(normalized_text)\n",
        "    sentiments = [(topic_sentiments[topic][1] * frequency, frequency) for topic, frequency in review_lda \n",
        "                  if topic_sentiments[topic][1] != 0]\n",
        "    if not sentiments:\n",
        "        return 0\n",
        "    else:\n",
        "        return sum(senti for senti, freq in sentiments) / sum(freq for senti, freq in sentiments)\n",
        "\n",
        "def predict_with_lda(normalized_text):\n",
        "    sentiment = get_sentiment(normalized_text)\n",
        "    return sentiment >= 0"
      ],
      "metadata": {
        "id": "sqi6pXVJI11m"
      },
      "execution_count": 59,
      "outputs": []
    },
    {
      "cell_type": "code",
      "source": [
        "# 리뷰와 LDA 결과를 눈으로 보자\n",
        "warnings.filterwarnings(\"ignore\", category=DeprecationWarning)\n",
        "def describe_review_from_raw(text, min_frequency=0.1):\n",
        "    tokens = preprocess_text(text)\n",
        "    normalized_text = ' '.join(tokens)\n",
        "    review_lda = get_lda(normalized_text)\n",
        "    sentiment = get_sentiment(normalized_text)\n",
        "\n",
        "    for topic, frequency in sorted(review_lda, key=lambda x: x[1], reverse=True):\n",
        "\n",
        "        if frequency < min_frequency: continue\n",
        "        print('{:25} {}'.format(topic_sentiments[topic][0], round(frequency, 3)))\n",
        "\n",
        "    print()\n",
        "    \n",
        "    print(\"positiveness : {}\".format(sentiment))"
      ],
      "metadata": {
        "id": "3qLnc6NfO3AC"
      },
      "execution_count": 60,
      "outputs": []
    },
    {
      "cell_type": "code",
      "source": [
        "text = df_train['Review Text'].iloc[0]\n",
        "print(text)\n",
        "print()\n",
        "describe_review_from_raw(text)\n",
        "# love(긍정), waist fit(부정) 의 topic으로 정리"
      ],
      "metadata": {
        "colab": {
          "base_uri": "https://localhost:8080/"
        },
        "id": "E_mP335WO3_d",
        "outputId": "c46b6050-f990-4da9-f5a7-da114d6ca9c5"
      },
      "execution_count": 61,
      "outputs": [
        {
          "output_type": "stream",
          "name": "stdout",
          "text": [
            "I love this shirt, i had my eye on it for awhile but wasn't sure what size i'd be, so i went to the store to try. they only had a small which i figured i would be but it was a little large and not as fitted as i would like it across the chest. i got an xs and it was perfect; i am 5'1 about 120 lbs and a small c cup and it fits great. i love it!!\n",
            "\n",
            "love                      0.5009999871253967\n",
            "waist fit                 0.46700000762939453\n",
            "\n",
            "positiveness : 0.03557429368216298\n"
          ]
        }
      ]
    },
    {
      "cell_type": "code",
      "source": [
        "# 정답과 예측\n",
        "predictions_with_lda = df_test['Reviews Preprocessed'].map(predict_with_lda)\n",
        "\n",
        "# 정확도 (accuracy) 구하기\n",
        "corrects_with_lda = df_test['Label'] == predictions_with_lda\n",
        "corrects_with_lda.sum() / len(corrects_with_lda)\n",
        "\n"
      ],
      "metadata": {
        "colab": {
          "base_uri": "https://localhost:8080/"
        },
        "id": "B_AdY20tJAu1",
        "outputId": "f09413b7-ac42-4274-b5af-3c1726717983"
      },
      "execution_count": 62,
      "outputs": [
        {
          "output_type": "execute_result",
          "data": {
            "text/plain": [
              "0.608549726196785"
            ]
          },
          "metadata": {},
          "execution_count": 62
        }
      ]
    },
    {
      "cell_type": "markdown",
      "source": [
        "# 통계로 하는 감성 분석\n",
        "\n",
        "로지스틱 회귀를 이용해 텍스트 분류를 해보자"
      ],
      "metadata": {
        "id": "GIA97UwIQBWz"
      }
    },
    {
      "cell_type": "code",
      "metadata": {
        "collapsed": true,
        "id": "yyMAUf4RXlc6"
      },
      "source": [
        "# vectorizer를 초기화하기\n",
        "from sklearn.feature_extraction.text import CountVectorizer\n",
        "vect = CountVectorizer()"
      ],
      "execution_count": 63,
      "outputs": []
    },
    {
      "cell_type": "code",
      "metadata": {
        "collapsed": true,
        "id": "hdSNJM7iXlc6"
      },
      "source": [
        "# 사전(vocabulary) 학습하기. document-term matrix를 만드는 데 사용됨\n",
        "vect.fit(df_train['Reviews Preprocessed'])\n",
        "X_train_dtm = vect.transform(df_train['Reviews Preprocessed'])"
      ],
      "execution_count": 64,
      "outputs": []
    },
    {
      "cell_type": "code",
      "metadata": {
        "colab": {
          "base_uri": "https://localhost:8080/"
        },
        "id": "Xi8DIT_rXlc6",
        "outputId": "da972e0a-c53c-4d05-9a0e-721b8f0fa08e"
      },
      "source": [
        "X_train_dtm"
      ],
      "execution_count": 65,
      "outputs": [
        {
          "output_type": "execute_result",
          "data": {
            "text/plain": [
              "<16980x11563 sparse matrix of type '<class 'numpy.int64'>'\n",
              "\twith 357673 stored elements in Compressed Sparse Row format>"
            ]
          },
          "metadata": {},
          "execution_count": 65
        }
      ]
    },
    {
      "cell_type": "code",
      "source": [
        "X_train_dtm.toarray()"
      ],
      "metadata": {
        "colab": {
          "base_uri": "https://localhost:8080/"
        },
        "id": "WuB4woUtrj4v",
        "outputId": "742c0df0-1546-464a-fae2-71793c45d997"
      },
      "execution_count": 68,
      "outputs": [
        {
          "output_type": "execute_result",
          "data": {
            "text/plain": [
              "array([[0, 0, 0, ..., 0, 0, 0],\n",
              "       [0, 0, 0, ..., 0, 0, 0],\n",
              "       [0, 0, 0, ..., 0, 0, 0],\n",
              "       ...,\n",
              "       [0, 0, 0, ..., 0, 0, 0],\n",
              "       [0, 0, 0, ..., 0, 0, 0],\n",
              "       [0, 0, 0, ..., 0, 0, 0]])"
            ]
          },
          "metadata": {},
          "execution_count": 68
        }
      ]
    },
    {
      "cell_type": "code",
      "metadata": {
        "colab": {
          "base_uri": "https://localhost:8080/"
        },
        "id": "giYp8-YwXlc6",
        "outputId": "9b6cd4ae-3260-461c-ecac-b4b4a77401f1"
      },
      "source": [
        "# 테스트 데이터를 document-term matrix로 바꾸기 (학습된 사전 활용)\n",
        "X_test_dtm = vect.transform(df_test['Reviews Preprocessed'])\n",
        "X_test_dtm"
      ],
      "execution_count": 66,
      "outputs": [
        {
          "output_type": "execute_result",
          "data": {
            "text/plain": [
              "<5661x11563 sparse matrix of type '<class 'numpy.int64'>'\n",
              "\twith 116412 stored elements in Compressed Sparse Row format>"
            ]
          },
          "metadata": {},
          "execution_count": 66
        }
      ]
    },
    {
      "cell_type": "code",
      "metadata": {
        "collapsed": true,
        "id": "TY6gvVmyXlc7"
      },
      "source": [
        "# logistic regression model을 불러오고 초기화\n",
        "from sklearn.linear_model import LogisticRegression\n",
        "logreg = LogisticRegression(max_iter=1000)"
      ],
      "execution_count": 69,
      "outputs": []
    },
    {
      "cell_type": "code",
      "metadata": {
        "colab": {
          "base_uri": "https://localhost:8080/"
        },
        "id": "1lMF6nvuXlc7",
        "outputId": "81401cba-4e82-45d0-d458-713b5cbb2199"
      },
      "source": [
        "# X_train_dtm를 이용해 모델 학습\n",
        "%time logreg.fit(X_train_dtm, df_train['Label'])"
      ],
      "execution_count": 70,
      "outputs": [
        {
          "output_type": "stream",
          "name": "stdout",
          "text": [
            "CPU times: user 1.42 s, sys: 1.76 s, total: 3.17 s\n",
            "Wall time: 1.65 s\n"
          ]
        },
        {
          "output_type": "execute_result",
          "data": {
            "text/plain": [
              "LogisticRegression(max_iter=1000)"
            ]
          },
          "metadata": {},
          "execution_count": 70
        }
      ]
    },
    {
      "cell_type": "code",
      "metadata": {
        "collapsed": true,
        "id": "04zJ2uQNXlc7"
      },
      "source": [
        "# X_test_dtm에 대해 클래스 예측\n",
        "y_pred_class = logreg.predict(X_test_dtm)"
      ],
      "execution_count": 71,
      "outputs": []
    },
    {
      "cell_type": "code",
      "metadata": {
        "colab": {
          "base_uri": "https://localhost:8080/"
        },
        "id": "L9oebSRQXlc7",
        "outputId": "caaf8250-73f1-45f5-c0b3-0bb8c88095e8"
      },
      "source": [
        "# X_test_dtm에 대해 확률 예측\n",
        "y_pred_prob = logreg.predict_proba(X_test_dtm)[:, 1]\n",
        "y_pred_prob"
      ],
      "execution_count": 72,
      "outputs": [
        {
          "output_type": "execute_result",
          "data": {
            "text/plain": [
              "array([0.86292066, 0.37799351, 0.05795736, ..., 0.01871669, 0.92682195,\n",
              "       0.97924315])"
            ]
          },
          "metadata": {},
          "execution_count": 72
        }
      ]
    },
    {
      "cell_type": "code",
      "source": [
        "print(df_test['Review Text'].iloc[0])\n",
        "print()\n",
        "print(y_pred_prob[0])"
      ],
      "metadata": {
        "colab": {
          "base_uri": "https://localhost:8080/"
        },
        "id": "uwmSGDnyDxXz",
        "outputId": "4aa839d8-fbb2-49d7-aa3f-37d7a8c5544f"
      },
      "execution_count": 73,
      "outputs": [
        {
          "output_type": "stream",
          "name": "stdout",
          "text": [
            "Beautiful and very versatile dress. extremely forgiving for post baby bodies, while stylish and classy.\n",
            "\n",
            "0.862920658341584\n"
          ]
        }
      ]
    },
    {
      "cell_type": "code",
      "metadata": {
        "collapsed": true,
        "id": "lTSoqjz7Xlc7"
      },
      "source": [
        "from sklearn.metrics import accuracy_score, roc_auc_score"
      ],
      "execution_count": 74,
      "outputs": []
    },
    {
      "cell_type": "code",
      "metadata": {
        "colab": {
          "base_uri": "https://localhost:8080/"
        },
        "id": "ASVWTHirXlc7",
        "outputId": "bc6a891c-1597-46c3-8ca0-a148f92f23b6"
      },
      "source": [
        "# 클래스 예측 정확도 구하기\n",
        "accuracy_score(df_test['Label'], y_pred_class)"
      ],
      "execution_count": 75,
      "outputs": [
        {
          "output_type": "execute_result",
          "data": {
            "text/plain": [
              "0.773891538597421"
            ]
          },
          "metadata": {},
          "execution_count": 75
        }
      ]
    },
    {
      "cell_type": "markdown",
      "source": [
        "# 딥러닝으로 하는 감성 분석\n",
        "\n",
        "미리 학습된 딥러닝 모델을 불러와 파인튜닝(fine-tuning)을 통해 텍스트 분류를 해보자\n",
        "\n",
        "허깅페이스의 transformers 라이브러리를 활용한다.\n",
        "https://huggingface.co/docs/transformers/index\n",
        "\n",
        "GPU 사용 추천*"
      ],
      "metadata": {
        "id": "FmvZn94GacqT"
      }
    },
    {
      "cell_type": "code",
      "source": [
        "!pip install transformers datasets"
      ],
      "metadata": {
        "colab": {
          "base_uri": "https://localhost:8080/"
        },
        "id": "DJXD5MpLbxlH",
        "outputId": "beff8c65-f6bd-4cf4-a5e8-34f74fd1b1c2"
      },
      "execution_count": 76,
      "outputs": [
        {
          "output_type": "stream",
          "name": "stdout",
          "text": [
            "Collecting transformers\n",
            "  Downloading transformers-4.15.0-py3-none-any.whl (3.4 MB)\n",
            "\u001b[K     |████████████████████████████████| 3.4 MB 8.3 MB/s \n",
            "\u001b[?25hCollecting datasets\n",
            "  Downloading datasets-1.17.0-py3-none-any.whl (306 kB)\n",
            "\u001b[K     |████████████████████████████████| 306 kB 67.7 MB/s \n",
            "\u001b[?25hRequirement already satisfied: filelock in /usr/local/lib/python3.7/dist-packages (from transformers) (3.4.0)\n",
            "Collecting tokenizers<0.11,>=0.10.1\n",
            "  Downloading tokenizers-0.10.3-cp37-cp37m-manylinux_2_5_x86_64.manylinux1_x86_64.manylinux_2_12_x86_64.manylinux2010_x86_64.whl (3.3 MB)\n",
            "\u001b[K     |████████████████████████████████| 3.3 MB 58.9 MB/s \n",
            "\u001b[?25hCollecting pyyaml>=5.1\n",
            "  Downloading PyYAML-6.0-cp37-cp37m-manylinux_2_5_x86_64.manylinux1_x86_64.manylinux_2_12_x86_64.manylinux2010_x86_64.whl (596 kB)\n",
            "\u001b[K     |████████████████████████████████| 596 kB 67.9 MB/s \n",
            "\u001b[?25hCollecting sacremoses\n",
            "  Downloading sacremoses-0.0.46-py3-none-any.whl (895 kB)\n",
            "\u001b[K     |████████████████████████████████| 895 kB 67.9 MB/s \n",
            "\u001b[?25hRequirement already satisfied: regex!=2019.12.17 in /usr/local/lib/python3.7/dist-packages (from transformers) (2019.12.20)\n",
            "Requirement already satisfied: importlib-metadata in /usr/local/lib/python3.7/dist-packages (from transformers) (4.8.2)\n",
            "Requirement already satisfied: numpy>=1.17 in /usr/local/lib/python3.7/dist-packages (from transformers) (1.21.5)\n",
            "Requirement already satisfied: requests in /usr/local/lib/python3.7/dist-packages (from transformers) (2.23.0)\n",
            "Requirement already satisfied: tqdm>=4.27 in /usr/local/lib/python3.7/dist-packages (from transformers) (4.62.3)\n",
            "Collecting huggingface-hub<1.0,>=0.1.0\n",
            "  Downloading huggingface_hub-0.2.1-py3-none-any.whl (61 kB)\n",
            "\u001b[K     |████████████████████████████████| 61 kB 613 kB/s \n",
            "\u001b[?25hRequirement already satisfied: packaging>=20.0 in /usr/local/lib/python3.7/dist-packages (from transformers) (21.3)\n",
            "Requirement already satisfied: typing-extensions>=3.7.4.3 in /usr/local/lib/python3.7/dist-packages (from huggingface-hub<1.0,>=0.1.0->transformers) (3.10.0.2)\n",
            "Requirement already satisfied: pyparsing!=3.0.5,>=2.0.2 in /usr/local/lib/python3.7/dist-packages (from packaging>=20.0->transformers) (3.0.6)\n",
            "Requirement already satisfied: pandas in /usr/local/lib/python3.7/dist-packages (from datasets) (1.3.5)\n",
            "Requirement already satisfied: multiprocess in /usr/local/lib/python3.7/dist-packages (from datasets) (0.70.12.2)\n",
            "Collecting xxhash\n",
            "  Downloading xxhash-2.0.2-cp37-cp37m-manylinux2010_x86_64.whl (243 kB)\n",
            "\u001b[K     |████████████████████████████████| 243 kB 57.1 MB/s \n",
            "\u001b[?25hRequirement already satisfied: dill in /usr/local/lib/python3.7/dist-packages (from datasets) (0.3.4)\n",
            "Collecting aiohttp\n",
            "  Downloading aiohttp-3.8.1-cp37-cp37m-manylinux_2_5_x86_64.manylinux1_x86_64.manylinux_2_12_x86_64.manylinux2010_x86_64.whl (1.1 MB)\n",
            "\u001b[K     |████████████████████████████████| 1.1 MB 51.2 MB/s \n",
            "\u001b[?25hRequirement already satisfied: pyarrow!=4.0.0,>=3.0.0 in /usr/local/lib/python3.7/dist-packages (from datasets) (3.0.0)\n",
            "Collecting fsspec[http]>=2021.05.0\n",
            "  Downloading fsspec-2021.11.1-py3-none-any.whl (132 kB)\n",
            "\u001b[K     |████████████████████████████████| 132 kB 51.6 MB/s \n",
            "\u001b[?25hRequirement already satisfied: idna<3,>=2.5 in /usr/local/lib/python3.7/dist-packages (from requests->transformers) (2.10)\n",
            "Requirement already satisfied: urllib3!=1.25.0,!=1.25.1,<1.26,>=1.21.1 in /usr/local/lib/python3.7/dist-packages (from requests->transformers) (1.24.3)\n",
            "Requirement already satisfied: certifi>=2017.4.17 in /usr/local/lib/python3.7/dist-packages (from requests->transformers) (2021.10.8)\n",
            "Requirement already satisfied: chardet<4,>=3.0.2 in /usr/local/lib/python3.7/dist-packages (from requests->transformers) (3.0.4)\n",
            "Requirement already satisfied: charset-normalizer<3.0,>=2.0 in /usr/local/lib/python3.7/dist-packages (from aiohttp->datasets) (2.0.8)\n",
            "Collecting frozenlist>=1.1.1\n",
            "  Downloading frozenlist-1.2.0-cp37-cp37m-manylinux_2_5_x86_64.manylinux1_x86_64.manylinux_2_12_x86_64.manylinux2010_x86_64.whl (192 kB)\n",
            "\u001b[K     |████████████████████████████████| 192 kB 71.2 MB/s \n",
            "\u001b[?25hCollecting yarl<2.0,>=1.0\n",
            "  Downloading yarl-1.7.2-cp37-cp37m-manylinux_2_5_x86_64.manylinux1_x86_64.manylinux_2_12_x86_64.manylinux2010_x86_64.whl (271 kB)\n",
            "\u001b[K     |████████████████████████████████| 271 kB 72.5 MB/s \n",
            "\u001b[?25hRequirement already satisfied: attrs>=17.3.0 in /usr/local/lib/python3.7/dist-packages (from aiohttp->datasets) (21.2.0)\n",
            "Collecting async-timeout<5.0,>=4.0.0a3\n",
            "  Downloading async_timeout-4.0.2-py3-none-any.whl (5.8 kB)\n",
            "Collecting asynctest==0.13.0\n",
            "  Downloading asynctest-0.13.0-py3-none-any.whl (26 kB)\n",
            "Collecting multidict<7.0,>=4.5\n",
            "  Downloading multidict-5.2.0-cp37-cp37m-manylinux_2_5_x86_64.manylinux1_x86_64.manylinux_2_12_x86_64.manylinux2010_x86_64.whl (160 kB)\n",
            "\u001b[K     |████████████████████████████████| 160 kB 73.2 MB/s \n",
            "\u001b[?25hCollecting aiosignal>=1.1.2\n",
            "  Downloading aiosignal-1.2.0-py3-none-any.whl (8.2 kB)\n",
            "Requirement already satisfied: zipp>=0.5 in /usr/local/lib/python3.7/dist-packages (from importlib-metadata->transformers) (3.6.0)\n",
            "Requirement already satisfied: pytz>=2017.3 in /usr/local/lib/python3.7/dist-packages (from pandas->datasets) (2018.9)\n",
            "Requirement already satisfied: python-dateutil>=2.7.3 in /usr/local/lib/python3.7/dist-packages (from pandas->datasets) (2.8.2)\n",
            "Requirement already satisfied: six>=1.5 in /usr/local/lib/python3.7/dist-packages (from python-dateutil>=2.7.3->pandas->datasets) (1.15.0)\n",
            "Requirement already satisfied: joblib in /usr/local/lib/python3.7/dist-packages (from sacremoses->transformers) (1.1.0)\n",
            "Requirement already satisfied: click in /usr/local/lib/python3.7/dist-packages (from sacremoses->transformers) (7.1.2)\n",
            "Installing collected packages: multidict, frozenlist, yarl, asynctest, async-timeout, aiosignal, pyyaml, fsspec, aiohttp, xxhash, tokenizers, sacremoses, huggingface-hub, transformers, datasets\n",
            "  Attempting uninstall: pyyaml\n",
            "    Found existing installation: PyYAML 3.13\n",
            "    Uninstalling PyYAML-3.13:\n",
            "      Successfully uninstalled PyYAML-3.13\n",
            "Successfully installed aiohttp-3.8.1 aiosignal-1.2.0 async-timeout-4.0.2 asynctest-0.13.0 datasets-1.17.0 frozenlist-1.2.0 fsspec-2021.11.1 huggingface-hub-0.2.1 multidict-5.2.0 pyyaml-6.0 sacremoses-0.0.46 tokenizers-0.10.3 transformers-4.15.0 xxhash-2.0.2 yarl-1.7.2\n"
          ]
        }
      ]
    },
    {
      "cell_type": "code",
      "source": [
        "# 토크나이저 import\n",
        "from transformers import AutoTokenizer\n",
        "# 이 실습에서는 BERT의 다국어 버전 base 모델을 사용할 것이다. 다국어 버전에는 한국어도 지원한다.\n",
        "# large 모델도 존재하며, base보다 모델 크기가 크고 정확도가 더 높다. vs large\n",
        "# cased라는 말은 소문자로 normalized 되지 않았다는 뜻이다. vs uncased\n",
        "tokenizer = AutoTokenizer.from_pretrained(\"bert-base-multilingual-cased\")"
      ],
      "metadata": {
        "colab": {
          "base_uri": "https://localhost:8080/",
          "height": 145,
          "referenced_widgets": [
            "fbe136ebdd5c46dc8510616bd927d352",
            "18d4e3031a2f49ba8be33e675208ac1e",
            "6d401f10c9a24633b36c04712ba42d0e",
            "74d98417ad5142d69d87ff9b5f6e7bb9",
            "1fccdf4671d34d5d8d2117f237ee1c74",
            "6cbdab431e2e4ee1aec11c065b7f9365",
            "0e48997463e64d06bbc92daac7cce3cb",
            "5bf9db9694994742af2f883d677807ee",
            "ddbb35a46db84cee84fec9e3ec97698d",
            "1538f19c779e486aa6037859fb103443",
            "e573da32a2d248d1af573d7afc53d340",
            "be46c0e5467244609d37c70b70ffd4c5",
            "f7c0a93d115444d9906aba0cdc986bef",
            "a41ad9edb1e24f1d9291f6a1a05934be",
            "cc7cc32d63984ec7bf4afee9909ed1c5",
            "9fd040838b614c96bf3adc7f3f6f0ec3",
            "2c12e809db1a4a3b8ed228a18f9d475a",
            "3a798c7ac5f743afa6f1482bdb728d3e",
            "2f6d5da59eb64a919340d24db481d7b4",
            "e3a1193059ed477f9f4b93e97d872e86",
            "d10b6f79e35f4dad8aab60b4f5c0737e",
            "872da5012a6e40818b35dacb63f7f490",
            "49851bc182cd47cdbd624ec3df51b83a",
            "17d14aa69f1d479ca5d32ed479493a06",
            "3fd0b89c54344ba6804b09afe540f19c",
            "ec213603d1fd488487eb1ed1774a765f",
            "684d64ed85ff4c009877bd740735f036",
            "24a1414e6d2b4dd8b05006869c7e82e7",
            "a112810962c44aa0aef4f536c952b545",
            "5a1293bca05b4cc3846634d69440fcda",
            "32376bc0c2c84a7aa92957f4046b2b12",
            "3d3c56dbef2c4a2dbb135296c9526a48",
            "1c005abbf8ef40dc8137f6d6d5d9081c",
            "bef937997043499e96651799f127b5e9",
            "bc88752cd8534d60855cbf75c4662d81",
            "8d3ff987e7a743a693b21c97aefd5673",
            "eb5675fd3e674741accdc4aaf5f0f015",
            "ae71dfdcb6244d76964e7858b6728197",
            "a782b93d55ed4cdbbc0f8721cc34ff6b",
            "c10a66115a40442f873245d432891cfb",
            "06cea33f77ed48ff9a554323f3f308b0",
            "3c8532667ba240ee8a05e40c19666669",
            "49839039b5aa4348b88c72fc63f37b55",
            "c10b198856544d6ea390c4852c2911bf"
          ]
        },
        "id": "Ed255pz2cGpI",
        "outputId": "68d63ba2-8cbe-4c45-b918-88343d77ca07"
      },
      "execution_count": 77,
      "outputs": [
        {
          "output_type": "display_data",
          "data": {
            "application/vnd.jupyter.widget-view+json": {
              "model_id": "fbe136ebdd5c46dc8510616bd927d352",
              "version_minor": 0,
              "version_major": 2
            },
            "text/plain": [
              "Downloading:   0%|          | 0.00/29.0 [00:00<?, ?B/s]"
            ]
          },
          "metadata": {}
        },
        {
          "output_type": "display_data",
          "data": {
            "application/vnd.jupyter.widget-view+json": {
              "model_id": "be46c0e5467244609d37c70b70ffd4c5",
              "version_minor": 0,
              "version_major": 2
            },
            "text/plain": [
              "Downloading:   0%|          | 0.00/625 [00:00<?, ?B/s]"
            ]
          },
          "metadata": {}
        },
        {
          "output_type": "display_data",
          "data": {
            "application/vnd.jupyter.widget-view+json": {
              "model_id": "49851bc182cd47cdbd624ec3df51b83a",
              "version_minor": 0,
              "version_major": 2
            },
            "text/plain": [
              "Downloading:   0%|          | 0.00/972k [00:00<?, ?B/s]"
            ]
          },
          "metadata": {}
        },
        {
          "output_type": "display_data",
          "data": {
            "application/vnd.jupyter.widget-view+json": {
              "model_id": "bef937997043499e96651799f127b5e9",
              "version_minor": 0,
              "version_major": 2
            },
            "text/plain": [
              "Downloading:   0%|          | 0.00/1.87M [00:00<?, ?B/s]"
            ]
          },
          "metadata": {}
        }
      ]
    },
    {
      "cell_type": "code",
      "source": [
        "# 시험 삼아 무작위의 글을 토크나이징 해보자\n",
        "# 토크나이징 결과로 만들어진 단어 인덱스의 리스트가 input_ids에 담긴다.\n",
        "print(df_train['Review Text'].loc[0])\n",
        "tokenizer(df_train['Review Text'].loc[0], padding=\"max_length\", truncation=True)\n",
        "# 각각의 integer는 몇번째 vocabulary인지 디스플레이\n",
        "# 예를들어, Absolutely 는 101번째"
      ],
      "metadata": {
        "colab": {
          "base_uri": "https://localhost:8080/"
        },
        "id": "C1ZDxoCqcgdc",
        "outputId": "bf46d575-e654-40d2-da7d-8c37e995ab06"
      },
      "execution_count": 78,
      "outputs": [
        {
          "output_type": "stream",
          "name": "stdout",
          "text": [
            "Absolutely wonderful - silky and sexy and comfortable\n"
          ]
        },
        {
          "output_type": "execute_result",
          "data": {
            "text/plain": [
              "{'input_ids': [101, 108394, 10454, 11367, 11304, 14446, 118, 33694, 11445, 10111, 18549, 10157, 10111, 10212, 81587, 102, 0, 0, 0, 0, 0, 0, 0, 0, 0, 0, 0, 0, 0, 0, 0, 0, 0, 0, 0, 0, 0, 0, 0, 0, 0, 0, 0, 0, 0, 0, 0, 0, 0, 0, 0, 0, 0, 0, 0, 0, 0, 0, 0, 0, 0, 0, 0, 0, 0, 0, 0, 0, 0, 0, 0, 0, 0, 0, 0, 0, 0, 0, 0, 0, 0, 0, 0, 0, 0, 0, 0, 0, 0, 0, 0, 0, 0, 0, 0, 0, 0, 0, 0, 0, 0, 0, 0, 0, 0, 0, 0, 0, 0, 0, 0, 0, 0, 0, 0, 0, 0, 0, 0, 0, 0, 0, 0, 0, 0, 0, 0, 0, 0, 0, 0, 0, 0, 0, 0, 0, 0, 0, 0, 0, 0, 0, 0, 0, 0, 0, 0, 0, 0, 0, 0, 0, 0, 0, 0, 0, 0, 0, 0, 0, 0, 0, 0, 0, 0, 0, 0, 0, 0, 0, 0, 0, 0, 0, 0, 0, 0, 0, 0, 0, 0, 0, 0, 0, 0, 0, 0, 0, 0, 0, 0, 0, 0, 0, 0, 0, 0, 0, 0, 0, 0, 0, 0, 0, 0, 0, 0, 0, 0, 0, 0, 0, 0, 0, 0, 0, 0, 0, 0, 0, 0, 0, 0, 0, 0, 0, 0, 0, 0, 0, 0, 0, 0, 0, 0, 0, 0, 0, 0, 0, 0, 0, 0, 0, 0, 0, 0, 0, 0, 0, 0, 0, 0, 0, 0, 0, 0, 0, 0, 0, 0, 0, 0, 0, 0, 0, 0, 0, 0, 0, 0, 0, 0, 0, 0, 0, 0, 0, 0, 0, 0, 0, 0, 0, 0, 0, 0, 0, 0, 0, 0, 0, 0, 0, 0, 0, 0, 0, 0, 0, 0, 0, 0, 0, 0, 0, 0, 0, 0, 0, 0, 0, 0, 0, 0, 0, 0, 0, 0, 0, 0, 0, 0, 0, 0, 0, 0, 0, 0, 0, 0, 0, 0, 0, 0, 0, 0, 0, 0, 0, 0, 0, 0, 0, 0, 0, 0, 0, 0, 0, 0, 0, 0, 0, 0, 0, 0, 0, 0, 0, 0, 0, 0, 0, 0, 0, 0, 0, 0, 0, 0, 0, 0, 0, 0, 0, 0, 0, 0, 0, 0, 0, 0, 0, 0, 0, 0, 0, 0, 0, 0, 0, 0, 0, 0, 0, 0, 0, 0, 0, 0, 0, 0, 0, 0, 0, 0, 0, 0, 0, 0, 0, 0, 0, 0, 0, 0, 0, 0, 0, 0, 0, 0, 0, 0, 0, 0, 0, 0, 0, 0, 0, 0, 0, 0, 0, 0, 0, 0, 0, 0, 0, 0, 0, 0, 0, 0, 0, 0, 0, 0, 0, 0, 0, 0, 0, 0, 0, 0, 0, 0, 0, 0, 0, 0, 0, 0, 0, 0, 0, 0, 0, 0, 0, 0, 0, 0, 0, 0, 0, 0, 0, 0, 0, 0, 0, 0, 0, 0, 0, 0, 0, 0, 0, 0, 0, 0, 0, 0, 0, 0, 0, 0, 0, 0, 0, 0, 0, 0, 0, 0, 0], 'token_type_ids': [0, 0, 0, 0, 0, 0, 0, 0, 0, 0, 0, 0, 0, 0, 0, 0, 0, 0, 0, 0, 0, 0, 0, 0, 0, 0, 0, 0, 0, 0, 0, 0, 0, 0, 0, 0, 0, 0, 0, 0, 0, 0, 0, 0, 0, 0, 0, 0, 0, 0, 0, 0, 0, 0, 0, 0, 0, 0, 0, 0, 0, 0, 0, 0, 0, 0, 0, 0, 0, 0, 0, 0, 0, 0, 0, 0, 0, 0, 0, 0, 0, 0, 0, 0, 0, 0, 0, 0, 0, 0, 0, 0, 0, 0, 0, 0, 0, 0, 0, 0, 0, 0, 0, 0, 0, 0, 0, 0, 0, 0, 0, 0, 0, 0, 0, 0, 0, 0, 0, 0, 0, 0, 0, 0, 0, 0, 0, 0, 0, 0, 0, 0, 0, 0, 0, 0, 0, 0, 0, 0, 0, 0, 0, 0, 0, 0, 0, 0, 0, 0, 0, 0, 0, 0, 0, 0, 0, 0, 0, 0, 0, 0, 0, 0, 0, 0, 0, 0, 0, 0, 0, 0, 0, 0, 0, 0, 0, 0, 0, 0, 0, 0, 0, 0, 0, 0, 0, 0, 0, 0, 0, 0, 0, 0, 0, 0, 0, 0, 0, 0, 0, 0, 0, 0, 0, 0, 0, 0, 0, 0, 0, 0, 0, 0, 0, 0, 0, 0, 0, 0, 0, 0, 0, 0, 0, 0, 0, 0, 0, 0, 0, 0, 0, 0, 0, 0, 0, 0, 0, 0, 0, 0, 0, 0, 0, 0, 0, 0, 0, 0, 0, 0, 0, 0, 0, 0, 0, 0, 0, 0, 0, 0, 0, 0, 0, 0, 0, 0, 0, 0, 0, 0, 0, 0, 0, 0, 0, 0, 0, 0, 0, 0, 0, 0, 0, 0, 0, 0, 0, 0, 0, 0, 0, 0, 0, 0, 0, 0, 0, 0, 0, 0, 0, 0, 0, 0, 0, 0, 0, 0, 0, 0, 0, 0, 0, 0, 0, 0, 0, 0, 0, 0, 0, 0, 0, 0, 0, 0, 0, 0, 0, 0, 0, 0, 0, 0, 0, 0, 0, 0, 0, 0, 0, 0, 0, 0, 0, 0, 0, 0, 0, 0, 0, 0, 0, 0, 0, 0, 0, 0, 0, 0, 0, 0, 0, 0, 0, 0, 0, 0, 0, 0, 0, 0, 0, 0, 0, 0, 0, 0, 0, 0, 0, 0, 0, 0, 0, 0, 0, 0, 0, 0, 0, 0, 0, 0, 0, 0, 0, 0, 0, 0, 0, 0, 0, 0, 0, 0, 0, 0, 0, 0, 0, 0, 0, 0, 0, 0, 0, 0, 0, 0, 0, 0, 0, 0, 0, 0, 0, 0, 0, 0, 0, 0, 0, 0, 0, 0, 0, 0, 0, 0, 0, 0, 0, 0, 0, 0, 0, 0, 0, 0, 0, 0, 0, 0, 0, 0, 0, 0, 0, 0, 0, 0, 0, 0, 0, 0, 0, 0, 0, 0, 0, 0, 0, 0, 0, 0, 0, 0, 0, 0, 0, 0, 0, 0, 0, 0, 0, 0, 0, 0, 0, 0, 0, 0, 0, 0, 0, 0, 0, 0, 0, 0, 0, 0, 0, 0, 0, 0, 0, 0], 'attention_mask': [1, 1, 1, 1, 1, 1, 1, 1, 1, 1, 1, 1, 1, 1, 1, 1, 0, 0, 0, 0, 0, 0, 0, 0, 0, 0, 0, 0, 0, 0, 0, 0, 0, 0, 0, 0, 0, 0, 0, 0, 0, 0, 0, 0, 0, 0, 0, 0, 0, 0, 0, 0, 0, 0, 0, 0, 0, 0, 0, 0, 0, 0, 0, 0, 0, 0, 0, 0, 0, 0, 0, 0, 0, 0, 0, 0, 0, 0, 0, 0, 0, 0, 0, 0, 0, 0, 0, 0, 0, 0, 0, 0, 0, 0, 0, 0, 0, 0, 0, 0, 0, 0, 0, 0, 0, 0, 0, 0, 0, 0, 0, 0, 0, 0, 0, 0, 0, 0, 0, 0, 0, 0, 0, 0, 0, 0, 0, 0, 0, 0, 0, 0, 0, 0, 0, 0, 0, 0, 0, 0, 0, 0, 0, 0, 0, 0, 0, 0, 0, 0, 0, 0, 0, 0, 0, 0, 0, 0, 0, 0, 0, 0, 0, 0, 0, 0, 0, 0, 0, 0, 0, 0, 0, 0, 0, 0, 0, 0, 0, 0, 0, 0, 0, 0, 0, 0, 0, 0, 0, 0, 0, 0, 0, 0, 0, 0, 0, 0, 0, 0, 0, 0, 0, 0, 0, 0, 0, 0, 0, 0, 0, 0, 0, 0, 0, 0, 0, 0, 0, 0, 0, 0, 0, 0, 0, 0, 0, 0, 0, 0, 0, 0, 0, 0, 0, 0, 0, 0, 0, 0, 0, 0, 0, 0, 0, 0, 0, 0, 0, 0, 0, 0, 0, 0, 0, 0, 0, 0, 0, 0, 0, 0, 0, 0, 0, 0, 0, 0, 0, 0, 0, 0, 0, 0, 0, 0, 0, 0, 0, 0, 0, 0, 0, 0, 0, 0, 0, 0, 0, 0, 0, 0, 0, 0, 0, 0, 0, 0, 0, 0, 0, 0, 0, 0, 0, 0, 0, 0, 0, 0, 0, 0, 0, 0, 0, 0, 0, 0, 0, 0, 0, 0, 0, 0, 0, 0, 0, 0, 0, 0, 0, 0, 0, 0, 0, 0, 0, 0, 0, 0, 0, 0, 0, 0, 0, 0, 0, 0, 0, 0, 0, 0, 0, 0, 0, 0, 0, 0, 0, 0, 0, 0, 0, 0, 0, 0, 0, 0, 0, 0, 0, 0, 0, 0, 0, 0, 0, 0, 0, 0, 0, 0, 0, 0, 0, 0, 0, 0, 0, 0, 0, 0, 0, 0, 0, 0, 0, 0, 0, 0, 0, 0, 0, 0, 0, 0, 0, 0, 0, 0, 0, 0, 0, 0, 0, 0, 0, 0, 0, 0, 0, 0, 0, 0, 0, 0, 0, 0, 0, 0, 0, 0, 0, 0, 0, 0, 0, 0, 0, 0, 0, 0, 0, 0, 0, 0, 0, 0, 0, 0, 0, 0, 0, 0, 0, 0, 0, 0, 0, 0, 0, 0, 0, 0, 0, 0, 0, 0, 0, 0, 0, 0, 0, 0, 0, 0, 0, 0, 0, 0, 0, 0, 0, 0, 0, 0, 0, 0, 0, 0, 0, 0, 0, 0, 0, 0, 0, 0, 0, 0, 0, 0, 0, 0, 0, 0, 0, 0, 0, 0, 0, 0]}"
            ]
          },
          "metadata": {},
          "execution_count": 78
        }
      ]
    },
    {
      "cell_type": "code",
      "source": [
        "# 토크나이징을 여러번 반복하기 쉽게 함수로 만든다.\n",
        "def tokenize_function(examples):\n",
        "    return tokenizer(examples[\"text\"], padding=\"max_length\", truncation=True)"
      ],
      "metadata": {
        "id": "RZzLBUFCgXu3"
      },
      "execution_count": 79,
      "outputs": []
    },
    {
      "cell_type": "code",
      "source": [
        "df_train[['Review Text','Label']].head()"
      ],
      "metadata": {
        "colab": {
          "base_uri": "https://localhost:8080/",
          "height": 206
        },
        "id": "zXWmw0sQwmHL",
        "outputId": "ef2a3437-352a-4662-ba7e-1baf98f371fc"
      },
      "execution_count": 82,
      "outputs": [
        {
          "output_type": "execute_result",
          "data": {
            "text/html": [
              "\n",
              "  <div id=\"df-020fc592-801a-4cd8-bff4-71b21671a532\">\n",
              "    <div class=\"colab-df-container\">\n",
              "      <div>\n",
              "<style scoped>\n",
              "    .dataframe tbody tr th:only-of-type {\n",
              "        vertical-align: middle;\n",
              "    }\n",
              "\n",
              "    .dataframe tbody tr th {\n",
              "        vertical-align: top;\n",
              "    }\n",
              "\n",
              "    .dataframe thead th {\n",
              "        text-align: right;\n",
              "    }\n",
              "</style>\n",
              "<table border=\"1\" class=\"dataframe\">\n",
              "  <thead>\n",
              "    <tr style=\"text-align: right;\">\n",
              "      <th></th>\n",
              "      <th>Review Text</th>\n",
              "      <th>Label</th>\n",
              "    </tr>\n",
              "  </thead>\n",
              "  <tbody>\n",
              "    <tr>\n",
              "      <th>9616</th>\n",
              "      <td>I love this shirt, i had my eye on it for awhi...</td>\n",
              "      <td>True</td>\n",
              "    </tr>\n",
              "    <tr>\n",
              "      <th>1352</th>\n",
              "      <td>I found this dress at my local retailer must b...</td>\n",
              "      <td>True</td>\n",
              "    </tr>\n",
              "    <tr>\n",
              "      <th>17500</th>\n",
              "      <td>I wanted to love this skirt. i love high-waist...</td>\n",
              "      <td>False</td>\n",
              "    </tr>\n",
              "    <tr>\n",
              "      <th>370</th>\n",
              "      <td>I love this top. i got it on sale and am so gl...</td>\n",
              "      <td>True</td>\n",
              "    </tr>\n",
              "    <tr>\n",
              "      <th>23208</th>\n",
              "      <td>First off, let me say that i am 52 and don't o...</td>\n",
              "      <td>True</td>\n",
              "    </tr>\n",
              "  </tbody>\n",
              "</table>\n",
              "</div>\n",
              "      <button class=\"colab-df-convert\" onclick=\"convertToInteractive('df-020fc592-801a-4cd8-bff4-71b21671a532')\"\n",
              "              title=\"Convert this dataframe to an interactive table.\"\n",
              "              style=\"display:none;\">\n",
              "        \n",
              "  <svg xmlns=\"http://www.w3.org/2000/svg\" height=\"24px\"viewBox=\"0 0 24 24\"\n",
              "       width=\"24px\">\n",
              "    <path d=\"M0 0h24v24H0V0z\" fill=\"none\"/>\n",
              "    <path d=\"M18.56 5.44l.94 2.06.94-2.06 2.06-.94-2.06-.94-.94-2.06-.94 2.06-2.06.94zm-11 1L8.5 8.5l.94-2.06 2.06-.94-2.06-.94L8.5 2.5l-.94 2.06-2.06.94zm10 10l.94 2.06.94-2.06 2.06-.94-2.06-.94-.94-2.06-.94 2.06-2.06.94z\"/><path d=\"M17.41 7.96l-1.37-1.37c-.4-.4-.92-.59-1.43-.59-.52 0-1.04.2-1.43.59L10.3 9.45l-7.72 7.72c-.78.78-.78 2.05 0 2.83L4 21.41c.39.39.9.59 1.41.59.51 0 1.02-.2 1.41-.59l7.78-7.78 2.81-2.81c.8-.78.8-2.07 0-2.86zM5.41 20L4 18.59l7.72-7.72 1.47 1.35L5.41 20z\"/>\n",
              "  </svg>\n",
              "      </button>\n",
              "      \n",
              "  <style>\n",
              "    .colab-df-container {\n",
              "      display:flex;\n",
              "      flex-wrap:wrap;\n",
              "      gap: 12px;\n",
              "    }\n",
              "\n",
              "    .colab-df-convert {\n",
              "      background-color: #E8F0FE;\n",
              "      border: none;\n",
              "      border-radius: 50%;\n",
              "      cursor: pointer;\n",
              "      display: none;\n",
              "      fill: #1967D2;\n",
              "      height: 32px;\n",
              "      padding: 0 0 0 0;\n",
              "      width: 32px;\n",
              "    }\n",
              "\n",
              "    .colab-df-convert:hover {\n",
              "      background-color: #E2EBFA;\n",
              "      box-shadow: 0px 1px 2px rgba(60, 64, 67, 0.3), 0px 1px 3px 1px rgba(60, 64, 67, 0.15);\n",
              "      fill: #174EA6;\n",
              "    }\n",
              "\n",
              "    [theme=dark] .colab-df-convert {\n",
              "      background-color: #3B4455;\n",
              "      fill: #D2E3FC;\n",
              "    }\n",
              "\n",
              "    [theme=dark] .colab-df-convert:hover {\n",
              "      background-color: #434B5C;\n",
              "      box-shadow: 0px 1px 3px 1px rgba(0, 0, 0, 0.15);\n",
              "      filter: drop-shadow(0px 1px 2px rgba(0, 0, 0, 0.3));\n",
              "      fill: #FFFFFF;\n",
              "    }\n",
              "  </style>\n",
              "\n",
              "      <script>\n",
              "        const buttonEl =\n",
              "          document.querySelector('#df-020fc592-801a-4cd8-bff4-71b21671a532 button.colab-df-convert');\n",
              "        buttonEl.style.display =\n",
              "          google.colab.kernel.accessAllowed ? 'block' : 'none';\n",
              "\n",
              "        async function convertToInteractive(key) {\n",
              "          const element = document.querySelector('#df-020fc592-801a-4cd8-bff4-71b21671a532');\n",
              "          const dataTable =\n",
              "            await google.colab.kernel.invokeFunction('convertToInteractive',\n",
              "                                                     [key], {});\n",
              "          if (!dataTable) return;\n",
              "\n",
              "          const docLinkHtml = 'Like what you see? Visit the ' +\n",
              "            '<a target=\"_blank\" href=https://colab.research.google.com/notebooks/data_table.ipynb>data table notebook</a>'\n",
              "            + ' to learn more about interactive tables.';\n",
              "          element.innerHTML = '';\n",
              "          dataTable['output_type'] = 'display_data';\n",
              "          await google.colab.output.renderOutput(dataTable, element);\n",
              "          const docLink = document.createElement('div');\n",
              "          docLink.innerHTML = docLinkHtml;\n",
              "          element.appendChild(docLink);\n",
              "        }\n",
              "      </script>\n",
              "    </div>\n",
              "  </div>\n",
              "  "
            ],
            "text/plain": [
              "                                             Review Text  Label\n",
              "9616   I love this shirt, i had my eye on it for awhi...   True\n",
              "1352   I found this dress at my local retailer must b...   True\n",
              "17500  I wanted to love this skirt. i love high-waist...  False\n",
              "370    I love this top. i got it on sale and am so gl...   True\n",
              "23208  First off, let me say that i am 52 and don't o...   True"
            ]
          },
          "metadata": {},
          "execution_count": 82
        }
      ]
    },
    {
      "cell_type": "code",
      "source": [
        "# datasets 라이브러리를 불러온다.\n",
        "# 허깅페이스에서 개발한 자연어 등 여러 데이터셋을 다루기 위한 라이브러리이다.\n",
        "from datasets import Dataset\n",
        "\n",
        "# 리뷰 텍스트와 레이블로 데이터셋을 만든다.\n",
        "dataset_train = Dataset.from_dict({'text': df_train['Review Text'], 'label': df_train['Label']})\n",
        "dataset_test = Dataset.from_dict({'text': df_test['Review Text'], 'label': df_test['Label']})"
      ],
      "metadata": {
        "id": "fn8S_rJBdyoZ"
      },
      "execution_count": 80,
      "outputs": []
    },
    {
      "cell_type": "code",
      "source": [
        "# dataset의 map 함수를 이용해 토크나이징 함수를 적용한다.\n",
        "dataset_train_tokenized = dataset_train.map(tokenize_function, batched=True)\n",
        "dataset_test_tokenized = dataset_test.map(tokenize_function, batched=True)"
      ],
      "metadata": {
        "colab": {
          "base_uri": "https://localhost:8080/",
          "height": 81,
          "referenced_widgets": [
            "05a4f10deb8b41fc98a44615327b63d4",
            "a80852e8b3ae4df5aa55d8c875090445",
            "5755513335e740489e167fcad01d6b35",
            "bcb5b29b830c4181b7315560bcf945f8",
            "244308259edc4c5c8e93a2eba6b0488e",
            "130adb650b4444479e1f3d432c9a2edc",
            "b73f4cd0fe6d4a1e977972e70cc9676d",
            "4788660426b54c94b7f5220d78c69624",
            "f80211138f8b4d068d56f37c215ba785",
            "b60f396ef9b54fe7863660638bc5c03f",
            "8aba0a402db94baa9df1dbd8c1eac68b",
            "58a29c5d46ee47c483a5b02d74ec547a",
            "fdef78db6f9144cb8fa2b153777de405",
            "03b32cf030874decabd580c814654b99",
            "05633b1635bb4650b133cbe40e5ff04b",
            "84b9d178077e470d8046ed7957957b57",
            "65dd40f1cfd24f3d93d64bbe3c909542",
            "51ee3a72a1844461b1932b9d8eaa48d0",
            "4fea31316e7c41488da61f4523d3eb72",
            "c2768a15c9494c0d907235942347d7cf",
            "834ca47c646f4ae7aed18ffc486ea628",
            "d502d4ea7ab04b0ab4084a6ed84e4497"
          ]
        },
        "id": "RX6PxMHngm8h",
        "outputId": "ae8e96fe-7720-4082-9689-24cfc064a7f3"
      },
      "execution_count": 83,
      "outputs": [
        {
          "output_type": "display_data",
          "data": {
            "application/vnd.jupyter.widget-view+json": {
              "model_id": "05a4f10deb8b41fc98a44615327b63d4",
              "version_minor": 0,
              "version_major": 2
            },
            "text/plain": [
              "  0%|          | 0/17 [00:00<?, ?ba/s]"
            ]
          },
          "metadata": {}
        },
        {
          "output_type": "display_data",
          "data": {
            "application/vnd.jupyter.widget-view+json": {
              "model_id": "58a29c5d46ee47c483a5b02d74ec547a",
              "version_minor": 0,
              "version_major": 2
            },
            "text/plain": [
              "  0%|          | 0/6 [00:00<?, ?ba/s]"
            ]
          },
          "metadata": {}
        }
      ]
    },
    {
      "cell_type": "code",
      "source": [
        "# 모델을 불러온다.\n",
        "# 분류용으로 불러오며, 분류하는 레이블은 2개이다. -> hyper params : num)labels\n",
        "from transformers import AutoModelForSequenceClassification\n",
        "\n",
        "model = AutoModelForSequenceClassification.from_pretrained(\"bert-base-multilingual-cased\", num_labels=2)"
      ],
      "metadata": {
        "colab": {
          "base_uri": "https://localhost:8080/",
          "height": 161,
          "referenced_widgets": [
            "87d8ed90c77e4ee0a4461f8c9030ae1a",
            "800e39da09f747eab66b1bd2a0cb9901",
            "ce8cf3ccc50c4505bf20b980a40c66a0",
            "13ec3297144d4377ae0e52818d0eded6",
            "b90b28701c32464bad7e236982622df4",
            "d5b485f80303459c980a21421f770cc3",
            "4cfcbc7d2b594c53989ddb8c6f36f440",
            "19bf2c620a334ad6ac1d94760aab09df",
            "47390d77d45c4613baf9a8dc892aae00",
            "5839f56212cc4a8ca7474eaa74011313",
            "613a4ea15a254a6facf244ab90812a99"
          ]
        },
        "id": "vcMCcmQScuAl",
        "outputId": "ddc1265c-1c51-4be9-ec35-cd8b47543580"
      },
      "execution_count": 84,
      "outputs": [
        {
          "output_type": "display_data",
          "data": {
            "application/vnd.jupyter.widget-view+json": {
              "model_id": "87d8ed90c77e4ee0a4461f8c9030ae1a",
              "version_minor": 0,
              "version_major": 2
            },
            "text/plain": [
              "Downloading:   0%|          | 0.00/681M [00:00<?, ?B/s]"
            ]
          },
          "metadata": {}
        },
        {
          "output_type": "stream",
          "name": "stderr",
          "text": [
            "Some weights of the model checkpoint at bert-base-multilingual-cased were not used when initializing BertForSequenceClassification: ['cls.predictions.decoder.weight', 'cls.predictions.transform.LayerNorm.bias', 'cls.predictions.transform.dense.weight', 'cls.predictions.transform.LayerNorm.weight', 'cls.predictions.bias', 'cls.seq_relationship.bias', 'cls.predictions.transform.dense.bias', 'cls.seq_relationship.weight']\n",
            "- This IS expected if you are initializing BertForSequenceClassification from the checkpoint of a model trained on another task or with another architecture (e.g. initializing a BertForSequenceClassification model from a BertForPreTraining model).\n",
            "- This IS NOT expected if you are initializing BertForSequenceClassification from the checkpoint of a model that you expect to be exactly identical (initializing a BertForSequenceClassification model from a BertForSequenceClassification model).\n",
            "Some weights of BertForSequenceClassification were not initialized from the model checkpoint at bert-base-multilingual-cased and are newly initialized: ['classifier.weight', 'classifier.bias']\n",
            "You should probably TRAIN this model on a down-stream task to be able to use it for predictions and inference.\n"
          ]
        }
      ]
    },
    {
      "cell_type": "code",
      "source": [
        "# 모델을 학습시키는 인자(arguments)를 정의하는 클래스이다.\n",
        "# 데이터셋 전체를 한번 학습하는 것을 epoch이라 하며, 보통 여러 epoch을 돌며 모델을 학습시킨다.\n",
        "# 빠른 결과를 보기 위해 1 epoch만 학습한다.\n",
        "from transformers import TrainingArguments\n",
        "\n",
        "training_args = TrainingArguments(\"runs\", num_train_epochs=1)"
      ],
      "metadata": {
        "id": "nFHVoyXJc00Y"
      },
      "execution_count": 85,
      "outputs": []
    },
    {
      "cell_type": "code",
      "source": [
        "# 정확도를 계산하기 위한 함수를 정의한다.\n",
        "\n",
        "import numpy as np\n",
        "from datasets import load_metric\n",
        "\n",
        "metric = load_metric(\"accuracy\")\n",
        "\n",
        "def compute_metrics(eval_pred):\n",
        "    logits, labels = eval_pred\n",
        "    predictions = np.argmax(logits, axis=-1)\n",
        "    return metric.compute(predictions=predictions, references=labels)\n"
      ],
      "metadata": {
        "id": "FaL8hijXdGT6",
        "colab": {
          "base_uri": "https://localhost:8080/",
          "height": 49,
          "referenced_widgets": [
            "b9e237265e544b71840b6f7130260d3f",
            "21ed9af2dd224c47aee45a0186aefd55",
            "4c94a7d6c08248d9837971bda777d072",
            "a454bf56bd314ba793a3a4f01ee6b1aa",
            "01e32d8b1463461b9cca12399909fe2d",
            "4f2fdcf1d15742ad9827f95daf966920",
            "6ea4f9dc31d944ebb2d72ee4038de3d8",
            "5c3fd35c18464633b06044fa3e91349e",
            "553c09cf2bd5452d97171ddf331a82ba",
            "89397a5d754d44508fed536622a73ec4",
            "ab2d514363bc46e790cf51db7c5bb4f1"
          ]
        },
        "outputId": "7b4ac658-b485-401f-eebb-e6884d8360c9"
      },
      "execution_count": 86,
      "outputs": [
        {
          "output_type": "display_data",
          "data": {
            "application/vnd.jupyter.widget-view+json": {
              "model_id": "b9e237265e544b71840b6f7130260d3f",
              "version_minor": 0,
              "version_major": 2
            },
            "text/plain": [
              "Downloading:   0%|          | 0.00/1.42k [00:00<?, ?B/s]"
            ]
          },
          "metadata": {}
        }
      ]
    },
    {
      "cell_type": "code",
      "source": [
        "# 모델을 학습시키는 Trainer 클래스를 정의한다.\n",
        "# 모델과 데이터셋, 정확도 측정 함수가 들어간다.\n",
        "\n",
        "from transformers import Trainer\n",
        "\n",
        "trainer = Trainer(\n",
        "    model=model,\n",
        "    args=training_args,\n",
        "    train_dataset=dataset_train_tokenized,\n",
        "    eval_dataset=dataset_test_tokenized,\n",
        "    compute_metrics=compute_metrics,\n",
        ")"
      ],
      "metadata": {
        "id": "LHmY4-oWc5GQ"
      },
      "execution_count": 87,
      "outputs": []
    },
    {
      "cell_type": "code",
      "source": [
        "# 학습을 진행한다.\n",
        "# GPU 서버에서 1 epoch을 학습하면 약 1시간이 걸린다.\n",
        "trainer.train()"
      ],
      "metadata": {
        "colab": {
          "base_uri": "https://localhost:8080/",
          "height": 699
        },
        "id": "V2Hye7zpdKdm",
        "outputId": "ac23834c-ee14-4cb7-ad86-39f4e8d5d17e"
      },
      "execution_count": 88,
      "outputs": [
        {
          "output_type": "stream",
          "name": "stderr",
          "text": [
            "The following columns in the training set  don't have a corresponding argument in `BertForSequenceClassification.forward` and have been ignored: text.\n",
            "***** Running training *****\n",
            "  Num examples = 16980\n",
            "  Num Epochs = 1\n",
            "  Instantaneous batch size per device = 8\n",
            "  Total train batch size (w. parallel, distributed & accumulation) = 8\n",
            "  Gradient Accumulation steps = 1\n",
            "  Total optimization steps = 2123\n"
          ]
        },
        {
          "output_type": "display_data",
          "data": {
            "text/html": [
              "\n",
              "    <div>\n",
              "      \n",
              "      <progress value='2123' max='2123' style='width:300px; height:20px; vertical-align: middle;'></progress>\n",
              "      [2123/2123 17:26, Epoch 1/1]\n",
              "    </div>\n",
              "    <table border=\"1\" class=\"dataframe\">\n",
              "  <thead>\n",
              "    <tr style=\"text-align: left;\">\n",
              "      <th>Step</th>\n",
              "      <th>Training Loss</th>\n",
              "    </tr>\n",
              "  </thead>\n",
              "  <tbody>\n",
              "    <tr>\n",
              "      <td>500</td>\n",
              "      <td>0.638100</td>\n",
              "    </tr>\n",
              "    <tr>\n",
              "      <td>1000</td>\n",
              "      <td>0.582700</td>\n",
              "    </tr>\n",
              "    <tr>\n",
              "      <td>1500</td>\n",
              "      <td>0.527600</td>\n",
              "    </tr>\n",
              "    <tr>\n",
              "      <td>2000</td>\n",
              "      <td>0.488600</td>\n",
              "    </tr>\n",
              "  </tbody>\n",
              "</table><p>"
            ],
            "text/plain": [
              "<IPython.core.display.HTML object>"
            ]
          },
          "metadata": {}
        },
        {
          "output_type": "stream",
          "name": "stderr",
          "text": [
            "Saving model checkpoint to runs/checkpoint-500\n",
            "Configuration saved in runs/checkpoint-500/config.json\n",
            "Model weights saved in runs/checkpoint-500/pytorch_model.bin\n",
            "Saving model checkpoint to runs/checkpoint-1000\n",
            "Configuration saved in runs/checkpoint-1000/config.json\n",
            "Model weights saved in runs/checkpoint-1000/pytorch_model.bin\n",
            "Saving model checkpoint to runs/checkpoint-1500\n",
            "Configuration saved in runs/checkpoint-1500/config.json\n",
            "Model weights saved in runs/checkpoint-1500/pytorch_model.bin\n",
            "Saving model checkpoint to runs/checkpoint-2000\n",
            "Configuration saved in runs/checkpoint-2000/config.json\n",
            "Model weights saved in runs/checkpoint-2000/pytorch_model.bin\n",
            "\n",
            "\n",
            "Training completed. Do not forget to share your model on huggingface.co/models =)\n",
            "\n",
            "\n"
          ]
        },
        {
          "output_type": "execute_result",
          "data": {
            "text/plain": [
              "TrainOutput(global_step=2123, training_loss=0.5538239283658287, metrics={'train_runtime': 1047.4812, 'train_samples_per_second': 16.21, 'train_steps_per_second': 2.027, 'total_flos': 4467625720012800.0, 'train_loss': 0.5538239283658287, 'epoch': 1.0})"
            ]
          },
          "metadata": {},
          "execution_count": 88
        }
      ]
    },
    {
      "cell_type": "code",
      "source": [
        "# 학습이 끝난 모델을 평가한다.\n",
        "# 약 80%의 정확도를 기록하는 것을 볼 수 있다.\n",
        "trainer.evaluate()"
      ],
      "metadata": {
        "colab": {
          "base_uri": "https://localhost:8080/",
          "height": 241
        },
        "id": "v3S9SUardFfO",
        "outputId": "cc59cf3c-e4e5-45d4-acee-aba82c6eb802"
      },
      "execution_count": 89,
      "outputs": [
        {
          "output_type": "stream",
          "name": "stderr",
          "text": [
            "The following columns in the evaluation set  don't have a corresponding argument in `BertForSequenceClassification.forward` and have been ignored: text.\n",
            "***** Running Evaluation *****\n",
            "  Num examples = 5661\n",
            "  Batch size = 8\n"
          ]
        },
        {
          "output_type": "display_data",
          "data": {
            "text/html": [
              "\n",
              "    <div>\n",
              "      \n",
              "      <progress value='708' max='708' style='width:300px; height:20px; vertical-align: middle;'></progress>\n",
              "      [708/708 01:52]\n",
              "    </div>\n",
              "    "
            ],
            "text/plain": [
              "<IPython.core.display.HTML object>"
            ]
          },
          "metadata": {}
        },
        {
          "output_type": "execute_result",
          "data": {
            "text/plain": [
              "{'epoch': 1.0,\n",
              " 'eval_accuracy': 0.7929694400282635,\n",
              " 'eval_loss': 0.4777405560016632,\n",
              " 'eval_runtime': 112.6355,\n",
              " 'eval_samples_per_second': 50.259,\n",
              " 'eval_steps_per_second': 6.286}"
            ]
          },
          "metadata": {},
          "execution_count": 89
        }
      ]
    },
    {
      "cell_type": "code",
      "source": [
        "# raw text를 받아서 파인튜닝된 bert 모델로 5점 리뷰인지 아닌지 판별하는 함수\n",
        "def predict_with_bert(text):\n",
        "    inputs = tokenizer(text, return_tensors=\"pt\")\n",
        "    inputs = inputs.to(model.device)\n",
        "    outputs = model(**inputs)\n",
        "    prediction = outputs['logits'].argmax().item() # argmax로 1,0을 만들어줌. 1이면 긍정/0이면 부정\n",
        "    return prediction > 0"
      ],
      "metadata": {
        "id": "5AgzMS-SOG4_"
      },
      "execution_count": 90,
      "outputs": []
    },
    {
      "cell_type": "code",
      "source": [
        "print(df_test['Review Text'].iloc[0])\n",
        "print()\n",
        "predict_with_bert(df_test['Review Text'].iloc[0])"
      ],
      "metadata": {
        "colab": {
          "base_uri": "https://localhost:8080/"
        },
        "id": "wDUWLMASNQGq",
        "outputId": "9c1fb0e4-00a3-4286-d148-659d39fa883b"
      },
      "execution_count": 91,
      "outputs": [
        {
          "output_type": "stream",
          "name": "stdout",
          "text": [
            "Beautiful and very versatile dress. extremely forgiving for post baby bodies, while stylish and classy.\n",
            "\n"
          ]
        },
        {
          "output_type": "execute_result",
          "data": {
            "text/plain": [
              "True"
            ]
          },
          "metadata": {},
          "execution_count": 91
        }
      ]
    },
    {
      "cell_type": "code",
      "source": [
        ""
      ],
      "metadata": {
        "id": "7ZCm6pQjxyde"
      },
      "execution_count": null,
      "outputs": []
    }
  ]
}