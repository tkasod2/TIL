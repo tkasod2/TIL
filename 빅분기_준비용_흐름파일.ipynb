{
  "nbformat": 4,
  "nbformat_minor": 0,
  "metadata": {
    "colab": {
      "name": "빅분기 준비용 흐름파일.ipynb",
      "provenance": [],
      "authorship_tag": "ABX9TyPX3m5gYVBWZ2GdpZg6mqCO",
      "include_colab_link": true
    },
    "kernelspec": {
      "name": "python3",
      "display_name": "Python 3"
    },
    "language_info": {
      "name": "python"
    }
  },
  "cells": [
    {
      "cell_type": "markdown",
      "metadata": {
        "id": "view-in-github",
        "colab_type": "text"
      },
      "source": [
        "<a href=\"https://colab.research.google.com/github/tkasod2/TIL/blob/main/%EB%B9%85%EB%B6%84%EA%B8%B0_%EC%A4%80%EB%B9%84%EC%9A%A9_%ED%9D%90%EB%A6%84%ED%8C%8C%EC%9D%BC.ipynb\" target=\"_parent\"><img src=\"https://colab.research.google.com/assets/colab-badge.svg\" alt=\"Open In Colab\"/></a>"
      ]
    },
    {
      "cell_type": "code",
      "metadata": {
        "id": "jjFJRCIBM8cB"
      },
      "source": [
        "import sklearn\n",
        "import pandas as pd\n",
        "import numpy as np"
      ],
      "execution_count": 6,
      "outputs": []
    },
    {
      "cell_type": "code",
      "metadata": {
        "colab": {
          "base_uri": "https://localhost:8080/"
        },
        "id": "nxyiFzD1vdJR",
        "outputId": "7a928f1f-8fef-4690-991b-bd72cce303c2"
      },
      "source": [
        "from google.colab import drive\n",
        "drive.mount('/content/gdrive/')"
      ],
      "execution_count": 2,
      "outputs": [
        {
          "output_type": "stream",
          "name": "stdout",
          "text": [
            "Mounted at /content/gdrive/\n"
          ]
        }
      ]
    },
    {
      "cell_type": "code",
      "metadata": {
        "id": "w3LCOm_muwiE"
      },
      "source": [
        "# !unzip -q '/content/gdrive/MyDrive/빅분기/[Dataset] 작업형 제1유형.zip' -d '/content/gdrive/MyDrive/빅분기/[Dataset] 작업형 제1유형'\n",
        "# !unzip -q '/content/gdrive/MyDrive/빅분기/[Dataset] 작업형 제2유형.zip' -d '/content/gdrive/MyDrive/빅분기/[Dataset] 작업형 제2유형'"
      ],
      "execution_count": 3,
      "outputs": []
    },
    {
      "cell_type": "code",
      "metadata": {
        "colab": {
          "base_uri": "https://localhost:8080/",
          "height": 35
        },
        "id": "04yoE2NnzBtT",
        "outputId": "ebd02a11-cd63-4cda-f605-1209487f03b4"
      },
      "source": [
        "'''\n",
        "mtcars 데이터셋(mtcars.csv)의 qsec 컬럼을 최소최대 척도(Min-Max Scale)로 변환한 후 0.5보다\n",
        "큰 값을 가지는 레코드 수를 구하시오.\n",
        "'''"
      ],
      "execution_count": 36,
      "outputs": [
        {
          "output_type": "execute_result",
          "data": {
            "application/vnd.google.colaboratory.intrinsic+json": {
              "type": "string"
            },
            "text/plain": [
              "'\\nmtcars 데이터셋(mtcars.csv)의 qsec 컬럼을 최소최대 척도(Min-Max Scale)로 변환한 후 0.5보다\\n큰 값을 가지는 레코드 수를 구하시오.\\n'"
            ]
          },
          "metadata": {},
          "execution_count": 36
        }
      ]
    },
    {
      "cell_type": "code",
      "metadata": {
        "id": "CXVF4gb3vvWy"
      },
      "source": [
        "data1 = pd.read_csv('/content/gdrive/MyDrive/빅분기/[Dataset] 작업형 제1유형/mtcars.csv')"
      ],
      "execution_count": 8,
      "outputs": []
    },
    {
      "cell_type": "code",
      "metadata": {
        "id": "NN3OOuoAwPRA"
      },
      "source": [
        "import sklearn.preprocessing as PPR"
      ],
      "execution_count": 20,
      "outputs": []
    },
    {
      "cell_type": "code",
      "metadata": {
        "colab": {
          "base_uri": "https://localhost:8080/"
        },
        "id": "M4KfuJoKwjK-",
        "outputId": "6652dff9-c4cb-4b46-aea9-3c70315a35e9"
      },
      "source": [
        "print(dir(sklearn.preprocessing))"
      ],
      "execution_count": 21,
      "outputs": [
        {
          "output_type": "stream",
          "name": "stdout",
          "text": [
            "['Binarizer', 'FunctionTransformer', 'KBinsDiscretizer', 'KernelCenterer', 'LabelBinarizer', 'LabelEncoder', 'MaxAbsScaler', 'MinMaxScaler', 'MultiLabelBinarizer', 'Normalizer', 'OneHotEncoder', 'OrdinalEncoder', 'PolynomialFeatures', 'PowerTransformer', 'QuantileTransformer', 'RobustScaler', 'SplineTransformer', 'StandardScaler', '__all__', '__builtins__', '__cached__', '__doc__', '__file__', '__loader__', '__name__', '__package__', '__path__', '__spec__', '_csr_polynomial_expansion', '_data', '_discretization', '_encoders', '_function_transformer', '_label', '_polynomial', 'add_dummy_feature', 'binarize', 'label_binarize', 'maxabs_scale', 'minmax_scale', 'normalize', 'power_transform', 'quantile_transform', 'robust_scale', 'scale']\n"
          ]
        }
      ]
    },
    {
      "cell_type": "code",
      "metadata": {
        "id": "agYWNyMCw8mT"
      },
      "source": [
        "scaler = PPR.MinMaxScaler()\n",
        "data1['qsec_new'] = scaler.fit_transform(data1['qsec'].values.reshape(-1,1))"
      ],
      "execution_count": 30,
      "outputs": []
    },
    {
      "cell_type": "code",
      "metadata": {
        "colab": {
          "base_uri": "https://localhost:8080/"
        },
        "id": "k_mFdRAryo6K",
        "outputId": "43b0ed07-47a0-4617-bcf9-538ab3791237"
      },
      "source": [
        "answer = len(data1[data1['qsec_new']>0.5])\n",
        "print(answer)"
      ],
      "execution_count": 35,
      "outputs": [
        {
          "output_type": "stream",
          "name": "stdout",
          "text": [
            "9\n"
          ]
        }
      ]
    },
    {
      "cell_type": "code",
      "metadata": {
        "id": "y0yUhyy3y0dc"
      },
      "source": [
        "''' 고객 3,500명에 대한 학습용 데이터(y_train.csv, X_train.csv)를 이용하여 성별예측 모형을 만든\n",
        "후, 이를 평가용 데이터(X_test.csv)에 적용하여 얻은 2,482명 고객의 성별 예측값(남자일 확률)을\n",
        "다음과 같은 형식의 CSV 파일로 생성하시오.(제출한 모델의 성능은 ROC-AUC 평가지표에 따라\n",
        "채점) \n",
        "\n",
        "<유의사항>\n",
        " 성능이 우수한 예측모형을 구축하기 위해서는 적절한 데이터 전처리, Feature Engineering, 분류\n",
        "알고리즘 사용, 초매개변수 최적화, 모형 앙상블 등이 수반되어야 한다.'''"
      ],
      "execution_count": null,
      "outputs": []
    },
    {
      "cell_type": "code",
      "metadata": {
        "id": "fI-n6Xfwv0_e"
      },
      "source": [
        "data2 = pd.read_csv('/content/gdrive/MyDrive/빅분기/[Dataset] 작업형 제2유형/mtcars.csv')"
      ],
      "execution_count": null,
      "outputs": []
    }
  ]
}