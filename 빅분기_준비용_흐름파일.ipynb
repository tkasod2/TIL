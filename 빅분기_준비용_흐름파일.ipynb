{
  "nbformat": 4,
  "nbformat_minor": 0,
  "metadata": {
    "colab": {
      "name": "빅분기 준비용 흐름파일.ipynb",
      "provenance": [],
      "collapsed_sections": [],
      "authorship_tag": "ABX9TyPByzjZiFMpwCGmoSumxuyM",
      "include_colab_link": true
    },
    "kernelspec": {
      "name": "python3",
      "display_name": "Python 3"
    },
    "language_info": {
      "name": "python"
    }
  },
  "cells": [
    {
      "cell_type": "markdown",
      "metadata": {
        "id": "view-in-github",
        "colab_type": "text"
      },
      "source": [
        "<a href=\"https://colab.research.google.com/github/tkasod2/TIL/blob/main/%EB%B9%85%EB%B6%84%EA%B8%B0_%EC%A4%80%EB%B9%84%EC%9A%A9_%ED%9D%90%EB%A6%84%ED%8C%8C%EC%9D%BC.ipynb\" target=\"_parent\"><img src=\"https://colab.research.google.com/assets/colab-badge.svg\" alt=\"Open In Colab\"/></a>"
      ]
    },
    {
      "cell_type": "code",
      "metadata": {
        "id": "jjFJRCIBM8cB"
      },
      "source": [
        "import sklearn\n",
        "import pandas as pd\n",
        "import numpy as np"
      ],
      "execution_count": 1,
      "outputs": []
    },
    {
      "cell_type": "code",
      "metadata": {
        "colab": {
          "base_uri": "https://localhost:8080/"
        },
        "id": "nxyiFzD1vdJR",
        "outputId": "0264570b-deef-4a4d-9706-cfb7e42fddcf"
      },
      "source": [
        "from google.colab import drive\n",
        "drive.mount('/content/gdrive/')"
      ],
      "execution_count": 2,
      "outputs": [
        {
          "output_type": "stream",
          "name": "stdout",
          "text": [
            "Drive already mounted at /content/gdrive/; to attempt to forcibly remount, call drive.mount(\"/content/gdrive/\", force_remount=True).\n"
          ]
        }
      ]
    },
    {
      "cell_type": "code",
      "metadata": {
        "id": "w3LCOm_muwiE"
      },
      "source": [
        "# !unzip -q '/content/gdrive/MyDrive/빅분기/[Dataset] 작업형 제1유형.zip' -d '/content/gdrive/MyDrive/빅분기/[Dataset] 작업형 제1유형'\n",
        "# !unzip -q '/content/gdrive/MyDrive/빅분기/[Dataset] 작업형 제2유형.zip' -d '/content/gdrive/MyDrive/빅분기/[Dataset] 작업형 제2유형'"
      ],
      "execution_count": null,
      "outputs": []
    },
    {
      "cell_type": "markdown",
      "metadata": {
        "id": "Ca8rsA5VDQwE"
      },
      "source": [
        "## 작업형 1번"
      ]
    },
    {
      "cell_type": "code",
      "metadata": {
        "colab": {
          "base_uri": "https://localhost:8080/",
          "height": 35
        },
        "id": "04yoE2NnzBtT",
        "outputId": "01ae1703-902d-4e0e-cabb-c545d9a9b764"
      },
      "source": [
        "'''\n",
        "mtcars 데이터셋(mtcars.csv)의 qsec 컬럼을 최소최대 척도(Min-Max Scale)로 변환한 후 0.5보다\n",
        "큰 값을 가지는 레코드 수를 구하시오.\n",
        "'''"
      ],
      "execution_count": null,
      "outputs": [
        {
          "output_type": "execute_result",
          "data": {
            "application/vnd.google.colaboratory.intrinsic+json": {
              "type": "string"
            },
            "text/plain": [
              "'\\nmtcars 데이터셋(mtcars.csv)의 qsec 컬럼을 최소최대 척도(Min-Max Scale)로 변환한 후 0.5보다\\n큰 값을 가지는 레코드 수를 구하시오.\\n'"
            ]
          },
          "metadata": {},
          "execution_count": 22
        }
      ]
    },
    {
      "cell_type": "code",
      "metadata": {
        "id": "CXVF4gb3vvWy"
      },
      "source": [
        "data1 = pd.read_csv('/content/gdrive/MyDrive/빅분기/[Dataset] 작업형 제1유형/mtcars.csv')"
      ],
      "execution_count": 3,
      "outputs": []
    },
    {
      "cell_type": "code",
      "metadata": {
        "id": "hrQb5ca_98qK"
      },
      "source": [
        "# print(help(sklearn))"
      ],
      "execution_count": 8,
      "outputs": []
    },
    {
      "cell_type": "code",
      "metadata": {
        "id": "agYWNyMCw8mT",
        "colab": {
          "base_uri": "https://localhost:8080/"
        },
        "outputId": "dda3e6de-13ad-41f9-a3ec-e38b10cb8d5d"
      },
      "source": [
        "import sklearn.preprocessing\n",
        "scaler = sklearn.preprocessing.MinMaxScaler()\n",
        "data1['qsec_new'] = scaler.fit_transform(data1['qsec'].values.reshape(-1,1))\n",
        "answer = len(data1[data1['qsec_new']>0.5])\n",
        "print(answer)"
      ],
      "execution_count": 9,
      "outputs": [
        {
          "output_type": "stream",
          "name": "stdout",
          "text": [
            "9\n"
          ]
        }
      ]
    },
    {
      "cell_type": "markdown",
      "metadata": {
        "id": "oa505kRFDNWV"
      },
      "source": [
        "## 작업형 2번"
      ]
    },
    {
      "cell_type": "code",
      "metadata": {
        "id": "y0yUhyy3y0dc",
        "colab": {
          "base_uri": "https://localhost:8080/",
          "height": 54
        },
        "outputId": "dd055a21-0a6d-451f-909a-36e487c289e6"
      },
      "source": [
        "''' 고객 3,500명에 대한 학습용 데이터(y_train.csv, X_train.csv)를 이용하여 성별예측 모형을 만든\n",
        "후, 이를 평가용 데이터(X_test.csv)에 적용하여 얻은 2,482명 고객의 성별 예측값(남자일 확률)을\n",
        "다음과 같은 형식의 CSV 파일로 생성하시오.(제출한 모델의 성능은 ROC-AUC 평가지표에 따라\n",
        "채점) \n",
        "\n",
        "<유의사항>\n",
        " 성능이 우수한 예측모형을 구축하기 위해서는 적절한 데이터 전처리, Feature Engineering, 분류\n",
        "알고리즘 사용, 초매개변수 최적화, 모형 앙상블 등이 수반되어야 한다.'''"
      ],
      "execution_count": null,
      "outputs": [
        {
          "output_type": "execute_result",
          "data": {
            "application/vnd.google.colaboratory.intrinsic+json": {
              "type": "string"
            },
            "text/plain": [
              "' 고객 3,500명에 대한 학습용 데이터(y_train.csv, X_train.csv)를 이용하여 성별예측 모형을 만든\\n후, 이를 평가용 데이터(X_test.csv)에 적용하여 얻은 2,482명 고객의 성별 예측값(남자일 확률)을\\n다음과 같은 형식의 CSV 파일로 생성하시오.(제출한 모델의 성능은 ROC-AUC 평가지표에 따라\\n채점) \\n\\n<유의사항>\\n 성능이 우수한 예측모형을 구축하기 위해서는 적절한 데이터 전처리, Feature Engineering, 분류\\n알고리즘 사용, 초매개변수 최적화, 모형 앙상블 등이 수반되어야 한다.'"
            ]
          },
          "metadata": {},
          "execution_count": 8
        }
      ]
    },
    {
      "cell_type": "code",
      "metadata": {
        "id": "fI-n6Xfwv0_e"
      },
      "source": [
        ""
      ],
      "execution_count": 50,
      "outputs": []
    },
    {
      "cell_type": "code",
      "metadata": {
        "colab": {
          "base_uri": "https://localhost:8080/"
        },
        "id": "xLmIXpNaAUuN",
        "outputId": "17a853f3-77c6-4522-c30c-cb5e7962a879"
      },
      "source": [
        "# Data 불러오기\n",
        "X_train = pd.read_csv('/content/gdrive/MyDrive/빅분기/[Dataset] 작업형 제2유형/X_train.csv', encoding='euc-kr')\n",
        "X_test = pd.read_csv('/content/gdrive/MyDrive/빅분기/[Dataset] 작업형 제2유형/X_test.csv', encoding='euc-kr')\n",
        "y_train = pd.read_csv('/content/gdrive/MyDrive/빅분기/[Dataset] 작업형 제2유형/y_train.csv', encoding='euc-kr')\n",
        "\n",
        "# import\n",
        "import sklearn\n",
        "import sklearn.preprocessing\n",
        "import pandas\n",
        "\n",
        "# X_data Merge (for One hot encoding)\n",
        "X_train['구분'] = 'train'\n",
        "X_test['구분'] = 'test'\n",
        "X_data = pd.concat([X_train,X_test],ignore_index = True)\n",
        "\n",
        "print(X_data.head())\n",
        "print(y_train.head())\n",
        "print(X_data.isna().sum())\n",
        "X_data.fillna(0, inplace=True)\n",
        "print(X_data.isna().sum())\n",
        "print('='*30)\n",
        "\n",
        "# column 정의\n",
        "categorical_columns = ['주구매상품','주구매지점']\n",
        "numeric_columns = [x for x in X_train.columns if x not in categorical_columns]\n",
        "\n",
        "# 범주형 col처리 one hot encoding\n",
        "encoder = sklearn.preprocessing.OneHotEncoder(categories='auto', sparse=False)\n",
        "categorical_X = pd.DataFrame(encoder.fit_transform(X_data[categorical_columns]))\n",
        "categorical_X.columns = encoder.get_feature_names(X_data[categorical_columns].columns)\n",
        "\n",
        "# 연속형 col와 merge\n",
        "numeric_X = X_data[numeric_columns]\n",
        "X = pd.concat([numeric_X,categorical_X], axis = 1)\n",
        "X_train = X[X['구분']=='train']\n",
        "X_test = X[X['구분']=='test']\n",
        "\n",
        "print(X_train.head())\n",
        "print(X_test.head())\n",
        "print('='*30)\n",
        "\n",
        "#Modeling\n",
        "import sklearn.ensemble\n",
        "\n",
        "# 사용하지 않는 Columns 삭제\n",
        "del X_train['구분']\n",
        "del X_train['cust_id']\n",
        "del X_test['구분']\n",
        "del X_test['cust_id']\n",
        "del y_train['cust_id']\n",
        "\n",
        "# model fitting\n",
        "clf = sklearn.ensemble.GradientBoostingClassifier(max_depth = 3,n_estimators = 500, learning_rate = 0.01 ,random_state=999)\n",
        "clf.fit(X_train, y_train)\n",
        "\n",
        "# 평가\n",
        "print(f'train score : {round(clf.score(X_train,y_train),4)}')\n",
        "print(f'train score : {round(clf.score(X_train,y_train),4)}')\n",
        "print('='*30)\n",
        "# out file 생성\n",
        "out = pd.DataFrame(clf.predict(X_test))\n",
        "out.to_csv('22222.csv')"
      ],
      "execution_count": 53,
      "outputs": [
        {
          "output_type": "stream",
          "name": "stdout",
          "text": [
            "   cust_id      총구매액     최대구매액       환불금액  ...   내점당구매건수    주말방문비율  구매주기     구분\n",
            "0        0  68282840  11264000  6860000.0  ...  3.894737  0.527027    17  train\n",
            "1        1   2136000   2136000   300000.0  ...  1.500000  0.000000     1  train\n",
            "2        2   3197000   1639000        NaN  ...  2.000000  0.000000     1  train\n",
            "3        3  16077620   4935000        NaN  ...  2.444444  0.318182    16  train\n",
            "4        4  29050000  24000000        NaN  ...  1.500000  0.000000    85  train\n",
            "\n",
            "[5 rows x 11 columns]\n",
            "   cust_id  gender\n",
            "0        0       0\n",
            "1        1       0\n",
            "2        2       1\n",
            "3        3       1\n",
            "4        4       0\n",
            "cust_id       0\n",
            "총구매액          0\n",
            "최대구매액         0\n",
            "환불금액       3906\n",
            "주구매상품         0\n",
            "주구매지점         0\n",
            "내점일수          0\n",
            "내점당구매건수       0\n",
            "주말방문비율        0\n",
            "구매주기          0\n",
            "구분            0\n",
            "dtype: int64\n",
            "cust_id    0\n",
            "총구매액       0\n",
            "최대구매액      0\n",
            "환불금액       0\n",
            "주구매상품      0\n",
            "주구매지점      0\n",
            "내점일수       0\n",
            "내점당구매건수    0\n",
            "주말방문비율     0\n",
            "구매주기       0\n",
            "구분         0\n",
            "dtype: int64\n",
            "==============================\n",
            "   cust_id      총구매액     최대구매액  ...  주구매지점_창원점  주구매지점_청량리점  주구매지점_포항점\n",
            "0        0  68282840  11264000  ...        0.0         0.0        0.0\n",
            "1        1   2136000   2136000  ...        0.0         0.0        0.0\n",
            "2        2   3197000   1639000  ...        0.0         0.0        0.0\n",
            "3        3  16077620   4935000  ...        0.0         0.0        0.0\n",
            "4        4  29050000  24000000  ...        0.0         0.0        0.0\n",
            "\n",
            "[5 rows x 75 columns]\n"
          ]
        },
        {
          "output_type": "stream",
          "name": "stderr",
          "text": [
            "/usr/local/lib/python3.7/dist-packages/sklearn/utils/deprecation.py:87: FutureWarning: Function get_feature_names is deprecated; get_feature_names is deprecated in 1.0 and will be removed in 1.2. Please use get_feature_names_out instead.\n",
            "  warnings.warn(msg, category=FutureWarning)\n"
          ]
        },
        {
          "output_type": "stream",
          "name": "stdout",
          "text": [
            "      cust_id       총구매액     최대구매액  ...  주구매지점_창원점  주구매지점_청량리점  주구매지점_포항점\n",
            "3500     3500   70900400  22000000  ...        0.0         0.0        0.0\n",
            "3501     3501  310533100  38558000  ...        0.0         0.0        0.0\n",
            "3502     3502  305264140  14825000  ...        0.0         0.0        0.0\n",
            "3503     3503    7594080   5225000  ...        0.0         0.0        0.0\n",
            "3504     3504    1795790   1411200  ...        0.0         1.0        0.0\n",
            "\n",
            "[5 rows x 75 columns]\n",
            "==============================\n",
            "train score : 0.6997\n",
            "train score : 0.6997\n",
            "==============================\n"
          ]
        },
        {
          "output_type": "stream",
          "name": "stderr",
          "text": [
            "/usr/local/lib/python3.7/dist-packages/sklearn/ensemble/_gb.py:494: DataConversionWarning: A column-vector y was passed when a 1d array was expected. Please change the shape of y to (n_samples, ), for example using ravel().\n",
            "  y = column_or_1d(y, warn=True)\n"
          ]
        }
      ]
    },
    {
      "cell_type": "code",
      "metadata": {
        "id": "2FjDTopFA2pw"
      },
      "source": [
        ""
      ],
      "execution_count": null,
      "outputs": []
    }
  ]
}