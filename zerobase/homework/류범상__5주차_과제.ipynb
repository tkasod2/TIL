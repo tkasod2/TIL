{
  "nbformat": 4,
  "nbformat_minor": 0,
  "metadata": {
    "colab": {
      "name": "류범상_ - 5주차_과제.ipynb",
      "provenance": [],
      "collapsed_sections": [],
      "include_colab_link": true
    },
    "kernelspec": {
      "name": "python3",
      "display_name": "Python 3"
    },
    "language_info": {
      "name": "python"
    }
  },
  "cells": [
    {
      "cell_type": "markdown",
      "metadata": {
        "id": "view-in-github",
        "colab_type": "text"
      },
      "source": [
        "<a href=\"https://colab.research.google.com/github/tkasod2/TIL/blob/main/zerobase/homework/%EB%A5%98%EB%B2%94%EC%83%81__5%EC%A3%BC%EC%B0%A8_%EA%B3%BC%EC%A0%9C.ipynb\" target=\"_parent\"><img src=\"https://colab.research.google.com/assets/colab-badge.svg\" alt=\"Open In Colab\"/></a>"
      ]
    },
    {
      "cell_type": "markdown",
      "metadata": {
        "id": "ny_-WcUTHpNd"
      },
      "source": [
        "---\n",
        "#### 제로베이스(https://zero-base.co.kr/)\n",
        "#### 바로 써먹는 분석 완주반 \n",
        "---\n",
        "#### **Guideline**\n",
        "- 총점 100점으로 주차별로 약 2~3개 문제가 제시됩니다\n",
        "- 각 문제마다 안내사항과 요구사항을 꼼꼼하게 확인해주신 후, 코드를 작성해주세요 \n",
        "- 코드는 제시드리는 결과만 같게 나온다면, 추후 모범답안으로 드리는 코드와 달라도 괜찮습니다 \n",
        "\n",
        "#### **Notice!** \n",
        "- 제출 기한을 반드시 지켜주세요 \n",
        "- 제출 전 코드가 정상적으로 실행되는지 검토해주세요\n",
        "\n",
        "---\n",
        "# **5주차 과제**\n",
        "- 모두 코드를 입력해야 합니다 (답만 쓰는 경우는 인정되지 않음)\n",
        "---"
      ]
    },
    {
      "cell_type": "markdown",
      "source": [
        ""
      ],
      "metadata": {
        "id": "YxwgiiZ1ajCO"
      }
    },
    {
      "cell_type": "markdown",
      "source": [
        "**1. 다음 조건을 만족하는 함수를 구현하세요.**\n",
        "\n",
        "* 문장(string)과 사전(dictionary)을 입력으로 받습니다\n",
        "* 문장을 띄어쓰기 단위로 나누어 단어마다 사전에 있는지를 체크하고,\n",
        "* 사전에 있는 경우 해당하는 점수(1 또는 -1), 사전에 없는 경우 0점으로 계산합니다\n",
        "* 점수의 평균이 0 이상이면 \"positive\", 0 미만이면 \"negative\"라는 문자열을 출력합니다."
      ],
      "metadata": {
        "id": "KJc8ydyqEepK"
      }
    },
    {
      "cell_type": "code",
      "source": [
        "# 함수 구현에 필요한 사전\n",
        "# 수정하지 마세요\n",
        "\n",
        "sentiment_vocab = {\n",
        " 'amazing': 1,\n",
        " 'awesome': 1,\n",
        " 'awful': -1,\n",
        " 'bad': -1,\n",
        " 'beautiful': 1,\n",
        " 'disappointing': -1,\n",
        " 'excited': 1,\n",
        " 'fun': 1,\n",
        " 'hate': -1,\n",
        " 'love': 1,\n",
        " 'nice': 1,\n",
        " 'okay': 1,\n",
        " 'sad': -1,\n",
        " 'wonderful': 1,\n",
        " 'wrong': -1}"
      ],
      "metadata": {
        "id": "mCUL24QSaieW"
      },
      "execution_count": 1,
      "outputs": []
    },
    {
      "cell_type": "code",
      "source": [
        "def detect_sentiment(sentence, vocabulary):\n",
        "  # =================================================================================\n",
        "  # 여기에 코드를 입력하세요\n",
        "#   문장(string)과 사전(dictionary)을 입력으로 받습니다\n",
        "# 문장을 띄어쓰기 단위로 나누어 단어마다 사전에 있는지를 체크하고,\n",
        "# 사전에 있는 경우 해당하는 점수(1 또는 -1), 사전에 없는 경우 0점으로 계산합니다\n",
        "# 점수의 평균이 0 이상이면 \"positive\", 0 미만이면 \"negative\"라는 문자열을 출력합니다.\n",
        "  # sentence = \"great skirt in the theory with the wrong waste fit and length\"\n",
        "  ss = sentence.split()\n",
        "  counts = 0\n",
        "  score = 0\n",
        "  avg_score = 0\n",
        "  for word in ss:\n",
        "    if word in vocabulary.keys():\n",
        "      counts += 1\n",
        "      score += vocabulary[word]\n",
        "      try:\n",
        "        avg_score = score/counts\n",
        "      except ZeroDivisionError:\n",
        "        avg_score = 0\n",
        "    if avg_score >=0:\n",
        "      answer = 'positive'\n",
        "    else:\n",
        "      answer = 'negative'\n",
        "  return answer\n",
        "  \n",
        "  # 출력 타입은 \"positive\" 또는 \"negative\" 입니다.\n",
        "  # pass\n",
        "  # ================================================================================="
      ],
      "metadata": {
        "id": "tOFvBrQOTsP8"
      },
      "execution_count": 34,
      "outputs": []
    },
    {
      "cell_type": "code",
      "source": [
        "# 테스트 코드입니다.\n",
        "# 함수가 제대로 구현되었는지 평가를 위한 코드이니 수정하지 마세요.\n",
        "# 실행했을 때 아무 에러도 뜨지 않으면 성공입니다.\n",
        "\n",
        "assert detect_sentiment(\"absolutely wonderful - silky and sexy and comfortable\", sentiment_vocab) == \"positive\"\n",
        "assert detect_sentiment(\"love this skirt . the detail is amazing .\", sentiment_vocab) == \"positive\"\n",
        "assert detect_sentiment(\"great skirt in the theory with the wrong waste fit and length\", sentiment_vocab) == \"negative\"\n",
        "assert detect_sentiment(\"nothing bad to say about it !\", sentiment_vocab) == \"negative\"\n",
        "assert detect_sentiment(\"great that it's hand washable because i hate the smell of dry cleaned garmets\", sentiment_vocab) == \"negative\""
      ],
      "metadata": {
        "id": "4QsWe98WT9tP"
      },
      "execution_count": 35,
      "outputs": []
    },
    {
      "cell_type": "markdown",
      "source": [
        "**2. 유사도 계산에서 자주 쓰이는 코사인 유사도 (Cosine similarity)를 구현해보세요**\n",
        "\n",
        "![cosine similarity](https://neo4j.com/docs/graph-data-science/current/_images/cosine-similarity.png)\n",
        "\n",
        "* 입력으로 두 개의 벡터(리스트) A와 B를 받습니다.\n",
        "* A, B 리스트의 길이는 같습니다.\n",
        "* 출력으로 공식에 따라 계산된 코사인 유사도 값을 출력합니다.\n",
        "* 라이브러리(내장/외장)를 사용하지 말고 파이썬의 기능만으로 구현해보세요\n"
      ],
      "metadata": {
        "id": "XCUBry7IqB8K"
      }
    },
    {
      "cell_type": "code",
      "source": [
        "def cosine_similarity(a, b):\n",
        "  # =================================================================================\n",
        "  # 여기에 코드를 입력하세요\n",
        "  top = 0\n",
        "  bot1 = 0 \n",
        "  bot2 = 0\n",
        "  for x,y in zip(a,b):\n",
        "    top += x*y\n",
        "    bot1 += x**2\n",
        "    bot2 += y**2\n",
        "\n",
        "  norm_bot1 = bot1**(1/2)\n",
        "  norm_bot2 = bot2**(1/2)\n",
        "  cos_sim = top/(norm_bot1 * norm_bot2)\n",
        "  # 입력 타입은 숫자 리스트(list of floats), 숫자 리스트(list of floats) 입니다.\n",
        "  # 출력 타입은 숫자(float) 입니다.\n",
        "  return float(cos_sim)\n",
        "  # pass\n",
        "  # ================================================================================="
      ],
      "metadata": {
        "id": "agxaQQzPsh4C"
      },
      "execution_count": 59,
      "outputs": []
    },
    {
      "cell_type": "code",
      "source": [
        "# 테스트 코드입니다.\n",
        "# 함수가 제대로 구현되었는지 평가를 위한 코드이니 수정하지 마세요.\n",
        "# 실행했을 때 아무 에러도 뜨지 않으면 성공입니다.\n",
        "# 프로그래밍 언어의 특성 상 딱 떨어지는 숫자로 값이 나오지 않을 수 있기 때문에 정답과 차이가 충분히 작으면 정답으로 인정합니다.\n",
        "\n",
        "epsilon = 0.001 # small number\n",
        "assert abs(cosine_similarity([0, 1], [0, 1]) - 1) < epsilon\n",
        "assert abs(cosine_similarity([1, 0], [0, 1]) - 0) < epsilon\n",
        "assert abs(cosine_similarity([2, 1], [4, 2]) - 1) < epsilon\n",
        "assert abs(cosine_similarity([1,2,3], [3,2,1]) - 0.714) < epsilon\n",
        "assert abs(cosine_similarity([1, 1.732], [1, 0]) - 0.5) < epsilon"
      ],
      "metadata": {
        "id": "P5tEe8zBqmEB"
      },
      "execution_count": 62,
      "outputs": []
    },
    {
      "cell_type": "markdown",
      "source": [
        "**3. 위에서 구현한 코사인 유사도를 이용해 K개의 유사한 벡터를 찾아보세요**\n",
        "\n",
        "* 입력으로 타겟 벡터와, 이름 - 벡터로 이루어진 데이터, 그리고 k를 받습니다.\n",
        "* 딕셔너리 형식의 데이터에서 타겟 벡터와 코사인 유사도가 가장 높은 k개의 데이터를 찾습니다.\n",
        "* 찾은 k개의 데이터의 이름을 유사도가 높은 순서로 리스트로 출력합니다.\n",
        "* 라이브러리(내장/외장)를 사용하지 말고 파이썬의 기본 기능만으로 구현해보세요\n"
      ],
      "metadata": {
        "id": "l2g1dfkjuP9n"
      }
    },
    {
      "cell_type": "code",
      "source": [
        "def find_k_nearest_neighbors(target, data, k):\n",
        "  # =================================================================================\n",
        "  # 여기에 코드를 입력하세요\n",
        "  # 입력 타입은 target: 숫자 리스트, data: 문자열 - 숫자 리스트의 딕셔너리, k: 숫자(int) 입니다.\n",
        "  # 출력 타입은 문자열 리스트 입니다.\n",
        "  lst1 = []\n",
        "  lst2 = []\n",
        "  for idx, key in enumerate(data.keys()):\n",
        "      cos_sim = cosine_similarity(target, data[key])\n",
        "      lst1.append(key)\n",
        "      lst2.append(cos_sim)\n",
        "\n",
        "  dic1 = dict(zip(lst1,lst2))\n",
        "  sorted_lst = sorted(dic1.items(), key = lambda item: item[1], reverse=True)\n",
        "  key_lst = [x[0] for x in sorted_lst]\n",
        "  return key_lst[:k]\n",
        "\n",
        "  # pass\n",
        "  # ================================================================================="
      ],
      "metadata": {
        "id": "cZaFT1EGuZtV"
      },
      "execution_count": 108,
      "outputs": []
    },
    {
      "cell_type": "code",
      "source": [
        "# 테스트를 위한 데이터입니다. 수정하지 마세요.\n",
        "# 각 벡터의 값은 랜덤으로 생성된 숫자입니다.\n",
        "\n",
        "data = {\n",
        "    'apple': [1, 4, 3, 0],\n",
        "    'banana': [0, 4, 5, 0],\n",
        "    'orange': [5, 2, 5, 2],\n",
        "    'melon': [4, 1, 5, 3],\n",
        "}"
      ],
      "metadata": {
        "id": "uZGszLysvG3v"
      },
      "execution_count": 83,
      "outputs": []
    },
    {
      "cell_type": "code",
      "source": [
        "# 테스트 코드입니다.\n",
        "# 함수가 제대로 구현되었는지 평가를 위한 코드이니 수정하지 마세요.\n",
        "# 실행했을 때 아무 에러도 뜨지 않으면 성공입니다.\n",
        "\n",
        "assert find_k_nearest_neighbors([1,4,3,0], data, 1) == ['apple']\n",
        "assert find_k_nearest_neighbors(data['banana'], data, 1) == ['banana']\n",
        "assert find_k_nearest_neighbors([5,2,0,5], data, 2) == ['melon', 'orange']\n",
        "assert find_k_nearest_neighbors([1,3,4,1], data, 2) == ['banana', 'apple']"
      ],
      "metadata": {
        "id": "vw7oD98Tw-6o"
      },
      "execution_count": 109,
      "outputs": []
    },
    {
      "cell_type": "code",
      "source": [
        ""
      ],
      "metadata": {
        "id": "Sv6ZDKYTvS6x"
      },
      "execution_count": null,
      "outputs": []
    }
  ]
}