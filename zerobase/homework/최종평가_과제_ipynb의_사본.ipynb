{
  "nbformat": 4,
  "nbformat_minor": 0,
  "metadata": {
    "colab": {
      "name": "최종평가 과제.ipynb의 사본",
      "provenance": [],
      "collapsed_sections": [],
      "include_colab_link": true
    },
    "kernelspec": {
      "name": "python3",
      "display_name": "Python 3"
    }
  },
  "cells": [
    {
      "cell_type": "markdown",
      "metadata": {
        "id": "view-in-github",
        "colab_type": "text"
      },
      "source": [
        "<a href=\"https://colab.research.google.com/github/tkasod2/TIL/blob/main/zerobase/homework/%EC%B5%9C%EC%A2%85%ED%8F%89%EA%B0%80_%EA%B3%BC%EC%A0%9C_ipynb%EC%9D%98_%EC%82%AC%EB%B3%B8.ipynb\" target=\"_parent\"><img src=\"https://colab.research.google.com/assets/colab-badge.svg\" alt=\"Open In Colab\"/></a>"
      ]
    },
    {
      "cell_type": "markdown",
      "metadata": {
        "id": "vdXCj9B1Xmg5"
      },
      "source": [
        "---\n",
        "#### 제로베이스(https://zero-base.co.kr/)\n",
        "#### 바로 써먹는 분석 완주반 \n",
        "---\n",
        "#### **Notice!** \n",
        "- 제출 기한을 반드시 지켜주세요 \n",
        "- 제출 전 코드가 정상적으로 실행되는지 검토해주세요\n",
        "- 제출하신 코드에 대해 멘토님의 일부 주관적인 부분점수가 반영될 수 있습니다\n",
        "- 부분점수 반영 시 상세한 피드백을 드릴 예정이오니, 문의가 있을시 멘토님과 담당 매니저님이 적극 소통할 예정입니다\n",
        "---\n",
        "# **최종 평가**\n",
        "- 모든 범위 포함\n",
        "- 10문제 총 100점\n",
        "---"
      ]
    },
    {
      "cell_type": "markdown",
      "metadata": {
        "id": "dkWZTpougACB"
      },
      "source": [
        "### 문제 1. 다음 조건에 맞는 함수를 구현하세요 (10점)\n",
        "\n",
        "* 데이터가 담긴 문자열을 파싱하여 간단한 통계량을 구하는 함수입니다.\n",
        "* 입력으로 시험 과목과 점수가 들어있는 문자열을 받습니다. 예: \"수학-90점,국어-60점,수학-70점\"\n",
        "* 과목 사이는 쉼표로 구분되어 있고, 과목과 점수 사이는 하이픈(-)으로 구분되어 있습니다.\n",
        "* 출력으로 가장 평균 점수가 높은 과목과 그 과목의 최고점을 문자열로 출력합니다. 예: \"수학의 최고점은 90점입니다\"\n",
        "* 위 예시에서 수학의 평균 점수는 80점(90점과 70점의 평균), 국어의 평균 점수는 60점으로 수학이 평균 점수가 가장 높고, 수학의 최고점은 90점이므로 \"수학의 최고점은 90점입니다\"가 출력됩니다.\n",
        "* 출력할 때 점수는 \"xx의 최고점은 xx점입니다\"와 같이 문자열로 출력합니다.\n",
        "* 더 많은 예는 테스트 코드를 참고해주세요."
      ]
    },
    {
      "cell_type": "markdown",
      "source": [
        "* Hint: 변수를 넣은 문자열을 만들 때는 f-string을 이용하면 편리합니다. 예컨대, name이라는 변수에 \"철수\"가 들어있을 때 f\"내 이름은 {myname}입니다\"는 \"내 이름은 철수입니다\"라는 문자열이 됩니다.\n",
        "* Hint 2: 가장 큰 숫자를 구할 때는 파이썬의 내장 함수인 `max` 함수를 이용할 수 있습니다."
      ],
      "metadata": {
        "id": "dVZHCmcfhodH"
      }
    },
    {
      "cell_type": "code",
      "metadata": {
        "id": "b00ZMDdLAaTJ"
      },
      "source": [
        "def extract_best_subject(data):\n",
        "  # =================================================================================\n",
        "  # 여기에 코드를 입력하세요\n",
        "  # 입력 타입은 데이터가 담긴 문자열(string)입니다.\n",
        "  # 출력 타입은 문자열 세 개가 담긴 튜플(tuplae)입니다.\n",
        "\n",
        "  data = data.split(',')\n",
        "  lst = []\n",
        "  tup = ()\n",
        "  for x in [x.split('-') for x in data]:\n",
        "    lst.append([x[0],int(x[1].split('점')[0])])\n",
        "\n",
        "  dict1 = {} # count\n",
        "  dict2 = {} # average\n",
        "  for x in lst:\n",
        "    if x[0] in dict1.keys():\n",
        "      dict1[x[0]] += 1\n",
        "      dict2[x[0]] += x[1] # sum\n",
        "    else : \n",
        "      dict1[x[0]] = 1\n",
        "      dict2[x[0]] = x[1]\n",
        "\n",
        "  for k in dict1.keys():\n",
        "    dict2[k] = dict2[k]/dict1[k]\n",
        "\n",
        "  max_average_subject = [k for k,v in dict2.items() if v ==max(dict2.values())][0]\n",
        "  max_score = max([x[1] for x in lst if x[0] == max_average_subject])\n",
        "  answer =f'{max_average_subject}의 최고점은 {max_score}점입니다.'\n",
        "  return answer\n",
        "  # ================================================================================="
      ],
      "execution_count": null,
      "outputs": []
    },
    {
      "cell_type": "code",
      "source": [
        "# 테스트 코드입니다.\n",
        "# 함수가 제대로 구현되었는지 평가를 위한 코드이니 수정하지 마세요.\n",
        "# 실행했을 때 아무 에러도 뜨지 않으면 성공입니다.\n",
        "\n",
        "assert extract_best_subject(\"수학-90점,국어-60점,수학-70점\") == \"수학의 최고점은 90점입니다.\"\n",
        "assert extract_best_subject(\"과학-20점,국어-30점,과학-50점,수학-20점,과학-60점\") == \"과학의 최고점은 60점입니다.\"\n",
        "assert extract_best_subject(\"영어-20점,국어-20점,국어-30점,국어-50점,국어-10점\") == \"국어의 최고점은 50점입니다.\"\n",
        "assert extract_best_subject(\"사회-100점,수학-80점,사회-20점\") == \"수학의 최고점은 80점입니다.\""
      ],
      "metadata": {
        "id": "JufANTbogKpi"
      },
      "execution_count": null,
      "outputs": []
    },
    {
      "cell_type": "markdown",
      "metadata": {
        "id": "pRHU6Y5fmO1m"
      },
      "source": [
        "---"
      ]
    },
    {
      "cell_type": "markdown",
      "source": [
        "### 문제 2. 판다스 데이터 프레임을 다음 설명에 맞게 인덱싱 하세요. (10점)\n",
        "\n",
        "* 다음은 매출 데이터가 담긴 데이터 프레임입니다.\n",
        "\n",
        "데이터"
      ],
      "metadata": {
        "id": "jbS1nBUaaU5g"
      }
    },
    {
      "cell_type": "code",
      "source": [
        "import pandas as pd\n",
        "\n",
        "sales = pd.DataFrame(\n",
        "    [{\"서울\": 30, \"부산\": 10, \"제주\": 10},\n",
        "     {\"서울\": 40, \"부산\": 100, \"제주\": 40},\n",
        "     {\"서울\": 50, \"부산\": 10, \"제주\": 70},\n",
        "    ],\n",
        "    index=pd.Series([2020, 2021, 2022], name='연도')\n",
        "  )\n",
        "\n",
        "sales"
      ],
      "metadata": {
        "colab": {
          "base_uri": "https://localhost:8080/",
          "height": 175
        },
        "id": "fCW3wCPwcVvU",
        "outputId": "fe8907d7-342d-4d4e-a808-0810c29ce31b"
      },
      "execution_count": null,
      "outputs": [
        {
          "output_type": "execute_result",
          "data": {
            "text/html": [
              "\n",
              "  <div id=\"df-6df45138-daa6-47ec-b8c1-a94284f21fba\">\n",
              "    <div class=\"colab-df-container\">\n",
              "      <div>\n",
              "<style scoped>\n",
              "    .dataframe tbody tr th:only-of-type {\n",
              "        vertical-align: middle;\n",
              "    }\n",
              "\n",
              "    .dataframe tbody tr th {\n",
              "        vertical-align: top;\n",
              "    }\n",
              "\n",
              "    .dataframe thead th {\n",
              "        text-align: right;\n",
              "    }\n",
              "</style>\n",
              "<table border=\"1\" class=\"dataframe\">\n",
              "  <thead>\n",
              "    <tr style=\"text-align: right;\">\n",
              "      <th></th>\n",
              "      <th>서울</th>\n",
              "      <th>부산</th>\n",
              "      <th>제주</th>\n",
              "    </tr>\n",
              "    <tr>\n",
              "      <th>연도</th>\n",
              "      <th></th>\n",
              "      <th></th>\n",
              "      <th></th>\n",
              "    </tr>\n",
              "  </thead>\n",
              "  <tbody>\n",
              "    <tr>\n",
              "      <th>2020</th>\n",
              "      <td>30</td>\n",
              "      <td>10</td>\n",
              "      <td>10</td>\n",
              "    </tr>\n",
              "    <tr>\n",
              "      <th>2021</th>\n",
              "      <td>40</td>\n",
              "      <td>100</td>\n",
              "      <td>40</td>\n",
              "    </tr>\n",
              "    <tr>\n",
              "      <th>2022</th>\n",
              "      <td>50</td>\n",
              "      <td>10</td>\n",
              "      <td>70</td>\n",
              "    </tr>\n",
              "  </tbody>\n",
              "</table>\n",
              "</div>\n",
              "      <button class=\"colab-df-convert\" onclick=\"convertToInteractive('df-6df45138-daa6-47ec-b8c1-a94284f21fba')\"\n",
              "              title=\"Convert this dataframe to an interactive table.\"\n",
              "              style=\"display:none;\">\n",
              "        \n",
              "  <svg xmlns=\"http://www.w3.org/2000/svg\" height=\"24px\"viewBox=\"0 0 24 24\"\n",
              "       width=\"24px\">\n",
              "    <path d=\"M0 0h24v24H0V0z\" fill=\"none\"/>\n",
              "    <path d=\"M18.56 5.44l.94 2.06.94-2.06 2.06-.94-2.06-.94-.94-2.06-.94 2.06-2.06.94zm-11 1L8.5 8.5l.94-2.06 2.06-.94-2.06-.94L8.5 2.5l-.94 2.06-2.06.94zm10 10l.94 2.06.94-2.06 2.06-.94-2.06-.94-.94-2.06-.94 2.06-2.06.94z\"/><path d=\"M17.41 7.96l-1.37-1.37c-.4-.4-.92-.59-1.43-.59-.52 0-1.04.2-1.43.59L10.3 9.45l-7.72 7.72c-.78.78-.78 2.05 0 2.83L4 21.41c.39.39.9.59 1.41.59.51 0 1.02-.2 1.41-.59l7.78-7.78 2.81-2.81c.8-.78.8-2.07 0-2.86zM5.41 20L4 18.59l7.72-7.72 1.47 1.35L5.41 20z\"/>\n",
              "  </svg>\n",
              "      </button>\n",
              "      \n",
              "  <style>\n",
              "    .colab-df-container {\n",
              "      display:flex;\n",
              "      flex-wrap:wrap;\n",
              "      gap: 12px;\n",
              "    }\n",
              "\n",
              "    .colab-df-convert {\n",
              "      background-color: #E8F0FE;\n",
              "      border: none;\n",
              "      border-radius: 50%;\n",
              "      cursor: pointer;\n",
              "      display: none;\n",
              "      fill: #1967D2;\n",
              "      height: 32px;\n",
              "      padding: 0 0 0 0;\n",
              "      width: 32px;\n",
              "    }\n",
              "\n",
              "    .colab-df-convert:hover {\n",
              "      background-color: #E2EBFA;\n",
              "      box-shadow: 0px 1px 2px rgba(60, 64, 67, 0.3), 0px 1px 3px 1px rgba(60, 64, 67, 0.15);\n",
              "      fill: #174EA6;\n",
              "    }\n",
              "\n",
              "    [theme=dark] .colab-df-convert {\n",
              "      background-color: #3B4455;\n",
              "      fill: #D2E3FC;\n",
              "    }\n",
              "\n",
              "    [theme=dark] .colab-df-convert:hover {\n",
              "      background-color: #434B5C;\n",
              "      box-shadow: 0px 1px 3px 1px rgba(0, 0, 0, 0.15);\n",
              "      filter: drop-shadow(0px 1px 2px rgba(0, 0, 0, 0.3));\n",
              "      fill: #FFFFFF;\n",
              "    }\n",
              "  </style>\n",
              "\n",
              "      <script>\n",
              "        const buttonEl =\n",
              "          document.querySelector('#df-6df45138-daa6-47ec-b8c1-a94284f21fba button.colab-df-convert');\n",
              "        buttonEl.style.display =\n",
              "          google.colab.kernel.accessAllowed ? 'block' : 'none';\n",
              "\n",
              "        async function convertToInteractive(key) {\n",
              "          const element = document.querySelector('#df-6df45138-daa6-47ec-b8c1-a94284f21fba');\n",
              "          const dataTable =\n",
              "            await google.colab.kernel.invokeFunction('convertToInteractive',\n",
              "                                                     [key], {});\n",
              "          if (!dataTable) return;\n",
              "\n",
              "          const docLinkHtml = 'Like what you see? Visit the ' +\n",
              "            '<a target=\"_blank\" href=https://colab.research.google.com/notebooks/data_table.ipynb>data table notebook</a>'\n",
              "            + ' to learn more about interactive tables.';\n",
              "          element.innerHTML = '';\n",
              "          dataTable['output_type'] = 'display_data';\n",
              "          await google.colab.output.renderOutput(dataTable, element);\n",
              "          const docLink = document.createElement('div');\n",
              "          docLink.innerHTML = docLinkHtml;\n",
              "          element.appendChild(docLink);\n",
              "        }\n",
              "      </script>\n",
              "    </div>\n",
              "  </div>\n",
              "  "
            ],
            "text/plain": [
              "      서울   부산  제주\n",
              "연도               \n",
              "2020  30   10  10\n",
              "2021  40  100  40\n",
              "2022  50   10  70"
            ]
          },
          "metadata": {},
          "execution_count": 3
        }
      ]
    },
    {
      "cell_type": "markdown",
      "source": [
        "#### 2-1 서울과 제주에 해당하는 열만 인덱싱해 보세요\n",
        "\n",
        "다음과 같은 결과가 나오면 통과입니다.\n",
        "\n",
        "![seoul and jeju](https://files.slack.com/files-pri/T25783BPY-F02SMG021LZ/image.png?pub_secret=a75a0c649c)"
      ],
      "metadata": {
        "id": "HA5y8WJwdPpu"
      }
    },
    {
      "cell_type": "code",
      "source": [
        "# =================================\n",
        "# 여기에 코드를 작성하세요\n",
        "sales[['서울','제주']]\n",
        "# ================================="
      ],
      "metadata": {
        "colab": {
          "base_uri": "https://localhost:8080/",
          "height": 175
        },
        "id": "F1anBPPxdO9A",
        "outputId": "3831d5c4-7866-48c5-aede-4b38afa2f094"
      },
      "execution_count": null,
      "outputs": [
        {
          "output_type": "execute_result",
          "data": {
            "text/html": [
              "\n",
              "  <div id=\"df-9ef7cb8e-9c49-4aa0-8071-6918e81488f4\">\n",
              "    <div class=\"colab-df-container\">\n",
              "      <div>\n",
              "<style scoped>\n",
              "    .dataframe tbody tr th:only-of-type {\n",
              "        vertical-align: middle;\n",
              "    }\n",
              "\n",
              "    .dataframe tbody tr th {\n",
              "        vertical-align: top;\n",
              "    }\n",
              "\n",
              "    .dataframe thead th {\n",
              "        text-align: right;\n",
              "    }\n",
              "</style>\n",
              "<table border=\"1\" class=\"dataframe\">\n",
              "  <thead>\n",
              "    <tr style=\"text-align: right;\">\n",
              "      <th></th>\n",
              "      <th>서울</th>\n",
              "      <th>제주</th>\n",
              "    </tr>\n",
              "    <tr>\n",
              "      <th>연도</th>\n",
              "      <th></th>\n",
              "      <th></th>\n",
              "    </tr>\n",
              "  </thead>\n",
              "  <tbody>\n",
              "    <tr>\n",
              "      <th>2020</th>\n",
              "      <td>30</td>\n",
              "      <td>10</td>\n",
              "    </tr>\n",
              "    <tr>\n",
              "      <th>2021</th>\n",
              "      <td>40</td>\n",
              "      <td>40</td>\n",
              "    </tr>\n",
              "    <tr>\n",
              "      <th>2022</th>\n",
              "      <td>50</td>\n",
              "      <td>70</td>\n",
              "    </tr>\n",
              "  </tbody>\n",
              "</table>\n",
              "</div>\n",
              "      <button class=\"colab-df-convert\" onclick=\"convertToInteractive('df-9ef7cb8e-9c49-4aa0-8071-6918e81488f4')\"\n",
              "              title=\"Convert this dataframe to an interactive table.\"\n",
              "              style=\"display:none;\">\n",
              "        \n",
              "  <svg xmlns=\"http://www.w3.org/2000/svg\" height=\"24px\"viewBox=\"0 0 24 24\"\n",
              "       width=\"24px\">\n",
              "    <path d=\"M0 0h24v24H0V0z\" fill=\"none\"/>\n",
              "    <path d=\"M18.56 5.44l.94 2.06.94-2.06 2.06-.94-2.06-.94-.94-2.06-.94 2.06-2.06.94zm-11 1L8.5 8.5l.94-2.06 2.06-.94-2.06-.94L8.5 2.5l-.94 2.06-2.06.94zm10 10l.94 2.06.94-2.06 2.06-.94-2.06-.94-.94-2.06-.94 2.06-2.06.94z\"/><path d=\"M17.41 7.96l-1.37-1.37c-.4-.4-.92-.59-1.43-.59-.52 0-1.04.2-1.43.59L10.3 9.45l-7.72 7.72c-.78.78-.78 2.05 0 2.83L4 21.41c.39.39.9.59 1.41.59.51 0 1.02-.2 1.41-.59l7.78-7.78 2.81-2.81c.8-.78.8-2.07 0-2.86zM5.41 20L4 18.59l7.72-7.72 1.47 1.35L5.41 20z\"/>\n",
              "  </svg>\n",
              "      </button>\n",
              "      \n",
              "  <style>\n",
              "    .colab-df-container {\n",
              "      display:flex;\n",
              "      flex-wrap:wrap;\n",
              "      gap: 12px;\n",
              "    }\n",
              "\n",
              "    .colab-df-convert {\n",
              "      background-color: #E8F0FE;\n",
              "      border: none;\n",
              "      border-radius: 50%;\n",
              "      cursor: pointer;\n",
              "      display: none;\n",
              "      fill: #1967D2;\n",
              "      height: 32px;\n",
              "      padding: 0 0 0 0;\n",
              "      width: 32px;\n",
              "    }\n",
              "\n",
              "    .colab-df-convert:hover {\n",
              "      background-color: #E2EBFA;\n",
              "      box-shadow: 0px 1px 2px rgba(60, 64, 67, 0.3), 0px 1px 3px 1px rgba(60, 64, 67, 0.15);\n",
              "      fill: #174EA6;\n",
              "    }\n",
              "\n",
              "    [theme=dark] .colab-df-convert {\n",
              "      background-color: #3B4455;\n",
              "      fill: #D2E3FC;\n",
              "    }\n",
              "\n",
              "    [theme=dark] .colab-df-convert:hover {\n",
              "      background-color: #434B5C;\n",
              "      box-shadow: 0px 1px 3px 1px rgba(0, 0, 0, 0.15);\n",
              "      filter: drop-shadow(0px 1px 2px rgba(0, 0, 0, 0.3));\n",
              "      fill: #FFFFFF;\n",
              "    }\n",
              "  </style>\n",
              "\n",
              "      <script>\n",
              "        const buttonEl =\n",
              "          document.querySelector('#df-9ef7cb8e-9c49-4aa0-8071-6918e81488f4 button.colab-df-convert');\n",
              "        buttonEl.style.display =\n",
              "          google.colab.kernel.accessAllowed ? 'block' : 'none';\n",
              "\n",
              "        async function convertToInteractive(key) {\n",
              "          const element = document.querySelector('#df-9ef7cb8e-9c49-4aa0-8071-6918e81488f4');\n",
              "          const dataTable =\n",
              "            await google.colab.kernel.invokeFunction('convertToInteractive',\n",
              "                                                     [key], {});\n",
              "          if (!dataTable) return;\n",
              "\n",
              "          const docLinkHtml = 'Like what you see? Visit the ' +\n",
              "            '<a target=\"_blank\" href=https://colab.research.google.com/notebooks/data_table.ipynb>data table notebook</a>'\n",
              "            + ' to learn more about interactive tables.';\n",
              "          element.innerHTML = '';\n",
              "          dataTable['output_type'] = 'display_data';\n",
              "          await google.colab.output.renderOutput(dataTable, element);\n",
              "          const docLink = document.createElement('div');\n",
              "          docLink.innerHTML = docLinkHtml;\n",
              "          element.appendChild(docLink);\n",
              "        }\n",
              "      </script>\n",
              "    </div>\n",
              "  </div>\n",
              "  "
            ],
            "text/plain": [
              "      서울  제주\n",
              "연도          \n",
              "2020  30  10\n",
              "2021  40  40\n",
              "2022  50  70"
            ]
          },
          "metadata": {},
          "execution_count": 4
        }
      ]
    },
    {
      "cell_type": "markdown",
      "source": [
        "#### 2-2 부산의 매출이 10이었던 행만 인덱싱해 보세요\n",
        "\n",
        "다음과 같은 결과가 나오면 통과입니다.\n",
        "\n",
        "![seoul](https://files.slack.com/files-pri/T25783BPY-F02S8SE13T4/image.png?pub_secret=f1ec249c85)"
      ],
      "metadata": {
        "id": "sdxjt5vHa3wJ"
      }
    },
    {
      "cell_type": "code",
      "source": [
        "# =================================\n",
        "# 여기에 코드를 작성하세요\n",
        "sales[sales['부산']==10]\n",
        "# ================================="
      ],
      "metadata": {
        "colab": {
          "base_uri": "https://localhost:8080/",
          "height": 143
        },
        "id": "XBFOqlmWbCH0",
        "outputId": "b673b480-e457-44af-dbca-f5cbf8036582"
      },
      "execution_count": null,
      "outputs": [
        {
          "output_type": "execute_result",
          "data": {
            "text/html": [
              "\n",
              "  <div id=\"df-7d99ab52-2eb6-4559-b2a9-6644f1c8ed99\">\n",
              "    <div class=\"colab-df-container\">\n",
              "      <div>\n",
              "<style scoped>\n",
              "    .dataframe tbody tr th:only-of-type {\n",
              "        vertical-align: middle;\n",
              "    }\n",
              "\n",
              "    .dataframe tbody tr th {\n",
              "        vertical-align: top;\n",
              "    }\n",
              "\n",
              "    .dataframe thead th {\n",
              "        text-align: right;\n",
              "    }\n",
              "</style>\n",
              "<table border=\"1\" class=\"dataframe\">\n",
              "  <thead>\n",
              "    <tr style=\"text-align: right;\">\n",
              "      <th></th>\n",
              "      <th>서울</th>\n",
              "      <th>부산</th>\n",
              "      <th>제주</th>\n",
              "    </tr>\n",
              "    <tr>\n",
              "      <th>연도</th>\n",
              "      <th></th>\n",
              "      <th></th>\n",
              "      <th></th>\n",
              "    </tr>\n",
              "  </thead>\n",
              "  <tbody>\n",
              "    <tr>\n",
              "      <th>2020</th>\n",
              "      <td>30</td>\n",
              "      <td>10</td>\n",
              "      <td>10</td>\n",
              "    </tr>\n",
              "    <tr>\n",
              "      <th>2022</th>\n",
              "      <td>50</td>\n",
              "      <td>10</td>\n",
              "      <td>70</td>\n",
              "    </tr>\n",
              "  </tbody>\n",
              "</table>\n",
              "</div>\n",
              "      <button class=\"colab-df-convert\" onclick=\"convertToInteractive('df-7d99ab52-2eb6-4559-b2a9-6644f1c8ed99')\"\n",
              "              title=\"Convert this dataframe to an interactive table.\"\n",
              "              style=\"display:none;\">\n",
              "        \n",
              "  <svg xmlns=\"http://www.w3.org/2000/svg\" height=\"24px\"viewBox=\"0 0 24 24\"\n",
              "       width=\"24px\">\n",
              "    <path d=\"M0 0h24v24H0V0z\" fill=\"none\"/>\n",
              "    <path d=\"M18.56 5.44l.94 2.06.94-2.06 2.06-.94-2.06-.94-.94-2.06-.94 2.06-2.06.94zm-11 1L8.5 8.5l.94-2.06 2.06-.94-2.06-.94L8.5 2.5l-.94 2.06-2.06.94zm10 10l.94 2.06.94-2.06 2.06-.94-2.06-.94-.94-2.06-.94 2.06-2.06.94z\"/><path d=\"M17.41 7.96l-1.37-1.37c-.4-.4-.92-.59-1.43-.59-.52 0-1.04.2-1.43.59L10.3 9.45l-7.72 7.72c-.78.78-.78 2.05 0 2.83L4 21.41c.39.39.9.59 1.41.59.51 0 1.02-.2 1.41-.59l7.78-7.78 2.81-2.81c.8-.78.8-2.07 0-2.86zM5.41 20L4 18.59l7.72-7.72 1.47 1.35L5.41 20z\"/>\n",
              "  </svg>\n",
              "      </button>\n",
              "      \n",
              "  <style>\n",
              "    .colab-df-container {\n",
              "      display:flex;\n",
              "      flex-wrap:wrap;\n",
              "      gap: 12px;\n",
              "    }\n",
              "\n",
              "    .colab-df-convert {\n",
              "      background-color: #E8F0FE;\n",
              "      border: none;\n",
              "      border-radius: 50%;\n",
              "      cursor: pointer;\n",
              "      display: none;\n",
              "      fill: #1967D2;\n",
              "      height: 32px;\n",
              "      padding: 0 0 0 0;\n",
              "      width: 32px;\n",
              "    }\n",
              "\n",
              "    .colab-df-convert:hover {\n",
              "      background-color: #E2EBFA;\n",
              "      box-shadow: 0px 1px 2px rgba(60, 64, 67, 0.3), 0px 1px 3px 1px rgba(60, 64, 67, 0.15);\n",
              "      fill: #174EA6;\n",
              "    }\n",
              "\n",
              "    [theme=dark] .colab-df-convert {\n",
              "      background-color: #3B4455;\n",
              "      fill: #D2E3FC;\n",
              "    }\n",
              "\n",
              "    [theme=dark] .colab-df-convert:hover {\n",
              "      background-color: #434B5C;\n",
              "      box-shadow: 0px 1px 3px 1px rgba(0, 0, 0, 0.15);\n",
              "      filter: drop-shadow(0px 1px 2px rgba(0, 0, 0, 0.3));\n",
              "      fill: #FFFFFF;\n",
              "    }\n",
              "  </style>\n",
              "\n",
              "      <script>\n",
              "        const buttonEl =\n",
              "          document.querySelector('#df-7d99ab52-2eb6-4559-b2a9-6644f1c8ed99 button.colab-df-convert');\n",
              "        buttonEl.style.display =\n",
              "          google.colab.kernel.accessAllowed ? 'block' : 'none';\n",
              "\n",
              "        async function convertToInteractive(key) {\n",
              "          const element = document.querySelector('#df-7d99ab52-2eb6-4559-b2a9-6644f1c8ed99');\n",
              "          const dataTable =\n",
              "            await google.colab.kernel.invokeFunction('convertToInteractive',\n",
              "                                                     [key], {});\n",
              "          if (!dataTable) return;\n",
              "\n",
              "          const docLinkHtml = 'Like what you see? Visit the ' +\n",
              "            '<a target=\"_blank\" href=https://colab.research.google.com/notebooks/data_table.ipynb>data table notebook</a>'\n",
              "            + ' to learn more about interactive tables.';\n",
              "          element.innerHTML = '';\n",
              "          dataTable['output_type'] = 'display_data';\n",
              "          await google.colab.output.renderOutput(dataTable, element);\n",
              "          const docLink = document.createElement('div');\n",
              "          docLink.innerHTML = docLinkHtml;\n",
              "          element.appendChild(docLink);\n",
              "        }\n",
              "      </script>\n",
              "    </div>\n",
              "  </div>\n",
              "  "
            ],
            "text/plain": [
              "      서울  부산  제주\n",
              "연도              \n",
              "2020  30  10  10\n",
              "2022  50  10  70"
            ]
          },
          "metadata": {},
          "execution_count": 5
        }
      ]
    },
    {
      "cell_type": "markdown",
      "source": [
        "#### 2-3 2020년과 2021년만 인덱싱해 보세요\n",
        "\n",
        "다음과 같은 결과가 나오면 통과입니다.\n",
        "\n",
        "![seoul](https://files.slack.com/files-pri/T25783BPY-F02S8TK9CCT/image.png?pub_secret=1df0d85bcf)"
      ],
      "metadata": {
        "id": "BmD28sakeXTO"
      }
    },
    {
      "cell_type": "code",
      "source": [
        "# =================================\n",
        "# 여기에 코드를 작성하세요\n",
        "sales[sales.index.isin([2020,2021])]\n",
        "# ================================="
      ],
      "metadata": {
        "colab": {
          "base_uri": "https://localhost:8080/",
          "height": 143
        },
        "id": "aYzEApDMcAGd",
        "outputId": "ee4ecf40-0b7e-49ec-d20f-05a5f136f362"
      },
      "execution_count": null,
      "outputs": [
        {
          "output_type": "execute_result",
          "data": {
            "text/html": [
              "\n",
              "  <div id=\"df-de24498b-0306-4611-abe3-812c13b5336c\">\n",
              "    <div class=\"colab-df-container\">\n",
              "      <div>\n",
              "<style scoped>\n",
              "    .dataframe tbody tr th:only-of-type {\n",
              "        vertical-align: middle;\n",
              "    }\n",
              "\n",
              "    .dataframe tbody tr th {\n",
              "        vertical-align: top;\n",
              "    }\n",
              "\n",
              "    .dataframe thead th {\n",
              "        text-align: right;\n",
              "    }\n",
              "</style>\n",
              "<table border=\"1\" class=\"dataframe\">\n",
              "  <thead>\n",
              "    <tr style=\"text-align: right;\">\n",
              "      <th></th>\n",
              "      <th>서울</th>\n",
              "      <th>부산</th>\n",
              "      <th>제주</th>\n",
              "    </tr>\n",
              "    <tr>\n",
              "      <th>연도</th>\n",
              "      <th></th>\n",
              "      <th></th>\n",
              "      <th></th>\n",
              "    </tr>\n",
              "  </thead>\n",
              "  <tbody>\n",
              "    <tr>\n",
              "      <th>2020</th>\n",
              "      <td>30</td>\n",
              "      <td>10</td>\n",
              "      <td>10</td>\n",
              "    </tr>\n",
              "    <tr>\n",
              "      <th>2021</th>\n",
              "      <td>40</td>\n",
              "      <td>100</td>\n",
              "      <td>40</td>\n",
              "    </tr>\n",
              "  </tbody>\n",
              "</table>\n",
              "</div>\n",
              "      <button class=\"colab-df-convert\" onclick=\"convertToInteractive('df-de24498b-0306-4611-abe3-812c13b5336c')\"\n",
              "              title=\"Convert this dataframe to an interactive table.\"\n",
              "              style=\"display:none;\">\n",
              "        \n",
              "  <svg xmlns=\"http://www.w3.org/2000/svg\" height=\"24px\"viewBox=\"0 0 24 24\"\n",
              "       width=\"24px\">\n",
              "    <path d=\"M0 0h24v24H0V0z\" fill=\"none\"/>\n",
              "    <path d=\"M18.56 5.44l.94 2.06.94-2.06 2.06-.94-2.06-.94-.94-2.06-.94 2.06-2.06.94zm-11 1L8.5 8.5l.94-2.06 2.06-.94-2.06-.94L8.5 2.5l-.94 2.06-2.06.94zm10 10l.94 2.06.94-2.06 2.06-.94-2.06-.94-.94-2.06-.94 2.06-2.06.94z\"/><path d=\"M17.41 7.96l-1.37-1.37c-.4-.4-.92-.59-1.43-.59-.52 0-1.04.2-1.43.59L10.3 9.45l-7.72 7.72c-.78.78-.78 2.05 0 2.83L4 21.41c.39.39.9.59 1.41.59.51 0 1.02-.2 1.41-.59l7.78-7.78 2.81-2.81c.8-.78.8-2.07 0-2.86zM5.41 20L4 18.59l7.72-7.72 1.47 1.35L5.41 20z\"/>\n",
              "  </svg>\n",
              "      </button>\n",
              "      \n",
              "  <style>\n",
              "    .colab-df-container {\n",
              "      display:flex;\n",
              "      flex-wrap:wrap;\n",
              "      gap: 12px;\n",
              "    }\n",
              "\n",
              "    .colab-df-convert {\n",
              "      background-color: #E8F0FE;\n",
              "      border: none;\n",
              "      border-radius: 50%;\n",
              "      cursor: pointer;\n",
              "      display: none;\n",
              "      fill: #1967D2;\n",
              "      height: 32px;\n",
              "      padding: 0 0 0 0;\n",
              "      width: 32px;\n",
              "    }\n",
              "\n",
              "    .colab-df-convert:hover {\n",
              "      background-color: #E2EBFA;\n",
              "      box-shadow: 0px 1px 2px rgba(60, 64, 67, 0.3), 0px 1px 3px 1px rgba(60, 64, 67, 0.15);\n",
              "      fill: #174EA6;\n",
              "    }\n",
              "\n",
              "    [theme=dark] .colab-df-convert {\n",
              "      background-color: #3B4455;\n",
              "      fill: #D2E3FC;\n",
              "    }\n",
              "\n",
              "    [theme=dark] .colab-df-convert:hover {\n",
              "      background-color: #434B5C;\n",
              "      box-shadow: 0px 1px 3px 1px rgba(0, 0, 0, 0.15);\n",
              "      filter: drop-shadow(0px 1px 2px rgba(0, 0, 0, 0.3));\n",
              "      fill: #FFFFFF;\n",
              "    }\n",
              "  </style>\n",
              "\n",
              "      <script>\n",
              "        const buttonEl =\n",
              "          document.querySelector('#df-de24498b-0306-4611-abe3-812c13b5336c button.colab-df-convert');\n",
              "        buttonEl.style.display =\n",
              "          google.colab.kernel.accessAllowed ? 'block' : 'none';\n",
              "\n",
              "        async function convertToInteractive(key) {\n",
              "          const element = document.querySelector('#df-de24498b-0306-4611-abe3-812c13b5336c');\n",
              "          const dataTable =\n",
              "            await google.colab.kernel.invokeFunction('convertToInteractive',\n",
              "                                                     [key], {});\n",
              "          if (!dataTable) return;\n",
              "\n",
              "          const docLinkHtml = 'Like what you see? Visit the ' +\n",
              "            '<a target=\"_blank\" href=https://colab.research.google.com/notebooks/data_table.ipynb>data table notebook</a>'\n",
              "            + ' to learn more about interactive tables.';\n",
              "          element.innerHTML = '';\n",
              "          dataTable['output_type'] = 'display_data';\n",
              "          await google.colab.output.renderOutput(dataTable, element);\n",
              "          const docLink = document.createElement('div');\n",
              "          docLink.innerHTML = docLinkHtml;\n",
              "          element.appendChild(docLink);\n",
              "        }\n",
              "      </script>\n",
              "    </div>\n",
              "  </div>\n",
              "  "
            ],
            "text/plain": [
              "      서울   부산  제주\n",
              "연도               \n",
              "2020  30   10  10\n",
              "2021  40  100  40"
            ]
          },
          "metadata": {},
          "execution_count": 6
        }
      ]
    },
    {
      "cell_type": "markdown",
      "source": [
        "---"
      ],
      "metadata": {
        "id": "qqiiQAe1e0cV"
      }
    },
    {
      "cell_type": "markdown",
      "metadata": {
        "id": "ymUCejCfofJw"
      },
      "source": [
        "### 문제 3. Accuracy, precision, recall을 계산하는 함수를 직접 구현해 보세요. (10점)\n",
        "\n",
        "Accuracy, precision, recall은 분류 모델의 성능을 측정하기 위해 가장 널리 쓰이는 지표들입니다. 다음을 참고해서 이 지표를 계산하는 함수를 직접 구현해 보세요.\n",
        "\n",
        "- accuracy는 정확도라고도 불리며 전체 샘플 중 모델의 예측값과 실제값이 일치하는 비율입니다.\n",
        "- precision은 정밀도라고도 불리며 모델이 참으로 예측한 것 중 실제 참의 비율입니다.\n",
        "- recall은 재현율이라고도 불리며 실제 참인 것 중 모델이 참으로 예측한 것의 비율입니다.\n",
        "- precision과 recall의 차이를 그림으로 나타내면 다음과 같습니다.\n",
        "\n",
        "\n",
        "<img src=\"https://upload.wikimedia.org/wikipedia/commons/thumb/2/26/Precisionrecall.svg/1024px-Precisionrecall.svg.png\" height=\"50%\" width=\"50%\">\n",
        "\n",
        "\n",
        "함수 스펙\n",
        "* 입력으로 예측 리스트(y_pred)와 정답 리스트(p_true)를 받습니다.\n",
        "* positive는 1로, negative는 0으로 표현됩니다.\n",
        "* 출력으로는 accuracy, precision, recall 값을 부동소수점(float)으로 출력합니다. 즉, 세 개의 float가 담긴 tuple이 됩니다.\n",
        "* 만약 (분모가 0이라서) 계산할 수 없는 수치가 있다면 None으로 출력해 주세요.\n",
        "* 각 메트릭은 0과 1 사이의 값입니다. (또는 None입니다.)\n",
        "* 예시는 테스트 코드를 참고해주세요"
      ]
    },
    {
      "cell_type": "code",
      "source": [
        "def calculate_metrics(y_pred, y_true):\n",
        "  # =================================================================================\n",
        "  # True 예측\n",
        "  TP = 0\n",
        "  FP = 0\n",
        "  # False 예측\n",
        "  TN = 0 # 정답\n",
        "  FN = 0 # 오답\n",
        "\n",
        "  for a,b in zip(y_pred,y_true):\n",
        "    if a == 1 :\n",
        "      if b == 1 :\n",
        "        TP += 1\n",
        "      else :\n",
        "        FP +=1\n",
        "    elif a == 0 :\n",
        "      if b == 0 :\n",
        "        TN += 1\n",
        "      else :\n",
        "        FN += 1\n",
        "  try : \n",
        "    precision = TP/(TP+FP)#True 예측 중 정답률\n",
        "\n",
        "  except ZeroDivisionError:\n",
        "    precision = None\n",
        "\n",
        "\n",
        "  try : \n",
        "    recall = TP/(TP+FN)#True중 True라고 예측한 비율\n",
        "  except ZeroDivisionError:\n",
        "    recall = None\n",
        "\n",
        "  try : \n",
        "    accuracy = (TP+TN)/(TP+FN+TN+FP)\n",
        "  except ZeroDivisionError:\n",
        "    accuracy = None\n",
        "\n",
        "\n",
        "  return (accuracy,precision,recall)\n",
        "  # ================================================================================="
      ],
      "metadata": {
        "id": "DRjdd7vYpSWL"
      },
      "execution_count": null,
      "outputs": []
    },
    {
      "cell_type": "code",
      "source": [
        "# 테스트 코드입니다.\n",
        "# 함수가 제대로 구현되었는지 평가를 위한 코드이니 수정하지 마세요.\n",
        "# 실행했을 때 아무 에러도 뜨지 않으면 성공입니다.\n",
        "\n",
        "assert calculate_metrics([0,0,0,0], [1,0,1,0]) == (0.5, None, 0.0)\n",
        "assert calculate_metrics([1,1,1,1], [1,0,1,0]) == (0.5, 0.5, 1.0)\n",
        "assert calculate_metrics([1,0,1,0], [1,0,1,0]) == (1.0, 1.0, 1.0)\n",
        "assert calculate_metrics([0,0,0,0,0,0,0,0,0,0], [0,0,0,0,0,0,0,0,0,1]) == (0.9, None, 0.0)\n",
        "assert calculate_metrics([0,0,0,0,0,0,0,0,1,1], [0,0,0,0,0,0,0,0,0,1]) == (0.9, 0.5, 1.0)\n",
        "assert calculate_metrics([0,0,0,0,0,0,0,0,0,1], [0,0,0,0,0,1,1,1,1,1]) == (0.6, 1.0, 0.2)"
      ],
      "metadata": {
        "id": "iBST6DkGpXqh"
      },
      "execution_count": null,
      "outputs": []
    },
    {
      "cell_type": "markdown",
      "metadata": {
        "id": "xumIG33-skHk"
      },
      "source": [
        "---"
      ]
    },
    {
      "cell_type": "markdown",
      "source": [
        "**문제 4-7. 다음은 Iris 붓꽃에 관한 데이터이며, 각 column에 대한 설명은 다음과 같습니다.**\n",
        "* sepal lengh: 꽃받침 길이\n",
        "* sepal width: 꽃받침 넓이\n",
        "* petal length: 꽃잎 길이\n",
        "* petal width: 꽃잎 넓이\n",
        "* flower_code: 꽃의 종류 (id)"
      ],
      "metadata": {
        "id": "2nFb8ECVYV19"
      }
    },
    {
      "cell_type": "code",
      "source": [
        "import pandas as pd\n",
        "from sklearn.datasets import load_iris\n",
        "iris = load_iris()\n",
        "\n",
        "df = pd.DataFrame(iris.data, columns=iris.feature_names)\n",
        "df['flower_code'] = iris['target']\n",
        "df.head()"
      ],
      "metadata": {
        "colab": {
          "base_uri": "https://localhost:8080/",
          "height": 206
        },
        "id": "LWQl-U6RYTPb",
        "outputId": "e73e76e7-e2bc-42db-9eb3-90b3703c3e24"
      },
      "execution_count": null,
      "outputs": [
        {
          "output_type": "execute_result",
          "data": {
            "text/html": [
              "\n",
              "  <div id=\"df-e4a5db64-8f82-429f-bffa-a68cf07ce7fb\">\n",
              "    <div class=\"colab-df-container\">\n",
              "      <div>\n",
              "<style scoped>\n",
              "    .dataframe tbody tr th:only-of-type {\n",
              "        vertical-align: middle;\n",
              "    }\n",
              "\n",
              "    .dataframe tbody tr th {\n",
              "        vertical-align: top;\n",
              "    }\n",
              "\n",
              "    .dataframe thead th {\n",
              "        text-align: right;\n",
              "    }\n",
              "</style>\n",
              "<table border=\"1\" class=\"dataframe\">\n",
              "  <thead>\n",
              "    <tr style=\"text-align: right;\">\n",
              "      <th></th>\n",
              "      <th>sepal length (cm)</th>\n",
              "      <th>sepal width (cm)</th>\n",
              "      <th>petal length (cm)</th>\n",
              "      <th>petal width (cm)</th>\n",
              "      <th>flower_code</th>\n",
              "    </tr>\n",
              "  </thead>\n",
              "  <tbody>\n",
              "    <tr>\n",
              "      <th>0</th>\n",
              "      <td>5.1</td>\n",
              "      <td>3.5</td>\n",
              "      <td>1.4</td>\n",
              "      <td>0.2</td>\n",
              "      <td>0</td>\n",
              "    </tr>\n",
              "    <tr>\n",
              "      <th>1</th>\n",
              "      <td>4.9</td>\n",
              "      <td>3.0</td>\n",
              "      <td>1.4</td>\n",
              "      <td>0.2</td>\n",
              "      <td>0</td>\n",
              "    </tr>\n",
              "    <tr>\n",
              "      <th>2</th>\n",
              "      <td>4.7</td>\n",
              "      <td>3.2</td>\n",
              "      <td>1.3</td>\n",
              "      <td>0.2</td>\n",
              "      <td>0</td>\n",
              "    </tr>\n",
              "    <tr>\n",
              "      <th>3</th>\n",
              "      <td>4.6</td>\n",
              "      <td>3.1</td>\n",
              "      <td>1.5</td>\n",
              "      <td>0.2</td>\n",
              "      <td>0</td>\n",
              "    </tr>\n",
              "    <tr>\n",
              "      <th>4</th>\n",
              "      <td>5.0</td>\n",
              "      <td>3.6</td>\n",
              "      <td>1.4</td>\n",
              "      <td>0.2</td>\n",
              "      <td>0</td>\n",
              "    </tr>\n",
              "  </tbody>\n",
              "</table>\n",
              "</div>\n",
              "      <button class=\"colab-df-convert\" onclick=\"convertToInteractive('df-e4a5db64-8f82-429f-bffa-a68cf07ce7fb')\"\n",
              "              title=\"Convert this dataframe to an interactive table.\"\n",
              "              style=\"display:none;\">\n",
              "        \n",
              "  <svg xmlns=\"http://www.w3.org/2000/svg\" height=\"24px\"viewBox=\"0 0 24 24\"\n",
              "       width=\"24px\">\n",
              "    <path d=\"M0 0h24v24H0V0z\" fill=\"none\"/>\n",
              "    <path d=\"M18.56 5.44l.94 2.06.94-2.06 2.06-.94-2.06-.94-.94-2.06-.94 2.06-2.06.94zm-11 1L8.5 8.5l.94-2.06 2.06-.94-2.06-.94L8.5 2.5l-.94 2.06-2.06.94zm10 10l.94 2.06.94-2.06 2.06-.94-2.06-.94-.94-2.06-.94 2.06-2.06.94z\"/><path d=\"M17.41 7.96l-1.37-1.37c-.4-.4-.92-.59-1.43-.59-.52 0-1.04.2-1.43.59L10.3 9.45l-7.72 7.72c-.78.78-.78 2.05 0 2.83L4 21.41c.39.39.9.59 1.41.59.51 0 1.02-.2 1.41-.59l7.78-7.78 2.81-2.81c.8-.78.8-2.07 0-2.86zM5.41 20L4 18.59l7.72-7.72 1.47 1.35L5.41 20z\"/>\n",
              "  </svg>\n",
              "      </button>\n",
              "      \n",
              "  <style>\n",
              "    .colab-df-container {\n",
              "      display:flex;\n",
              "      flex-wrap:wrap;\n",
              "      gap: 12px;\n",
              "    }\n",
              "\n",
              "    .colab-df-convert {\n",
              "      background-color: #E8F0FE;\n",
              "      border: none;\n",
              "      border-radius: 50%;\n",
              "      cursor: pointer;\n",
              "      display: none;\n",
              "      fill: #1967D2;\n",
              "      height: 32px;\n",
              "      padding: 0 0 0 0;\n",
              "      width: 32px;\n",
              "    }\n",
              "\n",
              "    .colab-df-convert:hover {\n",
              "      background-color: #E2EBFA;\n",
              "      box-shadow: 0px 1px 2px rgba(60, 64, 67, 0.3), 0px 1px 3px 1px rgba(60, 64, 67, 0.15);\n",
              "      fill: #174EA6;\n",
              "    }\n",
              "\n",
              "    [theme=dark] .colab-df-convert {\n",
              "      background-color: #3B4455;\n",
              "      fill: #D2E3FC;\n",
              "    }\n",
              "\n",
              "    [theme=dark] .colab-df-convert:hover {\n",
              "      background-color: #434B5C;\n",
              "      box-shadow: 0px 1px 3px 1px rgba(0, 0, 0, 0.15);\n",
              "      filter: drop-shadow(0px 1px 2px rgba(0, 0, 0, 0.3));\n",
              "      fill: #FFFFFF;\n",
              "    }\n",
              "  </style>\n",
              "\n",
              "      <script>\n",
              "        const buttonEl =\n",
              "          document.querySelector('#df-e4a5db64-8f82-429f-bffa-a68cf07ce7fb button.colab-df-convert');\n",
              "        buttonEl.style.display =\n",
              "          google.colab.kernel.accessAllowed ? 'block' : 'none';\n",
              "\n",
              "        async function convertToInteractive(key) {\n",
              "          const element = document.querySelector('#df-e4a5db64-8f82-429f-bffa-a68cf07ce7fb');\n",
              "          const dataTable =\n",
              "            await google.colab.kernel.invokeFunction('convertToInteractive',\n",
              "                                                     [key], {});\n",
              "          if (!dataTable) return;\n",
              "\n",
              "          const docLinkHtml = 'Like what you see? Visit the ' +\n",
              "            '<a target=\"_blank\" href=https://colab.research.google.com/notebooks/data_table.ipynb>data table notebook</a>'\n",
              "            + ' to learn more about interactive tables.';\n",
              "          element.innerHTML = '';\n",
              "          dataTable['output_type'] = 'display_data';\n",
              "          await google.colab.output.renderOutput(dataTable, element);\n",
              "          const docLink = document.createElement('div');\n",
              "          docLink.innerHTML = docLinkHtml;\n",
              "          element.appendChild(docLink);\n",
              "        }\n",
              "      </script>\n",
              "    </div>\n",
              "  </div>\n",
              "  "
            ],
            "text/plain": [
              "   sepal length (cm)  sepal width (cm)  ...  petal width (cm)  flower_code\n",
              "0                5.1               3.5  ...               0.2            0\n",
              "1                4.9               3.0  ...               0.2            0\n",
              "2                4.7               3.2  ...               0.2            0\n",
              "3                4.6               3.1  ...               0.2            0\n",
              "4                5.0               3.6  ...               0.2            0\n",
              "\n",
              "[5 rows x 5 columns]"
            ]
          },
          "metadata": {},
          "execution_count": 9
        }
      ]
    },
    {
      "cell_type": "markdown",
      "source": [
        "### 문제 4. Pandas 를 활용하여 각 꽃의 종류 별 평균 꽃잎의 길이를 구하시오\n",
        "* dataframe 으로 출력합니다. \n",
        "* flower_code 를 dataframe 의 index 로 지정합니다.\n",
        "* 다음과 같은 결과가 나오면 통과입니다.\n",
        "\n",
        "![seoul](https://files.slack.com/files-pri/T25783BPY-F02S8LAABPX/image.png?pub_secret=994202f658)"
      ],
      "metadata": {
        "id": "oaqi__ebX41n"
      }
    },
    {
      "cell_type": "code",
      "source": [
        "# =================================\n",
        "# 여기에 코드를 입력하시오\n",
        "df.groupby('flower_code')['petal length (cm)'].mean().reset_index().set_index('flower_code')\n",
        "# ================================="
      ],
      "metadata": {
        "colab": {
          "base_uri": "https://localhost:8080/",
          "height": 175
        },
        "id": "twfbsNNzX4R5",
        "outputId": "bf306d5c-da58-48ba-bdb7-873edb338d44"
      },
      "execution_count": null,
      "outputs": [
        {
          "output_type": "execute_result",
          "data": {
            "text/html": [
              "\n",
              "  <div id=\"df-fb5e6f03-80a9-4f78-bd52-cc4d99270482\">\n",
              "    <div class=\"colab-df-container\">\n",
              "      <div>\n",
              "<style scoped>\n",
              "    .dataframe tbody tr th:only-of-type {\n",
              "        vertical-align: middle;\n",
              "    }\n",
              "\n",
              "    .dataframe tbody tr th {\n",
              "        vertical-align: top;\n",
              "    }\n",
              "\n",
              "    .dataframe thead th {\n",
              "        text-align: right;\n",
              "    }\n",
              "</style>\n",
              "<table border=\"1\" class=\"dataframe\">\n",
              "  <thead>\n",
              "    <tr style=\"text-align: right;\">\n",
              "      <th></th>\n",
              "      <th>petal length (cm)</th>\n",
              "    </tr>\n",
              "    <tr>\n",
              "      <th>flower_code</th>\n",
              "      <th></th>\n",
              "    </tr>\n",
              "  </thead>\n",
              "  <tbody>\n",
              "    <tr>\n",
              "      <th>0</th>\n",
              "      <td>1.462</td>\n",
              "    </tr>\n",
              "    <tr>\n",
              "      <th>1</th>\n",
              "      <td>4.260</td>\n",
              "    </tr>\n",
              "    <tr>\n",
              "      <th>2</th>\n",
              "      <td>5.552</td>\n",
              "    </tr>\n",
              "  </tbody>\n",
              "</table>\n",
              "</div>\n",
              "      <button class=\"colab-df-convert\" onclick=\"convertToInteractive('df-fb5e6f03-80a9-4f78-bd52-cc4d99270482')\"\n",
              "              title=\"Convert this dataframe to an interactive table.\"\n",
              "              style=\"display:none;\">\n",
              "        \n",
              "  <svg xmlns=\"http://www.w3.org/2000/svg\" height=\"24px\"viewBox=\"0 0 24 24\"\n",
              "       width=\"24px\">\n",
              "    <path d=\"M0 0h24v24H0V0z\" fill=\"none\"/>\n",
              "    <path d=\"M18.56 5.44l.94 2.06.94-2.06 2.06-.94-2.06-.94-.94-2.06-.94 2.06-2.06.94zm-11 1L8.5 8.5l.94-2.06 2.06-.94-2.06-.94L8.5 2.5l-.94 2.06-2.06.94zm10 10l.94 2.06.94-2.06 2.06-.94-2.06-.94-.94-2.06-.94 2.06-2.06.94z\"/><path d=\"M17.41 7.96l-1.37-1.37c-.4-.4-.92-.59-1.43-.59-.52 0-1.04.2-1.43.59L10.3 9.45l-7.72 7.72c-.78.78-.78 2.05 0 2.83L4 21.41c.39.39.9.59 1.41.59.51 0 1.02-.2 1.41-.59l7.78-7.78 2.81-2.81c.8-.78.8-2.07 0-2.86zM5.41 20L4 18.59l7.72-7.72 1.47 1.35L5.41 20z\"/>\n",
              "  </svg>\n",
              "      </button>\n",
              "      \n",
              "  <style>\n",
              "    .colab-df-container {\n",
              "      display:flex;\n",
              "      flex-wrap:wrap;\n",
              "      gap: 12px;\n",
              "    }\n",
              "\n",
              "    .colab-df-convert {\n",
              "      background-color: #E8F0FE;\n",
              "      border: none;\n",
              "      border-radius: 50%;\n",
              "      cursor: pointer;\n",
              "      display: none;\n",
              "      fill: #1967D2;\n",
              "      height: 32px;\n",
              "      padding: 0 0 0 0;\n",
              "      width: 32px;\n",
              "    }\n",
              "\n",
              "    .colab-df-convert:hover {\n",
              "      background-color: #E2EBFA;\n",
              "      box-shadow: 0px 1px 2px rgba(60, 64, 67, 0.3), 0px 1px 3px 1px rgba(60, 64, 67, 0.15);\n",
              "      fill: #174EA6;\n",
              "    }\n",
              "\n",
              "    [theme=dark] .colab-df-convert {\n",
              "      background-color: #3B4455;\n",
              "      fill: #D2E3FC;\n",
              "    }\n",
              "\n",
              "    [theme=dark] .colab-df-convert:hover {\n",
              "      background-color: #434B5C;\n",
              "      box-shadow: 0px 1px 3px 1px rgba(0, 0, 0, 0.15);\n",
              "      filter: drop-shadow(0px 1px 2px rgba(0, 0, 0, 0.3));\n",
              "      fill: #FFFFFF;\n",
              "    }\n",
              "  </style>\n",
              "\n",
              "      <script>\n",
              "        const buttonEl =\n",
              "          document.querySelector('#df-fb5e6f03-80a9-4f78-bd52-cc4d99270482 button.colab-df-convert');\n",
              "        buttonEl.style.display =\n",
              "          google.colab.kernel.accessAllowed ? 'block' : 'none';\n",
              "\n",
              "        async function convertToInteractive(key) {\n",
              "          const element = document.querySelector('#df-fb5e6f03-80a9-4f78-bd52-cc4d99270482');\n",
              "          const dataTable =\n",
              "            await google.colab.kernel.invokeFunction('convertToInteractive',\n",
              "                                                     [key], {});\n",
              "          if (!dataTable) return;\n",
              "\n",
              "          const docLinkHtml = 'Like what you see? Visit the ' +\n",
              "            '<a target=\"_blank\" href=https://colab.research.google.com/notebooks/data_table.ipynb>data table notebook</a>'\n",
              "            + ' to learn more about interactive tables.';\n",
              "          element.innerHTML = '';\n",
              "          dataTable['output_type'] = 'display_data';\n",
              "          await google.colab.output.renderOutput(dataTable, element);\n",
              "          const docLink = document.createElement('div');\n",
              "          docLink.innerHTML = docLinkHtml;\n",
              "          element.appendChild(docLink);\n",
              "        }\n",
              "      </script>\n",
              "    </div>\n",
              "  </div>\n",
              "  "
            ],
            "text/plain": [
              "             petal length (cm)\n",
              "flower_code                   \n",
              "0                        1.462\n",
              "1                        4.260\n",
              "2                        5.552"
            ]
          },
          "metadata": {},
          "execution_count": 10
        }
      ]
    },
    {
      "cell_type": "markdown",
      "source": [
        "---"
      ],
      "metadata": {
        "id": "OJVRgX7yZnIL"
      }
    },
    {
      "cell_type": "markdown",
      "source": [
        "### 문제 5. 데이터셋에서 가장 긴 길이의 꽃받침을 가진 꽃(data)이 속해있는 꽃의 아이디(flower_code)는 무엇입니까? \n",
        "* 아래에 답을 내기 위한 코드를 작성하고, 해당하는 꽃의 아이디를 flower_code_which_has_the_longest_sepal 에 int 형으로 저장하시오."
      ],
      "metadata": {
        "id": "MRBx4vVWZA68"
      }
    },
    {
      "cell_type": "code",
      "source": [
        "# =================================\n",
        "# 여기에 코드를 입력하시오\n",
        "flower_code_which_has_the_longest_sepal = int(df[df['sepal length (cm)']==df['sepal length (cm)'].max()]['flower_code'])\n",
        "flower_code_which_has_the_longest_sepal\n",
        "# ================================="
      ],
      "metadata": {
        "id": "3op5AisaZAvm",
        "colab": {
          "base_uri": "https://localhost:8080/"
        },
        "outputId": "d60caadf-859f-4d08-f1f8-6333faef84c7"
      },
      "execution_count": null,
      "outputs": [
        {
          "output_type": "execute_result",
          "data": {
            "text/plain": [
              "2"
            ]
          },
          "metadata": {},
          "execution_count": 11
        }
      ]
    },
    {
      "cell_type": "markdown",
      "source": [
        "---"
      ],
      "metadata": {
        "id": "rAO5EEkhZsGr"
      }
    },
    {
      "cell_type": "markdown",
      "source": [
        "### 문제 6. 꽃받침 길이를 x축으로, 꽃받침 넓이를 y축으로 하는 산점도(Scatter Plot) 을 그리시오\n",
        "\n",
        "* 점의 색상은 flower_code 로 구분합니다."
      ],
      "metadata": {
        "id": "4gi3BMoyZEpt"
      }
    },
    {
      "cell_type": "code",
      "source": [
        "df.columns"
      ],
      "metadata": {
        "colab": {
          "base_uri": "https://localhost:8080/"
        },
        "id": "6IbdL4YMqwTE",
        "outputId": "b51b113d-4343-4d4a-9fa2-725f5ef33618"
      },
      "execution_count": null,
      "outputs": [
        {
          "output_type": "execute_result",
          "data": {
            "text/plain": [
              "Index(['sepal length (cm)', 'sepal width (cm)', 'petal length (cm)',\n",
              "       'petal width (cm)', 'flower_code'],\n",
              "      dtype='object')"
            ]
          },
          "metadata": {},
          "execution_count": 12
        }
      ]
    },
    {
      "cell_type": "code",
      "source": [
        "import matplotlib.pyplot as plt\n",
        "import seaborn as sns\n",
        "# =================================\n",
        "# 여기에 코드를 입력하시오\n",
        "sns.set_theme(style=\"white\", palette=\"pastel\")\n",
        "g = sns.scatterplot(x='sepal length (cm)', y= 'sepal width (cm)',hue = 'flower_code' ,data=df)\n",
        "g.figure.set_size_inches(10,8)\n",
        "# ================================="
      ],
      "metadata": {
        "colab": {
          "base_uri": "https://localhost:8080/",
          "height": 503
        },
        "id": "qRqSznrXZAtC",
        "outputId": "75708370-4af8-46af-abc9-138cd585798b"
      },
      "execution_count": null,
      "outputs": [
        {
          "output_type": "display_data",
          "data": {
            "image/png": "[encoded data removed]",
            "text/plain": [
              "<Figure size 720x576 with 1 Axes>"
            ]
          },
          "metadata": {}
        }
      ]
    },
    {
      "cell_type": "markdown",
      "source": [
        "---"
      ],
      "metadata": {
        "id": "OKi6W5jfZuRE"
      }
    },
    {
      "cell_type": "markdown",
      "source": [
        "### 문제 7. flower_code 를 제외한 나머지 4개의 feature 를 통해 flower_code 를 예측하는 코드를 작성하시오. \n",
        "\n",
        "* logistic regression 을 이용합니다.\n",
        "* 학습에는 X_train, y_train\n",
        "* 테스트에는 X_test, y_test 를 이용합니다.\n",
        "* 정확도가 90% 이상이면 통과입니다."
      ],
      "metadata": {
        "id": "B69kp6YxZLZF"
      }
    },
    {
      "cell_type": "code",
      "source": [
        "from sklearn.linear_model import LogisticRegression\n",
        "from sklearn import metrics\n",
        "from sklearn.model_selection import train_test_split"
      ],
      "metadata": {
        "id": "agpx-iRhZORl"
      },
      "execution_count": null,
      "outputs": []
    },
    {
      "cell_type": "code",
      "source": [
        "X = df.drop(['flower_code'], axis=1)\n",
        "y = df['flower_code']\n",
        "X_train, X_test, y_train, y_test = train_test_split(X, y, test_size=0.4, random_state=5)\n",
        "print(X_train.shape)\n",
        "print(y_train.shape)\n",
        "print(X_test.shape)\n",
        "print(y_test.shape)"
      ],
      "metadata": {
        "colab": {
          "base_uri": "https://localhost:8080/"
        },
        "id": "e-uNug_yY__E",
        "outputId": "9224c6c8-abdf-49ec-fb14-bbe562a4f749"
      },
      "execution_count": null,
      "outputs": [
        {
          "output_type": "stream",
          "name": "stdout",
          "text": [
            "(90, 4)\n",
            "(90,)\n",
            "(60, 4)\n",
            "(60,)\n"
          ]
        }
      ]
    },
    {
      "cell_type": "code",
      "source": [
        "# ===========================\n",
        "# 여기에 코드를 입력합니다.\n",
        "clf = LogisticRegression(max_iter=500)\n",
        "clf.fit(X_train,y_train)\n",
        "y_pred = clf.predict(X_test)\n",
        "metrics.accuracy_score(y_pred, y_test)\n",
        "# =========================="
      ],
      "metadata": {
        "colab": {
          "base_uri": "https://localhost:8080/"
        },
        "id": "pKuKR7GjZSNt",
        "outputId": "2cc7b4b2-ad04-4ec6-a5f1-a4b4ffdb120c"
      },
      "execution_count": null,
      "outputs": [
        {
          "output_type": "execute_result",
          "data": {
            "text/plain": [
              "0.9833333333333333"
            ]
          },
          "metadata": {},
          "execution_count": 16
        }
      ]
    },
    {
      "cell_type": "code",
      "source": [
        "print(metrics.accuracy_score(y_test, y_pred))"
      ],
      "metadata": {
        "colab": {
          "base_uri": "https://localhost:8080/"
        },
        "id": "GbEJVl6xZUVM",
        "outputId": "85c1f7ef-ef6d-4508-f6dc-13b43ba0ba5c"
      },
      "execution_count": null,
      "outputs": [
        {
          "output_type": "stream",
          "name": "stdout",
          "text": [
            "0.9833333333333333\n"
          ]
        }
      ]
    },
    {
      "cell_type": "markdown",
      "source": [
        "---"
      ],
      "metadata": {
        "id": "prEYDwbMZv1G"
      }
    },
    {
      "cell_type": "markdown",
      "source": [
        "**문제 8-10. 다음은 텍스트 코퍼스입니다.**"
      ],
      "metadata": {
        "id": "5fEZMEjcjYeb"
      }
    },
    {
      "cell_type": "code",
      "source": [
        "corpus = [\n",
        "          \"Show me the money!\",\n",
        "          \"You can't handle the truth!\",\n",
        "          \"I'm going to make him an offer he can't refuse.\",\n",
        "          \"After all, tomorrow is another day!\",\n",
        "          \"I'm the king of the world!\",\n",
        "          \"There's no place like home.\",\n",
        "          \"You're gonna need a bigger boat.\"\n",
        "]"
      ],
      "metadata": {
        "id": "RyV3YHMKn2w9"
      },
      "execution_count": null,
      "outputs": []
    },
    {
      "cell_type": "markdown",
      "source": [
        "### 문제 8. 텍스트 전처리 함수를 구현해보세요.\n",
        "\n",
        "함수 스펙\n",
        "- 문자열을 입력으로 받습니다.\n",
        "- 모든 문자를 소문자로 바꿉니다.\n",
        "- 문장부호(마침표, 쉼표, 느낌표)를 제거합니다.\n",
        "- 문장을 띄어쓰기 단위로 토크나이징합니다.\n",
        "- 각 토큰이 나온 횟수를 세어서 bag of words 형태로 반환합니다.\n",
        "- 반환 형식은 토큰(문자열)과 출현 횟수(숫자)의 딕셔너리입니다."
      ],
      "metadata": {
        "id": "G98RW8Pfo98e"
      }
    },
    {
      "cell_type": "code",
      "source": [
        "def preprocess_document(text):\n",
        "  # =================================================================================\n",
        "  # 여기에 코드를 입력하세요\n",
        "  # 입력 타입은 문장(문자열)입니다.\n",
        "  # 출력 타입은 토큰(문자열)의 리스트(list)입니다.\n",
        "  lowered_text = text.lower()\n",
        "  removed_text = [x for x in lowered_text if x not in [\"!\",\".\",\",\"]]\n",
        "  cleaned_text = ''.join(removed_text)\n",
        "  BOW = cleaned_text.split(' ')\n",
        "  count_dict = {}\n",
        "  for i in BOW:\n",
        "    if i not in count_dict.keys():\n",
        "      count_dict[i] = 1\n",
        "    else :\n",
        "      count_dict[i] += 1\n",
        "  return count_dict\n",
        "  # ================================================================================="
      ],
      "metadata": {
        "id": "WnsSOLuzo9xU"
      },
      "execution_count": null,
      "outputs": []
    },
    {
      "cell_type": "code",
      "source": [
        "# 테스트 코드입니다.\n",
        "# 함수가 제대로 구현되었는지 평가를 위한 코드이니 수정하지 마세요.\n",
        "# 실행했을 때 아무 에러도 뜨지 않으면 성공입니다.\n",
        "\n",
        "assert preprocess_document(\"Show me the money!\") == {'me': 1, 'money': 1, 'show': 1, 'the': 1}\n",
        "assert preprocess_document(\"You can't handle the truth!\") == {\"can't\": 1, 'handle': 1, 'the': 1, 'truth': 1, 'you': 1}\n",
        "assert preprocess_document(\"I'm the king of the world!\") == {\"i'm\": 1, 'king': 1, 'of': 1, 'the': 2, 'world': 1}\n",
        "assert preprocess_document(\"There's no place like home.\",) == {'home': 1, 'like': 1, 'no': 1, 'place': 1, \"there's\": 1}"
      ],
      "metadata": {
        "id": "NJLCXymGo9ub"
      },
      "execution_count": null,
      "outputs": []
    },
    {
      "cell_type": "code",
      "source": [
        "# 이후 문제를 위해 주어진 코퍼스를 전처리해놓는 코드입니다.\n",
        "# 코드를 수정하지 말고 실행하세요.\n",
        "preprocessed_corpus = [preprocess_document(document) for document in corpus]"
      ],
      "metadata": {
        "id": "PiogQme_q_dJ"
      },
      "execution_count": null,
      "outputs": []
    },
    {
      "cell_type": "markdown",
      "source": [
        "---"
      ],
      "metadata": {
        "id": "aBFkzHcPZ2sw"
      }
    },
    {
      "cell_type": "markdown",
      "source": [
        "### 문제 9. TF-IDF를 계산하는 함수를 구현해 보세요.\n",
        "\n",
        "다음과 같은 TF와 IDF의 정의를 사용합니다.\n",
        "- TF는 주어진 문장에서 해당 토큰이 출현한 횟수입니다.\n",
        "- IDF는 (전체 문서 수 + 1)을 (해당 토큰이 출현한 문서 수 + 1)로 나눈 뒤 밑이 2인 로그를 취한 값입니다.\n",
        "- 다음 식을 참고하세요.\n",
        "\n",
        "$$\\text{IDF} = \\log_2{\\frac{|D| + 1}{|\\{d \\in D : t \\in D\\}| + 1}}$$\n",
        "\n",
        "- $D$는 전체 문서의 집합, 즉 코퍼스입니다.\n",
        "- $|D|$는 전체 문서의 개수를 뜻합니다.\n",
        "- $|\\{d \\in D : t \\in D\\}|$는 코퍼스에서 토큰 t가 들어 있는 문서의 개수를 뜻합니다.\n",
        "- 한 문서에 토큰이 여러번 출현하더라도 IDF를 계산할 때는 한번 출현한 것과 같이 취급됩니다.\n",
        "- 분모와 분자에 1을 더해주는 이유는 토큰이 코퍼스에 없을 때 0으로 나누는 것을 막기 위해서입니다."
      ],
      "metadata": {
        "id": "CqU5iDT8q2e6"
      }
    },
    {
      "cell_type": "markdown",
      "source": [
        "TF 함수와 IDF 함수를 구현해보세요."
      ],
      "metadata": {
        "id": "HPufPfYIuHxQ"
      }
    },
    {
      "cell_type": "code",
      "source": [
        "preprocessed_corpus"
      ],
      "metadata": {
        "colab": {
          "base_uri": "https://localhost:8080/"
        },
        "id": "_V3EELJB3wt9",
        "outputId": "fcc6c870-e2fa-4d5b-da16-86ac6039c69a"
      },
      "execution_count": null,
      "outputs": [
        {
          "output_type": "execute_result",
          "data": {
            "text/plain": [
              "[{'me': 1, 'money': 1, 'show': 1, 'the': 1},\n",
              " {\"can't\": 1, 'handle': 1, 'the': 1, 'truth': 1, 'you': 1},\n",
              " {'an': 1,\n",
              "  \"can't\": 1,\n",
              "  'going': 1,\n",
              "  'he': 1,\n",
              "  'him': 1,\n",
              "  \"i'm\": 1,\n",
              "  'make': 1,\n",
              "  'offer': 1,\n",
              "  'refuse': 1,\n",
              "  'to': 1},\n",
              " {'after': 1, 'all': 1, 'another': 1, 'day': 1, 'is': 1, 'tomorrow': 1},\n",
              " {\"i'm\": 1, 'king': 1, 'of': 1, 'the': 2, 'world': 1},\n",
              " {'home': 1, 'like': 1, 'no': 1, 'place': 1, \"there's\": 1},\n",
              " {'a': 1, 'bigger': 1, 'boat': 1, 'gonna': 1, 'need': 1, \"you're\": 1}]"
            ]
          },
          "metadata": {},
          "execution_count": 22
        }
      ]
    },
    {
      "cell_type": "code",
      "source": [
        "def tf(token, document):\n",
        "  # =================================================================================\n",
        "  # 여기에 코드를 입력하세요\n",
        "  # token은 문자열(string), document는 위에서 구현한 preprocess_document 함수의 결과물, 즉 딕셔너리입니다.\n",
        "  # 출력 타입은 숫자(int)입니다.\n",
        "  return document[token]\n",
        "  # pass\n",
        "  # ================================================================================="
      ],
      "metadata": {
        "id": "o4xEQbyQo9SN"
      },
      "execution_count": null,
      "outputs": []
    },
    {
      "cell_type": "code",
      "source": [
        "import math\n",
        "\n",
        "def idf(token, corpus):\n",
        "  # =================================================================================\n",
        "  # 여기에 코드를 입력하세요\n",
        "  # token은 문자열(string), corpus는 전처리된 문서(딕셔너리)의 리스트입니다.\n",
        "  # 출력 타입은 숫자(float)입니다.\n",
        "  # 로그 계산을 위해 math.log2 함수를 사용하세요.\n",
        "  D = len(corpus)\n",
        "  EM_DOCT = 0\n",
        "  for dic in corpus:\n",
        "    if token in dic.keys():\n",
        "      EM_DOCT+=1\n",
        "  IDF = math.log2((D+1)/(EM_DOCT+1))\n",
        "  return IDF\n",
        "  # pass\n",
        "  # ================================================================================="
      ],
      "metadata": {
        "id": "H1rRmEFsutaW"
      },
      "execution_count": null,
      "outputs": []
    },
    {
      "cell_type": "code",
      "source": [
        "# 이 코드는 수정하지 마세요.\n",
        "# 위의 함수가 구현되면 사용할 수 있게 됩니다.\n",
        "\n",
        "def tfidf(token, document, corpus):\n",
        "  return tf(token, document) * idf(token, corpus)\n"
      ],
      "metadata": {
        "id": "G9v4Mwhhvo67"
      },
      "execution_count": null,
      "outputs": []
    },
    {
      "cell_type": "code",
      "source": [
        "# 테스트 코드입니다.\n",
        "# 함수가 제대로 구현되었는지 평가를 위한 코드이니 수정하지 마세요.\n",
        "# 실행했을 때 아무 에러도 뜨지 않으면 성공입니다.\n",
        "\n",
        "assert tf(\"i\", preprocess_document(\"I feel the need, the need for speed!\")) == 1\n",
        "\n",
        "assert idf(\"the\", preprocessed_corpus) == 1\n",
        "assert idf(\"tomorrow\", preprocessed_corpus) == 2\n",
        "\n",
        "assert tf(\"need\", preprocess_document(\"I feel the need, the need for speed!\")) == 2\n",
        "assert idf(\"need\", preprocessed_corpus) == 2\n",
        "\n",
        "assert tfidf(\"need\", preprocess_document(\"I feel the need, the need for speed!\"), preprocessed_corpus) == 4"
      ],
      "metadata": {
        "id": "d1QM8M8ivaSd"
      },
      "execution_count": null,
      "outputs": []
    },
    {
      "cell_type": "markdown",
      "source": [
        "---"
      ],
      "metadata": {
        "id": "6MEJM4HFZ5_M"
      }
    },
    {
      "cell_type": "markdown",
      "source": [
        "### 문제 10. 위에서 구현한 TF-IDF를 이용해 사전 기반 감정 분석 모델을 만들어 보세요.\n",
        "\n",
        "단순히 토큰이 사전에 있는지 없는지를 검사하는 것에서 벗어나 토큰의 TF-IDF 점수를 이용해 사전 기반 감정 분석을 조금 더 개선할 수 있습니다.\n",
        "\n",
        "다음 조건을 만족하는 함수를 구현해보세요.\n",
        "- 전처리된 문서(dictionary), 코퍼스(list of documents), 감성 사전(dictionary)를 입력으로 받습니다.\n",
        "- 위에서 구현한 TF-IDF 함수를 이용해 문장의 각 토큰의 TF-IDF 점수를 구합니다.\n",
        "- 토큰마다 감성 사전의 긍부정 점수에 TF-IDF 점수를 곱합니다. (사전에 없는 단어는 0점으로 계산합니다.)\n",
        "- 토큰마다 계산한 점수를 합하여 문장의 점수를 구합니다.\n",
        "- 최종적으로 계산된 문장의 긍부정 점수(float)를 반환합니다.\n"
      ],
      "metadata": {
        "id": "6l7L0uZBwz_H"
      }
    },
    {
      "cell_type": "code",
      "source": [
        "# 문제에서 사용할 감성 사전입니다. 수정하지 마세요.\n",
        "sentiment_dictionary = {\n",
        "    'amazing': 1,\n",
        "    'awesome': 1,\n",
        "    'awful': -1,\n",
        "    'bad': -1,\n",
        "    'beautiful': 1,\n",
        "    'disappointing': -1,\n",
        "    'excited': 1,\n",
        "    'fun': 1,\n",
        "    'hate': -1,\n",
        "    'love': 1,\n",
        "    'nice': 1,\n",
        "    'okay': 1,\n",
        "    'sad': -1,\n",
        "    'wonderful': 1,\n",
        "    'wrong': -1,\n",
        "    'mad': -1,\n",
        "    'hell': -1,\n",
        "}"
      ],
      "metadata": {
        "id": "Cf_zPLDM0C55"
      },
      "execution_count": null,
      "outputs": []
    },
    {
      "cell_type": "code",
      "source": [
        "def calculate_sentiment(document, corpus, sent_dict):\n",
        "  # =================================================================================\n",
        "  # 여기에 코드를 입력하세요\n",
        "  # document 전처리된 문서(딕셔너리), corpus는 전처리된 문서(딕셔너리)의 리스트, sent_dict는 감성 사전(딕셔너리)입니다.\n",
        "  # document의 각 토큰마다 tf-idf 점수를 계산하세요.\n",
        "  # 각 토큰의 tf-idf 점수와 감성 사전의 긍부정 점수(미등록 단어면 0)를 곱한 값을 모두 합하여 문장의 긍부정 점수를 반환하세요.\n",
        "  # 출력 타입은 숫자(float)입니다.\n",
        "  score = 0\n",
        "  for i in sent_dict.keys():\n",
        "    try :\n",
        "      score += tfidf(i,document, corpus)*sentiment_dictionary[i]\n",
        "    except KeyError:\n",
        "      pass\n",
        "  return score\n",
        "  # pass\n",
        "  # ================================================================================="
      ],
      "metadata": {
        "id": "ikshXnUwyNn4"
      },
      "execution_count": null,
      "outputs": []
    },
    {
      "cell_type": "code",
      "source": [
        "assert calculate_sentiment(preprocess_document(\"I'm as mad as hell, and I'm not going to take this anymore!\"), preprocessed_corpus, sentiment_dictionary) == -6\n",
        "# mad와 hell이 부정 단어이며 둘 다 tf-idf 점수는 3입니다.\n",
        "# -1 * 3 + -1 * 3 -> 문장의 긍부정 점수는 -6입니다.\n",
        "\n",
        "assert calculate_sentiment(preprocess_document(\"Love means never having to say you're sorry.\"), preprocessed_corpus, sentiment_dictionary) == 3\n",
        "# love는 긍정 단어이며 tf-idf 점수는 3입니다.\n",
        "# 1 * 3 -> 문장의 긍부정 점수는 3입니다."
      ],
      "metadata": {
        "id": "aer_XXuy0ByF"
      },
      "execution_count": null,
      "outputs": []
    }
  ]
}