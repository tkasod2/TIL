{
  "nbformat": 4,
  "nbformat_minor": 0,
  "metadata": {
    "colab": {
      "name": "sqlite3연습.ipynb",
      "provenance": [],
      "collapsed_sections": [],
      "mount_file_id": "1phKOEvzqjmiGZ1F_9X-UbnCyn5Ouz3nC",
      "authorship_tag": "ABX9TyPKiRmi1q1ehFNWyVyvgb6s",
      "include_colab_link": true
    },
    "kernelspec": {
      "name": "python3",
      "display_name": "Python 3"
    },
    "language_info": {
      "name": "python"
    }
  },
  "cells": [
    {
      "cell_type": "markdown",
      "metadata": {
        "id": "view-in-github",
        "colab_type": "text"
      },
      "source": [
        "<a href=\"https://colab.research.google.com/github/tkasod2/TIL/blob/main/sql/sqlite3%EC%97%B0%EC%8A%B5.ipynb\" target=\"_parent\"><img src=\"https://colab.research.google.com/assets/colab-badge.svg\" alt=\"Open In Colab\"/></a>"
      ]
    },
    {
      "cell_type": "code",
      "execution_count": null,
      "metadata": {
        "id": "37r62gPwgCxU"
      },
      "outputs": [],
      "source": [
        "import sqlite3"
      ]
    },
    {
      "cell_type": "code",
      "source": [
        "# print(sqlite3.sqlite_version)\n",
        "# print(sqlite3.version)"
      ],
      "metadata": {
        "colab": {
          "base_uri": "https://localhost:8080/"
        },
        "id": "GJEYqR-WgGFK",
        "outputId": "6d344d67-b809-430d-9dfe-b6015fa262c2"
      },
      "execution_count": null,
      "outputs": [
        {
          "output_type": "stream",
          "name": "stdout",
          "text": [
            "3.22.0\n",
            "2.6.0\n"
          ]
        }
      ]
    },
    {
      "cell_type": "code",
      "source": [
        "from google.colab import drive\n",
        "drive.mount('/content/drive')"
      ],
      "metadata": {
        "colab": {
          "base_uri": "https://localhost:8080/"
        },
        "id": "tfkYJJzhgdZW",
        "outputId": "d75a8055-760e-4697-9071-99bcd1a77d87"
      },
      "execution_count": null,
      "outputs": [
        {
          "output_type": "stream",
          "name": "stdout",
          "text": [
            "Drive already mounted at /content/drive; to attempt to forcibly remount, call drive.mount(\"/content/drive\", force_remount=True).\n"
          ]
        }
      ]
    },
    {
      "cell_type": "code",
      "source": [
        "dbpath = \"/content/drive/MyDrive/sql/sample.db\"\n",
        "conn = sqlite3.connect(dbpath)"
      ],
      "metadata": {
        "id": "5n6ZeovigKrh"
      },
      "execution_count": null,
      "outputs": []
    },
    {
      "cell_type": "code",
      "source": [
        "cur = conn.cursor()\n",
        "\n",
        "# cur.execute(하나의 SQL문~~)\n",
        "# cur.executescript(하나 이상의 SQL문)\n",
        "# cur.executemany(~~~, ~~~) --> Data만 바꿔가면서 동일한 SQL문을 반복시행\n",
        "\n",
        "# * SELECT문 실행 후 적용 진행\n",
        "# cur.fetchone() --> 하나의 행을 불러옴(출력)\n",
        "# cut.fetchall() --> 모든 행을 불러옴(출력)"
      ],
      "metadata": {
        "id": "BJsM4W8_gZ8R"
      },
      "execution_count": null,
      "outputs": []
    },
    {
      "cell_type": "markdown",
      "source": [
        "## 기본 셋팅"
      ],
      "metadata": {
        "id": "cbEX4_L-7NEG"
      }
    },
    {
      "cell_type": "code",
      "source": [
        "script = \"\"\"\n",
        "-- 1) employees 테이블이 이미 있다면 제거\n",
        "DROP TABLE IF EXISTS employees;\n",
        "\n",
        "-- 2) employees 테이블 생성 \n",
        "-- 필드명, (필드)데이터 타입, 제약조건(constraints ;ex. AUTOINCREMENT, NOT NULL)\n",
        "CREATE TABLE employees( \n",
        "id INTEGER PRIMARY KEY AUTOINCREMENT, --숫자를 저장, 이 테이블의 주요 Key(기본 키)로 지정, 값을 따로 입력하지 않으면 자동 증가 숫자 부여\n",
        "name TEXT NOT NULL, --빈 값이 저장되는 것을 허용하지 않음\n",
        "salary REAL, --소수점이 들어간 자료형\n",
        "department TEXT,\n",
        "position TEXT,\n",
        "hireDate TEXT);\n",
        "\n",
        "-- 3) employees 테이블에 데이터(row == record == instance) 넣기\n",
        "-- Format) INSERT INTO 테이블명(필드명, 필드명, ...) VALUES(실제값, 실제값, ...) <- 지정한 필드의 수와 넣어주는 값의 갯수가 동일해야 함\n",
        "\n",
        "INSERT INTO employees(name, salary, department, position, hireDate) VALUES('Dave', 300, 'Marketing', 'LV1', '2020-01-01');\n",
        "INSERT INTO employees(name, salary, department, position, hireDate) VALUES('Clara', 420, 'Sales', 'LV2', '2018-01-11');\n",
        "INSERT INTO employees(id, name, salary, department, position, hireDate) VALUES(3, 'Jane', 620, 'Developer', 'LV4', '2015-11-01');\n",
        "\n",
        "-- 전체 필드에 빠짐없이 값을 넣을 시 필드명 생략 가능 \n",
        "INSERT INTO employees VALUES(4, 'Peter', 530, 'Developer', 'LV2', '2020-11-01'); \n",
        "\"\"\"\n",
        "\n",
        "cur.executescript(script) \n",
        "conn.commit()"
      ],
      "metadata": {
        "id": "L6EC7zRYgoy2"
      },
      "execution_count": null,
      "outputs": []
    },
    {
      "cell_type": "code",
      "source": [
        "data = [('Elena', 510, 'Recruiter', 'LV3', '2020-07-01'), \n",
        "        ('Sujan', 710, 'HR', 'LV5', '2014-06-01'),\n",
        "        ('Jake', 210, 'CEO', 'LV8', '2012-01-01')]\n",
        "\n",
        "cur.executemany(\"INSERT INTO employees(name, salary, department, position, hireDate)\\\n",
        "                VALUES(?, ?, ?, ?, ?);\", data)\n",
        "conn.commit()"
      ],
      "metadata": {
        "id": "upcfIhKxhJhO"
      },
      "execution_count": null,
      "outputs": []
    },
    {
      "cell_type": "code",
      "source": [
        "cur.execute(\"SELECT * FROM employees;\")\n",
        "employee_list = cur.fetchall()\n",
        "for employee in employee_list:\n",
        "    print(employee)"
      ],
      "metadata": {
        "colab": {
          "base_uri": "https://localhost:8080/"
        },
        "id": "Jboq6vGthRK0",
        "outputId": "d0e8b92a-6b4c-4f8b-c094-8b5754b8d4fb"
      },
      "execution_count": null,
      "outputs": [
        {
          "output_type": "stream",
          "name": "stdout",
          "text": [
            "(1, 'Dave', 300.0, 'Marketing', 'LV1', '2020-01-01')\n",
            "(2, 'Clara', 420.0, 'Sales', 'LV2', '2018-01-11')\n",
            "(3, 'Jane', 620.0, 'Developer', 'LV4', '2015-11-01')\n",
            "(4, 'Peter', 530.0, 'Developer', 'LV2', '2020-11-01')\n",
            "(5, 'Elena', 510.0, 'Recruiter', 'LV3', '2020-07-01')\n",
            "(6, 'Sujan', 710.0, 'HR', 'LV5', '2014-06-01')\n",
            "(7, 'Jake', 210.0, 'CEO', 'LV8', '2012-01-01')\n"
          ]
        }
      ]
    },
    {
      "cell_type": "code",
      "source": [
        "print([ col[0] for col in cur.description ])"
      ],
      "metadata": {
        "colab": {
          "base_uri": "https://localhost:8080/"
        },
        "id": "lPTP1aomhUgZ",
        "outputId": "02665af1-3161-43e3-a0e1-eaaf672b3e3e"
      },
      "execution_count": null,
      "outputs": [
        {
          "output_type": "stream",
          "name": "stdout",
          "text": [
            "['id', 'name', 'salary', 'department', 'position', 'hireDate']\n"
          ]
        }
      ]
    },
    {
      "cell_type": "code",
      "source": [
        ""
      ],
      "metadata": {
        "id": "Edt9M4Pt7T6j"
      },
      "execution_count": null,
      "outputs": []
    },
    {
      "cell_type": "code",
      "source": [
        "import pandas as pd\n",
        "\n",
        "df = pd.read_sql_query(\"SELECT * FROM employees;\", conn) \n",
        "df"
      ],
      "metadata": {
        "colab": {
          "base_uri": "https://localhost:8080/",
          "height": 455
        },
        "id": "6q0zhd4chgbB",
        "outputId": "646f655a-f2b0-414d-915e-157eabcf5acc"
      },
      "execution_count": null,
      "outputs": [
        {
          "output_type": "error",
          "ename": "DatabaseError",
          "evalue": "ignored",
          "traceback": [
            "\u001b[0;31m---------------------------------------------------------------------------\u001b[0m",
            "\u001b[0;31mOperationalError\u001b[0m                          Traceback (most recent call last)",
            "\u001b[0;32m/usr/local/lib/python3.7/dist-packages/pandas/io/sql.py\u001b[0m in \u001b[0;36mexecute\u001b[0;34m(self, *args, **kwargs)\u001b[0m\n\u001b[1;32m   1680\u001b[0m         \u001b[0;32mtry\u001b[0m\u001b[0;34m:\u001b[0m\u001b[0;34m\u001b[0m\u001b[0;34m\u001b[0m\u001b[0m\n\u001b[0;32m-> 1681\u001b[0;31m             \u001b[0mcur\u001b[0m\u001b[0;34m.\u001b[0m\u001b[0mexecute\u001b[0m\u001b[0;34m(\u001b[0m\u001b[0;34m*\u001b[0m\u001b[0margs\u001b[0m\u001b[0;34m,\u001b[0m \u001b[0;34m**\u001b[0m\u001b[0mkwargs\u001b[0m\u001b[0;34m)\u001b[0m\u001b[0;34m\u001b[0m\u001b[0;34m\u001b[0m\u001b[0m\n\u001b[0m\u001b[1;32m   1682\u001b[0m             \u001b[0;32mreturn\u001b[0m \u001b[0mcur\u001b[0m\u001b[0;34m\u001b[0m\u001b[0;34m\u001b[0m\u001b[0m\n",
            "\u001b[0;31mOperationalError\u001b[0m: no such table: employees",
            "\nThe above exception was the direct cause of the following exception:\n",
            "\u001b[0;31mDatabaseError\u001b[0m                             Traceback (most recent call last)",
            "\u001b[0;32m<ipython-input-18-9c88baa8ff39>\u001b[0m in \u001b[0;36m<module>\u001b[0;34m()\u001b[0m\n\u001b[1;32m      1\u001b[0m \u001b[0;32mimport\u001b[0m \u001b[0mpandas\u001b[0m \u001b[0;32mas\u001b[0m \u001b[0mpd\u001b[0m\u001b[0;34m\u001b[0m\u001b[0;34m\u001b[0m\u001b[0m\n\u001b[1;32m      2\u001b[0m \u001b[0;34m\u001b[0m\u001b[0m\n\u001b[0;32m----> 3\u001b[0;31m \u001b[0mdf\u001b[0m \u001b[0;34m=\u001b[0m \u001b[0mpd\u001b[0m\u001b[0;34m.\u001b[0m\u001b[0mread_sql_query\u001b[0m\u001b[0;34m(\u001b[0m\u001b[0;34m\"SELECT * FROM employees;\"\u001b[0m\u001b[0;34m,\u001b[0m \u001b[0mconn\u001b[0m\u001b[0;34m)\u001b[0m\u001b[0;34m\u001b[0m\u001b[0;34m\u001b[0m\u001b[0m\n\u001b[0m\u001b[1;32m      4\u001b[0m \u001b[0mdf\u001b[0m\u001b[0;34m\u001b[0m\u001b[0;34m\u001b[0m\u001b[0m\n",
            "\u001b[0;32m/usr/local/lib/python3.7/dist-packages/pandas/io/sql.py\u001b[0m in \u001b[0;36mread_sql_query\u001b[0;34m(sql, con, index_col, coerce_float, params, parse_dates, chunksize)\u001b[0m\n\u001b[1;32m    381\u001b[0m         \u001b[0mcoerce_float\u001b[0m\u001b[0;34m=\u001b[0m\u001b[0mcoerce_float\u001b[0m\u001b[0;34m,\u001b[0m\u001b[0;34m\u001b[0m\u001b[0;34m\u001b[0m\u001b[0m\n\u001b[1;32m    382\u001b[0m         \u001b[0mparse_dates\u001b[0m\u001b[0;34m=\u001b[0m\u001b[0mparse_dates\u001b[0m\u001b[0;34m,\u001b[0m\u001b[0;34m\u001b[0m\u001b[0;34m\u001b[0m\u001b[0m\n\u001b[0;32m--> 383\u001b[0;31m         \u001b[0mchunksize\u001b[0m\u001b[0;34m=\u001b[0m\u001b[0mchunksize\u001b[0m\u001b[0;34m,\u001b[0m\u001b[0;34m\u001b[0m\u001b[0;34m\u001b[0m\u001b[0m\n\u001b[0m\u001b[1;32m    384\u001b[0m     )\n\u001b[1;32m    385\u001b[0m \u001b[0;34m\u001b[0m\u001b[0m\n",
            "\u001b[0;32m/usr/local/lib/python3.7/dist-packages/pandas/io/sql.py\u001b[0m in \u001b[0;36mread_query\u001b[0;34m(self, sql, index_col, coerce_float, params, parse_dates, chunksize)\u001b[0m\n\u001b[1;32m   1725\u001b[0m \u001b[0;34m\u001b[0m\u001b[0m\n\u001b[1;32m   1726\u001b[0m         \u001b[0margs\u001b[0m \u001b[0;34m=\u001b[0m \u001b[0m_convert_params\u001b[0m\u001b[0;34m(\u001b[0m\u001b[0msql\u001b[0m\u001b[0;34m,\u001b[0m \u001b[0mparams\u001b[0m\u001b[0;34m)\u001b[0m\u001b[0;34m\u001b[0m\u001b[0;34m\u001b[0m\u001b[0m\n\u001b[0;32m-> 1727\u001b[0;31m         \u001b[0mcursor\u001b[0m \u001b[0;34m=\u001b[0m \u001b[0mself\u001b[0m\u001b[0;34m.\u001b[0m\u001b[0mexecute\u001b[0m\u001b[0;34m(\u001b[0m\u001b[0;34m*\u001b[0m\u001b[0margs\u001b[0m\u001b[0;34m)\u001b[0m\u001b[0;34m\u001b[0m\u001b[0;34m\u001b[0m\u001b[0m\n\u001b[0m\u001b[1;32m   1728\u001b[0m         \u001b[0mcolumns\u001b[0m \u001b[0;34m=\u001b[0m \u001b[0;34m[\u001b[0m\u001b[0mcol_desc\u001b[0m\u001b[0;34m[\u001b[0m\u001b[0;36m0\u001b[0m\u001b[0;34m]\u001b[0m \u001b[0;32mfor\u001b[0m \u001b[0mcol_desc\u001b[0m \u001b[0;32min\u001b[0m \u001b[0mcursor\u001b[0m\u001b[0;34m.\u001b[0m\u001b[0mdescription\u001b[0m\u001b[0;34m]\u001b[0m\u001b[0;34m\u001b[0m\u001b[0;34m\u001b[0m\u001b[0m\n\u001b[1;32m   1729\u001b[0m \u001b[0;34m\u001b[0m\u001b[0m\n",
            "\u001b[0;32m/usr/local/lib/python3.7/dist-packages/pandas/io/sql.py\u001b[0m in \u001b[0;36mexecute\u001b[0;34m(self, *args, **kwargs)\u001b[0m\n\u001b[1;32m   1691\u001b[0m \u001b[0;34m\u001b[0m\u001b[0m\n\u001b[1;32m   1692\u001b[0m             \u001b[0mex\u001b[0m \u001b[0;34m=\u001b[0m \u001b[0mDatabaseError\u001b[0m\u001b[0;34m(\u001b[0m\u001b[0;34mf\"Execution failed on sql '{args[0]}': {exc}\"\u001b[0m\u001b[0;34m)\u001b[0m\u001b[0;34m\u001b[0m\u001b[0;34m\u001b[0m\u001b[0m\n\u001b[0;32m-> 1693\u001b[0;31m             \u001b[0;32mraise\u001b[0m \u001b[0mex\u001b[0m \u001b[0;32mfrom\u001b[0m \u001b[0mexc\u001b[0m\u001b[0;34m\u001b[0m\u001b[0;34m\u001b[0m\u001b[0m\n\u001b[0m\u001b[1;32m   1694\u001b[0m \u001b[0;34m\u001b[0m\u001b[0m\n\u001b[1;32m   1695\u001b[0m     \u001b[0;34m@\u001b[0m\u001b[0mstaticmethod\u001b[0m\u001b[0;34m\u001b[0m\u001b[0;34m\u001b[0m\u001b[0m\n",
            "\u001b[0;31mDatabaseError\u001b[0m: Execution failed on sql 'SELECT * FROM employees;': no such table: employees"
          ]
        }
      ]
    },
    {
      "cell_type": "code",
      "source": [
        "conn.close()"
      ],
      "metadata": {
        "id": "bdYLFC8Phm8Z"
      },
      "execution_count": null,
      "outputs": []
    },
    {
      "cell_type": "code",
      "source": [
        "a = (1051,1051,1051,1051,1051,2073,2073,2073,2073,3063,3063,3063,3053,3024,3024)\n",
        "b = ('aBxD','aBxD','aBxD','aBxD','aBxD','bDbD','bDbD','bDbC','bDbC','aaaa','aaab','aaac', '5DaD','aDDD','aDDE')\n",
        "c = ('2021-10-31','2021-10-31','2021-10-31','2021-11-01','2021-11-01','2021-10-31','2021-10-31','2021-10-30', '2021-10-29','2021-11-07','2021-11-08','2021-11-09','2021-11-09','2021-11-09','2021-11-10')\n",
        "df = pd.DataFrame({\"user_id\":a, \"session_id\":b, \"date\": c})\n",
        "df"
      ],
      "metadata": {
        "colab": {
          "base_uri": "https://localhost:8080/",
          "height": 520
        },
        "id": "B8v2LzcZh29J",
        "outputId": "60747e81-c7cc-48eb-fc4d-2c2e806b213d"
      },
      "execution_count": null,
      "outputs": [
        {
          "output_type": "execute_result",
          "data": {
            "text/html": [
              "\n",
              "  <div id=\"df-eefa77d9-e5fc-4886-a5c2-06445983b0d0\">\n",
              "    <div class=\"colab-df-container\">\n",
              "      <div>\n",
              "<style scoped>\n",
              "    .dataframe tbody tr th:only-of-type {\n",
              "        vertical-align: middle;\n",
              "    }\n",
              "\n",
              "    .dataframe tbody tr th {\n",
              "        vertical-align: top;\n",
              "    }\n",
              "\n",
              "    .dataframe thead th {\n",
              "        text-align: right;\n",
              "    }\n",
              "</style>\n",
              "<table border=\"1\" class=\"dataframe\">\n",
              "  <thead>\n",
              "    <tr style=\"text-align: right;\">\n",
              "      <th></th>\n",
              "      <th>user_id</th>\n",
              "      <th>session_id</th>\n",
              "      <th>date</th>\n",
              "    </tr>\n",
              "  </thead>\n",
              "  <tbody>\n",
              "    <tr>\n",
              "      <th>0</th>\n",
              "      <td>1051</td>\n",
              "      <td>aBxD</td>\n",
              "      <td>2021-10-31</td>\n",
              "    </tr>\n",
              "    <tr>\n",
              "      <th>1</th>\n",
              "      <td>1051</td>\n",
              "      <td>aBxD</td>\n",
              "      <td>2021-10-31</td>\n",
              "    </tr>\n",
              "    <tr>\n",
              "      <th>2</th>\n",
              "      <td>1051</td>\n",
              "      <td>aBxD</td>\n",
              "      <td>2021-10-31</td>\n",
              "    </tr>\n",
              "    <tr>\n",
              "      <th>3</th>\n",
              "      <td>1051</td>\n",
              "      <td>aBxD</td>\n",
              "      <td>2021-11-01</td>\n",
              "    </tr>\n",
              "    <tr>\n",
              "      <th>4</th>\n",
              "      <td>1051</td>\n",
              "      <td>aBxD</td>\n",
              "      <td>2021-11-01</td>\n",
              "    </tr>\n",
              "    <tr>\n",
              "      <th>5</th>\n",
              "      <td>2073</td>\n",
              "      <td>bDbD</td>\n",
              "      <td>2021-10-31</td>\n",
              "    </tr>\n",
              "    <tr>\n",
              "      <th>6</th>\n",
              "      <td>2073</td>\n",
              "      <td>bDbD</td>\n",
              "      <td>2021-10-31</td>\n",
              "    </tr>\n",
              "    <tr>\n",
              "      <th>7</th>\n",
              "      <td>2073</td>\n",
              "      <td>bDbC</td>\n",
              "      <td>2021-10-30</td>\n",
              "    </tr>\n",
              "    <tr>\n",
              "      <th>8</th>\n",
              "      <td>2073</td>\n",
              "      <td>bDbC</td>\n",
              "      <td>2021-10-29</td>\n",
              "    </tr>\n",
              "    <tr>\n",
              "      <th>9</th>\n",
              "      <td>3063</td>\n",
              "      <td>aaaa</td>\n",
              "      <td>2021-11-07</td>\n",
              "    </tr>\n",
              "    <tr>\n",
              "      <th>10</th>\n",
              "      <td>3063</td>\n",
              "      <td>aaab</td>\n",
              "      <td>2021-11-08</td>\n",
              "    </tr>\n",
              "    <tr>\n",
              "      <th>11</th>\n",
              "      <td>3063</td>\n",
              "      <td>aaac</td>\n",
              "      <td>2021-11-09</td>\n",
              "    </tr>\n",
              "    <tr>\n",
              "      <th>12</th>\n",
              "      <td>3053</td>\n",
              "      <td>5DaD</td>\n",
              "      <td>2021-11-09</td>\n",
              "    </tr>\n",
              "    <tr>\n",
              "      <th>13</th>\n",
              "      <td>3024</td>\n",
              "      <td>aDDD</td>\n",
              "      <td>2021-11-09</td>\n",
              "    </tr>\n",
              "    <tr>\n",
              "      <th>14</th>\n",
              "      <td>3024</td>\n",
              "      <td>aDDE</td>\n",
              "      <td>2021-11-10</td>\n",
              "    </tr>\n",
              "  </tbody>\n",
              "</table>\n",
              "</div>\n",
              "      <button class=\"colab-df-convert\" onclick=\"convertToInteractive('df-eefa77d9-e5fc-4886-a5c2-06445983b0d0')\"\n",
              "              title=\"Convert this dataframe to an interactive table.\"\n",
              "              style=\"display:none;\">\n",
              "        \n",
              "  <svg xmlns=\"http://www.w3.org/2000/svg\" height=\"24px\"viewBox=\"0 0 24 24\"\n",
              "       width=\"24px\">\n",
              "    <path d=\"M0 0h24v24H0V0z\" fill=\"none\"/>\n",
              "    <path d=\"M18.56 5.44l.94 2.06.94-2.06 2.06-.94-2.06-.94-.94-2.06-.94 2.06-2.06.94zm-11 1L8.5 8.5l.94-2.06 2.06-.94-2.06-.94L8.5 2.5l-.94 2.06-2.06.94zm10 10l.94 2.06.94-2.06 2.06-.94-2.06-.94-.94-2.06-.94 2.06-2.06.94z\"/><path d=\"M17.41 7.96l-1.37-1.37c-.4-.4-.92-.59-1.43-.59-.52 0-1.04.2-1.43.59L10.3 9.45l-7.72 7.72c-.78.78-.78 2.05 0 2.83L4 21.41c.39.39.9.59 1.41.59.51 0 1.02-.2 1.41-.59l7.78-7.78 2.81-2.81c.8-.78.8-2.07 0-2.86zM5.41 20L4 18.59l7.72-7.72 1.47 1.35L5.41 20z\"/>\n",
              "  </svg>\n",
              "      </button>\n",
              "      \n",
              "  <style>\n",
              "    .colab-df-container {\n",
              "      display:flex;\n",
              "      flex-wrap:wrap;\n",
              "      gap: 12px;\n",
              "    }\n",
              "\n",
              "    .colab-df-convert {\n",
              "      background-color: #E8F0FE;\n",
              "      border: none;\n",
              "      border-radius: 50%;\n",
              "      cursor: pointer;\n",
              "      display: none;\n",
              "      fill: #1967D2;\n",
              "      height: 32px;\n",
              "      padding: 0 0 0 0;\n",
              "      width: 32px;\n",
              "    }\n",
              "\n",
              "    .colab-df-convert:hover {\n",
              "      background-color: #E2EBFA;\n",
              "      box-shadow: 0px 1px 2px rgba(60, 64, 67, 0.3), 0px 1px 3px 1px rgba(60, 64, 67, 0.15);\n",
              "      fill: #174EA6;\n",
              "    }\n",
              "\n",
              "    [theme=dark] .colab-df-convert {\n",
              "      background-color: #3B4455;\n",
              "      fill: #D2E3FC;\n",
              "    }\n",
              "\n",
              "    [theme=dark] .colab-df-convert:hover {\n",
              "      background-color: #434B5C;\n",
              "      box-shadow: 0px 1px 3px 1px rgba(0, 0, 0, 0.15);\n",
              "      filter: drop-shadow(0px 1px 2px rgba(0, 0, 0, 0.3));\n",
              "      fill: #FFFFFF;\n",
              "    }\n",
              "  </style>\n",
              "\n",
              "      <script>\n",
              "        const buttonEl =\n",
              "          document.querySelector('#df-eefa77d9-e5fc-4886-a5c2-06445983b0d0 button.colab-df-convert');\n",
              "        buttonEl.style.display =\n",
              "          google.colab.kernel.accessAllowed ? 'block' : 'none';\n",
              "\n",
              "        async function convertToInteractive(key) {\n",
              "          const element = document.querySelector('#df-eefa77d9-e5fc-4886-a5c2-06445983b0d0');\n",
              "          const dataTable =\n",
              "            await google.colab.kernel.invokeFunction('convertToInteractive',\n",
              "                                                     [key], {});\n",
              "          if (!dataTable) return;\n",
              "\n",
              "          const docLinkHtml = 'Like what you see? Visit the ' +\n",
              "            '<a target=\"_blank\" href=https://colab.research.google.com/notebooks/data_table.ipynb>data table notebook</a>'\n",
              "            + ' to learn more about interactive tables.';\n",
              "          element.innerHTML = '';\n",
              "          dataTable['output_type'] = 'display_data';\n",
              "          await google.colab.output.renderOutput(dataTable, element);\n",
              "          const docLink = document.createElement('div');\n",
              "          docLink.innerHTML = docLinkHtml;\n",
              "          element.appendChild(docLink);\n",
              "        }\n",
              "      </script>\n",
              "    </div>\n",
              "  </div>\n",
              "  "
            ],
            "text/plain": [
              "    user_id session_id        date\n",
              "0      1051       aBxD  2021-10-31\n",
              "1      1051       aBxD  2021-10-31\n",
              "2      1051       aBxD  2021-10-31\n",
              "3      1051       aBxD  2021-11-01\n",
              "4      1051       aBxD  2021-11-01\n",
              "5      2073       bDbD  2021-10-31\n",
              "6      2073       bDbD  2021-10-31\n",
              "7      2073       bDbC  2021-10-30\n",
              "8      2073       bDbC  2021-10-29\n",
              "9      3063       aaaa  2021-11-07\n",
              "10     3063       aaab  2021-11-08\n",
              "11     3063       aaac  2021-11-09\n",
              "12     3053       5DaD  2021-11-09\n",
              "13     3024       aDDD  2021-11-09\n",
              "14     3024       aDDE  2021-11-10"
            ]
          },
          "metadata": {},
          "execution_count": 43
        }
      ]
    },
    {
      "cell_type": "code",
      "source": [
        "dbpath = \"/content/drive/MyDrive/sql/user.db\"\n",
        "conn = sqlite3.connect(dbpath)"
      ],
      "metadata": {
        "id": "y8AkoeHSizVV"
      },
      "execution_count": null,
      "outputs": []
    },
    {
      "cell_type": "code",
      "source": [
        "# Save\n",
        "df.to_sql('user',conn)"
      ],
      "metadata": {
        "id": "DoWzyYhziFRJ"
      },
      "execution_count": null,
      "outputs": []
    },
    {
      "cell_type": "code",
      "source": [
        "# Load\n",
        "df = pd.read_sql('SELECT * FROM user;', conn, index_col = 'index')"
      ],
      "metadata": {
        "id": "iMiJgiZOiTw3"
      },
      "execution_count": null,
      "outputs": []
    },
    {
      "cell_type": "code",
      "source": [
        "cur = conn.cursor()\n",
        "\n",
        "cur.execute('''\n",
        "SELECT * FROM user\n",
        "''')\n",
        "# cur.executescript(하나 이상의 SQL문)\n",
        "# cur.executemany(~~~, ~~~) --> Data만 바꿔가면서 동일한 SQL문을 반복시행\n",
        "\n",
        "# * SELECT문 실행 후 적용 진행\n",
        "# cur.fetchone() --> 하나의 행을 불러옴(출력)\n",
        "# cut.fetchall() --> 모든 행을 불러옴(출력)\n",
        "\n",
        "cur.fetchall()"
      ],
      "metadata": {
        "colab": {
          "base_uri": "https://localhost:8080/"
        },
        "id": "tfVqCohkjc_y",
        "outputId": "65171ae9-aff7-4734-9bb7-4a105d57e6cd"
      },
      "execution_count": null,
      "outputs": [
        {
          "output_type": "execute_result",
          "data": {
            "text/plain": [
              "[(0, 1051, 'aBxD', '2021-10-31'),\n",
              " (1, 1051, 'aBxD', '2021-10-31'),\n",
              " (2, 1051, 'aBxD', '2021-10-31'),\n",
              " (3, 1051, 'aBxD', '2021-11-01'),\n",
              " (4, 1051, 'aBxD', '2021-11-01'),\n",
              " (5, 2073, 'bDbD', '2021-10-31'),\n",
              " (6, 2073, 'bDbD', '2021-10-31'),\n",
              " (7, 2073, 'bDbC', '2021-10-30'),\n",
              " (8, 2073, 'bDbC', '2021-10-29'),\n",
              " (9, 3063, 'aaaa', '2021-11-07'),\n",
              " (10, 3063, 'aaab', '2021-11-08'),\n",
              " (11, 3063, 'aaac', '2021-11-09'),\n",
              " (12, 3053, '5DaD', '2021-11-09'),\n",
              " (13, 3024, 'aDDD', '2021-11-09'),\n",
              " (14, 3024, 'aDDE', '2021-11-10')]"
            ]
          },
          "metadata": {},
          "execution_count": 34
        }
      ]
    },
    {
      "cell_type": "markdown",
      "source": [
        "## Data 만들기"
      ],
      "metadata": {
        "id": "OnaUUmQr8yUb"
      }
    },
    {
      "cell_type": "code",
      "source": [
        "a = (1051,1051,1051,1051,1051,2073,2073,2073,2073,3063,3063,3063,3053,3024,3024)\n",
        "b = ('','aBxD','aBxD','aBxD','aBxD','bDbD','bDbD','bDbC','bDbC','aaaa','aaab','aaac', '5DaD','aDDD','aDDE')\n",
        "c = ('2021-10-31','2021-10-31','2021-10-31','2021-11-01','2021-11-01','2021-10-31','2021-10-31','2021-10-30', '2021-10-29','2021-11-07','2021-11-08','2021-11-09','2021-11-09','2021-11-09','2021-11-10')\n",
        "df = pd.DataFrame({\"user_id\":a, \"session_id\":b, \"date\": c})"
      ],
      "metadata": {
        "id": "choOdck680qF"
      },
      "execution_count": null,
      "outputs": []
    },
    {
      "cell_type": "code",
      "source": [
        "dbpath = \"/content/drive/MyDrive/sql/user_log.db\"\n",
        "conn = sqlite3.connect(dbpath)"
      ],
      "metadata": {
        "id": "xEbWvS4Y87a9"
      },
      "execution_count": null,
      "outputs": []
    },
    {
      "cell_type": "code",
      "source": [
        "# Save\n",
        "df.to_sql('user',conn)"
      ],
      "metadata": {
        "id": "RM1UQNfA8_IT"
      },
      "execution_count": null,
      "outputs": []
    },
    {
      "cell_type": "code",
      "source": [
        "DRIVE_PATH = \"/content/drive/MyDrive/\" # 내 드라이브의 경로이다\n",
        "\n",
        "FILE_PATH_IN_MY_DRIVE = \"공부/zero_base_data_analysis/[바로-써먹는-데이터-분석]-강의자료-new4/2부/Part 1. 우리 서비스에 어떤 유저가 있어요_ - 유저 데이터 분석/Project_1_실전 프로젝트 1. 유저 행동 데이터로 서비스 건강성 분석하기/data/event_log.csv\" # 내 드라이브 내 파일이 있는 경로\n",
        "PATH = DRIVE_PATH +  FILE_PATH_IN_MY_DRIVE\n",
        "\n",
        "df = pd.read_csv(PATH) # csv 파일 읽어오기\n",
        "len(df)"
      ],
      "metadata": {
        "colab": {
          "base_uri": "https://localhost:8080/"
        },
        "id": "R12m9a3Y8_gW",
        "outputId": "c83389de-f8c4-4377-bd62-5011ef4f191d"
      },
      "execution_count": null,
      "outputs": [
        {
          "output_type": "execute_result",
          "data": {
            "text/plain": [
              "885129"
            ]
          },
          "metadata": {},
          "execution_count": 44
        }
      ]
    },
    {
      "cell_type": "code",
      "source": [
        "pd.to_datetime(df2['event_time'])"
      ],
      "metadata": {
        "colab": {
          "base_uri": "https://localhost:8080/"
        },
        "id": "nhJNHtoLFpQZ",
        "outputId": "91b6f853-e3db-4cf6-d853-88bf7202f1d6"
      },
      "execution_count": null,
      "outputs": [
        {
          "output_type": "execute_result",
          "data": {
            "text/plain": [
              "0      2020-12-29 11:09:37+00:00\n",
              "1      2021-01-26 18:59:38+00:00\n",
              "2      2020-11-25 06:35:54+00:00\n",
              "3      2021-02-08 12:12:04+00:00\n",
              "4      2020-09-28 10:23:12+00:00\n",
              "                  ...           \n",
              "8846   2020-11-06 09:24:48+00:00\n",
              "8847   2021-01-13 12:37:50+00:00\n",
              "8848   2020-11-21 20:08:30+00:00\n",
              "8849   2021-02-16 07:13:38+00:00\n",
              "8850   2021-01-12 11:11:58+00:00\n",
              "Name: event_time, Length: 8851, dtype: datetime64[ns, UTC]"
            ]
          },
          "metadata": {},
          "execution_count": 36
        }
      ]
    },
    {
      "cell_type": "code",
      "source": [
        "df2 = df.sample(frac = 0.01).reset_index(drop = True)\n",
        "df2['event_time'] = pd.to_datetime(df2['event_time'])\n",
        "df2.info()"
      ],
      "metadata": {
        "colab": {
          "base_uri": "https://localhost:8080/"
        },
        "id": "9exbA3cNFeIt",
        "outputId": "d2397d16-ad8f-4179-e7d1-60d9c479827e"
      },
      "execution_count": null,
      "outputs": [
        {
          "output_type": "stream",
          "name": "stdout",
          "text": [
            "<class 'pandas.core.frame.DataFrame'>\n",
            "RangeIndex: 8851 entries, 0 to 8850\n",
            "Data columns (total 9 columns):\n",
            " #   Column         Non-Null Count  Dtype              \n",
            "---  ------         --------------  -----              \n",
            " 0   event_time     8851 non-null   datetime64[ns, UTC]\n",
            " 1   event_type     8851 non-null   object             \n",
            " 2   product_id     8851 non-null   int64              \n",
            " 3   category_id    8851 non-null   int64              \n",
            " 4   category_code  6429 non-null   object             \n",
            " 5   brand          6784 non-null   object             \n",
            " 6   price          8851 non-null   float64            \n",
            " 7   user_id        8851 non-null   int64              \n",
            " 8   user_session   8851 non-null   object             \n",
            "dtypes: datetime64[ns, UTC](1), float64(1), int64(3), object(4)\n",
            "memory usage: 622.5+ KB\n"
          ]
        }
      ]
    },
    {
      "cell_type": "code",
      "source": [
        "df2.to_sql('user_data',conn)"
      ],
      "metadata": {
        "id": "rMp5XPJeA-X0"
      },
      "execution_count": null,
      "outputs": []
    },
    {
      "cell_type": "code",
      "source": [
        "df = pd.read_sql_query(query, conn)\n",
        "df = df.iloc[:,1:]\n"
      ],
      "metadata": {
        "id": "TAPzFMY8D2LP"
      },
      "execution_count": null,
      "outputs": []
    },
    {
      "cell_type": "code",
      "source": [
        "df.info()"
      ],
      "metadata": {
        "colab": {
          "base_uri": "https://localhost:8080/"
        },
        "id": "qSikdinFFUuD",
        "outputId": "515c4bf3-8258-4670-e737-e24b3a0b9604"
      },
      "execution_count": null,
      "outputs": [
        {
          "output_type": "stream",
          "name": "stdout",
          "text": [
            "<class 'pandas.core.frame.DataFrame'>\n",
            "RangeIndex: 8851 entries, 0 to 8850\n",
            "Data columns (total 9 columns):\n",
            " #   Column         Non-Null Count  Dtype  \n",
            "---  ------         --------------  -----  \n",
            " 0   event_time     8851 non-null   object \n",
            " 1   event_type     8851 non-null   object \n",
            " 2   product_id     8851 non-null   int64  \n",
            " 3   category_id    8851 non-null   int64  \n",
            " 4   category_code  6533 non-null   object \n",
            " 5   brand          6744 non-null   object \n",
            " 6   price          8851 non-null   float64\n",
            " 7   user_id        8851 non-null   int64  \n",
            " 8   user_session   8850 non-null   object \n",
            "dtypes: float64(1), int64(3), object(5)\n",
            "memory usage: 622.5+ KB\n"
          ]
        }
      ]
    },
    {
      "cell_type": "code",
      "source": [
        "df.head()"
      ],
      "metadata": {
        "colab": {
          "base_uri": "https://localhost:8080/",
          "height": 206
        },
        "id": "KiF-so3iD4Jn",
        "outputId": "8d524d74-a2e6-4a90-d074-dd720d3856da"
      },
      "execution_count": null,
      "outputs": [
        {
          "output_type": "execute_result",
          "data": {
            "text/html": [
              "\n",
              "  <div id=\"df-8a4a56fe-fd85-4c2c-8325-032816cd3bc7\">\n",
              "    <div class=\"colab-df-container\">\n",
              "      <div>\n",
              "<style scoped>\n",
              "    .dataframe tbody tr th:only-of-type {\n",
              "        vertical-align: middle;\n",
              "    }\n",
              "\n",
              "    .dataframe tbody tr th {\n",
              "        vertical-align: top;\n",
              "    }\n",
              "\n",
              "    .dataframe thead th {\n",
              "        text-align: right;\n",
              "    }\n",
              "</style>\n",
              "<table border=\"1\" class=\"dataframe\">\n",
              "  <thead>\n",
              "    <tr style=\"text-align: right;\">\n",
              "      <th></th>\n",
              "      <th>event_time</th>\n",
              "      <th>event_type</th>\n",
              "      <th>product_id</th>\n",
              "      <th>category_id</th>\n",
              "      <th>category_code</th>\n",
              "      <th>brand</th>\n",
              "      <th>price</th>\n",
              "      <th>user_id</th>\n",
              "      <th>user_session</th>\n",
              "    </tr>\n",
              "  </thead>\n",
              "  <tbody>\n",
              "    <tr>\n",
              "      <th>0</th>\n",
              "      <td>2020-09-24 12:18:27 UTC</td>\n",
              "      <td>view</td>\n",
              "      <td>661128</td>\n",
              "      <td>2144415925732901052</td>\n",
              "      <td>appliances.kitchen.juicer</td>\n",
              "      <td>None</td>\n",
              "      <td>63.92</td>\n",
              "      <td>1515915625519341967</td>\n",
              "      <td>TTK47Aa942</td>\n",
              "    </tr>\n",
              "    <tr>\n",
              "      <th>1</th>\n",
              "      <td>2020-09-24 12:50:00 UTC</td>\n",
              "      <td>cart</td>\n",
              "      <td>4013079</td>\n",
              "      <td>2144415921932861531</td>\n",
              "      <td>electronics.telephone</td>\n",
              "      <td>None</td>\n",
              "      <td>11.27</td>\n",
              "      <td>1515915625519258287</td>\n",
              "      <td>7DGcRi1GB8</td>\n",
              "    </tr>\n",
              "    <tr>\n",
              "      <th>2</th>\n",
              "      <td>2020-09-24 13:31:18 UTC</td>\n",
              "      <td>view</td>\n",
              "      <td>453844</td>\n",
              "      <td>2144415921857364057</td>\n",
              "      <td>None</td>\n",
              "      <td>multitronics</td>\n",
              "      <td>20.38</td>\n",
              "      <td>1515915625519421807</td>\n",
              "      <td>rTLaBXtgjK</td>\n",
              "    </tr>\n",
              "    <tr>\n",
              "      <th>3</th>\n",
              "      <td>2020-09-24 13:31:27 UTC</td>\n",
              "      <td>view</td>\n",
              "      <td>4027952</td>\n",
              "      <td>2144415922662670447</td>\n",
              "      <td>computers.ebooks</td>\n",
              "      <td>pocketbook</td>\n",
              "      <td>257.87</td>\n",
              "      <td>1515915625447699065</td>\n",
              "      <td>lhuHFEJkSq</td>\n",
              "    </tr>\n",
              "    <tr>\n",
              "      <th>4</th>\n",
              "      <td>2020-09-24 13:33:54 UTC</td>\n",
              "      <td>view</td>\n",
              "      <td>1413245</td>\n",
              "      <td>2144415929943982381</td>\n",
              "      <td>electronics.audio.microphone</td>\n",
              "      <td>maono</td>\n",
              "      <td>20.30</td>\n",
              "      <td>1515915625519423883</td>\n",
              "      <td>0nGjhb2Hfj</td>\n",
              "    </tr>\n",
              "  </tbody>\n",
              "</table>\n",
              "</div>\n",
              "      <button class=\"colab-df-convert\" onclick=\"convertToInteractive('df-8a4a56fe-fd85-4c2c-8325-032816cd3bc7')\"\n",
              "              title=\"Convert this dataframe to an interactive table.\"\n",
              "              style=\"display:none;\">\n",
              "        \n",
              "  <svg xmlns=\"http://www.w3.org/2000/svg\" height=\"24px\"viewBox=\"0 0 24 24\"\n",
              "       width=\"24px\">\n",
              "    <path d=\"M0 0h24v24H0V0z\" fill=\"none\"/>\n",
              "    <path d=\"M18.56 5.44l.94 2.06.94-2.06 2.06-.94-2.06-.94-.94-2.06-.94 2.06-2.06.94zm-11 1L8.5 8.5l.94-2.06 2.06-.94-2.06-.94L8.5 2.5l-.94 2.06-2.06.94zm10 10l.94 2.06.94-2.06 2.06-.94-2.06-.94-.94-2.06-.94 2.06-2.06.94z\"/><path d=\"M17.41 7.96l-1.37-1.37c-.4-.4-.92-.59-1.43-.59-.52 0-1.04.2-1.43.59L10.3 9.45l-7.72 7.72c-.78.78-.78 2.05 0 2.83L4 21.41c.39.39.9.59 1.41.59.51 0 1.02-.2 1.41-.59l7.78-7.78 2.81-2.81c.8-.78.8-2.07 0-2.86zM5.41 20L4 18.59l7.72-7.72 1.47 1.35L5.41 20z\"/>\n",
              "  </svg>\n",
              "      </button>\n",
              "      \n",
              "  <style>\n",
              "    .colab-df-container {\n",
              "      display:flex;\n",
              "      flex-wrap:wrap;\n",
              "      gap: 12px;\n",
              "    }\n",
              "\n",
              "    .colab-df-convert {\n",
              "      background-color: #E8F0FE;\n",
              "      border: none;\n",
              "      border-radius: 50%;\n",
              "      cursor: pointer;\n",
              "      display: none;\n",
              "      fill: #1967D2;\n",
              "      height: 32px;\n",
              "      padding: 0 0 0 0;\n",
              "      width: 32px;\n",
              "    }\n",
              "\n",
              "    .colab-df-convert:hover {\n",
              "      background-color: #E2EBFA;\n",
              "      box-shadow: 0px 1px 2px rgba(60, 64, 67, 0.3), 0px 1px 3px 1px rgba(60, 64, 67, 0.15);\n",
              "      fill: #174EA6;\n",
              "    }\n",
              "\n",
              "    [theme=dark] .colab-df-convert {\n",
              "      background-color: #3B4455;\n",
              "      fill: #D2E3FC;\n",
              "    }\n",
              "\n",
              "    [theme=dark] .colab-df-convert:hover {\n",
              "      background-color: #434B5C;\n",
              "      box-shadow: 0px 1px 3px 1px rgba(0, 0, 0, 0.15);\n",
              "      filter: drop-shadow(0px 1px 2px rgba(0, 0, 0, 0.3));\n",
              "      fill: #FFFFFF;\n",
              "    }\n",
              "  </style>\n",
              "\n",
              "      <script>\n",
              "        const buttonEl =\n",
              "          document.querySelector('#df-8a4a56fe-fd85-4c2c-8325-032816cd3bc7 button.colab-df-convert');\n",
              "        buttonEl.style.display =\n",
              "          google.colab.kernel.accessAllowed ? 'block' : 'none';\n",
              "\n",
              "        async function convertToInteractive(key) {\n",
              "          const element = document.querySelector('#df-8a4a56fe-fd85-4c2c-8325-032816cd3bc7');\n",
              "          const dataTable =\n",
              "            await google.colab.kernel.invokeFunction('convertToInteractive',\n",
              "                                                     [key], {});\n",
              "          if (!dataTable) return;\n",
              "\n",
              "          const docLinkHtml = 'Like what you see? Visit the ' +\n",
              "            '<a target=\"_blank\" href=https://colab.research.google.com/notebooks/data_table.ipynb>data table notebook</a>'\n",
              "            + ' to learn more about interactive tables.';\n",
              "          element.innerHTML = '';\n",
              "          dataTable['output_type'] = 'display_data';\n",
              "          await google.colab.output.renderOutput(dataTable, element);\n",
              "          const docLink = document.createElement('div');\n",
              "          docLink.innerHTML = docLinkHtml;\n",
              "          element.appendChild(docLink);\n",
              "        }\n",
              "      </script>\n",
              "    </div>\n",
              "  </div>\n",
              "  "
            ],
            "text/plain": [
              "                event_time event_type  ...              user_id  user_session\n",
              "0  2020-09-24 12:18:27 UTC       view  ...  1515915625519341967    TTK47Aa942\n",
              "1  2020-09-24 12:50:00 UTC       cart  ...  1515915625519258287    7DGcRi1GB8\n",
              "2  2020-09-24 13:31:18 UTC       view  ...  1515915625519421807    rTLaBXtgjK\n",
              "3  2020-09-24 13:31:27 UTC       view  ...  1515915625447699065    lhuHFEJkSq\n",
              "4  2020-09-24 13:33:54 UTC       view  ...  1515915625519423883    0nGjhb2Hfj\n",
              "\n",
              "[5 rows x 9 columns]"
            ]
          },
          "metadata": {},
          "execution_count": 28
        }
      ]
    },
    {
      "cell_type": "code",
      "source": [
        "df[df['brand']=='multitronics']"
      ],
      "metadata": {
        "colab": {
          "base_uri": "https://localhost:8080/",
          "height": 332
        },
        "id": "9AR-Z_XzEaJu",
        "outputId": "99cdf854-d2c8-4bb7-e5a7-1b6125a20408"
      },
      "execution_count": null,
      "outputs": [
        {
          "output_type": "execute_result",
          "data": {
            "text/html": [
              "\n",
              "  <div id=\"df-ada3ccc6-c06f-4310-ac50-7fa462573c81\">\n",
              "    <div class=\"colab-df-container\">\n",
              "      <div>\n",
              "<style scoped>\n",
              "    .dataframe tbody tr th:only-of-type {\n",
              "        vertical-align: middle;\n",
              "    }\n",
              "\n",
              "    .dataframe tbody tr th {\n",
              "        vertical-align: top;\n",
              "    }\n",
              "\n",
              "    .dataframe thead th {\n",
              "        text-align: right;\n",
              "    }\n",
              "</style>\n",
              "<table border=\"1\" class=\"dataframe\">\n",
              "  <thead>\n",
              "    <tr style=\"text-align: right;\">\n",
              "      <th></th>\n",
              "      <th>event_time</th>\n",
              "      <th>event_type</th>\n",
              "      <th>product_id</th>\n",
              "      <th>category_id</th>\n",
              "      <th>category_code</th>\n",
              "      <th>brand</th>\n",
              "      <th>price</th>\n",
              "      <th>user_id</th>\n",
              "      <th>user_session</th>\n",
              "    </tr>\n",
              "  </thead>\n",
              "  <tbody>\n",
              "    <tr>\n",
              "      <th>2</th>\n",
              "      <td>2020-09-24 13:31:18 UTC</td>\n",
              "      <td>view</td>\n",
              "      <td>453844</td>\n",
              "      <td>2144415921857364057</td>\n",
              "      <td>None</td>\n",
              "      <td>multitronics</td>\n",
              "      <td>20.38</td>\n",
              "      <td>1515915625519421807</td>\n",
              "      <td>rTLaBXtgjK</td>\n",
              "    </tr>\n",
              "    <tr>\n",
              "      <th>1246</th>\n",
              "      <td>2020-10-21 12:34:01 UTC</td>\n",
              "      <td>view</td>\n",
              "      <td>453833</td>\n",
              "      <td>2144415941578981993</td>\n",
              "      <td>computers.desktop</td>\n",
              "      <td>multitronics</td>\n",
              "      <td>62.84</td>\n",
              "      <td>1515915625517090468</td>\n",
              "      <td>nlJCXeCicv</td>\n",
              "    </tr>\n",
              "    <tr>\n",
              "      <th>3286</th>\n",
              "      <td>2020-11-22 04:28:01 UTC</td>\n",
              "      <td>view</td>\n",
              "      <td>453827</td>\n",
              "      <td>2144415941578981993</td>\n",
              "      <td>computers.desktop</td>\n",
              "      <td>multitronics</td>\n",
              "      <td>126.87</td>\n",
              "      <td>1515915625542260146</td>\n",
              "      <td>alOrFsJ7IT</td>\n",
              "    </tr>\n",
              "    <tr>\n",
              "      <th>5404</th>\n",
              "      <td>2021-01-03 21:52:28 UTC</td>\n",
              "      <td>view</td>\n",
              "      <td>453827</td>\n",
              "      <td>2144415941578981993</td>\n",
              "      <td>computers.desktop</td>\n",
              "      <td>multitronics</td>\n",
              "      <td>126.87</td>\n",
              "      <td>1515915625572481386</td>\n",
              "      <td>hwFP0wJ6ge</td>\n",
              "    </tr>\n",
              "    <tr>\n",
              "      <th>6405</th>\n",
              "      <td>2021-01-19 17:12:14 UTC</td>\n",
              "      <td>view</td>\n",
              "      <td>453830</td>\n",
              "      <td>2144415941578981993</td>\n",
              "      <td>computers.desktop</td>\n",
              "      <td>multitronics</td>\n",
              "      <td>94.00</td>\n",
              "      <td>1515915625594956296</td>\n",
              "      <td>W39zhcnx2G</td>\n",
              "    </tr>\n",
              "    <tr>\n",
              "      <th>6741</th>\n",
              "      <td>2021-01-25 05:31:20 UTC</td>\n",
              "      <td>view</td>\n",
              "      <td>453833</td>\n",
              "      <td>2144415941578981993</td>\n",
              "      <td>computers.desktop</td>\n",
              "      <td>multitronics</td>\n",
              "      <td>62.84</td>\n",
              "      <td>1515915625596805254</td>\n",
              "      <td>edMLg7NrgD</td>\n",
              "    </tr>\n",
              "    <tr>\n",
              "      <th>7441</th>\n",
              "      <td>2021-02-05 08:06:15 UTC</td>\n",
              "      <td>view</td>\n",
              "      <td>453814</td>\n",
              "      <td>2144415941578981993</td>\n",
              "      <td>computers.desktop</td>\n",
              "      <td>multitronics</td>\n",
              "      <td>65.71</td>\n",
              "      <td>1515915625600833693</td>\n",
              "      <td>lTRsygfYJl</td>\n",
              "    </tr>\n",
              "    <tr>\n",
              "      <th>7696</th>\n",
              "      <td>2021-02-09 17:16:12 UTC</td>\n",
              "      <td>view</td>\n",
              "      <td>453808</td>\n",
              "      <td>2144415941578981993</td>\n",
              "      <td>computers.desktop</td>\n",
              "      <td>multitronics</td>\n",
              "      <td>93.13</td>\n",
              "      <td>1515915625603383316</td>\n",
              "      <td>4Y1fiCIh5H</td>\n",
              "    </tr>\n",
              "    <tr>\n",
              "      <th>8545</th>\n",
              "      <td>2021-02-23 09:56:23 UTC</td>\n",
              "      <td>view</td>\n",
              "      <td>453809</td>\n",
              "      <td>2144415941578981993</td>\n",
              "      <td>computers.desktop</td>\n",
              "      <td>multitronics</td>\n",
              "      <td>72.83</td>\n",
              "      <td>1515915625608690404</td>\n",
              "      <td>Ld0uoVC2Gj</td>\n",
              "    </tr>\n",
              "  </tbody>\n",
              "</table>\n",
              "</div>\n",
              "      <button class=\"colab-df-convert\" onclick=\"convertToInteractive('df-ada3ccc6-c06f-4310-ac50-7fa462573c81')\"\n",
              "              title=\"Convert this dataframe to an interactive table.\"\n",
              "              style=\"display:none;\">\n",
              "        \n",
              "  <svg xmlns=\"http://www.w3.org/2000/svg\" height=\"24px\"viewBox=\"0 0 24 24\"\n",
              "       width=\"24px\">\n",
              "    <path d=\"M0 0h24v24H0V0z\" fill=\"none\"/>\n",
              "    <path d=\"M18.56 5.44l.94 2.06.94-2.06 2.06-.94-2.06-.94-.94-2.06-.94 2.06-2.06.94zm-11 1L8.5 8.5l.94-2.06 2.06-.94-2.06-.94L8.5 2.5l-.94 2.06-2.06.94zm10 10l.94 2.06.94-2.06 2.06-.94-2.06-.94-.94-2.06-.94 2.06-2.06.94z\"/><path d=\"M17.41 7.96l-1.37-1.37c-.4-.4-.92-.59-1.43-.59-.52 0-1.04.2-1.43.59L10.3 9.45l-7.72 7.72c-.78.78-.78 2.05 0 2.83L4 21.41c.39.39.9.59 1.41.59.51 0 1.02-.2 1.41-.59l7.78-7.78 2.81-2.81c.8-.78.8-2.07 0-2.86zM5.41 20L4 18.59l7.72-7.72 1.47 1.35L5.41 20z\"/>\n",
              "  </svg>\n",
              "      </button>\n",
              "      \n",
              "  <style>\n",
              "    .colab-df-container {\n",
              "      display:flex;\n",
              "      flex-wrap:wrap;\n",
              "      gap: 12px;\n",
              "    }\n",
              "\n",
              "    .colab-df-convert {\n",
              "      background-color: #E8F0FE;\n",
              "      border: none;\n",
              "      border-radius: 50%;\n",
              "      cursor: pointer;\n",
              "      display: none;\n",
              "      fill: #1967D2;\n",
              "      height: 32px;\n",
              "      padding: 0 0 0 0;\n",
              "      width: 32px;\n",
              "    }\n",
              "\n",
              "    .colab-df-convert:hover {\n",
              "      background-color: #E2EBFA;\n",
              "      box-shadow: 0px 1px 2px rgba(60, 64, 67, 0.3), 0px 1px 3px 1px rgba(60, 64, 67, 0.15);\n",
              "      fill: #174EA6;\n",
              "    }\n",
              "\n",
              "    [theme=dark] .colab-df-convert {\n",
              "      background-color: #3B4455;\n",
              "      fill: #D2E3FC;\n",
              "    }\n",
              "\n",
              "    [theme=dark] .colab-df-convert:hover {\n",
              "      background-color: #434B5C;\n",
              "      box-shadow: 0px 1px 3px 1px rgba(0, 0, 0, 0.15);\n",
              "      filter: drop-shadow(0px 1px 2px rgba(0, 0, 0, 0.3));\n",
              "      fill: #FFFFFF;\n",
              "    }\n",
              "  </style>\n",
              "\n",
              "      <script>\n",
              "        const buttonEl =\n",
              "          document.querySelector('#df-ada3ccc6-c06f-4310-ac50-7fa462573c81 button.colab-df-convert');\n",
              "        buttonEl.style.display =\n",
              "          google.colab.kernel.accessAllowed ? 'block' : 'none';\n",
              "\n",
              "        async function convertToInteractive(key) {\n",
              "          const element = document.querySelector('#df-ada3ccc6-c06f-4310-ac50-7fa462573c81');\n",
              "          const dataTable =\n",
              "            await google.colab.kernel.invokeFunction('convertToInteractive',\n",
              "                                                     [key], {});\n",
              "          if (!dataTable) return;\n",
              "\n",
              "          const docLinkHtml = 'Like what you see? Visit the ' +\n",
              "            '<a target=\"_blank\" href=https://colab.research.google.com/notebooks/data_table.ipynb>data table notebook</a>'\n",
              "            + ' to learn more about interactive tables.';\n",
              "          element.innerHTML = '';\n",
              "          dataTable['output_type'] = 'display_data';\n",
              "          await google.colab.output.renderOutput(dataTable, element);\n",
              "          const docLink = document.createElement('div');\n",
              "          docLink.innerHTML = docLinkHtml;\n",
              "          element.appendChild(docLink);\n",
              "        }\n",
              "      </script>\n",
              "    </div>\n",
              "  </div>\n",
              "  "
            ],
            "text/plain": [
              "                   event_time event_type  ...              user_id  user_session\n",
              "2     2020-09-24 13:31:18 UTC       view  ...  1515915625519421807    rTLaBXtgjK\n",
              "1246  2020-10-21 12:34:01 UTC       view  ...  1515915625517090468    nlJCXeCicv\n",
              "3286  2020-11-22 04:28:01 UTC       view  ...  1515915625542260146    alOrFsJ7IT\n",
              "5404  2021-01-03 21:52:28 UTC       view  ...  1515915625572481386    hwFP0wJ6ge\n",
              "6405  2021-01-19 17:12:14 UTC       view  ...  1515915625594956296    W39zhcnx2G\n",
              "6741  2021-01-25 05:31:20 UTC       view  ...  1515915625596805254    edMLg7NrgD\n",
              "7441  2021-02-05 08:06:15 UTC       view  ...  1515915625600833693    lTRsygfYJl\n",
              "7696  2021-02-09 17:16:12 UTC       view  ...  1515915625603383316    4Y1fiCIh5H\n",
              "8545  2021-02-23 09:56:23 UTC       view  ...  1515915625608690404    Ld0uoVC2Gj\n",
              "\n",
              "[9 rows x 9 columns]"
            ]
          },
          "metadata": {},
          "execution_count": 29
        }
      ]
    },
    {
      "cell_type": "markdown",
      "source": [
        "## 연습 공간"
      ],
      "metadata": {
        "id": "sZ9iUjH47noP"
      }
    },
    {
      "cell_type": "code",
      "source": [
        "import pandas as pd\n",
        "import numpy as np\n",
        "import sqlite3\n",
        "from google.colab import drive\n",
        "drive.mount('/content/drive')"
      ],
      "metadata": {
        "colab": {
          "base_uri": "https://localhost:8080/"
        },
        "id": "ffS0RkWhB8Cm",
        "outputId": "670e6465-ed83-4ad7-c905-d8cf4e2a80ce"
      },
      "execution_count": null,
      "outputs": [
        {
          "output_type": "stream",
          "name": "stdout",
          "text": [
            "Drive already mounted at /content/drive; to attempt to forcibly remount, call drive.mount(\"/content/drive\", force_remount=True).\n"
          ]
        }
      ]
    },
    {
      "cell_type": "code",
      "source": [
        "dbpath = \"/content/drive/MyDrive/sql/user_log.db\"\n",
        "conn = sqlite3.connect(dbpath)\n",
        "def SQL(query):\n",
        "  cur = conn.cursor()\n",
        "  cur.execute(query)\n",
        "  df = pd.read_sql_query(query, conn)\n",
        "  # return cur.fetchall()\n",
        "  return df"
      ],
      "metadata": {
        "id": "jRJJFeaQ8Fpc"
      },
      "execution_count": null,
      "outputs": []
    },
    {
      "cell_type": "code",
      "source": [
        "query =\\\n",
        "'''\n",
        "\n",
        "SELECT A.event_time\n",
        "FROM user_data AS A\n",
        "WHERE 1=1\n",
        "-- AND event_type = 'view'\n",
        "AND category_code is null\n",
        "ORDER BY event_time\n",
        "\n",
        "\n",
        ";'''\n",
        "SQL(query)"
      ],
      "metadata": {
        "colab": {
          "base_uri": "https://localhost:8080/",
          "height": 424
        },
        "id": "LVkKj9Bo7__N",
        "outputId": "a2173b6b-f3f9-4cc6-d16a-b5ede4a8f5d2"
      },
      "execution_count": null,
      "outputs": [
        {
          "output_type": "execute_result",
          "data": {
            "text/html": [
              "\n",
              "  <div id=\"df-bc13d124-44d7-47aa-a8e2-0738b3da8165\">\n",
              "    <div class=\"colab-df-container\">\n",
              "      <div>\n",
              "<style scoped>\n",
              "    .dataframe tbody tr th:only-of-type {\n",
              "        vertical-align: middle;\n",
              "    }\n",
              "\n",
              "    .dataframe tbody tr th {\n",
              "        vertical-align: top;\n",
              "    }\n",
              "\n",
              "    .dataframe thead th {\n",
              "        text-align: right;\n",
              "    }\n",
              "</style>\n",
              "<table border=\"1\" class=\"dataframe\">\n",
              "  <thead>\n",
              "    <tr style=\"text-align: right;\">\n",
              "      <th></th>\n",
              "      <th>event_time</th>\n",
              "    </tr>\n",
              "  </thead>\n",
              "  <tbody>\n",
              "    <tr>\n",
              "      <th>0</th>\n",
              "      <td>2020-09-24 13:46:10+00:00</td>\n",
              "    </tr>\n",
              "    <tr>\n",
              "      <th>1</th>\n",
              "      <td>2020-09-24 13:56:06+00:00</td>\n",
              "    </tr>\n",
              "    <tr>\n",
              "      <th>2</th>\n",
              "      <td>2020-09-24 14:44:47+00:00</td>\n",
              "    </tr>\n",
              "    <tr>\n",
              "      <th>3</th>\n",
              "      <td>2020-09-24 17:24:34+00:00</td>\n",
              "    </tr>\n",
              "    <tr>\n",
              "      <th>4</th>\n",
              "      <td>2020-09-24 18:13:30+00:00</td>\n",
              "    </tr>\n",
              "    <tr>\n",
              "      <th>...</th>\n",
              "      <td>...</td>\n",
              "    </tr>\n",
              "    <tr>\n",
              "      <th>2417</th>\n",
              "      <td>2021-02-28 19:22:30+00:00</td>\n",
              "    </tr>\n",
              "    <tr>\n",
              "      <th>2418</th>\n",
              "      <td>2021-02-28 20:56:47+00:00</td>\n",
              "    </tr>\n",
              "    <tr>\n",
              "      <th>2419</th>\n",
              "      <td>2021-02-28 21:02:58+00:00</td>\n",
              "    </tr>\n",
              "    <tr>\n",
              "      <th>2420</th>\n",
              "      <td>2021-02-28 22:06:32+00:00</td>\n",
              "    </tr>\n",
              "    <tr>\n",
              "      <th>2421</th>\n",
              "      <td>2021-02-28 22:36:26+00:00</td>\n",
              "    </tr>\n",
              "  </tbody>\n",
              "</table>\n",
              "<p>2422 rows × 1 columns</p>\n",
              "</div>\n",
              "      <button class=\"colab-df-convert\" onclick=\"convertToInteractive('df-bc13d124-44d7-47aa-a8e2-0738b3da8165')\"\n",
              "              title=\"Convert this dataframe to an interactive table.\"\n",
              "              style=\"display:none;\">\n",
              "        \n",
              "  <svg xmlns=\"http://www.w3.org/2000/svg\" height=\"24px\"viewBox=\"0 0 24 24\"\n",
              "       width=\"24px\">\n",
              "    <path d=\"M0 0h24v24H0V0z\" fill=\"none\"/>\n",
              "    <path d=\"M18.56 5.44l.94 2.06.94-2.06 2.06-.94-2.06-.94-.94-2.06-.94 2.06-2.06.94zm-11 1L8.5 8.5l.94-2.06 2.06-.94-2.06-.94L8.5 2.5l-.94 2.06-2.06.94zm10 10l.94 2.06.94-2.06 2.06-.94-2.06-.94-.94-2.06-.94 2.06-2.06.94z\"/><path d=\"M17.41 7.96l-1.37-1.37c-.4-.4-.92-.59-1.43-.59-.52 0-1.04.2-1.43.59L10.3 9.45l-7.72 7.72c-.78.78-.78 2.05 0 2.83L4 21.41c.39.39.9.59 1.41.59.51 0 1.02-.2 1.41-.59l7.78-7.78 2.81-2.81c.8-.78.8-2.07 0-2.86zM5.41 20L4 18.59l7.72-7.72 1.47 1.35L5.41 20z\"/>\n",
              "  </svg>\n",
              "      </button>\n",
              "      \n",
              "  <style>\n",
              "    .colab-df-container {\n",
              "      display:flex;\n",
              "      flex-wrap:wrap;\n",
              "      gap: 12px;\n",
              "    }\n",
              "\n",
              "    .colab-df-convert {\n",
              "      background-color: #E8F0FE;\n",
              "      border: none;\n",
              "      border-radius: 50%;\n",
              "      cursor: pointer;\n",
              "      display: none;\n",
              "      fill: #1967D2;\n",
              "      height: 32px;\n",
              "      padding: 0 0 0 0;\n",
              "      width: 32px;\n",
              "    }\n",
              "\n",
              "    .colab-df-convert:hover {\n",
              "      background-color: #E2EBFA;\n",
              "      box-shadow: 0px 1px 2px rgba(60, 64, 67, 0.3), 0px 1px 3px 1px rgba(60, 64, 67, 0.15);\n",
              "      fill: #174EA6;\n",
              "    }\n",
              "\n",
              "    [theme=dark] .colab-df-convert {\n",
              "      background-color: #3B4455;\n",
              "      fill: #D2E3FC;\n",
              "    }\n",
              "\n",
              "    [theme=dark] .colab-df-convert:hover {\n",
              "      background-color: #434B5C;\n",
              "      box-shadow: 0px 1px 3px 1px rgba(0, 0, 0, 0.15);\n",
              "      filter: drop-shadow(0px 1px 2px rgba(0, 0, 0, 0.3));\n",
              "      fill: #FFFFFF;\n",
              "    }\n",
              "  </style>\n",
              "\n",
              "      <script>\n",
              "        const buttonEl =\n",
              "          document.querySelector('#df-bc13d124-44d7-47aa-a8e2-0738b3da8165 button.colab-df-convert');\n",
              "        buttonEl.style.display =\n",
              "          google.colab.kernel.accessAllowed ? 'block' : 'none';\n",
              "\n",
              "        async function convertToInteractive(key) {\n",
              "          const element = document.querySelector('#df-bc13d124-44d7-47aa-a8e2-0738b3da8165');\n",
              "          const dataTable =\n",
              "            await google.colab.kernel.invokeFunction('convertToInteractive',\n",
              "                                                     [key], {});\n",
              "          if (!dataTable) return;\n",
              "\n",
              "          const docLinkHtml = 'Like what you see? Visit the ' +\n",
              "            '<a target=\"_blank\" href=https://colab.research.google.com/notebooks/data_table.ipynb>data table notebook</a>'\n",
              "            + ' to learn more about interactive tables.';\n",
              "          element.innerHTML = '';\n",
              "          dataTable['output_type'] = 'display_data';\n",
              "          await google.colab.output.renderOutput(dataTable, element);\n",
              "          const docLink = document.createElement('div');\n",
              "          docLink.innerHTML = docLinkHtml;\n",
              "          element.appendChild(docLink);\n",
              "        }\n",
              "      </script>\n",
              "    </div>\n",
              "  </div>\n",
              "  "
            ],
            "text/plain": [
              "                     event_time\n",
              "0     2020-09-24 13:46:10+00:00\n",
              "1     2020-09-24 13:56:06+00:00\n",
              "2     2020-09-24 14:44:47+00:00\n",
              "3     2020-09-24 17:24:34+00:00\n",
              "4     2020-09-24 18:13:30+00:00\n",
              "...                         ...\n",
              "2417  2021-02-28 19:22:30+00:00\n",
              "2418  2021-02-28 20:56:47+00:00\n",
              "2419  2021-02-28 21:02:58+00:00\n",
              "2420  2021-02-28 22:06:32+00:00\n",
              "2421  2021-02-28 22:36:26+00:00\n",
              "\n",
              "[2422 rows x 1 columns]"
            ]
          },
          "metadata": {},
          "execution_count": 54
        }
      ]
    },
    {
      "cell_type": "code",
      "source": [
        ""
      ],
      "metadata": {
        "id": "b2tVSjx1HMwv"
      },
      "execution_count": null,
      "outputs": []
    },
    {
      "cell_type": "code",
      "source": [
        ""
      ],
      "metadata": {
        "id": "0SpiOp-nJ1mR"
      },
      "execution_count": null,
      "outputs": []
    }
  ]
}